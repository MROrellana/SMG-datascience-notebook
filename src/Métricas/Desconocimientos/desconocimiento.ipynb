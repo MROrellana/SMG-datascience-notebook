{
 "cells": [
  {
   "cell_type": "markdown",
   "metadata": {},
   "source": [
    "## Métrica desconocimiento"
   ]
  },
  {
   "cell_type": "code",
   "execution_count": 1,
   "metadata": {},
   "outputs": [],
   "source": [
    "from dbconn import querydb, querydbtopandas \n",
    "import pandas as pd "
   ]
  },
  {
   "cell_type": "code",
   "execution_count": 2,
   "metadata": {},
   "outputs": [],
   "source": [
    "#preguntar a que se refiere con id_tipo en encuestas\n",
    "#preguntar xq tenemos prestador, efector, demandante "
   ]
  },
  {
   "cell_type": "code",
   "execution_count": 17,
   "metadata": {},
   "outputs": [],
   "source": [
    "\n",
    "df_enc = querydbtopandas(\"\"\"select top 10 * from  DBA.ft_prest_encuestas  \"\"\")"
   ]
  },
  {
   "cell_type": "code",
   "execution_count": 19,
   "metadata": {},
   "outputs": [
    {
     "data": {
      "text/plain": [
       "Index(['id_encuesta', 'id_tie_mes_e', 'fec_encuesta', 'id_tie_mes_c',\n",
       "       'fec_consumo', 'id_afiliado', 'id_medio', 'id_tipo', 'id_moti_desconoc',\n",
       "       'id_transac', 'id_transac_tipo', 'id_transac_canal',\n",
       "       'id_exp_expediente', 'id_ofi', 'id_rece', 'id_farma', 'id_produ',\n",
       "       'id_prestador', 'id_emp_empresa', 'id_prest_efector',\n",
       "       'id_prest_demandante', 'id_prest_prestacion', 'i_valor', 'i_dif_dias',\n",
       "       'i_CNT_resp', 'i_CNT_desc', 'i_CNT', 'flg_origen'],\n",
       "      dtype='object')"
      ]
     },
     "execution_count": 19,
     "metadata": {},
     "output_type": "execute_result"
    }
   ],
   "source": [
    "df_enc.columns"
   ]
  },
  {
   "cell_type": "code",
   "execution_count": 3,
   "metadata": {},
   "outputs": [],
   "source": [
    "mayor = \"2019-12\"\n",
    "menor = \"2019-10\""
   ]
  },
  {
   "cell_type": "code",
   "execution_count": 44,
   "metadata": {},
   "outputs": [],
   "source": [
    "df = querydbtopandas(f\"\"\"select    a11.id_encuesta  id_encuesta,\n",
    "                \n",
    "                a13.id_pre_tipo,\n",
    "\n",
    "\n",
    "                a11.id_afiliado  id_afi_afiliado,\n",
    "\n",
    "                a11.id_prestador  id_pre_prestador,\n",
    "\n",
    "                max(a13.desc_pre_nombre)  desc_pre_nombre,\n",
    "\n",
    "                max(a13.vigente)  vigente,\n",
    "\n",
    "                a11.id_transac_tipo  id_transac_tipo,\n",
    "\n",
    "                a11.id_prest_demandante  id_prest_demandante,\n",
    "\n",
    "                max(a16.desc_pre_nombre)  desc_pre_nombre_demandante,\n",
    "\n",
    "                a11.id_prest_prestacion  id_pres_prestacion,\n",
    "\n",
    "                max(a18.desc_pres_prestacion)  desc_pres_prestacion,\n",
    "\n",
    "                max(a18.prestac_pres_prestacion)  prestac_pres_prestacion,\n",
    "\n",
    "                sum(distinct a11.i_CNT_desc)  QDESCONOCIDAS\n",
    "\n",
    "from      DBA.ft_prest_encuestas              a11\n",
    "\n",
    "                join        DBA.d_pre_prestador   a13\n",
    "\n",
    "                  on        (a11.id_prestador = a13.id_pre_prestador)\n",
    "\n",
    "                join        DBA.d_pre_prestador_demandante  a16\n",
    "\n",
    "                  on        (a11.id_prest_demandante = a16.id_pre_prestador)\n",
    "\n",
    "                join        DBA.d_pres_prestacion a18\n",
    "\n",
    "                  on        (a11.id_prest_prestacion = a18.id_pres_prestacion)\n",
    "\n",
    "\n",
    "where (cast(a11.fec_encuesta as date) >= date(\"{menor}\") and cast(a11.fec_encuesta as date) < date(\"{mayor}\")\n",
    "\n",
    "and a11.id_moti_desconoc <> 1)\n",
    "\n",
    "group by             a11.id_encuesta,\n",
    "\n",
    "                    a13.id_pre_tipo,\n",
    "\n",
    "                a11.id_afiliado,\n",
    "\n",
    "                a11.id_prestador,\n",
    "                \n",
    "                a11.id_prest_demandante,\n",
    "                \n",
    "                 a16.id_pre_prestador, \n",
    "\n",
    "                a13.id_pre_especialidad,\n",
    "\n",
    "                a11.id_transac_tipo,\n",
    "\n",
    "                a11.id_prest_efector,\n",
    "\n",
    "                a11.id_prest_prestacion,\n",
    "\n",
    "                DATE(a11.fec_consumo),\n",
    "\n",
    "                a11.id_tie_mes_c\"\"\")"
   ]
  },
  {
   "cell_type": "code",
   "execution_count": 45,
   "metadata": {},
   "outputs": [
    {
     "data": {
      "text/plain": [
       "Index(['id_encuesta', 'id_pre_tipo', 'id_afi_afiliado', 'id_pre_prestador',\n",
       "       'desc_pre_nombre', 'vigente', 'id_transac_tipo', 'id_prest_demandante',\n",
       "       'desc_pre_nombre_demandante', 'id_pres_prestacion',\n",
       "       'desc_pres_prestacion', 'prestac_pres_prestacion', 'QDESCONOCIDAS'],\n",
       "      dtype='object')"
      ]
     },
     "execution_count": 45,
     "metadata": {},
     "output_type": "execute_result"
    }
   ],
   "source": [
    "df.columns"
   ]
  },
  {
   "cell_type": "code",
   "execution_count": 46,
   "metadata": {},
   "outputs": [],
   "source": [
    "clinicas_propias_id = [1632,1763,2086,26564,55060 ,64677,75470,78363 ,85316,85401 ,99785 ,118209 ,122803,135464 ,182730,187243 ,196559 ,196561 ,206939 ,210252 ,211421, 213729 ,217747 ,226756,235779,240895] \n",
    "cma = df[df[\"id_pre_prestador\"].isin(clinicas_propias_id)][[\"id_pre_prestador\", \"desc_pre_nombre\"]].rename(columns={\"desc_pre_nombre\": \"cma\"})\n",
    "df = pd.merge(df, cma, how=\"outer\").fillna(\"No aplica\")"
   ]
  },
  {
   "cell_type": "code",
   "execution_count": 47,
   "metadata": {},
   "outputs": [],
   "source": [
    "propios = df.cma.value_counts().index[1:]"
   ]
  },
  {
   "cell_type": "code",
   "execution_count": 48,
   "metadata": {},
   "outputs": [
    {
     "data": {
      "text/plain": [
       "Index(['id_encuesta', 'id_pre_tipo', 'id_afi_afiliado', 'id_pre_prestador',\n",
       "       'desc_pre_nombre', 'vigente', 'id_transac_tipo', 'id_prest_demandante',\n",
       "       'desc_pre_nombre_demandante', 'id_pres_prestacion',\n",
       "       'desc_pres_prestacion', 'prestac_pres_prestacion', 'QDESCONOCIDAS',\n",
       "       'cma'],\n",
       "      dtype='object')"
      ]
     },
     "execution_count": 48,
     "metadata": {},
     "output_type": "execute_result"
    }
   ],
   "source": [
    "df.columns"
   ]
  },
  {
   "cell_type": "code",
   "execution_count": 51,
   "metadata": {},
   "outputs": [],
   "source": [
    "df_part_equipos = df[df[\"id_pre_tipo\"].isin([\"P\",\"E\"])][[\"id_encuesta\", \"id_afi_afiliado\", \"id_pre_prestador\", \"desc_pre_nombre\", \"cma\" ]]\n",
    "df_inst_circ = df[df[\"id_pre_tipo\"].isin([\"I\",\"C\"])][[\"id_encuesta\",\"id_afi_afiliado\", \"id_prest_demandante\", \"desc_pre_nombre_demandante\",\"cma\"]]\n",
    "df_inst_circ.rename(columns={\"id_prest_demandante\": \"id_pre_prestador\", \"desc_pre_nombre_demandante\":\"desc_pre_nombre\"},inplace=True)"
   ]
  },
  {
   "cell_type": "code",
   "execution_count": 52,
   "metadata": {},
   "outputs": [],
   "source": [
    "df = pd.concat([df_part_equipos, df_inst_circ])"
   ]
  },
  {
   "cell_type": "code",
   "execution_count": 53,
   "metadata": {},
   "outputs": [
    {
     "data": {
      "text/html": [
       "<div>\n",
       "<style scoped>\n",
       "    .dataframe tbody tr th:only-of-type {\n",
       "        vertical-align: middle;\n",
       "    }\n",
       "\n",
       "    .dataframe tbody tr th {\n",
       "        vertical-align: top;\n",
       "    }\n",
       "\n",
       "    .dataframe thead th {\n",
       "        text-align: right;\n",
       "    }\n",
       "</style>\n",
       "<table border=\"1\" class=\"dataframe\">\n",
       "  <thead>\n",
       "    <tr style=\"text-align: right;\">\n",
       "      <th></th>\n",
       "      <th>id_encuesta</th>\n",
       "      <th>id_afi_afiliado</th>\n",
       "      <th>id_pre_prestador</th>\n",
       "      <th>desc_pre_nombre</th>\n",
       "      <th>cma</th>\n",
       "    </tr>\n",
       "  </thead>\n",
       "  <tbody>\n",
       "    <tr>\n",
       "      <th>460</th>\n",
       "      <td>568704</td>\n",
       "      <td>2905311</td>\n",
       "      <td>0</td>\n",
       "      <td>Sin Asignar</td>\n",
       "      <td>SWISS MEDICAL CENTER DE LOS ARCOS</td>\n",
       "    </tr>\n",
       "    <tr>\n",
       "      <th>461</th>\n",
       "      <td>568704</td>\n",
       "      <td>2905311</td>\n",
       "      <td>0</td>\n",
       "      <td>Sin Asignar</td>\n",
       "      <td>SWISS MEDICAL CENTER DE LOS ARCOS</td>\n",
       "    </tr>\n",
       "    <tr>\n",
       "      <th>462</th>\n",
       "      <td>568704</td>\n",
       "      <td>2905311</td>\n",
       "      <td>0</td>\n",
       "      <td>Sin Asignar</td>\n",
       "      <td>SWISS MEDICAL CENTER DE LOS ARCOS</td>\n",
       "    </tr>\n",
       "    <tr>\n",
       "      <th>463</th>\n",
       "      <td>568704</td>\n",
       "      <td>2905311</td>\n",
       "      <td>0</td>\n",
       "      <td>Sin Asignar</td>\n",
       "      <td>SWISS MEDICAL CENTER DE LOS ARCOS</td>\n",
       "    </tr>\n",
       "    <tr>\n",
       "      <th>464</th>\n",
       "      <td>568704</td>\n",
       "      <td>2905311</td>\n",
       "      <td>0</td>\n",
       "      <td>Sin Asignar</td>\n",
       "      <td>SWISS MEDICAL CENTER DE LOS ARCOS</td>\n",
       "    </tr>\n",
       "    <tr>\n",
       "      <th>...</th>\n",
       "      <td>...</td>\n",
       "      <td>...</td>\n",
       "      <td>...</td>\n",
       "      <td>...</td>\n",
       "      <td>...</td>\n",
       "    </tr>\n",
       "    <tr>\n",
       "      <th>4522</th>\n",
       "      <td>564822</td>\n",
       "      <td>2821431</td>\n",
       "      <td>243300</td>\n",
       "      <td>Sarochar,Sofía</td>\n",
       "      <td>SWISS MEDICAL CENTER ALMAGRO</td>\n",
       "    </tr>\n",
       "    <tr>\n",
       "      <th>4805</th>\n",
       "      <td>535280</td>\n",
       "      <td>2773419</td>\n",
       "      <td>249069</td>\n",
       "      <td>Salcedo,Anabel</td>\n",
       "      <td>SWISS MEDICAL CENTER BARRIO PARQUE</td>\n",
       "    </tr>\n",
       "    <tr>\n",
       "      <th>4806</th>\n",
       "      <td>535280</td>\n",
       "      <td>2773419</td>\n",
       "      <td>249069</td>\n",
       "      <td>Salcedo,Anabel</td>\n",
       "      <td>SWISS MEDICAL CENTER BARRIO PARQUE</td>\n",
       "    </tr>\n",
       "    <tr>\n",
       "      <th>4807</th>\n",
       "      <td>576321</td>\n",
       "      <td>1642340</td>\n",
       "      <td>67880</td>\n",
       "      <td>Lynch,Enrique D.</td>\n",
       "      <td>SWISS MEDICAL CENTER BARRIO PARQUE</td>\n",
       "    </tr>\n",
       "    <tr>\n",
       "      <th>4808</th>\n",
       "      <td>576321</td>\n",
       "      <td>1642340</td>\n",
       "      <td>67880</td>\n",
       "      <td>Lynch,Enrique D.</td>\n",
       "      <td>SWISS MEDICAL CENTER BARRIO PARQUE</td>\n",
       "    </tr>\n",
       "  </tbody>\n",
       "</table>\n",
       "<p>2573 rows × 5 columns</p>\n",
       "</div>"
      ],
      "text/plain": [
       "      id_encuesta  id_afi_afiliado  id_pre_prestador   desc_pre_nombre  \\\n",
       "460        568704          2905311                 0       Sin Asignar   \n",
       "461        568704          2905311                 0       Sin Asignar   \n",
       "462        568704          2905311                 0       Sin Asignar   \n",
       "463        568704          2905311                 0       Sin Asignar   \n",
       "464        568704          2905311                 0       Sin Asignar   \n",
       "...           ...              ...               ...               ...   \n",
       "4522       564822          2821431            243300    Sarochar,Sofía   \n",
       "4805       535280          2773419            249069    Salcedo,Anabel   \n",
       "4806       535280          2773419            249069    Salcedo,Anabel   \n",
       "4807       576321          1642340             67880  Lynch,Enrique D.   \n",
       "4808       576321          1642340             67880  Lynch,Enrique D.   \n",
       "\n",
       "                                     cma  \n",
       "460    SWISS MEDICAL CENTER DE LOS ARCOS  \n",
       "461    SWISS MEDICAL CENTER DE LOS ARCOS  \n",
       "462    SWISS MEDICAL CENTER DE LOS ARCOS  \n",
       "463    SWISS MEDICAL CENTER DE LOS ARCOS  \n",
       "464    SWISS MEDICAL CENTER DE LOS ARCOS  \n",
       "...                                  ...  \n",
       "4522        SWISS MEDICAL CENTER ALMAGRO  \n",
       "4805  SWISS MEDICAL CENTER BARRIO PARQUE  \n",
       "4806  SWISS MEDICAL CENTER BARRIO PARQUE  \n",
       "4807  SWISS MEDICAL CENTER BARRIO PARQUE  \n",
       "4808  SWISS MEDICAL CENTER BARRIO PARQUE  \n",
       "\n",
       "[2573 rows x 5 columns]"
      ]
     },
     "execution_count": 53,
     "metadata": {},
     "output_type": "execute_result"
    }
   ],
   "source": [
    "df[df.cma.isin(propios)]"
   ]
  },
  {
   "cell_type": "code",
   "execution_count": 54,
   "metadata": {},
   "outputs": [],
   "source": [
    "df = df[df[\"id_pre_prestador\"] != 0]"
   ]
  },
  {
   "cell_type": "code",
   "execution_count": 55,
   "metadata": {},
   "outputs": [
    {
     "data": {
      "text/plain": [
       "No aplica                                           1191\n",
       "SWISS MEDICAL CENTER MICROCENTRO SEDE 25 DE MAYO     340\n",
       "SWISS MEDICAL CENTER BARRIO NORTE                    330\n",
       "SWISS MEDICAL CENTER MICROCENTRO SEDE SARMIENTO       25\n",
       "SWISS MEDICAL CENTER BERAZATEGUI                       9\n",
       "SWISS MEDICAL CENTER OLIVOS                            4\n",
       "SWISS MEDICAL CENTER BARRIO PARQUE                     4\n",
       "SWISS MEDICAL CENTER ALMAGRO                           1\n",
       "Name: cma, dtype: int64"
      ]
     },
     "execution_count": 55,
     "metadata": {},
     "output_type": "execute_result"
    }
   ],
   "source": [
    "df.cma.value_counts()"
   ]
  },
  {
   "cell_type": "code",
   "execution_count": 56,
   "metadata": {},
   "outputs": [
    {
     "data": {
      "text/plain": [
       "array(['No aplica', 'SWISS MEDICAL CENTER OLIVOS',\n",
       "       'SWISS MEDICAL CENTER MICROCENTRO SEDE 25 DE MAYO',\n",
       "       'SWISS MEDICAL CENTER BARRIO NORTE',\n",
       "       'SWISS MEDICAL CENTER MICROCENTRO SEDE SARMIENTO',\n",
       "       'SWISS MEDICAL CENTER BERAZATEGUI', 'SWISS MEDICAL CENTER ALMAGRO',\n",
       "       'SWISS MEDICAL CENTER BARRIO PARQUE'], dtype=object)"
      ]
     },
     "execution_count": 56,
     "metadata": {},
     "output_type": "execute_result"
    }
   ],
   "source": [
    "df.cma.unique()"
   ]
  },
  {
   "cell_type": "code",
   "execution_count": 57,
   "metadata": {},
   "outputs": [],
   "source": [
    "#count de encuestas\n",
    "encuestas_desconocidas = df.groupby([\"id_pre_prestador\",\"desc_pre_nombre\",\"cma\"])[\"id_encuesta\"].nunique()"
   ]
  },
  {
   "cell_type": "code",
   "execution_count": 58,
   "metadata": {},
   "outputs": [],
   "source": [
    "#count de afiliados\n",
    "afiliados_desconocidos = df.groupby([\"id_pre_prestador\",\"desc_pre_nombre\", \"cma\"])[\"id_afi_afiliado\"].nunique()"
   ]
  },
  {
   "cell_type": "code",
   "execution_count": 59,
   "metadata": {},
   "outputs": [],
   "source": [
    "df = pd.concat([encuestas_desconocidas, afiliados_desconocidos],axis=1).reset_index()"
   ]
  },
  {
   "cell_type": "code",
   "execution_count": 60,
   "metadata": {},
   "outputs": [],
   "source": [
    "df.rename(columns = {\"id_pre_prestador\":\"Prestador\",\n",
    "                     \"desc_pre_nombre\":\"Razón Social\",\n",
    "                     \"id_encuesta\":\"Q desconocidas\",\n",
    "                     \"id_afi_afiliado\":\"Q afiliados\"},inplace=True)"
   ]
  },
  {
   "cell_type": "code",
   "execution_count": 61,
   "metadata": {},
   "outputs": [],
   "source": [
    "final_1 = df"
   ]
  },
  {
   "cell_type": "code",
   "execution_count": 63,
   "metadata": {},
   "outputs": [],
   "source": [
    "oct_nov_desconociento_condemandantes = df.head(100)"
   ]
  },
  {
   "cell_type": "code",
   "execution_count": 64,
   "metadata": {},
   "outputs": [],
   "source": [
    "oct_nov_desconociento_condemandantes.to_excel(\"oct_nov_desconociento_condemandantes.xlsx\")"
   ]
  },
  {
   "cell_type": "code",
   "execution_count": 65,
   "metadata": {},
   "outputs": [
    {
     "data": {
      "text/html": [
       "<div>\n",
       "<style scoped>\n",
       "    .dataframe tbody tr th:only-of-type {\n",
       "        vertical-align: middle;\n",
       "    }\n",
       "\n",
       "    .dataframe tbody tr th {\n",
       "        vertical-align: top;\n",
       "    }\n",
       "\n",
       "    .dataframe thead th {\n",
       "        text-align: right;\n",
       "    }\n",
       "</style>\n",
       "<table border=\"1\" class=\"dataframe\">\n",
       "  <thead>\n",
       "    <tr style=\"text-align: right;\">\n",
       "      <th></th>\n",
       "      <th>Prestador</th>\n",
       "      <th>Razón Social</th>\n",
       "      <th>cma</th>\n",
       "      <th>Q desconocidas</th>\n",
       "      <th>Q afiliados</th>\n",
       "    </tr>\n",
       "  </thead>\n",
       "  <tbody>\n",
       "    <tr>\n",
       "      <th>0</th>\n",
       "      <td>105</td>\n",
       "      <td>Cohen,Diego E.</td>\n",
       "      <td>No aplica</td>\n",
       "      <td>10</td>\n",
       "      <td>3</td>\n",
       "    </tr>\n",
       "    <tr>\n",
       "      <th>1</th>\n",
       "      <td>172</td>\n",
       "      <td>Pasqualini,Rodolfo S.</td>\n",
       "      <td>No aplica</td>\n",
       "      <td>2</td>\n",
       "      <td>2</td>\n",
       "    </tr>\n",
       "    <tr>\n",
       "      <th>2</th>\n",
       "      <td>232</td>\n",
       "      <td>Fioroni,Andrea P.</td>\n",
       "      <td>No aplica</td>\n",
       "      <td>1</td>\n",
       "      <td>1</td>\n",
       "    </tr>\n",
       "    <tr>\n",
       "      <th>3</th>\n",
       "      <td>292</td>\n",
       "      <td>Tejss de Acri,Cristina</td>\n",
       "      <td>No aplica</td>\n",
       "      <td>1</td>\n",
       "      <td>1</td>\n",
       "    </tr>\n",
       "    <tr>\n",
       "      <th>4</th>\n",
       "      <td>334</td>\n",
       "      <td>Barclay,Fernando E.</td>\n",
       "      <td>No aplica</td>\n",
       "      <td>1</td>\n",
       "      <td>1</td>\n",
       "    </tr>\n",
       "    <tr>\n",
       "      <th>...</th>\n",
       "      <td>...</td>\n",
       "      <td>...</td>\n",
       "      <td>...</td>\n",
       "      <td>...</td>\n",
       "      <td>...</td>\n",
       "    </tr>\n",
       "    <tr>\n",
       "      <th>95</th>\n",
       "      <td>31000</td>\n",
       "      <td>Gomez,Leonardo J.</td>\n",
       "      <td>No aplica</td>\n",
       "      <td>1</td>\n",
       "      <td>1</td>\n",
       "    </tr>\n",
       "    <tr>\n",
       "      <th>96</th>\n",
       "      <td>31077</td>\n",
       "      <td>Barcia,Ricardo E.</td>\n",
       "      <td>No aplica</td>\n",
       "      <td>1</td>\n",
       "      <td>1</td>\n",
       "    </tr>\n",
       "    <tr>\n",
       "      <th>97</th>\n",
       "      <td>31340</td>\n",
       "      <td>Franco,Fabio G.</td>\n",
       "      <td>No aplica</td>\n",
       "      <td>5</td>\n",
       "      <td>2</td>\n",
       "    </tr>\n",
       "    <tr>\n",
       "      <th>98</th>\n",
       "      <td>31463</td>\n",
       "      <td>Antebi de Sporn,Noemí E.</td>\n",
       "      <td>No aplica</td>\n",
       "      <td>1</td>\n",
       "      <td>1</td>\n",
       "    </tr>\n",
       "    <tr>\n",
       "      <th>99</th>\n",
       "      <td>32398</td>\n",
       "      <td>Wappner,Diego</td>\n",
       "      <td>No aplica</td>\n",
       "      <td>2</td>\n",
       "      <td>2</td>\n",
       "    </tr>\n",
       "  </tbody>\n",
       "</table>\n",
       "<p>100 rows × 5 columns</p>\n",
       "</div>"
      ],
      "text/plain": [
       "    Prestador              Razón Social        cma  Q desconocidas  \\\n",
       "0         105            Cohen,Diego E.  No aplica              10   \n",
       "1         172     Pasqualini,Rodolfo S.  No aplica               2   \n",
       "2         232         Fioroni,Andrea P.  No aplica               1   \n",
       "3         292    Tejss de Acri,Cristina  No aplica               1   \n",
       "4         334       Barclay,Fernando E.  No aplica               1   \n",
       "..        ...                       ...        ...             ...   \n",
       "95      31000         Gomez,Leonardo J.  No aplica               1   \n",
       "96      31077         Barcia,Ricardo E.  No aplica               1   \n",
       "97      31340           Franco,Fabio G.  No aplica               5   \n",
       "98      31463  Antebi de Sporn,Noemí E.  No aplica               1   \n",
       "99      32398             Wappner,Diego  No aplica               2   \n",
       "\n",
       "    Q afiliados  \n",
       "0             3  \n",
       "1             2  \n",
       "2             1  \n",
       "3             1  \n",
       "4             1  \n",
       "..          ...  \n",
       "95            1  \n",
       "96            1  \n",
       "97            2  \n",
       "98            1  \n",
       "99            2  \n",
       "\n",
       "[100 rows x 5 columns]"
      ]
     },
     "execution_count": 65,
     "metadata": {},
     "output_type": "execute_result"
    }
   ],
   "source": [
    "oct_nov_desconociento_condemandantes"
   ]
  },
  {
   "cell_type": "code",
   "execution_count": null,
   "metadata": {},
   "outputs": [],
   "source": []
  },
  {
   "cell_type": "code",
   "execution_count": null,
   "metadata": {},
   "outputs": [],
   "source": []
  },
  {
   "cell_type": "code",
   "execution_count": null,
   "metadata": {},
   "outputs": [],
   "source": []
  },
  {
   "cell_type": "code",
   "execution_count": null,
   "metadata": {},
   "outputs": [],
   "source": []
  },
  {
   "cell_type": "code",
   "execution_count": 216,
   "metadata": {},
   "outputs": [
    {
     "data": {
      "text/html": [
       "<div>\n",
       "<style scoped>\n",
       "    .dataframe tbody tr th:only-of-type {\n",
       "        vertical-align: middle;\n",
       "    }\n",
       "\n",
       "    .dataframe tbody tr th {\n",
       "        vertical-align: top;\n",
       "    }\n",
       "\n",
       "    .dataframe thead th {\n",
       "        text-align: right;\n",
       "    }\n",
       "</style>\n",
       "<table border=\"1\" class=\"dataframe\">\n",
       "  <thead>\n",
       "    <tr style=\"text-align: right;\">\n",
       "      <th></th>\n",
       "      <th>Prestador</th>\n",
       "      <th>Razón Social</th>\n",
       "      <th>cma</th>\n",
       "      <th>Q desconocidas</th>\n",
       "      <th>Q afiliados</th>\n",
       "    </tr>\n",
       "  </thead>\n",
       "  <tbody>\n",
       "    <tr>\n",
       "      <th>0</th>\n",
       "      <td>105</td>\n",
       "      <td>Cohen,Diego E.</td>\n",
       "      <td>No aplica</td>\n",
       "      <td>9</td>\n",
       "      <td>2</td>\n",
       "    </tr>\n",
       "    <tr>\n",
       "      <th>1</th>\n",
       "      <td>172</td>\n",
       "      <td>Pasqualini,Rodolfo S.</td>\n",
       "      <td>No aplica</td>\n",
       "      <td>1</td>\n",
       "      <td>1</td>\n",
       "    </tr>\n",
       "    <tr>\n",
       "      <th>2</th>\n",
       "      <td>432</td>\n",
       "      <td>Juarez Goñi,Francisco</td>\n",
       "      <td>No aplica</td>\n",
       "      <td>1</td>\n",
       "      <td>1</td>\n",
       "    </tr>\n",
       "    <tr>\n",
       "      <th>3</th>\n",
       "      <td>529</td>\n",
       "      <td>Schvartzman,Javier A.</td>\n",
       "      <td>No aplica</td>\n",
       "      <td>1</td>\n",
       "      <td>1</td>\n",
       "    </tr>\n",
       "    <tr>\n",
       "      <th>4</th>\n",
       "      <td>636</td>\n",
       "      <td>Cahué,Jorge</td>\n",
       "      <td>No aplica</td>\n",
       "      <td>2</td>\n",
       "      <td>1</td>\n",
       "    </tr>\n",
       "    <tr>\n",
       "      <th>...</th>\n",
       "      <td>...</td>\n",
       "      <td>...</td>\n",
       "      <td>...</td>\n",
       "      <td>...</td>\n",
       "      <td>...</td>\n",
       "    </tr>\n",
       "    <tr>\n",
       "      <th>211</th>\n",
       "      <td>215973</td>\n",
       "      <td>Davin,Florencia</td>\n",
       "      <td>No aplica</td>\n",
       "      <td>1</td>\n",
       "      <td>1</td>\n",
       "    </tr>\n",
       "    <tr>\n",
       "      <th>212</th>\n",
       "      <td>219030</td>\n",
       "      <td>Tagliabue,Marcela</td>\n",
       "      <td>No aplica</td>\n",
       "      <td>1</td>\n",
       "      <td>1</td>\n",
       "    </tr>\n",
       "    <tr>\n",
       "      <th>213</th>\n",
       "      <td>219373</td>\n",
       "      <td>Striebeck,Miranda E.</td>\n",
       "      <td>No aplica</td>\n",
       "      <td>1</td>\n",
       "      <td>1</td>\n",
       "    </tr>\n",
       "    <tr>\n",
       "      <th>214</th>\n",
       "      <td>238913</td>\n",
       "      <td>Rueda,Adriana S.</td>\n",
       "      <td>No aplica</td>\n",
       "      <td>2</td>\n",
       "      <td>1</td>\n",
       "    </tr>\n",
       "    <tr>\n",
       "      <th>215</th>\n",
       "      <td>248604</td>\n",
       "      <td>Ramirez,Luis Gabriel</td>\n",
       "      <td>No aplica</td>\n",
       "      <td>1</td>\n",
       "      <td>1</td>\n",
       "    </tr>\n",
       "  </tbody>\n",
       "</table>\n",
       "<p>216 rows × 5 columns</p>\n",
       "</div>"
      ],
      "text/plain": [
       "     Prestador           Razón Social        cma  Q desconocidas  Q afiliados\n",
       "0          105         Cohen,Diego E.  No aplica               9            2\n",
       "1          172  Pasqualini,Rodolfo S.  No aplica               1            1\n",
       "2          432  Juarez Goñi,Francisco  No aplica               1            1\n",
       "3          529  Schvartzman,Javier A.  No aplica               1            1\n",
       "4          636            Cahué,Jorge  No aplica               2            1\n",
       "..         ...                    ...        ...             ...          ...\n",
       "211     215973        Davin,Florencia  No aplica               1            1\n",
       "212     219030      Tagliabue,Marcela  No aplica               1            1\n",
       "213     219373   Striebeck,Miranda E.  No aplica               1            1\n",
       "214     238913       Rueda,Adriana S.  No aplica               2            1\n",
       "215     248604   Ramirez,Luis Gabriel  No aplica               1            1\n",
       "\n",
       "[216 rows x 5 columns]"
      ]
     },
     "execution_count": 216,
     "metadata": {},
     "output_type": "execute_result"
    }
   ],
   "source": [
    "final_1"
   ]
  },
  {
   "cell_type": "code",
   "execution_count": null,
   "metadata": {},
   "outputs": [],
   "source": []
  }
 ],
 "metadata": {
  "kernelspec": {
   "display_name": "Python 3",
   "language": "python",
   "name": "python3"
  },
  "language_info": {
   "codemirror_mode": {
    "name": "ipython",
    "version": 3
   },
   "file_extension": ".py",
   "mimetype": "text/x-python",
   "name": "python",
   "nbconvert_exporter": "python",
   "pygments_lexer": "ipython3",
   "version": "3.7.6"
  }
 },
 "nbformat": 4,
 "nbformat_minor": 4
}
