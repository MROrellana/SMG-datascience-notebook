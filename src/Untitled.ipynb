{
 "cells": [
  {
   "cell_type": "code",
   "execution_count": 61,
   "metadata": {},
   "outputs": [],
   "source": [
    "menor = str(datetime.datetime.today() - datetime.timedelta(days=105))[:10]\n",
    "mayor = str(datetime.datetime.today() - datetime.timedelta(days=74))[:10]"
   ]
  },
  {
   "cell_type": "code",
   "execution_count": 62,
   "metadata": {},
   "outputs": [
    {
     "data": {
      "text/plain": [
       "'2020-01-13'"
      ]
     },
     "execution_count": 62,
     "metadata": {},
     "output_type": "execute_result"
    }
   ],
   "source": [
    "menor"
   ]
  },
  {
   "cell_type": "code",
   "execution_count": 63,
   "metadata": {},
   "outputs": [
    {
     "data": {
      "text/plain": [
       "'2020-02-13'"
      ]
     },
     "execution_count": 63,
     "metadata": {},
     "output_type": "execute_result"
    }
   ],
   "source": [
    "mayor"
   ]
  },
  {
   "cell_type": "code",
   "execution_count": 78,
   "metadata": {},
   "outputs": [
    {
     "data": {
      "text/plain": [
       "'March'"
      ]
     },
     "execution_count": 78,
     "metadata": {},
     "output_type": "execute_result"
    }
   ],
   "source": [
    "calendar.month_name[(datetime.datetime.today().month)-1]"
   ]
  },
  {
   "cell_type": "code",
   "execution_count": 47,
   "metadata": {},
   "outputs": [],
   "source": [
    "import datetime"
   ]
  },
  {
   "cell_type": "code",
   "execution_count": 49,
   "metadata": {},
   "outputs": [
    {
     "data": {
      "text/plain": [
       "datetime.datetime(2020, 4, 15, 0, 0)"
      ]
     },
     "execution_count": 49,
     "metadata": {},
     "output_type": "execute_result"
    }
   ],
   "source": [
    "datetime.datetime.strptime(\"2020-04-15\", \"%Y-%m-%d\")"
   ]
  },
  {
   "cell_type": "code",
   "execution_count": 64,
   "metadata": {},
   "outputs": [],
   "source": [
    "#for i,j in zip([105,285],[mes,acumulado]):\n",
    "menor = str(datetime.datetime.strptime(\"2020-04-15\", \"%Y-%m-%d\") - datetime.timedelta(days=105))[:10]\n",
    "mayor = str(datetime.datetime.strptime(\"2020-04-15\", \"%Y-%m-%d\") - datetime.timedelta(days=74))[:10]"
   ]
  },
  {
   "cell_type": "code",
   "execution_count": 75,
   "metadata": {},
   "outputs": [],
   "source": [
    "mes = calendar.month_name[(datetime.datetime.today() - datetime.timedelta(days=105)).month]"
   ]
  },
  {
   "cell_type": "code",
   "execution_count": 76,
   "metadata": {},
   "outputs": [
    {
     "data": {
      "text/plain": [
       "'January'"
      ]
     },
     "execution_count": 76,
     "metadata": {},
     "output_type": "execute_result"
    }
   ],
   "source": [
    "mes"
   ]
  },
  {
   "cell_type": "code",
   "execution_count": 71,
   "metadata": {},
   "outputs": [],
   "source": [
    "menor = str(datetime.datetime.strptime(\"2020-04-15\", \"%Y-%m-%d\") - datetime.timedelta(days=135))[:10]\n",
    "\n",
    "mayor =str(datetime.datetime.strptime(\"2020-04-15\", \"%Y-%m-%d\") - datetime.timedelta(days=104))[:10]"
   ]
  },
  {
   "cell_type": "code",
   "execution_count": 72,
   "metadata": {},
   "outputs": [
    {
     "data": {
      "text/plain": [
       "'2019-12-02'"
      ]
     },
     "execution_count": 72,
     "metadata": {},
     "output_type": "execute_result"
    }
   ],
   "source": [
    "menor"
   ]
  },
  {
   "cell_type": "code",
   "execution_count": 73,
   "metadata": {},
   "outputs": [
    {
     "data": {
      "text/plain": [
       "'2020-01-02'"
      ]
     },
     "execution_count": 73,
     "metadata": {},
     "output_type": "execute_result"
    }
   ],
   "source": [
    "mayor"
   ]
  },
  {
   "cell_type": "code",
   "execution_count": null,
   "metadata": {},
   "outputs": [],
   "source": []
  },
  {
   "cell_type": "code",
   "execution_count": null,
   "metadata": {},
   "outputs": [],
   "source": []
  },
  {
   "cell_type": "code",
   "execution_count": null,
   "metadata": {},
   "outputs": [],
   "source": [
    "for i,j in zip([30,182],[mes,acumulado]):\n",
    "    #determina fecha hoy\n",
    "   "
   ]
  },
  {
   "cell_type": "code",
   "execution_count": 4,
   "metadata": {},
   "outputs": [],
   "source": [
    "import datetime"
   ]
  },
  {
   "cell_type": "code",
   "execution_count": 42,
   "metadata": {},
   "outputs": [
    {
     "data": {
      "text/plain": [
       "datetime.datetime(2020, 4, 27, 18, 16, 28, 496608)"
      ]
     },
     "execution_count": 42,
     "metadata": {},
     "output_type": "execute_result"
    }
   ],
   "source": [
    "datetime.datetime.today()"
   ]
  },
  {
   "cell_type": "code",
   "execution_count": 39,
   "metadata": {},
   "outputs": [],
   "source": [
    "menor = str(datetime.datetime.today() - datetime.timedelta(days=105))[:10]\n",
    "    #determina fecha un mes o 6 meses atras\n",
    "mayor = str(datetime.datetime.today() - datetime.timedelta(days=75))[:10]"
   ]
  },
  {
   "cell_type": "code",
   "execution_count": 40,
   "metadata": {},
   "outputs": [
    {
     "data": {
      "text/plain": [
       "'2020-02-12'"
      ]
     },
     "execution_count": 40,
     "metadata": {},
     "output_type": "execute_result"
    }
   ],
   "source": [
    "mayor"
   ]
  },
  {
   "cell_type": "code",
   "execution_count": 41,
   "metadata": {},
   "outputs": [
    {
     "data": {
      "text/plain": [
       "'2020-01-13'"
      ]
     },
     "execution_count": 41,
     "metadata": {},
     "output_type": "execute_result"
    }
   ],
   "source": [
    "menor"
   ]
  },
  {
   "cell_type": "code",
   "execution_count": 25,
   "metadata": {},
   "outputs": [],
   "source": [
    "month = (datetime.datetime.today() - datetime.timedelta(days=105)).month"
   ]
  },
  {
   "cell_type": "code",
   "execution_count": 26,
   "metadata": {},
   "outputs": [],
   "source": [
    "year = (datetime.datetime.today() - datetime.timedelta(days=105)).year"
   ]
  },
  {
   "cell_type": "code",
   "execution_count": 27,
   "metadata": {},
   "outputs": [
    {
     "data": {
      "text/plain": [
       "2020"
      ]
     },
     "execution_count": 27,
     "metadata": {},
     "output_type": "execute_result"
    }
   ],
   "source": [
    "year"
   ]
  },
  {
   "cell_type": "code",
   "execution_count": 32,
   "metadata": {},
   "outputs": [],
   "source": [
    "menor = f'{year}-0{month}-01'"
   ]
  },
  {
   "cell_type": "code",
   "execution_count": 33,
   "metadata": {},
   "outputs": [
    {
     "data": {
      "text/plain": [
       "'2020-01-01'"
      ]
     },
     "execution_count": 33,
     "metadata": {},
     "output_type": "execute_result"
    }
   ],
   "source": [
    "menor"
   ]
  },
  {
   "cell_type": "code",
   "execution_count": 36,
   "metadata": {},
   "outputs": [],
   "source": [
    "from datetime import time"
   ]
  },
  {
   "cell_type": "code",
   "execution_count": 38,
   "metadata": {},
   "outputs": [
    {
     "ename": "AttributeError",
     "evalue": "type object 'datetime.time' has no attribute 'strptime'",
     "output_type": "error",
     "traceback": [
      "\u001b[0;31m---------------------------------------------------------------------------\u001b[0m",
      "\u001b[0;31mAttributeError\u001b[0m                            Traceback (most recent call last)",
      "\u001b[0;32m<ipython-input-38-52a9e58dabbd>\u001b[0m in \u001b[0;36m<module>\u001b[0;34m\u001b[0m\n\u001b[0;32m----> 1\u001b[0;31m \u001b[0mdatetime\u001b[0m\u001b[0;34m.\u001b[0m\u001b[0mtime\u001b[0m\u001b[0;34m.\u001b[0m\u001b[0mstrptime\u001b[0m\u001b[0;34m(\u001b[0m\u001b[0mmenor\u001b[0m\u001b[0;34m)\u001b[0m\u001b[0;34m\u001b[0m\u001b[0;34m\u001b[0m\u001b[0m\n\u001b[0m",
      "\u001b[0;31mAttributeError\u001b[0m: type object 'datetime.time' has no attribute 'strptime'"
     ]
    }
   ],
   "source": [
    "datetime.time.strptime(menor)"
   ]
  },
  {
   "cell_type": "code",
   "execution_count": null,
   "metadata": {},
   "outputs": [],
   "source": [
    "mayor = "
   ]
  },
  {
   "cell_type": "code",
   "execution_count": 15,
   "metadata": {},
   "outputs": [],
   "source": [
    "import calendar"
   ]
  },
  {
   "cell_type": "code",
   "execution_count": null,
   "metadata": {},
   "outputs": [],
   "source": [
    "mes = calendar.month_name[((datetime.datetime.today() - datetime.timedelta(days=75)).month"
   ]
  },
  {
   "cell_type": "code",
   "execution_count": 16,
   "metadata": {},
   "outputs": [],
   "source": [
    "mes = calendar.month_name[(datetime.datetime.today() - datetime.timedelta(days=75)).month]"
   ]
  },
  {
   "cell_type": "code",
   "execution_count": null,
   "metadata": {},
   "outputs": [],
   "source": []
  },
  {
   "cell_type": "code",
   "execution_count": 17,
   "metadata": {},
   "outputs": [
    {
     "data": {
      "text/plain": [
       "'February'"
      ]
     },
     "execution_count": 17,
     "metadata": {},
     "output_type": "execute_result"
    }
   ],
   "source": [
    "mes"
   ]
  },
  {
   "cell_type": "code",
   "execution_count": 3,
   "metadata": {},
   "outputs": [],
   "source": [
    "import jupyterlab_dash\n",
    "import dash\n",
    "import dash_html_components as html\n",
    "\n",
    "viewer = jupyterlab_dash.AppViewer()\n",
    "\n",
    "app = dash.Dash(__name__)\n",
    "\n",
    "app.layout = html.Div('Hello World')"
   ]
  },
  {
   "cell_type": "code",
   "execution_count": 5,
   "metadata": {},
   "outputs": [],
   "source": [
    "viewer.show(app)"
   ]
  },
  {
   "cell_type": "code",
   "execution_count": null,
   "metadata": {},
   "outputs": [],
   "source": []
  },
  {
   "cell_type": "code",
   "execution_count": null,
   "metadata": {},
   "outputs": [],
   "source": []
  },
  {
   "cell_type": "code",
   "execution_count": null,
   "metadata": {},
   "outputs": [],
   "source": []
  },
  {
   "cell_type": "code",
   "execution_count": 8,
   "metadata": {},
   "outputs": [
    {
     "name": "stdout",
     "output_type": "stream",
     "text": [
      "Collecting jupyter_plotly_dash\n",
      "  Downloading jupyter_plotly_dash-0.4.2-py3-none-any.whl (29 kB)\n",
      "Collecting nbserverproxy\n",
      "  Downloading nbserverproxy-0.8.8-py3-none-any.whl (7.5 kB)\n",
      "Collecting jupyter\n",
      "  Downloading jupyter-1.0.0-py2.py3-none-any.whl (2.7 kB)\n",
      "Collecting django-plotly-dash\n",
      "  Downloading django_plotly_dash-1.1.5-py3-none-any.whl (43 kB)\n",
      "\u001b[K     |████████████████████████████████| 43 kB 4.2 MB/s  eta 0:00:01\n",
      "\u001b[?25hCollecting dpd-static-support\n",
      "  Downloading dpd_static_support-0.0.5-py3-none-any.whl (509 kB)\n",
      "\u001b[K     |████████████████████████████████| 509 kB 33.1 MB/s eta 0:00:01\n",
      "\u001b[?25hCollecting dpd-components\n",
      "  Downloading dpd_components-0.1.0.tar.gz (4.3 kB)\n",
      "Collecting django-bootstrap4\n",
      "  Downloading django_bootstrap4-1.1.1-py3-none-any.whl (26 kB)\n",
      "Requirement already satisfied: aiohttp in /opt/conda/lib/python3.7/site-packages (from jupyter_plotly_dash) (3.6.2)\n",
      "Requirement already satisfied: notebook in /opt/conda/lib/python3.7/site-packages (from nbserverproxy->jupyter_plotly_dash) (6.0.3)\n",
      "Requirement already satisfied: nbconvert in /opt/conda/lib/python3.7/site-packages (from jupyter->jupyter_plotly_dash) (5.6.1)\n",
      "Collecting jupyter-console\n",
      "  Downloading jupyter_console-6.1.0-py2.py3-none-any.whl (21 kB)\n",
      "Requirement already satisfied: ipykernel in /opt/conda/lib/python3.7/site-packages (from jupyter->jupyter_plotly_dash) (5.1.4)\n",
      "Collecting qtconsole\n",
      "  Downloading qtconsole-4.6.0-py2.py3-none-any.whl (121 kB)\n",
      "\u001b[K     |████████████████████████████████| 121 kB 34.2 MB/s eta 0:00:01\n",
      "\u001b[?25hRequirement already satisfied: ipywidgets in /opt/conda/lib/python3.7/site-packages (from jupyter->jupyter_plotly_dash) (7.5.1)\n",
      "Requirement already satisfied: dash-core-components in /opt/conda/lib/python3.7/site-packages (from django-plotly-dash->jupyter_plotly_dash) (1.7.0)\n",
      "Requirement already satisfied: dash in /opt/conda/lib/python3.7/site-packages (from django-plotly-dash->jupyter_plotly_dash) (1.8.0)\n",
      "Requirement already satisfied: plotly in /opt/conda/lib/python3.7/site-packages (from django-plotly-dash->jupyter_plotly_dash) (4.5.2)\n",
      "Requirement already satisfied: dash-renderer in /opt/conda/lib/python3.7/site-packages (from django-plotly-dash->jupyter_plotly_dash) (1.2.3)\n",
      "Requirement already satisfied: dash-html-components in /opt/conda/lib/python3.7/site-packages (from django-plotly-dash->jupyter_plotly_dash) (1.0.2)\n",
      "Collecting Django>=2\n",
      "  Downloading Django-3.0.3-py3-none-any.whl (7.5 MB)\n",
      "\u001b[K     |████████████████████████████████| 7.5 MB 44.0 MB/s eta 0:00:01     |█████                           | 1.2 MB 44.0 MB/s eta 0:00:01\n",
      "\u001b[?25hRequirement already satisfied: Flask>=1.0.2 in /opt/conda/lib/python3.7/site-packages (from django-plotly-dash->jupyter_plotly_dash) (1.1.1)\n",
      "Requirement already satisfied: beautifulsoup4 in /opt/conda/lib/python3.7/site-packages (from django-bootstrap4->jupyter_plotly_dash) (4.8.2)\n",
      "Requirement already satisfied: multidict<5.0,>=4.5 in /opt/conda/lib/python3.7/site-packages (from aiohttp->jupyter_plotly_dash) (4.7.5)\n",
      "Requirement already satisfied: async-timeout<4.0,>=3.0 in /opt/conda/lib/python3.7/site-packages (from aiohttp->jupyter_plotly_dash) (3.0.1)\n",
      "Requirement already satisfied: yarl<2.0,>=1.0 in /opt/conda/lib/python3.7/site-packages (from aiohttp->jupyter_plotly_dash) (1.3.0)\n",
      "Requirement already satisfied: chardet<4.0,>=2.0 in /opt/conda/lib/python3.7/site-packages (from aiohttp->jupyter_plotly_dash) (3.0.4)\n",
      "Requirement already satisfied: attrs>=17.3.0 in /opt/conda/lib/python3.7/site-packages (from aiohttp->jupyter_plotly_dash) (19.3.0)\n",
      "Requirement already satisfied: Send2Trash in /opt/conda/lib/python3.7/site-packages (from notebook->nbserverproxy->jupyter_plotly_dash) (1.5.0)\n",
      "Requirement already satisfied: pyzmq>=17 in /opt/conda/lib/python3.7/site-packages (from notebook->nbserverproxy->jupyter_plotly_dash) (19.0.0)\n",
      "Requirement already satisfied: jupyter-client>=5.3.4 in /opt/conda/lib/python3.7/site-packages (from notebook->nbserverproxy->jupyter_plotly_dash) (6.0.0)\n",
      "Requirement already satisfied: tornado>=5.0 in /opt/conda/lib/python3.7/site-packages (from notebook->nbserverproxy->jupyter_plotly_dash) (6.0.3)\n",
      "Requirement already satisfied: prometheus-client in /opt/conda/lib/python3.7/site-packages (from notebook->nbserverproxy->jupyter_plotly_dash) (0.7.1)\n",
      "Requirement already satisfied: jinja2 in /opt/conda/lib/python3.7/site-packages (from notebook->nbserverproxy->jupyter_plotly_dash) (2.11.1)\n",
      "Requirement already satisfied: jupyter-core>=4.6.1 in /opt/conda/lib/python3.7/site-packages (from notebook->nbserverproxy->jupyter_plotly_dash) (4.6.3)\n",
      "Requirement already satisfied: terminado>=0.8.1 in /opt/conda/lib/python3.7/site-packages (from notebook->nbserverproxy->jupyter_plotly_dash) (0.8.3)\n",
      "Requirement already satisfied: ipython-genutils in /opt/conda/lib/python3.7/site-packages (from notebook->nbserverproxy->jupyter_plotly_dash) (0.2.0)\n",
      "Requirement already satisfied: nbformat in /opt/conda/lib/python3.7/site-packages (from notebook->nbserverproxy->jupyter_plotly_dash) (5.0.4)\n",
      "Requirement already satisfied: traitlets>=4.2.1 in /opt/conda/lib/python3.7/site-packages (from notebook->nbserverproxy->jupyter_plotly_dash) (4.3.3)\n",
      "Requirement already satisfied: defusedxml in /opt/conda/lib/python3.7/site-packages (from nbconvert->jupyter->jupyter_plotly_dash) (0.6.0)\n",
      "Requirement already satisfied: pandocfilters>=1.4.1 in /opt/conda/lib/python3.7/site-packages (from nbconvert->jupyter->jupyter_plotly_dash) (1.4.2)\n",
      "Requirement already satisfied: pygments in /opt/conda/lib/python3.7/site-packages (from nbconvert->jupyter->jupyter_plotly_dash) (2.5.2)\n",
      "Requirement already satisfied: testpath in /opt/conda/lib/python3.7/site-packages (from nbconvert->jupyter->jupyter_plotly_dash) (0.4.4)\n",
      "Requirement already satisfied: bleach in /opt/conda/lib/python3.7/site-packages (from nbconvert->jupyter->jupyter_plotly_dash) (3.1.1)\n",
      "Requirement already satisfied: mistune<2,>=0.8.1 in /opt/conda/lib/python3.7/site-packages (from nbconvert->jupyter->jupyter_plotly_dash) (0.8.4)\n",
      "Requirement already satisfied: entrypoints>=0.2.2 in /opt/conda/lib/python3.7/site-packages (from nbconvert->jupyter->jupyter_plotly_dash) (0.3)\n",
      "Requirement already satisfied: ipython in /opt/conda/lib/python3.7/site-packages (from jupyter-console->jupyter->jupyter_plotly_dash) (7.12.0)\n",
      "Requirement already satisfied: prompt-toolkit!=3.0.0,!=3.0.1,<3.1.0,>=2.0.0 in /opt/conda/lib/python3.7/site-packages (from jupyter-console->jupyter->jupyter_plotly_dash) (3.0.3)\n",
      "Requirement already satisfied: widgetsnbextension~=3.5.0 in /opt/conda/lib/python3.7/site-packages (from ipywidgets->jupyter->jupyter_plotly_dash) (3.5.1)\n",
      "Requirement already satisfied: dash-table==4.6.0 in /opt/conda/lib/python3.7/site-packages (from dash->django-plotly-dash->jupyter_plotly_dash) (4.6.0)\n",
      "Requirement already satisfied: future in /opt/conda/lib/python3.7/site-packages (from dash->django-plotly-dash->jupyter_plotly_dash) (0.18.2)\n",
      "Requirement already satisfied: flask-compress in /opt/conda/lib/python3.7/site-packages (from dash->django-plotly-dash->jupyter_plotly_dash) (1.4.0)\n",
      "Requirement already satisfied: six in /opt/conda/lib/python3.7/site-packages (from plotly->django-plotly-dash->jupyter_plotly_dash) (1.14.0)\n",
      "Requirement already satisfied: retrying>=1.3.3 in /opt/conda/lib/python3.7/site-packages (from plotly->django-plotly-dash->jupyter_plotly_dash) (1.3.3)\n",
      "Collecting asgiref~=3.2\n",
      "  Downloading asgiref-3.2.3-py2.py3-none-any.whl (18 kB)\n",
      "Requirement already satisfied: pytz in /opt/conda/lib/python3.7/site-packages (from Django>=2->django-plotly-dash->jupyter_plotly_dash) (2019.3)\n",
      "Collecting sqlparse>=0.2.2\n",
      "  Downloading sqlparse-0.3.0-py2.py3-none-any.whl (39 kB)\n",
      "Requirement already satisfied: Werkzeug>=0.15 in /opt/conda/lib/python3.7/site-packages (from Flask>=1.0.2->django-plotly-dash->jupyter_plotly_dash) (1.0.0)\n",
      "Requirement already satisfied: click>=5.1 in /opt/conda/lib/python3.7/site-packages (from Flask>=1.0.2->django-plotly-dash->jupyter_plotly_dash) (7.0)\n",
      "Requirement already satisfied: itsdangerous>=0.24 in /opt/conda/lib/python3.7/site-packages (from Flask>=1.0.2->django-plotly-dash->jupyter_plotly_dash) (1.1.0)\n",
      "Requirement already satisfied: soupsieve>=1.2 in /opt/conda/lib/python3.7/site-packages (from beautifulsoup4->django-bootstrap4->jupyter_plotly_dash) (1.9.4)\n",
      "Requirement already satisfied: idna>=2.0 in /opt/conda/lib/python3.7/site-packages (from yarl<2.0,>=1.0->aiohttp->jupyter_plotly_dash) (2.9)\n",
      "Requirement already satisfied: python-dateutil>=2.1 in /opt/conda/lib/python3.7/site-packages (from jupyter-client>=5.3.4->notebook->nbserverproxy->jupyter_plotly_dash) (2.8.1)\n",
      "Requirement already satisfied: MarkupSafe>=0.23 in /opt/conda/lib/python3.7/site-packages (from jinja2->notebook->nbserverproxy->jupyter_plotly_dash) (1.1.1)\n",
      "Requirement already satisfied: jsonschema!=2.5.0,>=2.4 in /opt/conda/lib/python3.7/site-packages (from nbformat->notebook->nbserverproxy->jupyter_plotly_dash) (3.2.0)\n",
      "Requirement already satisfied: decorator in /opt/conda/lib/python3.7/site-packages (from traitlets>=4.2.1->notebook->nbserverproxy->jupyter_plotly_dash) (4.4.1)\n",
      "Requirement already satisfied: webencodings in /opt/conda/lib/python3.7/site-packages (from bleach->nbconvert->jupyter->jupyter_plotly_dash) (0.5.1)\n",
      "Requirement already satisfied: setuptools>=18.5 in /opt/conda/lib/python3.7/site-packages (from ipython->jupyter-console->jupyter->jupyter_plotly_dash) (45.2.0.post20200209)\n",
      "Requirement already satisfied: pickleshare in /opt/conda/lib/python3.7/site-packages (from ipython->jupyter-console->jupyter->jupyter_plotly_dash) (0.7.5)\n",
      "Requirement already satisfied: pexpect; sys_platform != \"win32\" in /opt/conda/lib/python3.7/site-packages (from ipython->jupyter-console->jupyter->jupyter_plotly_dash) (4.8.0)\n",
      "Requirement already satisfied: jedi>=0.10 in /opt/conda/lib/python3.7/site-packages (from ipython->jupyter-console->jupyter->jupyter_plotly_dash) (0.16.0)\n",
      "Requirement already satisfied: backcall in /opt/conda/lib/python3.7/site-packages (from ipython->jupyter-console->jupyter->jupyter_plotly_dash) (0.1.0)\n",
      "Requirement already satisfied: wcwidth in /opt/conda/lib/python3.7/site-packages (from prompt-toolkit!=3.0.0,!=3.0.1,<3.1.0,>=2.0.0->jupyter-console->jupyter->jupyter_plotly_dash) (0.1.8)\n",
      "Requirement already satisfied: pyrsistent>=0.14.0 in /opt/conda/lib/python3.7/site-packages (from jsonschema!=2.5.0,>=2.4->nbformat->notebook->nbserverproxy->jupyter_plotly_dash) (0.15.7)\n",
      "Requirement already satisfied: importlib-metadata; python_version < \"3.8\" in /opt/conda/lib/python3.7/site-packages (from jsonschema!=2.5.0,>=2.4->nbformat->notebook->nbserverproxy->jupyter_plotly_dash) (1.5.0)\n",
      "Requirement already satisfied: ptyprocess>=0.5 in /opt/conda/lib/python3.7/site-packages (from pexpect; sys_platform != \"win32\"->ipython->jupyter-console->jupyter->jupyter_plotly_dash) (0.6.0)\n",
      "Requirement already satisfied: parso>=0.5.2 in /opt/conda/lib/python3.7/site-packages (from jedi>=0.10->ipython->jupyter-console->jupyter->jupyter_plotly_dash) (0.6.1)\n",
      "Requirement already satisfied: zipp>=0.5 in /opt/conda/lib/python3.7/site-packages (from importlib-metadata; python_version < \"3.8\"->jsonschema!=2.5.0,>=2.4->nbformat->notebook->nbserverproxy->jupyter_plotly_dash) (3.0.0)\n",
      "Building wheels for collected packages: dpd-components\n",
      "  Building wheel for dpd-components (setup.py) ... \u001b[?25ldone\n",
      "\u001b[?25h  Created wheel for dpd-components: filename=dpd_components-0.1.0-py3-none-any.whl size=4565 sha256=e82d9f8aeb7fd5c5ccc7b7fad79a8daa3ae13e1426d4e14bd1a5cc234dbf9aee\n",
      "  Stored in directory: /home/jovyan/.cache/pip/wheels/37/d1/97/9b1d5f016c47858e080809c277cbe4c3ff27893b855f78915e\n",
      "Successfully built dpd-components\n",
      "Installing collected packages: nbserverproxy, jupyter-console, qtconsole, jupyter, asgiref, sqlparse, Django, dpd-components, django-plotly-dash, dpd-static-support, django-bootstrap4, jupyter-plotly-dash\n",
      "Successfully installed Django-3.0.3 asgiref-3.2.3 django-bootstrap4-1.1.1 django-plotly-dash-1.1.5 dpd-components-0.1.0 dpd-static-support-0.0.5 jupyter-1.0.0 jupyter-console-6.1.0 jupyter-plotly-dash-0.4.2 nbserverproxy-0.8.8 qtconsole-4.6.0 sqlparse-0.3.0\n"
     ]
    }
   ],
   "source": [
    "!pip install jupyter_plotly_dash\n"
   ]
  },
  {
   "cell_type": "code",
   "execution_count": null,
   "metadata": {},
   "outputs": [],
   "source": []
  }
 ],
 "metadata": {
  "kernelspec": {
   "display_name": "Python 3",
   "language": "python",
   "name": "python3"
  },
  "language_info": {
   "codemirror_mode": {
    "name": "ipython",
    "version": 3
   },
   "file_extension": ".py",
   "mimetype": "text/x-python",
   "name": "python",
   "nbconvert_exporter": "python",
   "pygments_lexer": "ipython3",
   "version": "3.7.6"
  }
 },
 "nbformat": 4,
 "nbformat_minor": 4
}
