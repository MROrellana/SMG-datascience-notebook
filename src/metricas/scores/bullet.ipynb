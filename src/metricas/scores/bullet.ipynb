{
 "cells": [
  {
   "cell_type": "code",
   "execution_count": 1,
   "metadata": {},
   "outputs": [],
   "source": [
    "import pandas as pd\n",
    "from dbconn import querydb, querydbtopandas\n",
    "import plotly.graph_objects as go"
   ]
  },
  {
   "cell_type": "code",
   "execution_count": 11,
   "metadata": {},
   "outputs": [],
   "source": [
    "scores = pd.read_parquet(\"2019-10.gzip\")\n",
    "scores = scores.dropna()"
   ]
  },
  {
   "cell_type": "code",
   "execution_count": 12,
   "metadata": {},
   "outputs": [],
   "source": [
    "prestadores = str(scores.prestador.tolist()).lstrip(\"[\").rstrip(\"]\")"
   ]
  },
  {
   "cell_type": "code",
   "execution_count": 13,
   "metadata": {},
   "outputs": [],
   "source": [
    "prestadores = querydbtopandas(f\"\"\"select id_pre_prestador as prestador,  desc_pre_nombre, Q.deno  \n",
    "                    from dba.d_pre_prestador a12\n",
    "                    LEFT JOIN dba.prestad_costo_centros E\n",
    "                    ON a12.id_pre_prestador = E.prestad and E.baja_fecha is null and e.prepaga = ( select min(PCC1.prepaga) from dba.prestad_costo_centros PCC1 where PCC1.prestad =  e.prestad )   \n",
    "                    LEFT JOIN dba.costo_centros Q\n",
    "                    ON E.centro = Q.centro\n",
    "                    where id_pre_prestador in ({prestadores})\"\"\")"
   ]
  },
  {
   "cell_type": "code",
   "execution_count": 14,
   "metadata": {},
   "outputs": [
    {
     "data": {
      "text/plain": [
       "6734"
      ]
     },
     "execution_count": 14,
     "metadata": {},
     "output_type": "execute_result"
    }
   ],
   "source": [
    "len(scores)"
   ]
  },
  {
   "cell_type": "code",
   "execution_count": 15,
   "metadata": {
    "scrolled": true
   },
   "outputs": [
    {
     "data": {
      "text/plain": [
       "6734"
      ]
     },
     "execution_count": 15,
     "metadata": {},
     "output_type": "execute_result"
    }
   ],
   "source": [
    "len(prestadores)"
   ]
  },
  {
   "cell_type": "code",
   "execution_count": 16,
   "metadata": {},
   "outputs": [
    {
     "data": {
      "text/plain": [
       "[20321,\n",
       " 20676,\n",
       " 21446,\n",
       " 89737,\n",
       " 90146,\n",
       " 22310,\n",
       " 156607,\n",
       " 24331,\n",
       " 26128,\n",
       " 26825,\n",
       " 93287,\n",
       " 225839,\n",
       " 29959,\n",
       " 233989,\n",
       " 168660,\n",
       " 169132,\n",
       " 179887,\n",
       " 115139,\n",
       " 117481,\n",
       " 57066,\n",
       " 123535,\n",
       " 190326,\n",
       " 125861,\n",
       " 196561,\n",
       " 198245,\n",
       " 67880,\n",
       " 69038,\n",
       " 206716,\n",
       " 80680,\n",
       " 146662,\n",
       " 83916,\n",
       " 463,\n",
       " 85984,\n",
       " 152541,\n",
       " 20322,\n",
       " 87664,\n",
       " 20677,\n",
       " 21447,\n",
       " 24333,\n",
       " 156107,\n",
       " 25511,\n",
       " 227870,\n",
       " 30083,\n",
       " 165223,\n",
       " 166494,\n",
       " 167433,\n",
       " 168203,\n",
       " 170919,\n",
       " 174996,\n",
       " 46114,\n",
       " 112183,\n",
       " 113553,\n",
       " 178481,\n",
       " 117484,\n",
       " 120592,\n",
       " 57470,\n",
       " 67314,\n",
       " 200203,\n",
       " 201398,\n",
       " 144948,\n",
       " 80681,\n",
       " 83533,\n",
       " 151269,\n",
       " 151594,\n",
       " 2117,\n",
       " 20323,\n",
       " 88662,\n",
       " 24345,\n",
       " 25742,\n",
       " 166495,\n",
       " 167435,\n",
       " 167674,\n",
       " 170093,\n",
       " 40510,\n",
       " 177971,\n",
       " 118676,\n",
       " 52323,\n",
       " 127080,\n",
       " 63491,\n",
       " 196119,\n",
       " 133314,\n",
       " 198753,\n",
       " 199306,\n",
       " 203045,\n",
       " 212271,\n",
       " 80682,\n",
       " 2118,\n",
       " 87263,\n",
       " 20324,\n",
       " 87668,\n",
       " 88418,\n",
       " 88839,\n",
       " 24243,\n",
       " 157243,\n",
       " 227366,\n",
       " 98413,\n",
       " 231429,\n",
       " 166020,\n",
       " 36053,\n",
       " 167676,\n",
       " 169138,\n",
       " 40512,\n",
       " 238562,\n",
       " 174517,\n",
       " 173068,\n",
       " 109245,\n",
       " 176309,\n",
       " 177756,\n",
       " 177434,\n",
       " 120882,\n",
       " 119397,\n",
       " 57473,\n",
       " 80683,\n",
       " 84096,\n",
       " 216897,\n",
       " 84507,\n",
       " 218115,\n",
       " 86435,\n",
       " 20680,\n",
       " 20658,\n",
       " 24378,\n",
       " 228343,\n",
       " 229905,\n",
       " 166022,\n",
       " 166499,\n",
       " 166010,\n",
       " 169139,\n",
       " 177757,\n",
       " 179043,\n",
       " 115731,\n",
       " 51407,\n",
       " 185977,\n",
       " 197079,\n",
       " 67549,\n",
       " 72142,\n",
       " 208379,\n",
       " 144954,\n",
       " 80684,\n",
       " 83922,\n",
       " 84098,\n",
       " 84509,\n",
       " 150542,\n",
       " 2120,\n",
       " 87265,\n",
       " 20681,\n",
       " 24245,\n",
       " 222806,\n",
       " 25747,\n",
       " 24740,\n",
       " 25529,\n",
       " 228398,\n",
       " 165231,\n",
       " 32512,\n",
       " 168195,\n",
       " 174521,\n",
       " 175822,\n",
       " 242129,\n",
       " 112245,\n",
       " 114998,\n",
       " 115454,\n",
       " 124166,\n",
       " 192971,\n",
       " 199855,\n",
       " 69602,\n",
       " 207219,\n",
       " 210296,\n",
       " 80428,\n",
       " 80685,\n",
       " 214379,\n",
       " 86881,\n",
       " 218116,\n",
       " 218655,\n",
       " 153874,\n",
       " 88842,\n",
       " 26139,\n",
       " 160269,\n",
       " 94175,\n",
       " 28319,\n",
       " 227880,\n",
       " 97968,\n",
       " 32514,\n",
       " 166503,\n",
       " 166015,\n",
       " 167147,\n",
       " 171885,\n",
       " 237017,\n",
       " 40516,\n",
       " 173108,\n",
       " 242601,\n",
       " 44445,\n",
       " 178929,\n",
       " 177938,\n",
       " 116370,\n",
       " 246193,\n",
       " 115735,\n",
       " 117298,\n",
       " 57132,\n",
       " 124014,\n",
       " 194067,\n",
       " 64093,\n",
       " 130472,\n",
       " 198257,\n",
       " 78456,\n",
       " 80429,\n",
       " 211706,\n",
       " 83925,\n",
       " 216901,\n",
       " 84513,\n",
       " 84851,\n",
       " 1645,\n",
       " 20683,\n",
       " 153876,\n",
       " 89311,\n",
       " 24247,\n",
       " 26140,\n",
       " 24748,\n",
       " 94179,\n",
       " 232462,\n",
       " 101377,\n",
       " 169333,\n",
       " 40144,\n",
       " 181600,\n",
       " 194069,\n",
       " 64095,\n",
       " 66140,\n",
       " 69048,\n",
       " 200408,\n",
       " 205065,\n",
       " 208860,\n",
       " 80687,\n",
       " 81181,\n",
       " 83927,\n",
       " 84106,\n",
       " 89313,\n",
       " 24248,\n",
       " 22331,\n",
       " 26141,\n",
       " 224310,\n",
       " 226358,\n",
       " 96632,\n",
       " 97971,\n",
       " 164287,\n",
       " 101634,\n",
       " 168675,\n",
       " 105327,\n",
       " 173111,\n",
       " 40167,\n",
       " 174761,\n",
       " 175325,\n",
       " 176319,\n",
       " 110666,\n",
       " 177765,\n",
       " 115740,\n",
       " 57482,\n",
       " 56305,\n",
       " 64097,\n",
       " 198260,\n",
       " 68268,\n",
       " 205066,\n",
       " 75519,\n",
       " 213729,\n",
       " 83212,\n",
       " 149990,\n",
       " 82,\n",
       " 151624,\n",
       " 20685,\n",
       " 86019,\n",
       " 20746,\n",
       " 153871,\n",
       " 24250,\n",
       " 26142,\n",
       " 25541,\n",
       " 223275,\n",
       " 225344,\n",
       " 28324,\n",
       " 30105,\n",
       " 229414,\n",
       " 98423,\n",
       " 165239,\n",
       " 166509,\n",
       " 37047,\n",
       " 168204,\n",
       " 105142,\n",
       " 170433,\n",
       " 40150,\n",
       " 237543,\n",
       " 173113,\n",
       " 40169,\n",
       " 174529,\n",
       " 173650,\n",
       " 174763,\n",
       " 110668,\n",
       " 110432,\n",
       " 181606,\n",
       " 125954,\n",
       " 62378,\n",
       " 75520,\n",
       " 212285,\n",
       " 80689,\n",
       " 81184,\n",
       " 83213,\n",
       " 84518,\n",
       " 215955,\n",
       " 85542,\n",
       " 1096,\n",
       " 1651,\n",
       " 20332,\n",
       " 20686,\n",
       " 21908,\n",
       " 153873,\n",
       " 24251,\n",
       " 89254,\n",
       " 158058,\n",
       " 25544,\n",
       " 158372,\n",
       " 92876,\n",
       " 27624,\n",
       " 31834,\n",
       " 163810,\n",
       " 165241,\n",
       " 101381,\n",
       " 166025,\n",
       " 101638,\n",
       " 169150,\n",
       " 172868,\n",
       " 40522,\n",
       " 177985,\n",
       " 244214,\n",
       " 113569,\n",
       " 180643,\n",
       " 195636,\n",
       " 67566,\n",
       " 80434,\n",
       " 83931,\n",
       " 150339,\n",
       " 20687,\n",
       " 24252,\n",
       " 163022,\n",
       " 30109,\n",
       " 163812,\n",
       " 33125,\n",
       " 168779,\n",
       " 40180,\n",
       " 177769,\n",
       " 113570,\n",
       " 195638,\n",
       " 204083,\n",
       " 206172,\n",
       " 2132,\n",
       " 87279,\n",
       " 20335,\n",
       " 86625,\n",
       " 26145,\n",
       " 92480,\n",
       " 229921,\n",
       " 164434,\n",
       " 36070,\n",
       " 167694,\n",
       " 237029,\n",
       " 239568,\n",
       " 176820,\n",
       " 46133,\n",
       " 246722,\n",
       " 57138,\n",
       " 189290,\n",
       " 69100,\n",
       " 205134,\n",
       " 81188,\n",
       " 82647,\n",
       " 83934,\n",
       " 2133,\n",
       " 86893,\n",
       " 20757,\n",
       " 24254,\n",
       " 89260,\n",
       " 223330,\n",
       " 227894,\n",
       " 161599,\n",
       " 166581,\n",
       " 234015,\n",
       " 167696,\n",
       " 38369,\n",
       " 237031,\n",
       " 40187,\n",
       " 113575,\n",
       " 177952,\n",
       " 57139,\n",
       " 122433,\n",
       " 62384,\n",
       " 130051,\n",
       " 202013,\n",
       " 144968,\n",
       " 482,\n",
       " 86006,\n",
       " 86895,\n",
       " 86629,\n",
       " 24773,\n",
       " 95042,\n",
       " 164995,\n",
       " 100396,\n",
       " 101648,\n",
       " 168685,\n",
       " 170115,\n",
       " 168786,\n",
       " 40190,\n",
       " 110677,\n",
       " 45299,\n",
       " 176904,\n",
       " 114579,\n",
       " 52521,\n",
       " 118104,\n",
       " 57488,\n",
       " 196143,\n",
       " 201912,\n",
       " 202015,\n",
       " 205138,\n",
       " 210796,\n",
       " 144494,\n",
       " 81190,\n",
       " 84526,\n",
       " 84864,\n",
       " 1107,\n",
       " 2136,\n",
       " 86896,\n",
       " 87284,\n",
       " 24913,\n",
       " 25764,\n",
       " 26149,\n",
       " 226880,\n",
       " 95474,\n",
       " 226875,\n",
       " 30258,\n",
       " 163820,\n",
       " 166989,\n",
       " 167165,\n",
       " 236041,\n",
       " 172876,\n",
       " 242128,\n",
       " 115470,\n",
       " 246728,\n",
       " 122048,\n",
       " 188130,\n",
       " 57141,\n",
       " 56322,\n",
       " 191848,\n",
       " 67897,\n",
       " 201914,\n",
       " 206179,\n",
       " 144972,\n",
       " 145047,\n",
       " 82523,\n",
       " 83940,\n",
       " 621,\n",
       " 20340,\n",
       " 20692,\n",
       " 153892,\n",
       " 20769,\n",
       " 88434,\n",
       " 22259,\n",
       " 158859,\n",
       " 225870,\n",
       " 165253,\n",
       " 166522,\n",
       " 233002,\n",
       " 168221,\n",
       " 172878,\n",
       " 40164,\n",
       " 40198,\n",
       " 175342,\n",
       " 110679,\n",
       " 180655,\n",
       " 115938,\n",
       " 49693,\n",
       " 115758,\n",
       " 61595,\n",
       " 195141,\n",
       " 197607,\n",
       " 197767,\n",
       " 200428,\n",
       " 67583,\n",
       " 201916,\n",
       " 69622,\n",
       " 70623,\n",
       " 72158,\n",
       " 144974,\n",
       " 80440,\n",
       " 84127,\n",
       " 625,\n",
       " 24258,\n",
       " 26153,\n",
       " 223291,\n",
       " 164444,\n",
       " 166045,\n",
       " 166041,\n",
       " 103376,\n",
       " 168224,\n",
       " 40532,\n",
       " 173127,\n",
       " 243724,\n",
       " 178474,\n",
       " 115760,\n",
       " 189137,\n",
       " 195611,\n",
       " 66530,\n",
       " 133344,\n",
       " 67587,\n",
       " 69623,\n",
       " 80441,\n",
       " 20694,\n",
       " 20774,\n",
       " 25767,\n",
       " 26154,\n",
       " 162081,\n",
       " 163362,\n",
       " 164446,\n",
       " 170123,\n",
       " 171419,\n",
       " 172401,\n",
       " 172881,\n",
       " 173128,\n",
       " 43212,\n",
       " 180659,\n",
       " 55467,\n",
       " 189139,\n",
       " 190863,\n",
       " 191853,\n",
       " 67901,\n",
       " 70030,\n",
       " 139820,\n",
       " 80442,\n",
       " 82653,\n",
       " 83349,\n",
       " 84292,\n",
       " 632,\n",
       " 20344,\n",
       " 20696,\n",
       " 24260,\n",
       " 89272,\n",
       " 26155,\n",
       " 226883,\n",
       " 30997,\n",
       " 165258,\n",
       " 101397,\n",
       " 167711,\n",
       " 40209,\n",
       " 178952,\n",
       " 127736,\n",
       " 135716,\n",
       " 80443,\n",
       " 80699,\n",
       " 211732,\n",
       " 212272,\n",
       " 81561,\n",
       " 20697,\n",
       " 86044,\n",
       " 154838,\n",
       " 24922,\n",
       " 25771,\n",
       " 224334,\n",
       " 95483,\n",
       " 29991,\n",
       " 233010,\n",
       " 171423,\n",
       " 40170,\n",
       " 239099,\n",
       " 65325,\n",
       " 68288,\n",
       " 206754,\n",
       " 210808,\n",
       " 86466,\n",
       " 20181,\n",
       " 89276,\n",
       " 25773,\n",
       " 25578,\n",
       " 225368,\n",
       " 167957,\n",
       " 237058,\n",
       " 170952,\n",
       " 40537,\n",
       " 173677,\n",
       " 178480,\n",
       " 179618,\n",
       " 115481,\n",
       " 115183,\n",
       " 63177,\n",
       " 133816,\n",
       " 200938,\n",
       " 70417,\n",
       " 200939,\n",
       " 203046,\n",
       " 206756,\n",
       " 80445,\n",
       " 214412,\n",
       " 215973,\n",
       " 84142,\n",
       " 108,\n",
       " 492,\n",
       " 86048,\n",
       " 21478,\n",
       " 24264,\n",
       " 25775,\n",
       " 157844,\n",
       " 26464,\n",
       " 31000,\n",
       " 98448,\n",
       " 171917,\n",
       " 40172,\n",
       " 41932,\n",
       " 173679,\n",
       " 176920,\n",
       " 178958,\n",
       " 114053,\n",
       " 115185,\n",
       " 121602,\n",
       " 189146,\n",
       " 57498,\n",
       " 191861,\n",
       " 193007,\n",
       " 68290,\n",
       " 77207,\n",
       " 143682,\n",
       " 144510,\n",
       " 212309,\n",
       " 144505,\n",
       " 80446,\n",
       " 212278,\n",
       " 83232,\n",
       " 84144,\n",
       " 20700,\n",
       " 221273,\n",
       " 24472,\n",
       " 26159,\n",
       " 29995,\n",
       " 227924,\n",
       " 31001,\n",
       " 98450,\n",
       " 98602,\n",
       " 36085,\n",
       " 101056,\n",
       " 169368,\n",
       " 40890,\n",
       " 173137,\n",
       " 239069,\n",
       " 173114,\n",
       " 176840,\n",
       " 242700,\n",
       " 178959,\n",
       " 48178,\n",
       " 115187,\n",
       " 247271,\n",
       " 183885,\n",
       " 189312,\n",
       " 196160,\n",
       " 69072,\n",
       " 143684,\n",
       " 215487,\n",
       " 20187,\n",
       " 153904,\n",
       " 24266,\n",
       " 24811,\n",
       " 223305,\n",
       " 163838,\n",
       " 165565,\n",
       " 166605,\n",
       " 168239,\n",
       " 171431,\n",
       " 238604,\n",
       " 40223,\n",
       " 173606,\n",
       " 242144,\n",
       " 179447,\n",
       " 183887,\n",
       " 124959,\n",
       " 191865,\n",
       " 197255,\n",
       " 67910,\n",
       " 68292,\n",
       " 71225,\n",
       " 143686,\n",
       " 80704,\n",
       " 212282,\n",
       " 81562,\n",
       " 215489,\n",
       " 20702,\n",
       " 24479,\n",
       " 96662,\n",
       " 98605,\n",
       " 99031,\n",
       " 33559,\n",
       " 98616,\n",
       " 166061,\n",
       " 166540,\n",
       " 168246,\n",
       " 40176,\n",
       " 112694,\n",
       " 178963,\n",
       " 178531,\n",
       " 50022,\n",
       " 128673,\n",
       " 137092,\n",
       " 80449,\n",
       " 80705,\n",
       " 82935,\n",
       " 83956,\n",
       " 84545,\n",
       " 151636,\n",
       " 20189,\n",
       " 654,\n",
       " 20703,\n",
       " 21588,\n",
       " 160780,\n",
       " 163376,\n",
       " 164322,\n",
       " 97430,\n",
       " 232485,\n",
       " 232988,\n",
       " 103395,\n",
       " 171434,\n",
       " 40232,\n",
       " 243141,\n",
       " 176933,\n",
       " 177980,\n",
       " 115194,\n",
       " 53733,\n",
       " 57157,\n",
       " 124050,\n",
       " 125909,\n",
       " 61610,\n",
       " 200447,\n",
       " 201936,\n",
       " 141213,\n",
       " 144994,\n",
       " 80450,\n",
       " 212286,\n",
       " 84159,\n",
       " 151148,\n",
       " 20704,\n",
       " 23227,\n",
       " 155628,\n",
       " 24934,\n",
       " 166611,\n",
       " 167728,\n",
       " 234550,\n",
       " 173122,\n",
       " 110697,\n",
       " 243234,\n",
       " 178535,\n",
       " 244739,\n",
       " 48085,\n",
       " 115492,\n",
       " 115196,\n",
       " 58581,\n",
       " 59358,\n",
       " 192535,\n",
       " 194630,\n",
       " 66545,\n",
       " 135949,\n",
       " 144995,\n",
       " 213752,\n",
       " 84168,\n",
       " 215994,\n",
       " 85261,\n",
       " 660,\n",
       " 20705,\n",
       " 21940,\n",
       " 156192,\n",
       " 221270,\n",
       " 24935,\n",
       " 24826,\n",
       " 26870,\n",
       " 227923,\n",
       " 163055,\n",
       " 98459,\n",
       " 165024,\n",
       " 166546,\n",
       " 169379,\n",
       " 106279,\n",
       " 40545,\n",
       " 40241,\n",
       " 187685,\n",
       " 57197,\n",
       " 63189,\n",
       " 69078,\n",
       " 135953,\n",
       " 144997,\n",
       " 213754,\n",
       " 1127,\n",
       " 20194,\n",
       " 20358,\n",
       " 20706,\n",
       " 155632,\n",
       " 221272,\n",
       " 24499,\n",
       " 24937,\n",
       " 26165,\n",
       " 24828,\n",
       " 95532,\n",
       " 97112,\n",
       " 164469,\n",
       " 166066,\n",
       " 36092,\n",
       " 167195,\n",
       " 40181,\n",
       " 244743,\n",
       " 113493,\n",
       " 50026,\n",
       " 52548,\n",
       " 133834,\n",
       " 68298,\n",
       " 200453,\n",
       " 145079,\n",
       " 81214,\n",
       " 213756,\n",
       " 83243,\n",
       " 500,\n",
       " 1128,\n",
       " 20196,\n",
       " 88886,\n",
       " 23236,\n",
       " 89294,\n",
       " 155634,\n",
       " 24501,\n",
       " 224354,\n",
       " 27260,\n",
       " 98463,\n",
       " 229437,\n",
       " 98631,\n",
       " 36093,\n",
       " 234522,\n",
       " 40182,\n",
       " 40548,\n",
       " 40245,\n",
       " 43655,\n",
       " 174259,\n",
       " 177491,\n",
       " 179096,\n",
       " 114543,\n",
       " 181229,\n",
       " 52152,\n",
       " 59555,\n",
       " 191968,\n",
       " 141793,\n",
       " 1130,\n",
       " 20708,\n",
       " 221289,\n",
       " 159532,\n",
       " 226907,\n",
       " 30179,\n",
       " 97116,\n",
       " 98465,\n",
       " 164473,\n",
       " 99253,\n",
       " 103402,\n",
       " 40549,\n",
       " 57205,\n",
       " 191970,\n",
       " 129972,\n",
       " 130531,\n",
       " 67634,\n",
       " 145002,\n",
       " 83245,\n",
       " 84556,\n",
       " 217442,\n",
       " 503,\n",
       " 217672,\n",
       " 86039,\n",
       " 1694,\n",
       " 20199,\n",
       " 674,\n",
       " 151672,\n",
       " 20709,\n",
       " 20856,\n",
       " 97118,\n",
       " 164332,\n",
       " 166075,\n",
       " 36095,\n",
       " 39602,\n",
       " 105381,\n",
       " 173704,\n",
       " 178501,\n",
       " 115968,\n",
       " 122478,\n",
       " 190159,\n",
       " 193565,\n",
       " 129405,\n",
       " 133367,\n",
       " 83575,\n",
       " 1134,\n",
       " 676,\n",
       " 20710,\n",
       " 86076,\n",
       " 33156,\n",
       " 166556,\n",
       " 166624,\n",
       " 40186,\n",
       " 170984,\n",
       " 40553,\n",
       " 173155,\n",
       " 180688,\n",
       " 51464,\n",
       " 57515,\n",
       " 122480,\n",
       " 194031,\n",
       " 132252,\n",
       " 199774,\n",
       " 67923,\n",
       " 71997,\n",
       " 72774,\n",
       " 208911,\n",
       " 144528,\n",
       " 80457,\n",
       " 80713,\n",
       " 82549,\n",
       " 82669,\n",
       " 82943,\n",
       " 83969,\n",
       " 86490,\n",
       " 20203,\n",
       " 679,\n",
       " 20711,\n",
       " 153925,\n",
       " 88734,\n",
       " 24511,\n",
       " 26882,\n",
       " 31868,\n",
       " 99048,\n",
       " 103858,\n",
       " 237588,\n",
       " 171940,\n",
       " 44646,\n",
       " 178549,\n",
       " 212303,\n",
       " 214986,\n",
       " 217448,\n",
       " 134,\n",
       " 1136,\n",
       " 86045,\n",
       " 20205,\n",
       " 20366,\n",
       " 20712,\n",
       " 24514,\n",
       " 30190,\n",
       " 98472,\n",
       " 229967,\n",
       " 236079,\n",
       " 238626,\n",
       " 174577,\n",
       " 180687,\n",
       " 51599,\n",
       " 57168,\n",
       " 190164,\n",
       " 57225,\n",
       " 205118,\n",
       " 80459,\n",
       " 148171,\n",
       " 84197,\n",
       " 217450,\n",
       " 151167,\n",
       " 1137,\n",
       " 86494,\n",
       " 20367,\n",
       " 20713,\n",
       " 163069,\n",
       " 164340,\n",
       " 36100,\n",
       " 170490,\n",
       " 40191,\n",
       " 172613,\n",
       " 238575,\n",
       " 110713,\n",
       " 57227,\n",
       " 201956,\n",
       " 508,\n",
       " 218175,\n",
       " 20207,\n",
       " 20714,\n",
       " 21672,\n",
       " 24522,\n",
       " 164341,\n",
       " 97458,\n",
       " 32398,\n",
       " 33579,\n",
       " 166564,\n",
       " 101431,\n",
       " 166083,\n",
       " 235075,\n",
       " 234537,\n",
       " 169398,\n",
       " 170979,\n",
       " 40262,\n",
       " 242170,\n",
       " 45752,\n",
       " 115059,\n",
       " 180696,\n",
       " 115218,\n",
       " 181805,\n",
       " 56825,\n",
       " 67929,\n",
       " 199382,\n",
       " 82673,\n",
       " ...]"
      ]
     },
     "execution_count": 16,
     "metadata": {},
     "output_type": "execute_result"
    }
   ],
   "source": [
    "prestadores.prestador.unique().tolist()"
   ]
  },
  {
   "cell_type": "code",
   "execution_count": 17,
   "metadata": {},
   "outputs": [],
   "source": [
    "scores = prestadores.merge(scores).drop_duplicates()"
   ]
  },
  {
   "cell_type": "code",
   "execution_count": 18,
   "metadata": {},
   "outputs": [],
   "source": [
    "scores_esp = scores.groupby(\"deno\")[\"score\"].mean().reset_index().rename(columns={\"score\": \"score_esp\"})"
   ]
  },
  {
   "cell_type": "code",
   "execution_count": 19,
   "metadata": {},
   "outputs": [],
   "source": [
    "scores = scores.merge(scores_esp)"
   ]
  },
  {
   "cell_type": "code",
   "execution_count": 20,
   "metadata": {},
   "outputs": [],
   "source": [
    "scores = scores.round(2)"
   ]
  },
  {
   "cell_type": "code",
   "execution_count": 21,
   "metadata": {
    "scrolled": true
   },
   "outputs": [
    {
     "data": {
      "text/plain": [
       "<matplotlib.axes._subplots.AxesSubplot at 0x7f680cf5e610>"
      ]
     },
     "execution_count": 21,
     "metadata": {},
     "output_type": "execute_result"
    },
    {
     "data": {
      "image/png": "[encoded data removed]",
      "text/plain": [
       "<Figure size 432x288 with 1 Axes>"
      ]
     },
     "metadata": {
      "needs_background": "light"
     },
     "output_type": "display_data"
    }
   ],
   "source": [
    "scores.score.hist()"
   ]
  },
  {
   "cell_type": "code",
   "execution_count": 76,
   "metadata": {
    "scrolled": true
   },
   "outputs": [
    {
     "data": {
      "text/html": [
       "<div>\n",
       "<style scoped>\n",
       "    .dataframe tbody tr th:only-of-type {\n",
       "        vertical-align: middle;\n",
       "    }\n",
       "\n",
       "    .dataframe tbody tr th {\n",
       "        vertical-align: top;\n",
       "    }\n",
       "\n",
       "    .dataframe thead th {\n",
       "        text-align: right;\n",
       "    }\n",
       "</style>\n",
       "<table border=\"1\" class=\"dataframe\">\n",
       "  <thead>\n",
       "    <tr style=\"text-align: right;\">\n",
       "      <th></th>\n",
       "      <th>prestador</th>\n",
       "      <th>desc_pre_nombre</th>\n",
       "      <th>deno</th>\n",
       "      <th>score</th>\n",
       "      <th>mes</th>\n",
       "      <th>score_esp</th>\n",
       "    </tr>\n",
       "  </thead>\n",
       "  <tbody>\n",
       "    <tr>\n",
       "      <th>1935</th>\n",
       "      <td>26825</td>\n",
       "      <td>Nadal López,Emmanuela</td>\n",
       "      <td>Cirugía Plástica</td>\n",
       "      <td>58.13</td>\n",
       "      <td>2019-10</td>\n",
       "      <td>82.14</td>\n",
       "    </tr>\n",
       "    <tr>\n",
       "      <th>1936</th>\n",
       "      <td>46114</td>\n",
       "      <td>Giustozzi,Walter R.</td>\n",
       "      <td>Cirugía Plástica</td>\n",
       "      <td>58.33</td>\n",
       "      <td>2019-10</td>\n",
       "      <td>82.14</td>\n",
       "    </tr>\n",
       "    <tr>\n",
       "      <th>1937</th>\n",
       "      <td>63491</td>\n",
       "      <td>Serrano Alcala,Roberto</td>\n",
       "      <td>Cirugía Plástica</td>\n",
       "      <td>58.33</td>\n",
       "      <td>2019-10</td>\n",
       "      <td>82.14</td>\n",
       "    </tr>\n",
       "    <tr>\n",
       "      <th>1938</th>\n",
       "      <td>67549</td>\n",
       "      <td>Cravino,Teresita</td>\n",
       "      <td>Cirugía Plástica</td>\n",
       "      <td>81.90</td>\n",
       "      <td>2019-10</td>\n",
       "      <td>82.14</td>\n",
       "    </tr>\n",
       "    <tr>\n",
       "      <th>1939</th>\n",
       "      <td>26145</td>\n",
       "      <td>Gnecco,Jorge</td>\n",
       "      <td>Cirugía Plástica</td>\n",
       "      <td>76.35</td>\n",
       "      <td>2019-10</td>\n",
       "      <td>82.14</td>\n",
       "    </tr>\n",
       "    <tr>\n",
       "      <th>...</th>\n",
       "      <td>...</td>\n",
       "      <td>...</td>\n",
       "      <td>...</td>\n",
       "      <td>...</td>\n",
       "      <td>...</td>\n",
       "      <td>...</td>\n",
       "    </tr>\n",
       "    <tr>\n",
       "      <th>2015</th>\n",
       "      <td>238453</td>\n",
       "      <td>Zalamez,Victor</td>\n",
       "      <td>Cirugía Plástica</td>\n",
       "      <td>100.00</td>\n",
       "      <td>2019-10</td>\n",
       "      <td>82.14</td>\n",
       "    </tr>\n",
       "    <tr>\n",
       "      <th>2016</th>\n",
       "      <td>101577</td>\n",
       "      <td>Rodríguez,Juan C.</td>\n",
       "      <td>Cirugía Plástica</td>\n",
       "      <td>100.00</td>\n",
       "      <td>2019-10</td>\n",
       "      <td>82.14</td>\n",
       "    </tr>\n",
       "    <tr>\n",
       "      <th>2017</th>\n",
       "      <td>167411</td>\n",
       "      <td>Mendoza Osuna,Pablo A.</td>\n",
       "      <td>Cirugía Plástica</td>\n",
       "      <td>84.63</td>\n",
       "      <td>2019-10</td>\n",
       "      <td>82.14</td>\n",
       "    </tr>\n",
       "    <tr>\n",
       "      <th>2018</th>\n",
       "      <td>198228</td>\n",
       "      <td>Seren,Juan M.</td>\n",
       "      <td>Cirugía Plástica</td>\n",
       "      <td>66.01</td>\n",
       "      <td>2019-10</td>\n",
       "      <td>82.14</td>\n",
       "    </tr>\n",
       "    <tr>\n",
       "      <th>2019</th>\n",
       "      <td>192957</td>\n",
       "      <td>Muraca,Silvio J.</td>\n",
       "      <td>Cirugía Plástica</td>\n",
       "      <td>84.13</td>\n",
       "      <td>2019-10</td>\n",
       "      <td>82.14</td>\n",
       "    </tr>\n",
       "  </tbody>\n",
       "</table>\n",
       "<p>85 rows × 6 columns</p>\n",
       "</div>"
      ],
      "text/plain": [
       "      prestador         desc_pre_nombre              deno   score      mes  \\\n",
       "1935      26825   Nadal López,Emmanuela  Cirugía Plástica   58.13  2019-10   \n",
       "1936      46114     Giustozzi,Walter R.  Cirugía Plástica   58.33  2019-10   \n",
       "1937      63491  Serrano Alcala,Roberto  Cirugía Plástica   58.33  2019-10   \n",
       "1938      67549        Cravino,Teresita  Cirugía Plástica   81.90  2019-10   \n",
       "1939      26145            Gnecco,Jorge  Cirugía Plástica   76.35  2019-10   \n",
       "...         ...                     ...               ...     ...      ...   \n",
       "2015     238453          Zalamez,Victor  Cirugía Plástica  100.00  2019-10   \n",
       "2016     101577       Rodríguez,Juan C.  Cirugía Plástica  100.00  2019-10   \n",
       "2017     167411  Mendoza Osuna,Pablo A.  Cirugía Plástica   84.63  2019-10   \n",
       "2018     198228           Seren,Juan M.  Cirugía Plástica   66.01  2019-10   \n",
       "2019     192957        Muraca,Silvio J.  Cirugía Plástica   84.13  2019-10   \n",
       "\n",
       "      score_esp  \n",
       "1935      82.14  \n",
       "1936      82.14  \n",
       "1937      82.14  \n",
       "1938      82.14  \n",
       "1939      82.14  \n",
       "...         ...  \n",
       "2015      82.14  \n",
       "2016      82.14  \n",
       "2017      82.14  \n",
       "2018      82.14  \n",
       "2019      82.14  \n",
       "\n",
       "[85 rows x 6 columns]"
      ]
     },
     "execution_count": 76,
     "metadata": {},
     "output_type": "execute_result"
    }
   ],
   "source": [
    "scores[scores[\"deno\"] == \"Cirugía Plástica\"]"
   ]
  },
  {
   "cell_type": "code",
   "execution_count": 75,
   "metadata": {},
   "outputs": [
    {
     "data": {
      "text/plain": [
       "array(['Clínica Médica', 'Ginecología', 'Traumatología Pediátrica',\n",
       "       'Ecografía / Radiología', 'Neumonología', 'Nefrología',\n",
       "       'Cirugía de Cabeza y Cuello', 'Cirugía Plástica', 'Endocrinología',\n",
       "       'Traumatología', 'Medicina General', 'Oftalmología', 'Urología',\n",
       "       'Alergia e Inmunología', 'Neurologia',\n",
       "       'Centros de Atención Ambulatoria', 'Dermatología Pediátrica',\n",
       "       'Guardias Reemplazos', 'Pediatría', 'Neurología Pediátrica',\n",
       "       'Hematología', 'Psicopatología', 'Traumatología Centenario',\n",
       "       'Endocrinología Pediátrica', 'Dermatología', 'O.R.L.',\n",
       "       'Gastroenterología', 'Kinesiología', 'Reumatología',\n",
       "       'Guardias Reemplazos CyMSA', 'Hemoterapia', 'Cardiología',\n",
       "       'Centros de Diagnóstico', 'Fonoaudiología', 'Cirugía General',\n",
       "       'Clinicas y Sanatorios', 'Gastroenterología Pediátrica', 'Opticas',\n",
       "       'Domicilios - Urgencias', 'Neumonología Pediátrica',\n",
       "       'Nefrología Pediátrica', 'Clínicas de Int. Psiquiátrica',\n",
       "       'Prótesis y Ortesis', 'Cirugía Pediátrica', 'Odontología',\n",
       "       'Urología Pediátrica', 'Obstetricia - Médicos',\n",
       "       'Anatomía Patológica', 'Nutrición', 'Oncología', 'Flebología',\n",
       "       'Neurocirugía', 'Tratamiento del Dolor', 'Andrología',\n",
       "       'Cirugía Vascular Periférica', 'Infectología', 'Ecografías',\n",
       "       'Dietistas', 'Hematología Pediátrica', 'Oncología Pediátrica',\n",
       "       'Hemodiálisis', 'Cirugía Cardiovascular', 'Diabetología',\n",
       "       'Patología Mamaria', 'Discapacidad', 'Proctología',\n",
       "       'Medicina Nuclear', 'Hospitales Públicos', 'Terapia Intensiva',\n",
       "       'Oftalmología Pediátrica', 'Cardiología Pediátrica',\n",
       "       'Laboratorio de Análisis Clínicos', 'Hepatología', 'Geriatría',\n",
       "       'Cirugía Torácica', 'Neurocirugía Pediátrica',\n",
       "       'Hemodinamia y Cardiología Intervencionista',\n",
       "       'Clínicas de Rehabilitación', 'Micología', 'Radiología',\n",
       "       'Seguimientos Domiciliarios Pediátricos',\n",
       "       'Reumatología Pediátrica', 'Anestesiología', 'Densitometrías',\n",
       "       'Genética', 'Cirugía de Mano', 'Tomografía Computada',\n",
       "       'Medicina del Deporte', 'Medicina Laboral', 'Nutrición Pediátrica',\n",
       "       'Ecografía / Radiología a Domicilio', 'Policonsultorios',\n",
       "       'Cirugía Cardiovascular Pediátrica', 'Diabetología Pediátrica',\n",
       "       'Seguimientos Domiciliarios', 'Radiaciones', 'Ambulancias',\n",
       "       'Holter'], dtype=object)"
      ]
     },
     "execution_count": 75,
     "metadata": {},
     "output_type": "execute_result"
    }
   ],
   "source": [
    "scores.deno.unique()"
   ]
  },
  {
   "cell_type": "code",
   "execution_count": 103,
   "metadata": {},
   "outputs": [],
   "source": [
    "prestador = 20322"
   ]
  },
  {
   "cell_type": "code",
   "execution_count": 104,
   "metadata": {
    "scrolled": true
   },
   "outputs": [],
   "source": [
    "score_esp = scores[scores[\"prestador\"] == prestador].score_esp.values[0]\n",
    "\n",
    "nombre = scores[scores[\"prestador\"] == prestador].desc_pre_nombre.values[0]\n",
    "\n",
    "esp = scores[scores[\"prestador\"] == prestador].deno.values[0]\n",
    "\n",
    "score_prestador = scores[scores[\"prestador\"] == prestador].score.values[0]\n",
    "\n",
    "mes = scores.mes.unique()[0]"
   ]
  },
  {
   "cell_type": "code",
   "execution_count": 105,
   "metadata": {
    "scrolled": false
   },
   "outputs": [
    {
     "data": {
      "application/vnd.plotly.v1+json": {
       "config": {
        "plotlyServerURL": "https://plot.ly"
       },
       "data": [
        {
         "delta": {
          "position": "right",
          "reference": 83.28
         },
         "domain": {
          "x": [
           0,
           1
          ],
          "y": [
           0,
           1
          ]
         },
         "gauge": {
          "axis": {
           "range": [
            null,
            100
           ],
           "tickangle": -90,
           "ticktext": [
            "Score Prestador",
            "Score Especialidad"
           ],
           "tickvals": [
            69.75,
            83.28
           ]
          },
          "bar": {
           "color": "#b9b9b9"
          },
          "bgcolor": "white",
          "shape": "bullet",
          "steps": [
           {
            "color": "rgb(254, 245, 244)",
            "range": [
             0,
             10
            ]
           },
           {
            "color": "rgb(247,252,245)",
            "range": [
             10,
             20
            ]
           },
           {
            "color": "rgb(229,245,224)",
            "range": [
             20,
             30
            ]
           },
           {
            "color": "rgb(199,233,192)",
            "range": [
             30,
             40
            ]
           },
           {
            "color": "rgb(161,217,155)",
            "range": [
             40,
             50
            ]
           },
           {
            "color": "rgb(116,196,118)",
            "range": [
             50,
             60
            ]
           },
           {
            "color": "rgb(65,171,93)",
            "range": [
             60,
             70
            ]
           },
           {
            "color": "rgb(35,139,69)",
            "range": [
             70,
             80
            ]
           },
           {
            "color": "rgb(0,109,44)",
            "range": [
             80,
             90
            ]
           },
           {
            "color": "rgb(0,68,27)",
            "range": [
             90,
             100
            ]
           }
          ],
          "threshold": {
           "line": {
            "color": "skyblue",
            "width": 5
           },
           "thickness": 0.75,
           "value": 83.28
          }
         },
         "mode": "number+gauge+delta",
         "title": {
          "font": {
           "size": 14
          },
          "text": "<b>Score</b><br><span style='color: gray; font-size:0.8em'>2019-10</span>"
         },
         "type": "indicator",
         "value": 69.75
        }
       ],
       "layout": {
        "height": 350,
        "margin": {
         "b": 160
        },
        "template": {
         "data": {
          "bar": [
           {
            "error_x": {
             "color": "#2a3f5f"
            },
            "error_y": {
             "color": "#2a3f5f"
            },
            "marker": {
             "line": {
              "color": "#E5ECF6",
              "width": 0.5
             }
            },
            "type": "bar"
           }
          ],
          "barpolar": [
           {
            "marker": {
             "line": {
              "color": "#E5ECF6",
              "width": 0.5
             }
            },
            "type": "barpolar"
           }
          ],
          "carpet": [
           {
            "aaxis": {
             "endlinecolor": "#2a3f5f",
             "gridcolor": "white",
             "linecolor": "white",
             "minorgridcolor": "white",
             "startlinecolor": "#2a3f5f"
            },
            "baxis": {
             "endlinecolor": "#2a3f5f",
             "gridcolor": "white",
             "linecolor": "white",
             "minorgridcolor": "white",
             "startlinecolor": "#2a3f5f"
            },
            "type": "carpet"
           }
          ],
          "choropleth": [
           {
            "colorbar": {
             "outlinewidth": 0,
             "ticks": ""
            },
            "type": "choropleth"
           }
          ],
          "contour": [
           {
            "colorbar": {
             "outlinewidth": 0,
             "ticks": ""
            },
            "colorscale": [
             [
              0,
              "#0d0887"
             ],
             [
              0.1111111111111111,
              "#46039f"
             ],
             [
              0.2222222222222222,
              "#7201a8"
             ],
             [
              0.3333333333333333,
              "#9c179e"
             ],
             [
              0.4444444444444444,
              "#bd3786"
             ],
             [
              0.5555555555555556,
              "#d8576b"
             ],
             [
              0.6666666666666666,
              "#ed7953"
             ],
             [
              0.7777777777777778,
              "#fb9f3a"
             ],
             [
              0.8888888888888888,
              "#fdca26"
             ],
             [
              1,
              "#f0f921"
             ]
            ],
            "type": "contour"
           }
          ],
          "contourcarpet": [
           {
            "colorbar": {
             "outlinewidth": 0,
             "ticks": ""
            },
            "type": "contourcarpet"
           }
          ],
          "heatmap": [
           {
            "colorbar": {
             "outlinewidth": 0,
             "ticks": ""
            },
            "colorscale": [
             [
              0,
              "#0d0887"
             ],
             [
              0.1111111111111111,
              "#46039f"
             ],
             [
              0.2222222222222222,
              "#7201a8"
             ],
             [
              0.3333333333333333,
              "#9c179e"
             ],
             [
              0.4444444444444444,
              "#bd3786"
             ],
             [
              0.5555555555555556,
              "#d8576b"
             ],
             [
              0.6666666666666666,
              "#ed7953"
             ],
             [
              0.7777777777777778,
              "#fb9f3a"
             ],
             [
              0.8888888888888888,
              "#fdca26"
             ],
             [
              1,
              "#f0f921"
             ]
            ],
            "type": "heatmap"
           }
          ],
          "heatmapgl": [
           {
            "colorbar": {
             "outlinewidth": 0,
             "ticks": ""
            },
            "colorscale": [
             [
              0,
              "#0d0887"
             ],
             [
              0.1111111111111111,
              "#46039f"
             ],
             [
              0.2222222222222222,
              "#7201a8"
             ],
             [
              0.3333333333333333,
              "#9c179e"
             ],
             [
              0.4444444444444444,
              "#bd3786"
             ],
             [
              0.5555555555555556,
              "#d8576b"
             ],
             [
              0.6666666666666666,
              "#ed7953"
             ],
             [
              0.7777777777777778,
              "#fb9f3a"
             ],
             [
              0.8888888888888888,
              "#fdca26"
             ],
             [
              1,
              "#f0f921"
             ]
            ],
            "type": "heatmapgl"
           }
          ],
          "histogram": [
           {
            "marker": {
             "colorbar": {
              "outlinewidth": 0,
              "ticks": ""
             }
            },
            "type": "histogram"
           }
          ],
          "histogram2d": [
           {
            "colorbar": {
             "outlinewidth": 0,
             "ticks": ""
            },
            "colorscale": [
             [
              0,
              "#0d0887"
             ],
             [
              0.1111111111111111,
              "#46039f"
             ],
             [
              0.2222222222222222,
              "#7201a8"
             ],
             [
              0.3333333333333333,
              "#9c179e"
             ],
             [
              0.4444444444444444,
              "#bd3786"
             ],
             [
              0.5555555555555556,
              "#d8576b"
             ],
             [
              0.6666666666666666,
              "#ed7953"
             ],
             [
              0.7777777777777778,
              "#fb9f3a"
             ],
             [
              0.8888888888888888,
              "#fdca26"
             ],
             [
              1,
              "#f0f921"
             ]
            ],
            "type": "histogram2d"
           }
          ],
          "histogram2dcontour": [
           {
            "colorbar": {
             "outlinewidth": 0,
             "ticks": ""
            },
            "colorscale": [
             [
              0,
              "#0d0887"
             ],
             [
              0.1111111111111111,
              "#46039f"
             ],
             [
              0.2222222222222222,
              "#7201a8"
             ],
             [
              0.3333333333333333,
              "#9c179e"
             ],
             [
              0.4444444444444444,
              "#bd3786"
             ],
             [
              0.5555555555555556,
              "#d8576b"
             ],
             [
              0.6666666666666666,
              "#ed7953"
             ],
             [
              0.7777777777777778,
              "#fb9f3a"
             ],
             [
              0.8888888888888888,
              "#fdca26"
             ],
             [
              1,
              "#f0f921"
             ]
            ],
            "type": "histogram2dcontour"
           }
          ],
          "mesh3d": [
           {
            "colorbar": {
             "outlinewidth": 0,
             "ticks": ""
            },
            "type": "mesh3d"
           }
          ],
          "parcoords": [
           {
            "line": {
             "colorbar": {
              "outlinewidth": 0,
              "ticks": ""
             }
            },
            "type": "parcoords"
           }
          ],
          "pie": [
           {
            "automargin": true,
            "type": "pie"
           }
          ],
          "scatter": [
           {
            "marker": {
             "colorbar": {
              "outlinewidth": 0,
              "ticks": ""
             }
            },
            "type": "scatter"
           }
          ],
          "scatter3d": [
           {
            "line": {
             "colorbar": {
              "outlinewidth": 0,
              "ticks": ""
             }
            },
            "marker": {
             "colorbar": {
              "outlinewidth": 0,
              "ticks": ""
             }
            },
            "type": "scatter3d"
           }
          ],
          "scattercarpet": [
           {
            "marker": {
             "colorbar": {
              "outlinewidth": 0,
              "ticks": ""
             }
            },
            "type": "scattercarpet"
           }
          ],
          "scattergeo": [
           {
            "marker": {
             "colorbar": {
              "outlinewidth": 0,
              "ticks": ""
             }
            },
            "type": "scattergeo"
           }
          ],
          "scattergl": [
           {
            "marker": {
             "colorbar": {
              "outlinewidth": 0,
              "ticks": ""
             }
            },
            "type": "scattergl"
           }
          ],
          "scattermapbox": [
           {
            "marker": {
             "colorbar": {
              "outlinewidth": 0,
              "ticks": ""
             }
            },
            "type": "scattermapbox"
           }
          ],
          "scatterpolar": [
           {
            "marker": {
             "colorbar": {
              "outlinewidth": 0,
              "ticks": ""
             }
            },
            "type": "scatterpolar"
           }
          ],
          "scatterpolargl": [
           {
            "marker": {
             "colorbar": {
              "outlinewidth": 0,
              "ticks": ""
             }
            },
            "type": "scatterpolargl"
           }
          ],
          "scatterternary": [
           {
            "marker": {
             "colorbar": {
              "outlinewidth": 0,
              "ticks": ""
             }
            },
            "type": "scatterternary"
           }
          ],
          "surface": [
           {
            "colorbar": {
             "outlinewidth": 0,
             "ticks": ""
            },
            "colorscale": [
             [
              0,
              "#0d0887"
             ],
             [
              0.1111111111111111,
              "#46039f"
             ],
             [
              0.2222222222222222,
              "#7201a8"
             ],
             [
              0.3333333333333333,
              "#9c179e"
             ],
             [
              0.4444444444444444,
              "#bd3786"
             ],
             [
              0.5555555555555556,
              "#d8576b"
             ],
             [
              0.6666666666666666,
              "#ed7953"
             ],
             [
              0.7777777777777778,
              "#fb9f3a"
             ],
             [
              0.8888888888888888,
              "#fdca26"
             ],
             [
              1,
              "#f0f921"
             ]
            ],
            "type": "surface"
           }
          ],
          "table": [
           {
            "cells": {
             "fill": {
              "color": "#EBF0F8"
             },
             "line": {
              "color": "white"
             }
            },
            "header": {
             "fill": {
              "color": "#C8D4E3"
             },
             "line": {
              "color": "white"
             }
            },
            "type": "table"
           }
          ]
         },
         "layout": {
          "annotationdefaults": {
           "arrowcolor": "#2a3f5f",
           "arrowhead": 0,
           "arrowwidth": 1
          },
          "coloraxis": {
           "colorbar": {
            "outlinewidth": 0,
            "ticks": ""
           }
          },
          "colorscale": {
           "diverging": [
            [
             0,
             "#8e0152"
            ],
            [
             0.1,
             "#c51b7d"
            ],
            [
             0.2,
             "#de77ae"
            ],
            [
             0.3,
             "#f1b6da"
            ],
            [
             0.4,
             "#fde0ef"
            ],
            [
             0.5,
             "#f7f7f7"
            ],
            [
             0.6,
             "#e6f5d0"
            ],
            [
             0.7,
             "#b8e186"
            ],
            [
             0.8,
             "#7fbc41"
            ],
            [
             0.9,
             "#4d9221"
            ],
            [
             1,
             "#276419"
            ]
           ],
           "sequential": [
            [
             0,
             "#0d0887"
            ],
            [
             0.1111111111111111,
             "#46039f"
            ],
            [
             0.2222222222222222,
             "#7201a8"
            ],
            [
             0.3333333333333333,
             "#9c179e"
            ],
            [
             0.4444444444444444,
             "#bd3786"
            ],
            [
             0.5555555555555556,
             "#d8576b"
            ],
            [
             0.6666666666666666,
             "#ed7953"
            ],
            [
             0.7777777777777778,
             "#fb9f3a"
            ],
            [
             0.8888888888888888,
             "#fdca26"
            ],
            [
             1,
             "#f0f921"
            ]
           ],
           "sequentialminus": [
            [
             0,
             "#0d0887"
            ],
            [
             0.1111111111111111,
             "#46039f"
            ],
            [
             0.2222222222222222,
             "#7201a8"
            ],
            [
             0.3333333333333333,
             "#9c179e"
            ],
            [
             0.4444444444444444,
             "#bd3786"
            ],
            [
             0.5555555555555556,
             "#d8576b"
            ],
            [
             0.6666666666666666,
             "#ed7953"
            ],
            [
             0.7777777777777778,
             "#fb9f3a"
            ],
            [
             0.8888888888888888,
             "#fdca26"
            ],
            [
             1,
             "#f0f921"
            ]
           ]
          },
          "colorway": [
           "#636efa",
           "#EF553B",
           "#00cc96",
           "#ab63fa",
           "#FFA15A",
           "#19d3f3",
           "#FF6692",
           "#B6E880",
           "#FF97FF",
           "#FECB52"
          ],
          "font": {
           "color": "#2a3f5f"
          },
          "geo": {
           "bgcolor": "white",
           "lakecolor": "white",
           "landcolor": "#E5ECF6",
           "showlakes": true,
           "showland": true,
           "subunitcolor": "white"
          },
          "hoverlabel": {
           "align": "left"
          },
          "hovermode": "closest",
          "mapbox": {
           "style": "light"
          },
          "paper_bgcolor": "white",
          "plot_bgcolor": "#E5ECF6",
          "polar": {
           "angularaxis": {
            "gridcolor": "white",
            "linecolor": "white",
            "ticks": ""
           },
           "bgcolor": "#E5ECF6",
           "radialaxis": {
            "gridcolor": "white",
            "linecolor": "white",
            "ticks": ""
           }
          },
          "scene": {
           "xaxis": {
            "backgroundcolor": "#E5ECF6",
            "gridcolor": "white",
            "gridwidth": 2,
            "linecolor": "white",
            "showbackground": true,
            "ticks": "",
            "zerolinecolor": "white"
           },
           "yaxis": {
            "backgroundcolor": "#E5ECF6",
            "gridcolor": "white",
            "gridwidth": 2,
            "linecolor": "white",
            "showbackground": true,
            "ticks": "",
            "zerolinecolor": "white"
           },
           "zaxis": {
            "backgroundcolor": "#E5ECF6",
            "gridcolor": "white",
            "gridwidth": 2,
            "linecolor": "white",
            "showbackground": true,
            "ticks": "",
            "zerolinecolor": "white"
           }
          },
          "shapedefaults": {
           "line": {
            "color": "#2a3f5f"
           }
          },
          "ternary": {
           "aaxis": {
            "gridcolor": "white",
            "linecolor": "white",
            "ticks": ""
           },
           "baxis": {
            "gridcolor": "white",
            "linecolor": "white",
            "ticks": ""
           },
           "bgcolor": "#E5ECF6",
           "caxis": {
            "gridcolor": "white",
            "linecolor": "white",
            "ticks": ""
           }
          },
          "title": {
           "x": 0.05
          },
          "xaxis": {
           "automargin": true,
           "gridcolor": "white",
           "linecolor": "white",
           "ticks": "",
           "title": {
            "standoff": 15
           },
           "zerolinecolor": "white",
           "zerolinewidth": 2
          },
          "yaxis": {
           "automargin": true,
           "gridcolor": "white",
           "linecolor": "white",
           "ticks": "",
           "title": {
            "standoff": 15
           },
           "zerolinecolor": "white",
           "zerolinewidth": 2
          }
         }
        },
        "title": {
         "text": "<b>Prestador : #nombre,  Especialidad: Pediatría</b><br><span style='color: gray; font-size:0.8em'>En celeste se indica el score medio de su especialidad</span>"
        },
        "width": 1000
       }
      },
      "text/html": [
       "<div>\n",
       "        \n",
       "        \n",
       "            <div id=\"91213e69-0e2b-4f39-be6d-c3af0a168f88\" class=\"plotly-graph-div\" style=\"height:350px; width:1000px;\"></div>\n",
       "            <script type=\"text/javascript\">\n",
       "                require([\"plotly\"], function(Plotly) {\n",
       "                    window.PLOTLYENV=window.PLOTLYENV || {};\n",
       "                    \n",
       "                if (document.getElementById(\"91213e69-0e2b-4f39-be6d-c3af0a168f88\")) {\n",
       "                    Plotly.newPlot(\n",
       "                        '91213e69-0e2b-4f39-be6d-c3af0a168f88',\n",
       "                        [{\"delta\": {\"position\": \"right\", \"reference\": 83.28}, \"domain\": {\"x\": [0, 1], \"y\": [0, 1]}, \"gauge\": {\"axis\": {\"range\": [null, 100], \"tickangle\": -90, \"ticktext\": [\"Score Prestador\", \"Score Especialidad\"], \"tickvals\": [69.75, 83.28]}, \"bar\": {\"color\": \"#b9b9b9\"}, \"bgcolor\": \"white\", \"shape\": \"bullet\", \"steps\": [{\"color\": \"rgb(254, 245, 244)\", \"range\": [0, 10]}, {\"color\": \"rgb(247,252,245)\", \"range\": [10, 20]}, {\"color\": \"rgb(229,245,224)\", \"range\": [20, 30]}, {\"color\": \"rgb(199,233,192)\", \"range\": [30, 40]}, {\"color\": \"rgb(161,217,155)\", \"range\": [40, 50]}, {\"color\": \"rgb(116,196,118)\", \"range\": [50, 60]}, {\"color\": \"rgb(65,171,93)\", \"range\": [60, 70]}, {\"color\": \"rgb(35,139,69)\", \"range\": [70, 80]}, {\"color\": \"rgb(0,109,44)\", \"range\": [80, 90]}, {\"color\": \"rgb(0,68,27)\", \"range\": [90, 100]}], \"threshold\": {\"line\": {\"color\": \"skyblue\", \"width\": 5}, \"thickness\": 0.75, \"value\": 83.28}}, \"mode\": \"number+gauge+delta\", \"title\": {\"font\": {\"size\": 14}, \"text\": \"<b>Score</b><br><span style='color: gray; font-size:0.8em'>2019-10</span>\"}, \"type\": \"indicator\", \"value\": 69.75}],\n",
       "                        {\"height\": 350, \"margin\": {\"b\": 160}, \"template\": {\"data\": {\"bar\": [{\"error_x\": {\"color\": \"#2a3f5f\"}, \"error_y\": {\"color\": \"#2a3f5f\"}, \"marker\": {\"line\": {\"color\": \"#E5ECF6\", \"width\": 0.5}}, \"type\": \"bar\"}], \"barpolar\": [{\"marker\": {\"line\": {\"color\": \"#E5ECF6\", \"width\": 0.5}}, \"type\": \"barpolar\"}], \"carpet\": [{\"aaxis\": {\"endlinecolor\": \"#2a3f5f\", \"gridcolor\": \"white\", \"linecolor\": \"white\", \"minorgridcolor\": \"white\", \"startlinecolor\": \"#2a3f5f\"}, \"baxis\": {\"endlinecolor\": \"#2a3f5f\", \"gridcolor\": \"white\", \"linecolor\": \"white\", \"minorgridcolor\": \"white\", \"startlinecolor\": \"#2a3f5f\"}, \"type\": \"carpet\"}], \"choropleth\": [{\"colorbar\": {\"outlinewidth\": 0, \"ticks\": \"\"}, \"type\": \"choropleth\"}], \"contour\": [{\"colorbar\": {\"outlinewidth\": 0, \"ticks\": \"\"}, \"colorscale\": [[0.0, \"#0d0887\"], [0.1111111111111111, \"#46039f\"], [0.2222222222222222, \"#7201a8\"], [0.3333333333333333, \"#9c179e\"], [0.4444444444444444, \"#bd3786\"], [0.5555555555555556, \"#d8576b\"], [0.6666666666666666, \"#ed7953\"], [0.7777777777777778, \"#fb9f3a\"], [0.8888888888888888, \"#fdca26\"], [1.0, \"#f0f921\"]], \"type\": \"contour\"}], \"contourcarpet\": [{\"colorbar\": {\"outlinewidth\": 0, \"ticks\": \"\"}, \"type\": \"contourcarpet\"}], \"heatmap\": [{\"colorbar\": {\"outlinewidth\": 0, \"ticks\": \"\"}, \"colorscale\": [[0.0, \"#0d0887\"], [0.1111111111111111, \"#46039f\"], [0.2222222222222222, \"#7201a8\"], [0.3333333333333333, \"#9c179e\"], [0.4444444444444444, \"#bd3786\"], [0.5555555555555556, \"#d8576b\"], [0.6666666666666666, \"#ed7953\"], [0.7777777777777778, \"#fb9f3a\"], [0.8888888888888888, \"#fdca26\"], [1.0, \"#f0f921\"]], \"type\": \"heatmap\"}], \"heatmapgl\": [{\"colorbar\": {\"outlinewidth\": 0, \"ticks\": \"\"}, \"colorscale\": [[0.0, \"#0d0887\"], [0.1111111111111111, \"#46039f\"], [0.2222222222222222, \"#7201a8\"], [0.3333333333333333, \"#9c179e\"], [0.4444444444444444, \"#bd3786\"], [0.5555555555555556, \"#d8576b\"], [0.6666666666666666, \"#ed7953\"], [0.7777777777777778, \"#fb9f3a\"], [0.8888888888888888, \"#fdca26\"], [1.0, \"#f0f921\"]], \"type\": \"heatmapgl\"}], \"histogram\": [{\"marker\": {\"colorbar\": {\"outlinewidth\": 0, \"ticks\": \"\"}}, \"type\": \"histogram\"}], \"histogram2d\": [{\"colorbar\": {\"outlinewidth\": 0, \"ticks\": \"\"}, \"colorscale\": [[0.0, \"#0d0887\"], [0.1111111111111111, \"#46039f\"], [0.2222222222222222, \"#7201a8\"], [0.3333333333333333, \"#9c179e\"], [0.4444444444444444, \"#bd3786\"], [0.5555555555555556, \"#d8576b\"], [0.6666666666666666, \"#ed7953\"], [0.7777777777777778, \"#fb9f3a\"], [0.8888888888888888, \"#fdca26\"], [1.0, \"#f0f921\"]], \"type\": \"histogram2d\"}], \"histogram2dcontour\": [{\"colorbar\": {\"outlinewidth\": 0, \"ticks\": \"\"}, \"colorscale\": [[0.0, \"#0d0887\"], [0.1111111111111111, \"#46039f\"], [0.2222222222222222, \"#7201a8\"], [0.3333333333333333, \"#9c179e\"], [0.4444444444444444, \"#bd3786\"], [0.5555555555555556, \"#d8576b\"], [0.6666666666666666, \"#ed7953\"], [0.7777777777777778, \"#fb9f3a\"], [0.8888888888888888, \"#fdca26\"], [1.0, \"#f0f921\"]], \"type\": \"histogram2dcontour\"}], \"mesh3d\": [{\"colorbar\": {\"outlinewidth\": 0, \"ticks\": \"\"}, \"type\": \"mesh3d\"}], \"parcoords\": [{\"line\": {\"colorbar\": {\"outlinewidth\": 0, \"ticks\": \"\"}}, \"type\": \"parcoords\"}], \"pie\": [{\"automargin\": true, \"type\": \"pie\"}], \"scatter\": [{\"marker\": {\"colorbar\": {\"outlinewidth\": 0, \"ticks\": \"\"}}, \"type\": \"scatter\"}], \"scatter3d\": [{\"line\": {\"colorbar\": {\"outlinewidth\": 0, \"ticks\": \"\"}}, \"marker\": {\"colorbar\": {\"outlinewidth\": 0, \"ticks\": \"\"}}, \"type\": \"scatter3d\"}], \"scattercarpet\": [{\"marker\": {\"colorbar\": {\"outlinewidth\": 0, \"ticks\": \"\"}}, \"type\": \"scattercarpet\"}], \"scattergeo\": [{\"marker\": {\"colorbar\": {\"outlinewidth\": 0, \"ticks\": \"\"}}, \"type\": \"scattergeo\"}], \"scattergl\": [{\"marker\": {\"colorbar\": {\"outlinewidth\": 0, \"ticks\": \"\"}}, \"type\": \"scattergl\"}], \"scattermapbox\": [{\"marker\": {\"colorbar\": {\"outlinewidth\": 0, \"ticks\": \"\"}}, \"type\": \"scattermapbox\"}], \"scatterpolar\": [{\"marker\": {\"colorbar\": {\"outlinewidth\": 0, \"ticks\": \"\"}}, \"type\": \"scatterpolar\"}], \"scatterpolargl\": [{\"marker\": {\"colorbar\": {\"outlinewidth\": 0, \"ticks\": \"\"}}, \"type\": \"scatterpolargl\"}], \"scatterternary\": [{\"marker\": {\"colorbar\": {\"outlinewidth\": 0, \"ticks\": \"\"}}, \"type\": \"scatterternary\"}], \"surface\": [{\"colorbar\": {\"outlinewidth\": 0, \"ticks\": \"\"}, \"colorscale\": [[0.0, \"#0d0887\"], [0.1111111111111111, \"#46039f\"], [0.2222222222222222, \"#7201a8\"], [0.3333333333333333, \"#9c179e\"], [0.4444444444444444, \"#bd3786\"], [0.5555555555555556, \"#d8576b\"], [0.6666666666666666, \"#ed7953\"], [0.7777777777777778, \"#fb9f3a\"], [0.8888888888888888, \"#fdca26\"], [1.0, \"#f0f921\"]], \"type\": \"surface\"}], \"table\": [{\"cells\": {\"fill\": {\"color\": \"#EBF0F8\"}, \"line\": {\"color\": \"white\"}}, \"header\": {\"fill\": {\"color\": \"#C8D4E3\"}, \"line\": {\"color\": \"white\"}}, \"type\": \"table\"}]}, \"layout\": {\"annotationdefaults\": {\"arrowcolor\": \"#2a3f5f\", \"arrowhead\": 0, \"arrowwidth\": 1}, \"coloraxis\": {\"colorbar\": {\"outlinewidth\": 0, \"ticks\": \"\"}}, \"colorscale\": {\"diverging\": [[0, \"#8e0152\"], [0.1, \"#c51b7d\"], [0.2, \"#de77ae\"], [0.3, \"#f1b6da\"], [0.4, \"#fde0ef\"], [0.5, \"#f7f7f7\"], [0.6, \"#e6f5d0\"], [0.7, \"#b8e186\"], [0.8, \"#7fbc41\"], [0.9, \"#4d9221\"], [1, \"#276419\"]], \"sequential\": [[0.0, \"#0d0887\"], [0.1111111111111111, \"#46039f\"], [0.2222222222222222, \"#7201a8\"], [0.3333333333333333, \"#9c179e\"], [0.4444444444444444, \"#bd3786\"], [0.5555555555555556, \"#d8576b\"], [0.6666666666666666, \"#ed7953\"], [0.7777777777777778, \"#fb9f3a\"], [0.8888888888888888, \"#fdca26\"], [1.0, \"#f0f921\"]], \"sequentialminus\": [[0.0, \"#0d0887\"], [0.1111111111111111, \"#46039f\"], [0.2222222222222222, \"#7201a8\"], [0.3333333333333333, \"#9c179e\"], [0.4444444444444444, \"#bd3786\"], [0.5555555555555556, \"#d8576b\"], [0.6666666666666666, \"#ed7953\"], [0.7777777777777778, \"#fb9f3a\"], [0.8888888888888888, \"#fdca26\"], [1.0, \"#f0f921\"]]}, \"colorway\": [\"#636efa\", \"#EF553B\", \"#00cc96\", \"#ab63fa\", \"#FFA15A\", \"#19d3f3\", \"#FF6692\", \"#B6E880\", \"#FF97FF\", \"#FECB52\"], \"font\": {\"color\": \"#2a3f5f\"}, \"geo\": {\"bgcolor\": \"white\", \"lakecolor\": \"white\", \"landcolor\": \"#E5ECF6\", \"showlakes\": true, \"showland\": true, \"subunitcolor\": \"white\"}, \"hoverlabel\": {\"align\": \"left\"}, \"hovermode\": \"closest\", \"mapbox\": {\"style\": \"light\"}, \"paper_bgcolor\": \"white\", \"plot_bgcolor\": \"#E5ECF6\", \"polar\": {\"angularaxis\": {\"gridcolor\": \"white\", \"linecolor\": \"white\", \"ticks\": \"\"}, \"bgcolor\": \"#E5ECF6\", \"radialaxis\": {\"gridcolor\": \"white\", \"linecolor\": \"white\", \"ticks\": \"\"}}, \"scene\": {\"xaxis\": {\"backgroundcolor\": \"#E5ECF6\", \"gridcolor\": \"white\", \"gridwidth\": 2, \"linecolor\": \"white\", \"showbackground\": true, \"ticks\": \"\", \"zerolinecolor\": \"white\"}, \"yaxis\": {\"backgroundcolor\": \"#E5ECF6\", \"gridcolor\": \"white\", \"gridwidth\": 2, \"linecolor\": \"white\", \"showbackground\": true, \"ticks\": \"\", \"zerolinecolor\": \"white\"}, \"zaxis\": {\"backgroundcolor\": \"#E5ECF6\", \"gridcolor\": \"white\", \"gridwidth\": 2, \"linecolor\": \"white\", \"showbackground\": true, \"ticks\": \"\", \"zerolinecolor\": \"white\"}}, \"shapedefaults\": {\"line\": {\"color\": \"#2a3f5f\"}}, \"ternary\": {\"aaxis\": {\"gridcolor\": \"white\", \"linecolor\": \"white\", \"ticks\": \"\"}, \"baxis\": {\"gridcolor\": \"white\", \"linecolor\": \"white\", \"ticks\": \"\"}, \"bgcolor\": \"#E5ECF6\", \"caxis\": {\"gridcolor\": \"white\", \"linecolor\": \"white\", \"ticks\": \"\"}}, \"title\": {\"x\": 0.05}, \"xaxis\": {\"automargin\": true, \"gridcolor\": \"white\", \"linecolor\": \"white\", \"ticks\": \"\", \"title\": {\"standoff\": 15}, \"zerolinecolor\": \"white\", \"zerolinewidth\": 2}, \"yaxis\": {\"automargin\": true, \"gridcolor\": \"white\", \"linecolor\": \"white\", \"ticks\": \"\", \"title\": {\"standoff\": 15}, \"zerolinecolor\": \"white\", \"zerolinewidth\": 2}}}, \"title\": {\"text\": \"<b>Prestador : #nombre,  Especialidad: Pediatr\\u00eda</b><br><span style='color: gray; font-size:0.8em'>En celeste se indica el score medio de su especialidad</span>\"}, \"width\": 1000},\n",
       "                        {\"responsive\": true}\n",
       "                    ).then(function(){\n",
       "                            \n",
       "var gd = document.getElementById('91213e69-0e2b-4f39-be6d-c3af0a168f88');\n",
       "var x = new MutationObserver(function (mutations, observer) {{\n",
       "        var display = window.getComputedStyle(gd).display;\n",
       "        if (!display || display === 'none') {{\n",
       "            console.log([gd, 'removed!']);\n",
       "            Plotly.purge(gd);\n",
       "            observer.disconnect();\n",
       "        }}\n",
       "}});\n",
       "\n",
       "// Listen for the removal of the full notebook cells\n",
       "var notebookContainer = gd.closest('#notebook-container');\n",
       "if (notebookContainer) {{\n",
       "    x.observe(notebookContainer, {childList: true});\n",
       "}}\n",
       "\n",
       "// Listen for the clearing of the current output cell\n",
       "var outputEl = gd.closest('.output');\n",
       "if (outputEl) {{\n",
       "    x.observe(outputEl, {childList: true});\n",
       "}}\n",
       "\n",
       "                        })\n",
       "                };\n",
       "                });\n",
       "            </script>\n",
       "        </div>"
      ]
     },
     "metadata": {},
     "output_type": "display_data"
    }
   ],
   "source": [
    "colors = ['rgb(254, 245, 244)','rgb(247,252,245)', 'rgb(229,245,224)', 'rgb(199,233,192)', 'rgb(161,217,155)', 'rgb(116,196,118)', 'rgb(65,171,93)', 'rgb(35,139,69)','rgb(0,109,44)','rgb(0,68,27)']\n",
    "fig_scores = go.Figure(go.Indicator(\n",
    "    delta = {'reference': score_esp , 'position': \"right\"},\n",
    "    mode = \"number+gauge+delta\", value = score_prestador,\n",
    "    domain = {'x': [0, 1], 'y': [0, 1]},\n",
    "    \n",
    "    title = {'text':f\"<b>Score</b><br><span style='color: gray; font-size:0.8em'>{mes}</span>\", 'font': {\"size\": 14}},\n",
    "    gauge = {\n",
    "        'shape': \"bullet\",\n",
    "            'axis': {'range': [None, 100], \"tickvals\":[score_prestador,score_esp], \"tickangle\":-90, \"ticktext\": ['Score Prestador', \"Score Especialidad\"],},\n",
    "        'threshold': {\n",
    "            'line': {'color': \"skyblue\", 'width': 5},\n",
    "            'thickness': 0.75, 'value': score_esp},\n",
    "        'bgcolor': \"white\",\n",
    "        'steps':[{'range': [i, j], 'color': k} for i,j,k in zip(list(range(0,100,10)),list(range(10,110,10)), colors )],\n",
    "        'bar': {'color': \"#b9b9b9\"}\n",
    "    \n",
    "    }))\n",
    "fig_scores.update_layout(height = 350, width= 1000, title=dict(text = f\"<b>Prestador : #nombre,  Especialidad: {esp}</b><br><span style='color: gray; font-size:0.8em'>En celeste se indica el score medio de su especialidad</span>\"),\n",
    "                         margin=dict(b=160),\n",
    " )\n",
    "fig_scores.show()"
   ]
  },
  {
   "cell_type": "code",
   "execution_count": 214,
   "metadata": {},
   "outputs": [],
   "source": []
  },
  {
   "cell_type": "code",
   "execution_count": null,
   "metadata": {},
   "outputs": [],
   "source": []
  }
 ],
 "metadata": {
  "kernelspec": {
   "display_name": "Python 3",
   "language": "python",
   "name": "python3"
  },
  "language_info": {
   "codemirror_mode": {
    "name": "ipython",
    "version": 3
   },
   "file_extension": ".py",
   "mimetype": "text/x-python",
   "name": "python",
   "nbconvert_exporter": "python",
   "pygments_lexer": "ipython3",
   "version": "3.7.6"
  }
 },
 "nbformat": 4,
 "nbformat_minor": 4
}
