{
 "cells": [
  {
   "cell_type": "markdown",
   "metadata": {},
   "source": [
    "## Métrica desconocimiento"
   ]
  },
  {
   "cell_type": "code",
   "execution_count": 43,
   "metadata": {},
   "outputs": [],
   "source": [
    "from dbconn import querydb, querydbtopandas \n",
    "import pandas as pd "
   ]
  },
  {
   "cell_type": "code",
   "execution_count": 44,
   "metadata": {},
   "outputs": [],
   "source": [
    "mayor = \"2020-05\"\n",
    "menor = \"2019-04\""
   ]
  },
  {
   "cell_type": "code",
   "execution_count": 51,
   "metadata": {},
   "outputs": [],
   "source": [
    "clinicas_propias_id = pd.read_excel(\"centros_propios_swiss.xlsx\",index_col=0).id_pre_prestador.to_list()\n"
   ]
  },
  {
   "cell_type": "code",
   "execution_count": 45,
   "metadata": {},
   "outputs": [],
   "source": [
    "data = querydbtopandas(f\"\"\"select    a11.id_encuesta  id_encuesta,    \n",
    "                a11.id_afiliado  id_afi_afiliado,\n",
    "                a11.id_prestador  id_pre_prestador,                   \n",
    "                max(a13.desc_pre_nombre)  desc_pre_nombre,\n",
    "                pre_domicilio pre_domicilio,\n",
    "                a14.desc_lugar_domi,\n",
    "                max(a13.vigente)  vigente,\n",
    "                a11.id_transac_tipo  id_transac_tipo,            \n",
    "                a11.id_prest_prestacion  id_pres_prestacion,\n",
    "                max(a18.desc_pres_prestacion)  desc_pres_prestacion,\n",
    "                max(a18.prestac_pres_prestacion)  prestac_pres_prestacion,\n",
    "                a11.fec_encuesta,\n",
    "                sum(distinct a11.i_CNT_desc)  QDESCONOCIDAS\n",
    "from      DBA.ft_prest_encuestas              a11\n",
    "                join        DBA.d_pre_prestador   a13\n",
    "                  on        (a11.id_prestador = a13.id_pre_prestador)\n",
    "                join        DBA.d_pres_prestacion a18\n",
    "                  on        (a11.id_prest_prestacion = a18.id_pres_prestacion)\n",
    "                left join DBA.d_pre_prestador_consultorio a14\n",
    "                  on        (a13.desc_pre_nombre = a14.pre_nombre)\n",
    "                  \n",
    "where (cast(a11.fec_encuesta as date) >= date(\"{menor}\") and cast(a11.fec_encuesta as date) < date(\"{mayor}\")\n",
    "and a11.id_moti_desconoc <> 1\n",
    "and a11.id_prestador <> 0)\n",
    "group by             a11.id_encuesta,\n",
    "                a11.fec_encuesta,\n",
    "                a14.desc_lugar_domi,\n",
    "                a11.id_afiliado,\n",
    "                a11.id_prestador, \n",
    "                a13.pre_domicilio,\n",
    "                a13.id_pre_especialidad,\n",
    "                a11.id_transac_tipo,\n",
    "                a11.id_prest_prestacion,\n",
    "                DATE(a11.fec_consumo),\n",
    "                a11.id_tie_mes_c\"\"\")"
   ]
  },
  {
   "cell_type": "code",
   "execution_count": 46,
   "metadata": {},
   "outputs": [],
   "source": [
    "data.fec_encuesta = data.fec_encuesta.astype(str).str[:7]"
   ]
  },
  {
   "cell_type": "code",
   "execution_count": 47,
   "metadata": {},
   "outputs": [
    {
     "data": {
      "text/plain": [
       "13"
      ]
     },
     "execution_count": 47,
     "metadata": {},
     "output_type": "execute_result"
    }
   ],
   "source": [
    "data.fec_encuesta.nunique()"
   ]
  },
  {
   "cell_type": "code",
   "execution_count": 48,
   "metadata": {},
   "outputs": [],
   "source": [
    "for i in data.fec_encuesta.unique():\n",
    "    df = data[data[\"fec_encuesta\"] == i]\n",
    "    \n",
    "    \n",
    "    \n",
    "    cma = df[df[\"id_pre_prestador\"].isin(clinicas_propias_id)][[\"id_pre_prestador\", \"desc_pre_nombre\"]].rename(columns={\"desc_pre_nombre\": \"cma\"})\n",
    "    df = pd.merge(df, cma, how=\"outer\").fillna(\"No aplica\")\n",
    "\n",
    "    #count de encuestas\n",
    "    encuestas_desconocidas = df.groupby([\"id_pre_prestador\",\"desc_pre_nombre\",\"cma\"])[\"id_encuesta\"].nunique()\n",
    "\n",
    "    #count de afiliados\n",
    "    afiliados_desconocidos = df.groupby([\"id_pre_prestador\",\"desc_pre_nombre\", \"cma\"])[\"id_afi_afiliado\"].nunique()\n",
    "\n",
    "    df = pd.concat([encuestas_desconocidas, afiliados_desconocidos],axis=1).reset_index()\n",
    "\n",
    "    df.rename(columns = {\"id_pre_prestador\":\"Prestador\",\n",
    "                        \"desc_pre_nombre\":\"Razón Social\",\n",
    "                        \"id_encuesta\":\"Q desconocidas\",\n",
    "                        \"id_afi_afiliado\":\"Q afiliados\"},inplace=True)\n",
    "\n",
    "    df = df[['Prestador', 'Razón Social', 'cma', 'Q afiliados', 'Q desconocidas']]\n",
    "    final = df.sort_values(by= \"Q afiliados\", ascending = False)\n",
    "    final.to_parquet(f'datos_desconocimiento/{i}.gzip',compression='gzip') \n"
   ]
  },
  {
   "cell_type": "code",
   "execution_count": 49,
   "metadata": {},
   "outputs": [
    {
     "data": {
      "text/html": [
       "<div>\n",
       "<style scoped>\n",
       "    .dataframe tbody tr th:only-of-type {\n",
       "        vertical-align: middle;\n",
       "    }\n",
       "\n",
       "    .dataframe tbody tr th {\n",
       "        vertical-align: top;\n",
       "    }\n",
       "\n",
       "    .dataframe thead th {\n",
       "        text-align: right;\n",
       "    }\n",
       "</style>\n",
       "<table border=\"1\" class=\"dataframe\">\n",
       "  <thead>\n",
       "    <tr style=\"text-align: right;\">\n",
       "      <th></th>\n",
       "      <th>Prestador</th>\n",
       "      <th>Razón Social</th>\n",
       "      <th>cma</th>\n",
       "      <th>Q afiliados</th>\n",
       "      <th>Q desconocidas</th>\n",
       "    </tr>\n",
       "  </thead>\n",
       "  <tbody>\n",
       "    <tr>\n",
       "      <th>116</th>\n",
       "      <td>37047</td>\n",
       "      <td>Asociación Médica de Rosario</td>\n",
       "      <td>No aplica</td>\n",
       "      <td>18</td>\n",
       "      <td>27</td>\n",
       "    </tr>\n",
       "    <tr>\n",
       "      <th>142</th>\n",
       "      <td>52769</td>\n",
       "      <td>Colegio de Kinesiólogos de la Pcia. de Bs. As....</td>\n",
       "      <td>No aplica</td>\n",
       "      <td>14</td>\n",
       "      <td>30</td>\n",
       "    </tr>\n",
       "    <tr>\n",
       "      <th>8</th>\n",
       "      <td>1127</td>\n",
       "      <td>Hospital Británico</td>\n",
       "      <td>No aplica</td>\n",
       "      <td>12</td>\n",
       "      <td>15</td>\n",
       "    </tr>\n",
       "    <tr>\n",
       "      <th>34</th>\n",
       "      <td>2085</td>\n",
       "      <td>Clínica San Camilo</td>\n",
       "      <td>No aplica</td>\n",
       "      <td>12</td>\n",
       "      <td>23</td>\n",
       "    </tr>\n",
       "    <tr>\n",
       "      <th>28</th>\n",
       "      <td>1632</td>\n",
       "      <td>SWISS MEDICAL CENTER BARRIO NORTE</td>\n",
       "      <td>SWISS MEDICAL CENTER BARRIO NORTE</td>\n",
       "      <td>12</td>\n",
       "      <td>12</td>\n",
       "    </tr>\n",
       "    <tr>\n",
       "      <th>...</th>\n",
       "      <td>...</td>\n",
       "      <td>...</td>\n",
       "      <td>...</td>\n",
       "      <td>...</td>\n",
       "      <td>...</td>\n",
       "    </tr>\n",
       "    <tr>\n",
       "      <th>183</th>\n",
       "      <td>80614</td>\n",
       "      <td>Lodeiro,Jorge L.</td>\n",
       "      <td>No aplica</td>\n",
       "      <td>1</td>\n",
       "      <td>1</td>\n",
       "    </tr>\n",
       "    <tr>\n",
       "      <th>184</th>\n",
       "      <td>80617</td>\n",
       "      <td>Kuperman,Mirta A.</td>\n",
       "      <td>No aplica</td>\n",
       "      <td>1</td>\n",
       "      <td>1</td>\n",
       "    </tr>\n",
       "    <tr>\n",
       "      <th>46</th>\n",
       "      <td>22131</td>\n",
       "      <td>Hofman,Elías</td>\n",
       "      <td>No aplica</td>\n",
       "      <td>1</td>\n",
       "      <td>1</td>\n",
       "    </tr>\n",
       "    <tr>\n",
       "      <th>186</th>\n",
       "      <td>80776</td>\n",
       "      <td>Tau Anzoategui,Pablo</td>\n",
       "      <td>No aplica</td>\n",
       "      <td>1</td>\n",
       "      <td>1</td>\n",
       "    </tr>\n",
       "    <tr>\n",
       "      <th>355</th>\n",
       "      <td>238913</td>\n",
       "      <td>Rueda,Adriana S.</td>\n",
       "      <td>No aplica</td>\n",
       "      <td>1</td>\n",
       "      <td>2</td>\n",
       "    </tr>\n",
       "  </tbody>\n",
       "</table>\n",
       "<p>356 rows × 5 columns</p>\n",
       "</div>"
      ],
      "text/plain": [
       "     Prestador                                       Razón Social  \\\n",
       "116      37047                       Asociación Médica de Rosario   \n",
       "142      52769  Colegio de Kinesiólogos de la Pcia. de Bs. As....   \n",
       "8         1127                                 Hospital Británico   \n",
       "34        2085                                 Clínica San Camilo   \n",
       "28        1632                  SWISS MEDICAL CENTER BARRIO NORTE   \n",
       "..         ...                                                ...   \n",
       "183      80614                                   Lodeiro,Jorge L.   \n",
       "184      80617                                  Kuperman,Mirta A.   \n",
       "46       22131                                       Hofman,Elías   \n",
       "186      80776                               Tau Anzoategui,Pablo   \n",
       "355     238913                                   Rueda,Adriana S.   \n",
       "\n",
       "                                   cma  Q afiliados  Q desconocidas  \n",
       "116                          No aplica           18              27  \n",
       "142                          No aplica           14              30  \n",
       "8                            No aplica           12              15  \n",
       "34                           No aplica           12              23  \n",
       "28   SWISS MEDICAL CENTER BARRIO NORTE           12              12  \n",
       "..                                 ...          ...             ...  \n",
       "183                          No aplica            1               1  \n",
       "184                          No aplica            1               1  \n",
       "46                           No aplica            1               1  \n",
       "186                          No aplica            1               1  \n",
       "355                          No aplica            1               2  \n",
       "\n",
       "[356 rows x 5 columns]"
      ]
     },
     "execution_count": 49,
     "metadata": {},
     "output_type": "execute_result"
    }
   ],
   "source": [
    "final"
   ]
  },
  {
   "cell_type": "code",
   "execution_count": null,
   "metadata": {},
   "outputs": [],
   "source": []
  }
 ],
 "metadata": {
  "kernelspec": {
   "display_name": "Python 3",
   "language": "python",
   "name": "python3"
  },
  "language_info": {
   "codemirror_mode": {
    "name": "ipython",
    "version": 3
   },
   "file_extension": ".py",
   "mimetype": "text/x-python",
   "name": "python",
   "nbconvert_exporter": "python",
   "pygments_lexer": "ipython3",
   "version": "3.7.6"
  }
 },
 "nbformat": 4,
 "nbformat_minor": 4
}
