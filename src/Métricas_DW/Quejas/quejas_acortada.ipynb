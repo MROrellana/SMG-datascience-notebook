{
 "cells": [
  {
   "cell_type": "markdown",
   "metadata": {},
   "source": [
    "## Métrica quejas"
   ]
  },
  {
   "cell_type": "code",
   "execution_count": 693,
   "metadata": {},
   "outputs": [],
   "source": [
    "#ver lo de generenias para el futuro"
   ]
  },
  {
   "cell_type": "code",
   "execution_count": 1,
   "metadata": {},
   "outputs": [],
   "source": [
    "from dbconn import querydb, querydbtopandas \n",
    "import pandas as pd \n",
    "import datetime\n",
    "import calendar"
   ]
  },
  {
   "cell_type": "code",
   "execution_count": 2,
   "metadata": {},
   "outputs": [],
   "source": [
    "pd.set_option('display.max_columns', 500)"
   ]
  },
  {
   "cell_type": "code",
   "execution_count": 3,
   "metadata": {},
   "outputs": [],
   "source": [
    "menor = str(datetime.datetime.today() - datetime.timedelta(days=20))[:7]\n",
    "\n",
    "mayor = str(datetime.datetime.today())[:7] # - datetime.timedelta(days=20))[:7]\n",
    "gerencia = \"18, 19\""
   ]
  },
  {
   "cell_type": "code",
   "execution_count": 4,
   "metadata": {},
   "outputs": [],
   "source": [
    "gerencias = querydbtopandas(f\"\"\"select id_gerencia,ger_Descripcion from DBA.CRM_GERENCIAS \"\"\")"
   ]
  },
  {
   "cell_type": "code",
   "execution_count": 6,
   "metadata": {},
   "outputs": [],
   "source": [
    "mayor= \"2020-05\"\n",
    "menor = \"2020-04\""
   ]
  },
  {
   "cell_type": "code",
   "execution_count": 7,
   "metadata": {},
   "outputs": [],
   "source": [
    "data = querydbtopandas(f\"\"\"select a11.workflow_id  workflow_id,\n",
    "   max(a113.detalle)  detalle3,\n",
    "  a12.prestad  id_pre_prestador,\n",
    "  a18.GERENCIA,\n",
    "  a11.registro_fecha_max,\n",
    "   max(a13.desc_pre_nombre)  desc_pre_nombre,\n",
    "   sum(1.0)  CANTIDADETAPASMINNDISTINCT\n",
    "   from   DBA.CRM_ETAPAS_MIN_MAX a11\n",
    "   join   DBA.crm_quejas_categ_resol a12\n",
    "     on   (a11.etapa_id_max = a12.ETAPA_ID)\n",
    "  join   DBA.d_pre_prestador    a13\n",
    "     on   (a12.prestad = a13.id_pre_prestador)         \n",
    "   join   DBA.crm_atributo_quejas    a113\n",
    "     on   (a12.atributo_id = a113.atributo_id)  \n",
    "   join   DBA.ft_pad_padron_iq   a14\n",
    "     on   (a11.ID_AFI_AFILIADO = a14.id_afiliados and\n",
    "   a11.id_tie_mes_max = a14.MES)  \n",
    "   join   DBA.CRM_SUBMOTIVOS a18\n",
    "     on   (a12.SUBMOTIVO_ID = a18.SUBMOTIVO_ID and\n",
    "   a12.motivo_llamado_id = a18.motivo_id)\n",
    "where  (a11.registro_fecha_max BETWEEN date(\"{menor}\") and date(\"{mayor}\")\n",
    "and a11.motivo_id = 8\n",
    "and a12.estado in (14)\n",
    "and a18.GERENCIA in ({gerencia})\n",
    "and a12.prestad <> 0)\n",
    "group by   a11.workflow_id,\n",
    "    a11.registro_fecha_max,\n",
    "   a18.GERENCIA,\n",
    "   a12.finalizado,\n",
    "   prestad,\n",
    "   a12.ALTA_FECHA\n",
    "   \"\"\")"
   ]
  },
  {
   "cell_type": "code",
   "execution_count": 8,
   "metadata": {},
   "outputs": [],
   "source": [
    "data.registro_fecha_max = data.registro_fecha_max.astype(str).str[:7]"
   ]
  },
  {
   "cell_type": "code",
   "execution_count": 10,
   "metadata": {},
   "outputs": [
    {
     "data": {
      "text/plain": [
       "array(['2020-04'], dtype=object)"
      ]
     },
     "execution_count": 10,
     "metadata": {},
     "output_type": "execute_result"
    }
   ],
   "source": [
    "data.registro_fecha_max.unique()"
   ]
  },
  {
   "cell_type": "code",
   "execution_count": 42,
   "metadata": {},
   "outputs": [],
   "source": [
    "for i in data.registro_fecha_max.unique():\n",
    "    \n",
    "    #tope de quejas no esta aplicado \n",
    "    \n",
    "    df = data[data[\"registro_fecha_max\"] == i]\n",
    "    df_metrica = df[[\"workflow_id\", \"detalle3\", \"id_pre_prestador\",\"desc_pre_nombre\" ]]\n",
    "\n",
    "    final = df_metrica.groupby([ \"id_pre_prestador\",\"desc_pre_nombre\", \"detalle3\" ])[\"workflow_id\"].nunique().reset_index()\n",
    "\n",
    "    total_prestador = final.groupby([ \"id_pre_prestador\",\"desc_pre_nombre\"])[\"workflow_id\"].sum().rename(\"total_prestador\")\n",
    "\n",
    "    final = final.merge(total_prestador, left_on = \"id_pre_prestador\" , right_on=\"id_pre_prestador\" )\n",
    "\n",
    "    final = final.rename(columns= {\"id_pre_prestador\": \"Prestador\", \"desc_pre_nombre\": \"Razón social\", \"detalle3\": \"Clasificación de casos\", \"workflow_id\": \"Q de quejas\", \"total_prestador\": \"Total de quejas prestador\"})\n",
    "    final.to_parquet(f'quejas_datos/{i}.gzip',compression='gzip') "
   ]
  },
  {
   "cell_type": "code",
   "execution_count": null,
   "metadata": {},
   "outputs": [],
   "source": []
  }
 ],
 "metadata": {
  "kernelspec": {
   "display_name": "Python 3",
   "language": "python",
   "name": "python3"
  },
  "language_info": {
   "codemirror_mode": {
    "name": "ipython",
    "version": 3
   },
   "file_extension": ".py",
   "mimetype": "text/x-python",
   "name": "python",
   "nbconvert_exporter": "python",
   "pygments_lexer": "ipython3",
   "version": "3.7.6"
  }
 },
 "nbformat": 4,
 "nbformat_minor": 4
}
