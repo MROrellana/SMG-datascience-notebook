{
 "cells": [
  {
   "cell_type": "code",
   "execution_count": 42,
   "metadata": {},
   "outputs": [],
   "source": [
    "from dbconn import querydb, querydbtopandas \n",
    "import numpy as np\n",
    "import pandas as pd\n",
    "import datetime\n",
    "import os"
   ]
  },
  {
   "cell_type": "code",
   "execution_count": 43,
   "metadata": {},
   "outputs": [],
   "source": [
    "mayor= \"2020-03\"\n",
    "menor = \"2019-02\""
   ]
  },
  {
   "cell_type": "code",
   "execution_count": 44,
   "metadata": {},
   "outputs": [],
   "source": [
    "data = querydbtopandas(f\"\"\"select id_prestador_efector, \n",
    "    a14.id_afiliado,\n",
    "    desc_pre_nombre, \n",
    "    CONVERT(DATETIME,d.exp_mes, \"mm-YYYY\") exp_mes,\n",
    "    sum(i_ft_cantidad) cantidad,\n",
    "    sum(i_ft_importe) importe,\n",
    "    id_medicamento,\n",
    "    Q.deno\n",
    "from dba.ft_costo_medico A\n",
    "    left JOIN dba.d_pre_prestador B\n",
    "        ON a.id_prestador_efector = b.id_pre_prestador\n",
    "    LEFT JOIN dba.fecha_mes D\n",
    "        ON a.id_tie_fecha_liquidacion = d.id_Tie_mes\n",
    "    left join DBA.afi_afiliados a14\n",
    "         on a.id_afiliado = a14.id_afiliado\n",
    "    left JOIN dba.prestad_costo_centros E\n",
    "        ON A.id_prestador_efector = E.prestad and E.baja_fecha is null and e.prepaga = ( select min(PCC1.prepaga) from dba.prestad_costo_centros PCC1 where PCC1.prestad =  e.prestad )   \n",
    "    LEFT JOIN dba.costo_centros Q\n",
    "        ON E.centro = Q.centro\n",
    "where CONVERT(DATETIME,d.exp_mes, \"mm-YYYY\") >= date(\"{menor}\") and CONVERT(DATETIME,d.exp_mes, \"mm-YYYY\") < date(\"{mayor}\")\n",
    "and id_prestador_efector not in (0)\n",
    "and tbl_origen = 'receta_medicamento'\n",
    "group by id_prestador_efector, desc_pre_nombre, a14.id_afiliado,Q.deno,\n",
    "d.exp_mes,\n",
    "    id_medicamento,\n",
    "i_ft_cantidad, i_ft_importe\"\"\")"
   ]
  },
  {
   "cell_type": "code",
   "execution_count": 45,
   "metadata": {},
   "outputs": [],
   "source": [
    "data.exp_mes = data.exp_mes.astype(str).str[:7]"
   ]
  },
  {
   "cell_type": "code",
   "execution_count": null,
   "metadata": {},
   "outputs": [],
   "source": []
  },
  {
   "cell_type": "code",
   "execution_count": 46,
   "metadata": {},
   "outputs": [],
   "source": [
    "for i in data.exp_mes.unique():\n",
    "    df = data[data[\"exp_mes\"] == i]\n",
    "    \n",
    "    #filtro por tope minimo de 23 recetas por prestador por mes\n",
    "    #cantidad_ordenes = df.groupby([\"id_prestador_efector\"])[\"cantidad\"].sum()\n",
    "    #df = df[df[\"id_prestador_efector\"].isin((cantidad_ordenes[cantidad_ordenes >= 23]).index)]\n",
    "    \n",
    "    #calculo metrica\n",
    "    importe = df.groupby([\"id_prestador_efector\",\"desc_pre_nombre\", \"deno\" ])[\"importe\"].sum()\n",
    "\n",
    "    cantidad_ordenes = df.groupby([\"id_prestador_efector\",\"desc_pre_nombre\", \"deno\" ])[\"cantidad\"].sum()\n",
    "\n",
    "    cantidad_afiliados = df.groupby([\"id_prestador_efector\",\"desc_pre_nombre\", \"deno\" ])[\"id_afiliado\"].nunique()\n",
    "\n",
    "    df = pd.concat([importe,cantidad_ordenes,cantidad_afiliados],axis=1).reset_index()\n",
    "\n",
    "    df[\"promedio por afiliado\"] = df[\"importe\"] / df[\"id_afiliado\"]\n",
    "    df[\"promedio por receta\"] = df[\"importe\"] / df[\"cantidad\"]\n",
    "\n",
    "    suma_especialidad = df.groupby(\"deno\")[\"promedio por afiliado\"].sum()\n",
    "    desv_stan_especialidad = df.groupby(\"deno\")['promedio por afiliado'].std().rename(\"desvios por especialidad\").reset_index()\n",
    "    \n",
    "    num_prestador_esp = df.groupby(\"deno\")[\"desc_pre_nombre\"].nunique()\n",
    "\n",
    "    media_especialidad = (suma_especialidad/num_prestador_esp).reset_index().rename(columns= {0: \"media por especialidad\"})\n",
    "    \n",
    "    \n",
    "    df = df.merge(media_especialidad).merge(desv_stan_especialidad)\n",
    "\n",
    "    df[\"Diferencia respecto de la media\"] = ((df[\"promedio por afiliado\"] / df[\"media por especialidad\"]) -1 )*100\n",
    "\n",
    "    df[\"desvios de la media de su sp\"] = (df[\"promedio por afiliado\"] - df[\"media por especialidad\"]) /  df[\"desvios por especialidad\"]\n",
    "\n",
    "    df = df[['id_prestador_efector', 'desc_pre_nombre', 'deno',  'media por especialidad',  'Diferencia respecto de la media',\n",
    "            'id_afiliado', 'cantidad', 'promedio por afiliado',\n",
    "           'promedio por receta', 'importe' , \"desvios de la media de su sp\"]]\n",
    "    \n",
    "    df = df.round(2)\n",
    "\n",
    "    df.columns = [\"N° Prestador\", \"Médico\", \"Especialidad\", \"Media por especialidad\", \"Diferencia respecto de la media\", \"Afil. Usuarios\", \"Recetas\", \"Promedio por afiliado\", \"Promedio por receta\", \"A cargo de SMMP\", \"desvios de la media de su sp\"]\n",
    "    \n",
    "    df.to_parquet(f'datos_farmacia/{i}.gzip',compression='gzip') \n"
   ]
  },
  {
   "cell_type": "code",
   "execution_count": null,
   "metadata": {},
   "outputs": [],
   "source": []
  },
  {
   "cell_type": "code",
   "execution_count": 7,
   "metadata": {},
   "outputs": [],
   "source": [
    "fechas = [i for i in os.listdir('datos_farmacia/') if len(i) == 12]\n",
    "completo = pd.DataFrame()\n",
    "for i in fechas:\n",
    "    completo = pd.concat([completo, pd.read_parquet(f'datos_farmacia/{i}')])"
   ]
  },
  {
   "cell_type": "code",
   "execution_count": 12,
   "metadata": {},
   "outputs": [
    {
     "data": {
      "text/plain": [
       "16344"
      ]
     },
     "execution_count": 12,
     "metadata": {},
     "output_type": "execute_result"
    }
   ],
   "source": [
    "completo[\"N° Prestador\"].nunique()"
   ]
  },
  {
   "cell_type": "code",
   "execution_count": 13,
   "metadata": {},
   "outputs": [],
   "source": [
    "pd.Series(completo[\"N° Prestador\"].unique()).to_csv(\"prestadores_unicos_farmacia.csv\")"
   ]
  },
  {
   "cell_type": "code",
   "execution_count": null,
   "metadata": {},
   "outputs": [],
   "source": []
  }
 ],
 "metadata": {
  "kernelspec": {
   "display_name": "Python 3",
   "language": "python",
   "name": "python3"
  },
  "language_info": {
   "codemirror_mode": {
    "name": "ipython",
    "version": 3
   },
   "file_extension": ".py",
   "mimetype": "text/x-python",
   "name": "python",
   "nbconvert_exporter": "python",
   "pygments_lexer": "ipython3",
   "version": "3.7.6"
  }
 },
 "nbformat": 4,
 "nbformat_minor": 4
}
