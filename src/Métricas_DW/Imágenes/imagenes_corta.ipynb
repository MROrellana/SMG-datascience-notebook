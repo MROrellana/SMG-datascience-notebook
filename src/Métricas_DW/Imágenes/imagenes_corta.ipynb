{
 "cells": [
  {
   "cell_type": "code",
   "execution_count": 4,
   "metadata": {},
   "outputs": [],
   "source": [
    "from dbconn import querydb, querydbtopandas \n",
    "import numpy as np\n",
    "import pandas as pd"
   ]
  },
  {
   "cell_type": "code",
   "execution_count": 5,
   "metadata": {},
   "outputs": [],
   "source": [
    "esp_exc = pd.read_excel(\"especialidades_exceptuadas.xlsx\").esp_exceptuadas.tolist()"
   ]
  },
  {
   "cell_type": "code",
   "execution_count": 6,
   "metadata": {},
   "outputs": [],
   "source": [
    "prestaciones_imagenes = pd.read_excel(\"prestaciones_imagenes.xlsx\",index_col=0).prestac_pres_prestacion.tolist()\n",
    "prestaciones_imagenes = [str(x) for x in prestaciones_imagenes]\n",
    "prestaciones_imagenes = str(prestaciones_imagenes).strip(\"[\").strip(\"]\")"
   ]
  },
  {
   "cell_type": "code",
   "execution_count": 7,
   "metadata": {},
   "outputs": [],
   "source": [
    "centros_de_imagenes = str(pd.read_excel(\"centros_de_imagenes.xlsx\",index_col=0).id_pre_prestador.tolist()).strip(\"[\").strip(\"]\")"
   ]
  },
  {
   "cell_type": "code",
   "execution_count": 8,
   "metadata": {},
   "outputs": [],
   "source": [
    "homologaciones = pd.read_excel(\"homologaciones.xlsx\",dtype=str,index_col=0)"
   ]
  },
  {
   "cell_type": "code",
   "execution_count": 9,
   "metadata": {},
   "outputs": [],
   "source": [
    "validacion_0 = homologaciones.validacion_0.dropna().tolist()\n",
    "validacion_1 = homologaciones.validacion_1.dropna().tolist()\n",
    "validacion_2 = homologaciones.validacion_2.dropna().tolist()\n",
    "validacion_3 = homologaciones.validacion_3.dropna().tolist()"
   ]
  },
  {
   "cell_type": "code",
   "execution_count": 10,
   "metadata": {},
   "outputs": [],
   "source": [
    "mayor = \"2019-10\"\n",
    "menor = \"2019-09\""
   ]
  },
  {
   "cell_type": "code",
   "execution_count": 11,
   "metadata": {},
   "outputs": [],
   "source": [
    "df = querydbtopandas(f\"\"\"select a11.transac  transac,\n",
    "a11.id_afiliado  id_afi_afiliado,\n",
    "a11.id_pres_prestacion  id_pres_prestacion,\n",
    "max(a17.desc_pres_prestacion)  desc_pres_prestacion,\n",
    "max(a17.prestac_pres_prestacion)  prestac_pres_prestacion,\n",
    "a11.transac_rela  transac_rela,\n",
    "a12.id_pre_prestador  id_pre_prestador0,\n",
    "max(a14.desc_pre_nombre)  desc_pre_nombre0,\n",
    "Q.deno,\n",
    "sum(a11.canti)  QTRANSAC\n",
    "from DBA.ft_cm_transac_remotas a11\n",
    "join DBA.d_pre_demandante_transac a12\n",
    " on (a11.id_pre_prestador_demandante = a12.id_pre_prestador_demandante)\n",
    "join DBA.d_pre_prestador a14\n",
    " on (a12.id_pre_prestador = a14.id_pre_prestador)\n",
    "join DBA.d_pres_prestacion a17\n",
    " on (a11.id_pres_prestacion = a17.id_pres_prestacion)\n",
    "LEFT JOIN dba.prestad_costo_centros E\n",
    "    ON a12.id_pre_prestador_demandante = E.prestad and E.baja_fecha is null and e.prepaga = ( select min(PCC1.prepaga) from dba.prestad_costo_centros PCC1 where PCC1.prestad =  e.prestad )   \n",
    "LEFT JOIN dba.costo_centros Q\n",
    "    ON E.centro = Q.centro\n",
    "\n",
    "where (cast(a11.fecha as date) >= date(\"{menor}\") and cast(a11.fecha as date) < date(\"{mayor}\")\n",
    " and a11.id_pre_prestador in ({centros_de_imagenes})\n",
    " and a11.tran_tipo in (\"IP\")\n",
    " and a11.baja_fecha is null\n",
    " and recha in (0)\n",
    " and RTRIM(a17.prestac_pres_prestacion) in ({prestaciones_imagenes})\n",
    " and a12.id_pre_prestador <> 0)\n",
    "group by a11.transac,\n",
    "Q.deno,\n",
    "a11.id_afiliado,\n",
    "a11.id_pres_prestacion,\n",
    "\n",
    "a11.transac_rela,\n",
    "a12.id_pre_prestador\"\"\")"
   ]
  },
  {
   "cell_type": "code",
   "execution_count": 12,
   "metadata": {},
   "outputs": [],
   "source": [
    "transac_ref = str(df.transac_rela.tolist()).strip(\"[\").strip(\"]\")\n",
    "\n",
    "df_id = querydbtopandas(f\"\"\"select transac_ref, icd as ICD from DBA.ft_cm_transac_remotas\n",
    "                    where tran_tipo in (\"ID\")\n",
    "                    and cast(fecha as date) >= date(\"{menor}\") and cast(fecha as date) < date(\"{mayor}\")\n",
    "                    and transac_ref in ({transac_ref})\"\"\")\n",
    "\n",
    "df_ip = df[[\"id_pre_prestador0\",\"desc_pre_nombre0\", \"prestac_pres_prestacion\", \"desc_pres_prestacion\", \"transac_rela\", \"deno\"]]"
   ]
  },
  {
   "cell_type": "code",
   "execution_count": 13,
   "metadata": {},
   "outputs": [],
   "source": [
    "for i in validacion_0:\n",
    "    df_id.loc[df_id[\"ICD\"].str.strip() == i, \"ICD\" ] = 0\n",
    "    \n",
    "for i in validacion_1:\n",
    "    df_id.loc[df_id[\"ICD\"].str.strip() == i, \"ICD\" ] = 1 \n",
    "    \n",
    "for i in validacion_2:\n",
    "    df_id.loc[df_id[\"ICD\"].str.strip() == i, \"ICD\" ] = 2\n",
    "    \n",
    "for i in validacion_3:\n",
    "    df_id.loc[df_id[\"ICD\"].str.strip() == i, \"ICD\" ] = 3"
   ]
  },
  {
   "cell_type": "code",
   "execution_count": 14,
   "metadata": {},
   "outputs": [],
   "source": [
    "df_id = df_id[df_id[\"ICD\"].isin([0,1,2,3])]"
   ]
  },
  {
   "cell_type": "code",
   "execution_count": 15,
   "metadata": {
    "scrolled": true
   },
   "outputs": [
    {
     "name": "stderr",
     "output_type": "stream",
     "text": [
      "/opt/conda/lib/python3.7/site-packages/pandas/core/generic.py:5303: SettingWithCopyWarning: \n",
      "A value is trying to be set on a copy of a slice from a DataFrame.\n",
      "Try using .loc[row_indexer,col_indexer] = value instead\n",
      "\n",
      "See the caveats in the documentation: https://pandas.pydata.org/pandas-docs/stable/user_guide/indexing.html#returning-a-view-versus-a-copy\n",
      "  self[name] = value\n"
     ]
    }
   ],
   "source": [
    "df_ip.deno = df_ip.deno.replace({None:\"None\"})"
   ]
  },
  {
   "cell_type": "markdown",
   "metadata": {},
   "source": [
    "## Tratamiento IP"
   ]
  },
  {
   "cell_type": "code",
   "execution_count": 16,
   "metadata": {},
   "outputs": [
    {
     "name": "stderr",
     "output_type": "stream",
     "text": [
      "/opt/conda/lib/python3.7/site-packages/ipykernel_launcher.py:16: SettingWithCopyWarning: \n",
      "A value is trying to be set on a copy of a slice from a DataFrame\n",
      "\n",
      "See the caveats in the documentation: https://pandas.pydata.org/pandas-docs/stable/user_guide/indexing.html#returning-a-view-versus-a-copy\n",
      "  app.launch_new_instance()\n",
      "/opt/conda/lib/python3.7/site-packages/ipykernel_launcher.py:20: SettingWithCopyWarning: \n",
      "A value is trying to be set on a copy of a slice from a DataFrame\n",
      "\n",
      "See the caveats in the documentation: https://pandas.pydata.org/pandas-docs/stable/user_guide/indexing.html#returning-a-view-versus-a-copy\n"
     ]
    }
   ],
   "source": [
    "for i in esp_exc:\n",
    "    df_ip = df_ip[~df_ip[\"deno\"].str.contains(i)]\n",
    "\n",
    "#elimino todas las prestaciones menos la rmn mamaria\n",
    "df_ip_rmnmamaria = df_ip[df_ip[\"desc_pres_prestacion\"] == \"RMN Mamaria\"]\n",
    "\n",
    "df_ip = df_ip[~df_ip[\"desc_pres_prestacion\"].isin([x for x in df_ip[\"desc_pres_prestacion\"] if 'mam' in x.lower()])]\n",
    "\n",
    "df_ip = pd.concat([df_ip, df_ip_rmnmamaria],axis=0)\n",
    "\n",
    "df_id = df_id.groupby(\"transac_ref\")[\"ICD\"].unique().reset_index()\n",
    "\n",
    "def greatest_selection (df_id):\n",
    "    for i in range(len(df_id.ICD)):\n",
    "        if len(df_id.ICD[i]) <= 1:\n",
    "            df_id.ICD[i] = df_id.ICD[i][0]\n",
    "            \n",
    "        elif len(df_id.ICD[i]) > 1:\n",
    "            df_id.ICD[i].sort()\n",
    "            df_id.ICD[i] = df_id.ICD[i][-1]\n",
    "    return df_id\n",
    "\n",
    "df_id = greatest_selection(df_id)\n",
    "\n",
    "final = pd.merge(df_ip, df_id, left_on=\"transac_rela\",right_on= \"transac_ref\")\n",
    "\n",
    "final = final[[\"id_pre_prestador0\",\"desc_pre_nombre0\", \"deno\",\"ICD\"]]\n",
    "\n",
    "q_transacciones= final.groupby([\"id_pre_prestador0\"]).count().reset_index()[[\"id_pre_prestador0\",\"desc_pre_nombre0\"]].rename(columns={\"desc_pre_nombre0\": \"Q de transacciones\"})\n",
    "\n",
    "final_pivot = pd.pivot_table(final, values='id_pre_prestador0', \n",
    "               index=['id_pre_prestador0', 'desc_pre_nombre0', \"deno\"],\n",
    "                columns=\"ICD\", aggfunc=\"size\")\n",
    "\n",
    "final_pivot.fillna(0,inplace=True)\n",
    "final_pivot.reset_index(inplace=True)\n",
    "final_pivot = pd.merge(q_transacciones, final_pivot)\n",
    "\n",
    "final_pivot[\"Normalidad\"] = (final_pivot[0] + final_pivot[1] )/ final_pivot[\"Q de transacciones\"]\n",
    "\n",
    "total_esp = final_pivot.groupby(\"deno\")[\"Q de transacciones\"].sum().reset_index().rename(columns={\"Q de transacciones\": \"total_esp\"})\n",
    "\n",
    "final_pivot = pd.merge(final_pivot, total_esp)\n",
    "final_pivot[\"Participación\"] = final_pivot[\"Q de transacciones\"] / final_pivot[\"total_esp\"]\n",
    "final_pivot[\"Participación\"] = final_pivot[\"Participación\"].mul(100).astype(float).round(2).astype(str).add('%')\n",
    "final_pivot.rename(columns={\"id_pre_prestador0\": \"N° Prescriptor\", \"desc_pre_nombre0\": \"Prescriptor\",\"Q de transacciones\": \"Total general\"},inplace=True)\n",
    "imagenes_tabla = final_pivot[[\"N° Prescriptor\", \"Prescriptor\", 0,1,2,3,  \"Total general\",\"Normalidad\", \"Participación\" ]]\n",
    "\n",
    "final_imagenes = imagenes_tabla.sort_values(by= \"Total general\", ascending= False)\n",
    "\n",
    "final_imagenes.columns = ['N° Prescriptor', 'Prescriptor', '0', '1', '2', '3', 'Total general',\n",
    "       'Normalidad', 'Participación']\n",
    "\n",
    "final_imagenes = final_imagenes.reset_index(drop=True).round(2)"
   ]
  },
  {
   "cell_type": "code",
   "execution_count": 17,
   "metadata": {},
   "outputs": [
    {
     "data": {
      "text/html": [
       "<div>\n",
       "<style scoped>\n",
       "    .dataframe tbody tr th:only-of-type {\n",
       "        vertical-align: middle;\n",
       "    }\n",
       "\n",
       "    .dataframe tbody tr th {\n",
       "        vertical-align: top;\n",
       "    }\n",
       "\n",
       "    .dataframe thead th {\n",
       "        text-align: right;\n",
       "    }\n",
       "</style>\n",
       "<table border=\"1\" class=\"dataframe\">\n",
       "  <thead>\n",
       "    <tr style=\"text-align: right;\">\n",
       "      <th></th>\n",
       "      <th>N° Prescriptor</th>\n",
       "      <th>Prescriptor</th>\n",
       "      <th>0</th>\n",
       "      <th>1</th>\n",
       "      <th>2</th>\n",
       "      <th>3</th>\n",
       "      <th>Total general</th>\n",
       "      <th>Normalidad</th>\n",
       "      <th>Participación</th>\n",
       "    </tr>\n",
       "  </thead>\n",
       "  <tbody>\n",
       "    <tr>\n",
       "      <th>0</th>\n",
       "      <td>164073</td>\n",
       "      <td>Prueba alterio,Walter</td>\n",
       "      <td>80.0</td>\n",
       "      <td>52.0</td>\n",
       "      <td>154.0</td>\n",
       "      <td>1.0</td>\n",
       "      <td>287</td>\n",
       "      <td>0.46</td>\n",
       "      <td>100.0%</td>\n",
       "    </tr>\n",
       "    <tr>\n",
       "      <th>1</th>\n",
       "      <td>145820</td>\n",
       "      <td>Quesada,Gabriela</td>\n",
       "      <td>61.0</td>\n",
       "      <td>53.0</td>\n",
       "      <td>52.0</td>\n",
       "      <td>0.0</td>\n",
       "      <td>166</td>\n",
       "      <td>0.69</td>\n",
       "      <td>5.63%</td>\n",
       "    </tr>\n",
       "    <tr>\n",
       "      <th>2</th>\n",
       "      <td>40237</td>\n",
       "      <td>Schneider,Javier M.</td>\n",
       "      <td>8.0</td>\n",
       "      <td>7.0</td>\n",
       "      <td>37.0</td>\n",
       "      <td>0.0</td>\n",
       "      <td>52</td>\n",
       "      <td>0.29</td>\n",
       "      <td>13.51%</td>\n",
       "    </tr>\n",
       "    <tr>\n",
       "      <th>3</th>\n",
       "      <td>130568</td>\n",
       "      <td>Caceres,María Valeria</td>\n",
       "      <td>8.0</td>\n",
       "      <td>16.0</td>\n",
       "      <td>28.0</td>\n",
       "      <td>0.0</td>\n",
       "      <td>52</td>\n",
       "      <td>0.46</td>\n",
       "      <td>21.4%</td>\n",
       "    </tr>\n",
       "    <tr>\n",
       "      <th>4</th>\n",
       "      <td>193673</td>\n",
       "      <td>Barcellos,Rosa</td>\n",
       "      <td>32.0</td>\n",
       "      <td>13.0</td>\n",
       "      <td>5.0</td>\n",
       "      <td>0.0</td>\n",
       "      <td>50</td>\n",
       "      <td>0.90</td>\n",
       "      <td>6.93%</td>\n",
       "    </tr>\n",
       "    <tr>\n",
       "      <th>...</th>\n",
       "      <td>...</td>\n",
       "      <td>...</td>\n",
       "      <td>...</td>\n",
       "      <td>...</td>\n",
       "      <td>...</td>\n",
       "      <td>...</td>\n",
       "      <td>...</td>\n",
       "      <td>...</td>\n",
       "      <td>...</td>\n",
       "    </tr>\n",
       "    <tr>\n",
       "      <th>3134</th>\n",
       "      <td>237151</td>\n",
       "      <td>Schimpl,Andrea</td>\n",
       "      <td>1.0</td>\n",
       "      <td>0.0</td>\n",
       "      <td>0.0</td>\n",
       "      <td>0.0</td>\n",
       "      <td>1</td>\n",
       "      <td>1.00</td>\n",
       "      <td>0.03%</td>\n",
       "    </tr>\n",
       "    <tr>\n",
       "      <th>3135</th>\n",
       "      <td>237168</td>\n",
       "      <td>Smetniansky,Silvia Ines</td>\n",
       "      <td>0.0</td>\n",
       "      <td>0.0</td>\n",
       "      <td>1.0</td>\n",
       "      <td>0.0</td>\n",
       "      <td>1</td>\n",
       "      <td>0.00</td>\n",
       "      <td>0.03%</td>\n",
       "    </tr>\n",
       "    <tr>\n",
       "      <th>3136</th>\n",
       "      <td>237276</td>\n",
       "      <td>Somoza,Santiago</td>\n",
       "      <td>0.0</td>\n",
       "      <td>0.0</td>\n",
       "      <td>1.0</td>\n",
       "      <td>0.0</td>\n",
       "      <td>1</td>\n",
       "      <td>0.00</td>\n",
       "      <td>0.03%</td>\n",
       "    </tr>\n",
       "    <tr>\n",
       "      <th>3137</th>\n",
       "      <td>237343</td>\n",
       "      <td>Sifon,María del Rosario</td>\n",
       "      <td>0.0</td>\n",
       "      <td>0.0</td>\n",
       "      <td>1.0</td>\n",
       "      <td>0.0</td>\n",
       "      <td>1</td>\n",
       "      <td>0.00</td>\n",
       "      <td>0.03%</td>\n",
       "    </tr>\n",
       "    <tr>\n",
       "      <th>3138</th>\n",
       "      <td>203538</td>\n",
       "      <td>Dillon,Carol</td>\n",
       "      <td>0.0</td>\n",
       "      <td>0.0</td>\n",
       "      <td>1.0</td>\n",
       "      <td>0.0</td>\n",
       "      <td>1</td>\n",
       "      <td>0.00</td>\n",
       "      <td>100.0%</td>\n",
       "    </tr>\n",
       "  </tbody>\n",
       "</table>\n",
       "<p>3139 rows × 9 columns</p>\n",
       "</div>"
      ],
      "text/plain": [
       "      N° Prescriptor              Prescriptor     0     1      2    3  \\\n",
       "0             164073    Prueba alterio,Walter  80.0  52.0  154.0  1.0   \n",
       "1             145820         Quesada,Gabriela  61.0  53.0   52.0  0.0   \n",
       "2              40237      Schneider,Javier M.   8.0   7.0   37.0  0.0   \n",
       "3             130568    Caceres,María Valeria   8.0  16.0   28.0  0.0   \n",
       "4             193673           Barcellos,Rosa  32.0  13.0    5.0  0.0   \n",
       "...              ...                      ...   ...   ...    ...  ...   \n",
       "3134          237151           Schimpl,Andrea   1.0   0.0    0.0  0.0   \n",
       "3135          237168  Smetniansky,Silvia Ines   0.0   0.0    1.0  0.0   \n",
       "3136          237276          Somoza,Santiago   0.0   0.0    1.0  0.0   \n",
       "3137          237343  Sifon,María del Rosario   0.0   0.0    1.0  0.0   \n",
       "3138          203538             Dillon,Carol   0.0   0.0    1.0  0.0   \n",
       "\n",
       "      Total general  Normalidad Participación  \n",
       "0               287        0.46        100.0%  \n",
       "1               166        0.69         5.63%  \n",
       "2                52        0.29        13.51%  \n",
       "3                52        0.46         21.4%  \n",
       "4                50        0.90         6.93%  \n",
       "...             ...         ...           ...  \n",
       "3134              1        1.00         0.03%  \n",
       "3135              1        0.00         0.03%  \n",
       "3136              1        0.00         0.03%  \n",
       "3137              1        0.00         0.03%  \n",
       "3138              1        0.00        100.0%  \n",
       "\n",
       "[3139 rows x 9 columns]"
      ]
     },
     "execution_count": 17,
     "metadata": {},
     "output_type": "execute_result"
    }
   ],
   "source": [
    "final_imagenes"
   ]
  },
  {
   "cell_type": "code",
   "execution_count": null,
   "metadata": {},
   "outputs": [],
   "source": []
  },
  {
   "cell_type": "code",
   "execution_count": null,
   "metadata": {},
   "outputs": [],
   "source": []
  },
  {
   "cell_type": "code",
   "execution_count": null,
   "metadata": {},
   "outputs": [],
   "source": []
  },
  {
   "cell_type": "code",
   "execution_count": null,
   "metadata": {},
   "outputs": [],
   "source": []
  },
  {
   "cell_type": "code",
   "execution_count": null,
   "metadata": {},
   "outputs": [],
   "source": []
  },
  {
   "cell_type": "code",
   "execution_count": null,
   "metadata": {},
   "outputs": [],
   "source": []
  },
  {
   "cell_type": "markdown",
   "metadata": {},
   "source": [
    "RIS"
   ]
  },
  {
   "cell_type": "code",
   "execution_count": 21,
   "metadata": {},
   "outputs": [],
   "source": [
    "pd.set_option('display.max_columns', 500) "
   ]
  },
  {
   "cell_type": "code",
   "execution_count": 372,
   "metadata": {},
   "outputs": [],
   "source": [
    "ris = querydbtopandas(\"\"\"select * from dba.XHIS_EST_F_RIS\n",
    "                         where cast(FECHA_AGENDADA as date) >= date(\"2019-01-01\") and cast(FECHA_AGENDADA as date) < date(\"2019-04-30\") \"\"\") "
   ]
  },
  {
   "cell_type": "code",
   "execution_count": 373,
   "metadata": {},
   "outputs": [
    {
     "data": {
      "text/plain": [
       "array(['Exam Done', 'Cancelled', 'Approved', 'Arrived', 'Signed 1',\n",
       "       'In Progress', 'Pending'], dtype=object)"
      ]
     },
     "execution_count": 373,
     "metadata": {},
     "output_type": "execute_result"
    }
   ],
   "source": [
    "ris.ESTADO.unique()"
   ]
  },
  {
   "cell_type": "code",
   "execution_count": 374,
   "metadata": {},
   "outputs": [],
   "source": [
    "#PRIMERO SOLO ME QUEDO CON AQUELLOS CON ESTADO APROBADO \n",
    "ris = ris[ris[\"ESTADO\"] == 'Approved']"
   ]
  },
  {
   "cell_type": "code",
   "execution_count": 375,
   "metadata": {},
   "outputs": [
    {
     "data": {
      "text/plain": [
       "array(['X', '2', ' ', '3', '1', 'E0', 'BR3', 'BR0', 'BR2', 'E1', 'E2',\n",
       "       'BR1', 'BR4', 'E3', 'BR5', 'BR6'], dtype=object)"
      ]
     },
     "execution_count": 375,
     "metadata": {},
     "output_type": "execute_result"
    }
   ],
   "source": [
    "ris[\"ID_DIAGNO\"].unique()"
   ]
  },
  {
   "cell_type": "code",
   "execution_count": 376,
   "metadata": {},
   "outputs": [],
   "source": [
    "#elimino aquellos sin diagnos\n",
    "for i in ['BR3', 'BR0', 'BR2',  'BR1', 'BR4','BR5', 'BR6', ' ', \"X\"]:\n",
    "    ris = ris[ris[\"ID_DIAGNO\"] != i]"
   ]
  },
  {
   "cell_type": "code",
   "execution_count": 377,
   "metadata": {},
   "outputs": [
    {
     "data": {
      "text/plain": [
       "array(['2', '3', '1', 'E0', 'E1', 'E2', 'E3'], dtype=object)"
      ]
     },
     "execution_count": 377,
     "metadata": {},
     "output_type": "execute_result"
    }
   ],
   "source": [
    "ris[\"ID_DIAGNO\"].unique()"
   ]
  },
  {
   "cell_type": "code",
   "execution_count": 384,
   "metadata": {},
   "outputs": [],
   "source": [
    "ris.HIS_ID = ris.HIS_ID.str.replace(\"\\n\", \"\")\n",
    "for i in ['H', 'P', 'G']:\n",
    "    ris.HIS_ID = ris.HIS_ID.str.replace(i, \"\")"
   ]
  },
  {
   "cell_type": "code",
   "execution_count": 386,
   "metadata": {},
   "outputs": [],
   "source": [
    "ris = ris[ris[\"HIS_ID\"] != '']"
   ]
  },
  {
   "cell_type": "code",
   "execution_count": 387,
   "metadata": {},
   "outputs": [],
   "source": [
    "new = ris.HIS_ID.str.split(\"-\", expand= True)"
   ]
  },
  {
   "cell_type": "code",
   "execution_count": 388,
   "metadata": {},
   "outputs": [],
   "source": [
    "#new.fillna(value= \"0\", inplace=True)\n",
    "#new[new == \"\"] = \"0\"\n",
    "HIS_ID = []\n",
    "for i,j,k in [values for key,values in new.iterrows()]:\n",
    "    if len(i) > 5:\n",
    "        HIS_ID.append(i)\n",
    "    elif len(j) > 5:\n",
    "        HIS_ID.append(j)\n",
    "    elif len(k) >5:\n",
    "        HIS_ID.append(K)"
   ]
  },
  {
   "cell_type": "code",
   "execution_count": 389,
   "metadata": {},
   "outputs": [
    {
     "data": {
      "text/plain": [
       "54226"
      ]
     },
     "execution_count": 389,
     "metadata": {},
     "output_type": "execute_result"
    }
   ],
   "source": [
    "len(HIS_ID)"
   ]
  },
  {
   "cell_type": "code",
   "execution_count": 390,
   "metadata": {},
   "outputs": [
    {
     "data": {
      "text/plain": [
       "54226"
      ]
     },
     "execution_count": 390,
     "metadata": {},
     "output_type": "execute_result"
    }
   ],
   "source": [
    "len(ris)"
   ]
  },
  {
   "cell_type": "code",
   "execution_count": 394,
   "metadata": {},
   "outputs": [
    {
     "data": {
      "text/plain": [
       "array(['2', '3', '1', 'E0', 'E1', 'E2', 'E3'], dtype=object)"
      ]
     },
     "execution_count": 394,
     "metadata": {},
     "output_type": "execute_result"
    }
   ],
   "source": [
    "ris['ID_DIAGNO'].unique()"
   ]
  },
  {
   "cell_type": "code",
   "execution_count": 395,
   "metadata": {},
   "outputs": [
    {
     "data": {
      "text/plain": [
       "54226"
      ]
     },
     "execution_count": 395,
     "metadata": {},
     "output_type": "execute_result"
    }
   ],
   "source": [
    "len(ris)"
   ]
  },
  {
   "cell_type": "code",
   "execution_count": null,
   "metadata": {},
   "outputs": [],
   "source": []
  },
  {
   "cell_type": "code",
   "execution_count": null,
   "metadata": {},
   "outputs": [],
   "source": []
  },
  {
   "cell_type": "code",
   "execution_count": null,
   "metadata": {},
   "outputs": [],
   "source": []
  },
  {
   "cell_type": "code",
   "execution_count": 195,
   "metadata": {},
   "outputs": [
    {
     "name": "stderr",
     "output_type": "stream",
     "text": [
      "Skipping line 56474: unexpected end of data\n"
     ]
    }
   ],
   "source": [
    "ris_jose_1 = pd.read_csv(\"ris_jose.csv\",error_bad_lines=False, engine='python', usecols=[\"ID_PACIENTE\",\n",
    "                                                                           \"PACIENTE\", \"FECHA_NAC\", \"HIS_ID\", \"RIS_ID\", \"AGENDADO\", \"AFILIADO\", \"SITIO\",\n",
    "                                                                           \"GRUPO\", \"DIAG.\", \"TIPO\"])"
   ]
  },
  {
   "cell_type": "code",
   "execution_count": 196,
   "metadata": {},
   "outputs": [
    {
     "data": {
      "text/plain": [
       "56472"
      ]
     },
     "execution_count": 196,
     "metadata": {},
     "output_type": "execute_result"
    }
   ],
   "source": [
    "len(ris_jose_1)"
   ]
  },
  {
   "cell_type": "code",
   "execution_count": 197,
   "metadata": {},
   "outputs": [],
   "source": [
    "ris_jose_2 = pd.read_csv(\"ris_jose_parte2.csv\",error_bad_lines=False, engine='python', header=None, usecols= [2,7, 12, 14, 16,21, 22, 26, 29, 32, 34 ], )"
   ]
  },
  {
   "cell_type": "code",
   "execution_count": 198,
   "metadata": {},
   "outputs": [],
   "source": [
    "ris_jose_2.columns = [\"ID_PACIENTE\", \"PACIENTE\", \"FECHA_NAC\", \"HIS_ID\", \"RIS_ID\", \"AGENDADO\", \"AFILIADO\", \"SITIO\",\n",
    "                                                                           \"GRUPO\", \"DIAG.\", \"TIPO\"]"
   ]
  },
  {
   "cell_type": "code",
   "execution_count": 199,
   "metadata": {},
   "outputs": [
    {
     "data": {
      "text/plain": [
       "31093"
      ]
     },
     "execution_count": 199,
     "metadata": {},
     "output_type": "execute_result"
    }
   ],
   "source": [
    "len(ris_jose_2)"
   ]
  },
  {
   "cell_type": "code",
   "execution_count": 201,
   "metadata": {},
   "outputs": [],
   "source": [
    "ris_jose = pd.concat([ris_jose_1, ris_jose_2],axis=0)"
   ]
  },
  {
   "cell_type": "code",
   "execution_count": 236,
   "metadata": {},
   "outputs": [],
   "source": [
    "# en los valores de tu resporte tmb tengo nulos en hid id \n",
    "ris_jose = ris_jose[ris_jose[\"HIS_ID\"].notna()]"
   ]
  },
  {
   "cell_type": "code",
   "execution_count": 203,
   "metadata": {},
   "outputs": [
    {
     "data": {
      "text/plain": [
       "array(['G1623815-01-1', 'P-27007845-1', 'H4488482-1', ..., 'H5535500-1',\n",
       "       'P-27779712-1', 'P-27779733-1'], dtype=object)"
      ]
     },
     "execution_count": 203,
     "metadata": {},
     "output_type": "execute_result"
    }
   ],
   "source": [
    "ris_jose.HIS_ID.unique()"
   ]
  },
  {
   "cell_type": "code",
   "execution_count": 204,
   "metadata": {},
   "outputs": [],
   "source": [
    "ris_jose.HIS_ID = ris_jose.HIS_ID.str.replace(\"\\n\", \"\")\n",
    "\n",
    "#ris_jose.HIS_ID = ris_jose.HIS_ID.str.replace(\"-1\", \"\")\n",
    "\n",
    "#ris_jose.HIS_ID = ris_jose.HIS_ID.str.replace(\"-01\", \"\")\n",
    "\n",
    "for i in ['H', 'P', 'G']:\n",
    "    ris_jose.HIS_ID = ris_jose.HIS_ID.str.replace(i, \"\")\n",
    "\n",
    "#ris_jose.HIS_ID = ris_jose.HIS_ID.str.replace(\"-\", \"\")"
   ]
  },
  {
   "cell_type": "code",
   "execution_count": 237,
   "metadata": {},
   "outputs": [],
   "source": [
    "new = ris_jose.HIS_ID.str.split(\"-\", expand= True)"
   ]
  },
  {
   "cell_type": "code",
   "execution_count": 226,
   "metadata": {},
   "outputs": [],
   "source": [
    "#new.fillna(value= \"0\", inplace=True)"
   ]
  },
  {
   "cell_type": "code",
   "execution_count": 227,
   "metadata": {},
   "outputs": [],
   "source": [
    "#new[new== \"\"] = \"0\""
   ]
  },
  {
   "cell_type": "code",
   "execution_count": 238,
   "metadata": {},
   "outputs": [],
   "source": [
    "HIS_ID = []\n",
    "for i,j,k in [values for key,values in new.iterrows()]:\n",
    "    if len(i) > 5:\n",
    "        HIS_ID.append(i)\n",
    "    elif len(j) > 5:\n",
    "        HIS_ID.append(j)\n",
    "    elif len(k) >5:\n",
    "        HIS_ID.append(K)"
   ]
  },
  {
   "cell_type": "code",
   "execution_count": 241,
   "metadata": {},
   "outputs": [
    {
     "data": {
      "text/plain": [
       "85833"
      ]
     },
     "execution_count": 241,
     "metadata": {},
     "output_type": "execute_result"
    }
   ],
   "source": [
    "len(HIS_ID)"
   ]
  },
  {
   "cell_type": "code",
   "execution_count": 239,
   "metadata": {},
   "outputs": [
    {
     "data": {
      "text/plain": [
       "85833"
      ]
     },
     "execution_count": 239,
     "metadata": {},
     "output_type": "execute_result"
    }
   ],
   "source": [
    "len(new)"
   ]
  },
  {
   "cell_type": "code",
   "execution_count": 240,
   "metadata": {},
   "outputs": [
    {
     "data": {
      "text/plain": [
       "85833"
      ]
     },
     "execution_count": 240,
     "metadata": {},
     "output_type": "execute_result"
    }
   ],
   "source": [
    "len(ris_jose)"
   ]
  },
  {
   "cell_type": "code",
   "execution_count": 242,
   "metadata": {},
   "outputs": [
    {
     "name": "stderr",
     "output_type": "stream",
     "text": [
      "/opt/conda/lib/python3.7/site-packages/ipykernel_launcher.py:1: SettingWithCopyWarning: \n",
      "A value is trying to be set on a copy of a slice from a DataFrame.\n",
      "Try using .loc[row_indexer,col_indexer] = value instead\n",
      "\n",
      "See the caveats in the documentation: https://pandas.pydata.org/pandas-docs/stable/user_guide/indexing.html#returning-a-view-versus-a-copy\n",
      "  \"\"\"Entry point for launching an IPython kernel.\n"
     ]
    }
   ],
   "source": [
    "ris_jose[\"HIS_ID_limpio\"] = HIS_ID"
   ]
  },
  {
   "cell_type": "code",
   "execution_count": 243,
   "metadata": {},
   "outputs": [
    {
     "data": {
      "text/html": [
       "<div>\n",
       "<style scoped>\n",
       "    .dataframe tbody tr th:only-of-type {\n",
       "        vertical-align: middle;\n",
       "    }\n",
       "\n",
       "    .dataframe tbody tr th {\n",
       "        vertical-align: top;\n",
       "    }\n",
       "\n",
       "    .dataframe thead th {\n",
       "        text-align: right;\n",
       "    }\n",
       "</style>\n",
       "<table border=\"1\" class=\"dataframe\">\n",
       "  <thead>\n",
       "    <tr style=\"text-align: right;\">\n",
       "      <th></th>\n",
       "      <th>ID_PACIENTE</th>\n",
       "      <th>PACIENTE</th>\n",
       "      <th>FECHA_NAC</th>\n",
       "      <th>HIS_ID</th>\n",
       "      <th>RIS_ID</th>\n",
       "      <th>AGENDADO</th>\n",
       "      <th>AFILIADO</th>\n",
       "      <th>SITIO</th>\n",
       "      <th>GRUPO</th>\n",
       "      <th>DIAG.</th>\n",
       "      <th>TIPO</th>\n",
       "      <th>HIS_ID_limpio</th>\n",
       "    </tr>\n",
       "  </thead>\n",
       "  <tbody>\n",
       "    <tr>\n",
       "      <th>0</th>\n",
       "      <td>VHF279817</td>\n",
       "      <td>GONZALEZ, CARMEN</td>\n",
       "      <td>18/12/1926</td>\n",
       "      <td>1623815-01-1</td>\n",
       "      <td>5.001551e+09</td>\n",
       "      <td>01/01/19  9:05</td>\n",
       "      <td>8000063002091010050</td>\n",
       "      <td>De Los Arcos</td>\n",
       "      <td>TAC CABEZA</td>\n",
       "      <td>X</td>\n",
       "      <td>H</td>\n",
       "      <td>1623815</td>\n",
       "    </tr>\n",
       "    <tr>\n",
       "      <th>1</th>\n",
       "      <td>PDF30449753</td>\n",
       "      <td>CAMPENNI, NOELIA SOLEDAD</td>\n",
       "      <td>31/08/1983</td>\n",
       "      <td>-27007845-1</td>\n",
       "      <td>5.001551e+09</td>\n",
       "      <td>01/01/19  14:03</td>\n",
       "      <td>8000060746749011042</td>\n",
       "      <td>SBN Ecografia General</td>\n",
       "      <td>ECOGRAFIA GENERAL</td>\n",
       "      <td>E0</td>\n",
       "      <td>U</td>\n",
       "      <td>27007845</td>\n",
       "    </tr>\n",
       "    <tr>\n",
       "      <th>2</th>\n",
       "      <td>VHM344313</td>\n",
       "      <td>RAPAPORTE, IAACOB ISRAEL</td>\n",
       "      <td>20/10/2005</td>\n",
       "      <td>4488482-1</td>\n",
       "      <td>5.001551e+09</td>\n",
       "      <td>01/01/19  12:58</td>\n",
       "      <td>8000060548283051016</td>\n",
       "      <td>De Los Arcos</td>\n",
       "      <td>TAC OSTEOARTICULAR</td>\n",
       "      <td>2</td>\n",
       "      <td>U</td>\n",
       "      <td>4488482</td>\n",
       "    </tr>\n",
       "    <tr>\n",
       "      <th>3</th>\n",
       "      <td>PDM24127816</td>\n",
       "      <td>SUAREZ, GUSTAVO MAXIMILIANO</td>\n",
       "      <td>10/10/1974</td>\n",
       "      <td>-27007722-1</td>\n",
       "      <td>5.001551e+09</td>\n",
       "      <td>01/01/19  12:41</td>\n",
       "      <td>8000060677175011026</td>\n",
       "      <td>SMC Barrio Norte</td>\n",
       "      <td>TAC ABDOMEN</td>\n",
       "      <td>2</td>\n",
       "      <td>U</td>\n",
       "      <td>27007722</td>\n",
       "    </tr>\n",
       "    <tr>\n",
       "      <th>4</th>\n",
       "      <td>PDM10424851</td>\n",
       "      <td>MASCIALINO, PABLO</td>\n",
       "      <td>30/06/1952</td>\n",
       "      <td>-27008739-1</td>\n",
       "      <td>5.001551e+09</td>\n",
       "      <td>01/01/19  21:03</td>\n",
       "      <td>8000060469225010004</td>\n",
       "      <td>SMC Barrio Norte</td>\n",
       "      <td>TAC TORAX</td>\n",
       "      <td>3</td>\n",
       "      <td>U</td>\n",
       "      <td>27008739</td>\n",
       "    </tr>\n",
       "    <tr>\n",
       "      <th>...</th>\n",
       "      <td>...</td>\n",
       "      <td>...</td>\n",
       "      <td>...</td>\n",
       "      <td>...</td>\n",
       "      <td>...</td>\n",
       "      <td>...</td>\n",
       "      <td>...</td>\n",
       "      <td>...</td>\n",
       "      <td>...</td>\n",
       "      <td>...</td>\n",
       "      <td>...</td>\n",
       "      <td>...</td>\n",
       "    </tr>\n",
       "    <tr>\n",
       "      <th>31082</th>\n",
       "      <td>VHF418267</td>\n",
       "      <td>SOUR, ELIZABETH VIVIANA</td>\n",
       "      <td>05/06/1965</td>\n",
       "      <td>5535516-1</td>\n",
       "      <td>5.001821e+09</td>\n",
       "      <td>30/04/19  15:56</td>\n",
       "      <td>8000060228936020102</td>\n",
       "      <td>De Los Arcos</td>\n",
       "      <td>TAC COLUMNA</td>\n",
       "      <td>X</td>\n",
       "      <td>C</td>\n",
       "      <td>5535516</td>\n",
       "    </tr>\n",
       "    <tr>\n",
       "      <th>31083</th>\n",
       "      <td>VHF24819</td>\n",
       "      <td>ARANDA, BRENDA ALEXANDRA</td>\n",
       "      <td>27/02/1994</td>\n",
       "      <td>5519787-1</td>\n",
       "      <td>5.001821e+09</td>\n",
       "      <td>30/04/19  15:56</td>\n",
       "      <td>8000063009526040008</td>\n",
       "      <td>CyMSA</td>\n",
       "      <td>ECOGRAFIA MAMARIA</td>\n",
       "      <td>BR3</td>\n",
       "      <td>C</td>\n",
       "      <td>5519787</td>\n",
       "    </tr>\n",
       "    <tr>\n",
       "      <th>31084</th>\n",
       "      <td>VHF506058</td>\n",
       "      <td>MELO HERNANDEZ, PAMELA LORENA</td>\n",
       "      <td>06/12/1979</td>\n",
       "      <td>5535500-1</td>\n",
       "      <td>5.001821e+09</td>\n",
       "      <td>30/04/19  15:57</td>\n",
       "      <td>8000061155578010001</td>\n",
       "      <td>CyMSA</td>\n",
       "      <td>ECOGRAFIA MAMARIA</td>\n",
       "      <td>BR2</td>\n",
       "      <td>C</td>\n",
       "      <td>5535500</td>\n",
       "    </tr>\n",
       "    <tr>\n",
       "      <th>31085</th>\n",
       "      <td>PDM10479401</td>\n",
       "      <td>TOMASELLO BARCIA, CARLOS DANTE</td>\n",
       "      <td>15/12/1952</td>\n",
       "      <td>-27779712-1</td>\n",
       "      <td>5.001821e+09</td>\n",
       "      <td>30/04/19  15:57</td>\n",
       "      <td>8000060228181021078</td>\n",
       "      <td>SBP Ecografia General</td>\n",
       "      <td>ECOGRAFIA DOPPLER</td>\n",
       "      <td>E1</td>\n",
       "      <td>A</td>\n",
       "      <td>27779712</td>\n",
       "    </tr>\n",
       "    <tr>\n",
       "      <th>31086</th>\n",
       "      <td>PDM16892337</td>\n",
       "      <td>PUGA, MIGUEL ANGEL</td>\n",
       "      <td>01/02/1964</td>\n",
       "      <td>-27779733-1</td>\n",
       "      <td>5.001821e+09</td>\n",
       "      <td>30/04/19  16:00</td>\n",
       "      <td>8000067068462000042</td>\n",
       "      <td>MIC Ecografia General</td>\n",
       "      <td>ECOGRAFIA GENERAL</td>\n",
       "      <td>E0</td>\n",
       "      <td>A</td>\n",
       "      <td>27779733</td>\n",
       "    </tr>\n",
       "  </tbody>\n",
       "</table>\n",
       "<p>85833 rows × 12 columns</p>\n",
       "</div>"
      ],
      "text/plain": [
       "       ID_PACIENTE                        PACIENTE   FECHA_NAC        HIS_ID  \\\n",
       "0        VHF279817                GONZALEZ, CARMEN  18/12/1926  1623815-01-1   \n",
       "1      PDF30449753        CAMPENNI, NOELIA SOLEDAD  31/08/1983   -27007845-1   \n",
       "2        VHM344313        RAPAPORTE, IAACOB ISRAEL  20/10/2005     4488482-1   \n",
       "3      PDM24127816     SUAREZ, GUSTAVO MAXIMILIANO  10/10/1974   -27007722-1   \n",
       "4      PDM10424851               MASCIALINO, PABLO  30/06/1952   -27008739-1   \n",
       "...            ...                             ...         ...           ...   \n",
       "31082    VHF418267         SOUR, ELIZABETH VIVIANA  05/06/1965     5535516-1   \n",
       "31083     VHF24819        ARANDA, BRENDA ALEXANDRA  27/02/1994     5519787-1   \n",
       "31084    VHF506058   MELO HERNANDEZ, PAMELA LORENA  06/12/1979     5535500-1   \n",
       "31085  PDM10479401  TOMASELLO BARCIA, CARLOS DANTE  15/12/1952   -27779712-1   \n",
       "31086  PDM16892337              PUGA, MIGUEL ANGEL  01/02/1964   -27779733-1   \n",
       "\n",
       "             RIS_ID          AGENDADO             AFILIADO  \\\n",
       "0      5.001551e+09   01/01/19  9:05   8000063002091010050   \n",
       "1      5.001551e+09  01/01/19  14:03   8000060746749011042   \n",
       "2      5.001551e+09  01/01/19  12:58   8000060548283051016   \n",
       "3      5.001551e+09  01/01/19  12:41   8000060677175011026   \n",
       "4      5.001551e+09  01/01/19  21:03   8000060469225010004   \n",
       "...             ...               ...                  ...   \n",
       "31082  5.001821e+09  30/04/19  15:56   8000060228936020102   \n",
       "31083  5.001821e+09  30/04/19  15:56   8000063009526040008   \n",
       "31084  5.001821e+09  30/04/19  15:57   8000061155578010001   \n",
       "31085  5.001821e+09  30/04/19  15:57   8000060228181021078   \n",
       "31086  5.001821e+09  30/04/19  16:00   8000067068462000042   \n",
       "\n",
       "                       SITIO               GRUPO DIAG. TIPO HIS_ID_limpio  \n",
       "0               De Los Arcos          TAC CABEZA     X    H       1623815  \n",
       "1      SBN Ecografia General   ECOGRAFIA GENERAL    E0    U      27007845  \n",
       "2               De Los Arcos  TAC OSTEOARTICULAR     2    U       4488482  \n",
       "3           SMC Barrio Norte         TAC ABDOMEN     2    U      27007722  \n",
       "4           SMC Barrio Norte           TAC TORAX     3    U      27008739  \n",
       "...                      ...                 ...   ...  ...           ...  \n",
       "31082           De Los Arcos         TAC COLUMNA     X    C       5535516  \n",
       "31083                  CyMSA   ECOGRAFIA MAMARIA   BR3    C       5519787  \n",
       "31084                  CyMSA   ECOGRAFIA MAMARIA   BR2    C       5535500  \n",
       "31085  SBP Ecografia General   ECOGRAFIA DOPPLER    E1    A      27779712  \n",
       "31086  MIC Ecografia General   ECOGRAFIA GENERAL    E0    A      27779733  \n",
       "\n",
       "[85833 rows x 12 columns]"
      ]
     },
     "execution_count": 243,
     "metadata": {},
     "output_type": "execute_result"
    }
   ],
   "source": [
    "ris_jose"
   ]
  },
  {
   "cell_type": "code",
   "execution_count": 245,
   "metadata": {},
   "outputs": [],
   "source": [
    "import seaborn as sns"
   ]
  },
  {
   "cell_type": "code",
   "execution_count": 396,
   "metadata": {},
   "outputs": [
    {
     "data": {
      "text/plain": [
       "<matplotlib.axes._subplots.AxesSubplot at 0x7f69d6e5b690>"
      ]
     },
     "execution_count": 396,
     "metadata": {},
     "output_type": "execute_result"
    },
    {
     "data": {
      "image/png": "[encoded data removed]",
      "text/plain": [
       "<Figure size 432x288 with 2 Axes>"
      ]
     },
     "metadata": {
      "needs_background": "light"
     },
     "output_type": "display_data"
    }
   ],
   "source": [
    "sns.heatmap(ris.isna())"
   ]
  },
  {
   "cell_type": "code",
   "execution_count": 249,
   "metadata": {},
   "outputs": [
    {
     "data": {
      "text/plain": [
       "4793235     6\n",
       "4662005     5\n",
       "1694098     4\n",
       "5486042     4\n",
       "4820851     4\n",
       "           ..\n",
       "5042329     1\n",
       "5183875     1\n",
       "27176992    1\n",
       "4510077     1\n",
       "27138092    1\n",
       "Name: HIS_ID_limpio, Length: 84830, dtype: int64"
      ]
     },
     "execution_count": 249,
     "metadata": {},
     "output_type": "execute_result"
    }
   ],
   "source": [
    "ris_jose.HIS_ID_limpio.value_counts()"
   ]
  },
  {
   "cell_type": "code",
   "execution_count": 251,
   "metadata": {},
   "outputs": [
    {
     "data": {
      "text/html": [
       "<div>\n",
       "<style scoped>\n",
       "    .dataframe tbody tr th:only-of-type {\n",
       "        vertical-align: middle;\n",
       "    }\n",
       "\n",
       "    .dataframe tbody tr th {\n",
       "        vertical-align: top;\n",
       "    }\n",
       "\n",
       "    .dataframe thead th {\n",
       "        text-align: right;\n",
       "    }\n",
       "</style>\n",
       "<table border=\"1\" class=\"dataframe\">\n",
       "  <thead>\n",
       "    <tr style=\"text-align: right;\">\n",
       "      <th></th>\n",
       "      <th>ID_PACIENTE</th>\n",
       "      <th>PACIENTE</th>\n",
       "      <th>FECHA_NAC</th>\n",
       "      <th>HIS_ID</th>\n",
       "      <th>RIS_ID</th>\n",
       "      <th>AGENDADO</th>\n",
       "      <th>AFILIADO</th>\n",
       "      <th>SITIO</th>\n",
       "      <th>GRUPO</th>\n",
       "      <th>DIAG.</th>\n",
       "      <th>TIPO</th>\n",
       "      <th>HIS_ID_limpio</th>\n",
       "    </tr>\n",
       "  </thead>\n",
       "  <tbody>\n",
       "    <tr>\n",
       "      <th>34150</th>\n",
       "      <td>VHM368913</td>\n",
       "      <td>ARAUJO GARCIA, GUSTAVO ADOLFO</td>\n",
       "      <td>22/09/1982</td>\n",
       "      <td>4793235-1</td>\n",
       "      <td>5.001642e+09</td>\n",
       "      <td>13/02/19  11:11</td>\n",
       "      <td>8000061129712010003</td>\n",
       "      <td>CyMSA</td>\n",
       "      <td>RX ART.PEQUE</td>\n",
       "      <td>X</td>\n",
       "      <td>C</td>\n",
       "      <td>4793235</td>\n",
       "    </tr>\n",
       "    <tr>\n",
       "      <th>34151</th>\n",
       "      <td>VHM368913</td>\n",
       "      <td>ARAUJO GARCIA, GUSTAVO ADOLFO</td>\n",
       "      <td>22/09/1982</td>\n",
       "      <td>4793235-3</td>\n",
       "      <td>5.001642e+09</td>\n",
       "      <td>13/02/19  11:11</td>\n",
       "      <td>8000061129712010003</td>\n",
       "      <td>CyMSA</td>\n",
       "      <td>RX ART.PEQUE</td>\n",
       "      <td>X</td>\n",
       "      <td>C</td>\n",
       "      <td>4793235</td>\n",
       "    </tr>\n",
       "    <tr>\n",
       "      <th>34421</th>\n",
       "      <td>VHM368913</td>\n",
       "      <td>ARAUJO GARCIA, GUSTAVO ADOLFO</td>\n",
       "      <td>22/09/1982</td>\n",
       "      <td>4793235-5</td>\n",
       "      <td>5.001642e+09</td>\n",
       "      <td>13/02/19  11:11</td>\n",
       "      <td>8000061129712010003</td>\n",
       "      <td>CyMSA</td>\n",
       "      <td>RX ART.PEQUE</td>\n",
       "      <td>X</td>\n",
       "      <td>C</td>\n",
       "      <td>4793235</td>\n",
       "    </tr>\n",
       "    <tr>\n",
       "      <th>34562</th>\n",
       "      <td>VHM368913</td>\n",
       "      <td>ARAUJO GARCIA, GUSTAVO ADOLFO</td>\n",
       "      <td>22/09/1982</td>\n",
       "      <td>4793235-2</td>\n",
       "      <td>5.001642e+09</td>\n",
       "      <td>13/02/19  11:11</td>\n",
       "      <td>8000061129712010003</td>\n",
       "      <td>CyMSA</td>\n",
       "      <td>RX ART.PEQUE</td>\n",
       "      <td>X</td>\n",
       "      <td>C</td>\n",
       "      <td>4793235</td>\n",
       "    </tr>\n",
       "    <tr>\n",
       "      <th>34563</th>\n",
       "      <td>VHM368913</td>\n",
       "      <td>ARAUJO GARCIA, GUSTAVO ADOLFO</td>\n",
       "      <td>22/09/1982</td>\n",
       "      <td>4793235-4</td>\n",
       "      <td>5.001642e+09</td>\n",
       "      <td>13/02/19  11:11</td>\n",
       "      <td>8000061129712010003</td>\n",
       "      <td>CyMSA</td>\n",
       "      <td>RX ART.PEQUE</td>\n",
       "      <td>X</td>\n",
       "      <td>C</td>\n",
       "      <td>4793235</td>\n",
       "    </tr>\n",
       "    <tr>\n",
       "      <th>34564</th>\n",
       "      <td>VHM368913</td>\n",
       "      <td>ARAUJO GARCIA, GUSTAVO ADOLFO</td>\n",
       "      <td>22/09/1982</td>\n",
       "      <td>4793235-6</td>\n",
       "      <td>5.001642e+09</td>\n",
       "      <td>13/02/19  11:11</td>\n",
       "      <td>8000061129712010003</td>\n",
       "      <td>CyMSA</td>\n",
       "      <td>RX ART.PEQUE</td>\n",
       "      <td>X</td>\n",
       "      <td>C</td>\n",
       "      <td>4793235</td>\n",
       "    </tr>\n",
       "  </tbody>\n",
       "</table>\n",
       "</div>"
      ],
      "text/plain": [
       "      ID_PACIENTE                       PACIENTE   FECHA_NAC     HIS_ID  \\\n",
       "34150   VHM368913  ARAUJO GARCIA, GUSTAVO ADOLFO  22/09/1982  4793235-1   \n",
       "34151   VHM368913  ARAUJO GARCIA, GUSTAVO ADOLFO  22/09/1982  4793235-3   \n",
       "34421   VHM368913  ARAUJO GARCIA, GUSTAVO ADOLFO  22/09/1982  4793235-5   \n",
       "34562   VHM368913  ARAUJO GARCIA, GUSTAVO ADOLFO  22/09/1982  4793235-2   \n",
       "34563   VHM368913  ARAUJO GARCIA, GUSTAVO ADOLFO  22/09/1982  4793235-4   \n",
       "34564   VHM368913  ARAUJO GARCIA, GUSTAVO ADOLFO  22/09/1982  4793235-6   \n",
       "\n",
       "             RIS_ID          AGENDADO             AFILIADO  SITIO  \\\n",
       "34150  5.001642e+09  13/02/19  11:11   8000061129712010003  CyMSA   \n",
       "34151  5.001642e+09  13/02/19  11:11   8000061129712010003  CyMSA   \n",
       "34421  5.001642e+09  13/02/19  11:11   8000061129712010003  CyMSA   \n",
       "34562  5.001642e+09  13/02/19  11:11   8000061129712010003  CyMSA   \n",
       "34563  5.001642e+09  13/02/19  11:11   8000061129712010003  CyMSA   \n",
       "34564  5.001642e+09  13/02/19  11:11   8000061129712010003  CyMSA   \n",
       "\n",
       "              GRUPO DIAG. TIPO HIS_ID_limpio  \n",
       "34150  RX ART.PEQUE     X    C       4793235  \n",
       "34151  RX ART.PEQUE     X    C       4793235  \n",
       "34421  RX ART.PEQUE     X    C       4793235  \n",
       "34562  RX ART.PEQUE     X    C       4793235  \n",
       "34563  RX ART.PEQUE     X    C       4793235  \n",
       "34564  RX ART.PEQUE     X    C       4793235  "
      ]
     },
     "execution_count": 251,
     "metadata": {},
     "output_type": "execute_result"
    }
   ],
   "source": [
    "ris_jose[ris_jose[\"HIS_ID_limpio\"] == \"4793235\"]"
   ]
  },
  {
   "cell_type": "code",
   "execution_count": 255,
   "metadata": {},
   "outputs": [],
   "source": [
    "ris_jose_correcto = ris_jose[[\"ID_PACIENTE\", \"PACIENTE\",\"HIS_ID_limpio\", \"DIAG.\" ]].drop_duplicates()   #85833 "
   ]
  },
  {
   "cell_type": "code",
   "execution_count": null,
   "metadata": {},
   "outputs": [],
   "source": []
  },
  {
   "cell_type": "code",
   "execution_count": 259,
   "metadata": {},
   "outputs": [],
   "source": [
    "merged = pd.merge(ris_jose_correcto, ris_correcto, left_on = \"HIS_ID_limpio\" , right_on= \"HIS_ID_limpio\")"
   ]
  },
  {
   "cell_type": "code",
   "execution_count": 260,
   "metadata": {},
   "outputs": [
    {
     "data": {
      "text/html": [
       "<div>\n",
       "<style scoped>\n",
       "    .dataframe tbody tr th:only-of-type {\n",
       "        vertical-align: middle;\n",
       "    }\n",
       "\n",
       "    .dataframe tbody tr th {\n",
       "        vertical-align: top;\n",
       "    }\n",
       "\n",
       "    .dataframe thead th {\n",
       "        text-align: right;\n",
       "    }\n",
       "</style>\n",
       "<table border=\"1\" class=\"dataframe\">\n",
       "  <thead>\n",
       "    <tr style=\"text-align: right;\">\n",
       "      <th></th>\n",
       "      <th>ID_PACIENTE</th>\n",
       "      <th>PACIENTE</th>\n",
       "      <th>HIS_ID_limpio</th>\n",
       "      <th>DIAG.</th>\n",
       "      <th>ID_PACIENTE_PRINCIPAL</th>\n",
       "      <th>NOMBRE_PACIENTE</th>\n",
       "      <th>APELLIDO_PACIENTE</th>\n",
       "      <th>ID_DIAGNO</th>\n",
       "    </tr>\n",
       "  </thead>\n",
       "  <tbody>\n",
       "    <tr>\n",
       "      <th>0</th>\n",
       "      <td>VHF279817</td>\n",
       "      <td>GONZALEZ, CARMEN</td>\n",
       "      <td>1623815</td>\n",
       "      <td>X</td>\n",
       "      <td>VHF279817</td>\n",
       "      <td>CARMEN</td>\n",
       "      <td>GONZALEZ</td>\n",
       "      <td>X</td>\n",
       "    </tr>\n",
       "    <tr>\n",
       "      <th>1</th>\n",
       "      <td>PDF30449753</td>\n",
       "      <td>CAMPENNI, NOELIA SOLEDAD</td>\n",
       "      <td>27007845</td>\n",
       "      <td>E0</td>\n",
       "      <td>PDF30449753</td>\n",
       "      <td>NOELIA SOLEDAD</td>\n",
       "      <td>CAMPENNI</td>\n",
       "      <td>E0</td>\n",
       "    </tr>\n",
       "    <tr>\n",
       "      <th>2</th>\n",
       "      <td>VHM344313</td>\n",
       "      <td>RAPAPORTE, IAACOB ISRAEL</td>\n",
       "      <td>4488482</td>\n",
       "      <td>2</td>\n",
       "      <td>VHM344313</td>\n",
       "      <td>IAACOB ISRAEL</td>\n",
       "      <td>RAPAPORTE</td>\n",
       "      <td>2</td>\n",
       "    </tr>\n",
       "    <tr>\n",
       "      <th>3</th>\n",
       "      <td>PDM24127816</td>\n",
       "      <td>SUAREZ, GUSTAVO MAXIMILIANO</td>\n",
       "      <td>27007722</td>\n",
       "      <td>2</td>\n",
       "      <td>PDM24127816</td>\n",
       "      <td>GUSTAVO MAXIMILIANO</td>\n",
       "      <td>SUAREZ</td>\n",
       "      <td>2</td>\n",
       "    </tr>\n",
       "    <tr>\n",
       "      <th>4</th>\n",
       "      <td>PDM10424851</td>\n",
       "      <td>MASCIALINO, PABLO</td>\n",
       "      <td>27008739</td>\n",
       "      <td>3</td>\n",
       "      <td>PDM10424851</td>\n",
       "      <td>PABLO</td>\n",
       "      <td>MASCIALINO</td>\n",
       "      <td>3</td>\n",
       "    </tr>\n",
       "    <tr>\n",
       "      <th>...</th>\n",
       "      <td>...</td>\n",
       "      <td>...</td>\n",
       "      <td>...</td>\n",
       "      <td>...</td>\n",
       "      <td>...</td>\n",
       "      <td>...</td>\n",
       "      <td>...</td>\n",
       "      <td>...</td>\n",
       "    </tr>\n",
       "    <tr>\n",
       "      <th>76326</th>\n",
       "      <td>VHF173851</td>\n",
       "      <td>HOCHSTEIN SAUL, RINAT</td>\n",
       "      <td>5477656</td>\n",
       "      <td>BR1</td>\n",
       "      <td>VHF173851</td>\n",
       "      <td>RINAT</td>\n",
       "      <td>HOCHSTEIN SAUL</td>\n",
       "      <td>BR1</td>\n",
       "    </tr>\n",
       "    <tr>\n",
       "      <th>76327</th>\n",
       "      <td>PWM991587851</td>\n",
       "      <td>DESIDERIS VERON, CHRISTIAN MATIAS</td>\n",
       "      <td>27776067</td>\n",
       "      <td>1</td>\n",
       "      <td>PWM991587851</td>\n",
       "      <td>CHRISTIAN MATIAS</td>\n",
       "      <td>DESIDERIS VERON</td>\n",
       "      <td>1</td>\n",
       "    </tr>\n",
       "    <tr>\n",
       "      <th>76328</th>\n",
       "      <td>PDF39869123</td>\n",
       "      <td>ETCHEVERRY, MARTINA ADELA</td>\n",
       "      <td>27776073</td>\n",
       "      <td>1</td>\n",
       "      <td>PDF39869123</td>\n",
       "      <td>MARTINA ADELA</td>\n",
       "      <td>ETCHEVERRY</td>\n",
       "      <td>1</td>\n",
       "    </tr>\n",
       "    <tr>\n",
       "      <th>76329</th>\n",
       "      <td>PDF56810274</td>\n",
       "      <td>NAVARRO COSTA, VICTORIA ANA</td>\n",
       "      <td>27776076</td>\n",
       "      <td>X</td>\n",
       "      <td>PDF56810274</td>\n",
       "      <td>VICTORIA ANA</td>\n",
       "      <td>NAVARRO COSTA</td>\n",
       "      <td>X</td>\n",
       "    </tr>\n",
       "    <tr>\n",
       "      <th>76330</th>\n",
       "      <td>PDM35325096</td>\n",
       "      <td>BAYLEY BUSTAMANTE, FEDERICO</td>\n",
       "      <td>27776397</td>\n",
       "      <td>2</td>\n",
       "      <td>PDM35325096</td>\n",
       "      <td>FEDERICO</td>\n",
       "      <td>BAYLEY BUSTAMANTE</td>\n",
       "      <td>2</td>\n",
       "    </tr>\n",
       "  </tbody>\n",
       "</table>\n",
       "<p>76331 rows × 8 columns</p>\n",
       "</div>"
      ],
      "text/plain": [
       "        ID_PACIENTE                           PACIENTE HIS_ID_limpio DIAG.  \\\n",
       "0         VHF279817                   GONZALEZ, CARMEN       1623815     X   \n",
       "1       PDF30449753           CAMPENNI, NOELIA SOLEDAD      27007845    E0   \n",
       "2         VHM344313           RAPAPORTE, IAACOB ISRAEL       4488482     2   \n",
       "3       PDM24127816        SUAREZ, GUSTAVO MAXIMILIANO      27007722     2   \n",
       "4       PDM10424851                  MASCIALINO, PABLO      27008739     3   \n",
       "...             ...                                ...           ...   ...   \n",
       "76326     VHF173851              HOCHSTEIN SAUL, RINAT       5477656   BR1   \n",
       "76327  PWM991587851  DESIDERIS VERON, CHRISTIAN MATIAS      27776067     1   \n",
       "76328   PDF39869123          ETCHEVERRY, MARTINA ADELA      27776073     1   \n",
       "76329   PDF56810274        NAVARRO COSTA, VICTORIA ANA      27776076     X   \n",
       "76330   PDM35325096        BAYLEY BUSTAMANTE, FEDERICO      27776397     2   \n",
       "\n",
       "      ID_PACIENTE_PRINCIPAL      NOMBRE_PACIENTE  APELLIDO_PACIENTE ID_DIAGNO  \n",
       "0                 VHF279817               CARMEN           GONZALEZ         X  \n",
       "1               PDF30449753       NOELIA SOLEDAD           CAMPENNI        E0  \n",
       "2                 VHM344313        IAACOB ISRAEL          RAPAPORTE         2  \n",
       "3               PDM24127816  GUSTAVO MAXIMILIANO             SUAREZ         2  \n",
       "4               PDM10424851                PABLO         MASCIALINO         3  \n",
       "...                     ...                  ...                ...       ...  \n",
       "76326             VHF173851                RINAT     HOCHSTEIN SAUL       BR1  \n",
       "76327          PWM991587851     CHRISTIAN MATIAS    DESIDERIS VERON         1  \n",
       "76328           PDF39869123        MARTINA ADELA         ETCHEVERRY         1  \n",
       "76329           PDF56810274         VICTORIA ANA      NAVARRO COSTA         X  \n",
       "76330           PDM35325096             FEDERICO  BAYLEY BUSTAMANTE         2  \n",
       "\n",
       "[76331 rows x 8 columns]"
      ]
     },
     "execution_count": 260,
     "metadata": {},
     "output_type": "execute_result"
    }
   ],
   "source": [
    "merged"
   ]
  },
  {
   "cell_type": "code",
   "execution_count": 263,
   "metadata": {},
   "outputs": [
    {
     "data": {
      "text/plain": [
       "False"
      ]
     },
     "execution_count": 263,
     "metadata": {},
     "output_type": "execute_result"
    }
   ],
   "source": [
    "(merged[\"DIAG.\"]  == merged [\"ID_DIAGNO\"]).all()"
   ]
  },
  {
   "cell_type": "code",
   "execution_count": 137,
   "metadata": {},
   "outputs": [
    {
     "data": {
      "text/plain": [
       "True"
      ]
     },
     "execution_count": 137,
     "metadata": {},
     "output_type": "execute_result"
    }
   ],
   "source": [
    "(merged[\"RIS_ID_x\"] == merged[\"RIS_ID_y\"]).all()"
   ]
  },
  {
   "cell_type": "code",
   "execution_count": 264,
   "metadata": {},
   "outputs": [
    {
     "data": {
      "text/plain": [
       "76331"
      ]
     },
     "execution_count": 264,
     "metadata": {},
     "output_type": "execute_result"
    }
   ],
   "source": [
    "len(merged)"
   ]
  },
  {
   "cell_type": "code",
   "execution_count": 267,
   "metadata": {},
   "outputs": [],
   "source": [
    "unicas_ris = ris_correcto[~ris_correcto[\"HIS_ID_limpio\"].isin(merged.HIS_ID_limpio)]"
   ]
  },
  {
   "cell_type": "code",
   "execution_count": 268,
   "metadata": {},
   "outputs": [
    {
     "data": {
      "text/plain": [
       "7735"
      ]
     },
     "execution_count": 268,
     "metadata": {},
     "output_type": "execute_result"
    }
   ],
   "source": [
    "len(unicas_ris)"
   ]
  },
  {
   "cell_type": "code",
   "execution_count": 269,
   "metadata": {},
   "outputs": [],
   "source": [
    "unicas_ris_jose = ris_jose_correcto[~ris_jose_correcto[\"HIS_ID_limpio\"].isin(merged.HIS_ID_limpio)]"
   ]
  },
  {
   "cell_type": "code",
   "execution_count": 270,
   "metadata": {},
   "outputs": [
    {
     "data": {
      "text/plain": [
       "8991"
      ]
     },
     "execution_count": 270,
     "metadata": {},
     "output_type": "execute_result"
    }
   ],
   "source": [
    "len(unicas_ris_jose)"
   ]
  },
  {
   "cell_type": "code",
   "execution_count": 271,
   "metadata": {},
   "outputs": [
    {
     "data": {
      "text/html": [
       "<div>\n",
       "<style scoped>\n",
       "    .dataframe tbody tr th:only-of-type {\n",
       "        vertical-align: middle;\n",
       "    }\n",
       "\n",
       "    .dataframe tbody tr th {\n",
       "        vertical-align: top;\n",
       "    }\n",
       "\n",
       "    .dataframe thead th {\n",
       "        text-align: right;\n",
       "    }\n",
       "</style>\n",
       "<table border=\"1\" class=\"dataframe\">\n",
       "  <thead>\n",
       "    <tr style=\"text-align: right;\">\n",
       "      <th></th>\n",
       "      <th>ID_PACIENTE</th>\n",
       "      <th>PACIENTE</th>\n",
       "      <th>HIS_ID_limpio</th>\n",
       "      <th>DIAG.</th>\n",
       "    </tr>\n",
       "  </thead>\n",
       "  <tbody>\n",
       "    <tr>\n",
       "      <th>9</th>\n",
       "      <td>VHF340405</td>\n",
       "      <td>MATA, MARIA ESTER LILIANA</td>\n",
       "      <td>4488767</td>\n",
       "      <td>0</td>\n",
       "    </tr>\n",
       "    <tr>\n",
       "      <th>18</th>\n",
       "      <td>PDF33023587</td>\n",
       "      <td>SUELDO, AGUSTINA MAGALI</td>\n",
       "      <td>27007859</td>\n",
       "      <td>0</td>\n",
       "    </tr>\n",
       "    <tr>\n",
       "      <th>37</th>\n",
       "      <td>PDF35016779</td>\n",
       "      <td>BUCU, SAMANTHA</td>\n",
       "      <td>27008065</td>\n",
       "      <td>0</td>\n",
       "    </tr>\n",
       "    <tr>\n",
       "      <th>41</th>\n",
       "      <td>PDM30519623</td>\n",
       "      <td>ARBIO, FEDERICO MANUEL</td>\n",
       "      <td>27008328</td>\n",
       "      <td>0</td>\n",
       "    </tr>\n",
       "    <tr>\n",
       "      <th>52</th>\n",
       "      <td>PDM95483326</td>\n",
       "      <td>DOS SANTOS, ALAN DAVID</td>\n",
       "      <td>27008830</td>\n",
       "      <td>0</td>\n",
       "    </tr>\n",
       "    <tr>\n",
       "      <th>...</th>\n",
       "      <td>...</td>\n",
       "      <td>...</td>\n",
       "      <td>...</td>\n",
       "      <td>...</td>\n",
       "    </tr>\n",
       "    <tr>\n",
       "      <th>31082</th>\n",
       "      <td>VHF418267</td>\n",
       "      <td>SOUR, ELIZABETH VIVIANA</td>\n",
       "      <td>5535516</td>\n",
       "      <td>X</td>\n",
       "    </tr>\n",
       "    <tr>\n",
       "      <th>31083</th>\n",
       "      <td>VHF24819</td>\n",
       "      <td>ARANDA, BRENDA ALEXANDRA</td>\n",
       "      <td>5519787</td>\n",
       "      <td>BR3</td>\n",
       "    </tr>\n",
       "    <tr>\n",
       "      <th>31084</th>\n",
       "      <td>VHF506058</td>\n",
       "      <td>MELO HERNANDEZ, PAMELA LORENA</td>\n",
       "      <td>5535500</td>\n",
       "      <td>BR2</td>\n",
       "    </tr>\n",
       "    <tr>\n",
       "      <th>31085</th>\n",
       "      <td>PDM10479401</td>\n",
       "      <td>TOMASELLO BARCIA, CARLOS DANTE</td>\n",
       "      <td>27779712</td>\n",
       "      <td>E1</td>\n",
       "    </tr>\n",
       "    <tr>\n",
       "      <th>31086</th>\n",
       "      <td>PDM16892337</td>\n",
       "      <td>PUGA, MIGUEL ANGEL</td>\n",
       "      <td>27779733</td>\n",
       "      <td>E0</td>\n",
       "    </tr>\n",
       "  </tbody>\n",
       "</table>\n",
       "<p>8991 rows × 4 columns</p>\n",
       "</div>"
      ],
      "text/plain": [
       "       ID_PACIENTE                        PACIENTE HIS_ID_limpio DIAG.\n",
       "9        VHF340405       MATA, MARIA ESTER LILIANA       4488767     0\n",
       "18     PDF33023587         SUELDO, AGUSTINA MAGALI      27007859     0\n",
       "37     PDF35016779                  BUCU, SAMANTHA      27008065     0\n",
       "41     PDM30519623          ARBIO, FEDERICO MANUEL      27008328     0\n",
       "52     PDM95483326          DOS SANTOS, ALAN DAVID      27008830     0\n",
       "...            ...                             ...           ...   ...\n",
       "31082    VHF418267         SOUR, ELIZABETH VIVIANA       5535516     X\n",
       "31083     VHF24819        ARANDA, BRENDA ALEXANDRA       5519787   BR3\n",
       "31084    VHF506058   MELO HERNANDEZ, PAMELA LORENA       5535500   BR2\n",
       "31085  PDM10479401  TOMASELLO BARCIA, CARLOS DANTE      27779712    E1\n",
       "31086  PDM16892337              PUGA, MIGUEL ANGEL      27779733    E0\n",
       "\n",
       "[8991 rows x 4 columns]"
      ]
     },
     "execution_count": 271,
     "metadata": {},
     "output_type": "execute_result"
    }
   ],
   "source": [
    "unicas_ris_jose"
   ]
  },
  {
   "cell_type": "code",
   "execution_count": 272,
   "metadata": {},
   "outputs": [
    {
     "data": {
      "text/html": [
       "<div>\n",
       "<style scoped>\n",
       "    .dataframe tbody tr th:only-of-type {\n",
       "        vertical-align: middle;\n",
       "    }\n",
       "\n",
       "    .dataframe tbody tr th {\n",
       "        vertical-align: top;\n",
       "    }\n",
       "\n",
       "    .dataframe thead th {\n",
       "        text-align: right;\n",
       "    }\n",
       "</style>\n",
       "<table border=\"1\" class=\"dataframe\">\n",
       "  <thead>\n",
       "    <tr style=\"text-align: right;\">\n",
       "      <th></th>\n",
       "      <th>ID_PACIENTE_PRINCIPAL</th>\n",
       "      <th>NOMBRE_PACIENTE</th>\n",
       "      <th>APELLIDO_PACIENTE</th>\n",
       "      <th>HIS_ID_limpio</th>\n",
       "      <th>ID_DIAGNO</th>\n",
       "    </tr>\n",
       "  </thead>\n",
       "  <tbody>\n",
       "    <tr>\n",
       "      <th>11</th>\n",
       "      <td>PCF12198451</td>\n",
       "      <td>ITALIA</td>\n",
       "      <td>D ALESSANDRO</td>\n",
       "      <td>27523377</td>\n",
       "      <td>2</td>\n",
       "    </tr>\n",
       "    <tr>\n",
       "      <th>38</th>\n",
       "      <td>PCF2421645</td>\n",
       "      <td>MARTHA J GALANTE DE</td>\n",
       "      <td>ESSES</td>\n",
       "      <td>27555738</td>\n",
       "      <td>1</td>\n",
       "    </tr>\n",
       "    <tr>\n",
       "      <th>61</th>\n",
       "      <td>PCF3046830</td>\n",
       "      <td>JULIA H</td>\n",
       "      <td>BIAIN</td>\n",
       "      <td>27587014</td>\n",
       "      <td>2</td>\n",
       "    </tr>\n",
       "    <tr>\n",
       "      <th>62</th>\n",
       "      <td>PCF3056417</td>\n",
       "      <td>DORA DE AUGERI</td>\n",
       "      <td>EVANGELISTA</td>\n",
       "      <td>27545625</td>\n",
       "      <td>X</td>\n",
       "    </tr>\n",
       "    <tr>\n",
       "      <th>63</th>\n",
       "      <td>PCF3073201</td>\n",
       "      <td>SARA</td>\n",
       "      <td>PARDO CAMPOS</td>\n",
       "      <td>27545709</td>\n",
       "      <td>X</td>\n",
       "    </tr>\n",
       "    <tr>\n",
       "      <th>...</th>\n",
       "      <td>...</td>\n",
       "      <td>...</td>\n",
       "      <td>...</td>\n",
       "      <td>...</td>\n",
       "      <td>...</td>\n",
       "    </tr>\n",
       "    <tr>\n",
       "      <th>96771</th>\n",
       "      <td>VHM93381</td>\n",
       "      <td>JUAN MANUEL</td>\n",
       "      <td>COBO</td>\n",
       "      <td>4999711</td>\n",
       "      <td>X</td>\n",
       "    </tr>\n",
       "    <tr>\n",
       "      <th>96815</th>\n",
       "      <td>VHM9616</td>\n",
       "      <td>OSCAR ANIBAL</td>\n",
       "      <td>VAZQUEZ</td>\n",
       "      <td>5018419</td>\n",
       "      <td>X</td>\n",
       "    </tr>\n",
       "    <tr>\n",
       "      <th>96861</th>\n",
       "      <td>VHM98819</td>\n",
       "      <td>TOMAS ALEJANDRO</td>\n",
       "      <td>ROCHE</td>\n",
       "      <td>5059991</td>\n",
       "      <td>X</td>\n",
       "    </tr>\n",
       "    <tr>\n",
       "      <th>96868</th>\n",
       "      <td>VHM99008</td>\n",
       "      <td>ROBERTO JAVIER</td>\n",
       "      <td>CARROZO</td>\n",
       "      <td>5029012</td>\n",
       "      <td>2</td>\n",
       "    </tr>\n",
       "    <tr>\n",
       "      <th>96871</th>\n",
       "      <td>VHM99542</td>\n",
       "      <td>RAFAEL EUDORO</td>\n",
       "      <td>LEAL</td>\n",
       "      <td>1712954</td>\n",
       "      <td>X</td>\n",
       "    </tr>\n",
       "  </tbody>\n",
       "</table>\n",
       "<p>7735 rows × 5 columns</p>\n",
       "</div>"
      ],
      "text/plain": [
       "      ID_PACIENTE_PRINCIPAL      NOMBRE_PACIENTE APELLIDO_PACIENTE  \\\n",
       "11              PCF12198451               ITALIA      D ALESSANDRO   \n",
       "38               PCF2421645  MARTHA J GALANTE DE             ESSES   \n",
       "61               PCF3046830              JULIA H             BIAIN   \n",
       "62               PCF3056417       DORA DE AUGERI       EVANGELISTA   \n",
       "63               PCF3073201                 SARA      PARDO CAMPOS   \n",
       "...                     ...                  ...               ...   \n",
       "96771              VHM93381          JUAN MANUEL              COBO   \n",
       "96815               VHM9616         OSCAR ANIBAL           VAZQUEZ   \n",
       "96861              VHM98819      TOMAS ALEJANDRO             ROCHE   \n",
       "96868              VHM99008       ROBERTO JAVIER           CARROZO   \n",
       "96871              VHM99542        RAFAEL EUDORO              LEAL   \n",
       "\n",
       "      HIS_ID_limpio ID_DIAGNO  \n",
       "11         27523377         2  \n",
       "38         27555738         1  \n",
       "61         27587014         2  \n",
       "62         27545625         X  \n",
       "63         27545709         X  \n",
       "...             ...       ...  \n",
       "96771       4999711         X  \n",
       "96815       5018419         X  \n",
       "96861       5059991         X  \n",
       "96868       5029012         2  \n",
       "96871       1712954         X  \n",
       "\n",
       "[7735 rows x 5 columns]"
      ]
     },
     "execution_count": 272,
     "metadata": {},
     "output_type": "execute_result"
    }
   ],
   "source": [
    "unicas_ris"
   ]
  },
  {
   "cell_type": "code",
   "execution_count": null,
   "metadata": {},
   "outputs": [],
   "source": []
  },
  {
   "cell_type": "code",
   "execution_count": null,
   "metadata": {},
   "outputs": [],
   "source": []
  },
  {
   "cell_type": "code",
   "execution_count": null,
   "metadata": {},
   "outputs": [],
   "source": []
  },
  {
   "cell_type": "code",
   "execution_count": 397,
   "metadata": {},
   "outputs": [],
   "source": [
    "#-- GUARDIA CMA - ESTADISTICA PRESCRIPTORES DIAGNOSTICOS IMAGENES\n",
    "cau = querydbtopandas(\"\"\"select\n",
    "    c.consulta_id, \n",
    "    ct.fecha_desde, \n",
    "    tipo_matricula_med, \n",
    "    nro_matricula_med, \n",
    "    nom_ape_med_presc, \n",
    "    registro_usuario, \n",
    "    prest.prestac, \n",
    "    prest.exten_deno, \n",
    "    es_guardia\n",
    "from  dba.CMA_CONSULTA_TURNO ct\n",
    "    join dba.CMA_CONSULTA c\n",
    "        on c.consulta_id = ct.consulta_id\n",
    "    join dba.CMA_ETAPA et\n",
    "        on c.consulta_id = et.consulta_id\n",
    "    join dba.CMA_CONSULTORIO cons\n",
    "        on cons.consultorio_id = ct.consultorio_id\n",
    "    join dba.cma_prestacion_consulta pc\n",
    "        on c.consulta_id = pc.consulta_id\n",
    "    join dba.prestaciones prest\n",
    "        on prest.prestac = pc.prestac\n",
    "   where  prest.nomen = 29\n",
    "      and fecha_desde >= '2019/01'\n",
    "      and fecha_hasta < '2019/04'\n",
    "      and et.workflow = 1\n",
    "      and es_guardia = 1\n",
    "      and nro_matricula_med <> null\n",
    "      and nro_matricula_med <> ' '\n",
    "      and et.etapa_id = (select min(etapa_id) from dba.cma_etapa eta where et.consulta_id = eta.consulta_id and eta.workflow = 1)\"\"\")"
   ]
  },
  {
   "cell_type": "code",
   "execution_count": 398,
   "metadata": {},
   "outputs": [
    {
     "data": {
      "text/html": [
       "<div>\n",
       "<style scoped>\n",
       "    .dataframe tbody tr th:only-of-type {\n",
       "        vertical-align: middle;\n",
       "    }\n",
       "\n",
       "    .dataframe tbody tr th {\n",
       "        vertical-align: top;\n",
       "    }\n",
       "\n",
       "    .dataframe thead th {\n",
       "        text-align: right;\n",
       "    }\n",
       "</style>\n",
       "<table border=\"1\" class=\"dataframe\">\n",
       "  <thead>\n",
       "    <tr style=\"text-align: right;\">\n",
       "      <th></th>\n",
       "      <th>consulta_id</th>\n",
       "      <th>fecha_desde</th>\n",
       "      <th>tipo_matricula_med</th>\n",
       "      <th>nro_matricula_med</th>\n",
       "      <th>nom_ape_med_presc</th>\n",
       "      <th>registro_usuario</th>\n",
       "      <th>prestac</th>\n",
       "      <th>exten_deno</th>\n",
       "      <th>es_guardia</th>\n",
       "    </tr>\n",
       "  </thead>\n",
       "  <tbody>\n",
       "    <tr>\n",
       "      <th>0</th>\n",
       "      <td>27005902.0</td>\n",
       "      <td>2019-01-02 07:13:00</td>\n",
       "      <td>MN</td>\n",
       "      <td>94870</td>\n",
       "      <td>DR.   CAPPARELLI GERMÁN E.                    ...</td>\n",
       "      <td>uid=elderosa,cn=Elizabeth De Rosa,ou5=Swiss Me...</td>\n",
       "      <td>RA03001</td>\n",
       "      <td>TORAX CON O SIN RELLENO ESOFAGO</td>\n",
       "      <td>True</td>\n",
       "    </tr>\n",
       "    <tr>\n",
       "      <th>1</th>\n",
       "      <td>27005907.0</td>\n",
       "      <td>2019-01-02 07:16:00</td>\n",
       "      <td>MN</td>\n",
       "      <td>94870</td>\n",
       "      <td>DR.   CAPPARELLI GERMÁN E.                    ...</td>\n",
       "      <td>uid=elderosa,cn=Elizabeth De Rosa,ou5=Swiss Me...</td>\n",
       "      <td>RA03001</td>\n",
       "      <td>TORAX CON O SIN RELLENO ESOFAGO</td>\n",
       "      <td>True</td>\n",
       "    </tr>\n",
       "    <tr>\n",
       "      <th>2</th>\n",
       "      <td>27005908.0</td>\n",
       "      <td>2019-01-02 07:18:00</td>\n",
       "      <td>MN</td>\n",
       "      <td>94870</td>\n",
       "      <td>DR.   CAPPARELLI GERMÁN E.                    ...</td>\n",
       "      <td>uid=elderosa,cn=Elizabeth De Rosa,ou5=Swiss Me...</td>\n",
       "      <td>RA03001</td>\n",
       "      <td>TORAX CON O SIN RELLENO ESOFAGO</td>\n",
       "      <td>True</td>\n",
       "    </tr>\n",
       "    <tr>\n",
       "      <th>3</th>\n",
       "      <td>27005918.0</td>\n",
       "      <td>2019-01-02 07:22:00</td>\n",
       "      <td>MN</td>\n",
       "      <td>94870</td>\n",
       "      <td>DR.   CAPPARELLI GERMÁN E.                    ...</td>\n",
       "      <td>uid=elderosa,cn=Elizabeth De Rosa,ou5=Swiss Me...</td>\n",
       "      <td>RA03001</td>\n",
       "      <td>TORAX CON O SIN RELLENO ESOFAGO</td>\n",
       "      <td>True</td>\n",
       "    </tr>\n",
       "    <tr>\n",
       "      <th>4</th>\n",
       "      <td>27005923.0</td>\n",
       "      <td>2019-01-02 07:24:00</td>\n",
       "      <td>MN</td>\n",
       "      <td>94870</td>\n",
       "      <td>DR.   CAPPARELLI GERMÁN E.                    ...</td>\n",
       "      <td>uid=elderosa,cn=Elizabeth De Rosa,ou5=Swiss Me...</td>\n",
       "      <td>RA03001</td>\n",
       "      <td>TORAX CON O SIN RELLENO ESOFAGO</td>\n",
       "      <td>True</td>\n",
       "    </tr>\n",
       "    <tr>\n",
       "      <th>...</th>\n",
       "      <td>...</td>\n",
       "      <td>...</td>\n",
       "      <td>...</td>\n",
       "      <td>...</td>\n",
       "      <td>...</td>\n",
       "      <td>...</td>\n",
       "      <td>...</td>\n",
       "      <td>...</td>\n",
       "      <td>...</td>\n",
       "    </tr>\n",
       "    <tr>\n",
       "      <th>45133</th>\n",
       "      <td>27630944.0</td>\n",
       "      <td>2019-03-31 23:39:00</td>\n",
       "      <td>MN</td>\n",
       "      <td>150264</td>\n",
       "      <td>RODRIGO M ISABELLI                            ...</td>\n",
       "      <td>uid=cma_diegoa,cn=Diego Amanatto,ou4=C. Med. A...</td>\n",
       "      <td>RA02010</td>\n",
       "      <td>RAQUIS EXPOSICION SUBSIGUIENTE</td>\n",
       "      <td>True</td>\n",
       "    </tr>\n",
       "    <tr>\n",
       "      <th>45134</th>\n",
       "      <td>27630945.0</td>\n",
       "      <td>2019-03-31 23:44:00</td>\n",
       "      <td>MN</td>\n",
       "      <td>131309</td>\n",
       "      <td>BELISARIO BUITRAGO                            ...</td>\n",
       "      <td>uid=igpeluso,cn=Ignacio Peluso,ou5=Swiss Medic...</td>\n",
       "      <td>TC10001</td>\n",
       "      <td>TC DE CEREBRO</td>\n",
       "      <td>True</td>\n",
       "    </tr>\n",
       "    <tr>\n",
       "      <th>45135</th>\n",
       "      <td>27631189.0</td>\n",
       "      <td>2019-03-30 14:31:00</td>\n",
       "      <td>MN</td>\n",
       "      <td>123926</td>\n",
       "      <td>DEBORA G IARIA                                ...</td>\n",
       "      <td>uid=cabengoa,cn=Carolina Bengoa,ou5=Swiss Medi...</td>\n",
       "      <td>EC01046</td>\n",
       "      <td>ECODOPPLER TESTICULAR</td>\n",
       "      <td>True</td>\n",
       "    </tr>\n",
       "    <tr>\n",
       "      <th>45136</th>\n",
       "      <td>27632048.0</td>\n",
       "      <td>2019-03-25 10:00:00</td>\n",
       "      <td>MN</td>\n",
       "      <td>25702</td>\n",
       "      <td>DR ROMANELLI  JORGE                           ...</td>\n",
       "      <td>uid=cym_valeriasac,cn=Valeria Sack,ou5=G. Gene...</td>\n",
       "      <td>RA02013</td>\n",
       "      <td>CODO, ANTEBRAZO, MUÑECA, MANO, DEDOS, RODILLA,...</td>\n",
       "      <td>True</td>\n",
       "    </tr>\n",
       "    <tr>\n",
       "      <th>45137</th>\n",
       "      <td>27632048.0</td>\n",
       "      <td>2019-03-25 10:00:00</td>\n",
       "      <td>MN</td>\n",
       "      <td>25702</td>\n",
       "      <td>DR ROMANELLI  JORGE                           ...</td>\n",
       "      <td>uid=cym_valeriasac,cn=Valeria Sack,ou5=G. Gene...</td>\n",
       "      <td>RA02011</td>\n",
       "      <td>HOMBRO, HUMERO, PELVIS, CADERA, FEMUR 1ra. EXP...</td>\n",
       "      <td>True</td>\n",
       "    </tr>\n",
       "  </tbody>\n",
       "</table>\n",
       "<p>45138 rows × 9 columns</p>\n",
       "</div>"
      ],
      "text/plain": [
       "       consulta_id         fecha_desde tipo_matricula_med nro_matricula_med  \\\n",
       "0       27005902.0 2019-01-02 07:13:00               MN         94870         \n",
       "1       27005907.0 2019-01-02 07:16:00               MN         94870         \n",
       "2       27005908.0 2019-01-02 07:18:00               MN         94870         \n",
       "3       27005918.0 2019-01-02 07:22:00               MN         94870         \n",
       "4       27005923.0 2019-01-02 07:24:00               MN         94870         \n",
       "...            ...                 ...                ...               ...   \n",
       "45133   27630944.0 2019-03-31 23:39:00               MN         150264        \n",
       "45134   27630945.0 2019-03-31 23:44:00               MN         131309        \n",
       "45135   27631189.0 2019-03-30 14:31:00               MN         123926        \n",
       "45136   27632048.0 2019-03-25 10:00:00               MN         25702         \n",
       "45137   27632048.0 2019-03-25 10:00:00               MN         25702         \n",
       "\n",
       "                                       nom_ape_med_presc  \\\n",
       "0      DR.   CAPPARELLI GERMÁN E.                    ...   \n",
       "1      DR.   CAPPARELLI GERMÁN E.                    ...   \n",
       "2      DR.   CAPPARELLI GERMÁN E.                    ...   \n",
       "3      DR.   CAPPARELLI GERMÁN E.                    ...   \n",
       "4      DR.   CAPPARELLI GERMÁN E.                    ...   \n",
       "...                                                  ...   \n",
       "45133  RODRIGO M ISABELLI                            ...   \n",
       "45134  BELISARIO BUITRAGO                            ...   \n",
       "45135  DEBORA G IARIA                                ...   \n",
       "45136  DR ROMANELLI  JORGE                           ...   \n",
       "45137  DR ROMANELLI  JORGE                           ...   \n",
       "\n",
       "                                        registro_usuario     prestac  \\\n",
       "0      uid=elderosa,cn=Elizabeth De Rosa,ou5=Swiss Me...  RA03001      \n",
       "1      uid=elderosa,cn=Elizabeth De Rosa,ou5=Swiss Me...  RA03001      \n",
       "2      uid=elderosa,cn=Elizabeth De Rosa,ou5=Swiss Me...  RA03001      \n",
       "3      uid=elderosa,cn=Elizabeth De Rosa,ou5=Swiss Me...  RA03001      \n",
       "4      uid=elderosa,cn=Elizabeth De Rosa,ou5=Swiss Me...  RA03001      \n",
       "...                                                  ...         ...   \n",
       "45133  uid=cma_diegoa,cn=Diego Amanatto,ou4=C. Med. A...  RA02010      \n",
       "45134  uid=igpeluso,cn=Ignacio Peluso,ou5=Swiss Medic...  TC10001      \n",
       "45135  uid=cabengoa,cn=Carolina Bengoa,ou5=Swiss Medi...  EC01046      \n",
       "45136  uid=cym_valeriasac,cn=Valeria Sack,ou5=G. Gene...  RA02013      \n",
       "45137  uid=cym_valeriasac,cn=Valeria Sack,ou5=G. Gene...  RA02011      \n",
       "\n",
       "                                              exten_deno  es_guardia  \n",
       "0                        TORAX CON O SIN RELLENO ESOFAGO        True  \n",
       "1                        TORAX CON O SIN RELLENO ESOFAGO        True  \n",
       "2                        TORAX CON O SIN RELLENO ESOFAGO        True  \n",
       "3                        TORAX CON O SIN RELLENO ESOFAGO        True  \n",
       "4                        TORAX CON O SIN RELLENO ESOFAGO        True  \n",
       "...                                                  ...         ...  \n",
       "45133                     RAQUIS EXPOSICION SUBSIGUIENTE        True  \n",
       "45134                                      TC DE CEREBRO        True  \n",
       "45135                            ECODOPPLER TESTICULAR          True  \n",
       "45136  CODO, ANTEBRAZO, MUÑECA, MANO, DEDOS, RODILLA,...        True  \n",
       "45137  HOMBRO, HUMERO, PELVIS, CADERA, FEMUR 1ra. EXP...        True  \n",
       "\n",
       "[45138 rows x 9 columns]"
      ]
     },
     "execution_count": 398,
     "metadata": {},
     "output_type": "execute_result"
    }
   ],
   "source": [
    "cau"
   ]
  },
  {
   "cell_type": "code",
   "execution_count": 405,
   "metadata": {},
   "outputs": [],
   "source": [
    "cau[\"consulta_id\"] = cau[\"consulta_id\"].astype(str).str[:-2]"
   ]
  },
  {
   "cell_type": "code",
   "execution_count": 407,
   "metadata": {},
   "outputs": [
    {
     "data": {
      "text/html": [
       "<div>\n",
       "<style scoped>\n",
       "    .dataframe tbody tr th:only-of-type {\n",
       "        vertical-align: middle;\n",
       "    }\n",
       "\n",
       "    .dataframe tbody tr th {\n",
       "        vertical-align: top;\n",
       "    }\n",
       "\n",
       "    .dataframe thead th {\n",
       "        text-align: right;\n",
       "    }\n",
       "</style>\n",
       "<table border=\"1\" class=\"dataframe\">\n",
       "  <thead>\n",
       "    <tr style=\"text-align: right;\">\n",
       "      <th></th>\n",
       "      <th>HIS_ID_limpio</th>\n",
       "      <th>consulta_id</th>\n",
       "    </tr>\n",
       "  </thead>\n",
       "  <tbody>\n",
       "    <tr>\n",
       "      <th>0</th>\n",
       "      <td>27007580</td>\n",
       "      <td>27007580</td>\n",
       "    </tr>\n",
       "    <tr>\n",
       "      <th>1</th>\n",
       "      <td>27007580</td>\n",
       "      <td>27007580</td>\n",
       "    </tr>\n",
       "    <tr>\n",
       "      <th>2</th>\n",
       "      <td>27007658</td>\n",
       "      <td>27007658</td>\n",
       "    </tr>\n",
       "    <tr>\n",
       "      <th>3</th>\n",
       "      <td>27007722</td>\n",
       "      <td>27007722</td>\n",
       "    </tr>\n",
       "    <tr>\n",
       "      <th>4</th>\n",
       "      <td>27007769</td>\n",
       "      <td>27007769</td>\n",
       "    </tr>\n",
       "    <tr>\n",
       "      <th>...</th>\n",
       "      <td>...</td>\n",
       "      <td>...</td>\n",
       "    </tr>\n",
       "    <tr>\n",
       "      <th>5196</th>\n",
       "      <td>27630846</td>\n",
       "      <td>27630846</td>\n",
       "    </tr>\n",
       "    <tr>\n",
       "      <th>5197</th>\n",
       "      <td>27630846</td>\n",
       "      <td>27630846</td>\n",
       "    </tr>\n",
       "    <tr>\n",
       "      <th>5198</th>\n",
       "      <td>27630854</td>\n",
       "      <td>27630854</td>\n",
       "    </tr>\n",
       "    <tr>\n",
       "      <th>5199</th>\n",
       "      <td>27630894</td>\n",
       "      <td>27630894</td>\n",
       "    </tr>\n",
       "    <tr>\n",
       "      <th>5200</th>\n",
       "      <td>27630931</td>\n",
       "      <td>27630931</td>\n",
       "    </tr>\n",
       "  </tbody>\n",
       "</table>\n",
       "<p>5201 rows × 2 columns</p>\n",
       "</div>"
      ],
      "text/plain": [
       "     HIS_ID_limpio consulta_id\n",
       "0         27007580    27007580\n",
       "1         27007580    27007580\n",
       "2         27007658    27007658\n",
       "3         27007722    27007722\n",
       "4         27007769    27007769\n",
       "...            ...         ...\n",
       "5196      27630846    27630846\n",
       "5197      27630846    27630846\n",
       "5198      27630854    27630854\n",
       "5199      27630894    27630894\n",
       "5200      27630931    27630931\n",
       "\n",
       "[5201 rows x 2 columns]"
      ]
     },
     "execution_count": 407,
     "metadata": {},
     "output_type": "execute_result"
    }
   ],
   "source": [
    "pd.merge(ris, cau, left_on=\"HIS_ID_limpio\", right_on=\"consulta_id\")[[\"HIS_ID_limpio\", \"consulta_id\"]]"
   ]
  },
  {
   "cell_type": "code",
   "execution_count": 408,
   "metadata": {},
   "outputs": [
    {
     "data": {
      "text/plain": [
       "54226"
      ]
     },
     "execution_count": 408,
     "metadata": {},
     "output_type": "execute_result"
    }
   ],
   "source": [
    "len(ris)"
   ]
  },
  {
   "cell_type": "code",
   "execution_count": 409,
   "metadata": {},
   "outputs": [
    {
     "data": {
      "text/plain": [
       "45138"
      ]
     },
     "execution_count": 409,
     "metadata": {},
     "output_type": "execute_result"
    }
   ],
   "source": [
    "len(cau)"
   ]
  },
  {
   "cell_type": "code",
   "execution_count": 208,
   "metadata": {},
   "outputs": [],
   "source": [
    "#cau.consulta_id.unique().tolist() "
   ]
  },
  {
   "cell_type": "code",
   "execution_count": 89,
   "metadata": {},
   "outputs": [
    {
     "data": {
      "text/plain": [
       "0      23920743.0\n",
       "1      23920932.0\n",
       "2      23920945.0\n",
       "3      23921053.0\n",
       "4      23921067.0\n",
       "          ...    \n",
       "995    23940984.0\n",
       "996    23940989.0\n",
       "997    23941005.0\n",
       "998    23941005.0\n",
       "999    23941009.0\n",
       "Name: consulta_id, Length: 1000, dtype: float64"
      ]
     },
     "execution_count": 89,
     "metadata": {},
     "output_type": "execute_result"
    }
   ],
   "source": [
    "cau.consulta_id#   (ris.HIS_ID)"
   ]
  },
  {
   "cell_type": "code",
   "execution_count": 219,
   "metadata": {},
   "outputs": [],
   "source": [
    "ris.loc[ris['HIS_ID'] == \"\", 'HIS_ID'] = np.nan\n",
    "#ris.HIS_ID[ris.HIS_ID == \"\", ris.HIS_ID] = np.nan"
   ]
  },
  {
   "cell_type": "code",
   "execution_count": 220,
   "metadata": {},
   "outputs": [
    {
     "data": {
      "text/plain": [
       "0           1623710\n",
       "1          27007358\n",
       "2          27007359\n",
       "3          27007360\n",
       "4          27007361\n",
       "            ...    \n",
       "196681      5176903\n",
       "196682      5176898\n",
       "196683     51768982\n",
       "196684    173223504\n",
       "196685      5174551\n",
       "Name: HIS_ID, Length: 195222, dtype: object"
      ]
     },
     "execution_count": 220,
     "metadata": {},
     "output_type": "execute_result"
    }
   ],
   "source": [
    "ris['HIS_ID'].dropna()"
   ]
  },
  {
   "cell_type": "code",
   "execution_count": 173,
   "metadata": {},
   "outputs": [
    {
     "data": {
      "text/plain": [
       "False"
      ]
     },
     "execution_count": 173,
     "metadata": {},
     "output_type": "execute_result"
    }
   ],
   "source": [
    "set(ris.HIS_ID.dropna().astype(int)) in set(cau.consulta_id)"
   ]
  },
  {
   "cell_type": "code",
   "execution_count": 126,
   "metadata": {},
   "outputs": [
    {
     "data": {
      "text/plain": [
       "603001    2302075\n",
       "603005    2302076\n",
       "603009    2302096\n",
       "603015    2302110\n",
       "603016    2302116\n",
       "           ...   \n",
       "901122    2302022\n",
       "901138    2302034\n",
       "901141    2302037\n",
       "901146    2302043\n",
       "901151    2302048\n",
       "Name: HIS_ID, Length: 522, dtype: object"
      ]
     },
     "execution_count": 126,
     "metadata": {},
     "output_type": "execute_result"
    }
   ],
   "source": [
    "ris.HIS_ID[ris.HIS_ID.astype(str).str[:2] == \"23\"]"
   ]
  },
  {
   "cell_type": "code",
   "execution_count": 104,
   "metadata": {},
   "outputs": [],
   "source": [
    "for i in ris.HIS_ID:\n",
    "    if len(i) == 0:\n",
    "        i = np.nan"
   ]
  },
  {
   "cell_type": "code",
   "execution_count": 205,
   "metadata": {},
   "outputs": [],
   "source": [
    "#ris.HIS_ID.tolist()"
   ]
  },
  {
   "cell_type": "code",
   "execution_count": 279,
   "metadata": {},
   "outputs": [],
   "source": [
    "#- PROGRAMADA CMA - ESTADISTICA PRESCRIPTORES DIAGNOSTICOS IMAGENES\n",
    "cau1 = querydbtopandas(\"\"\"select \n",
    "    c.consulta_id, \n",
    "    ct.fecha_desde, \n",
    "    tipo_matricula_med, \n",
    "    nro_matricula_med, \n",
    "    nom_ape_med_presc, \n",
    "    registro_usuario, \n",
    "    prest.prestac, \n",
    "    prest.exten_deno, \n",
    "    es_guardia\n",
    "from  dba.CMA_CONSULTA_TURNO ct\n",
    "    join dba.CMA_CONSULTA c\n",
    "        on c.consulta_id = ct.consulta_id\n",
    "    join dba.CMA_ETAPA et\n",
    "        on c.consulta_id = et.consulta_id\n",
    "    join dba.CMA_CONSULTORIO cons\n",
    "        on cons.consultorio_id = ct.consultorio_id\n",
    "    join dba.cma_prestacion_consulta pc\n",
    "        on c.consulta_id = pc.consulta_id\n",
    "    join dba.prestaciones prest\n",
    "        on prest.prestac = pc.prestac\n",
    "   where  prest.nomen = 29\n",
    "      and fecha_desde >= '2019/01'\n",
    "      and fecha_hasta < '2019/02'\n",
    "      and et.workflow = 2\"\"\")"
   ]
  },
  {
   "cell_type": "code",
   "execution_count": 280,
   "metadata": {},
   "outputs": [
    {
     "data": {
      "text/plain": [
       "283783"
      ]
     },
     "execution_count": 280,
     "metadata": {},
     "output_type": "execute_result"
    }
   ],
   "source": [
    "len(cau1)"
   ]
  },
  {
   "cell_type": "code",
   "execution_count": 431,
   "metadata": {},
   "outputs": [],
   "source": [
    "#cau armado por mi\n",
    "# programada \n",
    "cau2 = querydbtopandas(\"\"\"select \n",
    "c.consulta_id, \n",
    "ct.fecha_desde, \n",
    "tipo_matricula_med, \n",
    "nro_matricula_med, \n",
    "nom_ape_med_presc, \n",
    "registro_usuario, \n",
    "prest.prestac, \n",
    "prest.exten_deno, \n",
    "es_guardia\n",
    " from  dba.cma_consulta_turno ct, dba.cma_consulta c, dba.CMA_ETAPA et, dba.cma_consultorio cons, dba.cma_prestacion_consulta pc, dba.prestaciones prest\n",
    "where c.consulta_id = ct.consulta_id\n",
    "and c.consulta_id = et.consulta_id\n",
    "and cons.consultorio_id = ct.consultorio_id\n",
    "and c.consulta_id = pc.consulta_id\n",
    "and prest.prestac = pc.prestac\n",
    "and prest.nomen = 29\n",
    "and fecha_desde >= '2019-01'\n",
    "and fecha_hasta < '2019-05'\n",
    "and et.workflow = 2\n",
    "and es_guardia = 0\n",
    "and nro_matricula_med <> null\n",
    "and nro_matricula_med <> ' '\n",
    "and et.etapa_id = (select min(etapa_id) from dba.CMA_ETAPA eta where et.consulta_id = eta.consulta_id and eta.workflow = 2)\"\"\")"
   ]
  },
  {
   "cell_type": "code",
   "execution_count": 432,
   "metadata": {},
   "outputs": [
    {
     "data": {
      "text/plain": [
       "111894"
      ]
     },
     "execution_count": 432,
     "metadata": {},
     "output_type": "execute_result"
    }
   ],
   "source": [
    "len(cau2)"
   ]
  },
  {
   "cell_type": "code",
   "execution_count": 433,
   "metadata": {},
   "outputs": [
    {
     "data": {
      "text/plain": [
       "Index(['consulta_id', 'fecha_desde', 'tipo_matricula_med', 'nro_matricula_med',\n",
       "       'nom_ape_med_presc', 'registro_usuario', 'prestac', 'exten_deno',\n",
       "       'es_guardia'],\n",
       "      dtype='object')"
      ]
     },
     "execution_count": 433,
     "metadata": {},
     "output_type": "execute_result"
    }
   ],
   "source": [
    "cau2.columns"
   ]
  },
  {
   "cell_type": "code",
   "execution_count": 434,
   "metadata": {},
   "outputs": [
    {
     "data": {
      "text/plain": [
       "0         26399533.0\n",
       "1         26399533.0\n",
       "2         26411885.0\n",
       "3         26411885.0\n",
       "4         26425946.0\n",
       "             ...    \n",
       "111889    27792454.0\n",
       "111890    27792468.0\n",
       "111891    27817074.0\n",
       "111892    27818698.0\n",
       "111893    28188452.0\n",
       "Name: consulta_id, Length: 111894, dtype: float64"
      ]
     },
     "execution_count": 434,
     "metadata": {},
     "output_type": "execute_result"
    }
   ],
   "source": [
    "cau2[\"consulta_id\"]"
   ]
  },
  {
   "cell_type": "code",
   "execution_count": 445,
   "metadata": {},
   "outputs": [],
   "source": [
    "cau2[\"consulta_id\"] = cau2[\"consulta_id\"].astype(str)[:-2]"
   ]
  },
  {
   "cell_type": "code",
   "execution_count": 449,
   "metadata": {},
   "outputs": [],
   "source": [
    "cau2[\"consulta_id\"] = cau2[\"consulta_id\"].str[:-2]"
   ]
  },
  {
   "cell_type": "code",
   "execution_count": 454,
   "metadata": {},
   "outputs": [],
   "source": [
    "cau2 = cau2[cau2[\"consulta_id\"].notna()]"
   ]
  },
  {
   "cell_type": "code",
   "execution_count": 456,
   "metadata": {},
   "outputs": [],
   "source": [
    "final = pd.merge(ris, cau2, left_on= \"HIS_ID_limpio\", right_on=\"consulta_id\")"
   ]
  },
  {
   "cell_type": "code",
   "execution_count": 458,
   "metadata": {},
   "outputs": [
    {
     "data": {
      "text/plain": [
       "Index(['HIS_ID', 'RIS_ID', 'REL_ID', 'ID_PACIENTE_PRINCIPAL',\n",
       "       'ID_PACIENTE_ALTERNATIVO', 'NOMBRE_PACIENTE', 'APELLIDO_PACIENTE',\n",
       "       'SEXO_PACIENTE', 'EDAD', 'FECHA_NACIMIENTO', 'ID_PROCED',\n",
       "       'GRUPO_ESTUDIO', 'PROCEDIMIENTO', 'ORIGEN', 'ID_SITIO', 'ID_EQUIPO',\n",
       "       'SERVICIO', 'CODIGO_FINANCIADOR', 'ORG_SOLICITANTE', 'ESCANEO',\n",
       "       'ID_DIAGNO', 'FECHA_AGENDADA', 'HORA_AGENDADA', 'FECHA_ARRIBO',\n",
       "       'HORA_ARRIBO', 'FECHA_INICIO', 'HORA_INICIO', 'FECHA_REALIZADO',\n",
       "       'HORA_REALIZADO', 'FECHA_DICTADO', 'HORA_DICTADO', 'FECHA_FIRMADO',\n",
       "       'HORA_FIRMADO', 'REALIZADO_POR', 'DICTADO_POR', 'FIRMADO_POR',\n",
       "       'INFORME_SN', 'ESTADO', 'DESC_CANCELACION', 'ENTREGA', 'FECHA_ENTREGA',\n",
       "       'HORA_ENTREGA', 'ENTREGA_OBS', 'FECHA_ANTICIPADO', 'HORA_ANTICIPADO',\n",
       "       'ULTIMA_ACTUALIZACION', 'NOTAS_TECNICO', 'COD_CENTRO', 'XHIS',\n",
       "       'HIS_ID_limpio', 'consulta_id', 'fecha_desde', 'tipo_matricula_med',\n",
       "       'nro_matricula_med', 'nom_ape_med_presc', 'registro_usuario', 'prestac',\n",
       "       'exten_deno', 'es_guardia'],\n",
       "      dtype='object')"
      ]
     },
     "execution_count": 458,
     "metadata": {},
     "output_type": "execute_result"
    }
   ],
   "source": [
    "final.columns"
   ]
  },
  {
   "cell_type": "code",
   "execution_count": 521,
   "metadata": {},
   "outputs": [],
   "source": [
    "final.nro_matricula_med = final.nro_matricula_med.str.strip()"
   ]
  },
  {
   "cell_type": "code",
   "execution_count": null,
   "metadata": {},
   "outputs": [],
   "source": [
    "matriculas = final.nro_matricula_med.str.strip().unique()"
   ]
  },
  {
   "cell_type": "code",
   "execution_count": 503,
   "metadata": {},
   "outputs": [],
   "source": [
    "matriculas_st = str(matriculas.tolist()).lstrip(\"[\").rstrip(\"]\")"
   ]
  },
  {
   "cell_type": "code",
   "execution_count": 567,
   "metadata": {},
   "outputs": [
    {
     "data": {
      "text/plain": [
       "43589"
      ]
     },
     "execution_count": 567,
     "metadata": {},
     "output_type": "execute_result"
    }
   ],
   "source": [
    "len(matriculas_st)"
   ]
  },
  {
   "cell_type": "code",
   "execution_count": 531,
   "metadata": {},
   "outputs": [],
   "source": [
    "prestadores = querydbtopandas(f\"\"\"select\n",
    "a14.desc_pre_nombre,\n",
    "trim(a14.pre_matricula_nac) matricula,\n",
    "a14.id_pre_prestador,\n",
    "Q.deno\n",
    "from DBA.d_pre_prestador a14\n",
    "LEFT JOIN dba.prestad_costo_centros E\n",
    "    ON a14.id_pre_prestador = E.prestad and E.baja_fecha is null and e.prepaga = ( select min(PCC1.prepaga) from dba.prestad_costo_centros PCC1 where PCC1.prestad =  e.prestad )   \n",
    "LEFT JOIN dba.costo_centros Q\n",
    "    ON E.centro = Q.centro\n",
    "where trim(pre_matricula_nac)  in ({matriculas_st})\"\"\")"
   ]
  },
  {
   "cell_type": "code",
   "execution_count": 568,
   "metadata": {},
   "outputs": [
    {
     "data": {
      "text/html": [
       "<div>\n",
       "<style scoped>\n",
       "    .dataframe tbody tr th:only-of-type {\n",
       "        vertical-align: middle;\n",
       "    }\n",
       "\n",
       "    .dataframe tbody tr th {\n",
       "        vertical-align: top;\n",
       "    }\n",
       "\n",
       "    .dataframe thead th {\n",
       "        text-align: right;\n",
       "    }\n",
       "</style>\n",
       "<table border=\"1\" class=\"dataframe\">\n",
       "  <thead>\n",
       "    <tr style=\"text-align: right;\">\n",
       "      <th></th>\n",
       "      <th>desc_pre_nombre</th>\n",
       "      <th>matricula</th>\n",
       "      <th>id_pre_prestador</th>\n",
       "      <th>deno</th>\n",
       "    </tr>\n",
       "  </thead>\n",
       "  <tbody>\n",
       "    <tr>\n",
       "      <th>0</th>\n",
       "      <td>Aleman,Lisardo</td>\n",
       "      <td>31715</td>\n",
       "      <td>20675</td>\n",
       "      <td>Ginecología</td>\n",
       "    </tr>\n",
       "    <tr>\n",
       "      <th>1</th>\n",
       "      <td>Nassif,Juan C.</td>\n",
       "      <td>41566</td>\n",
       "      <td>21887</td>\n",
       "      <td>Obstetricia - Médicos</td>\n",
       "    </tr>\n",
       "    <tr>\n",
       "      <th>2</th>\n",
       "      <td>Quadrelli,Silvia A.</td>\n",
       "      <td>59124</td>\n",
       "      <td>22310</td>\n",
       "      <td>Neumonología</td>\n",
       "    </tr>\n",
       "    <tr>\n",
       "      <th>3</th>\n",
       "      <td>Castellaro,Carlos E.</td>\n",
       "      <td>76439</td>\n",
       "      <td>24331</td>\n",
       "      <td>Clínica Médica</td>\n",
       "    </tr>\n",
       "    <tr>\n",
       "      <th>4</th>\n",
       "      <td>Grinstein,Karina A.</td>\n",
       "      <td>103072</td>\n",
       "      <td>91203</td>\n",
       "      <td>Pediatría</td>\n",
       "    </tr>\n",
       "    <tr>\n",
       "      <th>...</th>\n",
       "      <td>...</td>\n",
       "      <td>...</td>\n",
       "      <td>...</td>\n",
       "      <td>...</td>\n",
       "    </tr>\n",
       "    <tr>\n",
       "      <th>5053</th>\n",
       "      <td>RODRIGUEZ, ALEJANDRA</td>\n",
       "      <td>105420</td>\n",
       "      <td>517444</td>\n",
       "      <td>None</td>\n",
       "    </tr>\n",
       "    <tr>\n",
       "      <th>5054</th>\n",
       "      <td>MOLINARI, MARIO</td>\n",
       "      <td>110966</td>\n",
       "      <td>503286</td>\n",
       "      <td>None</td>\n",
       "    </tr>\n",
       "    <tr>\n",
       "      <th>5055</th>\n",
       "      <td>SILVA, DAMIAN</td>\n",
       "      <td>111756</td>\n",
       "      <td>503846</td>\n",
       "      <td>None</td>\n",
       "    </tr>\n",
       "    <tr>\n",
       "      <th>5056</th>\n",
       "      <td>NEME, MARIO GABRIEL</td>\n",
       "      <td>11942</td>\n",
       "      <td>506035</td>\n",
       "      <td>None</td>\n",
       "    </tr>\n",
       "    <tr>\n",
       "      <th>5057</th>\n",
       "      <td>PONTORIERO, ANTONIO</td>\n",
       "      <td>12159</td>\n",
       "      <td>506447</td>\n",
       "      <td>None</td>\n",
       "    </tr>\n",
       "  </tbody>\n",
       "</table>\n",
       "<p>5058 rows × 4 columns</p>\n",
       "</div>"
      ],
      "text/plain": [
       "           desc_pre_nombre matricula  id_pre_prestador                   deno\n",
       "0           Aleman,Lisardo     31715             20675            Ginecología\n",
       "1           Nassif,Juan C.     41566             21887  Obstetricia - Médicos\n",
       "2      Quadrelli,Silvia A.     59124             22310           Neumonología\n",
       "3     Castellaro,Carlos E.     76439             24331         Clínica Médica\n",
       "4      Grinstein,Karina A.    103072             91203              Pediatría\n",
       "...                    ...       ...               ...                    ...\n",
       "5053  RODRIGUEZ, ALEJANDRA    105420            517444                   None\n",
       "5054       MOLINARI, MARIO    110966            503286                   None\n",
       "5055         SILVA, DAMIAN    111756            503846                   None\n",
       "5056   NEME, MARIO GABRIEL     11942            506035                   None\n",
       "5057   PONTORIERO, ANTONIO     12159            506447                   None\n",
       "\n",
       "[5058 rows x 4 columns]"
      ]
     },
     "execution_count": 568,
     "metadata": {},
     "output_type": "execute_result"
    }
   ],
   "source": [
    "prestadores"
   ]
  },
  {
   "cell_type": "code",
   "execution_count": 566,
   "metadata": {},
   "outputs": [
    {
     "data": {
      "text/plain": [
       "5058"
      ]
     },
     "execution_count": 566,
     "metadata": {},
     "output_type": "execute_result"
    }
   ],
   "source": [
    "len(prestadores)"
   ]
  },
  {
   "cell_type": "code",
   "execution_count": 533,
   "metadata": {},
   "outputs": [
    {
     "data": {
      "text/plain": [
       "array(['31715', '41566', '59124', ..., '111756', '11942', '12159'],\n",
       "      dtype=object)"
      ]
     },
     "execution_count": 533,
     "metadata": {},
     "output_type": "execute_result"
    }
   ],
   "source": [
    "prestadores[\"matricula\"].values"
   ]
  },
  {
   "cell_type": "code",
   "execution_count": 569,
   "metadata": {},
   "outputs": [],
   "source": [
    "imagenes = pd.merge(final[[\"nro_matricula_med\", \"ID_DIAGNO\"]], prestadores, left_on = \"nro_matricula_med\", right_on = \"matricula\", how = \"inner\") "
   ]
  },
  {
   "cell_type": "code",
   "execution_count": 572,
   "metadata": {},
   "outputs": [
    {
     "data": {
      "text/plain": [
       "array([2, 1, 3, 0], dtype=object)"
      ]
     },
     "execution_count": 572,
     "metadata": {},
     "output_type": "execute_result"
    }
   ],
   "source": [
    "imagenes.ID_DIAGNO.unique()"
   ]
  },
  {
   "cell_type": "code",
   "execution_count": 571,
   "metadata": {},
   "outputs": [
    {
     "ename": "AttributeError",
     "evalue": "Can only use .str accessor with string values!",
     "output_type": "error",
     "traceback": [
      "\u001b[0;31m---------------------------------------------------------------------------\u001b[0m",
      "\u001b[0;31mAttributeError\u001b[0m                            Traceback (most recent call last)",
      "\u001b[0;32m<ipython-input-571-250db04a1397>\u001b[0m in \u001b[0;36m<module>\u001b[0;34m\u001b[0m\n\u001b[1;32m      9\u001b[0m \u001b[0;34m\u001b[0m\u001b[0m\n\u001b[1;32m     10\u001b[0m \u001b[0;32mfor\u001b[0m \u001b[0mi\u001b[0m \u001b[0;32min\u001b[0m \u001b[0mvalidacion_3\u001b[0m\u001b[0;34m:\u001b[0m\u001b[0;34m\u001b[0m\u001b[0;34m\u001b[0m\u001b[0m\n\u001b[0;32m---> 11\u001b[0;31m     \u001b[0mimagenes\u001b[0m\u001b[0;34m.\u001b[0m\u001b[0mloc\u001b[0m\u001b[0;34m[\u001b[0m\u001b[0mimagenes\u001b[0m\u001b[0;34m[\u001b[0m\u001b[0;34m\"ID_DIAGNO\"\u001b[0m\u001b[0;34m]\u001b[0m\u001b[0;34m.\u001b[0m\u001b[0mstr\u001b[0m\u001b[0;34m.\u001b[0m\u001b[0mstrip\u001b[0m\u001b[0;34m(\u001b[0m\u001b[0;34m)\u001b[0m \u001b[0;34m==\u001b[0m \u001b[0mi\u001b[0m\u001b[0;34m,\u001b[0m \u001b[0;34m\"ID_DIAGNO\"\u001b[0m \u001b[0;34m]\u001b[0m \u001b[0;34m=\u001b[0m \u001b[0;36m3\u001b[0m\u001b[0;34m\u001b[0m\u001b[0;34m\u001b[0m\u001b[0m\n\u001b[0m",
      "\u001b[0;32m/opt/conda/lib/python3.7/site-packages/pandas/core/generic.py\u001b[0m in \u001b[0;36m__getattr__\u001b[0;34m(self, name)\u001b[0m\n\u001b[1;32m   5268\u001b[0m             \u001b[0;32mor\u001b[0m \u001b[0mname\u001b[0m \u001b[0;32min\u001b[0m \u001b[0mself\u001b[0m\u001b[0;34m.\u001b[0m\u001b[0m_accessors\u001b[0m\u001b[0;34m\u001b[0m\u001b[0;34m\u001b[0m\u001b[0m\n\u001b[1;32m   5269\u001b[0m         ):\n\u001b[0;32m-> 5270\u001b[0;31m             \u001b[0;32mreturn\u001b[0m \u001b[0mobject\u001b[0m\u001b[0;34m.\u001b[0m\u001b[0m__getattribute__\u001b[0m\u001b[0;34m(\u001b[0m\u001b[0mself\u001b[0m\u001b[0;34m,\u001b[0m \u001b[0mname\u001b[0m\u001b[0;34m)\u001b[0m\u001b[0;34m\u001b[0m\u001b[0;34m\u001b[0m\u001b[0m\n\u001b[0m\u001b[1;32m   5271\u001b[0m         \u001b[0;32melse\u001b[0m\u001b[0;34m:\u001b[0m\u001b[0;34m\u001b[0m\u001b[0;34m\u001b[0m\u001b[0m\n\u001b[1;32m   5272\u001b[0m             \u001b[0;32mif\u001b[0m \u001b[0mself\u001b[0m\u001b[0;34m.\u001b[0m\u001b[0m_info_axis\u001b[0m\u001b[0;34m.\u001b[0m\u001b[0m_can_hold_identifiers_and_holds_name\u001b[0m\u001b[0;34m(\u001b[0m\u001b[0mname\u001b[0m\u001b[0;34m)\u001b[0m\u001b[0;34m:\u001b[0m\u001b[0;34m\u001b[0m\u001b[0;34m\u001b[0m\u001b[0m\n",
      "\u001b[0;32m/opt/conda/lib/python3.7/site-packages/pandas/core/accessor.py\u001b[0m in \u001b[0;36m__get__\u001b[0;34m(self, obj, cls)\u001b[0m\n\u001b[1;32m    185\u001b[0m             \u001b[0;31m# we're accessing the attribute of the class, i.e., Dataset.geo\u001b[0m\u001b[0;34m\u001b[0m\u001b[0;34m\u001b[0m\u001b[0;34m\u001b[0m\u001b[0m\n\u001b[1;32m    186\u001b[0m             \u001b[0;32mreturn\u001b[0m \u001b[0mself\u001b[0m\u001b[0;34m.\u001b[0m\u001b[0m_accessor\u001b[0m\u001b[0;34m\u001b[0m\u001b[0;34m\u001b[0m\u001b[0m\n\u001b[0;32m--> 187\u001b[0;31m         \u001b[0maccessor_obj\u001b[0m \u001b[0;34m=\u001b[0m \u001b[0mself\u001b[0m\u001b[0;34m.\u001b[0m\u001b[0m_accessor\u001b[0m\u001b[0;34m(\u001b[0m\u001b[0mobj\u001b[0m\u001b[0;34m)\u001b[0m\u001b[0;34m\u001b[0m\u001b[0;34m\u001b[0m\u001b[0m\n\u001b[0m\u001b[1;32m    188\u001b[0m         \u001b[0;31m# Replace the property with the accessor object. Inspired by:\u001b[0m\u001b[0;34m\u001b[0m\u001b[0;34m\u001b[0m\u001b[0;34m\u001b[0m\u001b[0m\n\u001b[1;32m    189\u001b[0m         \u001b[0;31m# http://www.pydanny.com/cached-property.html\u001b[0m\u001b[0;34m\u001b[0m\u001b[0;34m\u001b[0m\u001b[0;34m\u001b[0m\u001b[0m\n",
      "\u001b[0;32m/opt/conda/lib/python3.7/site-packages/pandas/core/strings.py\u001b[0m in \u001b[0;36m__init__\u001b[0;34m(self, data)\u001b[0m\n\u001b[1;32m   2039\u001b[0m \u001b[0;34m\u001b[0m\u001b[0m\n\u001b[1;32m   2040\u001b[0m     \u001b[0;32mdef\u001b[0m \u001b[0m__init__\u001b[0m\u001b[0;34m(\u001b[0m\u001b[0mself\u001b[0m\u001b[0;34m,\u001b[0m \u001b[0mdata\u001b[0m\u001b[0;34m)\u001b[0m\u001b[0;34m:\u001b[0m\u001b[0;34m\u001b[0m\u001b[0;34m\u001b[0m\u001b[0m\n\u001b[0;32m-> 2041\u001b[0;31m         \u001b[0mself\u001b[0m\u001b[0;34m.\u001b[0m\u001b[0m_inferred_dtype\u001b[0m \u001b[0;34m=\u001b[0m \u001b[0mself\u001b[0m\u001b[0;34m.\u001b[0m\u001b[0m_validate\u001b[0m\u001b[0;34m(\u001b[0m\u001b[0mdata\u001b[0m\u001b[0;34m)\u001b[0m\u001b[0;34m\u001b[0m\u001b[0;34m\u001b[0m\u001b[0m\n\u001b[0m\u001b[1;32m   2042\u001b[0m         \u001b[0mself\u001b[0m\u001b[0;34m.\u001b[0m\u001b[0m_is_categorical\u001b[0m \u001b[0;34m=\u001b[0m \u001b[0mis_categorical_dtype\u001b[0m\u001b[0;34m(\u001b[0m\u001b[0mdata\u001b[0m\u001b[0;34m)\u001b[0m\u001b[0;34m\u001b[0m\u001b[0;34m\u001b[0m\u001b[0m\n\u001b[1;32m   2043\u001b[0m         \u001b[0mself\u001b[0m\u001b[0;34m.\u001b[0m\u001b[0m_is_string\u001b[0m \u001b[0;34m=\u001b[0m \u001b[0mdata\u001b[0m\u001b[0;34m.\u001b[0m\u001b[0mdtype\u001b[0m\u001b[0;34m.\u001b[0m\u001b[0mname\u001b[0m \u001b[0;34m==\u001b[0m \u001b[0;34m\"string\"\u001b[0m\u001b[0;34m\u001b[0m\u001b[0;34m\u001b[0m\u001b[0m\n",
      "\u001b[0;32m/opt/conda/lib/python3.7/site-packages/pandas/core/strings.py\u001b[0m in \u001b[0;36m_validate\u001b[0;34m(data)\u001b[0m\n\u001b[1;32m   2096\u001b[0m \u001b[0;34m\u001b[0m\u001b[0m\n\u001b[1;32m   2097\u001b[0m         \u001b[0;32mif\u001b[0m \u001b[0minferred_dtype\u001b[0m \u001b[0;32mnot\u001b[0m \u001b[0;32min\u001b[0m \u001b[0mallowed_types\u001b[0m\u001b[0;34m:\u001b[0m\u001b[0;34m\u001b[0m\u001b[0;34m\u001b[0m\u001b[0m\n\u001b[0;32m-> 2098\u001b[0;31m             \u001b[0;32mraise\u001b[0m \u001b[0mAttributeError\u001b[0m\u001b[0;34m(\u001b[0m\u001b[0;34m\"Can only use .str accessor with string values!\"\u001b[0m\u001b[0;34m)\u001b[0m\u001b[0;34m\u001b[0m\u001b[0;34m\u001b[0m\u001b[0m\n\u001b[0m\u001b[1;32m   2099\u001b[0m         \u001b[0;32mreturn\u001b[0m \u001b[0minferred_dtype\u001b[0m\u001b[0;34m\u001b[0m\u001b[0;34m\u001b[0m\u001b[0m\n\u001b[1;32m   2100\u001b[0m \u001b[0;34m\u001b[0m\u001b[0m\n",
      "\u001b[0;31mAttributeError\u001b[0m: Can only use .str accessor with string values!"
     ]
    }
   ],
   "source": [
    "for i in validacion_0:\n",
    "    imagenes.loc[imagenes[\"ID_DIAGNO\"].str.strip() == i, \"ID_DIAGNO\" ] = 0\n",
    "    \n",
    "for i in validacion_1:\n",
    "    imagenes.loc[imagenes[\"ID_DIAGNO\"].str.strip() == i, \"ID_DIAGNO\" ] = 1 \n",
    "    \n",
    "for i in validacion_2:\n",
    "    imagenes.loc[imagenes[\"ID_DIAGNO\"].str.strip() == i, \"ID_DIAGNO\" ] = 2\n",
    "    \n",
    "for i in validacion_3:\n",
    "    imagenes.loc[imagenes[\"ID_DIAGNO\"].str.strip() == i, \"ID_DIAGNO\" ] = 3"
   ]
  },
  {
   "cell_type": "code",
   "execution_count": 573,
   "metadata": {},
   "outputs": [],
   "source": [
    "q_transacciones = imagenes.groupby([\"id_pre_prestador\", \"desc_pre_nombre\"])[\"nro_matricula_med\"].count()"
   ]
  },
  {
   "cell_type": "code",
   "execution_count": 574,
   "metadata": {},
   "outputs": [
    {
     "data": {
      "text/plain": [
       "id_pre_prestador  desc_pre_nombre             \n",
       "0                 Sin Asignar                     13\n",
       "79                Pelli,Maria J.                   1\n",
       "155               Suvá,Julio A.                   10\n",
       "156               Carrere,Carlos A.                4\n",
       "172               Pasqualini,Rodolfo S.            2\n",
       "                                                  ..\n",
       "678104            RAVERA, KARINA A.                2\n",
       "680335            MASQUEF, CARLOS A.              35\n",
       "680540            BURASTERO, SANTIAGO EZEQUIEL     1\n",
       "680612            GONZALEZ, VIRGINIA M            15\n",
       "682784            FERREIRA, MARIANA A.             1\n",
       "Name: nro_matricula_med, Length: 5058, dtype: int64"
      ]
     },
     "execution_count": 574,
     "metadata": {},
     "output_type": "execute_result"
    }
   ],
   "source": [
    "q_transacciones"
   ]
  },
  {
   "cell_type": "code",
   "execution_count": 605,
   "metadata": {},
   "outputs": [],
   "source": [
    "pivot = pd.pivot_table(imagenes, values='nro_matricula_med', \n",
    "               index=[ \"id_pre_prestador\", 'desc_pre_nombre', \"deno\"],\n",
    "                columns=\"ID_DIAGNO\", aggfunc=\"size\")"
   ]
  },
  {
   "cell_type": "code",
   "execution_count": 606,
   "metadata": {},
   "outputs": [],
   "source": [
    "pivot = pivot.fillna(0)"
   ]
  },
  {
   "cell_type": "code",
   "execution_count": 607,
   "metadata": {},
   "outputs": [],
   "source": [
    "pivot[\"total\"] = pivot[0] + pivot[1] + pivot[2] + pivot[3]"
   ]
  },
  {
   "cell_type": "code",
   "execution_count": 608,
   "metadata": {},
   "outputs": [],
   "source": [
    "pivot[\"noramales\"] = (pivot[0] + pivot[1]) / pivot[\"total\"]"
   ]
  },
  {
   "cell_type": "code",
   "execution_count": 612,
   "metadata": {},
   "outputs": [],
   "source": [
    "pivot = pivot.round(2).reset_index()"
   ]
  },
  {
   "cell_type": "code",
   "execution_count": 613,
   "metadata": {},
   "outputs": [],
   "source": [
    "pivot.columns = [\"prestador\", \"Razón Social\", \"Especialidad\", \"0\", \"1\", \"2\", \"3\", \"total\", \"% normalidad\"]"
   ]
  },
  {
   "cell_type": "code",
   "execution_count": 618,
   "metadata": {},
   "outputs": [
    {
     "data": {
      "text/html": [
       "<div>\n",
       "<style scoped>\n",
       "    .dataframe tbody tr th:only-of-type {\n",
       "        vertical-align: middle;\n",
       "    }\n",
       "\n",
       "    .dataframe tbody tr th {\n",
       "        vertical-align: top;\n",
       "    }\n",
       "\n",
       "    .dataframe thead th {\n",
       "        text-align: right;\n",
       "    }\n",
       "</style>\n",
       "<table border=\"1\" class=\"dataframe\">\n",
       "  <thead>\n",
       "    <tr style=\"text-align: right;\">\n",
       "      <th></th>\n",
       "      <th>prestador</th>\n",
       "      <th>Razón Social</th>\n",
       "      <th>Especialidad</th>\n",
       "      <th>0</th>\n",
       "      <th>1</th>\n",
       "      <th>2</th>\n",
       "      <th>3</th>\n",
       "      <th>total</th>\n",
       "      <th>% normalidad</th>\n",
       "    </tr>\n",
       "  </thead>\n",
       "  <tbody>\n",
       "    <tr>\n",
       "      <th>570</th>\n",
       "      <td>155</td>\n",
       "      <td>Suvá,Julio A.</td>\n",
       "      <td>Clínica Médica</td>\n",
       "      <td>0.0</td>\n",
       "      <td>4.0</td>\n",
       "      <td>6.0</td>\n",
       "      <td>0.0</td>\n",
       "      <td>10.0</td>\n",
       "      <td>0.4</td>\n",
       "    </tr>\n",
       "  </tbody>\n",
       "</table>\n",
       "</div>"
      ],
      "text/plain": [
       "    prestador   Razón Social    Especialidad    0    1    2    3  total  \\\n",
       "570       155  Suvá,Julio A.  Clínica Médica  0.0  4.0  6.0  0.0   10.0   \n",
       "\n",
       "     % normalidad  \n",
       "570           0.4  "
      ]
     },
     "execution_count": 618,
     "metadata": {},
     "output_type": "execute_result"
    }
   ],
   "source": [
    "pivot[pivot[\"prestador\"] == \"155\"]"
   ]
  },
  {
   "cell_type": "code",
   "execution_count": 620,
   "metadata": {},
   "outputs": [],
   "source": [
    "pivot.to_excel(\"ris_cau.xlsx\")"
   ]
  },
  {
   "cell_type": "code",
   "execution_count": null,
   "metadata": {},
   "outputs": [],
   "source": []
  }
 ],
 "metadata": {
  "kernelspec": {
   "display_name": "Python 3",
   "language": "python",
   "name": "python3"
  },
  "language_info": {
   "codemirror_mode": {
    "name": "ipython",
    "version": 3
   },
   "file_extension": ".py",
   "mimetype": "text/x-python",
   "name": "python",
   "nbconvert_exporter": "python",
   "pygments_lexer": "ipython3",
   "version": "3.7.6"
  }
 },
 "nbformat": 4,
 "nbformat_minor": 4
}
