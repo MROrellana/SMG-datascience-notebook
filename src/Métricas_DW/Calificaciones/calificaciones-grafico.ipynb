{
 "cells": [
  {
   "cell_type": "code",
   "execution_count": 79,
   "metadata": {},
   "outputs": [],
   "source": [
    "from dbconn import querydb, querydbtopandas \n",
    "import pandas as pd \n",
    "import plotly.graph_objects as go\n",
    "import numpy as np"
   ]
  },
  {
   "cell_type": "code",
   "execution_count": 80,
   "metadata": {},
   "outputs": [],
   "source": [
    "prestador = 20246"
   ]
  },
  {
   "cell_type": "code",
   "execution_count": 81,
   "metadata": {},
   "outputs": [],
   "source": [
    "items_encuestas = str(pd.read_excel(\"items_encuestas.xlsx\").item_id.tolist()).strip(\"[\").strip(\"]\")"
   ]
  },
  {
   "cell_type": "code",
   "execution_count": 82,
   "metadata": {},
   "outputs": [],
   "source": [
    "menores = [\"2019-01-01\", \"2019-02-01\",\"2019-03-01\",\"2019-04-01\",\"2019-05-01\",\"2019-06-01\",\"2019-07-01\",\"2019-08-01\",\"2019-09-01\",\"2019-10-01\",\"2019-11-01\",\"2019-12-01\", \"2020-01-01\"]\n",
    "\n",
    "mayores = [\"2019-02-01\", \"2019-03-01\",\"2019-04-01\",\"2019-05-01\",\"2019-06-01\",\"2019-07-01\",\"2019-08-01\",\"2019-09-01\",\"2019-10-01\",\"2019-11-01\",\"2019-12-01\",\"2020-01-01\", \"2020-02-01\"]\n",
    "\n",
    "temporal_prestador = pd.DataFrame(columns= [\"calificaciones\"], data= ['Promedio Calificación Atención Médica',\n",
    "       'Promedio Calificación Disponibilidad de Turno',\n",
    "       'Promedio Calificación Limpieza y Confort', \n",
    "       'Promedio Calificación Puntualidad',\n",
    "       'Promedio Calificación Trato y Cordialidad',\"cantidad_afiliados\"  ])\n",
    "temporal_general = pd.DataFrame(columns= [\"calificaciones\"], data= ['Promedio Calificación Atención Médica',\n",
    "       'Promedio Calificación Disponibilidad de Turno',\n",
    "       'Promedio Calificación Limpieza y Confort', \n",
    "       'Promedio Calificación Puntualidad',\n",
    "       'Promedio Calificación Trato y Cordialidad' ])"
   ]
  },
  {
   "cell_type": "code",
   "execution_count": 83,
   "metadata": {},
   "outputs": [],
   "source": [
    "for i,j in zip(menores,mayores): \n",
    "    df = querydbtopandas(f\"\"\"\n",
    "    select  a11.id_item  id,\n",
    "           a11.id_encuesta  id_encuesta,\n",
    "           a12.id_afiliado  id_afi_afiliado,\n",
    "           a12.id_prestador  id_pre_prestador,\n",
    "           a17.desc_pre_nombre  desc_pre_nombre_efector,\n",
    "           a18.desc_pre_nombre  desc_pre_nombre,\n",
    "           a18.id_pre_tipo,   \n",
    "           a12.id_prest_efector,\n",
    "           a11.i_R RESPUESTA\n",
    "    from        DBA.ft_d_prest_encuestas        a11\n",
    "           join        DBA.ft_prest_encuestas        a12\n",
    "             on        (a11.id_encuesta = a12.id_encuesta)\n",
    "           join        DBA.d_pre_prestador        a17\n",
    "             on        (a12.id_prest_efector = a17.id_pre_prestador)      \n",
    "           join        DBA.d_pre_prestador        a18\n",
    "             on        (a12.id_prestador = a18.id_pre_prestador)\n",
    "    where (cast(fec_encuesta as date) >= date(\"{i}\") and cast(fec_encuesta as date) < date(\"{j}\")\n",
    "    and a11.id_item in ({items_encuestas})\n",
    "    and a18.id_pre_tipo in (\"E\",\"C\",\"P\",\"I\"))\n",
    "    group by        a11.id_item,\n",
    "           a11.i_R,\n",
    "           a11.id_encuesta,\n",
    "           a12.id_afiliado,\n",
    "           a12.id_prestador,\n",
    "           a17.desc_pre_nombre,    \n",
    "           a18.id_pre_tipo,\n",
    "           a18.desc_pre_nombre,\n",
    "           a12.id_prest_efector\"\"\")\n",
    "\n",
    "    dict_id = {3: 'Atención Médica',\n",
    "     2: 'Trato y Cordialidad',\n",
    "     4: 'Disponibilidad de Turno',\n",
    "     1: 'Puntualidad',\n",
    "     5: 'Limpieza y Confort'}   \n",
    "\n",
    "    df[\"id\"] = df[\"id\"].map(dict_id)\n",
    "\n",
    "    df_part_equipos = df[df[\"id_pre_tipo\"].isin([\"P\",\"E\"])][[\"id\",\"id_encuesta\", \"id_afi_afiliado\", \"id_pre_prestador\", \"desc_pre_nombre\", \"RESPUESTA\" ]]\n",
    "\n",
    "    df_inst_circ = df[df[\"id_pre_tipo\"].isin([\"I\",\"C\"])][[\"id\",\"id_encuesta\",\"id_afi_afiliado\", \"id_prest_efector\", \"desc_pre_nombre_efector\", \"RESPUESTA\"]]\n",
    "\n",
    "    df_inst_circ.rename(columns={\"id_prest_efector\": \"id_pre_prestador\", \"desc_pre_nombre_efector\":\"desc_pre_nombre\"},inplace=True)\n",
    "\n",
    "    df = pd.concat([df_part_equipos, df_inst_circ])\n",
    "\n",
    "    df = df[df[\"id_pre_prestador\"] != 0]\n",
    "\n",
    "    q_afiliados = df.groupby(\"id_pre_prestador\")[\"id_afi_afiliado\"].nunique().rename_axis('id_pre_prestador').reset_index(name='q_afiliados')\n",
    "\n",
    "    prestadores_mas_5_afiliados = q_afiliados[q_afiliados.q_afiliados > 5].id_pre_prestador.tolist()\n",
    "\n",
    "    df = df[df[\"id_pre_prestador\"].isin(prestadores_mas_5_afiliados)]\n",
    "\n",
    "    q_respuestas = df.groupby(\"id_pre_prestador\")[\"id_encuesta\"].nunique().rename_axis('id_pre_prestador').reset_index(name='q_respuestas')\n",
    "\n",
    "    df = df.merge(q_respuestas).merge(q_afiliados)\n",
    "\n",
    "    pivot = pd.pivot_table(df, \n",
    "                 index=[\"id_pre_prestador\",\"desc_pre_nombre\", \"q_afiliados\", \"q_respuestas\"], \n",
    "                 columns=\"id\", \n",
    "                 values=\"RESPUESTA\", aggfunc= [\"mean\"]).reset_index()\n",
    "    pivot = pivot.round(1)\n",
    "    \n",
    "    if len(pivot[pivot[\"id_pre_prestador\"]== prestador]) == 0:\n",
    "        \n",
    "        prestador_values = [np.nan] * 6\n",
    "        general = [np.nan] * 5\n",
    "        prestador_nombre = np.nan\n",
    "    else:\n",
    "        prestador_nombre = pivot[pivot[\"id_pre_prestador\"]== prestador].iloc[0:1,1:2].values[0][0]\n",
    "        prestador_values = pivot[pivot[\"id_pre_prestador\"]== prestador].iloc[0:,4:].values[0]\n",
    "        afiliados_calificadores = pivot[pivot[\"id_pre_prestador\"]== prestador].iloc[0:,2:3].values[0][0]\n",
    "        \n",
    "        prestador_values = np.append(prestador_values, [afiliados_calificadores])\n",
    "        general = pivot.iloc[0:,4:].mean().values\n",
    "        \n",
    "    \n",
    "    temporal_prestador[i[:7]] = prestador_values\n",
    "    temporal_general[i[:7]] = general \n",
    "\n",
    "temporal_general = temporal_general.round(1)"
   ]
  },
  {
   "cell_type": "code",
   "execution_count": 84,
   "metadata": {},
   "outputs": [
    {
     "data": {
      "text/html": [
       "<div>\n",
       "<style scoped>\n",
       "    .dataframe tbody tr th:only-of-type {\n",
       "        vertical-align: middle;\n",
       "    }\n",
       "\n",
       "    .dataframe tbody tr th {\n",
       "        vertical-align: top;\n",
       "    }\n",
       "\n",
       "    .dataframe thead tr th {\n",
       "        text-align: left;\n",
       "    }\n",
       "</style>\n",
       "<table border=\"1\" class=\"dataframe\">\n",
       "  <thead>\n",
       "    <tr>\n",
       "      <th></th>\n",
       "      <th>id_pre_prestador</th>\n",
       "      <th>desc_pre_nombre</th>\n",
       "      <th>q_afiliados</th>\n",
       "      <th>q_respuestas</th>\n",
       "      <th colspan=\"5\" halign=\"left\">mean</th>\n",
       "    </tr>\n",
       "    <tr>\n",
       "      <th>id</th>\n",
       "      <th></th>\n",
       "      <th></th>\n",
       "      <th></th>\n",
       "      <th></th>\n",
       "      <th>Atención Médica</th>\n",
       "      <th>Disponibilidad de Turno</th>\n",
       "      <th>Limpieza y Confort</th>\n",
       "      <th>Puntualidad</th>\n",
       "      <th>Trato y Cordialidad</th>\n",
       "    </tr>\n",
       "  </thead>\n",
       "  <tbody>\n",
       "    <tr>\n",
       "      <th>0</th>\n",
       "      <td>172</td>\n",
       "      <td>Pasqualini,Rodolfo S.</td>\n",
       "      <td>20</td>\n",
       "      <td>36</td>\n",
       "      <td>4.8</td>\n",
       "      <td>4.7</td>\n",
       "      <td>4.9</td>\n",
       "      <td>4.1</td>\n",
       "      <td>4.7</td>\n",
       "    </tr>\n",
       "    <tr>\n",
       "      <th>1</th>\n",
       "      <td>346</td>\n",
       "      <td>Silberman,Andrés A.</td>\n",
       "      <td>6</td>\n",
       "      <td>6</td>\n",
       "      <td>5.0</td>\n",
       "      <td>4.8</td>\n",
       "      <td>5.0</td>\n",
       "      <td>4.8</td>\n",
       "      <td>5.0</td>\n",
       "    </tr>\n",
       "    <tr>\n",
       "      <th>2</th>\n",
       "      <td>396</td>\n",
       "      <td>Sereni,Silvana</td>\n",
       "      <td>6</td>\n",
       "      <td>19</td>\n",
       "      <td>4.7</td>\n",
       "      <td>4.8</td>\n",
       "      <td>4.8</td>\n",
       "      <td>4.9</td>\n",
       "      <td>4.7</td>\n",
       "    </tr>\n",
       "    <tr>\n",
       "      <th>3</th>\n",
       "      <td>482</td>\n",
       "      <td>Tombetta,Graciela</td>\n",
       "      <td>9</td>\n",
       "      <td>12</td>\n",
       "      <td>4.4</td>\n",
       "      <td>4.2</td>\n",
       "      <td>4.4</td>\n",
       "      <td>3.0</td>\n",
       "      <td>4.5</td>\n",
       "    </tr>\n",
       "    <tr>\n",
       "      <th>4</th>\n",
       "      <td>759</td>\n",
       "      <td>Butler,Santiago</td>\n",
       "      <td>9</td>\n",
       "      <td>9</td>\n",
       "      <td>4.8</td>\n",
       "      <td>4.9</td>\n",
       "      <td>5.0</td>\n",
       "      <td>5.0</td>\n",
       "      <td>4.8</td>\n",
       "    </tr>\n",
       "    <tr>\n",
       "      <th>...</th>\n",
       "      <td>...</td>\n",
       "      <td>...</td>\n",
       "      <td>...</td>\n",
       "      <td>...</td>\n",
       "      <td>...</td>\n",
       "      <td>...</td>\n",
       "      <td>...</td>\n",
       "      <td>...</td>\n",
       "      <td>...</td>\n",
       "    </tr>\n",
       "    <tr>\n",
       "      <th>196</th>\n",
       "      <td>214905</td>\n",
       "      <td>Pavazza,Martín E.</td>\n",
       "      <td>6</td>\n",
       "      <td>25</td>\n",
       "      <td>5.0</td>\n",
       "      <td>5.0</td>\n",
       "      <td>5.0</td>\n",
       "      <td>5.0</td>\n",
       "      <td>5.0</td>\n",
       "    </tr>\n",
       "    <tr>\n",
       "      <th>197</th>\n",
       "      <td>215025</td>\n",
       "      <td>Palacio,Agustina C.</td>\n",
       "      <td>10</td>\n",
       "      <td>13</td>\n",
       "      <td>5.0</td>\n",
       "      <td>4.6</td>\n",
       "      <td>4.8</td>\n",
       "      <td>4.9</td>\n",
       "      <td>5.0</td>\n",
       "    </tr>\n",
       "    <tr>\n",
       "      <th>198</th>\n",
       "      <td>215265</td>\n",
       "      <td>Borrone,María Agustina</td>\n",
       "      <td>8</td>\n",
       "      <td>9</td>\n",
       "      <td>5.0</td>\n",
       "      <td>4.6</td>\n",
       "      <td>5.0</td>\n",
       "      <td>4.9</td>\n",
       "      <td>5.0</td>\n",
       "    </tr>\n",
       "    <tr>\n",
       "      <th>199</th>\n",
       "      <td>215490</td>\n",
       "      <td>Suster,Lorena</td>\n",
       "      <td>9</td>\n",
       "      <td>24</td>\n",
       "      <td>4.8</td>\n",
       "      <td>4.8</td>\n",
       "      <td>4.7</td>\n",
       "      <td>4.8</td>\n",
       "      <td>4.8</td>\n",
       "    </tr>\n",
       "    <tr>\n",
       "      <th>200</th>\n",
       "      <td>242472</td>\n",
       "      <td>Pardo,Gonzalo E.</td>\n",
       "      <td>7</td>\n",
       "      <td>20</td>\n",
       "      <td>5.0</td>\n",
       "      <td>4.8</td>\n",
       "      <td>5.0</td>\n",
       "      <td>4.5</td>\n",
       "      <td>4.9</td>\n",
       "    </tr>\n",
       "  </tbody>\n",
       "</table>\n",
       "<p>201 rows × 9 columns</p>\n",
       "</div>"
      ],
      "text/plain": [
       "    id_pre_prestador         desc_pre_nombre q_afiliados q_respuestas  \\\n",
       "id                                                                      \n",
       "0                172   Pasqualini,Rodolfo S.          20           36   \n",
       "1                346     Silberman,Andrés A.           6            6   \n",
       "2                396          Sereni,Silvana           6           19   \n",
       "3                482       Tombetta,Graciela           9           12   \n",
       "4                759         Butler,Santiago           9            9   \n",
       "..               ...                     ...         ...          ...   \n",
       "196           214905       Pavazza,Martín E.           6           25   \n",
       "197           215025     Palacio,Agustina C.          10           13   \n",
       "198           215265  Borrone,María Agustina           8            9   \n",
       "199           215490           Suster,Lorena           9           24   \n",
       "200           242472        Pardo,Gonzalo E.           7           20   \n",
       "\n",
       "               mean                                                         \\\n",
       "id  Atención Médica Disponibilidad de Turno Limpieza y Confort Puntualidad   \n",
       "0               4.8                     4.7                4.9         4.1   \n",
       "1               5.0                     4.8                5.0         4.8   \n",
       "2               4.7                     4.8                4.8         4.9   \n",
       "3               4.4                     4.2                4.4         3.0   \n",
       "4               4.8                     4.9                5.0         5.0   \n",
       "..              ...                     ...                ...         ...   \n",
       "196             5.0                     5.0                5.0         5.0   \n",
       "197             5.0                     4.6                4.8         4.9   \n",
       "198             5.0                     4.6                5.0         4.9   \n",
       "199             4.8                     4.8                4.7         4.8   \n",
       "200             5.0                     4.8                5.0         4.5   \n",
       "\n",
       "                         \n",
       "id  Trato y Cordialidad  \n",
       "0                   4.7  \n",
       "1                   5.0  \n",
       "2                   4.7  \n",
       "3                   4.5  \n",
       "4                   4.8  \n",
       "..                  ...  \n",
       "196                 5.0  \n",
       "197                 5.0  \n",
       "198                 5.0  \n",
       "199                 4.8  \n",
       "200                 4.9  \n",
       "\n",
       "[201 rows x 9 columns]"
      ]
     },
     "execution_count": 84,
     "metadata": {},
     "output_type": "execute_result"
    }
   ],
   "source": [
    "pivot"
   ]
  },
  {
   "cell_type": "code",
   "execution_count": 85,
   "metadata": {
    "scrolled": false
   },
   "outputs": [
    {
     "data": {
      "application/vnd.plotly.v1+json": {
       "config": {
        "plotlyServerURL": "https://plot.ly"
       },
       "data": [
        {
         "line": {
          "color": "#296d98",
          "shape": "linear"
         },
         "marker": {
          "color": "#296d98"
         },
         "name": "Cartilla Swiss Medical Medicina Privada",
         "type": "scatter",
         "x": [
          "2019-01",
          "2019-02",
          "2019-03",
          "2019-04",
          "2019-05",
          "2019-06",
          "2019-07",
          "2019-08",
          "2019-09",
          "2019-10",
          "2019-11",
          "2019-12",
          "2020-01"
         ],
         "xaxis": "x",
         "y": [
          null,
          null,
          4.8,
          null,
          4.8,
          4.7,
          4.8,
          4.8,
          4.8,
          null,
          null,
          4.8,
          4.8
         ],
         "yaxis": "y"
        },
        {
         "line": {
          "color": "#45b6fe",
          "shape": "linear"
         },
         "marker": {
          "color": "#45b6fe"
         },
         "name": "Prestador: Monti,Fernando A.",
         "type": "scatter",
         "x": [
          "2019-01",
          "2019-02",
          "2019-03",
          "2019-04",
          "2019-05",
          "2019-06",
          "2019-07",
          "2019-08",
          "2019-09",
          "2019-10",
          "2019-11",
          "2019-12",
          "2020-01"
         ],
         "xaxis": "x",
         "y": [
          null,
          null,
          4.7,
          null,
          4.3,
          4,
          5,
          4.6,
          4.2,
          null,
          null,
          4.5,
          5
         ],
         "yaxis": "y"
        },
        {
         "line": {
          "color": "#296d98",
          "shape": "linear"
         },
         "marker": {
          "color": "#296d98"
         },
         "showlegend": false,
         "type": "scatter",
         "x": [
          "2019-01",
          "2019-02",
          "2019-03",
          "2019-04",
          "2019-05",
          "2019-06",
          "2019-07",
          "2019-08",
          "2019-09",
          "2019-10",
          "2019-11",
          "2019-12",
          "2020-01"
         ],
         "xaxis": "x2",
         "y": [
          null,
          null,
          4.5,
          null,
          4.5,
          4.5,
          4.5,
          4.5,
          4.6,
          null,
          null,
          4.6,
          4.6
         ],
         "yaxis": "y2"
        },
        {
         "line": {
          "color": "#45b6fe",
          "shape": "linear"
         },
         "marker": {
          "color": "#45b6fe"
         },
         "showlegend": false,
         "type": "scatter",
         "x": [
          "2019-01",
          "2019-02",
          "2019-03",
          "2019-04",
          "2019-05",
          "2019-06",
          "2019-07",
          "2019-08",
          "2019-09",
          "2019-10",
          "2019-11",
          "2019-12",
          "2020-01"
         ],
         "xaxis": "x2",
         "y": [
          null,
          null,
          4.3,
          null,
          3.4,
          4.7,
          5,
          4.6,
          3.8,
          null,
          null,
          4.4,
          4.8
         ],
         "yaxis": "y2"
        },
        {
         "line": {
          "color": "#296d98",
          "shape": "linear"
         },
         "marker": {
          "color": "#296d98"
         },
         "showlegend": false,
         "type": "scatter",
         "x": [
          "2019-01",
          "2019-02",
          "2019-03",
          "2019-04",
          "2019-05",
          "2019-06",
          "2019-07",
          "2019-08",
          "2019-09",
          "2019-10",
          "2019-11",
          "2019-12",
          "2020-01"
         ],
         "xaxis": "x3",
         "y": [
          null,
          null,
          4.8,
          null,
          4.8,
          4.7,
          4.8,
          4.8,
          4.8,
          null,
          null,
          4.8,
          4.8
         ],
         "yaxis": "y3"
        },
        {
         "line": {
          "color": "#45b6fe",
          "shape": "linear"
         },
         "marker": {
          "color": "#45b6fe"
         },
         "showlegend": false,
         "type": "scatter",
         "x": [
          "2019-01",
          "2019-02",
          "2019-03",
          "2019-04",
          "2019-05",
          "2019-06",
          "2019-07",
          "2019-08",
          "2019-09",
          "2019-10",
          "2019-11",
          "2019-12",
          "2020-01"
         ],
         "xaxis": "x3",
         "y": [
          null,
          null,
          4.7,
          null,
          4.1,
          5,
          4.7,
          4.6,
          4,
          null,
          null,
          4.2,
          5
         ],
         "yaxis": "y3"
        },
        {
         "line": {
          "color": "#296d98",
          "shape": "linear"
         },
         "marker": {
          "color": "#296d98"
         },
         "showlegend": false,
         "type": "scatter",
         "x": [
          "2019-01",
          "2019-02",
          "2019-03",
          "2019-04",
          "2019-05",
          "2019-06",
          "2019-07",
          "2019-08",
          "2019-09",
          "2019-10",
          "2019-11",
          "2019-12",
          "2020-01"
         ],
         "xaxis": "x4",
         "y": [
          null,
          null,
          4.5,
          null,
          4.5,
          4.4,
          4.5,
          4.5,
          4.6,
          null,
          null,
          4.6,
          4.5
         ],
         "yaxis": "y4"
        },
        {
         "line": {
          "color": "#45b6fe",
          "shape": "linear"
         },
         "marker": {
          "color": "#45b6fe"
         },
         "showlegend": false,
         "type": "scatter",
         "x": [
          "2019-01",
          "2019-02",
          "2019-03",
          "2019-04",
          "2019-05",
          "2019-06",
          "2019-07",
          "2019-08",
          "2019-09",
          "2019-10",
          "2019-11",
          "2019-12",
          "2020-01"
         ],
         "xaxis": "x4",
         "y": [
          null,
          null,
          4.4,
          null,
          3.1,
          4.5,
          4.8,
          4.6,
          3.7,
          null,
          null,
          4.1,
          4.6
         ],
         "yaxis": "y4"
        },
        {
         "line": {
          "color": "#296d98",
          "shape": "linear"
         },
         "marker": {
          "color": "#296d98"
         },
         "showlegend": false,
         "type": "scatter",
         "x": [
          "2019-01",
          "2019-02",
          "2019-03",
          "2019-04",
          "2019-05",
          "2019-06",
          "2019-07",
          "2019-08",
          "2019-09",
          "2019-10",
          "2019-11",
          "2019-12",
          "2020-01"
         ],
         "xaxis": "x5",
         "y": [
          null,
          null,
          4.8,
          null,
          4.8,
          4.7,
          4.8,
          4.8,
          4.8,
          null,
          null,
          4.8,
          4.8
         ],
         "yaxis": "y5"
        },
        {
         "line": {
          "color": "#45b6fe",
          "shape": "linear"
         },
         "marker": {
          "color": "#45b6fe"
         },
         "showlegend": false,
         "type": "scatter",
         "x": [
          "2019-01",
          "2019-02",
          "2019-03",
          "2019-04",
          "2019-05",
          "2019-06",
          "2019-07",
          "2019-08",
          "2019-09",
          "2019-10",
          "2019-11",
          "2019-12",
          "2020-01"
         ],
         "xaxis": "x5",
         "y": [
          null,
          null,
          4.5,
          null,
          4.3,
          4.2,
          5,
          4.4,
          4.2,
          null,
          null,
          4.4,
          4.9
         ],
         "yaxis": "y5"
        },
        {
         "marker": {
          "color": "#45b6fe"
         },
         "showlegend": false,
         "type": "bar",
         "x": [
          "2019-01",
          "2019-02",
          "2019-03",
          "2019-04",
          "2019-05",
          "2019-06",
          "2019-07",
          "2019-08",
          "2019-09",
          "2019-10",
          "2019-11",
          "2019-12",
          "2020-01"
         ],
         "xaxis": "x6",
         "y": [
          null,
          null,
          8,
          null,
          7,
          9,
          6,
          7,
          6,
          null,
          null,
          8,
          7
         ],
         "yaxis": "y6"
        }
       ],
       "layout": {
        "annotations": [
         {
          "font": {
           "size": 16
          },
          "showarrow": false,
          "text": "Atención Médica: Calificación Promedio",
          "x": 0.5,
          "xanchor": "center",
          "xref": "paper",
          "y": 1,
          "yanchor": "bottom",
          "yref": "paper"
         },
         {
          "font": {
           "size": 16
          },
          "showarrow": false,
          "text": "Disponibilidad de Turno: Calificación Promedio",
          "x": 0.5,
          "xanchor": "center",
          "xref": "paper",
          "y": 0.8283333333333334,
          "yanchor": "bottom",
          "yref": "paper"
         },
         {
          "font": {
           "size": 16
          },
          "showarrow": false,
          "text": "Limpieza y Confort: Calificación Promedio",
          "x": 0.5,
          "xanchor": "center",
          "xref": "paper",
          "y": 0.6566666666666667,
          "yanchor": "bottom",
          "yref": "paper"
         },
         {
          "font": {
           "size": 16
          },
          "showarrow": false,
          "text": "Puntualidad: Calificación Promedio",
          "x": 0.5,
          "xanchor": "center",
          "xref": "paper",
          "y": 0.485,
          "yanchor": "bottom",
          "yref": "paper"
         },
         {
          "font": {
           "size": 16
          },
          "showarrow": false,
          "text": "Trato y Cordialidad: Calificación Promedio",
          "x": 0.5,
          "xanchor": "center",
          "xref": "paper",
          "y": 0.31333333333333335,
          "yanchor": "bottom",
          "yref": "paper"
         },
         {
          "font": {
           "size": 16
          },
          "showarrow": false,
          "text": "Número de afiliados que calificaron en cada mes",
          "x": 0.5,
          "xanchor": "center",
          "xref": "paper",
          "y": 0.14166666666666666,
          "yanchor": "bottom",
          "yref": "paper"
         },
         {
          "font": {
           "size": 16
          },
          "showarrow": false,
          "text": "Promedio calificación",
          "textangle": -90,
          "x": 0,
          "xanchor": "right",
          "xref": "paper",
          "xshift": -40,
          "y": 0.5,
          "yanchor": "middle",
          "yref": "paper"
         }
        ],
        "height": 1100,
        "legend": {
         "font": {
          "size": 15
         },
         "orientation": "h",
         "traceorder": "reversed",
         "x": 0.1,
         "y": 1.1
        },
        "template": {
         "data": {
          "bar": [
           {
            "error_x": {
             "color": "#2a3f5f"
            },
            "error_y": {
             "color": "#2a3f5f"
            },
            "marker": {
             "line": {
              "color": "#E5ECF6",
              "width": 0.5
             }
            },
            "type": "bar"
           }
          ],
          "barpolar": [
           {
            "marker": {
             "line": {
              "color": "#E5ECF6",
              "width": 0.5
             }
            },
            "type": "barpolar"
           }
          ],
          "carpet": [
           {
            "aaxis": {
             "endlinecolor": "#2a3f5f",
             "gridcolor": "white",
             "linecolor": "white",
             "minorgridcolor": "white",
             "startlinecolor": "#2a3f5f"
            },
            "baxis": {
             "endlinecolor": "#2a3f5f",
             "gridcolor": "white",
             "linecolor": "white",
             "minorgridcolor": "white",
             "startlinecolor": "#2a3f5f"
            },
            "type": "carpet"
           }
          ],
          "choropleth": [
           {
            "colorbar": {
             "outlinewidth": 0,
             "ticks": ""
            },
            "type": "choropleth"
           }
          ],
          "contour": [
           {
            "colorbar": {
             "outlinewidth": 0,
             "ticks": ""
            },
            "colorscale": [
             [
              0,
              "#0d0887"
             ],
             [
              0.1111111111111111,
              "#46039f"
             ],
             [
              0.2222222222222222,
              "#7201a8"
             ],
             [
              0.3333333333333333,
              "#9c179e"
             ],
             [
              0.4444444444444444,
              "#bd3786"
             ],
             [
              0.5555555555555556,
              "#d8576b"
             ],
             [
              0.6666666666666666,
              "#ed7953"
             ],
             [
              0.7777777777777778,
              "#fb9f3a"
             ],
             [
              0.8888888888888888,
              "#fdca26"
             ],
             [
              1,
              "#f0f921"
             ]
            ],
            "type": "contour"
           }
          ],
          "contourcarpet": [
           {
            "colorbar": {
             "outlinewidth": 0,
             "ticks": ""
            },
            "type": "contourcarpet"
           }
          ],
          "heatmap": [
           {
            "colorbar": {
             "outlinewidth": 0,
             "ticks": ""
            },
            "colorscale": [
             [
              0,
              "#0d0887"
             ],
             [
              0.1111111111111111,
              "#46039f"
             ],
             [
              0.2222222222222222,
              "#7201a8"
             ],
             [
              0.3333333333333333,
              "#9c179e"
             ],
             [
              0.4444444444444444,
              "#bd3786"
             ],
             [
              0.5555555555555556,
              "#d8576b"
             ],
             [
              0.6666666666666666,
              "#ed7953"
             ],
             [
              0.7777777777777778,
              "#fb9f3a"
             ],
             [
              0.8888888888888888,
              "#fdca26"
             ],
             [
              1,
              "#f0f921"
             ]
            ],
            "type": "heatmap"
           }
          ],
          "heatmapgl": [
           {
            "colorbar": {
             "outlinewidth": 0,
             "ticks": ""
            },
            "colorscale": [
             [
              0,
              "#0d0887"
             ],
             [
              0.1111111111111111,
              "#46039f"
             ],
             [
              0.2222222222222222,
              "#7201a8"
             ],
             [
              0.3333333333333333,
              "#9c179e"
             ],
             [
              0.4444444444444444,
              "#bd3786"
             ],
             [
              0.5555555555555556,
              "#d8576b"
             ],
             [
              0.6666666666666666,
              "#ed7953"
             ],
             [
              0.7777777777777778,
              "#fb9f3a"
             ],
             [
              0.8888888888888888,
              "#fdca26"
             ],
             [
              1,
              "#f0f921"
             ]
            ],
            "type": "heatmapgl"
           }
          ],
          "histogram": [
           {
            "marker": {
             "colorbar": {
              "outlinewidth": 0,
              "ticks": ""
             }
            },
            "type": "histogram"
           }
          ],
          "histogram2d": [
           {
            "colorbar": {
             "outlinewidth": 0,
             "ticks": ""
            },
            "colorscale": [
             [
              0,
              "#0d0887"
             ],
             [
              0.1111111111111111,
              "#46039f"
             ],
             [
              0.2222222222222222,
              "#7201a8"
             ],
             [
              0.3333333333333333,
              "#9c179e"
             ],
             [
              0.4444444444444444,
              "#bd3786"
             ],
             [
              0.5555555555555556,
              "#d8576b"
             ],
             [
              0.6666666666666666,
              "#ed7953"
             ],
             [
              0.7777777777777778,
              "#fb9f3a"
             ],
             [
              0.8888888888888888,
              "#fdca26"
             ],
             [
              1,
              "#f0f921"
             ]
            ],
            "type": "histogram2d"
           }
          ],
          "histogram2dcontour": [
           {
            "colorbar": {
             "outlinewidth": 0,
             "ticks": ""
            },
            "colorscale": [
             [
              0,
              "#0d0887"
             ],
             [
              0.1111111111111111,
              "#46039f"
             ],
             [
              0.2222222222222222,
              "#7201a8"
             ],
             [
              0.3333333333333333,
              "#9c179e"
             ],
             [
              0.4444444444444444,
              "#bd3786"
             ],
             [
              0.5555555555555556,
              "#d8576b"
             ],
             [
              0.6666666666666666,
              "#ed7953"
             ],
             [
              0.7777777777777778,
              "#fb9f3a"
             ],
             [
              0.8888888888888888,
              "#fdca26"
             ],
             [
              1,
              "#f0f921"
             ]
            ],
            "type": "histogram2dcontour"
           }
          ],
          "mesh3d": [
           {
            "colorbar": {
             "outlinewidth": 0,
             "ticks": ""
            },
            "type": "mesh3d"
           }
          ],
          "parcoords": [
           {
            "line": {
             "colorbar": {
              "outlinewidth": 0,
              "ticks": ""
             }
            },
            "type": "parcoords"
           }
          ],
          "pie": [
           {
            "automargin": true,
            "type": "pie"
           }
          ],
          "scatter": [
           {
            "marker": {
             "colorbar": {
              "outlinewidth": 0,
              "ticks": ""
             }
            },
            "type": "scatter"
           }
          ],
          "scatter3d": [
           {
            "line": {
             "colorbar": {
              "outlinewidth": 0,
              "ticks": ""
             }
            },
            "marker": {
             "colorbar": {
              "outlinewidth": 0,
              "ticks": ""
             }
            },
            "type": "scatter3d"
           }
          ],
          "scattercarpet": [
           {
            "marker": {
             "colorbar": {
              "outlinewidth": 0,
              "ticks": ""
             }
            },
            "type": "scattercarpet"
           }
          ],
          "scattergeo": [
           {
            "marker": {
             "colorbar": {
              "outlinewidth": 0,
              "ticks": ""
             }
            },
            "type": "scattergeo"
           }
          ],
          "scattergl": [
           {
            "marker": {
             "colorbar": {
              "outlinewidth": 0,
              "ticks": ""
             }
            },
            "type": "scattergl"
           }
          ],
          "scattermapbox": [
           {
            "marker": {
             "colorbar": {
              "outlinewidth": 0,
              "ticks": ""
             }
            },
            "type": "scattermapbox"
           }
          ],
          "scatterpolar": [
           {
            "marker": {
             "colorbar": {
              "outlinewidth": 0,
              "ticks": ""
             }
            },
            "type": "scatterpolar"
           }
          ],
          "scatterpolargl": [
           {
            "marker": {
             "colorbar": {
              "outlinewidth": 0,
              "ticks": ""
             }
            },
            "type": "scatterpolargl"
           }
          ],
          "scatterternary": [
           {
            "marker": {
             "colorbar": {
              "outlinewidth": 0,
              "ticks": ""
             }
            },
            "type": "scatterternary"
           }
          ],
          "surface": [
           {
            "colorbar": {
             "outlinewidth": 0,
             "ticks": ""
            },
            "colorscale": [
             [
              0,
              "#0d0887"
             ],
             [
              0.1111111111111111,
              "#46039f"
             ],
             [
              0.2222222222222222,
              "#7201a8"
             ],
             [
              0.3333333333333333,
              "#9c179e"
             ],
             [
              0.4444444444444444,
              "#bd3786"
             ],
             [
              0.5555555555555556,
              "#d8576b"
             ],
             [
              0.6666666666666666,
              "#ed7953"
             ],
             [
              0.7777777777777778,
              "#fb9f3a"
             ],
             [
              0.8888888888888888,
              "#fdca26"
             ],
             [
              1,
              "#f0f921"
             ]
            ],
            "type": "surface"
           }
          ],
          "table": [
           {
            "cells": {
             "fill": {
              "color": "#EBF0F8"
             },
             "line": {
              "color": "white"
             }
            },
            "header": {
             "fill": {
              "color": "#C8D4E3"
             },
             "line": {
              "color": "white"
             }
            },
            "type": "table"
           }
          ]
         },
         "layout": {
          "annotationdefaults": {
           "arrowcolor": "#2a3f5f",
           "arrowhead": 0,
           "arrowwidth": 1
          },
          "coloraxis": {
           "colorbar": {
            "outlinewidth": 0,
            "ticks": ""
           }
          },
          "colorscale": {
           "diverging": [
            [
             0,
             "#8e0152"
            ],
            [
             0.1,
             "#c51b7d"
            ],
            [
             0.2,
             "#de77ae"
            ],
            [
             0.3,
             "#f1b6da"
            ],
            [
             0.4,
             "#fde0ef"
            ],
            [
             0.5,
             "#f7f7f7"
            ],
            [
             0.6,
             "#e6f5d0"
            ],
            [
             0.7,
             "#b8e186"
            ],
            [
             0.8,
             "#7fbc41"
            ],
            [
             0.9,
             "#4d9221"
            ],
            [
             1,
             "#276419"
            ]
           ],
           "sequential": [
            [
             0,
             "#0d0887"
            ],
            [
             0.1111111111111111,
             "#46039f"
            ],
            [
             0.2222222222222222,
             "#7201a8"
            ],
            [
             0.3333333333333333,
             "#9c179e"
            ],
            [
             0.4444444444444444,
             "#bd3786"
            ],
            [
             0.5555555555555556,
             "#d8576b"
            ],
            [
             0.6666666666666666,
             "#ed7953"
            ],
            [
             0.7777777777777778,
             "#fb9f3a"
            ],
            [
             0.8888888888888888,
             "#fdca26"
            ],
            [
             1,
             "#f0f921"
            ]
           ],
           "sequentialminus": [
            [
             0,
             "#0d0887"
            ],
            [
             0.1111111111111111,
             "#46039f"
            ],
            [
             0.2222222222222222,
             "#7201a8"
            ],
            [
             0.3333333333333333,
             "#9c179e"
            ],
            [
             0.4444444444444444,
             "#bd3786"
            ],
            [
             0.5555555555555556,
             "#d8576b"
            ],
            [
             0.6666666666666666,
             "#ed7953"
            ],
            [
             0.7777777777777778,
             "#fb9f3a"
            ],
            [
             0.8888888888888888,
             "#fdca26"
            ],
            [
             1,
             "#f0f921"
            ]
           ]
          },
          "colorway": [
           "#636efa",
           "#EF553B",
           "#00cc96",
           "#ab63fa",
           "#FFA15A",
           "#19d3f3",
           "#FF6692",
           "#B6E880",
           "#FF97FF",
           "#FECB52"
          ],
          "font": {
           "color": "#2a3f5f"
          },
          "geo": {
           "bgcolor": "white",
           "lakecolor": "white",
           "landcolor": "#E5ECF6",
           "showlakes": true,
           "showland": true,
           "subunitcolor": "white"
          },
          "hoverlabel": {
           "align": "left"
          },
          "hovermode": "closest",
          "mapbox": {
           "style": "light"
          },
          "paper_bgcolor": "white",
          "plot_bgcolor": "#E5ECF6",
          "polar": {
           "angularaxis": {
            "gridcolor": "white",
            "linecolor": "white",
            "ticks": ""
           },
           "bgcolor": "#E5ECF6",
           "radialaxis": {
            "gridcolor": "white",
            "linecolor": "white",
            "ticks": ""
           }
          },
          "scene": {
           "xaxis": {
            "backgroundcolor": "#E5ECF6",
            "gridcolor": "white",
            "gridwidth": 2,
            "linecolor": "white",
            "showbackground": true,
            "ticks": "",
            "zerolinecolor": "white"
           },
           "yaxis": {
            "backgroundcolor": "#E5ECF6",
            "gridcolor": "white",
            "gridwidth": 2,
            "linecolor": "white",
            "showbackground": true,
            "ticks": "",
            "zerolinecolor": "white"
           },
           "zaxis": {
            "backgroundcolor": "#E5ECF6",
            "gridcolor": "white",
            "gridwidth": 2,
            "linecolor": "white",
            "showbackground": true,
            "ticks": "",
            "zerolinecolor": "white"
           }
          },
          "shapedefaults": {
           "line": {
            "color": "#2a3f5f"
           }
          },
          "ternary": {
           "aaxis": {
            "gridcolor": "white",
            "linecolor": "white",
            "ticks": ""
           },
           "baxis": {
            "gridcolor": "white",
            "linecolor": "white",
            "ticks": ""
           },
           "bgcolor": "#E5ECF6",
           "caxis": {
            "gridcolor": "white",
            "linecolor": "white",
            "ticks": ""
           }
          },
          "title": {
           "x": 0.05
          },
          "xaxis": {
           "automargin": true,
           "gridcolor": "white",
           "linecolor": "white",
           "ticks": "",
           "title": {
            "standoff": 15
           },
           "zerolinecolor": "white",
           "zerolinewidth": 2
          },
          "yaxis": {
           "automargin": true,
           "gridcolor": "white",
           "linecolor": "white",
           "ticks": "",
           "title": {
            "standoff": 15
           },
           "zerolinecolor": "white",
           "zerolinewidth": 2
          }
         }
        },
        "width": 900,
        "xaxis": {
         "anchor": "y",
         "domain": [
          0,
          1
         ],
         "matches": "x6",
         "showticklabels": false
        },
        "xaxis2": {
         "anchor": "y2",
         "domain": [
          0,
          1
         ],
         "matches": "x6",
         "showticklabels": false
        },
        "xaxis3": {
         "anchor": "y3",
         "domain": [
          0,
          1
         ],
         "matches": "x6",
         "showticklabels": false
        },
        "xaxis4": {
         "anchor": "y4",
         "domain": [
          0,
          1
         ],
         "matches": "x6",
         "showticklabels": false
        },
        "xaxis5": {
         "anchor": "y5",
         "domain": [
          0,
          1
         ],
         "matches": "x6",
         "showticklabels": false
        },
        "xaxis6": {
         "anchor": "y6",
         "domain": [
          0,
          1
         ]
        },
        "yaxis": {
         "anchor": "x",
         "domain": [
          0.8583333333333333,
          1
         ],
         "range": [
          0,
          5.6
         ]
        },
        "yaxis2": {
         "anchor": "x2",
         "domain": [
          0.6866666666666666,
          0.8283333333333334
         ],
         "range": [
          0,
          5.6
         ]
        },
        "yaxis3": {
         "anchor": "x3",
         "domain": [
          0.515,
          0.6566666666666667
         ],
         "range": [
          0,
          5.6
         ]
        },
        "yaxis4": {
         "anchor": "x4",
         "domain": [
          0.3433333333333333,
          0.485
         ],
         "range": [
          0,
          5.6
         ]
        },
        "yaxis5": {
         "anchor": "x5",
         "domain": [
          0.17166666666666666,
          0.31333333333333335
         ],
         "range": [
          0,
          5.6
         ]
        },
        "yaxis6": {
         "anchor": "x6",
         "domain": [
          0,
          0.14166666666666666
         ]
        }
       }
      },
      "text/html": [
       "<div>\n",
       "        \n",
       "        \n",
       "            <div id=\"aae4f276-4a8e-4f51-9a6d-f8b898304836\" class=\"plotly-graph-div\" style=\"height:1100px; width:900px;\"></div>\n",
       "            <script type=\"text/javascript\">\n",
       "                require([\"plotly\"], function(Plotly) {\n",
       "                    window.PLOTLYENV=window.PLOTLYENV || {};\n",
       "                    \n",
       "                if (document.getElementById(\"aae4f276-4a8e-4f51-9a6d-f8b898304836\")) {\n",
       "                    Plotly.newPlot(\n",
       "                        'aae4f276-4a8e-4f51-9a6d-f8b898304836',\n",
       "                        [{\"line\": {\"color\": \"#296d98\", \"shape\": \"linear\"}, \"marker\": {\"color\": \"#296d98\"}, \"name\": \"Cartilla Swiss Medical Medicina Privada\", \"type\": \"scatter\", \"x\": [\"2019-01\", \"2019-02\", \"2019-03\", \"2019-04\", \"2019-05\", \"2019-06\", \"2019-07\", \"2019-08\", \"2019-09\", \"2019-10\", \"2019-11\", \"2019-12\", \"2020-01\"], \"xaxis\": \"x\", \"y\": [null, null, 4.8, null, 4.8, 4.7, 4.8, 4.8, 4.8, null, null, 4.8, 4.8], \"yaxis\": \"y\"}, {\"line\": {\"color\": \"#45b6fe\", \"shape\": \"linear\"}, \"marker\": {\"color\": \"#45b6fe\"}, \"name\": \"Prestador: Monti,Fernando A.\", \"type\": \"scatter\", \"x\": [\"2019-01\", \"2019-02\", \"2019-03\", \"2019-04\", \"2019-05\", \"2019-06\", \"2019-07\", \"2019-08\", \"2019-09\", \"2019-10\", \"2019-11\", \"2019-12\", \"2020-01\"], \"xaxis\": \"x\", \"y\": [null, null, 4.7, null, 4.3, 4.0, 5.0, 4.6, 4.2, null, null, 4.5, 5.0], \"yaxis\": \"y\"}, {\"line\": {\"color\": \"#296d98\", \"shape\": \"linear\"}, \"marker\": {\"color\": \"#296d98\"}, \"showlegend\": false, \"type\": \"scatter\", \"x\": [\"2019-01\", \"2019-02\", \"2019-03\", \"2019-04\", \"2019-05\", \"2019-06\", \"2019-07\", \"2019-08\", \"2019-09\", \"2019-10\", \"2019-11\", \"2019-12\", \"2020-01\"], \"xaxis\": \"x2\", \"y\": [null, null, 4.5, null, 4.5, 4.5, 4.5, 4.5, 4.6, null, null, 4.6, 4.6], \"yaxis\": \"y2\"}, {\"line\": {\"color\": \"#45b6fe\", \"shape\": \"linear\"}, \"marker\": {\"color\": \"#45b6fe\"}, \"showlegend\": false, \"type\": \"scatter\", \"x\": [\"2019-01\", \"2019-02\", \"2019-03\", \"2019-04\", \"2019-05\", \"2019-06\", \"2019-07\", \"2019-08\", \"2019-09\", \"2019-10\", \"2019-11\", \"2019-12\", \"2020-01\"], \"xaxis\": \"x2\", \"y\": [null, null, 4.3, null, 3.4, 4.7, 5.0, 4.6, 3.8, null, null, 4.4, 4.8], \"yaxis\": \"y2\"}, {\"line\": {\"color\": \"#296d98\", \"shape\": \"linear\"}, \"marker\": {\"color\": \"#296d98\"}, \"showlegend\": false, \"type\": \"scatter\", \"x\": [\"2019-01\", \"2019-02\", \"2019-03\", \"2019-04\", \"2019-05\", \"2019-06\", \"2019-07\", \"2019-08\", \"2019-09\", \"2019-10\", \"2019-11\", \"2019-12\", \"2020-01\"], \"xaxis\": \"x3\", \"y\": [null, null, 4.8, null, 4.8, 4.7, 4.8, 4.8, 4.8, null, null, 4.8, 4.8], \"yaxis\": \"y3\"}, {\"line\": {\"color\": \"#45b6fe\", \"shape\": \"linear\"}, \"marker\": {\"color\": \"#45b6fe\"}, \"showlegend\": false, \"type\": \"scatter\", \"x\": [\"2019-01\", \"2019-02\", \"2019-03\", \"2019-04\", \"2019-05\", \"2019-06\", \"2019-07\", \"2019-08\", \"2019-09\", \"2019-10\", \"2019-11\", \"2019-12\", \"2020-01\"], \"xaxis\": \"x3\", \"y\": [null, null, 4.7, null, 4.1, 5.0, 4.7, 4.6, 4.0, null, null, 4.2, 5.0], \"yaxis\": \"y3\"}, {\"line\": {\"color\": \"#296d98\", \"shape\": \"linear\"}, \"marker\": {\"color\": \"#296d98\"}, \"showlegend\": false, \"type\": \"scatter\", \"x\": [\"2019-01\", \"2019-02\", \"2019-03\", \"2019-04\", \"2019-05\", \"2019-06\", \"2019-07\", \"2019-08\", \"2019-09\", \"2019-10\", \"2019-11\", \"2019-12\", \"2020-01\"], \"xaxis\": \"x4\", \"y\": [null, null, 4.5, null, 4.5, 4.4, 4.5, 4.5, 4.6, null, null, 4.6, 4.5], \"yaxis\": \"y4\"}, {\"line\": {\"color\": \"#45b6fe\", \"shape\": \"linear\"}, \"marker\": {\"color\": \"#45b6fe\"}, \"showlegend\": false, \"type\": \"scatter\", \"x\": [\"2019-01\", \"2019-02\", \"2019-03\", \"2019-04\", \"2019-05\", \"2019-06\", \"2019-07\", \"2019-08\", \"2019-09\", \"2019-10\", \"2019-11\", \"2019-12\", \"2020-01\"], \"xaxis\": \"x4\", \"y\": [null, null, 4.4, null, 3.1, 4.5, 4.8, 4.6, 3.7, null, null, 4.1, 4.6], \"yaxis\": \"y4\"}, {\"line\": {\"color\": \"#296d98\", \"shape\": \"linear\"}, \"marker\": {\"color\": \"#296d98\"}, \"showlegend\": false, \"type\": \"scatter\", \"x\": [\"2019-01\", \"2019-02\", \"2019-03\", \"2019-04\", \"2019-05\", \"2019-06\", \"2019-07\", \"2019-08\", \"2019-09\", \"2019-10\", \"2019-11\", \"2019-12\", \"2020-01\"], \"xaxis\": \"x5\", \"y\": [null, null, 4.8, null, 4.8, 4.7, 4.8, 4.8, 4.8, null, null, 4.8, 4.8], \"yaxis\": \"y5\"}, {\"line\": {\"color\": \"#45b6fe\", \"shape\": \"linear\"}, \"marker\": {\"color\": \"#45b6fe\"}, \"showlegend\": false, \"type\": \"scatter\", \"x\": [\"2019-01\", \"2019-02\", \"2019-03\", \"2019-04\", \"2019-05\", \"2019-06\", \"2019-07\", \"2019-08\", \"2019-09\", \"2019-10\", \"2019-11\", \"2019-12\", \"2020-01\"], \"xaxis\": \"x5\", \"y\": [null, null, 4.5, null, 4.3, 4.2, 5.0, 4.4, 4.2, null, null, 4.4, 4.9], \"yaxis\": \"y5\"}, {\"marker\": {\"color\": \"#45b6fe\"}, \"showlegend\": false, \"type\": \"bar\", \"x\": [\"2019-01\", \"2019-02\", \"2019-03\", \"2019-04\", \"2019-05\", \"2019-06\", \"2019-07\", \"2019-08\", \"2019-09\", \"2019-10\", \"2019-11\", \"2019-12\", \"2020-01\"], \"xaxis\": \"x6\", \"y\": [null, null, 8.0, null, 7.0, 9.0, 6.0, 7.0, 6.0, null, null, 8.0, 7.0], \"yaxis\": \"y6\"}],\n",
       "                        {\"annotations\": [{\"font\": {\"size\": 16}, \"showarrow\": false, \"text\": \"Atenci\\u00f3n M\\u00e9dica: Calificaci\\u00f3n Promedio\", \"x\": 0.5, \"xanchor\": \"center\", \"xref\": \"paper\", \"y\": 1.0, \"yanchor\": \"bottom\", \"yref\": \"paper\"}, {\"font\": {\"size\": 16}, \"showarrow\": false, \"text\": \"Disponibilidad de Turno: Calificaci\\u00f3n Promedio\", \"x\": 0.5, \"xanchor\": \"center\", \"xref\": \"paper\", \"y\": 0.8283333333333334, \"yanchor\": \"bottom\", \"yref\": \"paper\"}, {\"font\": {\"size\": 16}, \"showarrow\": false, \"text\": \"Limpieza y Confort: Calificaci\\u00f3n Promedio\", \"x\": 0.5, \"xanchor\": \"center\", \"xref\": \"paper\", \"y\": 0.6566666666666667, \"yanchor\": \"bottom\", \"yref\": \"paper\"}, {\"font\": {\"size\": 16}, \"showarrow\": false, \"text\": \"Puntualidad: Calificaci\\u00f3n Promedio\", \"x\": 0.5, \"xanchor\": \"center\", \"xref\": \"paper\", \"y\": 0.485, \"yanchor\": \"bottom\", \"yref\": \"paper\"}, {\"font\": {\"size\": 16}, \"showarrow\": false, \"text\": \"Trato y Cordialidad: Calificaci\\u00f3n Promedio\", \"x\": 0.5, \"xanchor\": \"center\", \"xref\": \"paper\", \"y\": 0.31333333333333335, \"yanchor\": \"bottom\", \"yref\": \"paper\"}, {\"font\": {\"size\": 16}, \"showarrow\": false, \"text\": \"N\\u00famero de afiliados que calificaron en cada mes\", \"x\": 0.5, \"xanchor\": \"center\", \"xref\": \"paper\", \"y\": 0.14166666666666666, \"yanchor\": \"bottom\", \"yref\": \"paper\"}, {\"font\": {\"size\": 16}, \"showarrow\": false, \"text\": \"Promedio calificaci\\u00f3n\", \"textangle\": -90, \"x\": 0, \"xanchor\": \"right\", \"xref\": \"paper\", \"xshift\": -40, \"y\": 0.5, \"yanchor\": \"middle\", \"yref\": \"paper\"}], \"height\": 1100, \"legend\": {\"font\": {\"size\": 15}, \"orientation\": \"h\", \"traceorder\": \"reversed\", \"x\": 0.1, \"y\": 1.1}, \"template\": {\"data\": {\"bar\": [{\"error_x\": {\"color\": \"#2a3f5f\"}, \"error_y\": {\"color\": \"#2a3f5f\"}, \"marker\": {\"line\": {\"color\": \"#E5ECF6\", \"width\": 0.5}}, \"type\": \"bar\"}], \"barpolar\": [{\"marker\": {\"line\": {\"color\": \"#E5ECF6\", \"width\": 0.5}}, \"type\": \"barpolar\"}], \"carpet\": [{\"aaxis\": {\"endlinecolor\": \"#2a3f5f\", \"gridcolor\": \"white\", \"linecolor\": \"white\", \"minorgridcolor\": \"white\", \"startlinecolor\": \"#2a3f5f\"}, \"baxis\": {\"endlinecolor\": \"#2a3f5f\", \"gridcolor\": \"white\", \"linecolor\": \"white\", \"minorgridcolor\": \"white\", \"startlinecolor\": \"#2a3f5f\"}, \"type\": \"carpet\"}], \"choropleth\": [{\"colorbar\": {\"outlinewidth\": 0, \"ticks\": \"\"}, \"type\": \"choropleth\"}], \"contour\": [{\"colorbar\": {\"outlinewidth\": 0, \"ticks\": \"\"}, \"colorscale\": [[0.0, \"#0d0887\"], [0.1111111111111111, \"#46039f\"], [0.2222222222222222, \"#7201a8\"], [0.3333333333333333, \"#9c179e\"], [0.4444444444444444, \"#bd3786\"], [0.5555555555555556, \"#d8576b\"], [0.6666666666666666, \"#ed7953\"], [0.7777777777777778, \"#fb9f3a\"], [0.8888888888888888, \"#fdca26\"], [1.0, \"#f0f921\"]], \"type\": \"contour\"}], \"contourcarpet\": [{\"colorbar\": {\"outlinewidth\": 0, \"ticks\": \"\"}, \"type\": \"contourcarpet\"}], \"heatmap\": [{\"colorbar\": {\"outlinewidth\": 0, \"ticks\": \"\"}, \"colorscale\": [[0.0, \"#0d0887\"], [0.1111111111111111, \"#46039f\"], [0.2222222222222222, \"#7201a8\"], [0.3333333333333333, \"#9c179e\"], [0.4444444444444444, \"#bd3786\"], [0.5555555555555556, \"#d8576b\"], [0.6666666666666666, \"#ed7953\"], [0.7777777777777778, \"#fb9f3a\"], [0.8888888888888888, \"#fdca26\"], [1.0, \"#f0f921\"]], \"type\": \"heatmap\"}], \"heatmapgl\": [{\"colorbar\": {\"outlinewidth\": 0, \"ticks\": \"\"}, \"colorscale\": [[0.0, \"#0d0887\"], [0.1111111111111111, \"#46039f\"], [0.2222222222222222, \"#7201a8\"], [0.3333333333333333, \"#9c179e\"], [0.4444444444444444, \"#bd3786\"], [0.5555555555555556, \"#d8576b\"], [0.6666666666666666, \"#ed7953\"], [0.7777777777777778, \"#fb9f3a\"], [0.8888888888888888, \"#fdca26\"], [1.0, \"#f0f921\"]], \"type\": \"heatmapgl\"}], \"histogram\": [{\"marker\": {\"colorbar\": {\"outlinewidth\": 0, \"ticks\": \"\"}}, \"type\": \"histogram\"}], \"histogram2d\": [{\"colorbar\": {\"outlinewidth\": 0, \"ticks\": \"\"}, \"colorscale\": [[0.0, \"#0d0887\"], [0.1111111111111111, \"#46039f\"], [0.2222222222222222, \"#7201a8\"], [0.3333333333333333, \"#9c179e\"], [0.4444444444444444, \"#bd3786\"], [0.5555555555555556, \"#d8576b\"], [0.6666666666666666, \"#ed7953\"], [0.7777777777777778, \"#fb9f3a\"], [0.8888888888888888, \"#fdca26\"], [1.0, \"#f0f921\"]], \"type\": \"histogram2d\"}], \"histogram2dcontour\": [{\"colorbar\": {\"outlinewidth\": 0, \"ticks\": \"\"}, \"colorscale\": [[0.0, \"#0d0887\"], [0.1111111111111111, \"#46039f\"], [0.2222222222222222, \"#7201a8\"], [0.3333333333333333, \"#9c179e\"], [0.4444444444444444, \"#bd3786\"], [0.5555555555555556, \"#d8576b\"], [0.6666666666666666, \"#ed7953\"], [0.7777777777777778, \"#fb9f3a\"], [0.8888888888888888, \"#fdca26\"], [1.0, \"#f0f921\"]], \"type\": \"histogram2dcontour\"}], \"mesh3d\": [{\"colorbar\": {\"outlinewidth\": 0, \"ticks\": \"\"}, \"type\": \"mesh3d\"}], \"parcoords\": [{\"line\": {\"colorbar\": {\"outlinewidth\": 0, \"ticks\": \"\"}}, \"type\": \"parcoords\"}], \"pie\": [{\"automargin\": true, \"type\": \"pie\"}], \"scatter\": [{\"marker\": {\"colorbar\": {\"outlinewidth\": 0, \"ticks\": \"\"}}, \"type\": \"scatter\"}], \"scatter3d\": [{\"line\": {\"colorbar\": {\"outlinewidth\": 0, \"ticks\": \"\"}}, \"marker\": {\"colorbar\": {\"outlinewidth\": 0, \"ticks\": \"\"}}, \"type\": \"scatter3d\"}], \"scattercarpet\": [{\"marker\": {\"colorbar\": {\"outlinewidth\": 0, \"ticks\": \"\"}}, \"type\": \"scattercarpet\"}], \"scattergeo\": [{\"marker\": {\"colorbar\": {\"outlinewidth\": 0, \"ticks\": \"\"}}, \"type\": \"scattergeo\"}], \"scattergl\": [{\"marker\": {\"colorbar\": {\"outlinewidth\": 0, \"ticks\": \"\"}}, \"type\": \"scattergl\"}], \"scattermapbox\": [{\"marker\": {\"colorbar\": {\"outlinewidth\": 0, \"ticks\": \"\"}}, \"type\": \"scattermapbox\"}], \"scatterpolar\": [{\"marker\": {\"colorbar\": {\"outlinewidth\": 0, \"ticks\": \"\"}}, \"type\": \"scatterpolar\"}], \"scatterpolargl\": [{\"marker\": {\"colorbar\": {\"outlinewidth\": 0, \"ticks\": \"\"}}, \"type\": \"scatterpolargl\"}], \"scatterternary\": [{\"marker\": {\"colorbar\": {\"outlinewidth\": 0, \"ticks\": \"\"}}, \"type\": \"scatterternary\"}], \"surface\": [{\"colorbar\": {\"outlinewidth\": 0, \"ticks\": \"\"}, \"colorscale\": [[0.0, \"#0d0887\"], [0.1111111111111111, \"#46039f\"], [0.2222222222222222, \"#7201a8\"], [0.3333333333333333, \"#9c179e\"], [0.4444444444444444, \"#bd3786\"], [0.5555555555555556, \"#d8576b\"], [0.6666666666666666, \"#ed7953\"], [0.7777777777777778, \"#fb9f3a\"], [0.8888888888888888, \"#fdca26\"], [1.0, \"#f0f921\"]], \"type\": \"surface\"}], \"table\": [{\"cells\": {\"fill\": {\"color\": \"#EBF0F8\"}, \"line\": {\"color\": \"white\"}}, \"header\": {\"fill\": {\"color\": \"#C8D4E3\"}, \"line\": {\"color\": \"white\"}}, \"type\": \"table\"}]}, \"layout\": {\"annotationdefaults\": {\"arrowcolor\": \"#2a3f5f\", \"arrowhead\": 0, \"arrowwidth\": 1}, \"coloraxis\": {\"colorbar\": {\"outlinewidth\": 0, \"ticks\": \"\"}}, \"colorscale\": {\"diverging\": [[0, \"#8e0152\"], [0.1, \"#c51b7d\"], [0.2, \"#de77ae\"], [0.3, \"#f1b6da\"], [0.4, \"#fde0ef\"], [0.5, \"#f7f7f7\"], [0.6, \"#e6f5d0\"], [0.7, \"#b8e186\"], [0.8, \"#7fbc41\"], [0.9, \"#4d9221\"], [1, \"#276419\"]], \"sequential\": [[0.0, \"#0d0887\"], [0.1111111111111111, \"#46039f\"], [0.2222222222222222, \"#7201a8\"], [0.3333333333333333, \"#9c179e\"], [0.4444444444444444, \"#bd3786\"], [0.5555555555555556, \"#d8576b\"], [0.6666666666666666, \"#ed7953\"], [0.7777777777777778, \"#fb9f3a\"], [0.8888888888888888, \"#fdca26\"], [1.0, \"#f0f921\"]], \"sequentialminus\": [[0.0, \"#0d0887\"], [0.1111111111111111, \"#46039f\"], [0.2222222222222222, \"#7201a8\"], [0.3333333333333333, \"#9c179e\"], [0.4444444444444444, \"#bd3786\"], [0.5555555555555556, \"#d8576b\"], [0.6666666666666666, \"#ed7953\"], [0.7777777777777778, \"#fb9f3a\"], [0.8888888888888888, \"#fdca26\"], [1.0, \"#f0f921\"]]}, \"colorway\": [\"#636efa\", \"#EF553B\", \"#00cc96\", \"#ab63fa\", \"#FFA15A\", \"#19d3f3\", \"#FF6692\", \"#B6E880\", \"#FF97FF\", \"#FECB52\"], \"font\": {\"color\": \"#2a3f5f\"}, \"geo\": {\"bgcolor\": \"white\", \"lakecolor\": \"white\", \"landcolor\": \"#E5ECF6\", \"showlakes\": true, \"showland\": true, \"subunitcolor\": \"white\"}, \"hoverlabel\": {\"align\": \"left\"}, \"hovermode\": \"closest\", \"mapbox\": {\"style\": \"light\"}, \"paper_bgcolor\": \"white\", \"plot_bgcolor\": \"#E5ECF6\", \"polar\": {\"angularaxis\": {\"gridcolor\": \"white\", \"linecolor\": \"white\", \"ticks\": \"\"}, \"bgcolor\": \"#E5ECF6\", \"radialaxis\": {\"gridcolor\": \"white\", \"linecolor\": \"white\", \"ticks\": \"\"}}, \"scene\": {\"xaxis\": {\"backgroundcolor\": \"#E5ECF6\", \"gridcolor\": \"white\", \"gridwidth\": 2, \"linecolor\": \"white\", \"showbackground\": true, \"ticks\": \"\", \"zerolinecolor\": \"white\"}, \"yaxis\": {\"backgroundcolor\": \"#E5ECF6\", \"gridcolor\": \"white\", \"gridwidth\": 2, \"linecolor\": \"white\", \"showbackground\": true, \"ticks\": \"\", \"zerolinecolor\": \"white\"}, \"zaxis\": {\"backgroundcolor\": \"#E5ECF6\", \"gridcolor\": \"white\", \"gridwidth\": 2, \"linecolor\": \"white\", \"showbackground\": true, \"ticks\": \"\", \"zerolinecolor\": \"white\"}}, \"shapedefaults\": {\"line\": {\"color\": \"#2a3f5f\"}}, \"ternary\": {\"aaxis\": {\"gridcolor\": \"white\", \"linecolor\": \"white\", \"ticks\": \"\"}, \"baxis\": {\"gridcolor\": \"white\", \"linecolor\": \"white\", \"ticks\": \"\"}, \"bgcolor\": \"#E5ECF6\", \"caxis\": {\"gridcolor\": \"white\", \"linecolor\": \"white\", \"ticks\": \"\"}}, \"title\": {\"x\": 0.05}, \"xaxis\": {\"automargin\": true, \"gridcolor\": \"white\", \"linecolor\": \"white\", \"ticks\": \"\", \"title\": {\"standoff\": 15}, \"zerolinecolor\": \"white\", \"zerolinewidth\": 2}, \"yaxis\": {\"automargin\": true, \"gridcolor\": \"white\", \"linecolor\": \"white\", \"ticks\": \"\", \"title\": {\"standoff\": 15}, \"zerolinecolor\": \"white\", \"zerolinewidth\": 2}}}, \"width\": 900, \"xaxis\": {\"anchor\": \"y\", \"domain\": [0.0, 1.0], \"matches\": \"x6\", \"showticklabels\": false}, \"xaxis2\": {\"anchor\": \"y2\", \"domain\": [0.0, 1.0], \"matches\": \"x6\", \"showticklabels\": false}, \"xaxis3\": {\"anchor\": \"y3\", \"domain\": [0.0, 1.0], \"matches\": \"x6\", \"showticklabels\": false}, \"xaxis4\": {\"anchor\": \"y4\", \"domain\": [0.0, 1.0], \"matches\": \"x6\", \"showticklabels\": false}, \"xaxis5\": {\"anchor\": \"y5\", \"domain\": [0.0, 1.0], \"matches\": \"x6\", \"showticklabels\": false}, \"xaxis6\": {\"anchor\": \"y6\", \"domain\": [0.0, 1.0]}, \"yaxis\": {\"anchor\": \"x\", \"domain\": [0.8583333333333333, 1.0], \"range\": [0, 5.6]}, \"yaxis2\": {\"anchor\": \"x2\", \"domain\": [0.6866666666666666, 0.8283333333333334], \"range\": [0, 5.6]}, \"yaxis3\": {\"anchor\": \"x3\", \"domain\": [0.515, 0.6566666666666667], \"range\": [0, 5.6]}, \"yaxis4\": {\"anchor\": \"x4\", \"domain\": [0.3433333333333333, 0.485], \"range\": [0, 5.6]}, \"yaxis5\": {\"anchor\": \"x5\", \"domain\": [0.17166666666666666, 0.31333333333333335], \"range\": [0, 5.6]}, \"yaxis6\": {\"anchor\": \"x6\", \"domain\": [0.0, 0.14166666666666666]}},\n",
       "                        {\"responsive\": true}\n",
       "                    ).then(function(){\n",
       "                            \n",
       "var gd = document.getElementById('aae4f276-4a8e-4f51-9a6d-f8b898304836');\n",
       "var x = new MutationObserver(function (mutations, observer) {{\n",
       "        var display = window.getComputedStyle(gd).display;\n",
       "        if (!display || display === 'none') {{\n",
       "            console.log([gd, 'removed!']);\n",
       "            Plotly.purge(gd);\n",
       "            observer.disconnect();\n",
       "        }}\n",
       "}});\n",
       "\n",
       "// Listen for the removal of the full notebook cells\n",
       "var notebookContainer = gd.closest('#notebook-container');\n",
       "if (notebookContainer) {{\n",
       "    x.observe(notebookContainer, {childList: true});\n",
       "}}\n",
       "\n",
       "// Listen for the clearing of the current output cell\n",
       "var outputEl = gd.closest('.output');\n",
       "if (outputEl) {{\n",
       "    x.observe(outputEl, {childList: true});\n",
       "}}\n",
       "\n",
       "                        })\n",
       "                };\n",
       "                });\n",
       "            </script>\n",
       "        </div>"
      ]
     },
     "metadata": {},
     "output_type": "display_data"
    }
   ],
   "source": [
    "from plotly.subplots import make_subplots\n",
    "x = temporal_prestador.columns[1:]\n",
    "fig = make_subplots(rows=6, cols=1,\n",
    "                    shared_xaxes=True,\n",
    "                     y_title='Promedio calificación',\n",
    "                    vertical_spacing=0.03, subplot_titles=('Atención Médica: Calificación Promedio',\n",
    "       'Disponibilidad de Turno: Calificación Promedio',\n",
    "       'Limpieza y Confort: Calificación Promedio',\n",
    "       'Puntualidad: Calificación Promedio',\n",
    "       'Trato y Cordialidad: Calificación Promedio', \n",
    "       \"Número de afiliados que calificaron en cada mes\"))\n",
    "fig.add_trace(go.Scatter(x=x, y=temporal_general.iloc[0:1,1:].values[0], name=\"Cartilla Swiss Medical Medicina Privada\",\n",
    "                    line_shape='linear'), row=1, col=1)\n",
    "fig.add_trace(go.Scatter(x=x, y=temporal_prestador.iloc[0:1,1:].values[0], name=f\"Prestador: {prestador_nombre}\",\n",
    "                    line_shape='linear'), row=1, col=1)\n",
    "\n",
    "for i,j in zip(range(1,5), range(2,6)):\n",
    "    fig.add_trace(go.Scatter(x=x, y=temporal_general.iloc[i:j,1:].values[0],showlegend=False,\n",
    "                    line_shape='linear'), row=j, col=1)\n",
    "    fig.add_trace(go.Scatter(x=x, y=temporal_prestador.iloc[i:j,1:].values[0], showlegend=False,\n",
    "                    line_shape='linear'), row=j, col=1)\n",
    "\n",
    "fig.add_trace(go.Bar(x=x, y=temporal_prestador.iloc[5:6,1:].values[0], showlegend=False,\n",
    "                     marker_color = \"#45b6fe\",),row=6, col=1, )\n",
    "\n",
    "for i in [1,3,5,7,9]:\n",
    "    for j in [\"marker\", \"line\"]:\n",
    "        fig.data[i][j][\"color\"] = \"#45b6fe\"\n",
    "\n",
    "for i in [0,2,4,6,8]:\n",
    "    for j in [\"marker\", \"line\"]:\n",
    "        fig.data[i][j][\"color\"] = \"#296d98\"\n",
    "\n",
    "for i in range(0,6):\n",
    "    fig.update_yaxes(range=[0, 5.6], row=i, col=1)\n",
    "\n",
    "fig.update_yaxes(title_text=\"Cantidad\", range=[0, 35],showgrid=False, row=1, col=6)\n",
    "\n",
    "fig.update_layout(height=1100, width=900,\n",
    "                 legend=dict(x=.1, y=1.1,traceorder='reversed', font_size=15, orientation=\"h\"))\n",
    "fig.show()"
   ]
  },
  {
   "cell_type": "code",
   "execution_count": null,
   "metadata": {},
   "outputs": [],
   "source": []
  }
 ],
 "metadata": {
  "kernelspec": {
   "display_name": "Python 3",
   "language": "python",
   "name": "python3"
  },
  "language_info": {
   "codemirror_mode": {
    "name": "ipython",
    "version": 3
   },
   "file_extension": ".py",
   "mimetype": "text/x-python",
   "name": "python",
   "nbconvert_exporter": "python",
   "pygments_lexer": "ipython3",
   "version": "3.7.6"
  }
 },
 "nbformat": 4,
 "nbformat_minor": 4
}
