{
 "cells": [
  {
   "cell_type": "code",
   "execution_count": 2,
   "metadata": {},
   "outputs": [],
   "source": [
    "from dbconn import querydb, querydbtopandas \n",
    "import numpy as np\n",
    "import pandas as pd\n",
    "import datetime\n",
    "\n",
    "import unidecode"
   ]
  },
  {
   "cell_type": "code",
   "execution_count": 163,
   "metadata": {},
   "outputs": [],
   "source": [
    "datos_prestador = querydbtopandas(f\"\"\"select top 1\n",
    "       a13.id_pre_prestador,\n",
    "       a13.desc_pre_nombre,\n",
    "       Q.deno\n",
    "    from  DBA.d_pre_prestador        a13\n",
    "      JOIN  DBA.d_prof_convertir_especialidad a19  \n",
    "        ON  (a13.id_pre_especialidad  = a19.id_prof_especialidad)\n",
    "       LEFT JOIN dba.prestad_costo_centros E\n",
    "        ON a13.id_pre_prestador = E.prestad and E.baja_fecha is null and e.prepaga = ( select min(PCC1.prepaga) from dba.prestad_costo_centros PCC1 where PCC1.prestad =  e.prestad )   \n",
    "       LEFT JOIN dba.costo_centros Q\n",
    "        ON E.centro = Q.centro\n",
    "    where  a13.id_pre_prestador in ({prestador})\"\"\").values[0]\n",
    "\n",
    "nombre = datos_prestador[1]\n",
    "\n",
    "especialidad = datos_prestador[2]"
   ]
  },
  {
   "cell_type": "code",
   "execution_count": 3,
   "metadata": {},
   "outputs": [],
   "source": [
    "prestaciones_excluidas = pd.read_excel(\"prestaciones_excluidas.xlsx\",usecols = [\"prestac_pres_prestacion\"], dtype=str )[\"prestac_pres_prestacion\"].tolist()\n",
    "prestaciones_excluidas = str(prestaciones_excluidas).strip(\"[\").strip(\"]\")"
   ]
  },
  {
   "cell_type": "code",
   "execution_count": 4,
   "metadata": {},
   "outputs": [],
   "source": [
    "provincias_zonas = pd.read_csv(\"provincias_zonas.csv\")"
   ]
  },
  {
   "cell_type": "code",
   "execution_count": 5,
   "metadata": {},
   "outputs": [
    {
     "data": {
      "text/plain": [
       "array([  1,   2,   3,   4,   5, 100])"
      ]
     },
     "execution_count": 5,
     "metadata": {},
     "output_type": "execute_result"
    }
   ],
   "source": [
    "provincias_zonas.codigo_zona.unique()"
   ]
  },
  {
   "cell_type": "code",
   "execution_count": 6,
   "metadata": {},
   "outputs": [
    {
     "data": {
      "text/plain": [
       "Index(['codigo_zona', 'zona', 'provincia', 'codigo_provincia '], dtype='object')"
      ]
     },
     "execution_count": 6,
     "metadata": {},
     "output_type": "execute_result"
    }
   ],
   "source": [
    "provincias_zonas.columns"
   ]
  },
  {
   "cell_type": "code",
   "execution_count": 7,
   "metadata": {},
   "outputs": [
    {
     "data": {
      "text/plain": [
       "array([ 1,  3,  4,  5,  6,  7,  8,  9, 10, 11, 12, 13, 14, 15, 17, 18, 19,\n",
       "       20, 21, 22, 23, 24, 25,  2, 51, 52, 53, 54, 55, 56, 57, 58, 59, 60,\n",
       "       61, 62, 63, 64, 65, 66, 68])"
      ]
     },
     "execution_count": 7,
     "metadata": {},
     "output_type": "execute_result"
    }
   ],
   "source": [
    "provincias_zonas[\"codigo_provincia \"].unique()"
   ]
  },
  {
   "cell_type": "code",
   "execution_count": 8,
   "metadata": {},
   "outputs": [],
   "source": [
    "# clasificacion incorrecta del nomenclador\n",
    "# no oncluyen cientro prestadores\n",
    "zona = \"2,3,4,5\"\n",
    "provincia = \"1,2\""
   ]
  },
  {
   "cell_type": "code",
   "execution_count": 59,
   "metadata": {},
   "outputs": [],
   "source": [
    "menores = [\"2019-01-01\", \"2019-02-01\",\"2019-03-01\",\"2019-04-01\",\"2019-05-01\",\"2019-06-01\",\"2019-07-01\",\"2019-08-01\",\"2019-09-01\",\"2019-10-01\",\"2019-11-01\",\"2019-12-01\", \"2020-01-01\"]\n",
    "\n",
    "mayores = [\"2019-02-01\", \"2019-03-01\",\"2019-04-01\",\"2019-05-01\",\"2019-06-01\",\"2019-07-01\",\"2019-08-01\",\"2019-09-01\",\"2019-10-01\",\"2019-11-01\",\"2019-12-01\",\"2020-01-01\", \"2020-02-01\"]\n",
    "\n",
    "temporal_prestador = pd.DataFrame(columns= [\"consulta\"], data= ['Consultas - Q afiliados Médica', '2 consultas - Q afiliados', '3 consultas - Q afiliado',\n",
    "   '4 consultas - Q afiliados', 'Más de 4 - Q afiliados'])\n",
    "\n",
    "temporal_especialidad = pd.DataFrame(columns= [\"consulta\"], data= ['Consultas - Q afiliados Médica', '2 consultas - Q afiliados', '3 consultas - Q afiliado',\n",
    "   '4 consultas - Q afiliados', 'Más de 4 - Q afiliados'])\n",
    "\n",
    "#menor = str(datetime.datetime.today() - datetime.timedelta(days=104))[:10]\n",
    "#mayor = str(datetime.datetime.today() - datetime.timedelta(days=74))[:10]"
   ]
  },
  {
   "cell_type": "code",
   "execution_count": 137,
   "metadata": {},
   "outputs": [],
   "source": [
    "prestador = 117056"
   ]
  },
  {
   "cell_type": "code",
   "execution_count": 138,
   "metadata": {},
   "outputs": [],
   "source": [
    "especialidad = querydbtopandas(f\"\"\"select top 1\n",
    "       a13.id_pre_prestador,\n",
    "       a13.desc_pre_nombre,\n",
    "       Q.deno\n",
    "from  DBA.d_pre_prestador        a13\n",
    "      JOIN  DBA.d_prof_convertir_especialidad a19  \n",
    "        ON  (a13.id_pre_especialidad  = a19.id_prof_especialidad)\n",
    "       LEFT JOIN dba.prestad_costo_centros E\n",
    "        ON a13.id_pre_prestador = E.prestad and E.baja_fecha is null and e.prepaga = ( select min(PCC1.prepaga) from dba.prestad_costo_centros PCC1 where PCC1.prestad =  e.prestad )   \n",
    "       LEFT JOIN dba.costo_centros Q\n",
    "        ON E.centro = Q.centro\n",
    "where  a13.id_pre_prestador in ({prestador})\"\"\").values[0][2]\n",
    "especialidad = unidecode.unidecode(especialidad)"
   ]
  },
  {
   "cell_type": "code",
   "execution_count": 140,
   "metadata": {},
   "outputs": [
    {
     "data": {
      "text/plain": [
       "'Nefrologia'"
      ]
     },
     "execution_count": 140,
     "metadata": {},
     "output_type": "execute_result"
    }
   ],
   "source": [
    "especialidad "
   ]
  },
  {
   "cell_type": "code",
   "execution_count": 141,
   "metadata": {
    "scrolled": true
   },
   "outputs": [],
   "source": [
    "for i,j in zip(menores,mayores):\n",
    "    df = querydbtopandas(f\"\"\"select a11.id_pres_prestacion,\n",
    "       a16.prestac_pres_prestacion,\n",
    "       a11.id_pre_prestador,\n",
    "       a13.desc_pre_nombre,\n",
    "       a11.id_afi_afiliado ,  \n",
    "       Q.deno,\n",
    "       a11.id_tie_dia_consumo,   \n",
    "       FLOOR(DATEDIFF(year, a14.naci_fecha, a11.id_tie_dia_consumo)) edad_afiliado \n",
    "\n",
    "from        DBA.ft_ordenes        a11\n",
    "       join        DBA.d_pre_prestador        a13\n",
    "         on        (a11.id_pre_prestador = a13.id_pre_prestador)\n",
    "       join        DBA.afi_afiliados        a14\n",
    "         on        (a11.id_afi_afiliado = a14.id_afiliado)\n",
    "       join        DBA.d_pres_prestacion        a16\n",
    "         on        (a11.id_pres_prestacion = a16.id_pres_prestacion)     \n",
    "       join       DBA.d_prof_convertir_especialidad a19  \n",
    "        on         (a13.id_pre_especialidad  = a19.id_prof_especialidad)\n",
    "       LEFT JOIN dba.prestad_costo_centros E\n",
    "        ON a11.id_pre_prestador = E.prestad and E.baja_fecha is null and e.prepaga = ( select min(PCC1.prepaga) from dba.prestad_costo_centros PCC1 where PCC1.prestad =  e.prestad )   \n",
    "       LEFT JOIN dba.costo_centros Q\n",
    "        ON E.centro = Q.centro\n",
    "where        (a13.id_pre_tipo in ('E', 'P')            \n",
    "and a11.id_nom_nomenclador in (5)            \n",
    "and cast(id_tie_dia_consumo as date) >= date(\"{i}\") and cast(id_tie_dia_consumo as date) < date(\"{j}\")\n",
    "and a13.id_afi_zona in ({zona})\n",
    "and a13.id_afi_provincia in ({provincia})\n",
    "and Q.deno like \"%{especialidad}%\" \n",
    "and RTRIM(a16.prestac_pres_prestacion) not in ({prestaciones_excluidas}))\n",
    "group by a11.id_pres_prestacion,\n",
    "       a16.prestac_pres_prestacion,\n",
    "       a11.id_pre_prestador,\n",
    "       a13.desc_pre_nombre,\n",
    "       Q.deno,\n",
    "       a11.id_afi_afiliado,\n",
    "       a11.id_tie_dia_consumo,\n",
    "       edad_afiliado\"\"\")\n",
    "    \n",
    "    total_consultas_prestador = df[\"id_pre_prestador\"].value_counts()\n",
    "    mas_de_30_consultas = total_consultas_prestador[total_consultas_prestador >= 30].index\n",
    "\n",
    "    df = df[df[\"id_pre_prestador\"].isin(mas_de_30_consultas)]\n",
    "\n",
    "    reconsultas = df.groupby([\"id_pre_prestador\", \"desc_pre_nombre\", \"deno\", \"id_afi_afiliado\"])[\"id_afi_afiliado\"].count().rename(\"CANTIDADORDENES0\").reset_index()\n",
    "    reconsultas[\"uno\"] = 1\n",
    "\n",
    "    pivot_1 = pd.pivot_table(reconsultas, values='uno', index=['id_pre_prestador', \"desc_pre_nombre\", \"deno\"],\n",
    "                 columns=['CANTIDADORDENES0'], aggfunc=np.sum).fillna(0)\n",
    "\n",
    "    pivot_1[\"Más de 4 - Q afiliados\"] = pivot_1[pivot_1.columns.tolist()[4:]].sum(axis=1)\n",
    "\n",
    "    total_consultas_prestador = reconsultas.groupby([\"id_pre_prestador\",  \"desc_pre_nombre\", \"deno\"])[\"CANTIDADORDENES0\"].sum()\n",
    "    pivot = pd.concat([total_consultas_prestador, pivot_1],axis=1)\n",
    "    pivot.reset_index(inplace=True)\n",
    "    if 1 not in pivot.columns:\n",
    "        pivot[1] = 0\n",
    "    if 2 not in pivot.columns:\n",
    "        pivot[2] = 0\n",
    "    if 3 not in pivot.columns:\n",
    "        pivot[3] = 0\n",
    "    if 4 not in pivot.columns:\n",
    "        pivot[4] = 0\n",
    "    \n",
    "    pivot[\"Consultas - participación %\"] =  (pivot[1]/pivot[\"CANTIDADORDENES0\"])\n",
    "    pivot[\"2 consultas - participación %\"] =  ((pivot[2]*2)/pivot[\"CANTIDADORDENES0\"])\n",
    "    pivot[\"3 consultas - participación %\"] =  ((pivot[3]*3)/pivot[\"CANTIDADORDENES0\"])\n",
    "    pivot[\"4 consultas - participación %\"] =  ((pivot[4]*4)/pivot[\"CANTIDADORDENES0\"])\n",
    "    pivot[\"Participación %\"] = 1 - pivot[\"Consultas - participación %\"]\n",
    "    pivot[\"Más de 4 - participación %\"] = pivot[\"Participación %\"] - (pivot[\"2 consultas - participación %\"]+pivot[\"3 consultas - participación %\"]+pivot[\"4 consultas - participación %\"])\n",
    "\n",
    "    pivot.rename(columns= {1: \"Consultas - Q afiliados\", 2: \"2 consultas - Q afiliados\", 3: \"3 consultas - Q afiliados\", 4: \"4 consultas - Q afiliados\", \"desc_pre_nombre\": \"Razon social\",\n",
    "    \"deno\": \"Especialidad\",\"id_pre_prestador\": \"Prestador\", \"edad_afiliado\": \"Promedio edad de afiliados\", \"CANTIDADORDENES0\": \"Total Consultas\" },inplace=True)    \n",
    "    \n",
    "    tabla = pivot[['Prestador', 'Razon social', 'Especialidad',\n",
    "              'Consultas - participación %', '2 consultas - participación %',\n",
    "       '3 consultas - participación %', '4 consultas - participación %',\n",
    "                'Más de 4 - participación %']]\n",
    "    \n",
    "    if len(tabla[tabla[\"Prestador\"] == 218655]) ==0:\n",
    "        temporal_prestador[i] = 0\n",
    "        temporal_especialidad[i] = 0\n",
    "    else:\n",
    "        especialidad_prestador = tabla[tabla[\"Prestador\"] == 218655].values[0][2]\n",
    "        prestador = tabla[tabla[\"Prestador\"] == 218655].iloc[:,3:]\n",
    "        temporal_prestador[i] = prestador.T.values\n",
    "        temporal_especialidad[i] = tabla[tabla[\"Especialidad\"] == especialidad_prestador].iloc[:,3:].mean(axis=0).values\n",
    "   "
   ]
  },
  {
   "cell_type": "code",
   "execution_count": 144,
   "metadata": {},
   "outputs": [],
   "source": [
    "temporal_prestador = temporal_prestador.melt(id_vars=\"consulta\", value_vars=['2019-01-01', '2019-02-01', '2019-03-01', '2019-04-01',\n",
    "       '2019-05-01', '2019-06-01', '2019-07-01', '2019-08-01', '2019-09-01',\n",
    "       '2019-10-01', '2019-11-01', '2019-12-01', '2020-01-01'])\n",
    "temporal_prestador[\"tipo\"] = \"prestador\"\n",
    "\n",
    "temporal_especialidad = temporal_especialidad.melt(id_vars=\"consulta\",  value_vars=['2019-01-01', '2019-02-01', '2019-03-01', '2019-04-01',\n",
    "       '2019-05-01', '2019-06-01', '2019-07-01', '2019-08-01', '2019-09-01',\n",
    "       '2019-10-01', '2019-11-01', '2019-12-01', '2020-01-01'])\n",
    "temporal_especialidad[\"tipo\"] = \"especialidad\""
   ]
  },
  {
   "cell_type": "code",
   "execution_count": 145,
   "metadata": {},
   "outputs": [],
   "source": [
    "final = pd.concat([temporal_especialidad,temporal_prestador])\n",
    "final = final.round(2)"
   ]
  },
  {
   "cell_type": "code",
   "execution_count": 146,
   "metadata": {
    "scrolled": true
   },
   "outputs": [],
   "source": [
    "di = {\"Consultas - Q afiliados Médica\": \"Porcentaje de afiliados con consultas únicas\", \n",
    "     \"2 consultas - Q afiliados\": \"Porcentaje de afiliados con 2 consultas\",\n",
    "     \"3 consultas - Q afiliado\": \"Porcentaje de afiliados con 3 consultas\", \n",
    "     \"4 consultas - Q afiliados\": \"Porcentaje de afiliados con 4 consultas\",\n",
    "     \"Más de 4 - Q afiliados\": \"Porcentaje de afiliados con más de 4 consultas\"}\n",
    "final = final.replace({\"consulta\": di})"
   ]
  },
  {
   "cell_type": "code",
   "execution_count": 147,
   "metadata": {},
   "outputs": [],
   "source": [
    "final = final.rename(columns={\"value\": \"Participación mensual\"})"
   ]
  },
  {
   "cell_type": "code",
   "execution_count": 148,
   "metadata": {},
   "outputs": [],
   "source": [
    "import plotly.express as px"
   ]
  },
  {
   "cell_type": "code",
   "execution_count": 220,
   "metadata": {
    "scrolled": false
   },
   "outputs": [
    {
     "data": {
      "application/vnd.plotly.v1+json": {
       "config": {
        "plotlyServerURL": "https://plot.ly"
       },
       "data": [
        {
         "alignmentgroup": "True",
         "hovertemplate": "consulta=Porcentaje de afiliados con consultas únicas<br>variable=2019-01-01<br>tipo=%{x}<br>Participación mensual=%{y}<extra></extra>",
         "legendgroup": "Porcentaje de afiliados con consultas únicas",
         "marker": {
          "color": "#45b6fe"
         },
         "name": "Porcentaje de afiliados con consultas únicas",
         "offsetgroup": "Porcentaje de afiliados con consultas únicas",
         "orientation": "v",
         "showlegend": true,
         "textposition": "auto",
         "type": "bar",
         "x": [
          "especialidad",
          "prestador"
         ],
         "xaxis": "x",
         "y": [
          0.74,
          0.88
         ],
         "yaxis": "y"
        },
        {
         "alignmentgroup": "True",
         "hovertemplate": "consulta=Porcentaje de afiliados con consultas únicas<br>variable=2019-02-01<br>tipo=%{x}<br>Participación mensual=%{y}<extra></extra>",
         "legendgroup": "Porcentaje de afiliados con consultas únicas",
         "marker": {
          "color": "#45b6fe"
         },
         "name": "Porcentaje de afiliados con consultas únicas",
         "offsetgroup": "Porcentaje de afiliados con consultas únicas",
         "orientation": "v",
         "showlegend": false,
         "textposition": "auto",
         "type": "bar",
         "x": [
          "especialidad",
          "prestador"
         ],
         "xaxis": "x2",
         "y": [
          0.89,
          0.88
         ],
         "yaxis": "y2"
        },
        {
         "alignmentgroup": "True",
         "hovertemplate": "consulta=Porcentaje de afiliados con consultas únicas<br>variable=2019-03-01<br>tipo=%{x}<br>Participación mensual=%{y}<extra></extra>",
         "legendgroup": "Porcentaje de afiliados con consultas únicas",
         "marker": {
          "color": "#45b6fe"
         },
         "name": "Porcentaje de afiliados con consultas únicas",
         "offsetgroup": "Porcentaje de afiliados con consultas únicas",
         "orientation": "v",
         "showlegend": false,
         "textposition": "auto",
         "type": "bar",
         "x": [
          "especialidad",
          "prestador"
         ],
         "xaxis": "x3",
         "y": [
          0,
          0
         ],
         "yaxis": "y3"
        },
        {
         "alignmentgroup": "True",
         "hovertemplate": "consulta=Porcentaje de afiliados con consultas únicas<br>variable=2019-04-01<br>tipo=%{x}<br>Participación mensual=%{y}<extra></extra>",
         "legendgroup": "Porcentaje de afiliados con consultas únicas",
         "marker": {
          "color": "#45b6fe"
         },
         "name": "Porcentaje de afiliados con consultas únicas",
         "offsetgroup": "Porcentaje de afiliados con consultas únicas",
         "orientation": "v",
         "showlegend": false,
         "textposition": "auto",
         "type": "bar",
         "x": [
          "especialidad",
          "prestador"
         ],
         "xaxis": "x4",
         "y": [
          0,
          0
         ],
         "yaxis": "y4"
        },
        {
         "alignmentgroup": "True",
         "hovertemplate": "consulta=Porcentaje de afiliados con consultas únicas<br>variable=2019-05-01<br>tipo=%{x}<br>Participación mensual=%{y}<extra></extra>",
         "legendgroup": "Porcentaje de afiliados con consultas únicas",
         "marker": {
          "color": "#45b6fe"
         },
         "name": "Porcentaje de afiliados con consultas únicas",
         "offsetgroup": "Porcentaje de afiliados con consultas únicas",
         "orientation": "v",
         "showlegend": false,
         "textposition": "auto",
         "type": "bar",
         "x": [
          "especialidad",
          "prestador"
         ],
         "xaxis": "x5",
         "y": [
          0.75,
          0.6
         ],
         "yaxis": "y5"
        },
        {
         "alignmentgroup": "True",
         "hovertemplate": "consulta=Porcentaje de afiliados con consultas únicas<br>variable=2019-06-01<br>tipo=%{x}<br>Participación mensual=%{y}<extra></extra>",
         "legendgroup": "Porcentaje de afiliados con consultas únicas",
         "marker": {
          "color": "#45b6fe"
         },
         "name": "Porcentaje de afiliados con consultas únicas",
         "offsetgroup": "Porcentaje de afiliados con consultas únicas",
         "orientation": "v",
         "showlegend": false,
         "textposition": "auto",
         "type": "bar",
         "x": [
          "especialidad",
          "prestador"
         ],
         "xaxis": "x6",
         "y": [
          0,
          0
         ],
         "yaxis": "y6"
        },
        {
         "alignmentgroup": "True",
         "hovertemplate": "consulta=Porcentaje de afiliados con consultas únicas<br>variable=2019-07-01<br>tipo=%{x}<br>Participación mensual=%{y}<extra></extra>",
         "legendgroup": "Porcentaje de afiliados con consultas únicas",
         "marker": {
          "color": "#45b6fe"
         },
         "name": "Porcentaje de afiliados con consultas únicas",
         "offsetgroup": "Porcentaje de afiliados con consultas únicas",
         "orientation": "v",
         "showlegend": false,
         "textposition": "auto",
         "type": "bar",
         "x": [
          "especialidad",
          "prestador"
         ],
         "xaxis": "x7",
         "y": [
          0.77,
          0.88
         ],
         "yaxis": "y7"
        },
        {
         "alignmentgroup": "True",
         "hovertemplate": "consulta=Porcentaje de afiliados con consultas únicas<br>variable=2019-08-01<br>tipo=%{x}<br>Participación mensual=%{y}<extra></extra>",
         "legendgroup": "Porcentaje de afiliados con consultas únicas",
         "marker": {
          "color": "#45b6fe"
         },
         "name": "Porcentaje de afiliados con consultas únicas",
         "offsetgroup": "Porcentaje de afiliados con consultas únicas",
         "orientation": "v",
         "showlegend": false,
         "textposition": "auto",
         "type": "bar",
         "x": [
          "especialidad",
          "prestador"
         ],
         "xaxis": "x8",
         "y": [
          0.75,
          0.8
         ],
         "yaxis": "y8"
        },
        {
         "alignmentgroup": "True",
         "hovertemplate": "consulta=Porcentaje de afiliados con consultas únicas<br>variable=2019-09-01<br>tipo=%{x}<br>Participación mensual=%{y}<extra></extra>",
         "legendgroup": "Porcentaje de afiliados con consultas únicas",
         "marker": {
          "color": "#45b6fe"
         },
         "name": "Porcentaje de afiliados con consultas únicas",
         "offsetgroup": "Porcentaje de afiliados con consultas únicas",
         "orientation": "v",
         "showlegend": false,
         "textposition": "auto",
         "type": "bar",
         "x": [
          "especialidad",
          "prestador"
         ],
         "xaxis": "x9",
         "y": [
          0.73,
          0.78
         ],
         "yaxis": "y9"
        },
        {
         "alignmentgroup": "True",
         "hovertemplate": "consulta=Porcentaje de afiliados con consultas únicas<br>variable=2019-10-01<br>tipo=%{x}<br>Participación mensual=%{y}<extra></extra>",
         "legendgroup": "Porcentaje de afiliados con consultas únicas",
         "marker": {
          "color": "#45b6fe"
         },
         "name": "Porcentaje de afiliados con consultas únicas",
         "offsetgroup": "Porcentaje de afiliados con consultas únicas",
         "orientation": "v",
         "showlegend": false,
         "textposition": "auto",
         "type": "bar",
         "x": [
          "especialidad",
          "prestador"
         ],
         "xaxis": "x10",
         "y": [
          0.74,
          0.82
         ],
         "yaxis": "y10"
        },
        {
         "alignmentgroup": "True",
         "hovertemplate": "consulta=Porcentaje de afiliados con consultas únicas<br>variable=2019-11-01<br>tipo=%{x}<br>Participación mensual=%{y}<extra></extra>",
         "legendgroup": "Porcentaje de afiliados con consultas únicas",
         "marker": {
          "color": "#45b6fe"
         },
         "name": "Porcentaje de afiliados con consultas únicas",
         "offsetgroup": "Porcentaje de afiliados con consultas únicas",
         "orientation": "v",
         "showlegend": false,
         "textposition": "auto",
         "type": "bar",
         "x": [
          "especialidad",
          "prestador"
         ],
         "xaxis": "x11",
         "y": [
          0,
          0
         ],
         "yaxis": "y11"
        },
        {
         "alignmentgroup": "True",
         "hovertemplate": "consulta=Porcentaje de afiliados con consultas únicas<br>variable=2019-12-01<br>tipo=%{x}<br>Participación mensual=%{y}<extra></extra>",
         "legendgroup": "Porcentaje de afiliados con consultas únicas",
         "marker": {
          "color": "#45b6fe"
         },
         "name": "Porcentaje de afiliados con consultas únicas",
         "offsetgroup": "Porcentaje de afiliados con consultas únicas",
         "orientation": "v",
         "showlegend": false,
         "textposition": "auto",
         "type": "bar",
         "x": [
          "especialidad",
          "prestador"
         ],
         "xaxis": "x12",
         "y": [
          0,
          0
         ],
         "yaxis": "y12"
        },
        {
         "alignmentgroup": "True",
         "hovertemplate": "consulta=Porcentaje de afiliados con consultas únicas<br>variable=2020-01-01<br>tipo=%{x}<br>Participación mensual=%{y}<extra></extra>",
         "legendgroup": "Porcentaje de afiliados con consultas únicas",
         "marker": {
          "color": "#45b6fe"
         },
         "name": "Porcentaje de afiliados con consultas únicas",
         "offsetgroup": "Porcentaje de afiliados con consultas únicas",
         "orientation": "v",
         "showlegend": false,
         "textposition": "auto",
         "type": "bar",
         "x": [
          "especialidad",
          "prestador"
         ],
         "xaxis": "x13",
         "y": [
          0.78,
          0.74
         ],
         "yaxis": "y13"
        },
        {
         "alignmentgroup": "True",
         "hovertemplate": "consulta=Porcentaje de afiliados con 2 consultas<br>variable=2019-01-01<br>tipo=%{x}<br>Participación mensual=%{y}<extra></extra>",
         "legendgroup": "Porcentaje de afiliados con 2 consultas",
         "marker": {
          "color": "#3792cb"
         },
         "name": "Porcentaje de afiliados con 2 consultas",
         "offsetgroup": "Porcentaje de afiliados con 2 consultas",
         "orientation": "v",
         "showlegend": true,
         "textposition": "auto",
         "type": "bar",
         "x": [
          "especialidad",
          "prestador"
         ],
         "xaxis": "x",
         "y": [
          0.18,
          0.12
         ],
         "yaxis": "y"
        },
        {
         "alignmentgroup": "True",
         "hovertemplate": "consulta=Porcentaje de afiliados con 2 consultas<br>variable=2019-02-01<br>tipo=%{x}<br>Participación mensual=%{y}<extra></extra>",
         "legendgroup": "Porcentaje de afiliados con 2 consultas",
         "marker": {
          "color": "#3792cb"
         },
         "name": "Porcentaje de afiliados con 2 consultas",
         "offsetgroup": "Porcentaje de afiliados con 2 consultas",
         "orientation": "v",
         "showlegend": false,
         "textposition": "auto",
         "type": "bar",
         "x": [
          "especialidad",
          "prestador"
         ],
         "xaxis": "x2",
         "y": [
          0.11,
          0.12
         ],
         "yaxis": "y2"
        },
        {
         "alignmentgroup": "True",
         "hovertemplate": "consulta=Porcentaje de afiliados con 2 consultas<br>variable=2019-03-01<br>tipo=%{x}<br>Participación mensual=%{y}<extra></extra>",
         "legendgroup": "Porcentaje de afiliados con 2 consultas",
         "marker": {
          "color": "#3792cb"
         },
         "name": "Porcentaje de afiliados con 2 consultas",
         "offsetgroup": "Porcentaje de afiliados con 2 consultas",
         "orientation": "v",
         "showlegend": false,
         "textposition": "auto",
         "type": "bar",
         "x": [
          "especialidad",
          "prestador"
         ],
         "xaxis": "x3",
         "y": [
          0,
          0
         ],
         "yaxis": "y3"
        },
        {
         "alignmentgroup": "True",
         "hovertemplate": "consulta=Porcentaje de afiliados con 2 consultas<br>variable=2019-04-01<br>tipo=%{x}<br>Participación mensual=%{y}<extra></extra>",
         "legendgroup": "Porcentaje de afiliados con 2 consultas",
         "marker": {
          "color": "#3792cb"
         },
         "name": "Porcentaje de afiliados con 2 consultas",
         "offsetgroup": "Porcentaje de afiliados con 2 consultas",
         "orientation": "v",
         "showlegend": false,
         "textposition": "auto",
         "type": "bar",
         "x": [
          "especialidad",
          "prestador"
         ],
         "xaxis": "x4",
         "y": [
          0,
          0
         ],
         "yaxis": "y4"
        },
        {
         "alignmentgroup": "True",
         "hovertemplate": "consulta=Porcentaje de afiliados con 2 consultas<br>variable=2019-05-01<br>tipo=%{x}<br>Participación mensual=%{y}<extra></extra>",
         "legendgroup": "Porcentaje de afiliados con 2 consultas",
         "marker": {
          "color": "#3792cb"
         },
         "name": "Porcentaje de afiliados con 2 consultas",
         "offsetgroup": "Porcentaje de afiliados con 2 consultas",
         "orientation": "v",
         "showlegend": false,
         "textposition": "auto",
         "type": "bar",
         "x": [
          "especialidad",
          "prestador"
         ],
         "xaxis": "x5",
         "y": [
          0.21,
          0.33
         ],
         "yaxis": "y5"
        },
        {
         "alignmentgroup": "True",
         "hovertemplate": "consulta=Porcentaje de afiliados con 2 consultas<br>variable=2019-06-01<br>tipo=%{x}<br>Participación mensual=%{y}<extra></extra>",
         "legendgroup": "Porcentaje de afiliados con 2 consultas",
         "marker": {
          "color": "#3792cb"
         },
         "name": "Porcentaje de afiliados con 2 consultas",
         "offsetgroup": "Porcentaje de afiliados con 2 consultas",
         "orientation": "v",
         "showlegend": false,
         "textposition": "auto",
         "type": "bar",
         "x": [
          "especialidad",
          "prestador"
         ],
         "xaxis": "x6",
         "y": [
          0,
          0
         ],
         "yaxis": "y6"
        },
        {
         "alignmentgroup": "True",
         "hovertemplate": "consulta=Porcentaje de afiliados con 2 consultas<br>variable=2019-07-01<br>tipo=%{x}<br>Participación mensual=%{y}<extra></extra>",
         "legendgroup": "Porcentaje de afiliados con 2 consultas",
         "marker": {
          "color": "#3792cb"
         },
         "name": "Porcentaje de afiliados con 2 consultas",
         "offsetgroup": "Porcentaje de afiliados con 2 consultas",
         "orientation": "v",
         "showlegend": false,
         "textposition": "auto",
         "type": "bar",
         "x": [
          "especialidad",
          "prestador"
         ],
         "xaxis": "x7",
         "y": [
          0.16,
          0.05
         ],
         "yaxis": "y7"
        },
        {
         "alignmentgroup": "True",
         "hovertemplate": "consulta=Porcentaje de afiliados con 2 consultas<br>variable=2019-08-01<br>tipo=%{x}<br>Participación mensual=%{y}<extra></extra>",
         "legendgroup": "Porcentaje de afiliados con 2 consultas",
         "marker": {
          "color": "#3792cb"
         },
         "name": "Porcentaje de afiliados con 2 consultas",
         "offsetgroup": "Porcentaje de afiliados con 2 consultas",
         "orientation": "v",
         "showlegend": false,
         "textposition": "auto",
         "type": "bar",
         "x": [
          "especialidad",
          "prestador"
         ],
         "xaxis": "x8",
         "y": [
          0.17,
          0.11
         ],
         "yaxis": "y8"
        },
        {
         "alignmentgroup": "True",
         "hovertemplate": "consulta=Porcentaje de afiliados con 2 consultas<br>variable=2019-09-01<br>tipo=%{x}<br>Participación mensual=%{y}<extra></extra>",
         "legendgroup": "Porcentaje de afiliados con 2 consultas",
         "marker": {
          "color": "#3792cb"
         },
         "name": "Porcentaje de afiliados con 2 consultas",
         "offsetgroup": "Porcentaje de afiliados con 2 consultas",
         "orientation": "v",
         "showlegend": false,
         "textposition": "auto",
         "type": "bar",
         "x": [
          "especialidad",
          "prestador"
         ],
         "xaxis": "x9",
         "y": [
          0.23,
          0.22
         ],
         "yaxis": "y9"
        },
        {
         "alignmentgroup": "True",
         "hovertemplate": "consulta=Porcentaje de afiliados con 2 consultas<br>variable=2019-10-01<br>tipo=%{x}<br>Participación mensual=%{y}<extra></extra>",
         "legendgroup": "Porcentaje de afiliados con 2 consultas",
         "marker": {
          "color": "#3792cb"
         },
         "name": "Porcentaje de afiliados con 2 consultas",
         "offsetgroup": "Porcentaje de afiliados con 2 consultas",
         "orientation": "v",
         "showlegend": false,
         "textposition": "auto",
         "type": "bar",
         "x": [
          "especialidad",
          "prestador"
         ],
         "xaxis": "x10",
         "y": [
          0.17,
          0.13
         ],
         "yaxis": "y10"
        },
        {
         "alignmentgroup": "True",
         "hovertemplate": "consulta=Porcentaje de afiliados con 2 consultas<br>variable=2019-11-01<br>tipo=%{x}<br>Participación mensual=%{y}<extra></extra>",
         "legendgroup": "Porcentaje de afiliados con 2 consultas",
         "marker": {
          "color": "#3792cb"
         },
         "name": "Porcentaje de afiliados con 2 consultas",
         "offsetgroup": "Porcentaje de afiliados con 2 consultas",
         "orientation": "v",
         "showlegend": false,
         "textposition": "auto",
         "type": "bar",
         "x": [
          "especialidad",
          "prestador"
         ],
         "xaxis": "x11",
         "y": [
          0,
          0
         ],
         "yaxis": "y11"
        },
        {
         "alignmentgroup": "True",
         "hovertemplate": "consulta=Porcentaje de afiliados con 2 consultas<br>variable=2019-12-01<br>tipo=%{x}<br>Participación mensual=%{y}<extra></extra>",
         "legendgroup": "Porcentaje de afiliados con 2 consultas",
         "marker": {
          "color": "#3792cb"
         },
         "name": "Porcentaje de afiliados con 2 consultas",
         "offsetgroup": "Porcentaje de afiliados con 2 consultas",
         "orientation": "v",
         "showlegend": false,
         "textposition": "auto",
         "type": "bar",
         "x": [
          "especialidad",
          "prestador"
         ],
         "xaxis": "x12",
         "y": [
          0,
          0
         ],
         "yaxis": "y12"
        },
        {
         "alignmentgroup": "True",
         "hovertemplate": "consulta=Porcentaje de afiliados con 2 consultas<br>variable=2020-01-01<br>tipo=%{x}<br>Participación mensual=%{y}<extra></extra>",
         "legendgroup": "Porcentaje de afiliados con 2 consultas",
         "marker": {
          "color": "#3792cb"
         },
         "name": "Porcentaje de afiliados con 2 consultas",
         "offsetgroup": "Porcentaje de afiliados con 2 consultas",
         "orientation": "v",
         "showlegend": false,
         "textposition": "auto",
         "type": "bar",
         "x": [
          "especialidad",
          "prestador"
         ],
         "xaxis": "x13",
         "y": [
          0.19,
          0.12
         ],
         "yaxis": "y13"
        },
        {
         "alignmentgroup": "True",
         "hovertemplate": "consulta=Porcentaje de afiliados con 3 consultas<br>variable=2019-01-01<br>tipo=%{x}<br>Participación mensual=%{y}<extra></extra>",
         "legendgroup": "Porcentaje de afiliados con 3 consultas",
         "marker": {
          "color": "#296d98"
         },
         "name": "Porcentaje de afiliados con 3 consultas",
         "offsetgroup": "Porcentaje de afiliados con 3 consultas",
         "orientation": "v",
         "showlegend": true,
         "textposition": "auto",
         "type": "bar",
         "x": [
          "especialidad",
          "prestador"
         ],
         "xaxis": "x",
         "y": [
          0.06,
          0
         ],
         "yaxis": "y"
        },
        {
         "alignmentgroup": "True",
         "hovertemplate": "consulta=Porcentaje de afiliados con 3 consultas<br>variable=2019-02-01<br>tipo=%{x}<br>Participación mensual=%{y}<extra></extra>",
         "legendgroup": "Porcentaje de afiliados con 3 consultas",
         "marker": {
          "color": "#296d98"
         },
         "name": "Porcentaje de afiliados con 3 consultas",
         "offsetgroup": "Porcentaje de afiliados con 3 consultas",
         "orientation": "v",
         "showlegend": false,
         "textposition": "auto",
         "type": "bar",
         "x": [
          "especialidad",
          "prestador"
         ],
         "xaxis": "x2",
         "y": [
          0.01,
          0
         ],
         "yaxis": "y2"
        },
        {
         "alignmentgroup": "True",
         "hovertemplate": "consulta=Porcentaje de afiliados con 3 consultas<br>variable=2019-03-01<br>tipo=%{x}<br>Participación mensual=%{y}<extra></extra>",
         "legendgroup": "Porcentaje de afiliados con 3 consultas",
         "marker": {
          "color": "#296d98"
         },
         "name": "Porcentaje de afiliados con 3 consultas",
         "offsetgroup": "Porcentaje de afiliados con 3 consultas",
         "orientation": "v",
         "showlegend": false,
         "textposition": "auto",
         "type": "bar",
         "x": [
          "especialidad",
          "prestador"
         ],
         "xaxis": "x3",
         "y": [
          0,
          0
         ],
         "yaxis": "y3"
        },
        {
         "alignmentgroup": "True",
         "hovertemplate": "consulta=Porcentaje de afiliados con 3 consultas<br>variable=2019-04-01<br>tipo=%{x}<br>Participación mensual=%{y}<extra></extra>",
         "legendgroup": "Porcentaje de afiliados con 3 consultas",
         "marker": {
          "color": "#296d98"
         },
         "name": "Porcentaje de afiliados con 3 consultas",
         "offsetgroup": "Porcentaje de afiliados con 3 consultas",
         "orientation": "v",
         "showlegend": false,
         "textposition": "auto",
         "type": "bar",
         "x": [
          "especialidad",
          "prestador"
         ],
         "xaxis": "x4",
         "y": [
          0,
          0
         ],
         "yaxis": "y4"
        },
        {
         "alignmentgroup": "True",
         "hovertemplate": "consulta=Porcentaje de afiliados con 3 consultas<br>variable=2019-05-01<br>tipo=%{x}<br>Participación mensual=%{y}<extra></extra>",
         "legendgroup": "Porcentaje de afiliados con 3 consultas",
         "marker": {
          "color": "#296d98"
         },
         "name": "Porcentaje de afiliados con 3 consultas",
         "offsetgroup": "Porcentaje de afiliados con 3 consultas",
         "orientation": "v",
         "showlegend": false,
         "textposition": "auto",
         "type": "bar",
         "x": [
          "especialidad",
          "prestador"
         ],
         "xaxis": "x5",
         "y": [
          0.04,
          0.07
         ],
         "yaxis": "y5"
        },
        {
         "alignmentgroup": "True",
         "hovertemplate": "consulta=Porcentaje de afiliados con 3 consultas<br>variable=2019-06-01<br>tipo=%{x}<br>Participación mensual=%{y}<extra></extra>",
         "legendgroup": "Porcentaje de afiliados con 3 consultas",
         "marker": {
          "color": "#296d98"
         },
         "name": "Porcentaje de afiliados con 3 consultas",
         "offsetgroup": "Porcentaje de afiliados con 3 consultas",
         "orientation": "v",
         "showlegend": false,
         "textposition": "auto",
         "type": "bar",
         "x": [
          "especialidad",
          "prestador"
         ],
         "xaxis": "x6",
         "y": [
          0,
          0
         ],
         "yaxis": "y6"
        },
        {
         "alignmentgroup": "True",
         "hovertemplate": "consulta=Porcentaje de afiliados con 3 consultas<br>variable=2019-07-01<br>tipo=%{x}<br>Participación mensual=%{y}<extra></extra>",
         "legendgroup": "Porcentaje de afiliados con 3 consultas",
         "marker": {
          "color": "#296d98"
         },
         "name": "Porcentaje de afiliados con 3 consultas",
         "offsetgroup": "Porcentaje de afiliados con 3 consultas",
         "orientation": "v",
         "showlegend": false,
         "textposition": "auto",
         "type": "bar",
         "x": [
          "especialidad",
          "prestador"
         ],
         "xaxis": "x7",
         "y": [
          0.06,
          0.07
         ],
         "yaxis": "y7"
        },
        {
         "alignmentgroup": "True",
         "hovertemplate": "consulta=Porcentaje de afiliados con 3 consultas<br>variable=2019-08-01<br>tipo=%{x}<br>Participación mensual=%{y}<extra></extra>",
         "legendgroup": "Porcentaje de afiliados con 3 consultas",
         "marker": {
          "color": "#296d98"
         },
         "name": "Porcentaje de afiliados con 3 consultas",
         "offsetgroup": "Porcentaje de afiliados con 3 consultas",
         "orientation": "v",
         "showlegend": false,
         "textposition": "auto",
         "type": "bar",
         "x": [
          "especialidad",
          "prestador"
         ],
         "xaxis": "x8",
         "y": [
          0.08,
          0.09
         ],
         "yaxis": "y8"
        },
        {
         "alignmentgroup": "True",
         "hovertemplate": "consulta=Porcentaje de afiliados con 3 consultas<br>variable=2019-09-01<br>tipo=%{x}<br>Participación mensual=%{y}<extra></extra>",
         "legendgroup": "Porcentaje de afiliados con 3 consultas",
         "marker": {
          "color": "#296d98"
         },
         "name": "Porcentaje de afiliados con 3 consultas",
         "offsetgroup": "Porcentaje de afiliados con 3 consultas",
         "orientation": "v",
         "showlegend": false,
         "textposition": "auto",
         "type": "bar",
         "x": [
          "especialidad",
          "prestador"
         ],
         "xaxis": "x9",
         "y": [
          0.03,
          0
         ],
         "yaxis": "y9"
        },
        {
         "alignmentgroup": "True",
         "hovertemplate": "consulta=Porcentaje de afiliados con 3 consultas<br>variable=2019-10-01<br>tipo=%{x}<br>Participación mensual=%{y}<extra></extra>",
         "legendgroup": "Porcentaje de afiliados con 3 consultas",
         "marker": {
          "color": "#296d98"
         },
         "name": "Porcentaje de afiliados con 3 consultas",
         "offsetgroup": "Porcentaje de afiliados con 3 consultas",
         "orientation": "v",
         "showlegend": false,
         "textposition": "auto",
         "type": "bar",
         "x": [
          "especialidad",
          "prestador"
         ],
         "xaxis": "x10",
         "y": [
          0.06,
          0.05
         ],
         "yaxis": "y10"
        },
        {
         "alignmentgroup": "True",
         "hovertemplate": "consulta=Porcentaje de afiliados con 3 consultas<br>variable=2019-11-01<br>tipo=%{x}<br>Participación mensual=%{y}<extra></extra>",
         "legendgroup": "Porcentaje de afiliados con 3 consultas",
         "marker": {
          "color": "#296d98"
         },
         "name": "Porcentaje de afiliados con 3 consultas",
         "offsetgroup": "Porcentaje de afiliados con 3 consultas",
         "orientation": "v",
         "showlegend": false,
         "textposition": "auto",
         "type": "bar",
         "x": [
          "especialidad",
          "prestador"
         ],
         "xaxis": "x11",
         "y": [
          0,
          0
         ],
         "yaxis": "y11"
        },
        {
         "alignmentgroup": "True",
         "hovertemplate": "consulta=Porcentaje de afiliados con 3 consultas<br>variable=2019-12-01<br>tipo=%{x}<br>Participación mensual=%{y}<extra></extra>",
         "legendgroup": "Porcentaje de afiliados con 3 consultas",
         "marker": {
          "color": "#296d98"
         },
         "name": "Porcentaje de afiliados con 3 consultas",
         "offsetgroup": "Porcentaje de afiliados con 3 consultas",
         "orientation": "v",
         "showlegend": false,
         "textposition": "auto",
         "type": "bar",
         "x": [
          "especialidad",
          "prestador"
         ],
         "xaxis": "x12",
         "y": [
          0,
          0
         ],
         "yaxis": "y12"
        },
        {
         "alignmentgroup": "True",
         "hovertemplate": "consulta=Porcentaje de afiliados con 3 consultas<br>variable=2020-01-01<br>tipo=%{x}<br>Participación mensual=%{y}<extra></extra>",
         "legendgroup": "Porcentaje de afiliados con 3 consultas",
         "marker": {
          "color": "#296d98"
         },
         "name": "Porcentaje de afiliados con 3 consultas",
         "offsetgroup": "Porcentaje de afiliados con 3 consultas",
         "orientation": "v",
         "showlegend": false,
         "textposition": "auto",
         "type": "bar",
         "x": [
          "especialidad",
          "prestador"
         ],
         "xaxis": "x13",
         "y": [
          0.02,
          0.06
         ],
         "yaxis": "y13"
        },
        {
         "alignmentgroup": "True",
         "hovertemplate": "consulta=Porcentaje de afiliados con 4 consultas<br>variable=2019-01-01<br>tipo=%{x}<br>Participación mensual=%{y}<extra></extra>",
         "legendgroup": "Porcentaje de afiliados con 4 consultas",
         "marker": {
          "color": "#1c4966"
         },
         "name": "Porcentaje de afiliados con 4 consultas",
         "offsetgroup": "Porcentaje de afiliados con 4 consultas",
         "orientation": "v",
         "showlegend": true,
         "textposition": "auto",
         "type": "bar",
         "x": [
          "especialidad",
          "prestador"
         ],
         "xaxis": "x",
         "y": [
          0.02,
          0
         ],
         "yaxis": "y"
        },
        {
         "alignmentgroup": "True",
         "hovertemplate": "consulta=Porcentaje de afiliados con 4 consultas<br>variable=2019-02-01<br>tipo=%{x}<br>Participación mensual=%{y}<extra></extra>",
         "legendgroup": "Porcentaje de afiliados con 4 consultas",
         "marker": {
          "color": "#1c4966"
         },
         "name": "Porcentaje de afiliados con 4 consultas",
         "offsetgroup": "Porcentaje de afiliados con 4 consultas",
         "orientation": "v",
         "showlegend": false,
         "textposition": "auto",
         "type": "bar",
         "x": [
          "especialidad",
          "prestador"
         ],
         "xaxis": "x2",
         "y": [
          0,
          0
         ],
         "yaxis": "y2"
        },
        {
         "alignmentgroup": "True",
         "hovertemplate": "consulta=Porcentaje de afiliados con 4 consultas<br>variable=2019-03-01<br>tipo=%{x}<br>Participación mensual=%{y}<extra></extra>",
         "legendgroup": "Porcentaje de afiliados con 4 consultas",
         "marker": {
          "color": "#1c4966"
         },
         "name": "Porcentaje de afiliados con 4 consultas",
         "offsetgroup": "Porcentaje de afiliados con 4 consultas",
         "orientation": "v",
         "showlegend": false,
         "textposition": "auto",
         "type": "bar",
         "x": [
          "especialidad",
          "prestador"
         ],
         "xaxis": "x3",
         "y": [
          0,
          0
         ],
         "yaxis": "y3"
        },
        {
         "alignmentgroup": "True",
         "hovertemplate": "consulta=Porcentaje de afiliados con 4 consultas<br>variable=2019-04-01<br>tipo=%{x}<br>Participación mensual=%{y}<extra></extra>",
         "legendgroup": "Porcentaje de afiliados con 4 consultas",
         "marker": {
          "color": "#1c4966"
         },
         "name": "Porcentaje de afiliados con 4 consultas",
         "offsetgroup": "Porcentaje de afiliados con 4 consultas",
         "orientation": "v",
         "showlegend": false,
         "textposition": "auto",
         "type": "bar",
         "x": [
          "especialidad",
          "prestador"
         ],
         "xaxis": "x4",
         "y": [
          0,
          0
         ],
         "yaxis": "y4"
        },
        {
         "alignmentgroup": "True",
         "hovertemplate": "consulta=Porcentaje de afiliados con 4 consultas<br>variable=2019-05-01<br>tipo=%{x}<br>Participación mensual=%{y}<extra></extra>",
         "legendgroup": "Porcentaje de afiliados con 4 consultas",
         "marker": {
          "color": "#1c4966"
         },
         "name": "Porcentaje de afiliados con 4 consultas",
         "offsetgroup": "Porcentaje de afiliados con 4 consultas",
         "orientation": "v",
         "showlegend": false,
         "textposition": "auto",
         "type": "bar",
         "x": [
          "especialidad",
          "prestador"
         ],
         "xaxis": "x5",
         "y": [
          0,
          0
         ],
         "yaxis": "y5"
        },
        {
         "alignmentgroup": "True",
         "hovertemplate": "consulta=Porcentaje de afiliados con 4 consultas<br>variable=2019-06-01<br>tipo=%{x}<br>Participación mensual=%{y}<extra></extra>",
         "legendgroup": "Porcentaje de afiliados con 4 consultas",
         "marker": {
          "color": "#1c4966"
         },
         "name": "Porcentaje de afiliados con 4 consultas",
         "offsetgroup": "Porcentaje de afiliados con 4 consultas",
         "orientation": "v",
         "showlegend": false,
         "textposition": "auto",
         "type": "bar",
         "x": [
          "especialidad",
          "prestador"
         ],
         "xaxis": "x6",
         "y": [
          0,
          0
         ],
         "yaxis": "y6"
        },
        {
         "alignmentgroup": "True",
         "hovertemplate": "consulta=Porcentaje de afiliados con 4 consultas<br>variable=2019-07-01<br>tipo=%{x}<br>Participación mensual=%{y}<extra></extra>",
         "legendgroup": "Porcentaje de afiliados con 4 consultas",
         "marker": {
          "color": "#1c4966"
         },
         "name": "Porcentaje de afiliados con 4 consultas",
         "offsetgroup": "Porcentaje de afiliados con 4 consultas",
         "orientation": "v",
         "showlegend": false,
         "textposition": "auto",
         "type": "bar",
         "x": [
          "especialidad",
          "prestador"
         ],
         "xaxis": "x7",
         "y": [
          0,
          0
         ],
         "yaxis": "y7"
        },
        {
         "alignmentgroup": "True",
         "hovertemplate": "consulta=Porcentaje de afiliados con 4 consultas<br>variable=2019-08-01<br>tipo=%{x}<br>Participación mensual=%{y}<extra></extra>",
         "legendgroup": "Porcentaje de afiliados con 4 consultas",
         "marker": {
          "color": "#1c4966"
         },
         "name": "Porcentaje de afiliados con 4 consultas",
         "offsetgroup": "Porcentaje de afiliados con 4 consultas",
         "orientation": "v",
         "showlegend": false,
         "textposition": "auto",
         "type": "bar",
         "x": [
          "especialidad",
          "prestador"
         ],
         "xaxis": "x8",
         "y": [
          0,
          0
         ],
         "yaxis": "y8"
        },
        {
         "alignmentgroup": "True",
         "hovertemplate": "consulta=Porcentaje de afiliados con 4 consultas<br>variable=2019-09-01<br>tipo=%{x}<br>Participación mensual=%{y}<extra></extra>",
         "legendgroup": "Porcentaje de afiliados con 4 consultas",
         "marker": {
          "color": "#1c4966"
         },
         "name": "Porcentaje de afiliados con 4 consultas",
         "offsetgroup": "Porcentaje de afiliados con 4 consultas",
         "orientation": "v",
         "showlegend": false,
         "textposition": "auto",
         "type": "bar",
         "x": [
          "especialidad",
          "prestador"
         ],
         "xaxis": "x9",
         "y": [
          0.01,
          0
         ],
         "yaxis": "y9"
        },
        {
         "alignmentgroup": "True",
         "hovertemplate": "consulta=Porcentaje de afiliados con 4 consultas<br>variable=2019-10-01<br>tipo=%{x}<br>Participación mensual=%{y}<extra></extra>",
         "legendgroup": "Porcentaje de afiliados con 4 consultas",
         "marker": {
          "color": "#1c4966"
         },
         "name": "Porcentaje de afiliados con 4 consultas",
         "offsetgroup": "Porcentaje de afiliados con 4 consultas",
         "orientation": "v",
         "showlegend": false,
         "textposition": "auto",
         "type": "bar",
         "x": [
          "especialidad",
          "prestador"
         ],
         "xaxis": "x10",
         "y": [
          0.01,
          0
         ],
         "yaxis": "y10"
        },
        {
         "alignmentgroup": "True",
         "hovertemplate": "consulta=Porcentaje de afiliados con 4 consultas<br>variable=2019-11-01<br>tipo=%{x}<br>Participación mensual=%{y}<extra></extra>",
         "legendgroup": "Porcentaje de afiliados con 4 consultas",
         "marker": {
          "color": "#1c4966"
         },
         "name": "Porcentaje de afiliados con 4 consultas",
         "offsetgroup": "Porcentaje de afiliados con 4 consultas",
         "orientation": "v",
         "showlegend": false,
         "textposition": "auto",
         "type": "bar",
         "x": [
          "especialidad",
          "prestador"
         ],
         "xaxis": "x11",
         "y": [
          0,
          0
         ],
         "yaxis": "y11"
        },
        {
         "alignmentgroup": "True",
         "hovertemplate": "consulta=Porcentaje de afiliados con 4 consultas<br>variable=2019-12-01<br>tipo=%{x}<br>Participación mensual=%{y}<extra></extra>",
         "legendgroup": "Porcentaje de afiliados con 4 consultas",
         "marker": {
          "color": "#1c4966"
         },
         "name": "Porcentaje de afiliados con 4 consultas",
         "offsetgroup": "Porcentaje de afiliados con 4 consultas",
         "orientation": "v",
         "showlegend": false,
         "textposition": "auto",
         "type": "bar",
         "x": [
          "especialidad",
          "prestador"
         ],
         "xaxis": "x12",
         "y": [
          0,
          0
         ],
         "yaxis": "y12"
        },
        {
         "alignmentgroup": "True",
         "hovertemplate": "consulta=Porcentaje de afiliados con 4 consultas<br>variable=2020-01-01<br>tipo=%{x}<br>Participación mensual=%{y}<extra></extra>",
         "legendgroup": "Porcentaje de afiliados con 4 consultas",
         "marker": {
          "color": "#1c4966"
         },
         "name": "Porcentaje de afiliados con 4 consultas",
         "offsetgroup": "Porcentaje de afiliados con 4 consultas",
         "orientation": "v",
         "showlegend": false,
         "textposition": "auto",
         "type": "bar",
         "x": [
          "especialidad",
          "prestador"
         ],
         "xaxis": "x13",
         "y": [
          0.02,
          0.08
         ],
         "yaxis": "y13"
        },
        {
         "alignmentgroup": "True",
         "hovertemplate": "consulta=Porcentaje de afiliados con más de 4 consultas<br>variable=2019-01-01<br>tipo=%{x}<br>Participación mensual=%{y}<extra></extra>",
         "legendgroup": "Porcentaje de afiliados con más de 4 consultas",
         "marker": {
          "color": "black"
         },
         "name": "Porcentaje de afiliados con más de 4 consultas",
         "offsetgroup": "Porcentaje de afiliados con más de 4 consultas",
         "orientation": "v",
         "showlegend": true,
         "textposition": "auto",
         "type": "bar",
         "x": [
          "especialidad",
          "prestador"
         ],
         "xaxis": "x",
         "y": [
          0,
          0
         ],
         "yaxis": "y"
        },
        {
         "alignmentgroup": "True",
         "hovertemplate": "consulta=Porcentaje de afiliados con más de 4 consultas<br>variable=2019-02-01<br>tipo=%{x}<br>Participación mensual=%{y}<extra></extra>",
         "legendgroup": "Porcentaje de afiliados con más de 4 consultas",
         "marker": {
          "color": "black"
         },
         "name": "Porcentaje de afiliados con más de 4 consultas",
         "offsetgroup": "Porcentaje de afiliados con más de 4 consultas",
         "orientation": "v",
         "showlegend": false,
         "textposition": "auto",
         "type": "bar",
         "x": [
          "especialidad",
          "prestador"
         ],
         "xaxis": "x2",
         "y": [
          0,
          0
         ],
         "yaxis": "y2"
        },
        {
         "alignmentgroup": "True",
         "hovertemplate": "consulta=Porcentaje de afiliados con más de 4 consultas<br>variable=2019-03-01<br>tipo=%{x}<br>Participación mensual=%{y}<extra></extra>",
         "legendgroup": "Porcentaje de afiliados con más de 4 consultas",
         "marker": {
          "color": "black"
         },
         "name": "Porcentaje de afiliados con más de 4 consultas",
         "offsetgroup": "Porcentaje de afiliados con más de 4 consultas",
         "orientation": "v",
         "showlegend": false,
         "textposition": "auto",
         "type": "bar",
         "x": [
          "especialidad",
          "prestador"
         ],
         "xaxis": "x3",
         "y": [
          0,
          0
         ],
         "yaxis": "y3"
        },
        {
         "alignmentgroup": "True",
         "hovertemplate": "consulta=Porcentaje de afiliados con más de 4 consultas<br>variable=2019-04-01<br>tipo=%{x}<br>Participación mensual=%{y}<extra></extra>",
         "legendgroup": "Porcentaje de afiliados con más de 4 consultas",
         "marker": {
          "color": "black"
         },
         "name": "Porcentaje de afiliados con más de 4 consultas",
         "offsetgroup": "Porcentaje de afiliados con más de 4 consultas",
         "orientation": "v",
         "showlegend": false,
         "textposition": "auto",
         "type": "bar",
         "x": [
          "especialidad",
          "prestador"
         ],
         "xaxis": "x4",
         "y": [
          0,
          0
         ],
         "yaxis": "y4"
        },
        {
         "alignmentgroup": "True",
         "hovertemplate": "consulta=Porcentaje de afiliados con más de 4 consultas<br>variable=2019-05-01<br>tipo=%{x}<br>Participación mensual=%{y}<extra></extra>",
         "legendgroup": "Porcentaje de afiliados con más de 4 consultas",
         "marker": {
          "color": "black"
         },
         "name": "Porcentaje de afiliados con más de 4 consultas",
         "offsetgroup": "Porcentaje de afiliados con más de 4 consultas",
         "orientation": "v",
         "showlegend": false,
         "textposition": "auto",
         "type": "bar",
         "x": [
          "especialidad",
          "prestador"
         ],
         "xaxis": "x5",
         "y": [
          0,
          0
         ],
         "yaxis": "y5"
        },
        {
         "alignmentgroup": "True",
         "hovertemplate": "consulta=Porcentaje de afiliados con más de 4 consultas<br>variable=2019-06-01<br>tipo=%{x}<br>Participación mensual=%{y}<extra></extra>",
         "legendgroup": "Porcentaje de afiliados con más de 4 consultas",
         "marker": {
          "color": "black"
         },
         "name": "Porcentaje de afiliados con más de 4 consultas",
         "offsetgroup": "Porcentaje de afiliados con más de 4 consultas",
         "orientation": "v",
         "showlegend": false,
         "textposition": "auto",
         "type": "bar",
         "x": [
          "especialidad",
          "prestador"
         ],
         "xaxis": "x6",
         "y": [
          0,
          0
         ],
         "yaxis": "y6"
        },
        {
         "alignmentgroup": "True",
         "hovertemplate": "consulta=Porcentaje de afiliados con más de 4 consultas<br>variable=2019-07-01<br>tipo=%{x}<br>Participación mensual=%{y}<extra></extra>",
         "legendgroup": "Porcentaje de afiliados con más de 4 consultas",
         "marker": {
          "color": "black"
         },
         "name": "Porcentaje de afiliados con más de 4 consultas",
         "offsetgroup": "Porcentaje de afiliados con más de 4 consultas",
         "orientation": "v",
         "showlegend": false,
         "textposition": "auto",
         "type": "bar",
         "x": [
          "especialidad",
          "prestador"
         ],
         "xaxis": "x7",
         "y": [
          0,
          0
         ],
         "yaxis": "y7"
        },
        {
         "alignmentgroup": "True",
         "hovertemplate": "consulta=Porcentaje de afiliados con más de 4 consultas<br>variable=2019-08-01<br>tipo=%{x}<br>Participación mensual=%{y}<extra></extra>",
         "legendgroup": "Porcentaje de afiliados con más de 4 consultas",
         "marker": {
          "color": "black"
         },
         "name": "Porcentaje de afiliados con más de 4 consultas",
         "offsetgroup": "Porcentaje de afiliados con más de 4 consultas",
         "orientation": "v",
         "showlegend": false,
         "textposition": "auto",
         "type": "bar",
         "x": [
          "especialidad",
          "prestador"
         ],
         "xaxis": "x8",
         "y": [
          0,
          0
         ],
         "yaxis": "y8"
        },
        {
         "alignmentgroup": "True",
         "hovertemplate": "consulta=Porcentaje de afiliados con más de 4 consultas<br>variable=2019-09-01<br>tipo=%{x}<br>Participación mensual=%{y}<extra></extra>",
         "legendgroup": "Porcentaje de afiliados con más de 4 consultas",
         "marker": {
          "color": "black"
         },
         "name": "Porcentaje de afiliados con más de 4 consultas",
         "offsetgroup": "Porcentaje de afiliados con más de 4 consultas",
         "orientation": "v",
         "showlegend": false,
         "textposition": "auto",
         "type": "bar",
         "x": [
          "especialidad",
          "prestador"
         ],
         "xaxis": "x9",
         "y": [
          0,
          0
         ],
         "yaxis": "y9"
        },
        {
         "alignmentgroup": "True",
         "hovertemplate": "consulta=Porcentaje de afiliados con más de 4 consultas<br>variable=2019-10-01<br>tipo=%{x}<br>Participación mensual=%{y}<extra></extra>",
         "legendgroup": "Porcentaje de afiliados con más de 4 consultas",
         "marker": {
          "color": "black"
         },
         "name": "Porcentaje de afiliados con más de 4 consultas",
         "offsetgroup": "Porcentaje de afiliados con más de 4 consultas",
         "orientation": "v",
         "showlegend": false,
         "textposition": "auto",
         "type": "bar",
         "x": [
          "especialidad",
          "prestador"
         ],
         "xaxis": "x10",
         "y": [
          0.01,
          0
         ],
         "yaxis": "y10"
        },
        {
         "alignmentgroup": "True",
         "hovertemplate": "consulta=Porcentaje de afiliados con más de 4 consultas<br>variable=2019-11-01<br>tipo=%{x}<br>Participación mensual=%{y}<extra></extra>",
         "legendgroup": "Porcentaje de afiliados con más de 4 consultas",
         "marker": {
          "color": "black"
         },
         "name": "Porcentaje de afiliados con más de 4 consultas",
         "offsetgroup": "Porcentaje de afiliados con más de 4 consultas",
         "orientation": "v",
         "showlegend": false,
         "textposition": "auto",
         "type": "bar",
         "x": [
          "especialidad",
          "prestador"
         ],
         "xaxis": "x11",
         "y": [
          0,
          0
         ],
         "yaxis": "y11"
        },
        {
         "alignmentgroup": "True",
         "hovertemplate": "consulta=Porcentaje de afiliados con más de 4 consultas<br>variable=2019-12-01<br>tipo=%{x}<br>Participación mensual=%{y}<extra></extra>",
         "legendgroup": "Porcentaje de afiliados con más de 4 consultas",
         "marker": {
          "color": "black"
         },
         "name": "Porcentaje de afiliados con más de 4 consultas",
         "offsetgroup": "Porcentaje de afiliados con más de 4 consultas",
         "orientation": "v",
         "showlegend": false,
         "textposition": "auto",
         "type": "bar",
         "x": [
          "especialidad",
          "prestador"
         ],
         "xaxis": "x12",
         "y": [
          0,
          0
         ],
         "yaxis": "y12"
        },
        {
         "alignmentgroup": "True",
         "hovertemplate": "consulta=Porcentaje de afiliados con más de 4 consultas<br>variable=2020-01-01<br>tipo=%{x}<br>Participación mensual=%{y}<extra></extra>",
         "legendgroup": "Porcentaje de afiliados con más de 4 consultas",
         "marker": {
          "color": "black"
         },
         "name": "Porcentaje de afiliados con más de 4 consultas",
         "offsetgroup": "Porcentaje de afiliados con más de 4 consultas",
         "orientation": "v",
         "showlegend": false,
         "textposition": "auto",
         "type": "bar",
         "x": [
          "especialidad",
          "prestador"
         ],
         "xaxis": "x13",
         "y": [
          0,
          0
         ],
         "yaxis": "y13"
        }
       ],
       "layout": {
        "annotations": [
         {
          "font": {},
          "showarrow": false,
          "text": "2019-01",
          "x": 0.029230769230769234,
          "xanchor": "center",
          "xref": "paper",
          "y": 1,
          "yanchor": "bottom",
          "yref": "paper"
         },
         {
          "font": {},
          "showarrow": false,
          "text": "2019-02",
          "x": 0.1076923076923077,
          "xanchor": "center",
          "xref": "paper",
          "y": 1,
          "yanchor": "bottom",
          "yref": "paper"
         },
         {
          "font": {},
          "showarrow": false,
          "text": "2019-03",
          "x": 0.18615384615384617,
          "xanchor": "center",
          "xref": "paper",
          "y": 1,
          "yanchor": "bottom",
          "yref": "paper"
         },
         {
          "font": {},
          "showarrow": false,
          "text": "2019-04",
          "x": 0.26461538461538464,
          "xanchor": "center",
          "xref": "paper",
          "y": 1,
          "yanchor": "bottom",
          "yref": "paper"
         },
         {
          "font": {},
          "showarrow": false,
          "text": "2019-05",
          "x": 0.3430769230769231,
          "xanchor": "center",
          "xref": "paper",
          "y": 1,
          "yanchor": "bottom",
          "yref": "paper"
         },
         {
          "font": {},
          "showarrow": false,
          "text": "2019-06",
          "x": 0.4215384615384616,
          "xanchor": "center",
          "xref": "paper",
          "y": 1,
          "yanchor": "bottom",
          "yref": "paper"
         },
         {
          "font": {},
          "showarrow": false,
          "text": "2019-07",
          "x": 0.5,
          "xanchor": "center",
          "xref": "paper",
          "y": 1,
          "yanchor": "bottom",
          "yref": "paper"
         },
         {
          "font": {},
          "showarrow": false,
          "text": "2019-08",
          "x": 0.5784615384615384,
          "xanchor": "center",
          "xref": "paper",
          "y": 1,
          "yanchor": "bottom",
          "yref": "paper"
         },
         {
          "font": {},
          "showarrow": false,
          "text": "2019-09",
          "x": 0.6569230769230769,
          "xanchor": "center",
          "xref": "paper",
          "y": 1,
          "yanchor": "bottom",
          "yref": "paper"
         },
         {
          "font": {},
          "showarrow": false,
          "text": "2019-10",
          "x": 0.7353846153846153,
          "xanchor": "center",
          "xref": "paper",
          "y": 1,
          "yanchor": "bottom",
          "yref": "paper"
         },
         {
          "font": {},
          "showarrow": false,
          "text": "2019-11",
          "x": 0.8138461538461539,
          "xanchor": "center",
          "xref": "paper",
          "y": 1,
          "yanchor": "bottom",
          "yref": "paper"
         },
         {
          "font": {},
          "showarrow": false,
          "text": "2019-12",
          "x": 0.8923076923076922,
          "xanchor": "center",
          "xref": "paper",
          "y": 1,
          "yanchor": "bottom",
          "yref": "paper"
         },
         {
          "font": {},
          "showarrow": false,
          "text": "2020-01",
          "x": 0.9707692307692308,
          "xanchor": "center",
          "xref": "paper",
          "y": 1,
          "yanchor": "bottom",
          "yref": "paper"
         }
        ],
        "barmode": "stack",
        "legend": {
         "orientation": "h",
         "x": 0.5,
         "xanchor": "center",
         "y": -0.4
        },
        "margin": {
         "t": 60
        },
        "template": {
         "data": {
          "bar": [
           {
            "error_x": {
             "color": "#2a3f5f"
            },
            "error_y": {
             "color": "#2a3f5f"
            },
            "marker": {
             "line": {
              "color": "#E5ECF6",
              "width": 0.5
             }
            },
            "type": "bar"
           }
          ],
          "barpolar": [
           {
            "marker": {
             "line": {
              "color": "#E5ECF6",
              "width": 0.5
             }
            },
            "type": "barpolar"
           }
          ],
          "carpet": [
           {
            "aaxis": {
             "endlinecolor": "#2a3f5f",
             "gridcolor": "white",
             "linecolor": "white",
             "minorgridcolor": "white",
             "startlinecolor": "#2a3f5f"
            },
            "baxis": {
             "endlinecolor": "#2a3f5f",
             "gridcolor": "white",
             "linecolor": "white",
             "minorgridcolor": "white",
             "startlinecolor": "#2a3f5f"
            },
            "type": "carpet"
           }
          ],
          "choropleth": [
           {
            "colorbar": {
             "outlinewidth": 0,
             "ticks": ""
            },
            "type": "choropleth"
           }
          ],
          "contour": [
           {
            "colorbar": {
             "outlinewidth": 0,
             "ticks": ""
            },
            "colorscale": [
             [
              0,
              "#0d0887"
             ],
             [
              0.1111111111111111,
              "#46039f"
             ],
             [
              0.2222222222222222,
              "#7201a8"
             ],
             [
              0.3333333333333333,
              "#9c179e"
             ],
             [
              0.4444444444444444,
              "#bd3786"
             ],
             [
              0.5555555555555556,
              "#d8576b"
             ],
             [
              0.6666666666666666,
              "#ed7953"
             ],
             [
              0.7777777777777778,
              "#fb9f3a"
             ],
             [
              0.8888888888888888,
              "#fdca26"
             ],
             [
              1,
              "#f0f921"
             ]
            ],
            "type": "contour"
           }
          ],
          "contourcarpet": [
           {
            "colorbar": {
             "outlinewidth": 0,
             "ticks": ""
            },
            "type": "contourcarpet"
           }
          ],
          "heatmap": [
           {
            "colorbar": {
             "outlinewidth": 0,
             "ticks": ""
            },
            "colorscale": [
             [
              0,
              "#0d0887"
             ],
             [
              0.1111111111111111,
              "#46039f"
             ],
             [
              0.2222222222222222,
              "#7201a8"
             ],
             [
              0.3333333333333333,
              "#9c179e"
             ],
             [
              0.4444444444444444,
              "#bd3786"
             ],
             [
              0.5555555555555556,
              "#d8576b"
             ],
             [
              0.6666666666666666,
              "#ed7953"
             ],
             [
              0.7777777777777778,
              "#fb9f3a"
             ],
             [
              0.8888888888888888,
              "#fdca26"
             ],
             [
              1,
              "#f0f921"
             ]
            ],
            "type": "heatmap"
           }
          ],
          "heatmapgl": [
           {
            "colorbar": {
             "outlinewidth": 0,
             "ticks": ""
            },
            "colorscale": [
             [
              0,
              "#0d0887"
             ],
             [
              0.1111111111111111,
              "#46039f"
             ],
             [
              0.2222222222222222,
              "#7201a8"
             ],
             [
              0.3333333333333333,
              "#9c179e"
             ],
             [
              0.4444444444444444,
              "#bd3786"
             ],
             [
              0.5555555555555556,
              "#d8576b"
             ],
             [
              0.6666666666666666,
              "#ed7953"
             ],
             [
              0.7777777777777778,
              "#fb9f3a"
             ],
             [
              0.8888888888888888,
              "#fdca26"
             ],
             [
              1,
              "#f0f921"
             ]
            ],
            "type": "heatmapgl"
           }
          ],
          "histogram": [
           {
            "marker": {
             "colorbar": {
              "outlinewidth": 0,
              "ticks": ""
             }
            },
            "type": "histogram"
           }
          ],
          "histogram2d": [
           {
            "colorbar": {
             "outlinewidth": 0,
             "ticks": ""
            },
            "colorscale": [
             [
              0,
              "#0d0887"
             ],
             [
              0.1111111111111111,
              "#46039f"
             ],
             [
              0.2222222222222222,
              "#7201a8"
             ],
             [
              0.3333333333333333,
              "#9c179e"
             ],
             [
              0.4444444444444444,
              "#bd3786"
             ],
             [
              0.5555555555555556,
              "#d8576b"
             ],
             [
              0.6666666666666666,
              "#ed7953"
             ],
             [
              0.7777777777777778,
              "#fb9f3a"
             ],
             [
              0.8888888888888888,
              "#fdca26"
             ],
             [
              1,
              "#f0f921"
             ]
            ],
            "type": "histogram2d"
           }
          ],
          "histogram2dcontour": [
           {
            "colorbar": {
             "outlinewidth": 0,
             "ticks": ""
            },
            "colorscale": [
             [
              0,
              "#0d0887"
             ],
             [
              0.1111111111111111,
              "#46039f"
             ],
             [
              0.2222222222222222,
              "#7201a8"
             ],
             [
              0.3333333333333333,
              "#9c179e"
             ],
             [
              0.4444444444444444,
              "#bd3786"
             ],
             [
              0.5555555555555556,
              "#d8576b"
             ],
             [
              0.6666666666666666,
              "#ed7953"
             ],
             [
              0.7777777777777778,
              "#fb9f3a"
             ],
             [
              0.8888888888888888,
              "#fdca26"
             ],
             [
              1,
              "#f0f921"
             ]
            ],
            "type": "histogram2dcontour"
           }
          ],
          "mesh3d": [
           {
            "colorbar": {
             "outlinewidth": 0,
             "ticks": ""
            },
            "type": "mesh3d"
           }
          ],
          "parcoords": [
           {
            "line": {
             "colorbar": {
              "outlinewidth": 0,
              "ticks": ""
             }
            },
            "type": "parcoords"
           }
          ],
          "pie": [
           {
            "automargin": true,
            "type": "pie"
           }
          ],
          "scatter": [
           {
            "marker": {
             "colorbar": {
              "outlinewidth": 0,
              "ticks": ""
             }
            },
            "type": "scatter"
           }
          ],
          "scatter3d": [
           {
            "line": {
             "colorbar": {
              "outlinewidth": 0,
              "ticks": ""
             }
            },
            "marker": {
             "colorbar": {
              "outlinewidth": 0,
              "ticks": ""
             }
            },
            "type": "scatter3d"
           }
          ],
          "scattercarpet": [
           {
            "marker": {
             "colorbar": {
              "outlinewidth": 0,
              "ticks": ""
             }
            },
            "type": "scattercarpet"
           }
          ],
          "scattergeo": [
           {
            "marker": {
             "colorbar": {
              "outlinewidth": 0,
              "ticks": ""
             }
            },
            "type": "scattergeo"
           }
          ],
          "scattergl": [
           {
            "marker": {
             "colorbar": {
              "outlinewidth": 0,
              "ticks": ""
             }
            },
            "type": "scattergl"
           }
          ],
          "scattermapbox": [
           {
            "marker": {
             "colorbar": {
              "outlinewidth": 0,
              "ticks": ""
             }
            },
            "type": "scattermapbox"
           }
          ],
          "scatterpolar": [
           {
            "marker": {
             "colorbar": {
              "outlinewidth": 0,
              "ticks": ""
             }
            },
            "type": "scatterpolar"
           }
          ],
          "scatterpolargl": [
           {
            "marker": {
             "colorbar": {
              "outlinewidth": 0,
              "ticks": ""
             }
            },
            "type": "scatterpolargl"
           }
          ],
          "scatterternary": [
           {
            "marker": {
             "colorbar": {
              "outlinewidth": 0,
              "ticks": ""
             }
            },
            "type": "scatterternary"
           }
          ],
          "surface": [
           {
            "colorbar": {
             "outlinewidth": 0,
             "ticks": ""
            },
            "colorscale": [
             [
              0,
              "#0d0887"
             ],
             [
              0.1111111111111111,
              "#46039f"
             ],
             [
              0.2222222222222222,
              "#7201a8"
             ],
             [
              0.3333333333333333,
              "#9c179e"
             ],
             [
              0.4444444444444444,
              "#bd3786"
             ],
             [
              0.5555555555555556,
              "#d8576b"
             ],
             [
              0.6666666666666666,
              "#ed7953"
             ],
             [
              0.7777777777777778,
              "#fb9f3a"
             ],
             [
              0.8888888888888888,
              "#fdca26"
             ],
             [
              1,
              "#f0f921"
             ]
            ],
            "type": "surface"
           }
          ],
          "table": [
           {
            "cells": {
             "fill": {
              "color": "#EBF0F8"
             },
             "line": {
              "color": "white"
             }
            },
            "header": {
             "fill": {
              "color": "#C8D4E3"
             },
             "line": {
              "color": "white"
             }
            },
            "type": "table"
           }
          ]
         },
         "layout": {
          "annotationdefaults": {
           "arrowcolor": "#2a3f5f",
           "arrowhead": 0,
           "arrowwidth": 1
          },
          "coloraxis": {
           "colorbar": {
            "outlinewidth": 0,
            "ticks": ""
           }
          },
          "colorscale": {
           "diverging": [
            [
             0,
             "#8e0152"
            ],
            [
             0.1,
             "#c51b7d"
            ],
            [
             0.2,
             "#de77ae"
            ],
            [
             0.3,
             "#f1b6da"
            ],
            [
             0.4,
             "#fde0ef"
            ],
            [
             0.5,
             "#f7f7f7"
            ],
            [
             0.6,
             "#e6f5d0"
            ],
            [
             0.7,
             "#b8e186"
            ],
            [
             0.8,
             "#7fbc41"
            ],
            [
             0.9,
             "#4d9221"
            ],
            [
             1,
             "#276419"
            ]
           ],
           "sequential": [
            [
             0,
             "#0d0887"
            ],
            [
             0.1111111111111111,
             "#46039f"
            ],
            [
             0.2222222222222222,
             "#7201a8"
            ],
            [
             0.3333333333333333,
             "#9c179e"
            ],
            [
             0.4444444444444444,
             "#bd3786"
            ],
            [
             0.5555555555555556,
             "#d8576b"
            ],
            [
             0.6666666666666666,
             "#ed7953"
            ],
            [
             0.7777777777777778,
             "#fb9f3a"
            ],
            [
             0.8888888888888888,
             "#fdca26"
            ],
            [
             1,
             "#f0f921"
            ]
           ],
           "sequentialminus": [
            [
             0,
             "#0d0887"
            ],
            [
             0.1111111111111111,
             "#46039f"
            ],
            [
             0.2222222222222222,
             "#7201a8"
            ],
            [
             0.3333333333333333,
             "#9c179e"
            ],
            [
             0.4444444444444444,
             "#bd3786"
            ],
            [
             0.5555555555555556,
             "#d8576b"
            ],
            [
             0.6666666666666666,
             "#ed7953"
            ],
            [
             0.7777777777777778,
             "#fb9f3a"
            ],
            [
             0.8888888888888888,
             "#fdca26"
            ],
            [
             1,
             "#f0f921"
            ]
           ]
          },
          "colorway": [
           "#636efa",
           "#EF553B",
           "#00cc96",
           "#ab63fa",
           "#FFA15A",
           "#19d3f3",
           "#FF6692",
           "#B6E880",
           "#FF97FF",
           "#FECB52"
          ],
          "font": {
           "color": "#2a3f5f"
          },
          "geo": {
           "bgcolor": "white",
           "lakecolor": "white",
           "landcolor": "#E5ECF6",
           "showlakes": true,
           "showland": true,
           "subunitcolor": "white"
          },
          "hoverlabel": {
           "align": "left"
          },
          "hovermode": "closest",
          "mapbox": {
           "style": "light"
          },
          "paper_bgcolor": "white",
          "plot_bgcolor": "#E5ECF6",
          "polar": {
           "angularaxis": {
            "gridcolor": "white",
            "linecolor": "white",
            "ticks": ""
           },
           "bgcolor": "#E5ECF6",
           "radialaxis": {
            "gridcolor": "white",
            "linecolor": "white",
            "ticks": ""
           }
          },
          "scene": {
           "xaxis": {
            "backgroundcolor": "#E5ECF6",
            "gridcolor": "white",
            "gridwidth": 2,
            "linecolor": "white",
            "showbackground": true,
            "ticks": "",
            "zerolinecolor": "white"
           },
           "yaxis": {
            "backgroundcolor": "#E5ECF6",
            "gridcolor": "white",
            "gridwidth": 2,
            "linecolor": "white",
            "showbackground": true,
            "ticks": "",
            "zerolinecolor": "white"
           },
           "zaxis": {
            "backgroundcolor": "#E5ECF6",
            "gridcolor": "white",
            "gridwidth": 2,
            "linecolor": "white",
            "showbackground": true,
            "ticks": "",
            "zerolinecolor": "white"
           }
          },
          "shapedefaults": {
           "line": {
            "color": "#2a3f5f"
           }
          },
          "ternary": {
           "aaxis": {
            "gridcolor": "white",
            "linecolor": "white",
            "ticks": ""
           },
           "baxis": {
            "gridcolor": "white",
            "linecolor": "white",
            "ticks": ""
           },
           "bgcolor": "#E5ECF6",
           "caxis": {
            "gridcolor": "white",
            "linecolor": "white",
            "ticks": ""
           }
          },
          "title": {
           "x": 0.05
          },
          "xaxis": {
           "automargin": true,
           "gridcolor": "white",
           "linecolor": "white",
           "ticks": "",
           "title": {
            "standoff": 15
           },
           "zerolinecolor": "white",
           "zerolinewidth": 2
          },
          "yaxis": {
           "automargin": true,
           "gridcolor": "white",
           "linecolor": "white",
           "ticks": "",
           "title": {
            "standoff": 15
           },
           "zerolinecolor": "white",
           "zerolinewidth": 2
          }
         }
        },
        "title": {
         "text": "prestador",
         "x": 0.5
        },
        "xaxis": {
         "anchor": "y",
         "domain": [
          0,
          0.05846153846153847
         ],
         "tickangle": -90
        },
        "xaxis10": {
         "anchor": "y10",
         "domain": [
          0.7061538461538461,
          0.7646153846153846
         ],
         "matches": "x",
         "tickangle": -90
        },
        "xaxis11": {
         "anchor": "y11",
         "domain": [
          0.7846153846153847,
          0.8430769230769232
         ],
         "matches": "x",
         "tickangle": -90
        },
        "xaxis12": {
         "anchor": "y12",
         "domain": [
          0.8630769230769231,
          0.9215384615384615
         ],
         "matches": "x",
         "tickangle": -90
        },
        "xaxis13": {
         "anchor": "y13",
         "domain": [
          0.9415384615384615,
          1
         ],
         "matches": "x",
         "tickangle": -90
        },
        "xaxis2": {
         "anchor": "y2",
         "domain": [
          0.07846153846153847,
          0.13692307692307693
         ],
         "matches": "x",
         "tickangle": -90
        },
        "xaxis3": {
         "anchor": "y3",
         "domain": [
          0.15692307692307694,
          0.2153846153846154
         ],
         "matches": "x",
         "tickangle": -90
        },
        "xaxis4": {
         "anchor": "y4",
         "domain": [
          0.23538461538461541,
          0.29384615384615387
         ],
         "matches": "x",
         "tickangle": -90
        },
        "xaxis5": {
         "anchor": "y5",
         "domain": [
          0.3138461538461539,
          0.37230769230769234
         ],
         "matches": "x",
         "tickangle": -90
        },
        "xaxis6": {
         "anchor": "y6",
         "domain": [
          0.39230769230769236,
          0.4507692307692308
         ],
         "matches": "x",
         "tickangle": -90
        },
        "xaxis7": {
         "anchor": "y7",
         "domain": [
          0.4707692307692308,
          0.5292307692307693
         ],
         "matches": "x",
         "tickangle": -90
        },
        "xaxis8": {
         "anchor": "y8",
         "domain": [
          0.5492307692307692,
          0.6076923076923076
         ],
         "matches": "x",
         "tickangle": -90
        },
        "xaxis9": {
         "anchor": "y9",
         "domain": [
          0.6276923076923077,
          0.6861538461538461
         ],
         "matches": "x",
         "tickangle": -90
        },
        "yaxis": {
         "anchor": "x",
         "domain": [
          0,
          1
         ],
         "range": [
          0,
          1
         ],
         "tickformat": "%",
         "title": {
          "text": "Participación mensual"
         }
        },
        "yaxis10": {
         "anchor": "x10",
         "domain": [
          0,
          1
         ],
         "matches": "y",
         "range": [
          0,
          1
         ],
         "showticklabels": false,
         "tickformat": "%"
        },
        "yaxis11": {
         "anchor": "x11",
         "domain": [
          0,
          1
         ],
         "matches": "y",
         "range": [
          0,
          1
         ],
         "showticklabels": false,
         "tickformat": "%"
        },
        "yaxis12": {
         "anchor": "x12",
         "domain": [
          0,
          1
         ],
         "matches": "y",
         "range": [
          0,
          1
         ],
         "showticklabels": false,
         "tickformat": "%"
        },
        "yaxis13": {
         "anchor": "x13",
         "domain": [
          0,
          1
         ],
         "matches": "y",
         "range": [
          0,
          1
         ],
         "showticklabels": false,
         "tickformat": "%"
        },
        "yaxis2": {
         "anchor": "x2",
         "domain": [
          0,
          1
         ],
         "matches": "y",
         "range": [
          0,
          1
         ],
         "showticklabels": false,
         "tickformat": "%"
        },
        "yaxis3": {
         "anchor": "x3",
         "domain": [
          0,
          1
         ],
         "matches": "y",
         "range": [
          0,
          1
         ],
         "showticklabels": false,
         "tickformat": "%"
        },
        "yaxis4": {
         "anchor": "x4",
         "domain": [
          0,
          1
         ],
         "matches": "y",
         "range": [
          0,
          1
         ],
         "showticklabels": false,
         "tickformat": "%"
        },
        "yaxis5": {
         "anchor": "x5",
         "domain": [
          0,
          1
         ],
         "matches": "y",
         "range": [
          0,
          1
         ],
         "showticklabels": false,
         "tickformat": "%"
        },
        "yaxis6": {
         "anchor": "x6",
         "domain": [
          0,
          1
         ],
         "matches": "y",
         "range": [
          0,
          1
         ],
         "showticklabels": false,
         "tickformat": "%"
        },
        "yaxis7": {
         "anchor": "x7",
         "domain": [
          0,
          1
         ],
         "matches": "y",
         "range": [
          0,
          1
         ],
         "showticklabels": false,
         "tickformat": "%"
        },
        "yaxis8": {
         "anchor": "x8",
         "domain": [
          0,
          1
         ],
         "matches": "y",
         "range": [
          0,
          1
         ],
         "showticklabels": false,
         "tickformat": "%"
        },
        "yaxis9": {
         "anchor": "x9",
         "domain": [
          0,
          1
         ],
         "matches": "y",
         "range": [
          0,
          1
         ],
         "showticklabels": false,
         "tickformat": "%"
        }
       }
      },
      "text/html": [
       "<div>\n",
       "        \n",
       "        \n",
       "            <div id=\"7df061f9-e157-4ea9-ae4c-77d0ffc589f1\" class=\"plotly-graph-div\" style=\"height:525px; width:100%;\"></div>\n",
       "            <script type=\"text/javascript\">\n",
       "                require([\"plotly\"], function(Plotly) {\n",
       "                    window.PLOTLYENV=window.PLOTLYENV || {};\n",
       "                    \n",
       "                if (document.getElementById(\"7df061f9-e157-4ea9-ae4c-77d0ffc589f1\")) {\n",
       "                    Plotly.newPlot(\n",
       "                        '7df061f9-e157-4ea9-ae4c-77d0ffc589f1',\n",
       "                        [{\"alignmentgroup\": \"True\", \"hovertemplate\": \"consulta=Porcentaje de afiliados con consultas \\u00fanicas<br>variable=2019-01-01<br>tipo=%{x}<br>Participaci\\u00f3n mensual=%{y}<extra></extra>\", \"legendgroup\": \"Porcentaje de afiliados con consultas \\u00fanicas\", \"marker\": {\"color\": \"#45b6fe\"}, \"name\": \"Porcentaje de afiliados con consultas \\u00fanicas\", \"offsetgroup\": \"Porcentaje de afiliados con consultas \\u00fanicas\", \"orientation\": \"v\", \"showlegend\": true, \"textposition\": \"auto\", \"type\": \"bar\", \"x\": [\"especialidad\", \"prestador\"], \"xaxis\": \"x\", \"y\": [0.74, 0.88], \"yaxis\": \"y\"}, {\"alignmentgroup\": \"True\", \"hovertemplate\": \"consulta=Porcentaje de afiliados con consultas \\u00fanicas<br>variable=2019-02-01<br>tipo=%{x}<br>Participaci\\u00f3n mensual=%{y}<extra></extra>\", \"legendgroup\": \"Porcentaje de afiliados con consultas \\u00fanicas\", \"marker\": {\"color\": \"#45b6fe\"}, \"name\": \"Porcentaje de afiliados con consultas \\u00fanicas\", \"offsetgroup\": \"Porcentaje de afiliados con consultas \\u00fanicas\", \"orientation\": \"v\", \"showlegend\": false, \"textposition\": \"auto\", \"type\": \"bar\", \"x\": [\"especialidad\", \"prestador\"], \"xaxis\": \"x2\", \"y\": [0.89, 0.88], \"yaxis\": \"y2\"}, {\"alignmentgroup\": \"True\", \"hovertemplate\": \"consulta=Porcentaje de afiliados con consultas \\u00fanicas<br>variable=2019-03-01<br>tipo=%{x}<br>Participaci\\u00f3n mensual=%{y}<extra></extra>\", \"legendgroup\": \"Porcentaje de afiliados con consultas \\u00fanicas\", \"marker\": {\"color\": \"#45b6fe\"}, \"name\": \"Porcentaje de afiliados con consultas \\u00fanicas\", \"offsetgroup\": \"Porcentaje de afiliados con consultas \\u00fanicas\", \"orientation\": \"v\", \"showlegend\": false, \"textposition\": \"auto\", \"type\": \"bar\", \"x\": [\"especialidad\", \"prestador\"], \"xaxis\": \"x3\", \"y\": [0.0, 0.0], \"yaxis\": \"y3\"}, {\"alignmentgroup\": \"True\", \"hovertemplate\": \"consulta=Porcentaje de afiliados con consultas \\u00fanicas<br>variable=2019-04-01<br>tipo=%{x}<br>Participaci\\u00f3n mensual=%{y}<extra></extra>\", \"legendgroup\": \"Porcentaje de afiliados con consultas \\u00fanicas\", \"marker\": {\"color\": \"#45b6fe\"}, \"name\": \"Porcentaje de afiliados con consultas \\u00fanicas\", \"offsetgroup\": \"Porcentaje de afiliados con consultas \\u00fanicas\", \"orientation\": \"v\", \"showlegend\": false, \"textposition\": \"auto\", \"type\": \"bar\", \"x\": [\"especialidad\", \"prestador\"], \"xaxis\": \"x4\", \"y\": [0.0, 0.0], \"yaxis\": \"y4\"}, {\"alignmentgroup\": \"True\", \"hovertemplate\": \"consulta=Porcentaje de afiliados con consultas \\u00fanicas<br>variable=2019-05-01<br>tipo=%{x}<br>Participaci\\u00f3n mensual=%{y}<extra></extra>\", \"legendgroup\": \"Porcentaje de afiliados con consultas \\u00fanicas\", \"marker\": {\"color\": \"#45b6fe\"}, \"name\": \"Porcentaje de afiliados con consultas \\u00fanicas\", \"offsetgroup\": \"Porcentaje de afiliados con consultas \\u00fanicas\", \"orientation\": \"v\", \"showlegend\": false, \"textposition\": \"auto\", \"type\": \"bar\", \"x\": [\"especialidad\", \"prestador\"], \"xaxis\": \"x5\", \"y\": [0.75, 0.6], \"yaxis\": \"y5\"}, {\"alignmentgroup\": \"True\", \"hovertemplate\": \"consulta=Porcentaje de afiliados con consultas \\u00fanicas<br>variable=2019-06-01<br>tipo=%{x}<br>Participaci\\u00f3n mensual=%{y}<extra></extra>\", \"legendgroup\": \"Porcentaje de afiliados con consultas \\u00fanicas\", \"marker\": {\"color\": \"#45b6fe\"}, \"name\": \"Porcentaje de afiliados con consultas \\u00fanicas\", \"offsetgroup\": \"Porcentaje de afiliados con consultas \\u00fanicas\", \"orientation\": \"v\", \"showlegend\": false, \"textposition\": \"auto\", \"type\": \"bar\", \"x\": [\"especialidad\", \"prestador\"], \"xaxis\": \"x6\", \"y\": [0.0, 0.0], \"yaxis\": \"y6\"}, {\"alignmentgroup\": \"True\", \"hovertemplate\": \"consulta=Porcentaje de afiliados con consultas \\u00fanicas<br>variable=2019-07-01<br>tipo=%{x}<br>Participaci\\u00f3n mensual=%{y}<extra></extra>\", \"legendgroup\": \"Porcentaje de afiliados con consultas \\u00fanicas\", \"marker\": {\"color\": \"#45b6fe\"}, \"name\": \"Porcentaje de afiliados con consultas \\u00fanicas\", \"offsetgroup\": \"Porcentaje de afiliados con consultas \\u00fanicas\", \"orientation\": \"v\", \"showlegend\": false, \"textposition\": \"auto\", \"type\": \"bar\", \"x\": [\"especialidad\", \"prestador\"], \"xaxis\": \"x7\", \"y\": [0.77, 0.88], \"yaxis\": \"y7\"}, {\"alignmentgroup\": \"True\", \"hovertemplate\": \"consulta=Porcentaje de afiliados con consultas \\u00fanicas<br>variable=2019-08-01<br>tipo=%{x}<br>Participaci\\u00f3n mensual=%{y}<extra></extra>\", \"legendgroup\": \"Porcentaje de afiliados con consultas \\u00fanicas\", \"marker\": {\"color\": \"#45b6fe\"}, \"name\": \"Porcentaje de afiliados con consultas \\u00fanicas\", \"offsetgroup\": \"Porcentaje de afiliados con consultas \\u00fanicas\", \"orientation\": \"v\", \"showlegend\": false, \"textposition\": \"auto\", \"type\": \"bar\", \"x\": [\"especialidad\", \"prestador\"], \"xaxis\": \"x8\", \"y\": [0.75, 0.8], \"yaxis\": \"y8\"}, {\"alignmentgroup\": \"True\", \"hovertemplate\": \"consulta=Porcentaje de afiliados con consultas \\u00fanicas<br>variable=2019-09-01<br>tipo=%{x}<br>Participaci\\u00f3n mensual=%{y}<extra></extra>\", \"legendgroup\": \"Porcentaje de afiliados con consultas \\u00fanicas\", \"marker\": {\"color\": \"#45b6fe\"}, \"name\": \"Porcentaje de afiliados con consultas \\u00fanicas\", \"offsetgroup\": \"Porcentaje de afiliados con consultas \\u00fanicas\", \"orientation\": \"v\", \"showlegend\": false, \"textposition\": \"auto\", \"type\": \"bar\", \"x\": [\"especialidad\", \"prestador\"], \"xaxis\": \"x9\", \"y\": [0.73, 0.78], \"yaxis\": \"y9\"}, {\"alignmentgroup\": \"True\", \"hovertemplate\": \"consulta=Porcentaje de afiliados con consultas \\u00fanicas<br>variable=2019-10-01<br>tipo=%{x}<br>Participaci\\u00f3n mensual=%{y}<extra></extra>\", \"legendgroup\": \"Porcentaje de afiliados con consultas \\u00fanicas\", \"marker\": {\"color\": \"#45b6fe\"}, \"name\": \"Porcentaje de afiliados con consultas \\u00fanicas\", \"offsetgroup\": \"Porcentaje de afiliados con consultas \\u00fanicas\", \"orientation\": \"v\", \"showlegend\": false, \"textposition\": \"auto\", \"type\": \"bar\", \"x\": [\"especialidad\", \"prestador\"], \"xaxis\": \"x10\", \"y\": [0.74, 0.82], \"yaxis\": \"y10\"}, {\"alignmentgroup\": \"True\", \"hovertemplate\": \"consulta=Porcentaje de afiliados con consultas \\u00fanicas<br>variable=2019-11-01<br>tipo=%{x}<br>Participaci\\u00f3n mensual=%{y}<extra></extra>\", \"legendgroup\": \"Porcentaje de afiliados con consultas \\u00fanicas\", \"marker\": {\"color\": \"#45b6fe\"}, \"name\": \"Porcentaje de afiliados con consultas \\u00fanicas\", \"offsetgroup\": \"Porcentaje de afiliados con consultas \\u00fanicas\", \"orientation\": \"v\", \"showlegend\": false, \"textposition\": \"auto\", \"type\": \"bar\", \"x\": [\"especialidad\", \"prestador\"], \"xaxis\": \"x11\", \"y\": [0.0, 0.0], \"yaxis\": \"y11\"}, {\"alignmentgroup\": \"True\", \"hovertemplate\": \"consulta=Porcentaje de afiliados con consultas \\u00fanicas<br>variable=2019-12-01<br>tipo=%{x}<br>Participaci\\u00f3n mensual=%{y}<extra></extra>\", \"legendgroup\": \"Porcentaje de afiliados con consultas \\u00fanicas\", \"marker\": {\"color\": \"#45b6fe\"}, \"name\": \"Porcentaje de afiliados con consultas \\u00fanicas\", \"offsetgroup\": \"Porcentaje de afiliados con consultas \\u00fanicas\", \"orientation\": \"v\", \"showlegend\": false, \"textposition\": \"auto\", \"type\": \"bar\", \"x\": [\"especialidad\", \"prestador\"], \"xaxis\": \"x12\", \"y\": [0.0, 0.0], \"yaxis\": \"y12\"}, {\"alignmentgroup\": \"True\", \"hovertemplate\": \"consulta=Porcentaje de afiliados con consultas \\u00fanicas<br>variable=2020-01-01<br>tipo=%{x}<br>Participaci\\u00f3n mensual=%{y}<extra></extra>\", \"legendgroup\": \"Porcentaje de afiliados con consultas \\u00fanicas\", \"marker\": {\"color\": \"#45b6fe\"}, \"name\": \"Porcentaje de afiliados con consultas \\u00fanicas\", \"offsetgroup\": \"Porcentaje de afiliados con consultas \\u00fanicas\", \"orientation\": \"v\", \"showlegend\": false, \"textposition\": \"auto\", \"type\": \"bar\", \"x\": [\"especialidad\", \"prestador\"], \"xaxis\": \"x13\", \"y\": [0.78, 0.74], \"yaxis\": \"y13\"}, {\"alignmentgroup\": \"True\", \"hovertemplate\": \"consulta=Porcentaje de afiliados con 2 consultas<br>variable=2019-01-01<br>tipo=%{x}<br>Participaci\\u00f3n mensual=%{y}<extra></extra>\", \"legendgroup\": \"Porcentaje de afiliados con 2 consultas\", \"marker\": {\"color\": \"#3792cb\"}, \"name\": \"Porcentaje de afiliados con 2 consultas\", \"offsetgroup\": \"Porcentaje de afiliados con 2 consultas\", \"orientation\": \"v\", \"showlegend\": true, \"textposition\": \"auto\", \"type\": \"bar\", \"x\": [\"especialidad\", \"prestador\"], \"xaxis\": \"x\", \"y\": [0.18, 0.12], \"yaxis\": \"y\"}, {\"alignmentgroup\": \"True\", \"hovertemplate\": \"consulta=Porcentaje de afiliados con 2 consultas<br>variable=2019-02-01<br>tipo=%{x}<br>Participaci\\u00f3n mensual=%{y}<extra></extra>\", \"legendgroup\": \"Porcentaje de afiliados con 2 consultas\", \"marker\": {\"color\": \"#3792cb\"}, \"name\": \"Porcentaje de afiliados con 2 consultas\", \"offsetgroup\": \"Porcentaje de afiliados con 2 consultas\", \"orientation\": \"v\", \"showlegend\": false, \"textposition\": \"auto\", \"type\": \"bar\", \"x\": [\"especialidad\", \"prestador\"], \"xaxis\": \"x2\", \"y\": [0.11, 0.12], \"yaxis\": \"y2\"}, {\"alignmentgroup\": \"True\", \"hovertemplate\": \"consulta=Porcentaje de afiliados con 2 consultas<br>variable=2019-03-01<br>tipo=%{x}<br>Participaci\\u00f3n mensual=%{y}<extra></extra>\", \"legendgroup\": \"Porcentaje de afiliados con 2 consultas\", \"marker\": {\"color\": \"#3792cb\"}, \"name\": \"Porcentaje de afiliados con 2 consultas\", \"offsetgroup\": \"Porcentaje de afiliados con 2 consultas\", \"orientation\": \"v\", \"showlegend\": false, \"textposition\": \"auto\", \"type\": \"bar\", \"x\": [\"especialidad\", \"prestador\"], \"xaxis\": \"x3\", \"y\": [0.0, 0.0], \"yaxis\": \"y3\"}, {\"alignmentgroup\": \"True\", \"hovertemplate\": \"consulta=Porcentaje de afiliados con 2 consultas<br>variable=2019-04-01<br>tipo=%{x}<br>Participaci\\u00f3n mensual=%{y}<extra></extra>\", \"legendgroup\": \"Porcentaje de afiliados con 2 consultas\", \"marker\": {\"color\": \"#3792cb\"}, \"name\": \"Porcentaje de afiliados con 2 consultas\", \"offsetgroup\": \"Porcentaje de afiliados con 2 consultas\", \"orientation\": \"v\", \"showlegend\": false, \"textposition\": \"auto\", \"type\": \"bar\", \"x\": [\"especialidad\", \"prestador\"], \"xaxis\": \"x4\", \"y\": [0.0, 0.0], \"yaxis\": \"y4\"}, {\"alignmentgroup\": \"True\", \"hovertemplate\": \"consulta=Porcentaje de afiliados con 2 consultas<br>variable=2019-05-01<br>tipo=%{x}<br>Participaci\\u00f3n mensual=%{y}<extra></extra>\", \"legendgroup\": \"Porcentaje de afiliados con 2 consultas\", \"marker\": {\"color\": \"#3792cb\"}, \"name\": \"Porcentaje de afiliados con 2 consultas\", \"offsetgroup\": \"Porcentaje de afiliados con 2 consultas\", \"orientation\": \"v\", \"showlegend\": false, \"textposition\": \"auto\", \"type\": \"bar\", \"x\": [\"especialidad\", \"prestador\"], \"xaxis\": \"x5\", \"y\": [0.21, 0.33], \"yaxis\": \"y5\"}, {\"alignmentgroup\": \"True\", \"hovertemplate\": \"consulta=Porcentaje de afiliados con 2 consultas<br>variable=2019-06-01<br>tipo=%{x}<br>Participaci\\u00f3n mensual=%{y}<extra></extra>\", \"legendgroup\": \"Porcentaje de afiliados con 2 consultas\", \"marker\": {\"color\": \"#3792cb\"}, \"name\": \"Porcentaje de afiliados con 2 consultas\", \"offsetgroup\": \"Porcentaje de afiliados con 2 consultas\", \"orientation\": \"v\", \"showlegend\": false, \"textposition\": \"auto\", \"type\": \"bar\", \"x\": [\"especialidad\", \"prestador\"], \"xaxis\": \"x6\", \"y\": [0.0, 0.0], \"yaxis\": \"y6\"}, {\"alignmentgroup\": \"True\", \"hovertemplate\": \"consulta=Porcentaje de afiliados con 2 consultas<br>variable=2019-07-01<br>tipo=%{x}<br>Participaci\\u00f3n mensual=%{y}<extra></extra>\", \"legendgroup\": \"Porcentaje de afiliados con 2 consultas\", \"marker\": {\"color\": \"#3792cb\"}, \"name\": \"Porcentaje de afiliados con 2 consultas\", \"offsetgroup\": \"Porcentaje de afiliados con 2 consultas\", \"orientation\": \"v\", \"showlegend\": false, \"textposition\": \"auto\", \"type\": \"bar\", \"x\": [\"especialidad\", \"prestador\"], \"xaxis\": \"x7\", \"y\": [0.16, 0.05], \"yaxis\": \"y7\"}, {\"alignmentgroup\": \"True\", \"hovertemplate\": \"consulta=Porcentaje de afiliados con 2 consultas<br>variable=2019-08-01<br>tipo=%{x}<br>Participaci\\u00f3n mensual=%{y}<extra></extra>\", \"legendgroup\": \"Porcentaje de afiliados con 2 consultas\", \"marker\": {\"color\": \"#3792cb\"}, \"name\": \"Porcentaje de afiliados con 2 consultas\", \"offsetgroup\": \"Porcentaje de afiliados con 2 consultas\", \"orientation\": \"v\", \"showlegend\": false, \"textposition\": \"auto\", \"type\": \"bar\", \"x\": [\"especialidad\", \"prestador\"], \"xaxis\": \"x8\", \"y\": [0.17, 0.11], \"yaxis\": \"y8\"}, {\"alignmentgroup\": \"True\", \"hovertemplate\": \"consulta=Porcentaje de afiliados con 2 consultas<br>variable=2019-09-01<br>tipo=%{x}<br>Participaci\\u00f3n mensual=%{y}<extra></extra>\", \"legendgroup\": \"Porcentaje de afiliados con 2 consultas\", \"marker\": {\"color\": \"#3792cb\"}, \"name\": \"Porcentaje de afiliados con 2 consultas\", \"offsetgroup\": \"Porcentaje de afiliados con 2 consultas\", \"orientation\": \"v\", \"showlegend\": false, \"textposition\": \"auto\", \"type\": \"bar\", \"x\": [\"especialidad\", \"prestador\"], \"xaxis\": \"x9\", \"y\": [0.23, 0.22], \"yaxis\": \"y9\"}, {\"alignmentgroup\": \"True\", \"hovertemplate\": \"consulta=Porcentaje de afiliados con 2 consultas<br>variable=2019-10-01<br>tipo=%{x}<br>Participaci\\u00f3n mensual=%{y}<extra></extra>\", \"legendgroup\": \"Porcentaje de afiliados con 2 consultas\", \"marker\": {\"color\": \"#3792cb\"}, \"name\": \"Porcentaje de afiliados con 2 consultas\", \"offsetgroup\": \"Porcentaje de afiliados con 2 consultas\", \"orientation\": \"v\", \"showlegend\": false, \"textposition\": \"auto\", \"type\": \"bar\", \"x\": [\"especialidad\", \"prestador\"], \"xaxis\": \"x10\", \"y\": [0.17, 0.13], \"yaxis\": \"y10\"}, {\"alignmentgroup\": \"True\", \"hovertemplate\": \"consulta=Porcentaje de afiliados con 2 consultas<br>variable=2019-11-01<br>tipo=%{x}<br>Participaci\\u00f3n mensual=%{y}<extra></extra>\", \"legendgroup\": \"Porcentaje de afiliados con 2 consultas\", \"marker\": {\"color\": \"#3792cb\"}, \"name\": \"Porcentaje de afiliados con 2 consultas\", \"offsetgroup\": \"Porcentaje de afiliados con 2 consultas\", \"orientation\": \"v\", \"showlegend\": false, \"textposition\": \"auto\", \"type\": \"bar\", \"x\": [\"especialidad\", \"prestador\"], \"xaxis\": \"x11\", \"y\": [0.0, 0.0], \"yaxis\": \"y11\"}, {\"alignmentgroup\": \"True\", \"hovertemplate\": \"consulta=Porcentaje de afiliados con 2 consultas<br>variable=2019-12-01<br>tipo=%{x}<br>Participaci\\u00f3n mensual=%{y}<extra></extra>\", \"legendgroup\": \"Porcentaje de afiliados con 2 consultas\", \"marker\": {\"color\": \"#3792cb\"}, \"name\": \"Porcentaje de afiliados con 2 consultas\", \"offsetgroup\": \"Porcentaje de afiliados con 2 consultas\", \"orientation\": \"v\", \"showlegend\": false, \"textposition\": \"auto\", \"type\": \"bar\", \"x\": [\"especialidad\", \"prestador\"], \"xaxis\": \"x12\", \"y\": [0.0, 0.0], \"yaxis\": \"y12\"}, {\"alignmentgroup\": \"True\", \"hovertemplate\": \"consulta=Porcentaje de afiliados con 2 consultas<br>variable=2020-01-01<br>tipo=%{x}<br>Participaci\\u00f3n mensual=%{y}<extra></extra>\", \"legendgroup\": \"Porcentaje de afiliados con 2 consultas\", \"marker\": {\"color\": \"#3792cb\"}, \"name\": \"Porcentaje de afiliados con 2 consultas\", \"offsetgroup\": \"Porcentaje de afiliados con 2 consultas\", \"orientation\": \"v\", \"showlegend\": false, \"textposition\": \"auto\", \"type\": \"bar\", \"x\": [\"especialidad\", \"prestador\"], \"xaxis\": \"x13\", \"y\": [0.19, 0.12], \"yaxis\": \"y13\"}, {\"alignmentgroup\": \"True\", \"hovertemplate\": \"consulta=Porcentaje de afiliados con 3 consultas<br>variable=2019-01-01<br>tipo=%{x}<br>Participaci\\u00f3n mensual=%{y}<extra></extra>\", \"legendgroup\": \"Porcentaje de afiliados con 3 consultas\", \"marker\": {\"color\": \"#296d98\"}, \"name\": \"Porcentaje de afiliados con 3 consultas\", \"offsetgroup\": \"Porcentaje de afiliados con 3 consultas\", \"orientation\": \"v\", \"showlegend\": true, \"textposition\": \"auto\", \"type\": \"bar\", \"x\": [\"especialidad\", \"prestador\"], \"xaxis\": \"x\", \"y\": [0.06, 0.0], \"yaxis\": \"y\"}, {\"alignmentgroup\": \"True\", \"hovertemplate\": \"consulta=Porcentaje de afiliados con 3 consultas<br>variable=2019-02-01<br>tipo=%{x}<br>Participaci\\u00f3n mensual=%{y}<extra></extra>\", \"legendgroup\": \"Porcentaje de afiliados con 3 consultas\", \"marker\": {\"color\": \"#296d98\"}, \"name\": \"Porcentaje de afiliados con 3 consultas\", \"offsetgroup\": \"Porcentaje de afiliados con 3 consultas\", \"orientation\": \"v\", \"showlegend\": false, \"textposition\": \"auto\", \"type\": \"bar\", \"x\": [\"especialidad\", \"prestador\"], \"xaxis\": \"x2\", \"y\": [0.01, 0.0], \"yaxis\": \"y2\"}, {\"alignmentgroup\": \"True\", \"hovertemplate\": \"consulta=Porcentaje de afiliados con 3 consultas<br>variable=2019-03-01<br>tipo=%{x}<br>Participaci\\u00f3n mensual=%{y}<extra></extra>\", \"legendgroup\": \"Porcentaje de afiliados con 3 consultas\", \"marker\": {\"color\": \"#296d98\"}, \"name\": \"Porcentaje de afiliados con 3 consultas\", \"offsetgroup\": \"Porcentaje de afiliados con 3 consultas\", \"orientation\": \"v\", \"showlegend\": false, \"textposition\": \"auto\", \"type\": \"bar\", \"x\": [\"especialidad\", \"prestador\"], \"xaxis\": \"x3\", \"y\": [0.0, 0.0], \"yaxis\": \"y3\"}, {\"alignmentgroup\": \"True\", \"hovertemplate\": \"consulta=Porcentaje de afiliados con 3 consultas<br>variable=2019-04-01<br>tipo=%{x}<br>Participaci\\u00f3n mensual=%{y}<extra></extra>\", \"legendgroup\": \"Porcentaje de afiliados con 3 consultas\", \"marker\": {\"color\": \"#296d98\"}, \"name\": \"Porcentaje de afiliados con 3 consultas\", \"offsetgroup\": \"Porcentaje de afiliados con 3 consultas\", \"orientation\": \"v\", \"showlegend\": false, \"textposition\": \"auto\", \"type\": \"bar\", \"x\": [\"especialidad\", \"prestador\"], \"xaxis\": \"x4\", \"y\": [0.0, 0.0], \"yaxis\": \"y4\"}, {\"alignmentgroup\": \"True\", \"hovertemplate\": \"consulta=Porcentaje de afiliados con 3 consultas<br>variable=2019-05-01<br>tipo=%{x}<br>Participaci\\u00f3n mensual=%{y}<extra></extra>\", \"legendgroup\": \"Porcentaje de afiliados con 3 consultas\", \"marker\": {\"color\": \"#296d98\"}, \"name\": \"Porcentaje de afiliados con 3 consultas\", \"offsetgroup\": \"Porcentaje de afiliados con 3 consultas\", \"orientation\": \"v\", \"showlegend\": false, \"textposition\": \"auto\", \"type\": \"bar\", \"x\": [\"especialidad\", \"prestador\"], \"xaxis\": \"x5\", \"y\": [0.04, 0.07], \"yaxis\": \"y5\"}, {\"alignmentgroup\": \"True\", \"hovertemplate\": \"consulta=Porcentaje de afiliados con 3 consultas<br>variable=2019-06-01<br>tipo=%{x}<br>Participaci\\u00f3n mensual=%{y}<extra></extra>\", \"legendgroup\": \"Porcentaje de afiliados con 3 consultas\", \"marker\": {\"color\": \"#296d98\"}, \"name\": \"Porcentaje de afiliados con 3 consultas\", \"offsetgroup\": \"Porcentaje de afiliados con 3 consultas\", \"orientation\": \"v\", \"showlegend\": false, \"textposition\": \"auto\", \"type\": \"bar\", \"x\": [\"especialidad\", \"prestador\"], \"xaxis\": \"x6\", \"y\": [0.0, 0.0], \"yaxis\": \"y6\"}, {\"alignmentgroup\": \"True\", \"hovertemplate\": \"consulta=Porcentaje de afiliados con 3 consultas<br>variable=2019-07-01<br>tipo=%{x}<br>Participaci\\u00f3n mensual=%{y}<extra></extra>\", \"legendgroup\": \"Porcentaje de afiliados con 3 consultas\", \"marker\": {\"color\": \"#296d98\"}, \"name\": \"Porcentaje de afiliados con 3 consultas\", \"offsetgroup\": \"Porcentaje de afiliados con 3 consultas\", \"orientation\": \"v\", \"showlegend\": false, \"textposition\": \"auto\", \"type\": \"bar\", \"x\": [\"especialidad\", \"prestador\"], \"xaxis\": \"x7\", \"y\": [0.06, 0.07], \"yaxis\": \"y7\"}, {\"alignmentgroup\": \"True\", \"hovertemplate\": \"consulta=Porcentaje de afiliados con 3 consultas<br>variable=2019-08-01<br>tipo=%{x}<br>Participaci\\u00f3n mensual=%{y}<extra></extra>\", \"legendgroup\": \"Porcentaje de afiliados con 3 consultas\", \"marker\": {\"color\": \"#296d98\"}, \"name\": \"Porcentaje de afiliados con 3 consultas\", \"offsetgroup\": \"Porcentaje de afiliados con 3 consultas\", \"orientation\": \"v\", \"showlegend\": false, \"textposition\": \"auto\", \"type\": \"bar\", \"x\": [\"especialidad\", \"prestador\"], \"xaxis\": \"x8\", \"y\": [0.08, 0.09], \"yaxis\": \"y8\"}, {\"alignmentgroup\": \"True\", \"hovertemplate\": \"consulta=Porcentaje de afiliados con 3 consultas<br>variable=2019-09-01<br>tipo=%{x}<br>Participaci\\u00f3n mensual=%{y}<extra></extra>\", \"legendgroup\": \"Porcentaje de afiliados con 3 consultas\", \"marker\": {\"color\": \"#296d98\"}, \"name\": \"Porcentaje de afiliados con 3 consultas\", \"offsetgroup\": \"Porcentaje de afiliados con 3 consultas\", \"orientation\": \"v\", \"showlegend\": false, \"textposition\": \"auto\", \"type\": \"bar\", \"x\": [\"especialidad\", \"prestador\"], \"xaxis\": \"x9\", \"y\": [0.03, 0.0], \"yaxis\": \"y9\"}, {\"alignmentgroup\": \"True\", \"hovertemplate\": \"consulta=Porcentaje de afiliados con 3 consultas<br>variable=2019-10-01<br>tipo=%{x}<br>Participaci\\u00f3n mensual=%{y}<extra></extra>\", \"legendgroup\": \"Porcentaje de afiliados con 3 consultas\", \"marker\": {\"color\": \"#296d98\"}, \"name\": \"Porcentaje de afiliados con 3 consultas\", \"offsetgroup\": \"Porcentaje de afiliados con 3 consultas\", \"orientation\": \"v\", \"showlegend\": false, \"textposition\": \"auto\", \"type\": \"bar\", \"x\": [\"especialidad\", \"prestador\"], \"xaxis\": \"x10\", \"y\": [0.06, 0.05], \"yaxis\": \"y10\"}, {\"alignmentgroup\": \"True\", \"hovertemplate\": \"consulta=Porcentaje de afiliados con 3 consultas<br>variable=2019-11-01<br>tipo=%{x}<br>Participaci\\u00f3n mensual=%{y}<extra></extra>\", \"legendgroup\": \"Porcentaje de afiliados con 3 consultas\", \"marker\": {\"color\": \"#296d98\"}, \"name\": \"Porcentaje de afiliados con 3 consultas\", \"offsetgroup\": \"Porcentaje de afiliados con 3 consultas\", \"orientation\": \"v\", \"showlegend\": false, \"textposition\": \"auto\", \"type\": \"bar\", \"x\": [\"especialidad\", \"prestador\"], \"xaxis\": \"x11\", \"y\": [0.0, 0.0], \"yaxis\": \"y11\"}, {\"alignmentgroup\": \"True\", \"hovertemplate\": \"consulta=Porcentaje de afiliados con 3 consultas<br>variable=2019-12-01<br>tipo=%{x}<br>Participaci\\u00f3n mensual=%{y}<extra></extra>\", \"legendgroup\": \"Porcentaje de afiliados con 3 consultas\", \"marker\": {\"color\": \"#296d98\"}, \"name\": \"Porcentaje de afiliados con 3 consultas\", \"offsetgroup\": \"Porcentaje de afiliados con 3 consultas\", \"orientation\": \"v\", \"showlegend\": false, \"textposition\": \"auto\", \"type\": \"bar\", \"x\": [\"especialidad\", \"prestador\"], \"xaxis\": \"x12\", \"y\": [0.0, 0.0], \"yaxis\": \"y12\"}, {\"alignmentgroup\": \"True\", \"hovertemplate\": \"consulta=Porcentaje de afiliados con 3 consultas<br>variable=2020-01-01<br>tipo=%{x}<br>Participaci\\u00f3n mensual=%{y}<extra></extra>\", \"legendgroup\": \"Porcentaje de afiliados con 3 consultas\", \"marker\": {\"color\": \"#296d98\"}, \"name\": \"Porcentaje de afiliados con 3 consultas\", \"offsetgroup\": \"Porcentaje de afiliados con 3 consultas\", \"orientation\": \"v\", \"showlegend\": false, \"textposition\": \"auto\", \"type\": \"bar\", \"x\": [\"especialidad\", \"prestador\"], \"xaxis\": \"x13\", \"y\": [0.02, 0.06], \"yaxis\": \"y13\"}, {\"alignmentgroup\": \"True\", \"hovertemplate\": \"consulta=Porcentaje de afiliados con 4 consultas<br>variable=2019-01-01<br>tipo=%{x}<br>Participaci\\u00f3n mensual=%{y}<extra></extra>\", \"legendgroup\": \"Porcentaje de afiliados con 4 consultas\", \"marker\": {\"color\": \"#1c4966\"}, \"name\": \"Porcentaje de afiliados con 4 consultas\", \"offsetgroup\": \"Porcentaje de afiliados con 4 consultas\", \"orientation\": \"v\", \"showlegend\": true, \"textposition\": \"auto\", \"type\": \"bar\", \"x\": [\"especialidad\", \"prestador\"], \"xaxis\": \"x\", \"y\": [0.02, 0.0], \"yaxis\": \"y\"}, {\"alignmentgroup\": \"True\", \"hovertemplate\": \"consulta=Porcentaje de afiliados con 4 consultas<br>variable=2019-02-01<br>tipo=%{x}<br>Participaci\\u00f3n mensual=%{y}<extra></extra>\", \"legendgroup\": \"Porcentaje de afiliados con 4 consultas\", \"marker\": {\"color\": \"#1c4966\"}, \"name\": \"Porcentaje de afiliados con 4 consultas\", \"offsetgroup\": \"Porcentaje de afiliados con 4 consultas\", \"orientation\": \"v\", \"showlegend\": false, \"textposition\": \"auto\", \"type\": \"bar\", \"x\": [\"especialidad\", \"prestador\"], \"xaxis\": \"x2\", \"y\": [0.0, 0.0], \"yaxis\": \"y2\"}, {\"alignmentgroup\": \"True\", \"hovertemplate\": \"consulta=Porcentaje de afiliados con 4 consultas<br>variable=2019-03-01<br>tipo=%{x}<br>Participaci\\u00f3n mensual=%{y}<extra></extra>\", \"legendgroup\": \"Porcentaje de afiliados con 4 consultas\", \"marker\": {\"color\": \"#1c4966\"}, \"name\": \"Porcentaje de afiliados con 4 consultas\", \"offsetgroup\": \"Porcentaje de afiliados con 4 consultas\", \"orientation\": \"v\", \"showlegend\": false, \"textposition\": \"auto\", \"type\": \"bar\", \"x\": [\"especialidad\", \"prestador\"], \"xaxis\": \"x3\", \"y\": [0.0, 0.0], \"yaxis\": \"y3\"}, {\"alignmentgroup\": \"True\", \"hovertemplate\": \"consulta=Porcentaje de afiliados con 4 consultas<br>variable=2019-04-01<br>tipo=%{x}<br>Participaci\\u00f3n mensual=%{y}<extra></extra>\", \"legendgroup\": \"Porcentaje de afiliados con 4 consultas\", \"marker\": {\"color\": \"#1c4966\"}, \"name\": \"Porcentaje de afiliados con 4 consultas\", \"offsetgroup\": \"Porcentaje de afiliados con 4 consultas\", \"orientation\": \"v\", \"showlegend\": false, \"textposition\": \"auto\", \"type\": \"bar\", \"x\": [\"especialidad\", \"prestador\"], \"xaxis\": \"x4\", \"y\": [0.0, 0.0], \"yaxis\": \"y4\"}, {\"alignmentgroup\": \"True\", \"hovertemplate\": \"consulta=Porcentaje de afiliados con 4 consultas<br>variable=2019-05-01<br>tipo=%{x}<br>Participaci\\u00f3n mensual=%{y}<extra></extra>\", \"legendgroup\": \"Porcentaje de afiliados con 4 consultas\", \"marker\": {\"color\": \"#1c4966\"}, \"name\": \"Porcentaje de afiliados con 4 consultas\", \"offsetgroup\": \"Porcentaje de afiliados con 4 consultas\", \"orientation\": \"v\", \"showlegend\": false, \"textposition\": \"auto\", \"type\": \"bar\", \"x\": [\"especialidad\", \"prestador\"], \"xaxis\": \"x5\", \"y\": [0.0, 0.0], \"yaxis\": \"y5\"}, {\"alignmentgroup\": \"True\", \"hovertemplate\": \"consulta=Porcentaje de afiliados con 4 consultas<br>variable=2019-06-01<br>tipo=%{x}<br>Participaci\\u00f3n mensual=%{y}<extra></extra>\", \"legendgroup\": \"Porcentaje de afiliados con 4 consultas\", \"marker\": {\"color\": \"#1c4966\"}, \"name\": \"Porcentaje de afiliados con 4 consultas\", \"offsetgroup\": \"Porcentaje de afiliados con 4 consultas\", \"orientation\": \"v\", \"showlegend\": false, \"textposition\": \"auto\", \"type\": \"bar\", \"x\": [\"especialidad\", \"prestador\"], \"xaxis\": \"x6\", \"y\": [0.0, 0.0], \"yaxis\": \"y6\"}, {\"alignmentgroup\": \"True\", \"hovertemplate\": \"consulta=Porcentaje de afiliados con 4 consultas<br>variable=2019-07-01<br>tipo=%{x}<br>Participaci\\u00f3n mensual=%{y}<extra></extra>\", \"legendgroup\": \"Porcentaje de afiliados con 4 consultas\", \"marker\": {\"color\": \"#1c4966\"}, \"name\": \"Porcentaje de afiliados con 4 consultas\", \"offsetgroup\": \"Porcentaje de afiliados con 4 consultas\", \"orientation\": \"v\", \"showlegend\": false, \"textposition\": \"auto\", \"type\": \"bar\", \"x\": [\"especialidad\", \"prestador\"], \"xaxis\": \"x7\", \"y\": [0.0, 0.0], \"yaxis\": \"y7\"}, {\"alignmentgroup\": \"True\", \"hovertemplate\": \"consulta=Porcentaje de afiliados con 4 consultas<br>variable=2019-08-01<br>tipo=%{x}<br>Participaci\\u00f3n mensual=%{y}<extra></extra>\", \"legendgroup\": \"Porcentaje de afiliados con 4 consultas\", \"marker\": {\"color\": \"#1c4966\"}, \"name\": \"Porcentaje de afiliados con 4 consultas\", \"offsetgroup\": \"Porcentaje de afiliados con 4 consultas\", \"orientation\": \"v\", \"showlegend\": false, \"textposition\": \"auto\", \"type\": \"bar\", \"x\": [\"especialidad\", \"prestador\"], \"xaxis\": \"x8\", \"y\": [0.0, 0.0], \"yaxis\": \"y8\"}, {\"alignmentgroup\": \"True\", \"hovertemplate\": \"consulta=Porcentaje de afiliados con 4 consultas<br>variable=2019-09-01<br>tipo=%{x}<br>Participaci\\u00f3n mensual=%{y}<extra></extra>\", \"legendgroup\": \"Porcentaje de afiliados con 4 consultas\", \"marker\": {\"color\": \"#1c4966\"}, \"name\": \"Porcentaje de afiliados con 4 consultas\", \"offsetgroup\": \"Porcentaje de afiliados con 4 consultas\", \"orientation\": \"v\", \"showlegend\": false, \"textposition\": \"auto\", \"type\": \"bar\", \"x\": [\"especialidad\", \"prestador\"], \"xaxis\": \"x9\", \"y\": [0.01, 0.0], \"yaxis\": \"y9\"}, {\"alignmentgroup\": \"True\", \"hovertemplate\": \"consulta=Porcentaje de afiliados con 4 consultas<br>variable=2019-10-01<br>tipo=%{x}<br>Participaci\\u00f3n mensual=%{y}<extra></extra>\", \"legendgroup\": \"Porcentaje de afiliados con 4 consultas\", \"marker\": {\"color\": \"#1c4966\"}, \"name\": \"Porcentaje de afiliados con 4 consultas\", \"offsetgroup\": \"Porcentaje de afiliados con 4 consultas\", \"orientation\": \"v\", \"showlegend\": false, \"textposition\": \"auto\", \"type\": \"bar\", \"x\": [\"especialidad\", \"prestador\"], \"xaxis\": \"x10\", \"y\": [0.01, 0.0], \"yaxis\": \"y10\"}, {\"alignmentgroup\": \"True\", \"hovertemplate\": \"consulta=Porcentaje de afiliados con 4 consultas<br>variable=2019-11-01<br>tipo=%{x}<br>Participaci\\u00f3n mensual=%{y}<extra></extra>\", \"legendgroup\": \"Porcentaje de afiliados con 4 consultas\", \"marker\": {\"color\": \"#1c4966\"}, \"name\": \"Porcentaje de afiliados con 4 consultas\", \"offsetgroup\": \"Porcentaje de afiliados con 4 consultas\", \"orientation\": \"v\", \"showlegend\": false, \"textposition\": \"auto\", \"type\": \"bar\", \"x\": [\"especialidad\", \"prestador\"], \"xaxis\": \"x11\", \"y\": [0.0, 0.0], \"yaxis\": \"y11\"}, {\"alignmentgroup\": \"True\", \"hovertemplate\": \"consulta=Porcentaje de afiliados con 4 consultas<br>variable=2019-12-01<br>tipo=%{x}<br>Participaci\\u00f3n mensual=%{y}<extra></extra>\", \"legendgroup\": \"Porcentaje de afiliados con 4 consultas\", \"marker\": {\"color\": \"#1c4966\"}, \"name\": \"Porcentaje de afiliados con 4 consultas\", \"offsetgroup\": \"Porcentaje de afiliados con 4 consultas\", \"orientation\": \"v\", \"showlegend\": false, \"textposition\": \"auto\", \"type\": \"bar\", \"x\": [\"especialidad\", \"prestador\"], \"xaxis\": \"x12\", \"y\": [0.0, 0.0], \"yaxis\": \"y12\"}, {\"alignmentgroup\": \"True\", \"hovertemplate\": \"consulta=Porcentaje de afiliados con 4 consultas<br>variable=2020-01-01<br>tipo=%{x}<br>Participaci\\u00f3n mensual=%{y}<extra></extra>\", \"legendgroup\": \"Porcentaje de afiliados con 4 consultas\", \"marker\": {\"color\": \"#1c4966\"}, \"name\": \"Porcentaje de afiliados con 4 consultas\", \"offsetgroup\": \"Porcentaje de afiliados con 4 consultas\", \"orientation\": \"v\", \"showlegend\": false, \"textposition\": \"auto\", \"type\": \"bar\", \"x\": [\"especialidad\", \"prestador\"], \"xaxis\": \"x13\", \"y\": [0.02, 0.08], \"yaxis\": \"y13\"}, {\"alignmentgroup\": \"True\", \"hovertemplate\": \"consulta=Porcentaje de afiliados con m\\u00e1s de 4 consultas<br>variable=2019-01-01<br>tipo=%{x}<br>Participaci\\u00f3n mensual=%{y}<extra></extra>\", \"legendgroup\": \"Porcentaje de afiliados con m\\u00e1s de 4 consultas\", \"marker\": {\"color\": \"black\"}, \"name\": \"Porcentaje de afiliados con m\\u00e1s de 4 consultas\", \"offsetgroup\": \"Porcentaje de afiliados con m\\u00e1s de 4 consultas\", \"orientation\": \"v\", \"showlegend\": true, \"textposition\": \"auto\", \"type\": \"bar\", \"x\": [\"especialidad\", \"prestador\"], \"xaxis\": \"x\", \"y\": [0.0, 0.0], \"yaxis\": \"y\"}, {\"alignmentgroup\": \"True\", \"hovertemplate\": \"consulta=Porcentaje de afiliados con m\\u00e1s de 4 consultas<br>variable=2019-02-01<br>tipo=%{x}<br>Participaci\\u00f3n mensual=%{y}<extra></extra>\", \"legendgroup\": \"Porcentaje de afiliados con m\\u00e1s de 4 consultas\", \"marker\": {\"color\": \"black\"}, \"name\": \"Porcentaje de afiliados con m\\u00e1s de 4 consultas\", \"offsetgroup\": \"Porcentaje de afiliados con m\\u00e1s de 4 consultas\", \"orientation\": \"v\", \"showlegend\": false, \"textposition\": \"auto\", \"type\": \"bar\", \"x\": [\"especialidad\", \"prestador\"], \"xaxis\": \"x2\", \"y\": [0.0, 0.0], \"yaxis\": \"y2\"}, {\"alignmentgroup\": \"True\", \"hovertemplate\": \"consulta=Porcentaje de afiliados con m\\u00e1s de 4 consultas<br>variable=2019-03-01<br>tipo=%{x}<br>Participaci\\u00f3n mensual=%{y}<extra></extra>\", \"legendgroup\": \"Porcentaje de afiliados con m\\u00e1s de 4 consultas\", \"marker\": {\"color\": \"black\"}, \"name\": \"Porcentaje de afiliados con m\\u00e1s de 4 consultas\", \"offsetgroup\": \"Porcentaje de afiliados con m\\u00e1s de 4 consultas\", \"orientation\": \"v\", \"showlegend\": false, \"textposition\": \"auto\", \"type\": \"bar\", \"x\": [\"especialidad\", \"prestador\"], \"xaxis\": \"x3\", \"y\": [0.0, 0.0], \"yaxis\": \"y3\"}, {\"alignmentgroup\": \"True\", \"hovertemplate\": \"consulta=Porcentaje de afiliados con m\\u00e1s de 4 consultas<br>variable=2019-04-01<br>tipo=%{x}<br>Participaci\\u00f3n mensual=%{y}<extra></extra>\", \"legendgroup\": \"Porcentaje de afiliados con m\\u00e1s de 4 consultas\", \"marker\": {\"color\": \"black\"}, \"name\": \"Porcentaje de afiliados con m\\u00e1s de 4 consultas\", \"offsetgroup\": \"Porcentaje de afiliados con m\\u00e1s de 4 consultas\", \"orientation\": \"v\", \"showlegend\": false, \"textposition\": \"auto\", \"type\": \"bar\", \"x\": [\"especialidad\", \"prestador\"], \"xaxis\": \"x4\", \"y\": [0.0, 0.0], \"yaxis\": \"y4\"}, {\"alignmentgroup\": \"True\", \"hovertemplate\": \"consulta=Porcentaje de afiliados con m\\u00e1s de 4 consultas<br>variable=2019-05-01<br>tipo=%{x}<br>Participaci\\u00f3n mensual=%{y}<extra></extra>\", \"legendgroup\": \"Porcentaje de afiliados con m\\u00e1s de 4 consultas\", \"marker\": {\"color\": \"black\"}, \"name\": \"Porcentaje de afiliados con m\\u00e1s de 4 consultas\", \"offsetgroup\": \"Porcentaje de afiliados con m\\u00e1s de 4 consultas\", \"orientation\": \"v\", \"showlegend\": false, \"textposition\": \"auto\", \"type\": \"bar\", \"x\": [\"especialidad\", \"prestador\"], \"xaxis\": \"x5\", \"y\": [0.0, 0.0], \"yaxis\": \"y5\"}, {\"alignmentgroup\": \"True\", \"hovertemplate\": \"consulta=Porcentaje de afiliados con m\\u00e1s de 4 consultas<br>variable=2019-06-01<br>tipo=%{x}<br>Participaci\\u00f3n mensual=%{y}<extra></extra>\", \"legendgroup\": \"Porcentaje de afiliados con m\\u00e1s de 4 consultas\", \"marker\": {\"color\": \"black\"}, \"name\": \"Porcentaje de afiliados con m\\u00e1s de 4 consultas\", \"offsetgroup\": \"Porcentaje de afiliados con m\\u00e1s de 4 consultas\", \"orientation\": \"v\", \"showlegend\": false, \"textposition\": \"auto\", \"type\": \"bar\", \"x\": [\"especialidad\", \"prestador\"], \"xaxis\": \"x6\", \"y\": [0.0, 0.0], \"yaxis\": \"y6\"}, {\"alignmentgroup\": \"True\", \"hovertemplate\": \"consulta=Porcentaje de afiliados con m\\u00e1s de 4 consultas<br>variable=2019-07-01<br>tipo=%{x}<br>Participaci\\u00f3n mensual=%{y}<extra></extra>\", \"legendgroup\": \"Porcentaje de afiliados con m\\u00e1s de 4 consultas\", \"marker\": {\"color\": \"black\"}, \"name\": \"Porcentaje de afiliados con m\\u00e1s de 4 consultas\", \"offsetgroup\": \"Porcentaje de afiliados con m\\u00e1s de 4 consultas\", \"orientation\": \"v\", \"showlegend\": false, \"textposition\": \"auto\", \"type\": \"bar\", \"x\": [\"especialidad\", \"prestador\"], \"xaxis\": \"x7\", \"y\": [0.0, 0.0], \"yaxis\": \"y7\"}, {\"alignmentgroup\": \"True\", \"hovertemplate\": \"consulta=Porcentaje de afiliados con m\\u00e1s de 4 consultas<br>variable=2019-08-01<br>tipo=%{x}<br>Participaci\\u00f3n mensual=%{y}<extra></extra>\", \"legendgroup\": \"Porcentaje de afiliados con m\\u00e1s de 4 consultas\", \"marker\": {\"color\": \"black\"}, \"name\": \"Porcentaje de afiliados con m\\u00e1s de 4 consultas\", \"offsetgroup\": \"Porcentaje de afiliados con m\\u00e1s de 4 consultas\", \"orientation\": \"v\", \"showlegend\": false, \"textposition\": \"auto\", \"type\": \"bar\", \"x\": [\"especialidad\", \"prestador\"], \"xaxis\": \"x8\", \"y\": [0.0, -0.0], \"yaxis\": \"y8\"}, {\"alignmentgroup\": \"True\", \"hovertemplate\": \"consulta=Porcentaje de afiliados con m\\u00e1s de 4 consultas<br>variable=2019-09-01<br>tipo=%{x}<br>Participaci\\u00f3n mensual=%{y}<extra></extra>\", \"legendgroup\": \"Porcentaje de afiliados con m\\u00e1s de 4 consultas\", \"marker\": {\"color\": \"black\"}, \"name\": \"Porcentaje de afiliados con m\\u00e1s de 4 consultas\", \"offsetgroup\": \"Porcentaje de afiliados con m\\u00e1s de 4 consultas\", \"orientation\": \"v\", \"showlegend\": false, \"textposition\": \"auto\", \"type\": \"bar\", \"x\": [\"especialidad\", \"prestador\"], \"xaxis\": \"x9\", \"y\": [0.0, 0.0], \"yaxis\": \"y9\"}, {\"alignmentgroup\": \"True\", \"hovertemplate\": \"consulta=Porcentaje de afiliados con m\\u00e1s de 4 consultas<br>variable=2019-10-01<br>tipo=%{x}<br>Participaci\\u00f3n mensual=%{y}<extra></extra>\", \"legendgroup\": \"Porcentaje de afiliados con m\\u00e1s de 4 consultas\", \"marker\": {\"color\": \"black\"}, \"name\": \"Porcentaje de afiliados con m\\u00e1s de 4 consultas\", \"offsetgroup\": \"Porcentaje de afiliados con m\\u00e1s de 4 consultas\", \"orientation\": \"v\", \"showlegend\": false, \"textposition\": \"auto\", \"type\": \"bar\", \"x\": [\"especialidad\", \"prestador\"], \"xaxis\": \"x10\", \"y\": [0.01, -0.0], \"yaxis\": \"y10\"}, {\"alignmentgroup\": \"True\", \"hovertemplate\": \"consulta=Porcentaje de afiliados con m\\u00e1s de 4 consultas<br>variable=2019-11-01<br>tipo=%{x}<br>Participaci\\u00f3n mensual=%{y}<extra></extra>\", \"legendgroup\": \"Porcentaje de afiliados con m\\u00e1s de 4 consultas\", \"marker\": {\"color\": \"black\"}, \"name\": \"Porcentaje de afiliados con m\\u00e1s de 4 consultas\", \"offsetgroup\": \"Porcentaje de afiliados con m\\u00e1s de 4 consultas\", \"orientation\": \"v\", \"showlegend\": false, \"textposition\": \"auto\", \"type\": \"bar\", \"x\": [\"especialidad\", \"prestador\"], \"xaxis\": \"x11\", \"y\": [0.0, 0.0], \"yaxis\": \"y11\"}, {\"alignmentgroup\": \"True\", \"hovertemplate\": \"consulta=Porcentaje de afiliados con m\\u00e1s de 4 consultas<br>variable=2019-12-01<br>tipo=%{x}<br>Participaci\\u00f3n mensual=%{y}<extra></extra>\", \"legendgroup\": \"Porcentaje de afiliados con m\\u00e1s de 4 consultas\", \"marker\": {\"color\": \"black\"}, \"name\": \"Porcentaje de afiliados con m\\u00e1s de 4 consultas\", \"offsetgroup\": \"Porcentaje de afiliados con m\\u00e1s de 4 consultas\", \"orientation\": \"v\", \"showlegend\": false, \"textposition\": \"auto\", \"type\": \"bar\", \"x\": [\"especialidad\", \"prestador\"], \"xaxis\": \"x12\", \"y\": [0.0, 0.0], \"yaxis\": \"y12\"}, {\"alignmentgroup\": \"True\", \"hovertemplate\": \"consulta=Porcentaje de afiliados con m\\u00e1s de 4 consultas<br>variable=2020-01-01<br>tipo=%{x}<br>Participaci\\u00f3n mensual=%{y}<extra></extra>\", \"legendgroup\": \"Porcentaje de afiliados con m\\u00e1s de 4 consultas\", \"marker\": {\"color\": \"black\"}, \"name\": \"Porcentaje de afiliados con m\\u00e1s de 4 consultas\", \"offsetgroup\": \"Porcentaje de afiliados con m\\u00e1s de 4 consultas\", \"orientation\": \"v\", \"showlegend\": false, \"textposition\": \"auto\", \"type\": \"bar\", \"x\": [\"especialidad\", \"prestador\"], \"xaxis\": \"x13\", \"y\": [0.0, 0.0], \"yaxis\": \"y13\"}],\n",
       "                        {\"annotations\": [{\"font\": {}, \"showarrow\": false, \"text\": \"2019-01\", \"x\": 0.029230769230769234, \"xanchor\": \"center\", \"xref\": \"paper\", \"y\": 1.0, \"yanchor\": \"bottom\", \"yref\": \"paper\"}, {\"font\": {}, \"showarrow\": false, \"text\": \"2019-02\", \"x\": 0.1076923076923077, \"xanchor\": \"center\", \"xref\": \"paper\", \"y\": 1.0, \"yanchor\": \"bottom\", \"yref\": \"paper\"}, {\"font\": {}, \"showarrow\": false, \"text\": \"2019-03\", \"x\": 0.18615384615384617, \"xanchor\": \"center\", \"xref\": \"paper\", \"y\": 1.0, \"yanchor\": \"bottom\", \"yref\": \"paper\"}, {\"font\": {}, \"showarrow\": false, \"text\": \"2019-04\", \"x\": 0.26461538461538464, \"xanchor\": \"center\", \"xref\": \"paper\", \"y\": 1.0, \"yanchor\": \"bottom\", \"yref\": \"paper\"}, {\"font\": {}, \"showarrow\": false, \"text\": \"2019-05\", \"x\": 0.3430769230769231, \"xanchor\": \"center\", \"xref\": \"paper\", \"y\": 1.0, \"yanchor\": \"bottom\", \"yref\": \"paper\"}, {\"font\": {}, \"showarrow\": false, \"text\": \"2019-06\", \"x\": 0.4215384615384616, \"xanchor\": \"center\", \"xref\": \"paper\", \"y\": 1.0, \"yanchor\": \"bottom\", \"yref\": \"paper\"}, {\"font\": {}, \"showarrow\": false, \"text\": \"2019-07\", \"x\": 0.5, \"xanchor\": \"center\", \"xref\": \"paper\", \"y\": 1.0, \"yanchor\": \"bottom\", \"yref\": \"paper\"}, {\"font\": {}, \"showarrow\": false, \"text\": \"2019-08\", \"x\": 0.5784615384615384, \"xanchor\": \"center\", \"xref\": \"paper\", \"y\": 1.0, \"yanchor\": \"bottom\", \"yref\": \"paper\"}, {\"font\": {}, \"showarrow\": false, \"text\": \"2019-09\", \"x\": 0.6569230769230769, \"xanchor\": \"center\", \"xref\": \"paper\", \"y\": 1.0, \"yanchor\": \"bottom\", \"yref\": \"paper\"}, {\"font\": {}, \"showarrow\": false, \"text\": \"2019-10\", \"x\": 0.7353846153846153, \"xanchor\": \"center\", \"xref\": \"paper\", \"y\": 1.0, \"yanchor\": \"bottom\", \"yref\": \"paper\"}, {\"font\": {}, \"showarrow\": false, \"text\": \"2019-11\", \"x\": 0.8138461538461539, \"xanchor\": \"center\", \"xref\": \"paper\", \"y\": 1.0, \"yanchor\": \"bottom\", \"yref\": \"paper\"}, {\"font\": {}, \"showarrow\": false, \"text\": \"2019-12\", \"x\": 0.8923076923076922, \"xanchor\": \"center\", \"xref\": \"paper\", \"y\": 1.0, \"yanchor\": \"bottom\", \"yref\": \"paper\"}, {\"font\": {}, \"showarrow\": false, \"text\": \"2020-01\", \"x\": 0.9707692307692308, \"xanchor\": \"center\", \"xref\": \"paper\", \"y\": 1.0, \"yanchor\": \"bottom\", \"yref\": \"paper\"}], \"barmode\": \"stack\", \"legend\": {\"orientation\": \"h\", \"x\": 0.5, \"xanchor\": \"center\", \"y\": -0.4}, \"margin\": {\"t\": 60}, \"template\": {\"data\": {\"bar\": [{\"error_x\": {\"color\": \"#2a3f5f\"}, \"error_y\": {\"color\": \"#2a3f5f\"}, \"marker\": {\"line\": {\"color\": \"#E5ECF6\", \"width\": 0.5}}, \"type\": \"bar\"}], \"barpolar\": [{\"marker\": {\"line\": {\"color\": \"#E5ECF6\", \"width\": 0.5}}, \"type\": \"barpolar\"}], \"carpet\": [{\"aaxis\": {\"endlinecolor\": \"#2a3f5f\", \"gridcolor\": \"white\", \"linecolor\": \"white\", \"minorgridcolor\": \"white\", \"startlinecolor\": \"#2a3f5f\"}, \"baxis\": {\"endlinecolor\": \"#2a3f5f\", \"gridcolor\": \"white\", \"linecolor\": \"white\", \"minorgridcolor\": \"white\", \"startlinecolor\": \"#2a3f5f\"}, \"type\": \"carpet\"}], \"choropleth\": [{\"colorbar\": {\"outlinewidth\": 0, \"ticks\": \"\"}, \"type\": \"choropleth\"}], \"contour\": [{\"colorbar\": {\"outlinewidth\": 0, \"ticks\": \"\"}, \"colorscale\": [[0.0, \"#0d0887\"], [0.1111111111111111, \"#46039f\"], [0.2222222222222222, \"#7201a8\"], [0.3333333333333333, \"#9c179e\"], [0.4444444444444444, \"#bd3786\"], [0.5555555555555556, \"#d8576b\"], [0.6666666666666666, \"#ed7953\"], [0.7777777777777778, \"#fb9f3a\"], [0.8888888888888888, \"#fdca26\"], [1.0, \"#f0f921\"]], \"type\": \"contour\"}], \"contourcarpet\": [{\"colorbar\": {\"outlinewidth\": 0, \"ticks\": \"\"}, \"type\": \"contourcarpet\"}], \"heatmap\": [{\"colorbar\": {\"outlinewidth\": 0, \"ticks\": \"\"}, \"colorscale\": [[0.0, \"#0d0887\"], [0.1111111111111111, \"#46039f\"], [0.2222222222222222, \"#7201a8\"], [0.3333333333333333, \"#9c179e\"], [0.4444444444444444, \"#bd3786\"], [0.5555555555555556, \"#d8576b\"], [0.6666666666666666, \"#ed7953\"], [0.7777777777777778, \"#fb9f3a\"], [0.8888888888888888, \"#fdca26\"], [1.0, \"#f0f921\"]], \"type\": \"heatmap\"}], \"heatmapgl\": [{\"colorbar\": {\"outlinewidth\": 0, \"ticks\": \"\"}, \"colorscale\": [[0.0, \"#0d0887\"], [0.1111111111111111, \"#46039f\"], [0.2222222222222222, \"#7201a8\"], [0.3333333333333333, \"#9c179e\"], [0.4444444444444444, \"#bd3786\"], [0.5555555555555556, \"#d8576b\"], [0.6666666666666666, \"#ed7953\"], [0.7777777777777778, \"#fb9f3a\"], [0.8888888888888888, \"#fdca26\"], [1.0, \"#f0f921\"]], \"type\": \"heatmapgl\"}], \"histogram\": [{\"marker\": {\"colorbar\": {\"outlinewidth\": 0, \"ticks\": \"\"}}, \"type\": \"histogram\"}], \"histogram2d\": [{\"colorbar\": {\"outlinewidth\": 0, \"ticks\": \"\"}, \"colorscale\": [[0.0, \"#0d0887\"], [0.1111111111111111, \"#46039f\"], [0.2222222222222222, \"#7201a8\"], [0.3333333333333333, \"#9c179e\"], [0.4444444444444444, \"#bd3786\"], [0.5555555555555556, \"#d8576b\"], [0.6666666666666666, \"#ed7953\"], [0.7777777777777778, \"#fb9f3a\"], [0.8888888888888888, \"#fdca26\"], [1.0, \"#f0f921\"]], \"type\": \"histogram2d\"}], \"histogram2dcontour\": [{\"colorbar\": {\"outlinewidth\": 0, \"ticks\": \"\"}, \"colorscale\": [[0.0, \"#0d0887\"], [0.1111111111111111, \"#46039f\"], [0.2222222222222222, \"#7201a8\"], [0.3333333333333333, \"#9c179e\"], [0.4444444444444444, \"#bd3786\"], [0.5555555555555556, \"#d8576b\"], [0.6666666666666666, \"#ed7953\"], [0.7777777777777778, \"#fb9f3a\"], [0.8888888888888888, \"#fdca26\"], [1.0, \"#f0f921\"]], \"type\": \"histogram2dcontour\"}], \"mesh3d\": [{\"colorbar\": {\"outlinewidth\": 0, \"ticks\": \"\"}, \"type\": \"mesh3d\"}], \"parcoords\": [{\"line\": {\"colorbar\": {\"outlinewidth\": 0, \"ticks\": \"\"}}, \"type\": \"parcoords\"}], \"pie\": [{\"automargin\": true, \"type\": \"pie\"}], \"scatter\": [{\"marker\": {\"colorbar\": {\"outlinewidth\": 0, \"ticks\": \"\"}}, \"type\": \"scatter\"}], \"scatter3d\": [{\"line\": {\"colorbar\": {\"outlinewidth\": 0, \"ticks\": \"\"}}, \"marker\": {\"colorbar\": {\"outlinewidth\": 0, \"ticks\": \"\"}}, \"type\": \"scatter3d\"}], \"scattercarpet\": [{\"marker\": {\"colorbar\": {\"outlinewidth\": 0, \"ticks\": \"\"}}, \"type\": \"scattercarpet\"}], \"scattergeo\": [{\"marker\": {\"colorbar\": {\"outlinewidth\": 0, \"ticks\": \"\"}}, \"type\": \"scattergeo\"}], \"scattergl\": [{\"marker\": {\"colorbar\": {\"outlinewidth\": 0, \"ticks\": \"\"}}, \"type\": \"scattergl\"}], \"scattermapbox\": [{\"marker\": {\"colorbar\": {\"outlinewidth\": 0, \"ticks\": \"\"}}, \"type\": \"scattermapbox\"}], \"scatterpolar\": [{\"marker\": {\"colorbar\": {\"outlinewidth\": 0, \"ticks\": \"\"}}, \"type\": \"scatterpolar\"}], \"scatterpolargl\": [{\"marker\": {\"colorbar\": {\"outlinewidth\": 0, \"ticks\": \"\"}}, \"type\": \"scatterpolargl\"}], \"scatterternary\": [{\"marker\": {\"colorbar\": {\"outlinewidth\": 0, \"ticks\": \"\"}}, \"type\": \"scatterternary\"}], \"surface\": [{\"colorbar\": {\"outlinewidth\": 0, \"ticks\": \"\"}, \"colorscale\": [[0.0, \"#0d0887\"], [0.1111111111111111, \"#46039f\"], [0.2222222222222222, \"#7201a8\"], [0.3333333333333333, \"#9c179e\"], [0.4444444444444444, \"#bd3786\"], [0.5555555555555556, \"#d8576b\"], [0.6666666666666666, \"#ed7953\"], [0.7777777777777778, \"#fb9f3a\"], [0.8888888888888888, \"#fdca26\"], [1.0, \"#f0f921\"]], \"type\": \"surface\"}], \"table\": [{\"cells\": {\"fill\": {\"color\": \"#EBF0F8\"}, \"line\": {\"color\": \"white\"}}, \"header\": {\"fill\": {\"color\": \"#C8D4E3\"}, \"line\": {\"color\": \"white\"}}, \"type\": \"table\"}]}, \"layout\": {\"annotationdefaults\": {\"arrowcolor\": \"#2a3f5f\", \"arrowhead\": 0, \"arrowwidth\": 1}, \"coloraxis\": {\"colorbar\": {\"outlinewidth\": 0, \"ticks\": \"\"}}, \"colorscale\": {\"diverging\": [[0, \"#8e0152\"], [0.1, \"#c51b7d\"], [0.2, \"#de77ae\"], [0.3, \"#f1b6da\"], [0.4, \"#fde0ef\"], [0.5, \"#f7f7f7\"], [0.6, \"#e6f5d0\"], [0.7, \"#b8e186\"], [0.8, \"#7fbc41\"], [0.9, \"#4d9221\"], [1, \"#276419\"]], \"sequential\": [[0.0, \"#0d0887\"], [0.1111111111111111, \"#46039f\"], [0.2222222222222222, \"#7201a8\"], [0.3333333333333333, \"#9c179e\"], [0.4444444444444444, \"#bd3786\"], [0.5555555555555556, \"#d8576b\"], [0.6666666666666666, \"#ed7953\"], [0.7777777777777778, \"#fb9f3a\"], [0.8888888888888888, \"#fdca26\"], [1.0, \"#f0f921\"]], \"sequentialminus\": [[0.0, \"#0d0887\"], [0.1111111111111111, \"#46039f\"], [0.2222222222222222, \"#7201a8\"], [0.3333333333333333, \"#9c179e\"], [0.4444444444444444, \"#bd3786\"], [0.5555555555555556, \"#d8576b\"], [0.6666666666666666, \"#ed7953\"], [0.7777777777777778, \"#fb9f3a\"], [0.8888888888888888, \"#fdca26\"], [1.0, \"#f0f921\"]]}, \"colorway\": [\"#636efa\", \"#EF553B\", \"#00cc96\", \"#ab63fa\", \"#FFA15A\", \"#19d3f3\", \"#FF6692\", \"#B6E880\", \"#FF97FF\", \"#FECB52\"], \"font\": {\"color\": \"#2a3f5f\"}, \"geo\": {\"bgcolor\": \"white\", \"lakecolor\": \"white\", \"landcolor\": \"#E5ECF6\", \"showlakes\": true, \"showland\": true, \"subunitcolor\": \"white\"}, \"hoverlabel\": {\"align\": \"left\"}, \"hovermode\": \"closest\", \"mapbox\": {\"style\": \"light\"}, \"paper_bgcolor\": \"white\", \"plot_bgcolor\": \"#E5ECF6\", \"polar\": {\"angularaxis\": {\"gridcolor\": \"white\", \"linecolor\": \"white\", \"ticks\": \"\"}, \"bgcolor\": \"#E5ECF6\", \"radialaxis\": {\"gridcolor\": \"white\", \"linecolor\": \"white\", \"ticks\": \"\"}}, \"scene\": {\"xaxis\": {\"backgroundcolor\": \"#E5ECF6\", \"gridcolor\": \"white\", \"gridwidth\": 2, \"linecolor\": \"white\", \"showbackground\": true, \"ticks\": \"\", \"zerolinecolor\": \"white\"}, \"yaxis\": {\"backgroundcolor\": \"#E5ECF6\", \"gridcolor\": \"white\", \"gridwidth\": 2, \"linecolor\": \"white\", \"showbackground\": true, \"ticks\": \"\", \"zerolinecolor\": \"white\"}, \"zaxis\": {\"backgroundcolor\": \"#E5ECF6\", \"gridcolor\": \"white\", \"gridwidth\": 2, \"linecolor\": \"white\", \"showbackground\": true, \"ticks\": \"\", \"zerolinecolor\": \"white\"}}, \"shapedefaults\": {\"line\": {\"color\": \"#2a3f5f\"}}, \"ternary\": {\"aaxis\": {\"gridcolor\": \"white\", \"linecolor\": \"white\", \"ticks\": \"\"}, \"baxis\": {\"gridcolor\": \"white\", \"linecolor\": \"white\", \"ticks\": \"\"}, \"bgcolor\": \"#E5ECF6\", \"caxis\": {\"gridcolor\": \"white\", \"linecolor\": \"white\", \"ticks\": \"\"}}, \"title\": {\"x\": 0.05}, \"xaxis\": {\"automargin\": true, \"gridcolor\": \"white\", \"linecolor\": \"white\", \"ticks\": \"\", \"title\": {\"standoff\": 15}, \"zerolinecolor\": \"white\", \"zerolinewidth\": 2}, \"yaxis\": {\"automargin\": true, \"gridcolor\": \"white\", \"linecolor\": \"white\", \"ticks\": \"\", \"title\": {\"standoff\": 15}, \"zerolinecolor\": \"white\", \"zerolinewidth\": 2}}}, \"title\": {\"text\": \"prestador\", \"x\": 0.5}, \"xaxis\": {\"anchor\": \"y\", \"domain\": [0.0, 0.05846153846153847], \"tickangle\": -90}, \"xaxis10\": {\"anchor\": \"y10\", \"domain\": [0.7061538461538461, 0.7646153846153846], \"matches\": \"x\", \"tickangle\": -90}, \"xaxis11\": {\"anchor\": \"y11\", \"domain\": [0.7846153846153847, 0.8430769230769232], \"matches\": \"x\", \"tickangle\": -90}, \"xaxis12\": {\"anchor\": \"y12\", \"domain\": [0.8630769230769231, 0.9215384615384615], \"matches\": \"x\", \"tickangle\": -90}, \"xaxis13\": {\"anchor\": \"y13\", \"domain\": [0.9415384615384615, 1.0], \"matches\": \"x\", \"tickangle\": -90}, \"xaxis2\": {\"anchor\": \"y2\", \"domain\": [0.07846153846153847, 0.13692307692307693], \"matches\": \"x\", \"tickangle\": -90}, \"xaxis3\": {\"anchor\": \"y3\", \"domain\": [0.15692307692307694, 0.2153846153846154], \"matches\": \"x\", \"tickangle\": -90}, \"xaxis4\": {\"anchor\": \"y4\", \"domain\": [0.23538461538461541, 0.29384615384615387], \"matches\": \"x\", \"tickangle\": -90}, \"xaxis5\": {\"anchor\": \"y5\", \"domain\": [0.3138461538461539, 0.37230769230769234], \"matches\": \"x\", \"tickangle\": -90}, \"xaxis6\": {\"anchor\": \"y6\", \"domain\": [0.39230769230769236, 0.4507692307692308], \"matches\": \"x\", \"tickangle\": -90}, \"xaxis7\": {\"anchor\": \"y7\", \"domain\": [0.4707692307692308, 0.5292307692307693], \"matches\": \"x\", \"tickangle\": -90}, \"xaxis8\": {\"anchor\": \"y8\", \"domain\": [0.5492307692307692, 0.6076923076923076], \"matches\": \"x\", \"tickangle\": -90}, \"xaxis9\": {\"anchor\": \"y9\", \"domain\": [0.6276923076923077, 0.6861538461538461], \"matches\": \"x\", \"tickangle\": -90}, \"yaxis\": {\"anchor\": \"x\", \"domain\": [0.0, 1.0], \"range\": [0, 1], \"tickformat\": \"%\", \"title\": {\"text\": \"Participaci\\u00f3n mensual\"}}, \"yaxis10\": {\"anchor\": \"x10\", \"domain\": [0.0, 1.0], \"matches\": \"y\", \"range\": [0, 1], \"showticklabels\": false, \"tickformat\": \"%\"}, \"yaxis11\": {\"anchor\": \"x11\", \"domain\": [0.0, 1.0], \"matches\": \"y\", \"range\": [0, 1], \"showticklabels\": false, \"tickformat\": \"%\"}, \"yaxis12\": {\"anchor\": \"x12\", \"domain\": [0.0, 1.0], \"matches\": \"y\", \"range\": [0, 1], \"showticklabels\": false, \"tickformat\": \"%\"}, \"yaxis13\": {\"anchor\": \"x13\", \"domain\": [0.0, 1.0], \"matches\": \"y\", \"range\": [0, 1], \"showticklabels\": false, \"tickformat\": \"%\"}, \"yaxis2\": {\"anchor\": \"x2\", \"domain\": [0.0, 1.0], \"matches\": \"y\", \"range\": [0, 1], \"showticklabels\": false, \"tickformat\": \"%\"}, \"yaxis3\": {\"anchor\": \"x3\", \"domain\": [0.0, 1.0], \"matches\": \"y\", \"range\": [0, 1], \"showticklabels\": false, \"tickformat\": \"%\"}, \"yaxis4\": {\"anchor\": \"x4\", \"domain\": [0.0, 1.0], \"matches\": \"y\", \"range\": [0, 1], \"showticklabels\": false, \"tickformat\": \"%\"}, \"yaxis5\": {\"anchor\": \"x5\", \"domain\": [0.0, 1.0], \"matches\": \"y\", \"range\": [0, 1], \"showticklabels\": false, \"tickformat\": \"%\"}, \"yaxis6\": {\"anchor\": \"x6\", \"domain\": [0.0, 1.0], \"matches\": \"y\", \"range\": [0, 1], \"showticklabels\": false, \"tickformat\": \"%\"}, \"yaxis7\": {\"anchor\": \"x7\", \"domain\": [0.0, 1.0], \"matches\": \"y\", \"range\": [0, 1], \"showticklabels\": false, \"tickformat\": \"%\"}, \"yaxis8\": {\"anchor\": \"x8\", \"domain\": [0.0, 1.0], \"matches\": \"y\", \"range\": [0, 1], \"showticklabels\": false, \"tickformat\": \"%\"}, \"yaxis9\": {\"anchor\": \"x9\", \"domain\": [0.0, 1.0], \"matches\": \"y\", \"range\": [0, 1], \"showticklabels\": false, \"tickformat\": \"%\"}},\n",
       "                        {\"responsive\": true}\n",
       "                    ).then(function(){\n",
       "                            \n",
       "var gd = document.getElementById('7df061f9-e157-4ea9-ae4c-77d0ffc589f1');\n",
       "var x = new MutationObserver(function (mutations, observer) {{\n",
       "        var display = window.getComputedStyle(gd).display;\n",
       "        if (!display || display === 'none') {{\n",
       "            console.log([gd, 'removed!']);\n",
       "            Plotly.purge(gd);\n",
       "            observer.disconnect();\n",
       "        }}\n",
       "}});\n",
       "\n",
       "// Listen for the removal of the full notebook cells\n",
       "var notebookContainer = gd.closest('#notebook-container');\n",
       "if (notebookContainer) {{\n",
       "    x.observe(notebookContainer, {childList: true});\n",
       "}}\n",
       "\n",
       "// Listen for the clearing of the current output cell\n",
       "var outputEl = gd.closest('.output');\n",
       "if (outputEl) {{\n",
       "    x.observe(outputEl, {childList: true});\n",
       "}}\n",
       "\n",
       "                        })\n",
       "                };\n",
       "                });\n",
       "            </script>\n",
       "        </div>"
      ]
     },
     "metadata": {},
     "output_type": "display_data"
    }
   ],
   "source": [
    "fig = px.bar(final, x=\"tipo\", y=\"Participación mensual\", barmode=\"stack\",\n",
    "             facet_col=\"variable\",  color=\"consulta\")\n",
    "\n",
    "fig.for_each_annotation(lambda a: a.update(text=a.text.split(\"=\")[-1][:-3]))\n",
    "\n",
    "\n",
    "fig.layout.xaxis1.tickangle = -90\n",
    "fig.layout.xaxis2.tickangle = -90\n",
    "fig.layout.xaxis3.tickangle = -90\n",
    "fig.layout.xaxis4.tickangle = -90\n",
    "fig.layout.xaxis5.tickangle = -90\n",
    "fig.layout.xaxis5.tickangle = -90\n",
    "fig.layout.xaxis6.tickangle = -90\n",
    "fig.layout.xaxis7.tickangle = -90\n",
    "fig.layout.xaxis8.tickangle = -90\n",
    "fig.layout.xaxis9.tickangle = -90\n",
    "fig.layout.xaxis10.tickangle = -90\n",
    "fig.layout.xaxis11.tickangle = -90\n",
    "fig.layout.xaxis12.tickangle = -90\n",
    "fig.layout.xaxis13.tickangle =-90\n",
    "\n",
    "fig.layout.xaxis1.title = None\n",
    "fig.layout.xaxis2.title = None\n",
    "fig.layout.xaxis3.title = None\n",
    "fig.layout.xaxis4.title = None\n",
    "fig.layout.xaxis5.title = None\n",
    "fig.layout.xaxis5.title = None\n",
    "fig.layout.xaxis6.title = None\n",
    "fig.layout.xaxis7.title = None\n",
    "fig.layout.xaxis8.title = None\n",
    "fig.layout.xaxis9.title = None\n",
    "fig.layout.xaxis10.title = None\n",
    "fig.layout.xaxis11.title = None\n",
    "fig.layout.xaxis12.title = None\n",
    "fig.layout.xaxis13.title = None\n",
    "\n",
    "\n",
    "for i in range(0,13):\n",
    "    fig.data[i][\"marker\"][\"color\"] = \"#45b6fe\"\n",
    "    \n",
    "for i in range(13,26):\n",
    "    fig.data[i][\"marker\"][\"color\"] = \"#3792cb\"\n",
    "    \n",
    "for i in range(26,39):\n",
    "    fig.data[i][\"marker\"][\"color\"] = \"#296d98\"\n",
    "    \n",
    "for i in range(39,52):\n",
    "    fig.data[i][\"marker\"][\"color\"] = \"#1c4966\"\n",
    "for i in range(52,65):\n",
    "    fig.data[i][\"marker\"][\"color\"] = \"black\"\n",
    "\n",
    "fig.layout.legend = {\"orientation\": \"h\", \"xanchor\" :\"center\", \"y\":-0.4, \"x\":0.5}\n",
    "fig.update_yaxes(range=[-0,1],tickformat = \"%\")\n",
    "fig.update_layout(title=dict(text=\"Prestador\", x=0.5))"
   ]
  },
  {
   "cell_type": "code",
   "execution_count": 157,
   "metadata": {},
   "outputs": [],
   "source": [
    "prestador = 218655"
   ]
  },
  {
   "cell_type": "code",
   "execution_count": 159,
   "metadata": {},
   "outputs": [],
   "source": [
    "especialidad = querydbtopandas(f\"\"\"select top 1\n",
    "       a13.id_pre_prestador,\n",
    "       a13.desc_pre_nombre,\n",
    "       Q.deno\n",
    "    from  DBA.d_pre_prestador        a13\n",
    "      JOIN  DBA.d_prof_convertir_especialidad a19  \n",
    "        ON  (a13.id_pre_especialidad  = a19.id_prof_especialidad)\n",
    "       LEFT JOIN dba.prestad_costo_centros E\n",
    "        ON a13.id_pre_prestador = E.prestad and E.baja_fecha is null and e.prepaga = ( select min(PCC1.prepaga) from dba.prestad_costo_centros PCC1 where PCC1.prestad =  e.prestad )   \n",
    "       LEFT JOIN dba.costo_centros Q\n",
    "        ON E.centro = Q.centro\n",
    "    where  a13.id_pre_prestador in ({prestador})\"\"\").values[0][2]\n",
    "especialidad = unidecode.unidecode(especialidad)\n",
    "    \n",
    "\n",
    "#consultas\n",
    "menores = [\"2019-01-01\", \"2019-02-01\",\"2019-03-01\",\"2019-04-01\",\"2019-05-01\",\"2019-06-01\",\"2019-07-01\",\"2019-08-01\",\"2019-09-01\",\"2019-10-01\",\"2019-11-01\",\"2019-12-01\", \"2020-01-01\"]\n",
    "\n",
    "mayores = [\"2019-02-01\", \"2019-03-01\",\"2019-04-01\",\"2019-05-01\",\"2019-06-01\",\"2019-07-01\",\"2019-08-01\",\"2019-09-01\",\"2019-10-01\",\"2019-11-01\",\"2019-12-01\",\"2020-01-01\", \"2020-02-01\"]\n",
    "\n",
    "temporal_prestador_consultas = pd.DataFrame(columns= [\"consulta\"], data= ['Consultas - Q afiliados Médica', '2 consultas - Q afiliados', '3 consultas - Q afiliado',\n",
    "   '4 consultas - Q afiliados', 'Más de 4 - Q afiliados'])\n",
    "\n",
    "temporal_especialidad_consultas = pd.DataFrame(columns= [\"consulta\"], data= ['Consultas - Q afiliados Médica', '2 consultas - Q afiliados', '3 consultas - Q afiliado',\n",
    "   '4 consultas - Q afiliados', 'Más de 4 - Q afiliados'])\n",
    "    \n",
    "for i,j in zip(menores,mayores):\n",
    "    df = querydbtopandas(f\"\"\"select a11.id_pres_prestacion,\n",
    "           a16.prestac_pres_prestacion,\n",
    "           a11.id_pre_prestador,\n",
    "           a13.desc_pre_nombre,\n",
    "           a11.id_afi_afiliado ,  \n",
    "           Q.deno,\n",
    "           a11.id_tie_dia_consumo,   \n",
    "           FLOOR(DATEDIFF(year, a14.naci_fecha, a11.id_tie_dia_consumo)) edad_afiliado \n",
    "    from        DBA.ft_ordenes        a11\n",
    "           join        DBA.d_pre_prestador        a13\n",
    "             on        (a11.id_pre_prestador = a13.id_pre_prestador)\n",
    "           join        DBA.afi_afiliados        a14\n",
    "             on        (a11.id_afi_afiliado = a14.id_afiliado)\n",
    "           join        DBA.d_pres_prestacion        a16\n",
    "             on        (a11.id_pres_prestacion = a16.id_pres_prestacion)     \n",
    "           join       DBA.d_prof_convertir_especialidad a19  \n",
    "            on         (a13.id_pre_especialidad  = a19.id_prof_especialidad)\n",
    "           LEFT JOIN dba.prestad_costo_centros E\n",
    "            ON a11.id_pre_prestador = E.prestad and E.baja_fecha is null and e.prepaga = ( select min(PCC1.prepaga) from dba.prestad_costo_centros PCC1 where PCC1.prestad =  e.prestad )   \n",
    "           LEFT JOIN dba.costo_centros Q\n",
    "            ON E.centro = Q.centro\n",
    "    where   (a13.id_pre_tipo in ('E', 'P')            \n",
    "    and a11.id_nom_nomenclador in (5)            \n",
    "    and cast(id_tie_dia_consumo as date) >= date(\"{i}\") and cast(id_tie_dia_consumo as date) < date(\"{j}\")\n",
    "    and a13.id_afi_zona in ({zona})\n",
    "    and a13.id_afi_provincia in ({provincia})\n",
    "    and Q.deno like \"%{especialidad}%\" \n",
    "    and RTRIM(a16.prestac_pres_prestacion) not in ({prestaciones_excluidas}))\n",
    "    group by a11.id_pres_prestacion,\n",
    "           a16.prestac_pres_prestacion,\n",
    "           a11.id_pre_prestador,\n",
    "           a13.desc_pre_nombre,\n",
    "           Q.deno,\n",
    "           a11.id_afi_afiliado,\n",
    "           a11.id_tie_dia_consumo,\n",
    "           edad_afiliado\"\"\")"
   ]
  },
  {
   "cell_type": "code",
   "execution_count": 172,
   "metadata": {},
   "outputs": [],
   "source": [
    "prestador= 218655"
   ]
  },
  {
   "cell_type": "code",
   "execution_count": 173,
   "metadata": {},
   "outputs": [],
   "source": [
    "def calculo_graficos(prestador):\n",
    "    \n",
    "    prestador= int(prestador)\n",
    "    #especialidad y nombre\n",
    "    \n",
    "    datos_prestador = querydbtopandas(f\"\"\"select top 1\n",
    "       a13.id_pre_prestador,\n",
    "       a13.desc_pre_nombre,\n",
    "       Q.deno\n",
    "    from  DBA.d_pre_prestador        a13\n",
    "      JOIN  DBA.d_prof_convertir_especialidad a19  \n",
    "        ON  (a13.id_pre_especialidad  = a19.id_prof_especialidad)\n",
    "       LEFT JOIN dba.prestad_costo_centros E\n",
    "        ON a13.id_pre_prestador = E.prestad and E.baja_fecha is null and e.prepaga = ( select min(PCC1.prepaga) from dba.prestad_costo_centros PCC1 where PCC1.prestad =  e.prestad )   \n",
    "       LEFT JOIN dba.costo_centros Q\n",
    "        ON E.centro = Q.centro\n",
    "    where  a13.id_pre_prestador in ({prestador})\"\"\").values[0]\n",
    "    nombre = datos_prestador[1]\n",
    "    especialidad = datos_prestador[2]\n",
    "    especialidad = unidecode.unidecode(especialidad)\n",
    "\n",
    "    #consultas\n",
    "    menores = [\"2019-01-01\", \"2019-02-01\",\"2019-03-01\",\"2019-04-01\",\"2019-05-01\",\"2019-06-01\",\"2019-07-01\",\"2019-08-01\",\"2019-09-01\",\"2019-10-01\",\"2019-11-01\",\"2019-12-01\", \"2020-01-01\"]\n",
    "\n",
    "    mayores = [\"2019-02-01\", \"2019-03-01\",\"2019-04-01\",\"2019-05-01\",\"2019-06-01\",\"2019-07-01\",\"2019-08-01\",\"2019-09-01\",\"2019-10-01\",\"2019-11-01\",\"2019-12-01\",\"2020-01-01\", \"2020-02-01\"]\n",
    "\n",
    "    temporal_prestador_consultas = pd.DataFrame(columns= [\"consulta\"], data= ['Consultas - Q afiliados Médica', '2 consultas - Q afiliados', '3 consultas - Q afiliado',\n",
    "   '4 consultas - Q afiliados', 'Más de 4 - Q afiliados'])\n",
    "\n",
    "    temporal_especialidad_consultas = pd.DataFrame(columns= [\"consulta\"], data= ['Consultas - Q afiliados Médica', '2 consultas - Q afiliados', '3 consultas - Q afiliado',\n",
    "   '4 consultas - Q afiliados', 'Más de 4 - Q afiliados'])\n",
    "    \n",
    "    for i,j in zip(menores,mayores):\n",
    "        df = querydbtopandas(f\"\"\"select a11.id_pres_prestacion,\n",
    "           a16.prestac_pres_prestacion,\n",
    "           a11.id_pre_prestador,\n",
    "           a13.desc_pre_nombre,\n",
    "           a11.id_afi_afiliado ,  \n",
    "           Q.deno,\n",
    "           a11.id_tie_dia_consumo,   \n",
    "           FLOOR(DATEDIFF(year, a14.naci_fecha, a11.id_tie_dia_consumo)) edad_afiliado \n",
    "\n",
    "    from        DBA.ft_ordenes        a11\n",
    "           join        DBA.d_pre_prestador        a13\n",
    "             on        (a11.id_pre_prestador = a13.id_pre_prestador)\n",
    "           join        DBA.afi_afiliados        a14\n",
    "             on        (a11.id_afi_afiliado = a14.id_afiliado)\n",
    "           join        DBA.d_pres_prestacion        a16\n",
    "             on        (a11.id_pres_prestacion = a16.id_pres_prestacion)     \n",
    "           join       DBA.d_prof_convertir_especialidad a19  \n",
    "            on         (a13.id_pre_especialidad  = a19.id_prof_especialidad)\n",
    "           LEFT JOIN dba.prestad_costo_centros E\n",
    "            ON a11.id_pre_prestador = E.prestad and E.baja_fecha is null and e.prepaga = ( select min(PCC1.prepaga) from dba.prestad_costo_centros PCC1 where PCC1.prestad =  e.prestad )   \n",
    "           LEFT JOIN dba.costo_centros Q\n",
    "            ON E.centro = Q.centro\n",
    "    where        (a13.id_pre_tipo in ('E', 'P')            \n",
    "    and a11.id_nom_nomenclador in (5)            \n",
    "    and cast(id_tie_dia_consumo as date) >= date(\"{i}\") and cast(id_tie_dia_consumo as date) < date(\"{j}\")\n",
    "    and a13.id_afi_zona in ({zona})\n",
    "    and a13.id_afi_provincia in ({provincia})\n",
    "    and Q.deno like \"%{especialidad}%\" \n",
    "    and RTRIM(a16.prestac_pres_prestacion) not in ({prestaciones_excluidas}))\n",
    "    group by a11.id_pres_prestacion,\n",
    "           a16.prestac_pres_prestacion,\n",
    "           a11.id_pre_prestador,\n",
    "           a13.desc_pre_nombre,\n",
    "           Q.deno,\n",
    "           a11.id_afi_afiliado,\n",
    "           a11.id_tie_dia_consumo,\n",
    "           edad_afiliado\"\"\")\n",
    "\n",
    "        total_consultas_prestador = df[\"id_pre_prestador\"].value_counts()\n",
    "        mas_de_30_consultas = total_consultas_prestador[total_consultas_prestador >= 30].index\n",
    "\n",
    "        df = df[df[\"id_pre_prestador\"].isin(mas_de_30_consultas)]\n",
    "\n",
    "        reconsultas = df.groupby([\"id_pre_prestador\", \"desc_pre_nombre\", \"deno\", \"id_afi_afiliado\"])[\"id_afi_afiliado\"].count().rename(\"CANTIDADORDENES0\").reset_index()\n",
    "        reconsultas[\"uno\"] = 1\n",
    "\n",
    "        pivot_1 = pd.pivot_table(reconsultas, values='uno', index=['id_pre_prestador', \"desc_pre_nombre\", \"deno\"],\n",
    "                     columns=['CANTIDADORDENES0'], aggfunc=np.sum).fillna(0)\n",
    "\n",
    "        pivot_1[\"Más de 4 - Q afiliados\"] = pivot_1[pivot_1.columns.tolist()[4:]].sum(axis=1)\n",
    "\n",
    "        total_consultas_prestador = reconsultas.groupby([\"id_pre_prestador\",  \"desc_pre_nombre\", \"deno\"])[\"CANTIDADORDENES0\"].sum()\n",
    "        pivot = pd.concat([total_consultas_prestador, pivot_1],axis=1)\n",
    "        pivot.reset_index(inplace=True)\n",
    "        if 1 not in pivot.columns:\n",
    "            pivot[1] = 0\n",
    "        if 2 not in pivot.columns:\n",
    "            pivot[2] = 0\n",
    "        if 3 not in pivot.columns:\n",
    "            pivot[3] = 0\n",
    "        if 4 not in pivot.columns:\n",
    "            pivot[4] = 0\n",
    "\n",
    "        pivot[\"Consultas - participación %\"] =  (pivot[1]/pivot[\"CANTIDADORDENES0\"])\n",
    "        pivot[\"2 consultas - participación %\"] =  ((pivot[2]*2)/pivot[\"CANTIDADORDENES0\"])\n",
    "        pivot[\"3 consultas - participación %\"] =  ((pivot[3]*3)/pivot[\"CANTIDADORDENES0\"])\n",
    "        pivot[\"4 consultas - participación %\"] =  ((pivot[4]*4)/pivot[\"CANTIDADORDENES0\"])\n",
    "        pivot[\"Participación %\"] = 1 - pivot[\"Consultas - participación %\"]\n",
    "        pivot[\"Más de 4 - participación %\"] = pivot[\"Participación %\"] - (pivot[\"2 consultas - participación %\"]+pivot[\"3 consultas - participación %\"]+pivot[\"4 consultas - participación %\"])\n",
    "\n",
    "        pivot.rename(columns= {1: \"Consultas - Q afiliados\", 2: \"2 consultas - Q afiliados\", 3: \"3 consultas - Q afiliados\", 4: \"4 consultas - Q afiliados\", \"desc_pre_nombre\": \"Razon social\",\n",
    "        \"deno\": \"Especialidad\",\"id_pre_prestador\": \"Prestador\", \"edad_afiliado\": \"Promedio edad de afiliados\", \"CANTIDADORDENES0\": \"Total Consultas\" },inplace=True)    \n",
    "\n",
    "        tabla = pivot[['Prestador', 'Razon social', 'Especialidad', 'Consultas - participación %', '2 consultas - participación %','3 consultas - participación %', '4 consultas - participación %', 'Más de 4 - participación %']]\n",
    "\n",
    "        if len(tabla[tabla[\"Prestador\"] == 218655]) ==0:\n",
    "            temporal_prestador_consultas[i] = 0\n",
    "            temporal_especialidad_consultas[i] = 0\n",
    "        else:\n",
    "            especialidad_prestador = tabla[tabla[\"Prestador\"] == 218655].values[0][2]\n",
    "            prestador = tabla[tabla[\"Prestador\"] == 218655].iloc[:,3:]\n",
    "            temporal_prestador_consultas[i] = prestador.T.values\n",
    "            temporal_especialidad_consultas[i] = tabla[tabla[\"Especialidad\"] == especialidad_prestador].iloc[:,3:].mean(axis=0).values\n",
    "        \n",
    "    temporal_prestador_consultas = temporal_prestador_consultas.melt(id_vars=\"consulta\", value_vars=['2019-01-01', '2019-02-01', '2019-03-01', '2019-04-01',\n",
    "       '2019-05-01', '2019-06-01', '2019-07-01', '2019-08-01', '2019-09-01',\n",
    "       '2019-10-01', '2019-11-01', '2019-12-01', '2020-01-01'])\n",
    "    temporal_prestador_consultas[\"tipo\"] = \"prestador\"\n",
    "\n",
    "    temporal_especialidad_consultas = temporal_especialidad_consultas.melt(id_vars=\"consulta\",  value_vars=['2019-01-01', '2019-02-01', '2019-03-01', '2019-04-01',\n",
    "       '2019-05-01', '2019-06-01', '2019-07-01', '2019-08-01', '2019-09-01',\n",
    "       '2019-10-01', '2019-11-01', '2019-12-01', '2020-01-01'])\n",
    "    temporal_especialidad_consultas[\"tipo\"] = \"especialidad\"\n",
    "    \n",
    "    final_consultas = pd.concat([temporal_especialidad_consultas,temporal_prestador_consultas])\n",
    "    final_consultas = final_consultas.round(2)\n",
    "        \n",
    "    di = {\"Consultas - Q afiliados Médica\": \"Porcentaje de afiliados con consultas únicas\", \n",
    "     \"2 consultas - Q afiliados\": \"Porcentaje de afiliados con 2 consultas\",\n",
    "     \"3 consultas - Q afiliado\": \"Porcentaje de afiliados con 3 consultas\", \n",
    "     \"4 consultas - Q afiliados\": \"Porcentaje de afiliados con 4 consultas\",\n",
    "     \"Más de 4 - Q afiliados\": \"Porcentaje de afiliados con más de 4 consultas\"}\n",
    "    final_consultas = final_consultas.replace({\"consulta\": di})\n",
    "    final_consultas = final_consultas.rename(columns={\"value\": \"Participación mensual\"})\n",
    "    \n",
    "    fig_consultas = px.bar(final_consultas, x=\"tipo\", y=\"Participación mensual\", barmode=\"stack\",\n",
    "             facet_col=\"variable\",  color=\"consulta\")\n",
    "\n",
    "    fig_consultas.for_each_annotation(lambda a: a.update(text=a.text.split(\"=\")[-1][:-3]))\n",
    "\n",
    "    fig_consultas.layout.xaxis1.tickangle = -90\n",
    "    fig_consultas.layout.xaxis2.tickangle = -90\n",
    "    fig_consultas.layout.xaxis3.tickangle = -90\n",
    "    fig_consultas.layout.xaxis4.tickangle = -90\n",
    "    fig_consultas.layout.xaxis5.tickangle = -90\n",
    "    fig_consultas.layout.xaxis5.tickangle = -90\n",
    "    fig_consultas.layout.xaxis6.tickangle = -90\n",
    "    fig_consultas.layout.xaxis7.tickangle = -90\n",
    "    fig_consultas.layout.xaxis8.tickangle = -90\n",
    "    fig_consultas.layout.xaxis9.tickangle = -90\n",
    "    fig_consultas.layout.xaxis10.tickangle = -90\n",
    "    fig_consultas.layout.xaxis11.tickangle = -90\n",
    "    fig_consultas.layout.xaxis12.tickangle = -90\n",
    "    fig_consultas.layout.xaxis13.tickangle =-90\n",
    "\n",
    "    fig_consultas.layout.xaxis1.title = None\n",
    "    fig_consultas.layout.xaxis2.title = None\n",
    "    fig_consultas.layout.xaxis3.title = None\n",
    "    fig_consultas.layout.xaxis4.title = None\n",
    "    fig_consultas.layout.xaxis5.title = None\n",
    "    fig_consultas.layout.xaxis5.title = None\n",
    "    fig_consultas.layout.xaxis6.title = None\n",
    "    fig_consultas.layout.xaxis7.title = None\n",
    "    fig_consultas.layout.xaxis8.title = None\n",
    "    fig_consultas.layout.xaxis9.title = None\n",
    "    fig_consultas.layout.xaxis10.title = None\n",
    "    fig_consultas.layout.xaxis11.title = None\n",
    "    fig_consultas.layout.xaxis12.title = None\n",
    "    fig_consultas.layout.xaxis13.title = None\n",
    "\n",
    "\n",
    "    for i in range(0,13):\n",
    "        fig_consultas.data[i][\"marker\"][\"color\"] = \"#45b6fe\"\n",
    "\n",
    "    for i in range(13,26):\n",
    "        fig_consultas.data[i][\"marker\"][\"color\"] = \"#3792cb\"\n",
    "\n",
    "    for i in range(26,39):\n",
    "        fig_consultas.data[i][\"marker\"][\"color\"] = \"#296d98\"\n",
    "\n",
    "    for i in range(39,52):\n",
    "        fig_consultas.data[i][\"marker\"][\"color\"] = \"#1c4966\"\n",
    "    for i in range(52,65):\n",
    "        fig_consultas.data[i][\"marker\"][\"color\"] = \"black\"\n",
    "\n",
    "    fig_consultas.layout.legend = {\"orientation\": \"h\", \"xanchor\" :\"center\", \"y\":1.4, \"x\":0.5}\n",
    "    fig_consultas.update_yaxes(range=[-0,1],tickformat = \"%\")\n",
    "    \n",
    "    return fig_consultas"
   ]
  },
  {
   "cell_type": "code",
   "execution_count": 174,
   "metadata": {},
   "outputs": [
    {
     "data": {
      "application/vnd.plotly.v1+json": {
       "config": {
        "plotlyServerURL": "https://plot.ly"
       },
       "data": [
        {
         "alignmentgroup": "True",
         "hovertemplate": "consulta=Porcentaje de afiliados con consultas únicas<br>variable=2019-01-01<br>tipo=%{x}<br>Participación mensual=%{y}<extra></extra>",
         "legendgroup": "Porcentaje de afiliados con consultas únicas",
         "marker": {
          "color": "#45b6fe"
         },
         "name": "Porcentaje de afiliados con consultas únicas",
         "offsetgroup": "Porcentaje de afiliados con consultas únicas",
         "orientation": "v",
         "showlegend": true,
         "textposition": "auto",
         "type": "bar",
         "x": [
          "especialidad",
          "prestador"
         ],
         "xaxis": "x",
         "y": [
          0.74,
          0.88
         ],
         "yaxis": "y"
        },
        {
         "alignmentgroup": "True",
         "hovertemplate": "consulta=Porcentaje de afiliados con consultas únicas<br>variable=2019-02-01<br>tipo=%{x}<br>Participación mensual=%{y}<extra></extra>",
         "legendgroup": "Porcentaje de afiliados con consultas únicas",
         "marker": {
          "color": "#45b6fe"
         },
         "name": "Porcentaje de afiliados con consultas únicas",
         "offsetgroup": "Porcentaje de afiliados con consultas únicas",
         "orientation": "v",
         "showlegend": false,
         "textposition": "auto",
         "type": "bar",
         "x": [
          "especialidad",
          "prestador"
         ],
         "xaxis": "x2",
         "y": [
          0.89,
          0.88
         ],
         "yaxis": "y2"
        },
        {
         "alignmentgroup": "True",
         "hovertemplate": "consulta=Porcentaje de afiliados con consultas únicas<br>variable=2019-03-01<br>tipo=%{x}<br>Participación mensual=%{y}<extra></extra>",
         "legendgroup": "Porcentaje de afiliados con consultas únicas",
         "marker": {
          "color": "#45b6fe"
         },
         "name": "Porcentaje de afiliados con consultas únicas",
         "offsetgroup": "Porcentaje de afiliados con consultas únicas",
         "orientation": "v",
         "showlegend": false,
         "textposition": "auto",
         "type": "bar",
         "x": [
          "especialidad",
          "prestador"
         ],
         "xaxis": "x3",
         "y": [
          0,
          0
         ],
         "yaxis": "y3"
        },
        {
         "alignmentgroup": "True",
         "hovertemplate": "consulta=Porcentaje de afiliados con consultas únicas<br>variable=2019-04-01<br>tipo=%{x}<br>Participación mensual=%{y}<extra></extra>",
         "legendgroup": "Porcentaje de afiliados con consultas únicas",
         "marker": {
          "color": "#45b6fe"
         },
         "name": "Porcentaje de afiliados con consultas únicas",
         "offsetgroup": "Porcentaje de afiliados con consultas únicas",
         "orientation": "v",
         "showlegend": false,
         "textposition": "auto",
         "type": "bar",
         "x": [
          "especialidad",
          "prestador"
         ],
         "xaxis": "x4",
         "y": [
          0,
          0
         ],
         "yaxis": "y4"
        },
        {
         "alignmentgroup": "True",
         "hovertemplate": "consulta=Porcentaje de afiliados con consultas únicas<br>variable=2019-05-01<br>tipo=%{x}<br>Participación mensual=%{y}<extra></extra>",
         "legendgroup": "Porcentaje de afiliados con consultas únicas",
         "marker": {
          "color": "#45b6fe"
         },
         "name": "Porcentaje de afiliados con consultas únicas",
         "offsetgroup": "Porcentaje de afiliados con consultas únicas",
         "orientation": "v",
         "showlegend": false,
         "textposition": "auto",
         "type": "bar",
         "x": [
          "especialidad",
          "prestador"
         ],
         "xaxis": "x5",
         "y": [
          0.75,
          0.6
         ],
         "yaxis": "y5"
        },
        {
         "alignmentgroup": "True",
         "hovertemplate": "consulta=Porcentaje de afiliados con consultas únicas<br>variable=2019-06-01<br>tipo=%{x}<br>Participación mensual=%{y}<extra></extra>",
         "legendgroup": "Porcentaje de afiliados con consultas únicas",
         "marker": {
          "color": "#45b6fe"
         },
         "name": "Porcentaje de afiliados con consultas únicas",
         "offsetgroup": "Porcentaje de afiliados con consultas únicas",
         "orientation": "v",
         "showlegend": false,
         "textposition": "auto",
         "type": "bar",
         "x": [
          "especialidad",
          "prestador"
         ],
         "xaxis": "x6",
         "y": [
          0,
          0
         ],
         "yaxis": "y6"
        },
        {
         "alignmentgroup": "True",
         "hovertemplate": "consulta=Porcentaje de afiliados con consultas únicas<br>variable=2019-07-01<br>tipo=%{x}<br>Participación mensual=%{y}<extra></extra>",
         "legendgroup": "Porcentaje de afiliados con consultas únicas",
         "marker": {
          "color": "#45b6fe"
         },
         "name": "Porcentaje de afiliados con consultas únicas",
         "offsetgroup": "Porcentaje de afiliados con consultas únicas",
         "orientation": "v",
         "showlegend": false,
         "textposition": "auto",
         "type": "bar",
         "x": [
          "especialidad",
          "prestador"
         ],
         "xaxis": "x7",
         "y": [
          0.77,
          0.88
         ],
         "yaxis": "y7"
        },
        {
         "alignmentgroup": "True",
         "hovertemplate": "consulta=Porcentaje de afiliados con consultas únicas<br>variable=2019-08-01<br>tipo=%{x}<br>Participación mensual=%{y}<extra></extra>",
         "legendgroup": "Porcentaje de afiliados con consultas únicas",
         "marker": {
          "color": "#45b6fe"
         },
         "name": "Porcentaje de afiliados con consultas únicas",
         "offsetgroup": "Porcentaje de afiliados con consultas únicas",
         "orientation": "v",
         "showlegend": false,
         "textposition": "auto",
         "type": "bar",
         "x": [
          "especialidad",
          "prestador"
         ],
         "xaxis": "x8",
         "y": [
          0.75,
          0.8
         ],
         "yaxis": "y8"
        },
        {
         "alignmentgroup": "True",
         "hovertemplate": "consulta=Porcentaje de afiliados con consultas únicas<br>variable=2019-09-01<br>tipo=%{x}<br>Participación mensual=%{y}<extra></extra>",
         "legendgroup": "Porcentaje de afiliados con consultas únicas",
         "marker": {
          "color": "#45b6fe"
         },
         "name": "Porcentaje de afiliados con consultas únicas",
         "offsetgroup": "Porcentaje de afiliados con consultas únicas",
         "orientation": "v",
         "showlegend": false,
         "textposition": "auto",
         "type": "bar",
         "x": [
          "especialidad",
          "prestador"
         ],
         "xaxis": "x9",
         "y": [
          0.73,
          0.78
         ],
         "yaxis": "y9"
        },
        {
         "alignmentgroup": "True",
         "hovertemplate": "consulta=Porcentaje de afiliados con consultas únicas<br>variable=2019-10-01<br>tipo=%{x}<br>Participación mensual=%{y}<extra></extra>",
         "legendgroup": "Porcentaje de afiliados con consultas únicas",
         "marker": {
          "color": "#45b6fe"
         },
         "name": "Porcentaje de afiliados con consultas únicas",
         "offsetgroup": "Porcentaje de afiliados con consultas únicas",
         "orientation": "v",
         "showlegend": false,
         "textposition": "auto",
         "type": "bar",
         "x": [
          "especialidad",
          "prestador"
         ],
         "xaxis": "x10",
         "y": [
          0.74,
          0.82
         ],
         "yaxis": "y10"
        },
        {
         "alignmentgroup": "True",
         "hovertemplate": "consulta=Porcentaje de afiliados con consultas únicas<br>variable=2019-11-01<br>tipo=%{x}<br>Participación mensual=%{y}<extra></extra>",
         "legendgroup": "Porcentaje de afiliados con consultas únicas",
         "marker": {
          "color": "#45b6fe"
         },
         "name": "Porcentaje de afiliados con consultas únicas",
         "offsetgroup": "Porcentaje de afiliados con consultas únicas",
         "orientation": "v",
         "showlegend": false,
         "textposition": "auto",
         "type": "bar",
         "x": [
          "especialidad",
          "prestador"
         ],
         "xaxis": "x11",
         "y": [
          0,
          0
         ],
         "yaxis": "y11"
        },
        {
         "alignmentgroup": "True",
         "hovertemplate": "consulta=Porcentaje de afiliados con consultas únicas<br>variable=2019-12-01<br>tipo=%{x}<br>Participación mensual=%{y}<extra></extra>",
         "legendgroup": "Porcentaje de afiliados con consultas únicas",
         "marker": {
          "color": "#45b6fe"
         },
         "name": "Porcentaje de afiliados con consultas únicas",
         "offsetgroup": "Porcentaje de afiliados con consultas únicas",
         "orientation": "v",
         "showlegend": false,
         "textposition": "auto",
         "type": "bar",
         "x": [
          "especialidad",
          "prestador"
         ],
         "xaxis": "x12",
         "y": [
          0,
          0
         ],
         "yaxis": "y12"
        },
        {
         "alignmentgroup": "True",
         "hovertemplate": "consulta=Porcentaje de afiliados con consultas únicas<br>variable=2020-01-01<br>tipo=%{x}<br>Participación mensual=%{y}<extra></extra>",
         "legendgroup": "Porcentaje de afiliados con consultas únicas",
         "marker": {
          "color": "#45b6fe"
         },
         "name": "Porcentaje de afiliados con consultas únicas",
         "offsetgroup": "Porcentaje de afiliados con consultas únicas",
         "orientation": "v",
         "showlegend": false,
         "textposition": "auto",
         "type": "bar",
         "x": [
          "especialidad",
          "prestador"
         ],
         "xaxis": "x13",
         "y": [
          0.78,
          0.74
         ],
         "yaxis": "y13"
        },
        {
         "alignmentgroup": "True",
         "hovertemplate": "consulta=Porcentaje de afiliados con 2 consultas<br>variable=2019-01-01<br>tipo=%{x}<br>Participación mensual=%{y}<extra></extra>",
         "legendgroup": "Porcentaje de afiliados con 2 consultas",
         "marker": {
          "color": "#3792cb"
         },
         "name": "Porcentaje de afiliados con 2 consultas",
         "offsetgroup": "Porcentaje de afiliados con 2 consultas",
         "orientation": "v",
         "showlegend": true,
         "textposition": "auto",
         "type": "bar",
         "x": [
          "especialidad",
          "prestador"
         ],
         "xaxis": "x",
         "y": [
          0.18,
          0.12
         ],
         "yaxis": "y"
        },
        {
         "alignmentgroup": "True",
         "hovertemplate": "consulta=Porcentaje de afiliados con 2 consultas<br>variable=2019-02-01<br>tipo=%{x}<br>Participación mensual=%{y}<extra></extra>",
         "legendgroup": "Porcentaje de afiliados con 2 consultas",
         "marker": {
          "color": "#3792cb"
         },
         "name": "Porcentaje de afiliados con 2 consultas",
         "offsetgroup": "Porcentaje de afiliados con 2 consultas",
         "orientation": "v",
         "showlegend": false,
         "textposition": "auto",
         "type": "bar",
         "x": [
          "especialidad",
          "prestador"
         ],
         "xaxis": "x2",
         "y": [
          0.11,
          0.12
         ],
         "yaxis": "y2"
        },
        {
         "alignmentgroup": "True",
         "hovertemplate": "consulta=Porcentaje de afiliados con 2 consultas<br>variable=2019-03-01<br>tipo=%{x}<br>Participación mensual=%{y}<extra></extra>",
         "legendgroup": "Porcentaje de afiliados con 2 consultas",
         "marker": {
          "color": "#3792cb"
         },
         "name": "Porcentaje de afiliados con 2 consultas",
         "offsetgroup": "Porcentaje de afiliados con 2 consultas",
         "orientation": "v",
         "showlegend": false,
         "textposition": "auto",
         "type": "bar",
         "x": [
          "especialidad",
          "prestador"
         ],
         "xaxis": "x3",
         "y": [
          0,
          0
         ],
         "yaxis": "y3"
        },
        {
         "alignmentgroup": "True",
         "hovertemplate": "consulta=Porcentaje de afiliados con 2 consultas<br>variable=2019-04-01<br>tipo=%{x}<br>Participación mensual=%{y}<extra></extra>",
         "legendgroup": "Porcentaje de afiliados con 2 consultas",
         "marker": {
          "color": "#3792cb"
         },
         "name": "Porcentaje de afiliados con 2 consultas",
         "offsetgroup": "Porcentaje de afiliados con 2 consultas",
         "orientation": "v",
         "showlegend": false,
         "textposition": "auto",
         "type": "bar",
         "x": [
          "especialidad",
          "prestador"
         ],
         "xaxis": "x4",
         "y": [
          0,
          0
         ],
         "yaxis": "y4"
        },
        {
         "alignmentgroup": "True",
         "hovertemplate": "consulta=Porcentaje de afiliados con 2 consultas<br>variable=2019-05-01<br>tipo=%{x}<br>Participación mensual=%{y}<extra></extra>",
         "legendgroup": "Porcentaje de afiliados con 2 consultas",
         "marker": {
          "color": "#3792cb"
         },
         "name": "Porcentaje de afiliados con 2 consultas",
         "offsetgroup": "Porcentaje de afiliados con 2 consultas",
         "orientation": "v",
         "showlegend": false,
         "textposition": "auto",
         "type": "bar",
         "x": [
          "especialidad",
          "prestador"
         ],
         "xaxis": "x5",
         "y": [
          0.21,
          0.33
         ],
         "yaxis": "y5"
        },
        {
         "alignmentgroup": "True",
         "hovertemplate": "consulta=Porcentaje de afiliados con 2 consultas<br>variable=2019-06-01<br>tipo=%{x}<br>Participación mensual=%{y}<extra></extra>",
         "legendgroup": "Porcentaje de afiliados con 2 consultas",
         "marker": {
          "color": "#3792cb"
         },
         "name": "Porcentaje de afiliados con 2 consultas",
         "offsetgroup": "Porcentaje de afiliados con 2 consultas",
         "orientation": "v",
         "showlegend": false,
         "textposition": "auto",
         "type": "bar",
         "x": [
          "especialidad",
          "prestador"
         ],
         "xaxis": "x6",
         "y": [
          0,
          0
         ],
         "yaxis": "y6"
        },
        {
         "alignmentgroup": "True",
         "hovertemplate": "consulta=Porcentaje de afiliados con 2 consultas<br>variable=2019-07-01<br>tipo=%{x}<br>Participación mensual=%{y}<extra></extra>",
         "legendgroup": "Porcentaje de afiliados con 2 consultas",
         "marker": {
          "color": "#3792cb"
         },
         "name": "Porcentaje de afiliados con 2 consultas",
         "offsetgroup": "Porcentaje de afiliados con 2 consultas",
         "orientation": "v",
         "showlegend": false,
         "textposition": "auto",
         "type": "bar",
         "x": [
          "especialidad",
          "prestador"
         ],
         "xaxis": "x7",
         "y": [
          0.16,
          0.05
         ],
         "yaxis": "y7"
        },
        {
         "alignmentgroup": "True",
         "hovertemplate": "consulta=Porcentaje de afiliados con 2 consultas<br>variable=2019-08-01<br>tipo=%{x}<br>Participación mensual=%{y}<extra></extra>",
         "legendgroup": "Porcentaje de afiliados con 2 consultas",
         "marker": {
          "color": "#3792cb"
         },
         "name": "Porcentaje de afiliados con 2 consultas",
         "offsetgroup": "Porcentaje de afiliados con 2 consultas",
         "orientation": "v",
         "showlegend": false,
         "textposition": "auto",
         "type": "bar",
         "x": [
          "especialidad",
          "prestador"
         ],
         "xaxis": "x8",
         "y": [
          0.17,
          0.11
         ],
         "yaxis": "y8"
        },
        {
         "alignmentgroup": "True",
         "hovertemplate": "consulta=Porcentaje de afiliados con 2 consultas<br>variable=2019-09-01<br>tipo=%{x}<br>Participación mensual=%{y}<extra></extra>",
         "legendgroup": "Porcentaje de afiliados con 2 consultas",
         "marker": {
          "color": "#3792cb"
         },
         "name": "Porcentaje de afiliados con 2 consultas",
         "offsetgroup": "Porcentaje de afiliados con 2 consultas",
         "orientation": "v",
         "showlegend": false,
         "textposition": "auto",
         "type": "bar",
         "x": [
          "especialidad",
          "prestador"
         ],
         "xaxis": "x9",
         "y": [
          0.23,
          0.22
         ],
         "yaxis": "y9"
        },
        {
         "alignmentgroup": "True",
         "hovertemplate": "consulta=Porcentaje de afiliados con 2 consultas<br>variable=2019-10-01<br>tipo=%{x}<br>Participación mensual=%{y}<extra></extra>",
         "legendgroup": "Porcentaje de afiliados con 2 consultas",
         "marker": {
          "color": "#3792cb"
         },
         "name": "Porcentaje de afiliados con 2 consultas",
         "offsetgroup": "Porcentaje de afiliados con 2 consultas",
         "orientation": "v",
         "showlegend": false,
         "textposition": "auto",
         "type": "bar",
         "x": [
          "especialidad",
          "prestador"
         ],
         "xaxis": "x10",
         "y": [
          0.17,
          0.13
         ],
         "yaxis": "y10"
        },
        {
         "alignmentgroup": "True",
         "hovertemplate": "consulta=Porcentaje de afiliados con 2 consultas<br>variable=2019-11-01<br>tipo=%{x}<br>Participación mensual=%{y}<extra></extra>",
         "legendgroup": "Porcentaje de afiliados con 2 consultas",
         "marker": {
          "color": "#3792cb"
         },
         "name": "Porcentaje de afiliados con 2 consultas",
         "offsetgroup": "Porcentaje de afiliados con 2 consultas",
         "orientation": "v",
         "showlegend": false,
         "textposition": "auto",
         "type": "bar",
         "x": [
          "especialidad",
          "prestador"
         ],
         "xaxis": "x11",
         "y": [
          0,
          0
         ],
         "yaxis": "y11"
        },
        {
         "alignmentgroup": "True",
         "hovertemplate": "consulta=Porcentaje de afiliados con 2 consultas<br>variable=2019-12-01<br>tipo=%{x}<br>Participación mensual=%{y}<extra></extra>",
         "legendgroup": "Porcentaje de afiliados con 2 consultas",
         "marker": {
          "color": "#3792cb"
         },
         "name": "Porcentaje de afiliados con 2 consultas",
         "offsetgroup": "Porcentaje de afiliados con 2 consultas",
         "orientation": "v",
         "showlegend": false,
         "textposition": "auto",
         "type": "bar",
         "x": [
          "especialidad",
          "prestador"
         ],
         "xaxis": "x12",
         "y": [
          0,
          0
         ],
         "yaxis": "y12"
        },
        {
         "alignmentgroup": "True",
         "hovertemplate": "consulta=Porcentaje de afiliados con 2 consultas<br>variable=2020-01-01<br>tipo=%{x}<br>Participación mensual=%{y}<extra></extra>",
         "legendgroup": "Porcentaje de afiliados con 2 consultas",
         "marker": {
          "color": "#3792cb"
         },
         "name": "Porcentaje de afiliados con 2 consultas",
         "offsetgroup": "Porcentaje de afiliados con 2 consultas",
         "orientation": "v",
         "showlegend": false,
         "textposition": "auto",
         "type": "bar",
         "x": [
          "especialidad",
          "prestador"
         ],
         "xaxis": "x13",
         "y": [
          0.19,
          0.12
         ],
         "yaxis": "y13"
        },
        {
         "alignmentgroup": "True",
         "hovertemplate": "consulta=Porcentaje de afiliados con 3 consultas<br>variable=2019-01-01<br>tipo=%{x}<br>Participación mensual=%{y}<extra></extra>",
         "legendgroup": "Porcentaje de afiliados con 3 consultas",
         "marker": {
          "color": "#296d98"
         },
         "name": "Porcentaje de afiliados con 3 consultas",
         "offsetgroup": "Porcentaje de afiliados con 3 consultas",
         "orientation": "v",
         "showlegend": true,
         "textposition": "auto",
         "type": "bar",
         "x": [
          "especialidad",
          "prestador"
         ],
         "xaxis": "x",
         "y": [
          0.06,
          0
         ],
         "yaxis": "y"
        },
        {
         "alignmentgroup": "True",
         "hovertemplate": "consulta=Porcentaje de afiliados con 3 consultas<br>variable=2019-02-01<br>tipo=%{x}<br>Participación mensual=%{y}<extra></extra>",
         "legendgroup": "Porcentaje de afiliados con 3 consultas",
         "marker": {
          "color": "#296d98"
         },
         "name": "Porcentaje de afiliados con 3 consultas",
         "offsetgroup": "Porcentaje de afiliados con 3 consultas",
         "orientation": "v",
         "showlegend": false,
         "textposition": "auto",
         "type": "bar",
         "x": [
          "especialidad",
          "prestador"
         ],
         "xaxis": "x2",
         "y": [
          0.01,
          0
         ],
         "yaxis": "y2"
        },
        {
         "alignmentgroup": "True",
         "hovertemplate": "consulta=Porcentaje de afiliados con 3 consultas<br>variable=2019-03-01<br>tipo=%{x}<br>Participación mensual=%{y}<extra></extra>",
         "legendgroup": "Porcentaje de afiliados con 3 consultas",
         "marker": {
          "color": "#296d98"
         },
         "name": "Porcentaje de afiliados con 3 consultas",
         "offsetgroup": "Porcentaje de afiliados con 3 consultas",
         "orientation": "v",
         "showlegend": false,
         "textposition": "auto",
         "type": "bar",
         "x": [
          "especialidad",
          "prestador"
         ],
         "xaxis": "x3",
         "y": [
          0,
          0
         ],
         "yaxis": "y3"
        },
        {
         "alignmentgroup": "True",
         "hovertemplate": "consulta=Porcentaje de afiliados con 3 consultas<br>variable=2019-04-01<br>tipo=%{x}<br>Participación mensual=%{y}<extra></extra>",
         "legendgroup": "Porcentaje de afiliados con 3 consultas",
         "marker": {
          "color": "#296d98"
         },
         "name": "Porcentaje de afiliados con 3 consultas",
         "offsetgroup": "Porcentaje de afiliados con 3 consultas",
         "orientation": "v",
         "showlegend": false,
         "textposition": "auto",
         "type": "bar",
         "x": [
          "especialidad",
          "prestador"
         ],
         "xaxis": "x4",
         "y": [
          0,
          0
         ],
         "yaxis": "y4"
        },
        {
         "alignmentgroup": "True",
         "hovertemplate": "consulta=Porcentaje de afiliados con 3 consultas<br>variable=2019-05-01<br>tipo=%{x}<br>Participación mensual=%{y}<extra></extra>",
         "legendgroup": "Porcentaje de afiliados con 3 consultas",
         "marker": {
          "color": "#296d98"
         },
         "name": "Porcentaje de afiliados con 3 consultas",
         "offsetgroup": "Porcentaje de afiliados con 3 consultas",
         "orientation": "v",
         "showlegend": false,
         "textposition": "auto",
         "type": "bar",
         "x": [
          "especialidad",
          "prestador"
         ],
         "xaxis": "x5",
         "y": [
          0.04,
          0.07
         ],
         "yaxis": "y5"
        },
        {
         "alignmentgroup": "True",
         "hovertemplate": "consulta=Porcentaje de afiliados con 3 consultas<br>variable=2019-06-01<br>tipo=%{x}<br>Participación mensual=%{y}<extra></extra>",
         "legendgroup": "Porcentaje de afiliados con 3 consultas",
         "marker": {
          "color": "#296d98"
         },
         "name": "Porcentaje de afiliados con 3 consultas",
         "offsetgroup": "Porcentaje de afiliados con 3 consultas",
         "orientation": "v",
         "showlegend": false,
         "textposition": "auto",
         "type": "bar",
         "x": [
          "especialidad",
          "prestador"
         ],
         "xaxis": "x6",
         "y": [
          0,
          0
         ],
         "yaxis": "y6"
        },
        {
         "alignmentgroup": "True",
         "hovertemplate": "consulta=Porcentaje de afiliados con 3 consultas<br>variable=2019-07-01<br>tipo=%{x}<br>Participación mensual=%{y}<extra></extra>",
         "legendgroup": "Porcentaje de afiliados con 3 consultas",
         "marker": {
          "color": "#296d98"
         },
         "name": "Porcentaje de afiliados con 3 consultas",
         "offsetgroup": "Porcentaje de afiliados con 3 consultas",
         "orientation": "v",
         "showlegend": false,
         "textposition": "auto",
         "type": "bar",
         "x": [
          "especialidad",
          "prestador"
         ],
         "xaxis": "x7",
         "y": [
          0.06,
          0.07
         ],
         "yaxis": "y7"
        },
        {
         "alignmentgroup": "True",
         "hovertemplate": "consulta=Porcentaje de afiliados con 3 consultas<br>variable=2019-08-01<br>tipo=%{x}<br>Participación mensual=%{y}<extra></extra>",
         "legendgroup": "Porcentaje de afiliados con 3 consultas",
         "marker": {
          "color": "#296d98"
         },
         "name": "Porcentaje de afiliados con 3 consultas",
         "offsetgroup": "Porcentaje de afiliados con 3 consultas",
         "orientation": "v",
         "showlegend": false,
         "textposition": "auto",
         "type": "bar",
         "x": [
          "especialidad",
          "prestador"
         ],
         "xaxis": "x8",
         "y": [
          0.08,
          0.09
         ],
         "yaxis": "y8"
        },
        {
         "alignmentgroup": "True",
         "hovertemplate": "consulta=Porcentaje de afiliados con 3 consultas<br>variable=2019-09-01<br>tipo=%{x}<br>Participación mensual=%{y}<extra></extra>",
         "legendgroup": "Porcentaje de afiliados con 3 consultas",
         "marker": {
          "color": "#296d98"
         },
         "name": "Porcentaje de afiliados con 3 consultas",
         "offsetgroup": "Porcentaje de afiliados con 3 consultas",
         "orientation": "v",
         "showlegend": false,
         "textposition": "auto",
         "type": "bar",
         "x": [
          "especialidad",
          "prestador"
         ],
         "xaxis": "x9",
         "y": [
          0.03,
          0
         ],
         "yaxis": "y9"
        },
        {
         "alignmentgroup": "True",
         "hovertemplate": "consulta=Porcentaje de afiliados con 3 consultas<br>variable=2019-10-01<br>tipo=%{x}<br>Participación mensual=%{y}<extra></extra>",
         "legendgroup": "Porcentaje de afiliados con 3 consultas",
         "marker": {
          "color": "#296d98"
         },
         "name": "Porcentaje de afiliados con 3 consultas",
         "offsetgroup": "Porcentaje de afiliados con 3 consultas",
         "orientation": "v",
         "showlegend": false,
         "textposition": "auto",
         "type": "bar",
         "x": [
          "especialidad",
          "prestador"
         ],
         "xaxis": "x10",
         "y": [
          0.06,
          0.05
         ],
         "yaxis": "y10"
        },
        {
         "alignmentgroup": "True",
         "hovertemplate": "consulta=Porcentaje de afiliados con 3 consultas<br>variable=2019-11-01<br>tipo=%{x}<br>Participación mensual=%{y}<extra></extra>",
         "legendgroup": "Porcentaje de afiliados con 3 consultas",
         "marker": {
          "color": "#296d98"
         },
         "name": "Porcentaje de afiliados con 3 consultas",
         "offsetgroup": "Porcentaje de afiliados con 3 consultas",
         "orientation": "v",
         "showlegend": false,
         "textposition": "auto",
         "type": "bar",
         "x": [
          "especialidad",
          "prestador"
         ],
         "xaxis": "x11",
         "y": [
          0,
          0
         ],
         "yaxis": "y11"
        },
        {
         "alignmentgroup": "True",
         "hovertemplate": "consulta=Porcentaje de afiliados con 3 consultas<br>variable=2019-12-01<br>tipo=%{x}<br>Participación mensual=%{y}<extra></extra>",
         "legendgroup": "Porcentaje de afiliados con 3 consultas",
         "marker": {
          "color": "#296d98"
         },
         "name": "Porcentaje de afiliados con 3 consultas",
         "offsetgroup": "Porcentaje de afiliados con 3 consultas",
         "orientation": "v",
         "showlegend": false,
         "textposition": "auto",
         "type": "bar",
         "x": [
          "especialidad",
          "prestador"
         ],
         "xaxis": "x12",
         "y": [
          0,
          0
         ],
         "yaxis": "y12"
        },
        {
         "alignmentgroup": "True",
         "hovertemplate": "consulta=Porcentaje de afiliados con 3 consultas<br>variable=2020-01-01<br>tipo=%{x}<br>Participación mensual=%{y}<extra></extra>",
         "legendgroup": "Porcentaje de afiliados con 3 consultas",
         "marker": {
          "color": "#296d98"
         },
         "name": "Porcentaje de afiliados con 3 consultas",
         "offsetgroup": "Porcentaje de afiliados con 3 consultas",
         "orientation": "v",
         "showlegend": false,
         "textposition": "auto",
         "type": "bar",
         "x": [
          "especialidad",
          "prestador"
         ],
         "xaxis": "x13",
         "y": [
          0.02,
          0.06
         ],
         "yaxis": "y13"
        },
        {
         "alignmentgroup": "True",
         "hovertemplate": "consulta=Porcentaje de afiliados con 4 consultas<br>variable=2019-01-01<br>tipo=%{x}<br>Participación mensual=%{y}<extra></extra>",
         "legendgroup": "Porcentaje de afiliados con 4 consultas",
         "marker": {
          "color": "#1c4966"
         },
         "name": "Porcentaje de afiliados con 4 consultas",
         "offsetgroup": "Porcentaje de afiliados con 4 consultas",
         "orientation": "v",
         "showlegend": true,
         "textposition": "auto",
         "type": "bar",
         "x": [
          "especialidad",
          "prestador"
         ],
         "xaxis": "x",
         "y": [
          0.02,
          0
         ],
         "yaxis": "y"
        },
        {
         "alignmentgroup": "True",
         "hovertemplate": "consulta=Porcentaje de afiliados con 4 consultas<br>variable=2019-02-01<br>tipo=%{x}<br>Participación mensual=%{y}<extra></extra>",
         "legendgroup": "Porcentaje de afiliados con 4 consultas",
         "marker": {
          "color": "#1c4966"
         },
         "name": "Porcentaje de afiliados con 4 consultas",
         "offsetgroup": "Porcentaje de afiliados con 4 consultas",
         "orientation": "v",
         "showlegend": false,
         "textposition": "auto",
         "type": "bar",
         "x": [
          "especialidad",
          "prestador"
         ],
         "xaxis": "x2",
         "y": [
          0,
          0
         ],
         "yaxis": "y2"
        },
        {
         "alignmentgroup": "True",
         "hovertemplate": "consulta=Porcentaje de afiliados con 4 consultas<br>variable=2019-03-01<br>tipo=%{x}<br>Participación mensual=%{y}<extra></extra>",
         "legendgroup": "Porcentaje de afiliados con 4 consultas",
         "marker": {
          "color": "#1c4966"
         },
         "name": "Porcentaje de afiliados con 4 consultas",
         "offsetgroup": "Porcentaje de afiliados con 4 consultas",
         "orientation": "v",
         "showlegend": false,
         "textposition": "auto",
         "type": "bar",
         "x": [
          "especialidad",
          "prestador"
         ],
         "xaxis": "x3",
         "y": [
          0,
          0
         ],
         "yaxis": "y3"
        },
        {
         "alignmentgroup": "True",
         "hovertemplate": "consulta=Porcentaje de afiliados con 4 consultas<br>variable=2019-04-01<br>tipo=%{x}<br>Participación mensual=%{y}<extra></extra>",
         "legendgroup": "Porcentaje de afiliados con 4 consultas",
         "marker": {
          "color": "#1c4966"
         },
         "name": "Porcentaje de afiliados con 4 consultas",
         "offsetgroup": "Porcentaje de afiliados con 4 consultas",
         "orientation": "v",
         "showlegend": false,
         "textposition": "auto",
         "type": "bar",
         "x": [
          "especialidad",
          "prestador"
         ],
         "xaxis": "x4",
         "y": [
          0,
          0
         ],
         "yaxis": "y4"
        },
        {
         "alignmentgroup": "True",
         "hovertemplate": "consulta=Porcentaje de afiliados con 4 consultas<br>variable=2019-05-01<br>tipo=%{x}<br>Participación mensual=%{y}<extra></extra>",
         "legendgroup": "Porcentaje de afiliados con 4 consultas",
         "marker": {
          "color": "#1c4966"
         },
         "name": "Porcentaje de afiliados con 4 consultas",
         "offsetgroup": "Porcentaje de afiliados con 4 consultas",
         "orientation": "v",
         "showlegend": false,
         "textposition": "auto",
         "type": "bar",
         "x": [
          "especialidad",
          "prestador"
         ],
         "xaxis": "x5",
         "y": [
          0,
          0
         ],
         "yaxis": "y5"
        },
        {
         "alignmentgroup": "True",
         "hovertemplate": "consulta=Porcentaje de afiliados con 4 consultas<br>variable=2019-06-01<br>tipo=%{x}<br>Participación mensual=%{y}<extra></extra>",
         "legendgroup": "Porcentaje de afiliados con 4 consultas",
         "marker": {
          "color": "#1c4966"
         },
         "name": "Porcentaje de afiliados con 4 consultas",
         "offsetgroup": "Porcentaje de afiliados con 4 consultas",
         "orientation": "v",
         "showlegend": false,
         "textposition": "auto",
         "type": "bar",
         "x": [
          "especialidad",
          "prestador"
         ],
         "xaxis": "x6",
         "y": [
          0,
          0
         ],
         "yaxis": "y6"
        },
        {
         "alignmentgroup": "True",
         "hovertemplate": "consulta=Porcentaje de afiliados con 4 consultas<br>variable=2019-07-01<br>tipo=%{x}<br>Participación mensual=%{y}<extra></extra>",
         "legendgroup": "Porcentaje de afiliados con 4 consultas",
         "marker": {
          "color": "#1c4966"
         },
         "name": "Porcentaje de afiliados con 4 consultas",
         "offsetgroup": "Porcentaje de afiliados con 4 consultas",
         "orientation": "v",
         "showlegend": false,
         "textposition": "auto",
         "type": "bar",
         "x": [
          "especialidad",
          "prestador"
         ],
         "xaxis": "x7",
         "y": [
          0,
          0
         ],
         "yaxis": "y7"
        },
        {
         "alignmentgroup": "True",
         "hovertemplate": "consulta=Porcentaje de afiliados con 4 consultas<br>variable=2019-08-01<br>tipo=%{x}<br>Participación mensual=%{y}<extra></extra>",
         "legendgroup": "Porcentaje de afiliados con 4 consultas",
         "marker": {
          "color": "#1c4966"
         },
         "name": "Porcentaje de afiliados con 4 consultas",
         "offsetgroup": "Porcentaje de afiliados con 4 consultas",
         "orientation": "v",
         "showlegend": false,
         "textposition": "auto",
         "type": "bar",
         "x": [
          "especialidad",
          "prestador"
         ],
         "xaxis": "x8",
         "y": [
          0,
          0
         ],
         "yaxis": "y8"
        },
        {
         "alignmentgroup": "True",
         "hovertemplate": "consulta=Porcentaje de afiliados con 4 consultas<br>variable=2019-09-01<br>tipo=%{x}<br>Participación mensual=%{y}<extra></extra>",
         "legendgroup": "Porcentaje de afiliados con 4 consultas",
         "marker": {
          "color": "#1c4966"
         },
         "name": "Porcentaje de afiliados con 4 consultas",
         "offsetgroup": "Porcentaje de afiliados con 4 consultas",
         "orientation": "v",
         "showlegend": false,
         "textposition": "auto",
         "type": "bar",
         "x": [
          "especialidad",
          "prestador"
         ],
         "xaxis": "x9",
         "y": [
          0.01,
          0
         ],
         "yaxis": "y9"
        },
        {
         "alignmentgroup": "True",
         "hovertemplate": "consulta=Porcentaje de afiliados con 4 consultas<br>variable=2019-10-01<br>tipo=%{x}<br>Participación mensual=%{y}<extra></extra>",
         "legendgroup": "Porcentaje de afiliados con 4 consultas",
         "marker": {
          "color": "#1c4966"
         },
         "name": "Porcentaje de afiliados con 4 consultas",
         "offsetgroup": "Porcentaje de afiliados con 4 consultas",
         "orientation": "v",
         "showlegend": false,
         "textposition": "auto",
         "type": "bar",
         "x": [
          "especialidad",
          "prestador"
         ],
         "xaxis": "x10",
         "y": [
          0.01,
          0
         ],
         "yaxis": "y10"
        },
        {
         "alignmentgroup": "True",
         "hovertemplate": "consulta=Porcentaje de afiliados con 4 consultas<br>variable=2019-11-01<br>tipo=%{x}<br>Participación mensual=%{y}<extra></extra>",
         "legendgroup": "Porcentaje de afiliados con 4 consultas",
         "marker": {
          "color": "#1c4966"
         },
         "name": "Porcentaje de afiliados con 4 consultas",
         "offsetgroup": "Porcentaje de afiliados con 4 consultas",
         "orientation": "v",
         "showlegend": false,
         "textposition": "auto",
         "type": "bar",
         "x": [
          "especialidad",
          "prestador"
         ],
         "xaxis": "x11",
         "y": [
          0,
          0
         ],
         "yaxis": "y11"
        },
        {
         "alignmentgroup": "True",
         "hovertemplate": "consulta=Porcentaje de afiliados con 4 consultas<br>variable=2019-12-01<br>tipo=%{x}<br>Participación mensual=%{y}<extra></extra>",
         "legendgroup": "Porcentaje de afiliados con 4 consultas",
         "marker": {
          "color": "#1c4966"
         },
         "name": "Porcentaje de afiliados con 4 consultas",
         "offsetgroup": "Porcentaje de afiliados con 4 consultas",
         "orientation": "v",
         "showlegend": false,
         "textposition": "auto",
         "type": "bar",
         "x": [
          "especialidad",
          "prestador"
         ],
         "xaxis": "x12",
         "y": [
          0,
          0
         ],
         "yaxis": "y12"
        },
        {
         "alignmentgroup": "True",
         "hovertemplate": "consulta=Porcentaje de afiliados con 4 consultas<br>variable=2020-01-01<br>tipo=%{x}<br>Participación mensual=%{y}<extra></extra>",
         "legendgroup": "Porcentaje de afiliados con 4 consultas",
         "marker": {
          "color": "#1c4966"
         },
         "name": "Porcentaje de afiliados con 4 consultas",
         "offsetgroup": "Porcentaje de afiliados con 4 consultas",
         "orientation": "v",
         "showlegend": false,
         "textposition": "auto",
         "type": "bar",
         "x": [
          "especialidad",
          "prestador"
         ],
         "xaxis": "x13",
         "y": [
          0.02,
          0.08
         ],
         "yaxis": "y13"
        },
        {
         "alignmentgroup": "True",
         "hovertemplate": "consulta=Porcentaje de afiliados con más de 4 consultas<br>variable=2019-01-01<br>tipo=%{x}<br>Participación mensual=%{y}<extra></extra>",
         "legendgroup": "Porcentaje de afiliados con más de 4 consultas",
         "marker": {
          "color": "black"
         },
         "name": "Porcentaje de afiliados con más de 4 consultas",
         "offsetgroup": "Porcentaje de afiliados con más de 4 consultas",
         "orientation": "v",
         "showlegend": true,
         "textposition": "auto",
         "type": "bar",
         "x": [
          "especialidad",
          "prestador"
         ],
         "xaxis": "x",
         "y": [
          0,
          0
         ],
         "yaxis": "y"
        },
        {
         "alignmentgroup": "True",
         "hovertemplate": "consulta=Porcentaje de afiliados con más de 4 consultas<br>variable=2019-02-01<br>tipo=%{x}<br>Participación mensual=%{y}<extra></extra>",
         "legendgroup": "Porcentaje de afiliados con más de 4 consultas",
         "marker": {
          "color": "black"
         },
         "name": "Porcentaje de afiliados con más de 4 consultas",
         "offsetgroup": "Porcentaje de afiliados con más de 4 consultas",
         "orientation": "v",
         "showlegend": false,
         "textposition": "auto",
         "type": "bar",
         "x": [
          "especialidad",
          "prestador"
         ],
         "xaxis": "x2",
         "y": [
          0,
          0
         ],
         "yaxis": "y2"
        },
        {
         "alignmentgroup": "True",
         "hovertemplate": "consulta=Porcentaje de afiliados con más de 4 consultas<br>variable=2019-03-01<br>tipo=%{x}<br>Participación mensual=%{y}<extra></extra>",
         "legendgroup": "Porcentaje de afiliados con más de 4 consultas",
         "marker": {
          "color": "black"
         },
         "name": "Porcentaje de afiliados con más de 4 consultas",
         "offsetgroup": "Porcentaje de afiliados con más de 4 consultas",
         "orientation": "v",
         "showlegend": false,
         "textposition": "auto",
         "type": "bar",
         "x": [
          "especialidad",
          "prestador"
         ],
         "xaxis": "x3",
         "y": [
          0,
          0
         ],
         "yaxis": "y3"
        },
        {
         "alignmentgroup": "True",
         "hovertemplate": "consulta=Porcentaje de afiliados con más de 4 consultas<br>variable=2019-04-01<br>tipo=%{x}<br>Participación mensual=%{y}<extra></extra>",
         "legendgroup": "Porcentaje de afiliados con más de 4 consultas",
         "marker": {
          "color": "black"
         },
         "name": "Porcentaje de afiliados con más de 4 consultas",
         "offsetgroup": "Porcentaje de afiliados con más de 4 consultas",
         "orientation": "v",
         "showlegend": false,
         "textposition": "auto",
         "type": "bar",
         "x": [
          "especialidad",
          "prestador"
         ],
         "xaxis": "x4",
         "y": [
          0,
          0
         ],
         "yaxis": "y4"
        },
        {
         "alignmentgroup": "True",
         "hovertemplate": "consulta=Porcentaje de afiliados con más de 4 consultas<br>variable=2019-05-01<br>tipo=%{x}<br>Participación mensual=%{y}<extra></extra>",
         "legendgroup": "Porcentaje de afiliados con más de 4 consultas",
         "marker": {
          "color": "black"
         },
         "name": "Porcentaje de afiliados con más de 4 consultas",
         "offsetgroup": "Porcentaje de afiliados con más de 4 consultas",
         "orientation": "v",
         "showlegend": false,
         "textposition": "auto",
         "type": "bar",
         "x": [
          "especialidad",
          "prestador"
         ],
         "xaxis": "x5",
         "y": [
          0,
          0
         ],
         "yaxis": "y5"
        },
        {
         "alignmentgroup": "True",
         "hovertemplate": "consulta=Porcentaje de afiliados con más de 4 consultas<br>variable=2019-06-01<br>tipo=%{x}<br>Participación mensual=%{y}<extra></extra>",
         "legendgroup": "Porcentaje de afiliados con más de 4 consultas",
         "marker": {
          "color": "black"
         },
         "name": "Porcentaje de afiliados con más de 4 consultas",
         "offsetgroup": "Porcentaje de afiliados con más de 4 consultas",
         "orientation": "v",
         "showlegend": false,
         "textposition": "auto",
         "type": "bar",
         "x": [
          "especialidad",
          "prestador"
         ],
         "xaxis": "x6",
         "y": [
          0,
          0
         ],
         "yaxis": "y6"
        },
        {
         "alignmentgroup": "True",
         "hovertemplate": "consulta=Porcentaje de afiliados con más de 4 consultas<br>variable=2019-07-01<br>tipo=%{x}<br>Participación mensual=%{y}<extra></extra>",
         "legendgroup": "Porcentaje de afiliados con más de 4 consultas",
         "marker": {
          "color": "black"
         },
         "name": "Porcentaje de afiliados con más de 4 consultas",
         "offsetgroup": "Porcentaje de afiliados con más de 4 consultas",
         "orientation": "v",
         "showlegend": false,
         "textposition": "auto",
         "type": "bar",
         "x": [
          "especialidad",
          "prestador"
         ],
         "xaxis": "x7",
         "y": [
          0,
          0
         ],
         "yaxis": "y7"
        },
        {
         "alignmentgroup": "True",
         "hovertemplate": "consulta=Porcentaje de afiliados con más de 4 consultas<br>variable=2019-08-01<br>tipo=%{x}<br>Participación mensual=%{y}<extra></extra>",
         "legendgroup": "Porcentaje de afiliados con más de 4 consultas",
         "marker": {
          "color": "black"
         },
         "name": "Porcentaje de afiliados con más de 4 consultas",
         "offsetgroup": "Porcentaje de afiliados con más de 4 consultas",
         "orientation": "v",
         "showlegend": false,
         "textposition": "auto",
         "type": "bar",
         "x": [
          "especialidad",
          "prestador"
         ],
         "xaxis": "x8",
         "y": [
          0,
          0
         ],
         "yaxis": "y8"
        },
        {
         "alignmentgroup": "True",
         "hovertemplate": "consulta=Porcentaje de afiliados con más de 4 consultas<br>variable=2019-09-01<br>tipo=%{x}<br>Participación mensual=%{y}<extra></extra>",
         "legendgroup": "Porcentaje de afiliados con más de 4 consultas",
         "marker": {
          "color": "black"
         },
         "name": "Porcentaje de afiliados con más de 4 consultas",
         "offsetgroup": "Porcentaje de afiliados con más de 4 consultas",
         "orientation": "v",
         "showlegend": false,
         "textposition": "auto",
         "type": "bar",
         "x": [
          "especialidad",
          "prestador"
         ],
         "xaxis": "x9",
         "y": [
          0,
          0
         ],
         "yaxis": "y9"
        },
        {
         "alignmentgroup": "True",
         "hovertemplate": "consulta=Porcentaje de afiliados con más de 4 consultas<br>variable=2019-10-01<br>tipo=%{x}<br>Participación mensual=%{y}<extra></extra>",
         "legendgroup": "Porcentaje de afiliados con más de 4 consultas",
         "marker": {
          "color": "black"
         },
         "name": "Porcentaje de afiliados con más de 4 consultas",
         "offsetgroup": "Porcentaje de afiliados con más de 4 consultas",
         "orientation": "v",
         "showlegend": false,
         "textposition": "auto",
         "type": "bar",
         "x": [
          "especialidad",
          "prestador"
         ],
         "xaxis": "x10",
         "y": [
          0.01,
          0
         ],
         "yaxis": "y10"
        },
        {
         "alignmentgroup": "True",
         "hovertemplate": "consulta=Porcentaje de afiliados con más de 4 consultas<br>variable=2019-11-01<br>tipo=%{x}<br>Participación mensual=%{y}<extra></extra>",
         "legendgroup": "Porcentaje de afiliados con más de 4 consultas",
         "marker": {
          "color": "black"
         },
         "name": "Porcentaje de afiliados con más de 4 consultas",
         "offsetgroup": "Porcentaje de afiliados con más de 4 consultas",
         "orientation": "v",
         "showlegend": false,
         "textposition": "auto",
         "type": "bar",
         "x": [
          "especialidad",
          "prestador"
         ],
         "xaxis": "x11",
         "y": [
          0,
          0
         ],
         "yaxis": "y11"
        },
        {
         "alignmentgroup": "True",
         "hovertemplate": "consulta=Porcentaje de afiliados con más de 4 consultas<br>variable=2019-12-01<br>tipo=%{x}<br>Participación mensual=%{y}<extra></extra>",
         "legendgroup": "Porcentaje de afiliados con más de 4 consultas",
         "marker": {
          "color": "black"
         },
         "name": "Porcentaje de afiliados con más de 4 consultas",
         "offsetgroup": "Porcentaje de afiliados con más de 4 consultas",
         "orientation": "v",
         "showlegend": false,
         "textposition": "auto",
         "type": "bar",
         "x": [
          "especialidad",
          "prestador"
         ],
         "xaxis": "x12",
         "y": [
          0,
          0
         ],
         "yaxis": "y12"
        },
        {
         "alignmentgroup": "True",
         "hovertemplate": "consulta=Porcentaje de afiliados con más de 4 consultas<br>variable=2020-01-01<br>tipo=%{x}<br>Participación mensual=%{y}<extra></extra>",
         "legendgroup": "Porcentaje de afiliados con más de 4 consultas",
         "marker": {
          "color": "black"
         },
         "name": "Porcentaje de afiliados con más de 4 consultas",
         "offsetgroup": "Porcentaje de afiliados con más de 4 consultas",
         "orientation": "v",
         "showlegend": false,
         "textposition": "auto",
         "type": "bar",
         "x": [
          "especialidad",
          "prestador"
         ],
         "xaxis": "x13",
         "y": [
          0,
          0
         ],
         "yaxis": "y13"
        }
       ],
       "layout": {
        "annotations": [
         {
          "font": {},
          "showarrow": false,
          "text": "2019-01",
          "x": 0.029230769230769234,
          "xanchor": "center",
          "xref": "paper",
          "y": 1,
          "yanchor": "bottom",
          "yref": "paper"
         },
         {
          "font": {},
          "showarrow": false,
          "text": "2019-02",
          "x": 0.1076923076923077,
          "xanchor": "center",
          "xref": "paper",
          "y": 1,
          "yanchor": "bottom",
          "yref": "paper"
         },
         {
          "font": {},
          "showarrow": false,
          "text": "2019-03",
          "x": 0.18615384615384617,
          "xanchor": "center",
          "xref": "paper",
          "y": 1,
          "yanchor": "bottom",
          "yref": "paper"
         },
         {
          "font": {},
          "showarrow": false,
          "text": "2019-04",
          "x": 0.26461538461538464,
          "xanchor": "center",
          "xref": "paper",
          "y": 1,
          "yanchor": "bottom",
          "yref": "paper"
         },
         {
          "font": {},
          "showarrow": false,
          "text": "2019-05",
          "x": 0.3430769230769231,
          "xanchor": "center",
          "xref": "paper",
          "y": 1,
          "yanchor": "bottom",
          "yref": "paper"
         },
         {
          "font": {},
          "showarrow": false,
          "text": "2019-06",
          "x": 0.4215384615384616,
          "xanchor": "center",
          "xref": "paper",
          "y": 1,
          "yanchor": "bottom",
          "yref": "paper"
         },
         {
          "font": {},
          "showarrow": false,
          "text": "2019-07",
          "x": 0.5,
          "xanchor": "center",
          "xref": "paper",
          "y": 1,
          "yanchor": "bottom",
          "yref": "paper"
         },
         {
          "font": {},
          "showarrow": false,
          "text": "2019-08",
          "x": 0.5784615384615384,
          "xanchor": "center",
          "xref": "paper",
          "y": 1,
          "yanchor": "bottom",
          "yref": "paper"
         },
         {
          "font": {},
          "showarrow": false,
          "text": "2019-09",
          "x": 0.6569230769230769,
          "xanchor": "center",
          "xref": "paper",
          "y": 1,
          "yanchor": "bottom",
          "yref": "paper"
         },
         {
          "font": {},
          "showarrow": false,
          "text": "2019-10",
          "x": 0.7353846153846153,
          "xanchor": "center",
          "xref": "paper",
          "y": 1,
          "yanchor": "bottom",
          "yref": "paper"
         },
         {
          "font": {},
          "showarrow": false,
          "text": "2019-11",
          "x": 0.8138461538461539,
          "xanchor": "center",
          "xref": "paper",
          "y": 1,
          "yanchor": "bottom",
          "yref": "paper"
         },
         {
          "font": {},
          "showarrow": false,
          "text": "2019-12",
          "x": 0.8923076923076922,
          "xanchor": "center",
          "xref": "paper",
          "y": 1,
          "yanchor": "bottom",
          "yref": "paper"
         },
         {
          "font": {},
          "showarrow": false,
          "text": "2020-01",
          "x": 0.9707692307692308,
          "xanchor": "center",
          "xref": "paper",
          "y": 1,
          "yanchor": "bottom",
          "yref": "paper"
         }
        ],
        "barmode": "stack",
        "legend": {
         "orientation": "h",
         "x": 0.5,
         "xanchor": "center",
         "y": 1.4
        },
        "margin": {
         "t": 60
        },
        "template": {
         "data": {
          "bar": [
           {
            "error_x": {
             "color": "#2a3f5f"
            },
            "error_y": {
             "color": "#2a3f5f"
            },
            "marker": {
             "line": {
              "color": "#E5ECF6",
              "width": 0.5
             }
            },
            "type": "bar"
           }
          ],
          "barpolar": [
           {
            "marker": {
             "line": {
              "color": "#E5ECF6",
              "width": 0.5
             }
            },
            "type": "barpolar"
           }
          ],
          "carpet": [
           {
            "aaxis": {
             "endlinecolor": "#2a3f5f",
             "gridcolor": "white",
             "linecolor": "white",
             "minorgridcolor": "white",
             "startlinecolor": "#2a3f5f"
            },
            "baxis": {
             "endlinecolor": "#2a3f5f",
             "gridcolor": "white",
             "linecolor": "white",
             "minorgridcolor": "white",
             "startlinecolor": "#2a3f5f"
            },
            "type": "carpet"
           }
          ],
          "choropleth": [
           {
            "colorbar": {
             "outlinewidth": 0,
             "ticks": ""
            },
            "type": "choropleth"
           }
          ],
          "contour": [
           {
            "colorbar": {
             "outlinewidth": 0,
             "ticks": ""
            },
            "colorscale": [
             [
              0,
              "#0d0887"
             ],
             [
              0.1111111111111111,
              "#46039f"
             ],
             [
              0.2222222222222222,
              "#7201a8"
             ],
             [
              0.3333333333333333,
              "#9c179e"
             ],
             [
              0.4444444444444444,
              "#bd3786"
             ],
             [
              0.5555555555555556,
              "#d8576b"
             ],
             [
              0.6666666666666666,
              "#ed7953"
             ],
             [
              0.7777777777777778,
              "#fb9f3a"
             ],
             [
              0.8888888888888888,
              "#fdca26"
             ],
             [
              1,
              "#f0f921"
             ]
            ],
            "type": "contour"
           }
          ],
          "contourcarpet": [
           {
            "colorbar": {
             "outlinewidth": 0,
             "ticks": ""
            },
            "type": "contourcarpet"
           }
          ],
          "heatmap": [
           {
            "colorbar": {
             "outlinewidth": 0,
             "ticks": ""
            },
            "colorscale": [
             [
              0,
              "#0d0887"
             ],
             [
              0.1111111111111111,
              "#46039f"
             ],
             [
              0.2222222222222222,
              "#7201a8"
             ],
             [
              0.3333333333333333,
              "#9c179e"
             ],
             [
              0.4444444444444444,
              "#bd3786"
             ],
             [
              0.5555555555555556,
              "#d8576b"
             ],
             [
              0.6666666666666666,
              "#ed7953"
             ],
             [
              0.7777777777777778,
              "#fb9f3a"
             ],
             [
              0.8888888888888888,
              "#fdca26"
             ],
             [
              1,
              "#f0f921"
             ]
            ],
            "type": "heatmap"
           }
          ],
          "heatmapgl": [
           {
            "colorbar": {
             "outlinewidth": 0,
             "ticks": ""
            },
            "colorscale": [
             [
              0,
              "#0d0887"
             ],
             [
              0.1111111111111111,
              "#46039f"
             ],
             [
              0.2222222222222222,
              "#7201a8"
             ],
             [
              0.3333333333333333,
              "#9c179e"
             ],
             [
              0.4444444444444444,
              "#bd3786"
             ],
             [
              0.5555555555555556,
              "#d8576b"
             ],
             [
              0.6666666666666666,
              "#ed7953"
             ],
             [
              0.7777777777777778,
              "#fb9f3a"
             ],
             [
              0.8888888888888888,
              "#fdca26"
             ],
             [
              1,
              "#f0f921"
             ]
            ],
            "type": "heatmapgl"
           }
          ],
          "histogram": [
           {
            "marker": {
             "colorbar": {
              "outlinewidth": 0,
              "ticks": ""
             }
            },
            "type": "histogram"
           }
          ],
          "histogram2d": [
           {
            "colorbar": {
             "outlinewidth": 0,
             "ticks": ""
            },
            "colorscale": [
             [
              0,
              "#0d0887"
             ],
             [
              0.1111111111111111,
              "#46039f"
             ],
             [
              0.2222222222222222,
              "#7201a8"
             ],
             [
              0.3333333333333333,
              "#9c179e"
             ],
             [
              0.4444444444444444,
              "#bd3786"
             ],
             [
              0.5555555555555556,
              "#d8576b"
             ],
             [
              0.6666666666666666,
              "#ed7953"
             ],
             [
              0.7777777777777778,
              "#fb9f3a"
             ],
             [
              0.8888888888888888,
              "#fdca26"
             ],
             [
              1,
              "#f0f921"
             ]
            ],
            "type": "histogram2d"
           }
          ],
          "histogram2dcontour": [
           {
            "colorbar": {
             "outlinewidth": 0,
             "ticks": ""
            },
            "colorscale": [
             [
              0,
              "#0d0887"
             ],
             [
              0.1111111111111111,
              "#46039f"
             ],
             [
              0.2222222222222222,
              "#7201a8"
             ],
             [
              0.3333333333333333,
              "#9c179e"
             ],
             [
              0.4444444444444444,
              "#bd3786"
             ],
             [
              0.5555555555555556,
              "#d8576b"
             ],
             [
              0.6666666666666666,
              "#ed7953"
             ],
             [
              0.7777777777777778,
              "#fb9f3a"
             ],
             [
              0.8888888888888888,
              "#fdca26"
             ],
             [
              1,
              "#f0f921"
             ]
            ],
            "type": "histogram2dcontour"
           }
          ],
          "mesh3d": [
           {
            "colorbar": {
             "outlinewidth": 0,
             "ticks": ""
            },
            "type": "mesh3d"
           }
          ],
          "parcoords": [
           {
            "line": {
             "colorbar": {
              "outlinewidth": 0,
              "ticks": ""
             }
            },
            "type": "parcoords"
           }
          ],
          "pie": [
           {
            "automargin": true,
            "type": "pie"
           }
          ],
          "scatter": [
           {
            "marker": {
             "colorbar": {
              "outlinewidth": 0,
              "ticks": ""
             }
            },
            "type": "scatter"
           }
          ],
          "scatter3d": [
           {
            "line": {
             "colorbar": {
              "outlinewidth": 0,
              "ticks": ""
             }
            },
            "marker": {
             "colorbar": {
              "outlinewidth": 0,
              "ticks": ""
             }
            },
            "type": "scatter3d"
           }
          ],
          "scattercarpet": [
           {
            "marker": {
             "colorbar": {
              "outlinewidth": 0,
              "ticks": ""
             }
            },
            "type": "scattercarpet"
           }
          ],
          "scattergeo": [
           {
            "marker": {
             "colorbar": {
              "outlinewidth": 0,
              "ticks": ""
             }
            },
            "type": "scattergeo"
           }
          ],
          "scattergl": [
           {
            "marker": {
             "colorbar": {
              "outlinewidth": 0,
              "ticks": ""
             }
            },
            "type": "scattergl"
           }
          ],
          "scattermapbox": [
           {
            "marker": {
             "colorbar": {
              "outlinewidth": 0,
              "ticks": ""
             }
            },
            "type": "scattermapbox"
           }
          ],
          "scatterpolar": [
           {
            "marker": {
             "colorbar": {
              "outlinewidth": 0,
              "ticks": ""
             }
            },
            "type": "scatterpolar"
           }
          ],
          "scatterpolargl": [
           {
            "marker": {
             "colorbar": {
              "outlinewidth": 0,
              "ticks": ""
             }
            },
            "type": "scatterpolargl"
           }
          ],
          "scatterternary": [
           {
            "marker": {
             "colorbar": {
              "outlinewidth": 0,
              "ticks": ""
             }
            },
            "type": "scatterternary"
           }
          ],
          "surface": [
           {
            "colorbar": {
             "outlinewidth": 0,
             "ticks": ""
            },
            "colorscale": [
             [
              0,
              "#0d0887"
             ],
             [
              0.1111111111111111,
              "#46039f"
             ],
             [
              0.2222222222222222,
              "#7201a8"
             ],
             [
              0.3333333333333333,
              "#9c179e"
             ],
             [
              0.4444444444444444,
              "#bd3786"
             ],
             [
              0.5555555555555556,
              "#d8576b"
             ],
             [
              0.6666666666666666,
              "#ed7953"
             ],
             [
              0.7777777777777778,
              "#fb9f3a"
             ],
             [
              0.8888888888888888,
              "#fdca26"
             ],
             [
              1,
              "#f0f921"
             ]
            ],
            "type": "surface"
           }
          ],
          "table": [
           {
            "cells": {
             "fill": {
              "color": "#EBF0F8"
             },
             "line": {
              "color": "white"
             }
            },
            "header": {
             "fill": {
              "color": "#C8D4E3"
             },
             "line": {
              "color": "white"
             }
            },
            "type": "table"
           }
          ]
         },
         "layout": {
          "annotationdefaults": {
           "arrowcolor": "#2a3f5f",
           "arrowhead": 0,
           "arrowwidth": 1
          },
          "coloraxis": {
           "colorbar": {
            "outlinewidth": 0,
            "ticks": ""
           }
          },
          "colorscale": {
           "diverging": [
            [
             0,
             "#8e0152"
            ],
            [
             0.1,
             "#c51b7d"
            ],
            [
             0.2,
             "#de77ae"
            ],
            [
             0.3,
             "#f1b6da"
            ],
            [
             0.4,
             "#fde0ef"
            ],
            [
             0.5,
             "#f7f7f7"
            ],
            [
             0.6,
             "#e6f5d0"
            ],
            [
             0.7,
             "#b8e186"
            ],
            [
             0.8,
             "#7fbc41"
            ],
            [
             0.9,
             "#4d9221"
            ],
            [
             1,
             "#276419"
            ]
           ],
           "sequential": [
            [
             0,
             "#0d0887"
            ],
            [
             0.1111111111111111,
             "#46039f"
            ],
            [
             0.2222222222222222,
             "#7201a8"
            ],
            [
             0.3333333333333333,
             "#9c179e"
            ],
            [
             0.4444444444444444,
             "#bd3786"
            ],
            [
             0.5555555555555556,
             "#d8576b"
            ],
            [
             0.6666666666666666,
             "#ed7953"
            ],
            [
             0.7777777777777778,
             "#fb9f3a"
            ],
            [
             0.8888888888888888,
             "#fdca26"
            ],
            [
             1,
             "#f0f921"
            ]
           ],
           "sequentialminus": [
            [
             0,
             "#0d0887"
            ],
            [
             0.1111111111111111,
             "#46039f"
            ],
            [
             0.2222222222222222,
             "#7201a8"
            ],
            [
             0.3333333333333333,
             "#9c179e"
            ],
            [
             0.4444444444444444,
             "#bd3786"
            ],
            [
             0.5555555555555556,
             "#d8576b"
            ],
            [
             0.6666666666666666,
             "#ed7953"
            ],
            [
             0.7777777777777778,
             "#fb9f3a"
            ],
            [
             0.8888888888888888,
             "#fdca26"
            ],
            [
             1,
             "#f0f921"
            ]
           ]
          },
          "colorway": [
           "#636efa",
           "#EF553B",
           "#00cc96",
           "#ab63fa",
           "#FFA15A",
           "#19d3f3",
           "#FF6692",
           "#B6E880",
           "#FF97FF",
           "#FECB52"
          ],
          "font": {
           "color": "#2a3f5f"
          },
          "geo": {
           "bgcolor": "white",
           "lakecolor": "white",
           "landcolor": "#E5ECF6",
           "showlakes": true,
           "showland": true,
           "subunitcolor": "white"
          },
          "hoverlabel": {
           "align": "left"
          },
          "hovermode": "closest",
          "mapbox": {
           "style": "light"
          },
          "paper_bgcolor": "white",
          "plot_bgcolor": "#E5ECF6",
          "polar": {
           "angularaxis": {
            "gridcolor": "white",
            "linecolor": "white",
            "ticks": ""
           },
           "bgcolor": "#E5ECF6",
           "radialaxis": {
            "gridcolor": "white",
            "linecolor": "white",
            "ticks": ""
           }
          },
          "scene": {
           "xaxis": {
            "backgroundcolor": "#E5ECF6",
            "gridcolor": "white",
            "gridwidth": 2,
            "linecolor": "white",
            "showbackground": true,
            "ticks": "",
            "zerolinecolor": "white"
           },
           "yaxis": {
            "backgroundcolor": "#E5ECF6",
            "gridcolor": "white",
            "gridwidth": 2,
            "linecolor": "white",
            "showbackground": true,
            "ticks": "",
            "zerolinecolor": "white"
           },
           "zaxis": {
            "backgroundcolor": "#E5ECF6",
            "gridcolor": "white",
            "gridwidth": 2,
            "linecolor": "white",
            "showbackground": true,
            "ticks": "",
            "zerolinecolor": "white"
           }
          },
          "shapedefaults": {
           "line": {
            "color": "#2a3f5f"
           }
          },
          "ternary": {
           "aaxis": {
            "gridcolor": "white",
            "linecolor": "white",
            "ticks": ""
           },
           "baxis": {
            "gridcolor": "white",
            "linecolor": "white",
            "ticks": ""
           },
           "bgcolor": "#E5ECF6",
           "caxis": {
            "gridcolor": "white",
            "linecolor": "white",
            "ticks": ""
           }
          },
          "title": {
           "x": 0.05
          },
          "xaxis": {
           "automargin": true,
           "gridcolor": "white",
           "linecolor": "white",
           "ticks": "",
           "title": {
            "standoff": 15
           },
           "zerolinecolor": "white",
           "zerolinewidth": 2
          },
          "yaxis": {
           "automargin": true,
           "gridcolor": "white",
           "linecolor": "white",
           "ticks": "",
           "title": {
            "standoff": 15
           },
           "zerolinecolor": "white",
           "zerolinewidth": 2
          }
         }
        },
        "xaxis": {
         "anchor": "y",
         "domain": [
          0,
          0.05846153846153847
         ],
         "tickangle": -90
        },
        "xaxis10": {
         "anchor": "y10",
         "domain": [
          0.7061538461538461,
          0.7646153846153846
         ],
         "matches": "x",
         "tickangle": -90
        },
        "xaxis11": {
         "anchor": "y11",
         "domain": [
          0.7846153846153847,
          0.8430769230769232
         ],
         "matches": "x",
         "tickangle": -90
        },
        "xaxis12": {
         "anchor": "y12",
         "domain": [
          0.8630769230769231,
          0.9215384615384615
         ],
         "matches": "x",
         "tickangle": -90
        },
        "xaxis13": {
         "anchor": "y13",
         "domain": [
          0.9415384615384615,
          1
         ],
         "matches": "x",
         "tickangle": -90
        },
        "xaxis2": {
         "anchor": "y2",
         "domain": [
          0.07846153846153847,
          0.13692307692307693
         ],
         "matches": "x",
         "tickangle": -90
        },
        "xaxis3": {
         "anchor": "y3",
         "domain": [
          0.15692307692307694,
          0.2153846153846154
         ],
         "matches": "x",
         "tickangle": -90
        },
        "xaxis4": {
         "anchor": "y4",
         "domain": [
          0.23538461538461541,
          0.29384615384615387
         ],
         "matches": "x",
         "tickangle": -90
        },
        "xaxis5": {
         "anchor": "y5",
         "domain": [
          0.3138461538461539,
          0.37230769230769234
         ],
         "matches": "x",
         "tickangle": -90
        },
        "xaxis6": {
         "anchor": "y6",
         "domain": [
          0.39230769230769236,
          0.4507692307692308
         ],
         "matches": "x",
         "tickangle": -90
        },
        "xaxis7": {
         "anchor": "y7",
         "domain": [
          0.4707692307692308,
          0.5292307692307693
         ],
         "matches": "x",
         "tickangle": -90
        },
        "xaxis8": {
         "anchor": "y8",
         "domain": [
          0.5492307692307692,
          0.6076923076923076
         ],
         "matches": "x",
         "tickangle": -90
        },
        "xaxis9": {
         "anchor": "y9",
         "domain": [
          0.6276923076923077,
          0.6861538461538461
         ],
         "matches": "x",
         "tickangle": -90
        },
        "yaxis": {
         "anchor": "x",
         "domain": [
          0,
          1
         ],
         "range": [
          0,
          1
         ],
         "tickformat": "%",
         "title": {
          "text": "Participación mensual"
         }
        },
        "yaxis10": {
         "anchor": "x10",
         "domain": [
          0,
          1
         ],
         "matches": "y",
         "range": [
          0,
          1
         ],
         "showticklabels": false,
         "tickformat": "%"
        },
        "yaxis11": {
         "anchor": "x11",
         "domain": [
          0,
          1
         ],
         "matches": "y",
         "range": [
          0,
          1
         ],
         "showticklabels": false,
         "tickformat": "%"
        },
        "yaxis12": {
         "anchor": "x12",
         "domain": [
          0,
          1
         ],
         "matches": "y",
         "range": [
          0,
          1
         ],
         "showticklabels": false,
         "tickformat": "%"
        },
        "yaxis13": {
         "anchor": "x13",
         "domain": [
          0,
          1
         ],
         "matches": "y",
         "range": [
          0,
          1
         ],
         "showticklabels": false,
         "tickformat": "%"
        },
        "yaxis2": {
         "anchor": "x2",
         "domain": [
          0,
          1
         ],
         "matches": "y",
         "range": [
          0,
          1
         ],
         "showticklabels": false,
         "tickformat": "%"
        },
        "yaxis3": {
         "anchor": "x3",
         "domain": [
          0,
          1
         ],
         "matches": "y",
         "range": [
          0,
          1
         ],
         "showticklabels": false,
         "tickformat": "%"
        },
        "yaxis4": {
         "anchor": "x4",
         "domain": [
          0,
          1
         ],
         "matches": "y",
         "range": [
          0,
          1
         ],
         "showticklabels": false,
         "tickformat": "%"
        },
        "yaxis5": {
         "anchor": "x5",
         "domain": [
          0,
          1
         ],
         "matches": "y",
         "range": [
          0,
          1
         ],
         "showticklabels": false,
         "tickformat": "%"
        },
        "yaxis6": {
         "anchor": "x6",
         "domain": [
          0,
          1
         ],
         "matches": "y",
         "range": [
          0,
          1
         ],
         "showticklabels": false,
         "tickformat": "%"
        },
        "yaxis7": {
         "anchor": "x7",
         "domain": [
          0,
          1
         ],
         "matches": "y",
         "range": [
          0,
          1
         ],
         "showticklabels": false,
         "tickformat": "%"
        },
        "yaxis8": {
         "anchor": "x8",
         "domain": [
          0,
          1
         ],
         "matches": "y",
         "range": [
          0,
          1
         ],
         "showticklabels": false,
         "tickformat": "%"
        },
        "yaxis9": {
         "anchor": "x9",
         "domain": [
          0,
          1
         ],
         "matches": "y",
         "range": [
          0,
          1
         ],
         "showticklabels": false,
         "tickformat": "%"
        }
       }
      },
      "text/html": [
       "<div>\n",
       "        \n",
       "        \n",
       "            <div id=\"2120a0de-d4d9-4c4f-9e88-348e68b76494\" class=\"plotly-graph-div\" style=\"height:525px; width:100%;\"></div>\n",
       "            <script type=\"text/javascript\">\n",
       "                require([\"plotly\"], function(Plotly) {\n",
       "                    window.PLOTLYENV=window.PLOTLYENV || {};\n",
       "                    \n",
       "                if (document.getElementById(\"2120a0de-d4d9-4c4f-9e88-348e68b76494\")) {\n",
       "                    Plotly.newPlot(\n",
       "                        '2120a0de-d4d9-4c4f-9e88-348e68b76494',\n",
       "                        [{\"alignmentgroup\": \"True\", \"hovertemplate\": \"consulta=Porcentaje de afiliados con consultas \\u00fanicas<br>variable=2019-01-01<br>tipo=%{x}<br>Participaci\\u00f3n mensual=%{y}<extra></extra>\", \"legendgroup\": \"Porcentaje de afiliados con consultas \\u00fanicas\", \"marker\": {\"color\": \"#45b6fe\"}, \"name\": \"Porcentaje de afiliados con consultas \\u00fanicas\", \"offsetgroup\": \"Porcentaje de afiliados con consultas \\u00fanicas\", \"orientation\": \"v\", \"showlegend\": true, \"textposition\": \"auto\", \"type\": \"bar\", \"x\": [\"especialidad\", \"prestador\"], \"xaxis\": \"x\", \"y\": [0.74, 0.88], \"yaxis\": \"y\"}, {\"alignmentgroup\": \"True\", \"hovertemplate\": \"consulta=Porcentaje de afiliados con consultas \\u00fanicas<br>variable=2019-02-01<br>tipo=%{x}<br>Participaci\\u00f3n mensual=%{y}<extra></extra>\", \"legendgroup\": \"Porcentaje de afiliados con consultas \\u00fanicas\", \"marker\": {\"color\": \"#45b6fe\"}, \"name\": \"Porcentaje de afiliados con consultas \\u00fanicas\", \"offsetgroup\": \"Porcentaje de afiliados con consultas \\u00fanicas\", \"orientation\": \"v\", \"showlegend\": false, \"textposition\": \"auto\", \"type\": \"bar\", \"x\": [\"especialidad\", \"prestador\"], \"xaxis\": \"x2\", \"y\": [0.89, 0.88], \"yaxis\": \"y2\"}, {\"alignmentgroup\": \"True\", \"hovertemplate\": \"consulta=Porcentaje de afiliados con consultas \\u00fanicas<br>variable=2019-03-01<br>tipo=%{x}<br>Participaci\\u00f3n mensual=%{y}<extra></extra>\", \"legendgroup\": \"Porcentaje de afiliados con consultas \\u00fanicas\", \"marker\": {\"color\": \"#45b6fe\"}, \"name\": \"Porcentaje de afiliados con consultas \\u00fanicas\", \"offsetgroup\": \"Porcentaje de afiliados con consultas \\u00fanicas\", \"orientation\": \"v\", \"showlegend\": false, \"textposition\": \"auto\", \"type\": \"bar\", \"x\": [\"especialidad\", \"prestador\"], \"xaxis\": \"x3\", \"y\": [0.0, 0.0], \"yaxis\": \"y3\"}, {\"alignmentgroup\": \"True\", \"hovertemplate\": \"consulta=Porcentaje de afiliados con consultas \\u00fanicas<br>variable=2019-04-01<br>tipo=%{x}<br>Participaci\\u00f3n mensual=%{y}<extra></extra>\", \"legendgroup\": \"Porcentaje de afiliados con consultas \\u00fanicas\", \"marker\": {\"color\": \"#45b6fe\"}, \"name\": \"Porcentaje de afiliados con consultas \\u00fanicas\", \"offsetgroup\": \"Porcentaje de afiliados con consultas \\u00fanicas\", \"orientation\": \"v\", \"showlegend\": false, \"textposition\": \"auto\", \"type\": \"bar\", \"x\": [\"especialidad\", \"prestador\"], \"xaxis\": \"x4\", \"y\": [0.0, 0.0], \"yaxis\": \"y4\"}, {\"alignmentgroup\": \"True\", \"hovertemplate\": \"consulta=Porcentaje de afiliados con consultas \\u00fanicas<br>variable=2019-05-01<br>tipo=%{x}<br>Participaci\\u00f3n mensual=%{y}<extra></extra>\", \"legendgroup\": \"Porcentaje de afiliados con consultas \\u00fanicas\", \"marker\": {\"color\": \"#45b6fe\"}, \"name\": \"Porcentaje de afiliados con consultas \\u00fanicas\", \"offsetgroup\": \"Porcentaje de afiliados con consultas \\u00fanicas\", \"orientation\": \"v\", \"showlegend\": false, \"textposition\": \"auto\", \"type\": \"bar\", \"x\": [\"especialidad\", \"prestador\"], \"xaxis\": \"x5\", \"y\": [0.75, 0.6], \"yaxis\": \"y5\"}, {\"alignmentgroup\": \"True\", \"hovertemplate\": \"consulta=Porcentaje de afiliados con consultas \\u00fanicas<br>variable=2019-06-01<br>tipo=%{x}<br>Participaci\\u00f3n mensual=%{y}<extra></extra>\", \"legendgroup\": \"Porcentaje de afiliados con consultas \\u00fanicas\", \"marker\": {\"color\": \"#45b6fe\"}, \"name\": \"Porcentaje de afiliados con consultas \\u00fanicas\", \"offsetgroup\": \"Porcentaje de afiliados con consultas \\u00fanicas\", \"orientation\": \"v\", \"showlegend\": false, \"textposition\": \"auto\", \"type\": \"bar\", \"x\": [\"especialidad\", \"prestador\"], \"xaxis\": \"x6\", \"y\": [0.0, 0.0], \"yaxis\": \"y6\"}, {\"alignmentgroup\": \"True\", \"hovertemplate\": \"consulta=Porcentaje de afiliados con consultas \\u00fanicas<br>variable=2019-07-01<br>tipo=%{x}<br>Participaci\\u00f3n mensual=%{y}<extra></extra>\", \"legendgroup\": \"Porcentaje de afiliados con consultas \\u00fanicas\", \"marker\": {\"color\": \"#45b6fe\"}, \"name\": \"Porcentaje de afiliados con consultas \\u00fanicas\", \"offsetgroup\": \"Porcentaje de afiliados con consultas \\u00fanicas\", \"orientation\": \"v\", \"showlegend\": false, \"textposition\": \"auto\", \"type\": \"bar\", \"x\": [\"especialidad\", \"prestador\"], \"xaxis\": \"x7\", \"y\": [0.77, 0.88], \"yaxis\": \"y7\"}, {\"alignmentgroup\": \"True\", \"hovertemplate\": \"consulta=Porcentaje de afiliados con consultas \\u00fanicas<br>variable=2019-08-01<br>tipo=%{x}<br>Participaci\\u00f3n mensual=%{y}<extra></extra>\", \"legendgroup\": \"Porcentaje de afiliados con consultas \\u00fanicas\", \"marker\": {\"color\": \"#45b6fe\"}, \"name\": \"Porcentaje de afiliados con consultas \\u00fanicas\", \"offsetgroup\": \"Porcentaje de afiliados con consultas \\u00fanicas\", \"orientation\": \"v\", \"showlegend\": false, \"textposition\": \"auto\", \"type\": \"bar\", \"x\": [\"especialidad\", \"prestador\"], \"xaxis\": \"x8\", \"y\": [0.75, 0.8], \"yaxis\": \"y8\"}, {\"alignmentgroup\": \"True\", \"hovertemplate\": \"consulta=Porcentaje de afiliados con consultas \\u00fanicas<br>variable=2019-09-01<br>tipo=%{x}<br>Participaci\\u00f3n mensual=%{y}<extra></extra>\", \"legendgroup\": \"Porcentaje de afiliados con consultas \\u00fanicas\", \"marker\": {\"color\": \"#45b6fe\"}, \"name\": \"Porcentaje de afiliados con consultas \\u00fanicas\", \"offsetgroup\": \"Porcentaje de afiliados con consultas \\u00fanicas\", \"orientation\": \"v\", \"showlegend\": false, \"textposition\": \"auto\", \"type\": \"bar\", \"x\": [\"especialidad\", \"prestador\"], \"xaxis\": \"x9\", \"y\": [0.73, 0.78], \"yaxis\": \"y9\"}, {\"alignmentgroup\": \"True\", \"hovertemplate\": \"consulta=Porcentaje de afiliados con consultas \\u00fanicas<br>variable=2019-10-01<br>tipo=%{x}<br>Participaci\\u00f3n mensual=%{y}<extra></extra>\", \"legendgroup\": \"Porcentaje de afiliados con consultas \\u00fanicas\", \"marker\": {\"color\": \"#45b6fe\"}, \"name\": \"Porcentaje de afiliados con consultas \\u00fanicas\", \"offsetgroup\": \"Porcentaje de afiliados con consultas \\u00fanicas\", \"orientation\": \"v\", \"showlegend\": false, \"textposition\": \"auto\", \"type\": \"bar\", \"x\": [\"especialidad\", \"prestador\"], \"xaxis\": \"x10\", \"y\": [0.74, 0.82], \"yaxis\": \"y10\"}, {\"alignmentgroup\": \"True\", \"hovertemplate\": \"consulta=Porcentaje de afiliados con consultas \\u00fanicas<br>variable=2019-11-01<br>tipo=%{x}<br>Participaci\\u00f3n mensual=%{y}<extra></extra>\", \"legendgroup\": \"Porcentaje de afiliados con consultas \\u00fanicas\", \"marker\": {\"color\": \"#45b6fe\"}, \"name\": \"Porcentaje de afiliados con consultas \\u00fanicas\", \"offsetgroup\": \"Porcentaje de afiliados con consultas \\u00fanicas\", \"orientation\": \"v\", \"showlegend\": false, \"textposition\": \"auto\", \"type\": \"bar\", \"x\": [\"especialidad\", \"prestador\"], \"xaxis\": \"x11\", \"y\": [0.0, 0.0], \"yaxis\": \"y11\"}, {\"alignmentgroup\": \"True\", \"hovertemplate\": \"consulta=Porcentaje de afiliados con consultas \\u00fanicas<br>variable=2019-12-01<br>tipo=%{x}<br>Participaci\\u00f3n mensual=%{y}<extra></extra>\", \"legendgroup\": \"Porcentaje de afiliados con consultas \\u00fanicas\", \"marker\": {\"color\": \"#45b6fe\"}, \"name\": \"Porcentaje de afiliados con consultas \\u00fanicas\", \"offsetgroup\": \"Porcentaje de afiliados con consultas \\u00fanicas\", \"orientation\": \"v\", \"showlegend\": false, \"textposition\": \"auto\", \"type\": \"bar\", \"x\": [\"especialidad\", \"prestador\"], \"xaxis\": \"x12\", \"y\": [0.0, 0.0], \"yaxis\": \"y12\"}, {\"alignmentgroup\": \"True\", \"hovertemplate\": \"consulta=Porcentaje de afiliados con consultas \\u00fanicas<br>variable=2020-01-01<br>tipo=%{x}<br>Participaci\\u00f3n mensual=%{y}<extra></extra>\", \"legendgroup\": \"Porcentaje de afiliados con consultas \\u00fanicas\", \"marker\": {\"color\": \"#45b6fe\"}, \"name\": \"Porcentaje de afiliados con consultas \\u00fanicas\", \"offsetgroup\": \"Porcentaje de afiliados con consultas \\u00fanicas\", \"orientation\": \"v\", \"showlegend\": false, \"textposition\": \"auto\", \"type\": \"bar\", \"x\": [\"especialidad\", \"prestador\"], \"xaxis\": \"x13\", \"y\": [0.78, 0.74], \"yaxis\": \"y13\"}, {\"alignmentgroup\": \"True\", \"hovertemplate\": \"consulta=Porcentaje de afiliados con 2 consultas<br>variable=2019-01-01<br>tipo=%{x}<br>Participaci\\u00f3n mensual=%{y}<extra></extra>\", \"legendgroup\": \"Porcentaje de afiliados con 2 consultas\", \"marker\": {\"color\": \"#3792cb\"}, \"name\": \"Porcentaje de afiliados con 2 consultas\", \"offsetgroup\": \"Porcentaje de afiliados con 2 consultas\", \"orientation\": \"v\", \"showlegend\": true, \"textposition\": \"auto\", \"type\": \"bar\", \"x\": [\"especialidad\", \"prestador\"], \"xaxis\": \"x\", \"y\": [0.18, 0.12], \"yaxis\": \"y\"}, {\"alignmentgroup\": \"True\", \"hovertemplate\": \"consulta=Porcentaje de afiliados con 2 consultas<br>variable=2019-02-01<br>tipo=%{x}<br>Participaci\\u00f3n mensual=%{y}<extra></extra>\", \"legendgroup\": \"Porcentaje de afiliados con 2 consultas\", \"marker\": {\"color\": \"#3792cb\"}, \"name\": \"Porcentaje de afiliados con 2 consultas\", \"offsetgroup\": \"Porcentaje de afiliados con 2 consultas\", \"orientation\": \"v\", \"showlegend\": false, \"textposition\": \"auto\", \"type\": \"bar\", \"x\": [\"especialidad\", \"prestador\"], \"xaxis\": \"x2\", \"y\": [0.11, 0.12], \"yaxis\": \"y2\"}, {\"alignmentgroup\": \"True\", \"hovertemplate\": \"consulta=Porcentaje de afiliados con 2 consultas<br>variable=2019-03-01<br>tipo=%{x}<br>Participaci\\u00f3n mensual=%{y}<extra></extra>\", \"legendgroup\": \"Porcentaje de afiliados con 2 consultas\", \"marker\": {\"color\": \"#3792cb\"}, \"name\": \"Porcentaje de afiliados con 2 consultas\", \"offsetgroup\": \"Porcentaje de afiliados con 2 consultas\", \"orientation\": \"v\", \"showlegend\": false, \"textposition\": \"auto\", \"type\": \"bar\", \"x\": [\"especialidad\", \"prestador\"], \"xaxis\": \"x3\", \"y\": [0.0, 0.0], \"yaxis\": \"y3\"}, {\"alignmentgroup\": \"True\", \"hovertemplate\": \"consulta=Porcentaje de afiliados con 2 consultas<br>variable=2019-04-01<br>tipo=%{x}<br>Participaci\\u00f3n mensual=%{y}<extra></extra>\", \"legendgroup\": \"Porcentaje de afiliados con 2 consultas\", \"marker\": {\"color\": \"#3792cb\"}, \"name\": \"Porcentaje de afiliados con 2 consultas\", \"offsetgroup\": \"Porcentaje de afiliados con 2 consultas\", \"orientation\": \"v\", \"showlegend\": false, \"textposition\": \"auto\", \"type\": \"bar\", \"x\": [\"especialidad\", \"prestador\"], \"xaxis\": \"x4\", \"y\": [0.0, 0.0], \"yaxis\": \"y4\"}, {\"alignmentgroup\": \"True\", \"hovertemplate\": \"consulta=Porcentaje de afiliados con 2 consultas<br>variable=2019-05-01<br>tipo=%{x}<br>Participaci\\u00f3n mensual=%{y}<extra></extra>\", \"legendgroup\": \"Porcentaje de afiliados con 2 consultas\", \"marker\": {\"color\": \"#3792cb\"}, \"name\": \"Porcentaje de afiliados con 2 consultas\", \"offsetgroup\": \"Porcentaje de afiliados con 2 consultas\", \"orientation\": \"v\", \"showlegend\": false, \"textposition\": \"auto\", \"type\": \"bar\", \"x\": [\"especialidad\", \"prestador\"], \"xaxis\": \"x5\", \"y\": [0.21, 0.33], \"yaxis\": \"y5\"}, {\"alignmentgroup\": \"True\", \"hovertemplate\": \"consulta=Porcentaje de afiliados con 2 consultas<br>variable=2019-06-01<br>tipo=%{x}<br>Participaci\\u00f3n mensual=%{y}<extra></extra>\", \"legendgroup\": \"Porcentaje de afiliados con 2 consultas\", \"marker\": {\"color\": \"#3792cb\"}, \"name\": \"Porcentaje de afiliados con 2 consultas\", \"offsetgroup\": \"Porcentaje de afiliados con 2 consultas\", \"orientation\": \"v\", \"showlegend\": false, \"textposition\": \"auto\", \"type\": \"bar\", \"x\": [\"especialidad\", \"prestador\"], \"xaxis\": \"x6\", \"y\": [0.0, 0.0], \"yaxis\": \"y6\"}, {\"alignmentgroup\": \"True\", \"hovertemplate\": \"consulta=Porcentaje de afiliados con 2 consultas<br>variable=2019-07-01<br>tipo=%{x}<br>Participaci\\u00f3n mensual=%{y}<extra></extra>\", \"legendgroup\": \"Porcentaje de afiliados con 2 consultas\", \"marker\": {\"color\": \"#3792cb\"}, \"name\": \"Porcentaje de afiliados con 2 consultas\", \"offsetgroup\": \"Porcentaje de afiliados con 2 consultas\", \"orientation\": \"v\", \"showlegend\": false, \"textposition\": \"auto\", \"type\": \"bar\", \"x\": [\"especialidad\", \"prestador\"], \"xaxis\": \"x7\", \"y\": [0.16, 0.05], \"yaxis\": \"y7\"}, {\"alignmentgroup\": \"True\", \"hovertemplate\": \"consulta=Porcentaje de afiliados con 2 consultas<br>variable=2019-08-01<br>tipo=%{x}<br>Participaci\\u00f3n mensual=%{y}<extra></extra>\", \"legendgroup\": \"Porcentaje de afiliados con 2 consultas\", \"marker\": {\"color\": \"#3792cb\"}, \"name\": \"Porcentaje de afiliados con 2 consultas\", \"offsetgroup\": \"Porcentaje de afiliados con 2 consultas\", \"orientation\": \"v\", \"showlegend\": false, \"textposition\": \"auto\", \"type\": \"bar\", \"x\": [\"especialidad\", \"prestador\"], \"xaxis\": \"x8\", \"y\": [0.17, 0.11], \"yaxis\": \"y8\"}, {\"alignmentgroup\": \"True\", \"hovertemplate\": \"consulta=Porcentaje de afiliados con 2 consultas<br>variable=2019-09-01<br>tipo=%{x}<br>Participaci\\u00f3n mensual=%{y}<extra></extra>\", \"legendgroup\": \"Porcentaje de afiliados con 2 consultas\", \"marker\": {\"color\": \"#3792cb\"}, \"name\": \"Porcentaje de afiliados con 2 consultas\", \"offsetgroup\": \"Porcentaje de afiliados con 2 consultas\", \"orientation\": \"v\", \"showlegend\": false, \"textposition\": \"auto\", \"type\": \"bar\", \"x\": [\"especialidad\", \"prestador\"], \"xaxis\": \"x9\", \"y\": [0.23, 0.22], \"yaxis\": \"y9\"}, {\"alignmentgroup\": \"True\", \"hovertemplate\": \"consulta=Porcentaje de afiliados con 2 consultas<br>variable=2019-10-01<br>tipo=%{x}<br>Participaci\\u00f3n mensual=%{y}<extra></extra>\", \"legendgroup\": \"Porcentaje de afiliados con 2 consultas\", \"marker\": {\"color\": \"#3792cb\"}, \"name\": \"Porcentaje de afiliados con 2 consultas\", \"offsetgroup\": \"Porcentaje de afiliados con 2 consultas\", \"orientation\": \"v\", \"showlegend\": false, \"textposition\": \"auto\", \"type\": \"bar\", \"x\": [\"especialidad\", \"prestador\"], \"xaxis\": \"x10\", \"y\": [0.17, 0.13], \"yaxis\": \"y10\"}, {\"alignmentgroup\": \"True\", \"hovertemplate\": \"consulta=Porcentaje de afiliados con 2 consultas<br>variable=2019-11-01<br>tipo=%{x}<br>Participaci\\u00f3n mensual=%{y}<extra></extra>\", \"legendgroup\": \"Porcentaje de afiliados con 2 consultas\", \"marker\": {\"color\": \"#3792cb\"}, \"name\": \"Porcentaje de afiliados con 2 consultas\", \"offsetgroup\": \"Porcentaje de afiliados con 2 consultas\", \"orientation\": \"v\", \"showlegend\": false, \"textposition\": \"auto\", \"type\": \"bar\", \"x\": [\"especialidad\", \"prestador\"], \"xaxis\": \"x11\", \"y\": [0.0, 0.0], \"yaxis\": \"y11\"}, {\"alignmentgroup\": \"True\", \"hovertemplate\": \"consulta=Porcentaje de afiliados con 2 consultas<br>variable=2019-12-01<br>tipo=%{x}<br>Participaci\\u00f3n mensual=%{y}<extra></extra>\", \"legendgroup\": \"Porcentaje de afiliados con 2 consultas\", \"marker\": {\"color\": \"#3792cb\"}, \"name\": \"Porcentaje de afiliados con 2 consultas\", \"offsetgroup\": \"Porcentaje de afiliados con 2 consultas\", \"orientation\": \"v\", \"showlegend\": false, \"textposition\": \"auto\", \"type\": \"bar\", \"x\": [\"especialidad\", \"prestador\"], \"xaxis\": \"x12\", \"y\": [0.0, 0.0], \"yaxis\": \"y12\"}, {\"alignmentgroup\": \"True\", \"hovertemplate\": \"consulta=Porcentaje de afiliados con 2 consultas<br>variable=2020-01-01<br>tipo=%{x}<br>Participaci\\u00f3n mensual=%{y}<extra></extra>\", \"legendgroup\": \"Porcentaje de afiliados con 2 consultas\", \"marker\": {\"color\": \"#3792cb\"}, \"name\": \"Porcentaje de afiliados con 2 consultas\", \"offsetgroup\": \"Porcentaje de afiliados con 2 consultas\", \"orientation\": \"v\", \"showlegend\": false, \"textposition\": \"auto\", \"type\": \"bar\", \"x\": [\"especialidad\", \"prestador\"], \"xaxis\": \"x13\", \"y\": [0.19, 0.12], \"yaxis\": \"y13\"}, {\"alignmentgroup\": \"True\", \"hovertemplate\": \"consulta=Porcentaje de afiliados con 3 consultas<br>variable=2019-01-01<br>tipo=%{x}<br>Participaci\\u00f3n mensual=%{y}<extra></extra>\", \"legendgroup\": \"Porcentaje de afiliados con 3 consultas\", \"marker\": {\"color\": \"#296d98\"}, \"name\": \"Porcentaje de afiliados con 3 consultas\", \"offsetgroup\": \"Porcentaje de afiliados con 3 consultas\", \"orientation\": \"v\", \"showlegend\": true, \"textposition\": \"auto\", \"type\": \"bar\", \"x\": [\"especialidad\", \"prestador\"], \"xaxis\": \"x\", \"y\": [0.06, 0.0], \"yaxis\": \"y\"}, {\"alignmentgroup\": \"True\", \"hovertemplate\": \"consulta=Porcentaje de afiliados con 3 consultas<br>variable=2019-02-01<br>tipo=%{x}<br>Participaci\\u00f3n mensual=%{y}<extra></extra>\", \"legendgroup\": \"Porcentaje de afiliados con 3 consultas\", \"marker\": {\"color\": \"#296d98\"}, \"name\": \"Porcentaje de afiliados con 3 consultas\", \"offsetgroup\": \"Porcentaje de afiliados con 3 consultas\", \"orientation\": \"v\", \"showlegend\": false, \"textposition\": \"auto\", \"type\": \"bar\", \"x\": [\"especialidad\", \"prestador\"], \"xaxis\": \"x2\", \"y\": [0.01, 0.0], \"yaxis\": \"y2\"}, {\"alignmentgroup\": \"True\", \"hovertemplate\": \"consulta=Porcentaje de afiliados con 3 consultas<br>variable=2019-03-01<br>tipo=%{x}<br>Participaci\\u00f3n mensual=%{y}<extra></extra>\", \"legendgroup\": \"Porcentaje de afiliados con 3 consultas\", \"marker\": {\"color\": \"#296d98\"}, \"name\": \"Porcentaje de afiliados con 3 consultas\", \"offsetgroup\": \"Porcentaje de afiliados con 3 consultas\", \"orientation\": \"v\", \"showlegend\": false, \"textposition\": \"auto\", \"type\": \"bar\", \"x\": [\"especialidad\", \"prestador\"], \"xaxis\": \"x3\", \"y\": [0.0, 0.0], \"yaxis\": \"y3\"}, {\"alignmentgroup\": \"True\", \"hovertemplate\": \"consulta=Porcentaje de afiliados con 3 consultas<br>variable=2019-04-01<br>tipo=%{x}<br>Participaci\\u00f3n mensual=%{y}<extra></extra>\", \"legendgroup\": \"Porcentaje de afiliados con 3 consultas\", \"marker\": {\"color\": \"#296d98\"}, \"name\": \"Porcentaje de afiliados con 3 consultas\", \"offsetgroup\": \"Porcentaje de afiliados con 3 consultas\", \"orientation\": \"v\", \"showlegend\": false, \"textposition\": \"auto\", \"type\": \"bar\", \"x\": [\"especialidad\", \"prestador\"], \"xaxis\": \"x4\", \"y\": [0.0, 0.0], \"yaxis\": \"y4\"}, {\"alignmentgroup\": \"True\", \"hovertemplate\": \"consulta=Porcentaje de afiliados con 3 consultas<br>variable=2019-05-01<br>tipo=%{x}<br>Participaci\\u00f3n mensual=%{y}<extra></extra>\", \"legendgroup\": \"Porcentaje de afiliados con 3 consultas\", \"marker\": {\"color\": \"#296d98\"}, \"name\": \"Porcentaje de afiliados con 3 consultas\", \"offsetgroup\": \"Porcentaje de afiliados con 3 consultas\", \"orientation\": \"v\", \"showlegend\": false, \"textposition\": \"auto\", \"type\": \"bar\", \"x\": [\"especialidad\", \"prestador\"], \"xaxis\": \"x5\", \"y\": [0.04, 0.07], \"yaxis\": \"y5\"}, {\"alignmentgroup\": \"True\", \"hovertemplate\": \"consulta=Porcentaje de afiliados con 3 consultas<br>variable=2019-06-01<br>tipo=%{x}<br>Participaci\\u00f3n mensual=%{y}<extra></extra>\", \"legendgroup\": \"Porcentaje de afiliados con 3 consultas\", \"marker\": {\"color\": \"#296d98\"}, \"name\": \"Porcentaje de afiliados con 3 consultas\", \"offsetgroup\": \"Porcentaje de afiliados con 3 consultas\", \"orientation\": \"v\", \"showlegend\": false, \"textposition\": \"auto\", \"type\": \"bar\", \"x\": [\"especialidad\", \"prestador\"], \"xaxis\": \"x6\", \"y\": [0.0, 0.0], \"yaxis\": \"y6\"}, {\"alignmentgroup\": \"True\", \"hovertemplate\": \"consulta=Porcentaje de afiliados con 3 consultas<br>variable=2019-07-01<br>tipo=%{x}<br>Participaci\\u00f3n mensual=%{y}<extra></extra>\", \"legendgroup\": \"Porcentaje de afiliados con 3 consultas\", \"marker\": {\"color\": \"#296d98\"}, \"name\": \"Porcentaje de afiliados con 3 consultas\", \"offsetgroup\": \"Porcentaje de afiliados con 3 consultas\", \"orientation\": \"v\", \"showlegend\": false, \"textposition\": \"auto\", \"type\": \"bar\", \"x\": [\"especialidad\", \"prestador\"], \"xaxis\": \"x7\", \"y\": [0.06, 0.07], \"yaxis\": \"y7\"}, {\"alignmentgroup\": \"True\", \"hovertemplate\": \"consulta=Porcentaje de afiliados con 3 consultas<br>variable=2019-08-01<br>tipo=%{x}<br>Participaci\\u00f3n mensual=%{y}<extra></extra>\", \"legendgroup\": \"Porcentaje de afiliados con 3 consultas\", \"marker\": {\"color\": \"#296d98\"}, \"name\": \"Porcentaje de afiliados con 3 consultas\", \"offsetgroup\": \"Porcentaje de afiliados con 3 consultas\", \"orientation\": \"v\", \"showlegend\": false, \"textposition\": \"auto\", \"type\": \"bar\", \"x\": [\"especialidad\", \"prestador\"], \"xaxis\": \"x8\", \"y\": [0.08, 0.09], \"yaxis\": \"y8\"}, {\"alignmentgroup\": \"True\", \"hovertemplate\": \"consulta=Porcentaje de afiliados con 3 consultas<br>variable=2019-09-01<br>tipo=%{x}<br>Participaci\\u00f3n mensual=%{y}<extra></extra>\", \"legendgroup\": \"Porcentaje de afiliados con 3 consultas\", \"marker\": {\"color\": \"#296d98\"}, \"name\": \"Porcentaje de afiliados con 3 consultas\", \"offsetgroup\": \"Porcentaje de afiliados con 3 consultas\", \"orientation\": \"v\", \"showlegend\": false, \"textposition\": \"auto\", \"type\": \"bar\", \"x\": [\"especialidad\", \"prestador\"], \"xaxis\": \"x9\", \"y\": [0.03, 0.0], \"yaxis\": \"y9\"}, {\"alignmentgroup\": \"True\", \"hovertemplate\": \"consulta=Porcentaje de afiliados con 3 consultas<br>variable=2019-10-01<br>tipo=%{x}<br>Participaci\\u00f3n mensual=%{y}<extra></extra>\", \"legendgroup\": \"Porcentaje de afiliados con 3 consultas\", \"marker\": {\"color\": \"#296d98\"}, \"name\": \"Porcentaje de afiliados con 3 consultas\", \"offsetgroup\": \"Porcentaje de afiliados con 3 consultas\", \"orientation\": \"v\", \"showlegend\": false, \"textposition\": \"auto\", \"type\": \"bar\", \"x\": [\"especialidad\", \"prestador\"], \"xaxis\": \"x10\", \"y\": [0.06, 0.05], \"yaxis\": \"y10\"}, {\"alignmentgroup\": \"True\", \"hovertemplate\": \"consulta=Porcentaje de afiliados con 3 consultas<br>variable=2019-11-01<br>tipo=%{x}<br>Participaci\\u00f3n mensual=%{y}<extra></extra>\", \"legendgroup\": \"Porcentaje de afiliados con 3 consultas\", \"marker\": {\"color\": \"#296d98\"}, \"name\": \"Porcentaje de afiliados con 3 consultas\", \"offsetgroup\": \"Porcentaje de afiliados con 3 consultas\", \"orientation\": \"v\", \"showlegend\": false, \"textposition\": \"auto\", \"type\": \"bar\", \"x\": [\"especialidad\", \"prestador\"], \"xaxis\": \"x11\", \"y\": [0.0, 0.0], \"yaxis\": \"y11\"}, {\"alignmentgroup\": \"True\", \"hovertemplate\": \"consulta=Porcentaje de afiliados con 3 consultas<br>variable=2019-12-01<br>tipo=%{x}<br>Participaci\\u00f3n mensual=%{y}<extra></extra>\", \"legendgroup\": \"Porcentaje de afiliados con 3 consultas\", \"marker\": {\"color\": \"#296d98\"}, \"name\": \"Porcentaje de afiliados con 3 consultas\", \"offsetgroup\": \"Porcentaje de afiliados con 3 consultas\", \"orientation\": \"v\", \"showlegend\": false, \"textposition\": \"auto\", \"type\": \"bar\", \"x\": [\"especialidad\", \"prestador\"], \"xaxis\": \"x12\", \"y\": [0.0, 0.0], \"yaxis\": \"y12\"}, {\"alignmentgroup\": \"True\", \"hovertemplate\": \"consulta=Porcentaje de afiliados con 3 consultas<br>variable=2020-01-01<br>tipo=%{x}<br>Participaci\\u00f3n mensual=%{y}<extra></extra>\", \"legendgroup\": \"Porcentaje de afiliados con 3 consultas\", \"marker\": {\"color\": \"#296d98\"}, \"name\": \"Porcentaje de afiliados con 3 consultas\", \"offsetgroup\": \"Porcentaje de afiliados con 3 consultas\", \"orientation\": \"v\", \"showlegend\": false, \"textposition\": \"auto\", \"type\": \"bar\", \"x\": [\"especialidad\", \"prestador\"], \"xaxis\": \"x13\", \"y\": [0.02, 0.06], \"yaxis\": \"y13\"}, {\"alignmentgroup\": \"True\", \"hovertemplate\": \"consulta=Porcentaje de afiliados con 4 consultas<br>variable=2019-01-01<br>tipo=%{x}<br>Participaci\\u00f3n mensual=%{y}<extra></extra>\", \"legendgroup\": \"Porcentaje de afiliados con 4 consultas\", \"marker\": {\"color\": \"#1c4966\"}, \"name\": \"Porcentaje de afiliados con 4 consultas\", \"offsetgroup\": \"Porcentaje de afiliados con 4 consultas\", \"orientation\": \"v\", \"showlegend\": true, \"textposition\": \"auto\", \"type\": \"bar\", \"x\": [\"especialidad\", \"prestador\"], \"xaxis\": \"x\", \"y\": [0.02, 0.0], \"yaxis\": \"y\"}, {\"alignmentgroup\": \"True\", \"hovertemplate\": \"consulta=Porcentaje de afiliados con 4 consultas<br>variable=2019-02-01<br>tipo=%{x}<br>Participaci\\u00f3n mensual=%{y}<extra></extra>\", \"legendgroup\": \"Porcentaje de afiliados con 4 consultas\", \"marker\": {\"color\": \"#1c4966\"}, \"name\": \"Porcentaje de afiliados con 4 consultas\", \"offsetgroup\": \"Porcentaje de afiliados con 4 consultas\", \"orientation\": \"v\", \"showlegend\": false, \"textposition\": \"auto\", \"type\": \"bar\", \"x\": [\"especialidad\", \"prestador\"], \"xaxis\": \"x2\", \"y\": [0.0, 0.0], \"yaxis\": \"y2\"}, {\"alignmentgroup\": \"True\", \"hovertemplate\": \"consulta=Porcentaje de afiliados con 4 consultas<br>variable=2019-03-01<br>tipo=%{x}<br>Participaci\\u00f3n mensual=%{y}<extra></extra>\", \"legendgroup\": \"Porcentaje de afiliados con 4 consultas\", \"marker\": {\"color\": \"#1c4966\"}, \"name\": \"Porcentaje de afiliados con 4 consultas\", \"offsetgroup\": \"Porcentaje de afiliados con 4 consultas\", \"orientation\": \"v\", \"showlegend\": false, \"textposition\": \"auto\", \"type\": \"bar\", \"x\": [\"especialidad\", \"prestador\"], \"xaxis\": \"x3\", \"y\": [0.0, 0.0], \"yaxis\": \"y3\"}, {\"alignmentgroup\": \"True\", \"hovertemplate\": \"consulta=Porcentaje de afiliados con 4 consultas<br>variable=2019-04-01<br>tipo=%{x}<br>Participaci\\u00f3n mensual=%{y}<extra></extra>\", \"legendgroup\": \"Porcentaje de afiliados con 4 consultas\", \"marker\": {\"color\": \"#1c4966\"}, \"name\": \"Porcentaje de afiliados con 4 consultas\", \"offsetgroup\": \"Porcentaje de afiliados con 4 consultas\", \"orientation\": \"v\", \"showlegend\": false, \"textposition\": \"auto\", \"type\": \"bar\", \"x\": [\"especialidad\", \"prestador\"], \"xaxis\": \"x4\", \"y\": [0.0, 0.0], \"yaxis\": \"y4\"}, {\"alignmentgroup\": \"True\", \"hovertemplate\": \"consulta=Porcentaje de afiliados con 4 consultas<br>variable=2019-05-01<br>tipo=%{x}<br>Participaci\\u00f3n mensual=%{y}<extra></extra>\", \"legendgroup\": \"Porcentaje de afiliados con 4 consultas\", \"marker\": {\"color\": \"#1c4966\"}, \"name\": \"Porcentaje de afiliados con 4 consultas\", \"offsetgroup\": \"Porcentaje de afiliados con 4 consultas\", \"orientation\": \"v\", \"showlegend\": false, \"textposition\": \"auto\", \"type\": \"bar\", \"x\": [\"especialidad\", \"prestador\"], \"xaxis\": \"x5\", \"y\": [0.0, 0.0], \"yaxis\": \"y5\"}, {\"alignmentgroup\": \"True\", \"hovertemplate\": \"consulta=Porcentaje de afiliados con 4 consultas<br>variable=2019-06-01<br>tipo=%{x}<br>Participaci\\u00f3n mensual=%{y}<extra></extra>\", \"legendgroup\": \"Porcentaje de afiliados con 4 consultas\", \"marker\": {\"color\": \"#1c4966\"}, \"name\": \"Porcentaje de afiliados con 4 consultas\", \"offsetgroup\": \"Porcentaje de afiliados con 4 consultas\", \"orientation\": \"v\", \"showlegend\": false, \"textposition\": \"auto\", \"type\": \"bar\", \"x\": [\"especialidad\", \"prestador\"], \"xaxis\": \"x6\", \"y\": [0.0, 0.0], \"yaxis\": \"y6\"}, {\"alignmentgroup\": \"True\", \"hovertemplate\": \"consulta=Porcentaje de afiliados con 4 consultas<br>variable=2019-07-01<br>tipo=%{x}<br>Participaci\\u00f3n mensual=%{y}<extra></extra>\", \"legendgroup\": \"Porcentaje de afiliados con 4 consultas\", \"marker\": {\"color\": \"#1c4966\"}, \"name\": \"Porcentaje de afiliados con 4 consultas\", \"offsetgroup\": \"Porcentaje de afiliados con 4 consultas\", \"orientation\": \"v\", \"showlegend\": false, \"textposition\": \"auto\", \"type\": \"bar\", \"x\": [\"especialidad\", \"prestador\"], \"xaxis\": \"x7\", \"y\": [0.0, 0.0], \"yaxis\": \"y7\"}, {\"alignmentgroup\": \"True\", \"hovertemplate\": \"consulta=Porcentaje de afiliados con 4 consultas<br>variable=2019-08-01<br>tipo=%{x}<br>Participaci\\u00f3n mensual=%{y}<extra></extra>\", \"legendgroup\": \"Porcentaje de afiliados con 4 consultas\", \"marker\": {\"color\": \"#1c4966\"}, \"name\": \"Porcentaje de afiliados con 4 consultas\", \"offsetgroup\": \"Porcentaje de afiliados con 4 consultas\", \"orientation\": \"v\", \"showlegend\": false, \"textposition\": \"auto\", \"type\": \"bar\", \"x\": [\"especialidad\", \"prestador\"], \"xaxis\": \"x8\", \"y\": [0.0, 0.0], \"yaxis\": \"y8\"}, {\"alignmentgroup\": \"True\", \"hovertemplate\": \"consulta=Porcentaje de afiliados con 4 consultas<br>variable=2019-09-01<br>tipo=%{x}<br>Participaci\\u00f3n mensual=%{y}<extra></extra>\", \"legendgroup\": \"Porcentaje de afiliados con 4 consultas\", \"marker\": {\"color\": \"#1c4966\"}, \"name\": \"Porcentaje de afiliados con 4 consultas\", \"offsetgroup\": \"Porcentaje de afiliados con 4 consultas\", \"orientation\": \"v\", \"showlegend\": false, \"textposition\": \"auto\", \"type\": \"bar\", \"x\": [\"especialidad\", \"prestador\"], \"xaxis\": \"x9\", \"y\": [0.01, 0.0], \"yaxis\": \"y9\"}, {\"alignmentgroup\": \"True\", \"hovertemplate\": \"consulta=Porcentaje de afiliados con 4 consultas<br>variable=2019-10-01<br>tipo=%{x}<br>Participaci\\u00f3n mensual=%{y}<extra></extra>\", \"legendgroup\": \"Porcentaje de afiliados con 4 consultas\", \"marker\": {\"color\": \"#1c4966\"}, \"name\": \"Porcentaje de afiliados con 4 consultas\", \"offsetgroup\": \"Porcentaje de afiliados con 4 consultas\", \"orientation\": \"v\", \"showlegend\": false, \"textposition\": \"auto\", \"type\": \"bar\", \"x\": [\"especialidad\", \"prestador\"], \"xaxis\": \"x10\", \"y\": [0.01, 0.0], \"yaxis\": \"y10\"}, {\"alignmentgroup\": \"True\", \"hovertemplate\": \"consulta=Porcentaje de afiliados con 4 consultas<br>variable=2019-11-01<br>tipo=%{x}<br>Participaci\\u00f3n mensual=%{y}<extra></extra>\", \"legendgroup\": \"Porcentaje de afiliados con 4 consultas\", \"marker\": {\"color\": \"#1c4966\"}, \"name\": \"Porcentaje de afiliados con 4 consultas\", \"offsetgroup\": \"Porcentaje de afiliados con 4 consultas\", \"orientation\": \"v\", \"showlegend\": false, \"textposition\": \"auto\", \"type\": \"bar\", \"x\": [\"especialidad\", \"prestador\"], \"xaxis\": \"x11\", \"y\": [0.0, 0.0], \"yaxis\": \"y11\"}, {\"alignmentgroup\": \"True\", \"hovertemplate\": \"consulta=Porcentaje de afiliados con 4 consultas<br>variable=2019-12-01<br>tipo=%{x}<br>Participaci\\u00f3n mensual=%{y}<extra></extra>\", \"legendgroup\": \"Porcentaje de afiliados con 4 consultas\", \"marker\": {\"color\": \"#1c4966\"}, \"name\": \"Porcentaje de afiliados con 4 consultas\", \"offsetgroup\": \"Porcentaje de afiliados con 4 consultas\", \"orientation\": \"v\", \"showlegend\": false, \"textposition\": \"auto\", \"type\": \"bar\", \"x\": [\"especialidad\", \"prestador\"], \"xaxis\": \"x12\", \"y\": [0.0, 0.0], \"yaxis\": \"y12\"}, {\"alignmentgroup\": \"True\", \"hovertemplate\": \"consulta=Porcentaje de afiliados con 4 consultas<br>variable=2020-01-01<br>tipo=%{x}<br>Participaci\\u00f3n mensual=%{y}<extra></extra>\", \"legendgroup\": \"Porcentaje de afiliados con 4 consultas\", \"marker\": {\"color\": \"#1c4966\"}, \"name\": \"Porcentaje de afiliados con 4 consultas\", \"offsetgroup\": \"Porcentaje de afiliados con 4 consultas\", \"orientation\": \"v\", \"showlegend\": false, \"textposition\": \"auto\", \"type\": \"bar\", \"x\": [\"especialidad\", \"prestador\"], \"xaxis\": \"x13\", \"y\": [0.02, 0.08], \"yaxis\": \"y13\"}, {\"alignmentgroup\": \"True\", \"hovertemplate\": \"consulta=Porcentaje de afiliados con m\\u00e1s de 4 consultas<br>variable=2019-01-01<br>tipo=%{x}<br>Participaci\\u00f3n mensual=%{y}<extra></extra>\", \"legendgroup\": \"Porcentaje de afiliados con m\\u00e1s de 4 consultas\", \"marker\": {\"color\": \"black\"}, \"name\": \"Porcentaje de afiliados con m\\u00e1s de 4 consultas\", \"offsetgroup\": \"Porcentaje de afiliados con m\\u00e1s de 4 consultas\", \"orientation\": \"v\", \"showlegend\": true, \"textposition\": \"auto\", \"type\": \"bar\", \"x\": [\"especialidad\", \"prestador\"], \"xaxis\": \"x\", \"y\": [0.0, 0.0], \"yaxis\": \"y\"}, {\"alignmentgroup\": \"True\", \"hovertemplate\": \"consulta=Porcentaje de afiliados con m\\u00e1s de 4 consultas<br>variable=2019-02-01<br>tipo=%{x}<br>Participaci\\u00f3n mensual=%{y}<extra></extra>\", \"legendgroup\": \"Porcentaje de afiliados con m\\u00e1s de 4 consultas\", \"marker\": {\"color\": \"black\"}, \"name\": \"Porcentaje de afiliados con m\\u00e1s de 4 consultas\", \"offsetgroup\": \"Porcentaje de afiliados con m\\u00e1s de 4 consultas\", \"orientation\": \"v\", \"showlegend\": false, \"textposition\": \"auto\", \"type\": \"bar\", \"x\": [\"especialidad\", \"prestador\"], \"xaxis\": \"x2\", \"y\": [0.0, 0.0], \"yaxis\": \"y2\"}, {\"alignmentgroup\": \"True\", \"hovertemplate\": \"consulta=Porcentaje de afiliados con m\\u00e1s de 4 consultas<br>variable=2019-03-01<br>tipo=%{x}<br>Participaci\\u00f3n mensual=%{y}<extra></extra>\", \"legendgroup\": \"Porcentaje de afiliados con m\\u00e1s de 4 consultas\", \"marker\": {\"color\": \"black\"}, \"name\": \"Porcentaje de afiliados con m\\u00e1s de 4 consultas\", \"offsetgroup\": \"Porcentaje de afiliados con m\\u00e1s de 4 consultas\", \"orientation\": \"v\", \"showlegend\": false, \"textposition\": \"auto\", \"type\": \"bar\", \"x\": [\"especialidad\", \"prestador\"], \"xaxis\": \"x3\", \"y\": [0.0, 0.0], \"yaxis\": \"y3\"}, {\"alignmentgroup\": \"True\", \"hovertemplate\": \"consulta=Porcentaje de afiliados con m\\u00e1s de 4 consultas<br>variable=2019-04-01<br>tipo=%{x}<br>Participaci\\u00f3n mensual=%{y}<extra></extra>\", \"legendgroup\": \"Porcentaje de afiliados con m\\u00e1s de 4 consultas\", \"marker\": {\"color\": \"black\"}, \"name\": \"Porcentaje de afiliados con m\\u00e1s de 4 consultas\", \"offsetgroup\": \"Porcentaje de afiliados con m\\u00e1s de 4 consultas\", \"orientation\": \"v\", \"showlegend\": false, \"textposition\": \"auto\", \"type\": \"bar\", \"x\": [\"especialidad\", \"prestador\"], \"xaxis\": \"x4\", \"y\": [0.0, 0.0], \"yaxis\": \"y4\"}, {\"alignmentgroup\": \"True\", \"hovertemplate\": \"consulta=Porcentaje de afiliados con m\\u00e1s de 4 consultas<br>variable=2019-05-01<br>tipo=%{x}<br>Participaci\\u00f3n mensual=%{y}<extra></extra>\", \"legendgroup\": \"Porcentaje de afiliados con m\\u00e1s de 4 consultas\", \"marker\": {\"color\": \"black\"}, \"name\": \"Porcentaje de afiliados con m\\u00e1s de 4 consultas\", \"offsetgroup\": \"Porcentaje de afiliados con m\\u00e1s de 4 consultas\", \"orientation\": \"v\", \"showlegend\": false, \"textposition\": \"auto\", \"type\": \"bar\", \"x\": [\"especialidad\", \"prestador\"], \"xaxis\": \"x5\", \"y\": [0.0, 0.0], \"yaxis\": \"y5\"}, {\"alignmentgroup\": \"True\", \"hovertemplate\": \"consulta=Porcentaje de afiliados con m\\u00e1s de 4 consultas<br>variable=2019-06-01<br>tipo=%{x}<br>Participaci\\u00f3n mensual=%{y}<extra></extra>\", \"legendgroup\": \"Porcentaje de afiliados con m\\u00e1s de 4 consultas\", \"marker\": {\"color\": \"black\"}, \"name\": \"Porcentaje de afiliados con m\\u00e1s de 4 consultas\", \"offsetgroup\": \"Porcentaje de afiliados con m\\u00e1s de 4 consultas\", \"orientation\": \"v\", \"showlegend\": false, \"textposition\": \"auto\", \"type\": \"bar\", \"x\": [\"especialidad\", \"prestador\"], \"xaxis\": \"x6\", \"y\": [0.0, 0.0], \"yaxis\": \"y6\"}, {\"alignmentgroup\": \"True\", \"hovertemplate\": \"consulta=Porcentaje de afiliados con m\\u00e1s de 4 consultas<br>variable=2019-07-01<br>tipo=%{x}<br>Participaci\\u00f3n mensual=%{y}<extra></extra>\", \"legendgroup\": \"Porcentaje de afiliados con m\\u00e1s de 4 consultas\", \"marker\": {\"color\": \"black\"}, \"name\": \"Porcentaje de afiliados con m\\u00e1s de 4 consultas\", \"offsetgroup\": \"Porcentaje de afiliados con m\\u00e1s de 4 consultas\", \"orientation\": \"v\", \"showlegend\": false, \"textposition\": \"auto\", \"type\": \"bar\", \"x\": [\"especialidad\", \"prestador\"], \"xaxis\": \"x7\", \"y\": [0.0, 0.0], \"yaxis\": \"y7\"}, {\"alignmentgroup\": \"True\", \"hovertemplate\": \"consulta=Porcentaje de afiliados con m\\u00e1s de 4 consultas<br>variable=2019-08-01<br>tipo=%{x}<br>Participaci\\u00f3n mensual=%{y}<extra></extra>\", \"legendgroup\": \"Porcentaje de afiliados con m\\u00e1s de 4 consultas\", \"marker\": {\"color\": \"black\"}, \"name\": \"Porcentaje de afiliados con m\\u00e1s de 4 consultas\", \"offsetgroup\": \"Porcentaje de afiliados con m\\u00e1s de 4 consultas\", \"orientation\": \"v\", \"showlegend\": false, \"textposition\": \"auto\", \"type\": \"bar\", \"x\": [\"especialidad\", \"prestador\"], \"xaxis\": \"x8\", \"y\": [0.0, -0.0], \"yaxis\": \"y8\"}, {\"alignmentgroup\": \"True\", \"hovertemplate\": \"consulta=Porcentaje de afiliados con m\\u00e1s de 4 consultas<br>variable=2019-09-01<br>tipo=%{x}<br>Participaci\\u00f3n mensual=%{y}<extra></extra>\", \"legendgroup\": \"Porcentaje de afiliados con m\\u00e1s de 4 consultas\", \"marker\": {\"color\": \"black\"}, \"name\": \"Porcentaje de afiliados con m\\u00e1s de 4 consultas\", \"offsetgroup\": \"Porcentaje de afiliados con m\\u00e1s de 4 consultas\", \"orientation\": \"v\", \"showlegend\": false, \"textposition\": \"auto\", \"type\": \"bar\", \"x\": [\"especialidad\", \"prestador\"], \"xaxis\": \"x9\", \"y\": [0.0, 0.0], \"yaxis\": \"y9\"}, {\"alignmentgroup\": \"True\", \"hovertemplate\": \"consulta=Porcentaje de afiliados con m\\u00e1s de 4 consultas<br>variable=2019-10-01<br>tipo=%{x}<br>Participaci\\u00f3n mensual=%{y}<extra></extra>\", \"legendgroup\": \"Porcentaje de afiliados con m\\u00e1s de 4 consultas\", \"marker\": {\"color\": \"black\"}, \"name\": \"Porcentaje de afiliados con m\\u00e1s de 4 consultas\", \"offsetgroup\": \"Porcentaje de afiliados con m\\u00e1s de 4 consultas\", \"orientation\": \"v\", \"showlegend\": false, \"textposition\": \"auto\", \"type\": \"bar\", \"x\": [\"especialidad\", \"prestador\"], \"xaxis\": \"x10\", \"y\": [0.01, -0.0], \"yaxis\": \"y10\"}, {\"alignmentgroup\": \"True\", \"hovertemplate\": \"consulta=Porcentaje de afiliados con m\\u00e1s de 4 consultas<br>variable=2019-11-01<br>tipo=%{x}<br>Participaci\\u00f3n mensual=%{y}<extra></extra>\", \"legendgroup\": \"Porcentaje de afiliados con m\\u00e1s de 4 consultas\", \"marker\": {\"color\": \"black\"}, \"name\": \"Porcentaje de afiliados con m\\u00e1s de 4 consultas\", \"offsetgroup\": \"Porcentaje de afiliados con m\\u00e1s de 4 consultas\", \"orientation\": \"v\", \"showlegend\": false, \"textposition\": \"auto\", \"type\": \"bar\", \"x\": [\"especialidad\", \"prestador\"], \"xaxis\": \"x11\", \"y\": [0.0, 0.0], \"yaxis\": \"y11\"}, {\"alignmentgroup\": \"True\", \"hovertemplate\": \"consulta=Porcentaje de afiliados con m\\u00e1s de 4 consultas<br>variable=2019-12-01<br>tipo=%{x}<br>Participaci\\u00f3n mensual=%{y}<extra></extra>\", \"legendgroup\": \"Porcentaje de afiliados con m\\u00e1s de 4 consultas\", \"marker\": {\"color\": \"black\"}, \"name\": \"Porcentaje de afiliados con m\\u00e1s de 4 consultas\", \"offsetgroup\": \"Porcentaje de afiliados con m\\u00e1s de 4 consultas\", \"orientation\": \"v\", \"showlegend\": false, \"textposition\": \"auto\", \"type\": \"bar\", \"x\": [\"especialidad\", \"prestador\"], \"xaxis\": \"x12\", \"y\": [0.0, 0.0], \"yaxis\": \"y12\"}, {\"alignmentgroup\": \"True\", \"hovertemplate\": \"consulta=Porcentaje de afiliados con m\\u00e1s de 4 consultas<br>variable=2020-01-01<br>tipo=%{x}<br>Participaci\\u00f3n mensual=%{y}<extra></extra>\", \"legendgroup\": \"Porcentaje de afiliados con m\\u00e1s de 4 consultas\", \"marker\": {\"color\": \"black\"}, \"name\": \"Porcentaje de afiliados con m\\u00e1s de 4 consultas\", \"offsetgroup\": \"Porcentaje de afiliados con m\\u00e1s de 4 consultas\", \"orientation\": \"v\", \"showlegend\": false, \"textposition\": \"auto\", \"type\": \"bar\", \"x\": [\"especialidad\", \"prestador\"], \"xaxis\": \"x13\", \"y\": [0.0, 0.0], \"yaxis\": \"y13\"}],\n",
       "                        {\"annotations\": [{\"font\": {}, \"showarrow\": false, \"text\": \"2019-01\", \"x\": 0.029230769230769234, \"xanchor\": \"center\", \"xref\": \"paper\", \"y\": 1.0, \"yanchor\": \"bottom\", \"yref\": \"paper\"}, {\"font\": {}, \"showarrow\": false, \"text\": \"2019-02\", \"x\": 0.1076923076923077, \"xanchor\": \"center\", \"xref\": \"paper\", \"y\": 1.0, \"yanchor\": \"bottom\", \"yref\": \"paper\"}, {\"font\": {}, \"showarrow\": false, \"text\": \"2019-03\", \"x\": 0.18615384615384617, \"xanchor\": \"center\", \"xref\": \"paper\", \"y\": 1.0, \"yanchor\": \"bottom\", \"yref\": \"paper\"}, {\"font\": {}, \"showarrow\": false, \"text\": \"2019-04\", \"x\": 0.26461538461538464, \"xanchor\": \"center\", \"xref\": \"paper\", \"y\": 1.0, \"yanchor\": \"bottom\", \"yref\": \"paper\"}, {\"font\": {}, \"showarrow\": false, \"text\": \"2019-05\", \"x\": 0.3430769230769231, \"xanchor\": \"center\", \"xref\": \"paper\", \"y\": 1.0, \"yanchor\": \"bottom\", \"yref\": \"paper\"}, {\"font\": {}, \"showarrow\": false, \"text\": \"2019-06\", \"x\": 0.4215384615384616, \"xanchor\": \"center\", \"xref\": \"paper\", \"y\": 1.0, \"yanchor\": \"bottom\", \"yref\": \"paper\"}, {\"font\": {}, \"showarrow\": false, \"text\": \"2019-07\", \"x\": 0.5, \"xanchor\": \"center\", \"xref\": \"paper\", \"y\": 1.0, \"yanchor\": \"bottom\", \"yref\": \"paper\"}, {\"font\": {}, \"showarrow\": false, \"text\": \"2019-08\", \"x\": 0.5784615384615384, \"xanchor\": \"center\", \"xref\": \"paper\", \"y\": 1.0, \"yanchor\": \"bottom\", \"yref\": \"paper\"}, {\"font\": {}, \"showarrow\": false, \"text\": \"2019-09\", \"x\": 0.6569230769230769, \"xanchor\": \"center\", \"xref\": \"paper\", \"y\": 1.0, \"yanchor\": \"bottom\", \"yref\": \"paper\"}, {\"font\": {}, \"showarrow\": false, \"text\": \"2019-10\", \"x\": 0.7353846153846153, \"xanchor\": \"center\", \"xref\": \"paper\", \"y\": 1.0, \"yanchor\": \"bottom\", \"yref\": \"paper\"}, {\"font\": {}, \"showarrow\": false, \"text\": \"2019-11\", \"x\": 0.8138461538461539, \"xanchor\": \"center\", \"xref\": \"paper\", \"y\": 1.0, \"yanchor\": \"bottom\", \"yref\": \"paper\"}, {\"font\": {}, \"showarrow\": false, \"text\": \"2019-12\", \"x\": 0.8923076923076922, \"xanchor\": \"center\", \"xref\": \"paper\", \"y\": 1.0, \"yanchor\": \"bottom\", \"yref\": \"paper\"}, {\"font\": {}, \"showarrow\": false, \"text\": \"2020-01\", \"x\": 0.9707692307692308, \"xanchor\": \"center\", \"xref\": \"paper\", \"y\": 1.0, \"yanchor\": \"bottom\", \"yref\": \"paper\"}], \"barmode\": \"stack\", \"legend\": {\"orientation\": \"h\", \"x\": 0.5, \"xanchor\": \"center\", \"y\": 1.4}, \"margin\": {\"t\": 60}, \"template\": {\"data\": {\"bar\": [{\"error_x\": {\"color\": \"#2a3f5f\"}, \"error_y\": {\"color\": \"#2a3f5f\"}, \"marker\": {\"line\": {\"color\": \"#E5ECF6\", \"width\": 0.5}}, \"type\": \"bar\"}], \"barpolar\": [{\"marker\": {\"line\": {\"color\": \"#E5ECF6\", \"width\": 0.5}}, \"type\": \"barpolar\"}], \"carpet\": [{\"aaxis\": {\"endlinecolor\": \"#2a3f5f\", \"gridcolor\": \"white\", \"linecolor\": \"white\", \"minorgridcolor\": \"white\", \"startlinecolor\": \"#2a3f5f\"}, \"baxis\": {\"endlinecolor\": \"#2a3f5f\", \"gridcolor\": \"white\", \"linecolor\": \"white\", \"minorgridcolor\": \"white\", \"startlinecolor\": \"#2a3f5f\"}, \"type\": \"carpet\"}], \"choropleth\": [{\"colorbar\": {\"outlinewidth\": 0, \"ticks\": \"\"}, \"type\": \"choropleth\"}], \"contour\": [{\"colorbar\": {\"outlinewidth\": 0, \"ticks\": \"\"}, \"colorscale\": [[0.0, \"#0d0887\"], [0.1111111111111111, \"#46039f\"], [0.2222222222222222, \"#7201a8\"], [0.3333333333333333, \"#9c179e\"], [0.4444444444444444, \"#bd3786\"], [0.5555555555555556, \"#d8576b\"], [0.6666666666666666, \"#ed7953\"], [0.7777777777777778, \"#fb9f3a\"], [0.8888888888888888, \"#fdca26\"], [1.0, \"#f0f921\"]], \"type\": \"contour\"}], \"contourcarpet\": [{\"colorbar\": {\"outlinewidth\": 0, \"ticks\": \"\"}, \"type\": \"contourcarpet\"}], \"heatmap\": [{\"colorbar\": {\"outlinewidth\": 0, \"ticks\": \"\"}, \"colorscale\": [[0.0, \"#0d0887\"], [0.1111111111111111, \"#46039f\"], [0.2222222222222222, \"#7201a8\"], [0.3333333333333333, \"#9c179e\"], [0.4444444444444444, \"#bd3786\"], [0.5555555555555556, \"#d8576b\"], [0.6666666666666666, \"#ed7953\"], [0.7777777777777778, \"#fb9f3a\"], [0.8888888888888888, \"#fdca26\"], [1.0, \"#f0f921\"]], \"type\": \"heatmap\"}], \"heatmapgl\": [{\"colorbar\": {\"outlinewidth\": 0, \"ticks\": \"\"}, \"colorscale\": [[0.0, \"#0d0887\"], [0.1111111111111111, \"#46039f\"], [0.2222222222222222, \"#7201a8\"], [0.3333333333333333, \"#9c179e\"], [0.4444444444444444, \"#bd3786\"], [0.5555555555555556, \"#d8576b\"], [0.6666666666666666, \"#ed7953\"], [0.7777777777777778, \"#fb9f3a\"], [0.8888888888888888, \"#fdca26\"], [1.0, \"#f0f921\"]], \"type\": \"heatmapgl\"}], \"histogram\": [{\"marker\": {\"colorbar\": {\"outlinewidth\": 0, \"ticks\": \"\"}}, \"type\": \"histogram\"}], \"histogram2d\": [{\"colorbar\": {\"outlinewidth\": 0, \"ticks\": \"\"}, \"colorscale\": [[0.0, \"#0d0887\"], [0.1111111111111111, \"#46039f\"], [0.2222222222222222, \"#7201a8\"], [0.3333333333333333, \"#9c179e\"], [0.4444444444444444, \"#bd3786\"], [0.5555555555555556, \"#d8576b\"], [0.6666666666666666, \"#ed7953\"], [0.7777777777777778, \"#fb9f3a\"], [0.8888888888888888, \"#fdca26\"], [1.0, \"#f0f921\"]], \"type\": \"histogram2d\"}], \"histogram2dcontour\": [{\"colorbar\": {\"outlinewidth\": 0, \"ticks\": \"\"}, \"colorscale\": [[0.0, \"#0d0887\"], [0.1111111111111111, \"#46039f\"], [0.2222222222222222, \"#7201a8\"], [0.3333333333333333, \"#9c179e\"], [0.4444444444444444, \"#bd3786\"], [0.5555555555555556, \"#d8576b\"], [0.6666666666666666, \"#ed7953\"], [0.7777777777777778, \"#fb9f3a\"], [0.8888888888888888, \"#fdca26\"], [1.0, \"#f0f921\"]], \"type\": \"histogram2dcontour\"}], \"mesh3d\": [{\"colorbar\": {\"outlinewidth\": 0, \"ticks\": \"\"}, \"type\": \"mesh3d\"}], \"parcoords\": [{\"line\": {\"colorbar\": {\"outlinewidth\": 0, \"ticks\": \"\"}}, \"type\": \"parcoords\"}], \"pie\": [{\"automargin\": true, \"type\": \"pie\"}], \"scatter\": [{\"marker\": {\"colorbar\": {\"outlinewidth\": 0, \"ticks\": \"\"}}, \"type\": \"scatter\"}], \"scatter3d\": [{\"line\": {\"colorbar\": {\"outlinewidth\": 0, \"ticks\": \"\"}}, \"marker\": {\"colorbar\": {\"outlinewidth\": 0, \"ticks\": \"\"}}, \"type\": \"scatter3d\"}], \"scattercarpet\": [{\"marker\": {\"colorbar\": {\"outlinewidth\": 0, \"ticks\": \"\"}}, \"type\": \"scattercarpet\"}], \"scattergeo\": [{\"marker\": {\"colorbar\": {\"outlinewidth\": 0, \"ticks\": \"\"}}, \"type\": \"scattergeo\"}], \"scattergl\": [{\"marker\": {\"colorbar\": {\"outlinewidth\": 0, \"ticks\": \"\"}}, \"type\": \"scattergl\"}], \"scattermapbox\": [{\"marker\": {\"colorbar\": {\"outlinewidth\": 0, \"ticks\": \"\"}}, \"type\": \"scattermapbox\"}], \"scatterpolar\": [{\"marker\": {\"colorbar\": {\"outlinewidth\": 0, \"ticks\": \"\"}}, \"type\": \"scatterpolar\"}], \"scatterpolargl\": [{\"marker\": {\"colorbar\": {\"outlinewidth\": 0, \"ticks\": \"\"}}, \"type\": \"scatterpolargl\"}], \"scatterternary\": [{\"marker\": {\"colorbar\": {\"outlinewidth\": 0, \"ticks\": \"\"}}, \"type\": \"scatterternary\"}], \"surface\": [{\"colorbar\": {\"outlinewidth\": 0, \"ticks\": \"\"}, \"colorscale\": [[0.0, \"#0d0887\"], [0.1111111111111111, \"#46039f\"], [0.2222222222222222, \"#7201a8\"], [0.3333333333333333, \"#9c179e\"], [0.4444444444444444, \"#bd3786\"], [0.5555555555555556, \"#d8576b\"], [0.6666666666666666, \"#ed7953\"], [0.7777777777777778, \"#fb9f3a\"], [0.8888888888888888, \"#fdca26\"], [1.0, \"#f0f921\"]], \"type\": \"surface\"}], \"table\": [{\"cells\": {\"fill\": {\"color\": \"#EBF0F8\"}, \"line\": {\"color\": \"white\"}}, \"header\": {\"fill\": {\"color\": \"#C8D4E3\"}, \"line\": {\"color\": \"white\"}}, \"type\": \"table\"}]}, \"layout\": {\"annotationdefaults\": {\"arrowcolor\": \"#2a3f5f\", \"arrowhead\": 0, \"arrowwidth\": 1}, \"coloraxis\": {\"colorbar\": {\"outlinewidth\": 0, \"ticks\": \"\"}}, \"colorscale\": {\"diverging\": [[0, \"#8e0152\"], [0.1, \"#c51b7d\"], [0.2, \"#de77ae\"], [0.3, \"#f1b6da\"], [0.4, \"#fde0ef\"], [0.5, \"#f7f7f7\"], [0.6, \"#e6f5d0\"], [0.7, \"#b8e186\"], [0.8, \"#7fbc41\"], [0.9, \"#4d9221\"], [1, \"#276419\"]], \"sequential\": [[0.0, \"#0d0887\"], [0.1111111111111111, \"#46039f\"], [0.2222222222222222, \"#7201a8\"], [0.3333333333333333, \"#9c179e\"], [0.4444444444444444, \"#bd3786\"], [0.5555555555555556, \"#d8576b\"], [0.6666666666666666, \"#ed7953\"], [0.7777777777777778, \"#fb9f3a\"], [0.8888888888888888, \"#fdca26\"], [1.0, \"#f0f921\"]], \"sequentialminus\": [[0.0, \"#0d0887\"], [0.1111111111111111, \"#46039f\"], [0.2222222222222222, \"#7201a8\"], [0.3333333333333333, \"#9c179e\"], [0.4444444444444444, \"#bd3786\"], [0.5555555555555556, \"#d8576b\"], [0.6666666666666666, \"#ed7953\"], [0.7777777777777778, \"#fb9f3a\"], [0.8888888888888888, \"#fdca26\"], [1.0, \"#f0f921\"]]}, \"colorway\": [\"#636efa\", \"#EF553B\", \"#00cc96\", \"#ab63fa\", \"#FFA15A\", \"#19d3f3\", \"#FF6692\", \"#B6E880\", \"#FF97FF\", \"#FECB52\"], \"font\": {\"color\": \"#2a3f5f\"}, \"geo\": {\"bgcolor\": \"white\", \"lakecolor\": \"white\", \"landcolor\": \"#E5ECF6\", \"showlakes\": true, \"showland\": true, \"subunitcolor\": \"white\"}, \"hoverlabel\": {\"align\": \"left\"}, \"hovermode\": \"closest\", \"mapbox\": {\"style\": \"light\"}, \"paper_bgcolor\": \"white\", \"plot_bgcolor\": \"#E5ECF6\", \"polar\": {\"angularaxis\": {\"gridcolor\": \"white\", \"linecolor\": \"white\", \"ticks\": \"\"}, \"bgcolor\": \"#E5ECF6\", \"radialaxis\": {\"gridcolor\": \"white\", \"linecolor\": \"white\", \"ticks\": \"\"}}, \"scene\": {\"xaxis\": {\"backgroundcolor\": \"#E5ECF6\", \"gridcolor\": \"white\", \"gridwidth\": 2, \"linecolor\": \"white\", \"showbackground\": true, \"ticks\": \"\", \"zerolinecolor\": \"white\"}, \"yaxis\": {\"backgroundcolor\": \"#E5ECF6\", \"gridcolor\": \"white\", \"gridwidth\": 2, \"linecolor\": \"white\", \"showbackground\": true, \"ticks\": \"\", \"zerolinecolor\": \"white\"}, \"zaxis\": {\"backgroundcolor\": \"#E5ECF6\", \"gridcolor\": \"white\", \"gridwidth\": 2, \"linecolor\": \"white\", \"showbackground\": true, \"ticks\": \"\", \"zerolinecolor\": \"white\"}}, \"shapedefaults\": {\"line\": {\"color\": \"#2a3f5f\"}}, \"ternary\": {\"aaxis\": {\"gridcolor\": \"white\", \"linecolor\": \"white\", \"ticks\": \"\"}, \"baxis\": {\"gridcolor\": \"white\", \"linecolor\": \"white\", \"ticks\": \"\"}, \"bgcolor\": \"#E5ECF6\", \"caxis\": {\"gridcolor\": \"white\", \"linecolor\": \"white\", \"ticks\": \"\"}}, \"title\": {\"x\": 0.05}, \"xaxis\": {\"automargin\": true, \"gridcolor\": \"white\", \"linecolor\": \"white\", \"ticks\": \"\", \"title\": {\"standoff\": 15}, \"zerolinecolor\": \"white\", \"zerolinewidth\": 2}, \"yaxis\": {\"automargin\": true, \"gridcolor\": \"white\", \"linecolor\": \"white\", \"ticks\": \"\", \"title\": {\"standoff\": 15}, \"zerolinecolor\": \"white\", \"zerolinewidth\": 2}}}, \"xaxis\": {\"anchor\": \"y\", \"domain\": [0.0, 0.05846153846153847], \"tickangle\": -90}, \"xaxis10\": {\"anchor\": \"y10\", \"domain\": [0.7061538461538461, 0.7646153846153846], \"matches\": \"x\", \"tickangle\": -90}, \"xaxis11\": {\"anchor\": \"y11\", \"domain\": [0.7846153846153847, 0.8430769230769232], \"matches\": \"x\", \"tickangle\": -90}, \"xaxis12\": {\"anchor\": \"y12\", \"domain\": [0.8630769230769231, 0.9215384615384615], \"matches\": \"x\", \"tickangle\": -90}, \"xaxis13\": {\"anchor\": \"y13\", \"domain\": [0.9415384615384615, 1.0], \"matches\": \"x\", \"tickangle\": -90}, \"xaxis2\": {\"anchor\": \"y2\", \"domain\": [0.07846153846153847, 0.13692307692307693], \"matches\": \"x\", \"tickangle\": -90}, \"xaxis3\": {\"anchor\": \"y3\", \"domain\": [0.15692307692307694, 0.2153846153846154], \"matches\": \"x\", \"tickangle\": -90}, \"xaxis4\": {\"anchor\": \"y4\", \"domain\": [0.23538461538461541, 0.29384615384615387], \"matches\": \"x\", \"tickangle\": -90}, \"xaxis5\": {\"anchor\": \"y5\", \"domain\": [0.3138461538461539, 0.37230769230769234], \"matches\": \"x\", \"tickangle\": -90}, \"xaxis6\": {\"anchor\": \"y6\", \"domain\": [0.39230769230769236, 0.4507692307692308], \"matches\": \"x\", \"tickangle\": -90}, \"xaxis7\": {\"anchor\": \"y7\", \"domain\": [0.4707692307692308, 0.5292307692307693], \"matches\": \"x\", \"tickangle\": -90}, \"xaxis8\": {\"anchor\": \"y8\", \"domain\": [0.5492307692307692, 0.6076923076923076], \"matches\": \"x\", \"tickangle\": -90}, \"xaxis9\": {\"anchor\": \"y9\", \"domain\": [0.6276923076923077, 0.6861538461538461], \"matches\": \"x\", \"tickangle\": -90}, \"yaxis\": {\"anchor\": \"x\", \"domain\": [0.0, 1.0], \"range\": [0, 1], \"tickformat\": \"%\", \"title\": {\"text\": \"Participaci\\u00f3n mensual\"}}, \"yaxis10\": {\"anchor\": \"x10\", \"domain\": [0.0, 1.0], \"matches\": \"y\", \"range\": [0, 1], \"showticklabels\": false, \"tickformat\": \"%\"}, \"yaxis11\": {\"anchor\": \"x11\", \"domain\": [0.0, 1.0], \"matches\": \"y\", \"range\": [0, 1], \"showticklabels\": false, \"tickformat\": \"%\"}, \"yaxis12\": {\"anchor\": \"x12\", \"domain\": [0.0, 1.0], \"matches\": \"y\", \"range\": [0, 1], \"showticklabels\": false, \"tickformat\": \"%\"}, \"yaxis13\": {\"anchor\": \"x13\", \"domain\": [0.0, 1.0], \"matches\": \"y\", \"range\": [0, 1], \"showticklabels\": false, \"tickformat\": \"%\"}, \"yaxis2\": {\"anchor\": \"x2\", \"domain\": [0.0, 1.0], \"matches\": \"y\", \"range\": [0, 1], \"showticklabels\": false, \"tickformat\": \"%\"}, \"yaxis3\": {\"anchor\": \"x3\", \"domain\": [0.0, 1.0], \"matches\": \"y\", \"range\": [0, 1], \"showticklabels\": false, \"tickformat\": \"%\"}, \"yaxis4\": {\"anchor\": \"x4\", \"domain\": [0.0, 1.0], \"matches\": \"y\", \"range\": [0, 1], \"showticklabels\": false, \"tickformat\": \"%\"}, \"yaxis5\": {\"anchor\": \"x5\", \"domain\": [0.0, 1.0], \"matches\": \"y\", \"range\": [0, 1], \"showticklabels\": false, \"tickformat\": \"%\"}, \"yaxis6\": {\"anchor\": \"x6\", \"domain\": [0.0, 1.0], \"matches\": \"y\", \"range\": [0, 1], \"showticklabels\": false, \"tickformat\": \"%\"}, \"yaxis7\": {\"anchor\": \"x7\", \"domain\": [0.0, 1.0], \"matches\": \"y\", \"range\": [0, 1], \"showticklabels\": false, \"tickformat\": \"%\"}, \"yaxis8\": {\"anchor\": \"x8\", \"domain\": [0.0, 1.0], \"matches\": \"y\", \"range\": [0, 1], \"showticklabels\": false, \"tickformat\": \"%\"}, \"yaxis9\": {\"anchor\": \"x9\", \"domain\": [0.0, 1.0], \"matches\": \"y\", \"range\": [0, 1], \"showticklabels\": false, \"tickformat\": \"%\"}},\n",
       "                        {\"responsive\": true}\n",
       "                    ).then(function(){\n",
       "                            \n",
       "var gd = document.getElementById('2120a0de-d4d9-4c4f-9e88-348e68b76494');\n",
       "var x = new MutationObserver(function (mutations, observer) {{\n",
       "        var display = window.getComputedStyle(gd).display;\n",
       "        if (!display || display === 'none') {{\n",
       "            console.log([gd, 'removed!']);\n",
       "            Plotly.purge(gd);\n",
       "            observer.disconnect();\n",
       "        }}\n",
       "}});\n",
       "\n",
       "// Listen for the removal of the full notebook cells\n",
       "var notebookContainer = gd.closest('#notebook-container');\n",
       "if (notebookContainer) {{\n",
       "    x.observe(notebookContainer, {childList: true});\n",
       "}}\n",
       "\n",
       "// Listen for the clearing of the current output cell\n",
       "var outputEl = gd.closest('.output');\n",
       "if (outputEl) {{\n",
       "    x.observe(outputEl, {childList: true});\n",
       "}}\n",
       "\n",
       "                        })\n",
       "                };\n",
       "                });\n",
       "            </script>\n",
       "        </div>"
      ]
     },
     "metadata": {},
     "output_type": "display_data"
    }
   ],
   "source": [
    "calculo_graficos(prestador)"
   ]
  },
  {
   "cell_type": "code",
   "execution_count": 201,
   "metadata": {},
   "outputs": [],
   "source": [
    "def calculo_graficos(prestador):\n",
    "    \n",
    "    prestador= int(prestador)\n",
    "    #especialidad y nombre\n",
    "    \n",
    "    datos_prestador = querydbtopandas(f\"\"\"select top 1\n",
    "       a13.id_pre_prestador,\n",
    "       a13.desc_pre_nombre,\n",
    "       Q.deno\n",
    "    from  DBA.d_pre_prestador        a13\n",
    "      JOIN  DBA.d_prof_convertir_especialidad a19  \n",
    "        ON  (a13.id_pre_especialidad  = a19.id_prof_especialidad)\n",
    "       LEFT JOIN dba.prestad_costo_centros E\n",
    "        ON a13.id_pre_prestador = E.prestad and E.baja_fecha is null and e.prepaga = ( select min(PCC1.prepaga) from dba.prestad_costo_centros PCC1 where PCC1.prestad =  e.prestad )   \n",
    "       LEFT JOIN dba.costo_centros Q\n",
    "        ON E.centro = Q.centro\n",
    "    where  a13.id_pre_prestador in ({prestador})\"\"\").values[0]\n",
    "    nombre = datos_prestador[1]\n",
    "    especialidad = datos_prestador[2]\n",
    "    especialidad = unidecode.unidecode(especialidad)\n",
    "\n",
    "    #consultas\n",
    "    menores = [\"2019-01-01\", \"2019-02-01\",\"2019-03-01\",\"2019-04-01\",\"2019-05-01\",\"2019-06-01\",\"2019-07-01\",\"2019-08-01\",\"2019-09-01\",\"2019-10-01\",\"2019-11-01\",\"2019-12-01\", \"2020-01-01\"]\n",
    "\n",
    "    mayores = [\"2019-02-01\", \"2019-03-01\",\"2019-04-01\",\"2019-05-01\",\"2019-06-01\",\"2019-07-01\",\"2019-08-01\",\"2019-09-01\",\"2019-10-01\",\"2019-11-01\",\"2019-12-01\",\"2020-01-01\", \"2020-02-01\"]\n",
    "\n",
    "    temporal_prestador_consultas = pd.DataFrame(columns= [\"consulta\"], data= ['Consultas - Q afiliados Médica', '2 consultas - Q afiliados', '3 consultas - Q afiliado',\n",
    "   '4 consultas - Q afiliados', 'Más de 4 - Q afiliados'])\n",
    "\n",
    "    temporal_especialidad_consultas = pd.DataFrame(columns= [\"consulta\"], data= ['Consultas - Q afiliados Médica', '2 consultas - Q afiliados', '3 consultas - Q afiliado',\n",
    "   '4 consultas - Q afiliados', 'Más de 4 - Q afiliados'])\n",
    "    \n",
    "    for i,j in zip(menores,mayores):\n",
    "        df = querydbtopandas(f\"\"\"select a11.id_pres_prestacion,\n",
    "           a16.prestac_pres_prestacion,\n",
    "           a11.id_pre_prestador,\n",
    "           a13.desc_pre_nombre,\n",
    "           a11.id_afi_afiliado ,  \n",
    "           Q.deno,\n",
    "           a11.id_tie_dia_consumo,   \n",
    "           FLOOR(DATEDIFF(year, a14.naci_fecha, a11.id_tie_dia_consumo)) edad_afiliado \n",
    "\n",
    "    from        DBA.ft_ordenes        a11\n",
    "           join        DBA.d_pre_prestador        a13\n",
    "             on        (a11.id_pre_prestador = a13.id_pre_prestador)\n",
    "           join        DBA.afi_afiliados        a14\n",
    "             on        (a11.id_afi_afiliado = a14.id_afiliado)\n",
    "           join        DBA.d_pres_prestacion        a16\n",
    "             on        (a11.id_pres_prestacion = a16.id_pres_prestacion)     \n",
    "           join       DBA.d_prof_convertir_especialidad a19  \n",
    "            on         (a13.id_pre_especialidad  = a19.id_prof_especialidad)\n",
    "           LEFT JOIN dba.prestad_costo_centros E\n",
    "            ON a11.id_pre_prestador = E.prestad and E.baja_fecha is null and e.prepaga = ( select min(PCC1.prepaga) from dba.prestad_costo_centros PCC1 where PCC1.prestad =  e.prestad )   \n",
    "           LEFT JOIN dba.costo_centros Q\n",
    "            ON E.centro = Q.centro\n",
    "    where        (a13.id_pre_tipo in ('E', 'P')            \n",
    "    and a11.id_nom_nomenclador in (5)            \n",
    "    and cast(id_tie_dia_consumo as date) >= date(\"{i}\") and cast(id_tie_dia_consumo as date) < date(\"{j}\")\n",
    "    and a13.id_afi_zona in ({zona})\n",
    "    and a13.id_afi_provincia in ({provincia})\n",
    "    and Q.deno like \"%{especialidad}%\" \n",
    "    and RTRIM(a16.prestac_pres_prestacion) not in ({prestaciones_excluidas}))\n",
    "    group by a11.id_pres_prestacion,\n",
    "           a16.prestac_pres_prestacion,\n",
    "           a11.id_pre_prestador,\n",
    "           a13.desc_pre_nombre,\n",
    "           Q.deno,\n",
    "           a11.id_afi_afiliado,\n",
    "           a11.id_tie_dia_consumo,\n",
    "           edad_afiliado\"\"\")\n",
    "\n",
    "        total_consultas_prestador = df[\"id_pre_prestador\"].value_counts()\n",
    "        mas_de_30_consultas = total_consultas_prestador[total_consultas_prestador >= 30].index\n",
    "\n",
    "        df = df[df[\"id_pre_prestador\"].isin(mas_de_30_consultas)]\n",
    "\n",
    "        reconsultas = df.groupby([\"id_pre_prestador\", \"desc_pre_nombre\", \"deno\", \"id_afi_afiliado\"])[\"id_afi_afiliado\"].count().rename(\"CANTIDADORDENES0\").reset_index()\n",
    "        reconsultas[\"uno\"] = 1\n",
    "\n",
    "        pivot_1 = pd.pivot_table(reconsultas, values='uno', index=['id_pre_prestador', \"desc_pre_nombre\", \"deno\"],\n",
    "                     columns=['CANTIDADORDENES0'], aggfunc=np.sum).fillna(0)\n",
    "\n",
    "        pivot_1[\"Más de 4 - Q afiliados\"] = pivot_1[pivot_1.columns.tolist()[4:]].sum(axis=1)\n",
    "\n",
    "        total_consultas_prestador = reconsultas.groupby([\"id_pre_prestador\",  \"desc_pre_nombre\", \"deno\"])[\"CANTIDADORDENES0\"].sum()\n",
    "        pivot = pd.concat([total_consultas_prestador, pivot_1],axis=1)\n",
    "        pivot.reset_index(inplace=True)\n",
    "        if 1 not in pivot.columns:\n",
    "            pivot[1] = 0\n",
    "        if 2 not in pivot.columns:\n",
    "            pivot[2] = 0\n",
    "        if 3 not in pivot.columns:\n",
    "            pivot[3] = 0\n",
    "        if 4 not in pivot.columns:\n",
    "            pivot[4] = 0\n",
    "\n",
    "        pivot[\"Consultas - participación %\"] =  (pivot[1]/pivot[\"CANTIDADORDENES0\"])\n",
    "        pivot[\"2 consultas - participación %\"] =  ((pivot[2]*2)/pivot[\"CANTIDADORDENES0\"])\n",
    "        pivot[\"3 consultas - participación %\"] =  ((pivot[3]*3)/pivot[\"CANTIDADORDENES0\"])\n",
    "        pivot[\"4 consultas - participación %\"] =  ((pivot[4]*4)/pivot[\"CANTIDADORDENES0\"])\n",
    "        pivot[\"Participación %\"] = 1 - pivot[\"Consultas - participación %\"]\n",
    "        pivot[\"Más de 4 - participación %\"] = pivot[\"Participación %\"] - (pivot[\"2 consultas - participación %\"]+pivot[\"3 consultas - participación %\"]+pivot[\"4 consultas - participación %\"])\n",
    "\n",
    "        pivot.rename(columns= {1: \"Consultas - Q afiliados\", 2: \"2 consultas - Q afiliados\", 3: \"3 consultas - Q afiliados\", 4: \"4 consultas - Q afiliados\", \"desc_pre_nombre\": \"Razon social\",\n",
    "        \"deno\": \"Especialidad\",\"id_pre_prestador\": \"Prestador\", \"edad_afiliado\": \"Promedio edad de afiliados\", \"CANTIDADORDENES0\": \"Total Consultas\" },inplace=True)    \n",
    "\n",
    "        tabla = pivot[['Prestador', 'Razon social', 'Especialidad', 'Consultas - participación %', '2 consultas - participación %','3 consultas - participación %', '4 consultas - participación %', 'Más de 4 - participación %']]\n",
    "\n",
    "        if len(tabla[tabla[\"Prestador\"] == 218655]) ==0:\n",
    "            temporal_prestador_consultas[i] = 0\n",
    "            temporal_especialidad_consultas[i] = 0\n",
    "        else:\n",
    "            especialidad_prestador = tabla[tabla[\"Prestador\"] == 218655].values[0][2]\n",
    "            prestador = tabla[tabla[\"Prestador\"] == 218655].iloc[:,3:]\n",
    "            temporal_prestador_consultas[i] = prestador.T.values\n",
    "            temporal_especialidad_consultas[i] = tabla[tabla[\"Especialidad\"] == especialidad_prestador].iloc[:,3:].mean(axis=0).values\n",
    "        \n",
    "    temporal_prestador_consultas = temporal_prestador_consultas.melt(id_vars=\"consulta\", value_vars=['2019-01-01', '2019-02-01', '2019-03-01', '2019-04-01',\n",
    "       '2019-05-01', '2019-06-01', '2019-07-01', '2019-08-01', '2019-09-01',\n",
    "       '2019-10-01', '2019-11-01', '2019-12-01', '2020-01-01'])\n",
    "    temporal_prestador_consultas[\"tipo\"] = \"prestador\"\n",
    "\n",
    "    temporal_especialidad_consultas = temporal_especialidad_consultas.melt(id_vars=\"consulta\",  value_vars=['2019-01-01', '2019-02-01', '2019-03-01', '2019-04-01',\n",
    "       '2019-05-01', '2019-06-01', '2019-07-01', '2019-08-01', '2019-09-01',\n",
    "       '2019-10-01', '2019-11-01', '2019-12-01', '2020-01-01'])\n",
    "    temporal_especialidad_consultas[\"tipo\"] = \"especialidad\"\n",
    "    \n",
    "    final_consultas = pd.concat([temporal_especialidad_consultas,temporal_prestador_consultas])\n",
    "    final_consultas = final_consultas.round(2)\n",
    "        \n",
    "    di = {\"Consultas - Q afiliados Médica\": \"Porcentaje de afiliados con consultas únicas\", \n",
    "     \"2 consultas - Q afiliados\": \"Porcentaje de afiliados con 2 consultas\",\n",
    "     \"3 consultas - Q afiliado\": \"Porcentaje de afiliados con 3 consultas\", \n",
    "     \"4 consultas - Q afiliados\": \"Porcentaje de afiliados con 4 consultas\",\n",
    "     \"Más de 4 - Q afiliados\": \"Porcentaje de afiliados con más de 4 consultas\"}\n",
    "    final_consultas = final_consultas.replace({\"consulta\": di})\n",
    "    final_consultas = final_consultas.rename(columns={\"value\": \"Participación mensual\"})\n",
    "    \n",
    "    fig_consultas = px.bar(final_consultas, x=\"tipo\", y=\"Participación mensual\", barmode=\"stack\",\n",
    "             facet_col=\"variable\",  color=\"consulta\")\n",
    "\n",
    "    fig_consultas.layout.legend = {\"orientation\": \"h\", \"xanchor\" :\"center\", \"y\":1.4, \"x\":0.5}\n",
    "    fig_consultas.update_yaxes(range=[-0,1],tickformat = \"%\")\n",
    "    \n",
    "    return fig_consultas"
   ]
  },
  {
   "cell_type": "code",
   "execution_count": 202,
   "metadata": {
    "scrolled": true
   },
   "outputs": [],
   "source": [
    "fig_consultas = calculo_graficos(prestador)"
   ]
  },
  {
   "cell_type": "code",
   "execution_count": 203,
   "metadata": {},
   "outputs": [
    {
     "data": {
      "application/vnd.plotly.v1+json": {
       "config": {
        "plotlyServerURL": "https://plot.ly"
       },
       "data": [
        {
         "alignmentgroup": "True",
         "hovertemplate": "consulta=Porcentaje de afiliados con consultas únicas<br>variable=2019-01-01<br>tipo=%{x}<br>Participación mensual=%{y}<extra></extra>",
         "legendgroup": "Porcentaje de afiliados con consultas únicas",
         "marker": {
          "color": "#636efa"
         },
         "name": "Porcentaje de afiliados con consultas únicas",
         "offsetgroup": "Porcentaje de afiliados con consultas únicas",
         "orientation": "v",
         "showlegend": true,
         "textposition": "auto",
         "type": "bar",
         "x": [
          "especialidad",
          "prestador"
         ],
         "xaxis": "x",
         "y": [
          0.74,
          0.88
         ],
         "yaxis": "y"
        },
        {
         "alignmentgroup": "True",
         "hovertemplate": "consulta=Porcentaje de afiliados con consultas únicas<br>variable=2019-02-01<br>tipo=%{x}<br>Participación mensual=%{y}<extra></extra>",
         "legendgroup": "Porcentaje de afiliados con consultas únicas",
         "marker": {
          "color": "#636efa"
         },
         "name": "Porcentaje de afiliados con consultas únicas",
         "offsetgroup": "Porcentaje de afiliados con consultas únicas",
         "orientation": "v",
         "showlegend": false,
         "textposition": "auto",
         "type": "bar",
         "x": [
          "especialidad",
          "prestador"
         ],
         "xaxis": "x2",
         "y": [
          0.89,
          0.88
         ],
         "yaxis": "y2"
        },
        {
         "alignmentgroup": "True",
         "hovertemplate": "consulta=Porcentaje de afiliados con consultas únicas<br>variable=2019-03-01<br>tipo=%{x}<br>Participación mensual=%{y}<extra></extra>",
         "legendgroup": "Porcentaje de afiliados con consultas únicas",
         "marker": {
          "color": "#636efa"
         },
         "name": "Porcentaje de afiliados con consultas únicas",
         "offsetgroup": "Porcentaje de afiliados con consultas únicas",
         "orientation": "v",
         "showlegend": false,
         "textposition": "auto",
         "type": "bar",
         "x": [
          "especialidad",
          "prestador"
         ],
         "xaxis": "x3",
         "y": [
          0,
          0
         ],
         "yaxis": "y3"
        },
        {
         "alignmentgroup": "True",
         "hovertemplate": "consulta=Porcentaje de afiliados con consultas únicas<br>variable=2019-04-01<br>tipo=%{x}<br>Participación mensual=%{y}<extra></extra>",
         "legendgroup": "Porcentaje de afiliados con consultas únicas",
         "marker": {
          "color": "#636efa"
         },
         "name": "Porcentaje de afiliados con consultas únicas",
         "offsetgroup": "Porcentaje de afiliados con consultas únicas",
         "orientation": "v",
         "showlegend": false,
         "textposition": "auto",
         "type": "bar",
         "x": [
          "especialidad",
          "prestador"
         ],
         "xaxis": "x4",
         "y": [
          0,
          0
         ],
         "yaxis": "y4"
        },
        {
         "alignmentgroup": "True",
         "hovertemplate": "consulta=Porcentaje de afiliados con consultas únicas<br>variable=2019-05-01<br>tipo=%{x}<br>Participación mensual=%{y}<extra></extra>",
         "legendgroup": "Porcentaje de afiliados con consultas únicas",
         "marker": {
          "color": "#636efa"
         },
         "name": "Porcentaje de afiliados con consultas únicas",
         "offsetgroup": "Porcentaje de afiliados con consultas únicas",
         "orientation": "v",
         "showlegend": false,
         "textposition": "auto",
         "type": "bar",
         "x": [
          "especialidad",
          "prestador"
         ],
         "xaxis": "x5",
         "y": [
          0.75,
          0.6
         ],
         "yaxis": "y5"
        },
        {
         "alignmentgroup": "True",
         "hovertemplate": "consulta=Porcentaje de afiliados con consultas únicas<br>variable=2019-06-01<br>tipo=%{x}<br>Participación mensual=%{y}<extra></extra>",
         "legendgroup": "Porcentaje de afiliados con consultas únicas",
         "marker": {
          "color": "#636efa"
         },
         "name": "Porcentaje de afiliados con consultas únicas",
         "offsetgroup": "Porcentaje de afiliados con consultas únicas",
         "orientation": "v",
         "showlegend": false,
         "textposition": "auto",
         "type": "bar",
         "x": [
          "especialidad",
          "prestador"
         ],
         "xaxis": "x6",
         "y": [
          0,
          0
         ],
         "yaxis": "y6"
        },
        {
         "alignmentgroup": "True",
         "hovertemplate": "consulta=Porcentaje de afiliados con consultas únicas<br>variable=2019-07-01<br>tipo=%{x}<br>Participación mensual=%{y}<extra></extra>",
         "legendgroup": "Porcentaje de afiliados con consultas únicas",
         "marker": {
          "color": "#636efa"
         },
         "name": "Porcentaje de afiliados con consultas únicas",
         "offsetgroup": "Porcentaje de afiliados con consultas únicas",
         "orientation": "v",
         "showlegend": false,
         "textposition": "auto",
         "type": "bar",
         "x": [
          "especialidad",
          "prestador"
         ],
         "xaxis": "x7",
         "y": [
          0.77,
          0.88
         ],
         "yaxis": "y7"
        },
        {
         "alignmentgroup": "True",
         "hovertemplate": "consulta=Porcentaje de afiliados con consultas únicas<br>variable=2019-08-01<br>tipo=%{x}<br>Participación mensual=%{y}<extra></extra>",
         "legendgroup": "Porcentaje de afiliados con consultas únicas",
         "marker": {
          "color": "#636efa"
         },
         "name": "Porcentaje de afiliados con consultas únicas",
         "offsetgroup": "Porcentaje de afiliados con consultas únicas",
         "orientation": "v",
         "showlegend": false,
         "textposition": "auto",
         "type": "bar",
         "x": [
          "especialidad",
          "prestador"
         ],
         "xaxis": "x8",
         "y": [
          0.75,
          0.8
         ],
         "yaxis": "y8"
        },
        {
         "alignmentgroup": "True",
         "hovertemplate": "consulta=Porcentaje de afiliados con consultas únicas<br>variable=2019-09-01<br>tipo=%{x}<br>Participación mensual=%{y}<extra></extra>",
         "legendgroup": "Porcentaje de afiliados con consultas únicas",
         "marker": {
          "color": "#636efa"
         },
         "name": "Porcentaje de afiliados con consultas únicas",
         "offsetgroup": "Porcentaje de afiliados con consultas únicas",
         "orientation": "v",
         "showlegend": false,
         "textposition": "auto",
         "type": "bar",
         "x": [
          "especialidad",
          "prestador"
         ],
         "xaxis": "x9",
         "y": [
          0.73,
          0.78
         ],
         "yaxis": "y9"
        },
        {
         "alignmentgroup": "True",
         "hovertemplate": "consulta=Porcentaje de afiliados con consultas únicas<br>variable=2019-10-01<br>tipo=%{x}<br>Participación mensual=%{y}<extra></extra>",
         "legendgroup": "Porcentaje de afiliados con consultas únicas",
         "marker": {
          "color": "#636efa"
         },
         "name": "Porcentaje de afiliados con consultas únicas",
         "offsetgroup": "Porcentaje de afiliados con consultas únicas",
         "orientation": "v",
         "showlegend": false,
         "textposition": "auto",
         "type": "bar",
         "x": [
          "especialidad",
          "prestador"
         ],
         "xaxis": "x10",
         "y": [
          0.74,
          0.82
         ],
         "yaxis": "y10"
        },
        {
         "alignmentgroup": "True",
         "hovertemplate": "consulta=Porcentaje de afiliados con consultas únicas<br>variable=2019-11-01<br>tipo=%{x}<br>Participación mensual=%{y}<extra></extra>",
         "legendgroup": "Porcentaje de afiliados con consultas únicas",
         "marker": {
          "color": "#636efa"
         },
         "name": "Porcentaje de afiliados con consultas únicas",
         "offsetgroup": "Porcentaje de afiliados con consultas únicas",
         "orientation": "v",
         "showlegend": false,
         "textposition": "auto",
         "type": "bar",
         "x": [
          "especialidad",
          "prestador"
         ],
         "xaxis": "x11",
         "y": [
          0,
          0
         ],
         "yaxis": "y11"
        },
        {
         "alignmentgroup": "True",
         "hovertemplate": "consulta=Porcentaje de afiliados con consultas únicas<br>variable=2019-12-01<br>tipo=%{x}<br>Participación mensual=%{y}<extra></extra>",
         "legendgroup": "Porcentaje de afiliados con consultas únicas",
         "marker": {
          "color": "#636efa"
         },
         "name": "Porcentaje de afiliados con consultas únicas",
         "offsetgroup": "Porcentaje de afiliados con consultas únicas",
         "orientation": "v",
         "showlegend": false,
         "textposition": "auto",
         "type": "bar",
         "x": [
          "especialidad",
          "prestador"
         ],
         "xaxis": "x12",
         "y": [
          0,
          0
         ],
         "yaxis": "y12"
        },
        {
         "alignmentgroup": "True",
         "hovertemplate": "consulta=Porcentaje de afiliados con consultas únicas<br>variable=2020-01-01<br>tipo=%{x}<br>Participación mensual=%{y}<extra></extra>",
         "legendgroup": "Porcentaje de afiliados con consultas únicas",
         "marker": {
          "color": "#636efa"
         },
         "name": "Porcentaje de afiliados con consultas únicas",
         "offsetgroup": "Porcentaje de afiliados con consultas únicas",
         "orientation": "v",
         "showlegend": false,
         "textposition": "auto",
         "type": "bar",
         "x": [
          "especialidad",
          "prestador"
         ],
         "xaxis": "x13",
         "y": [
          0.78,
          0.74
         ],
         "yaxis": "y13"
        },
        {
         "alignmentgroup": "True",
         "hovertemplate": "consulta=Porcentaje de afiliados con 2 consultas<br>variable=2019-01-01<br>tipo=%{x}<br>Participación mensual=%{y}<extra></extra>",
         "legendgroup": "Porcentaje de afiliados con 2 consultas",
         "marker": {
          "color": "#EF553B"
         },
         "name": "Porcentaje de afiliados con 2 consultas",
         "offsetgroup": "Porcentaje de afiliados con 2 consultas",
         "orientation": "v",
         "showlegend": true,
         "textposition": "auto",
         "type": "bar",
         "x": [
          "especialidad",
          "prestador"
         ],
         "xaxis": "x",
         "y": [
          0.18,
          0.12
         ],
         "yaxis": "y"
        },
        {
         "alignmentgroup": "True",
         "hovertemplate": "consulta=Porcentaje de afiliados con 2 consultas<br>variable=2019-02-01<br>tipo=%{x}<br>Participación mensual=%{y}<extra></extra>",
         "legendgroup": "Porcentaje de afiliados con 2 consultas",
         "marker": {
          "color": "#EF553B"
         },
         "name": "Porcentaje de afiliados con 2 consultas",
         "offsetgroup": "Porcentaje de afiliados con 2 consultas",
         "orientation": "v",
         "showlegend": false,
         "textposition": "auto",
         "type": "bar",
         "x": [
          "especialidad",
          "prestador"
         ],
         "xaxis": "x2",
         "y": [
          0.11,
          0.12
         ],
         "yaxis": "y2"
        },
        {
         "alignmentgroup": "True",
         "hovertemplate": "consulta=Porcentaje de afiliados con 2 consultas<br>variable=2019-03-01<br>tipo=%{x}<br>Participación mensual=%{y}<extra></extra>",
         "legendgroup": "Porcentaje de afiliados con 2 consultas",
         "marker": {
          "color": "#EF553B"
         },
         "name": "Porcentaje de afiliados con 2 consultas",
         "offsetgroup": "Porcentaje de afiliados con 2 consultas",
         "orientation": "v",
         "showlegend": false,
         "textposition": "auto",
         "type": "bar",
         "x": [
          "especialidad",
          "prestador"
         ],
         "xaxis": "x3",
         "y": [
          0,
          0
         ],
         "yaxis": "y3"
        },
        {
         "alignmentgroup": "True",
         "hovertemplate": "consulta=Porcentaje de afiliados con 2 consultas<br>variable=2019-04-01<br>tipo=%{x}<br>Participación mensual=%{y}<extra></extra>",
         "legendgroup": "Porcentaje de afiliados con 2 consultas",
         "marker": {
          "color": "#EF553B"
         },
         "name": "Porcentaje de afiliados con 2 consultas",
         "offsetgroup": "Porcentaje de afiliados con 2 consultas",
         "orientation": "v",
         "showlegend": false,
         "textposition": "auto",
         "type": "bar",
         "x": [
          "especialidad",
          "prestador"
         ],
         "xaxis": "x4",
         "y": [
          0,
          0
         ],
         "yaxis": "y4"
        },
        {
         "alignmentgroup": "True",
         "hovertemplate": "consulta=Porcentaje de afiliados con 2 consultas<br>variable=2019-05-01<br>tipo=%{x}<br>Participación mensual=%{y}<extra></extra>",
         "legendgroup": "Porcentaje de afiliados con 2 consultas",
         "marker": {
          "color": "#EF553B"
         },
         "name": "Porcentaje de afiliados con 2 consultas",
         "offsetgroup": "Porcentaje de afiliados con 2 consultas",
         "orientation": "v",
         "showlegend": false,
         "textposition": "auto",
         "type": "bar",
         "x": [
          "especialidad",
          "prestador"
         ],
         "xaxis": "x5",
         "y": [
          0.21,
          0.33
         ],
         "yaxis": "y5"
        },
        {
         "alignmentgroup": "True",
         "hovertemplate": "consulta=Porcentaje de afiliados con 2 consultas<br>variable=2019-06-01<br>tipo=%{x}<br>Participación mensual=%{y}<extra></extra>",
         "legendgroup": "Porcentaje de afiliados con 2 consultas",
         "marker": {
          "color": "#EF553B"
         },
         "name": "Porcentaje de afiliados con 2 consultas",
         "offsetgroup": "Porcentaje de afiliados con 2 consultas",
         "orientation": "v",
         "showlegend": false,
         "textposition": "auto",
         "type": "bar",
         "x": [
          "especialidad",
          "prestador"
         ],
         "xaxis": "x6",
         "y": [
          0,
          0
         ],
         "yaxis": "y6"
        },
        {
         "alignmentgroup": "True",
         "hovertemplate": "consulta=Porcentaje de afiliados con 2 consultas<br>variable=2019-07-01<br>tipo=%{x}<br>Participación mensual=%{y}<extra></extra>",
         "legendgroup": "Porcentaje de afiliados con 2 consultas",
         "marker": {
          "color": "#EF553B"
         },
         "name": "Porcentaje de afiliados con 2 consultas",
         "offsetgroup": "Porcentaje de afiliados con 2 consultas",
         "orientation": "v",
         "showlegend": false,
         "textposition": "auto",
         "type": "bar",
         "x": [
          "especialidad",
          "prestador"
         ],
         "xaxis": "x7",
         "y": [
          0.16,
          0.05
         ],
         "yaxis": "y7"
        },
        {
         "alignmentgroup": "True",
         "hovertemplate": "consulta=Porcentaje de afiliados con 2 consultas<br>variable=2019-08-01<br>tipo=%{x}<br>Participación mensual=%{y}<extra></extra>",
         "legendgroup": "Porcentaje de afiliados con 2 consultas",
         "marker": {
          "color": "#EF553B"
         },
         "name": "Porcentaje de afiliados con 2 consultas",
         "offsetgroup": "Porcentaje de afiliados con 2 consultas",
         "orientation": "v",
         "showlegend": false,
         "textposition": "auto",
         "type": "bar",
         "x": [
          "especialidad",
          "prestador"
         ],
         "xaxis": "x8",
         "y": [
          0.17,
          0.11
         ],
         "yaxis": "y8"
        },
        {
         "alignmentgroup": "True",
         "hovertemplate": "consulta=Porcentaje de afiliados con 2 consultas<br>variable=2019-09-01<br>tipo=%{x}<br>Participación mensual=%{y}<extra></extra>",
         "legendgroup": "Porcentaje de afiliados con 2 consultas",
         "marker": {
          "color": "#EF553B"
         },
         "name": "Porcentaje de afiliados con 2 consultas",
         "offsetgroup": "Porcentaje de afiliados con 2 consultas",
         "orientation": "v",
         "showlegend": false,
         "textposition": "auto",
         "type": "bar",
         "x": [
          "especialidad",
          "prestador"
         ],
         "xaxis": "x9",
         "y": [
          0.23,
          0.22
         ],
         "yaxis": "y9"
        },
        {
         "alignmentgroup": "True",
         "hovertemplate": "consulta=Porcentaje de afiliados con 2 consultas<br>variable=2019-10-01<br>tipo=%{x}<br>Participación mensual=%{y}<extra></extra>",
         "legendgroup": "Porcentaje de afiliados con 2 consultas",
         "marker": {
          "color": "#EF553B"
         },
         "name": "Porcentaje de afiliados con 2 consultas",
         "offsetgroup": "Porcentaje de afiliados con 2 consultas",
         "orientation": "v",
         "showlegend": false,
         "textposition": "auto",
         "type": "bar",
         "x": [
          "especialidad",
          "prestador"
         ],
         "xaxis": "x10",
         "y": [
          0.17,
          0.13
         ],
         "yaxis": "y10"
        },
        {
         "alignmentgroup": "True",
         "hovertemplate": "consulta=Porcentaje de afiliados con 2 consultas<br>variable=2019-11-01<br>tipo=%{x}<br>Participación mensual=%{y}<extra></extra>",
         "legendgroup": "Porcentaje de afiliados con 2 consultas",
         "marker": {
          "color": "#EF553B"
         },
         "name": "Porcentaje de afiliados con 2 consultas",
         "offsetgroup": "Porcentaje de afiliados con 2 consultas",
         "orientation": "v",
         "showlegend": false,
         "textposition": "auto",
         "type": "bar",
         "x": [
          "especialidad",
          "prestador"
         ],
         "xaxis": "x11",
         "y": [
          0,
          0
         ],
         "yaxis": "y11"
        },
        {
         "alignmentgroup": "True",
         "hovertemplate": "consulta=Porcentaje de afiliados con 2 consultas<br>variable=2019-12-01<br>tipo=%{x}<br>Participación mensual=%{y}<extra></extra>",
         "legendgroup": "Porcentaje de afiliados con 2 consultas",
         "marker": {
          "color": "#EF553B"
         },
         "name": "Porcentaje de afiliados con 2 consultas",
         "offsetgroup": "Porcentaje de afiliados con 2 consultas",
         "orientation": "v",
         "showlegend": false,
         "textposition": "auto",
         "type": "bar",
         "x": [
          "especialidad",
          "prestador"
         ],
         "xaxis": "x12",
         "y": [
          0,
          0
         ],
         "yaxis": "y12"
        },
        {
         "alignmentgroup": "True",
         "hovertemplate": "consulta=Porcentaje de afiliados con 2 consultas<br>variable=2020-01-01<br>tipo=%{x}<br>Participación mensual=%{y}<extra></extra>",
         "legendgroup": "Porcentaje de afiliados con 2 consultas",
         "marker": {
          "color": "#EF553B"
         },
         "name": "Porcentaje de afiliados con 2 consultas",
         "offsetgroup": "Porcentaje de afiliados con 2 consultas",
         "orientation": "v",
         "showlegend": false,
         "textposition": "auto",
         "type": "bar",
         "x": [
          "especialidad",
          "prestador"
         ],
         "xaxis": "x13",
         "y": [
          0.19,
          0.12
         ],
         "yaxis": "y13"
        },
        {
         "alignmentgroup": "True",
         "hovertemplate": "consulta=Porcentaje de afiliados con 3 consultas<br>variable=2019-01-01<br>tipo=%{x}<br>Participación mensual=%{y}<extra></extra>",
         "legendgroup": "Porcentaje de afiliados con 3 consultas",
         "marker": {
          "color": "#00cc96"
         },
         "name": "Porcentaje de afiliados con 3 consultas",
         "offsetgroup": "Porcentaje de afiliados con 3 consultas",
         "orientation": "v",
         "showlegend": true,
         "textposition": "auto",
         "type": "bar",
         "x": [
          "especialidad",
          "prestador"
         ],
         "xaxis": "x",
         "y": [
          0.06,
          0
         ],
         "yaxis": "y"
        },
        {
         "alignmentgroup": "True",
         "hovertemplate": "consulta=Porcentaje de afiliados con 3 consultas<br>variable=2019-02-01<br>tipo=%{x}<br>Participación mensual=%{y}<extra></extra>",
         "legendgroup": "Porcentaje de afiliados con 3 consultas",
         "marker": {
          "color": "#00cc96"
         },
         "name": "Porcentaje de afiliados con 3 consultas",
         "offsetgroup": "Porcentaje de afiliados con 3 consultas",
         "orientation": "v",
         "showlegend": false,
         "textposition": "auto",
         "type": "bar",
         "x": [
          "especialidad",
          "prestador"
         ],
         "xaxis": "x2",
         "y": [
          0.01,
          0
         ],
         "yaxis": "y2"
        },
        {
         "alignmentgroup": "True",
         "hovertemplate": "consulta=Porcentaje de afiliados con 3 consultas<br>variable=2019-03-01<br>tipo=%{x}<br>Participación mensual=%{y}<extra></extra>",
         "legendgroup": "Porcentaje de afiliados con 3 consultas",
         "marker": {
          "color": "#00cc96"
         },
         "name": "Porcentaje de afiliados con 3 consultas",
         "offsetgroup": "Porcentaje de afiliados con 3 consultas",
         "orientation": "v",
         "showlegend": false,
         "textposition": "auto",
         "type": "bar",
         "x": [
          "especialidad",
          "prestador"
         ],
         "xaxis": "x3",
         "y": [
          0,
          0
         ],
         "yaxis": "y3"
        },
        {
         "alignmentgroup": "True",
         "hovertemplate": "consulta=Porcentaje de afiliados con 3 consultas<br>variable=2019-04-01<br>tipo=%{x}<br>Participación mensual=%{y}<extra></extra>",
         "legendgroup": "Porcentaje de afiliados con 3 consultas",
         "marker": {
          "color": "#00cc96"
         },
         "name": "Porcentaje de afiliados con 3 consultas",
         "offsetgroup": "Porcentaje de afiliados con 3 consultas",
         "orientation": "v",
         "showlegend": false,
         "textposition": "auto",
         "type": "bar",
         "x": [
          "especialidad",
          "prestador"
         ],
         "xaxis": "x4",
         "y": [
          0,
          0
         ],
         "yaxis": "y4"
        },
        {
         "alignmentgroup": "True",
         "hovertemplate": "consulta=Porcentaje de afiliados con 3 consultas<br>variable=2019-05-01<br>tipo=%{x}<br>Participación mensual=%{y}<extra></extra>",
         "legendgroup": "Porcentaje de afiliados con 3 consultas",
         "marker": {
          "color": "#00cc96"
         },
         "name": "Porcentaje de afiliados con 3 consultas",
         "offsetgroup": "Porcentaje de afiliados con 3 consultas",
         "orientation": "v",
         "showlegend": false,
         "textposition": "auto",
         "type": "bar",
         "x": [
          "especialidad",
          "prestador"
         ],
         "xaxis": "x5",
         "y": [
          0.04,
          0.07
         ],
         "yaxis": "y5"
        },
        {
         "alignmentgroup": "True",
         "hovertemplate": "consulta=Porcentaje de afiliados con 3 consultas<br>variable=2019-06-01<br>tipo=%{x}<br>Participación mensual=%{y}<extra></extra>",
         "legendgroup": "Porcentaje de afiliados con 3 consultas",
         "marker": {
          "color": "#00cc96"
         },
         "name": "Porcentaje de afiliados con 3 consultas",
         "offsetgroup": "Porcentaje de afiliados con 3 consultas",
         "orientation": "v",
         "showlegend": false,
         "textposition": "auto",
         "type": "bar",
         "x": [
          "especialidad",
          "prestador"
         ],
         "xaxis": "x6",
         "y": [
          0,
          0
         ],
         "yaxis": "y6"
        },
        {
         "alignmentgroup": "True",
         "hovertemplate": "consulta=Porcentaje de afiliados con 3 consultas<br>variable=2019-07-01<br>tipo=%{x}<br>Participación mensual=%{y}<extra></extra>",
         "legendgroup": "Porcentaje de afiliados con 3 consultas",
         "marker": {
          "color": "#00cc96"
         },
         "name": "Porcentaje de afiliados con 3 consultas",
         "offsetgroup": "Porcentaje de afiliados con 3 consultas",
         "orientation": "v",
         "showlegend": false,
         "textposition": "auto",
         "type": "bar",
         "x": [
          "especialidad",
          "prestador"
         ],
         "xaxis": "x7",
         "y": [
          0.06,
          0.07
         ],
         "yaxis": "y7"
        },
        {
         "alignmentgroup": "True",
         "hovertemplate": "consulta=Porcentaje de afiliados con 3 consultas<br>variable=2019-08-01<br>tipo=%{x}<br>Participación mensual=%{y}<extra></extra>",
         "legendgroup": "Porcentaje de afiliados con 3 consultas",
         "marker": {
          "color": "#00cc96"
         },
         "name": "Porcentaje de afiliados con 3 consultas",
         "offsetgroup": "Porcentaje de afiliados con 3 consultas",
         "orientation": "v",
         "showlegend": false,
         "textposition": "auto",
         "type": "bar",
         "x": [
          "especialidad",
          "prestador"
         ],
         "xaxis": "x8",
         "y": [
          0.08,
          0.09
         ],
         "yaxis": "y8"
        },
        {
         "alignmentgroup": "True",
         "hovertemplate": "consulta=Porcentaje de afiliados con 3 consultas<br>variable=2019-09-01<br>tipo=%{x}<br>Participación mensual=%{y}<extra></extra>",
         "legendgroup": "Porcentaje de afiliados con 3 consultas",
         "marker": {
          "color": "#00cc96"
         },
         "name": "Porcentaje de afiliados con 3 consultas",
         "offsetgroup": "Porcentaje de afiliados con 3 consultas",
         "orientation": "v",
         "showlegend": false,
         "textposition": "auto",
         "type": "bar",
         "x": [
          "especialidad",
          "prestador"
         ],
         "xaxis": "x9",
         "y": [
          0.03,
          0
         ],
         "yaxis": "y9"
        },
        {
         "alignmentgroup": "True",
         "hovertemplate": "consulta=Porcentaje de afiliados con 3 consultas<br>variable=2019-10-01<br>tipo=%{x}<br>Participación mensual=%{y}<extra></extra>",
         "legendgroup": "Porcentaje de afiliados con 3 consultas",
         "marker": {
          "color": "#00cc96"
         },
         "name": "Porcentaje de afiliados con 3 consultas",
         "offsetgroup": "Porcentaje de afiliados con 3 consultas",
         "orientation": "v",
         "showlegend": false,
         "textposition": "auto",
         "type": "bar",
         "x": [
          "especialidad",
          "prestador"
         ],
         "xaxis": "x10",
         "y": [
          0.06,
          0.05
         ],
         "yaxis": "y10"
        },
        {
         "alignmentgroup": "True",
         "hovertemplate": "consulta=Porcentaje de afiliados con 3 consultas<br>variable=2019-11-01<br>tipo=%{x}<br>Participación mensual=%{y}<extra></extra>",
         "legendgroup": "Porcentaje de afiliados con 3 consultas",
         "marker": {
          "color": "#00cc96"
         },
         "name": "Porcentaje de afiliados con 3 consultas",
         "offsetgroup": "Porcentaje de afiliados con 3 consultas",
         "orientation": "v",
         "showlegend": false,
         "textposition": "auto",
         "type": "bar",
         "x": [
          "especialidad",
          "prestador"
         ],
         "xaxis": "x11",
         "y": [
          0,
          0
         ],
         "yaxis": "y11"
        },
        {
         "alignmentgroup": "True",
         "hovertemplate": "consulta=Porcentaje de afiliados con 3 consultas<br>variable=2019-12-01<br>tipo=%{x}<br>Participación mensual=%{y}<extra></extra>",
         "legendgroup": "Porcentaje de afiliados con 3 consultas",
         "marker": {
          "color": "#00cc96"
         },
         "name": "Porcentaje de afiliados con 3 consultas",
         "offsetgroup": "Porcentaje de afiliados con 3 consultas",
         "orientation": "v",
         "showlegend": false,
         "textposition": "auto",
         "type": "bar",
         "x": [
          "especialidad",
          "prestador"
         ],
         "xaxis": "x12",
         "y": [
          0,
          0
         ],
         "yaxis": "y12"
        },
        {
         "alignmentgroup": "True",
         "hovertemplate": "consulta=Porcentaje de afiliados con 3 consultas<br>variable=2020-01-01<br>tipo=%{x}<br>Participación mensual=%{y}<extra></extra>",
         "legendgroup": "Porcentaje de afiliados con 3 consultas",
         "marker": {
          "color": "#00cc96"
         },
         "name": "Porcentaje de afiliados con 3 consultas",
         "offsetgroup": "Porcentaje de afiliados con 3 consultas",
         "orientation": "v",
         "showlegend": false,
         "textposition": "auto",
         "type": "bar",
         "x": [
          "especialidad",
          "prestador"
         ],
         "xaxis": "x13",
         "y": [
          0.02,
          0.06
         ],
         "yaxis": "y13"
        },
        {
         "alignmentgroup": "True",
         "hovertemplate": "consulta=Porcentaje de afiliados con 4 consultas<br>variable=2019-01-01<br>tipo=%{x}<br>Participación mensual=%{y}<extra></extra>",
         "legendgroup": "Porcentaje de afiliados con 4 consultas",
         "marker": {
          "color": "#ab63fa"
         },
         "name": "Porcentaje de afiliados con 4 consultas",
         "offsetgroup": "Porcentaje de afiliados con 4 consultas",
         "orientation": "v",
         "showlegend": true,
         "textposition": "auto",
         "type": "bar",
         "x": [
          "especialidad",
          "prestador"
         ],
         "xaxis": "x",
         "y": [
          0.02,
          0
         ],
         "yaxis": "y"
        },
        {
         "alignmentgroup": "True",
         "hovertemplate": "consulta=Porcentaje de afiliados con 4 consultas<br>variable=2019-02-01<br>tipo=%{x}<br>Participación mensual=%{y}<extra></extra>",
         "legendgroup": "Porcentaje de afiliados con 4 consultas",
         "marker": {
          "color": "#ab63fa"
         },
         "name": "Porcentaje de afiliados con 4 consultas",
         "offsetgroup": "Porcentaje de afiliados con 4 consultas",
         "orientation": "v",
         "showlegend": false,
         "textposition": "auto",
         "type": "bar",
         "x": [
          "especialidad",
          "prestador"
         ],
         "xaxis": "x2",
         "y": [
          0,
          0
         ],
         "yaxis": "y2"
        },
        {
         "alignmentgroup": "True",
         "hovertemplate": "consulta=Porcentaje de afiliados con 4 consultas<br>variable=2019-03-01<br>tipo=%{x}<br>Participación mensual=%{y}<extra></extra>",
         "legendgroup": "Porcentaje de afiliados con 4 consultas",
         "marker": {
          "color": "#ab63fa"
         },
         "name": "Porcentaje de afiliados con 4 consultas",
         "offsetgroup": "Porcentaje de afiliados con 4 consultas",
         "orientation": "v",
         "showlegend": false,
         "textposition": "auto",
         "type": "bar",
         "x": [
          "especialidad",
          "prestador"
         ],
         "xaxis": "x3",
         "y": [
          0,
          0
         ],
         "yaxis": "y3"
        },
        {
         "alignmentgroup": "True",
         "hovertemplate": "consulta=Porcentaje de afiliados con 4 consultas<br>variable=2019-04-01<br>tipo=%{x}<br>Participación mensual=%{y}<extra></extra>",
         "legendgroup": "Porcentaje de afiliados con 4 consultas",
         "marker": {
          "color": "#ab63fa"
         },
         "name": "Porcentaje de afiliados con 4 consultas",
         "offsetgroup": "Porcentaje de afiliados con 4 consultas",
         "orientation": "v",
         "showlegend": false,
         "textposition": "auto",
         "type": "bar",
         "x": [
          "especialidad",
          "prestador"
         ],
         "xaxis": "x4",
         "y": [
          0,
          0
         ],
         "yaxis": "y4"
        },
        {
         "alignmentgroup": "True",
         "hovertemplate": "consulta=Porcentaje de afiliados con 4 consultas<br>variable=2019-05-01<br>tipo=%{x}<br>Participación mensual=%{y}<extra></extra>",
         "legendgroup": "Porcentaje de afiliados con 4 consultas",
         "marker": {
          "color": "#ab63fa"
         },
         "name": "Porcentaje de afiliados con 4 consultas",
         "offsetgroup": "Porcentaje de afiliados con 4 consultas",
         "orientation": "v",
         "showlegend": false,
         "textposition": "auto",
         "type": "bar",
         "x": [
          "especialidad",
          "prestador"
         ],
         "xaxis": "x5",
         "y": [
          0,
          0
         ],
         "yaxis": "y5"
        },
        {
         "alignmentgroup": "True",
         "hovertemplate": "consulta=Porcentaje de afiliados con 4 consultas<br>variable=2019-06-01<br>tipo=%{x}<br>Participación mensual=%{y}<extra></extra>",
         "legendgroup": "Porcentaje de afiliados con 4 consultas",
         "marker": {
          "color": "#ab63fa"
         },
         "name": "Porcentaje de afiliados con 4 consultas",
         "offsetgroup": "Porcentaje de afiliados con 4 consultas",
         "orientation": "v",
         "showlegend": false,
         "textposition": "auto",
         "type": "bar",
         "x": [
          "especialidad",
          "prestador"
         ],
         "xaxis": "x6",
         "y": [
          0,
          0
         ],
         "yaxis": "y6"
        },
        {
         "alignmentgroup": "True",
         "hovertemplate": "consulta=Porcentaje de afiliados con 4 consultas<br>variable=2019-07-01<br>tipo=%{x}<br>Participación mensual=%{y}<extra></extra>",
         "legendgroup": "Porcentaje de afiliados con 4 consultas",
         "marker": {
          "color": "#ab63fa"
         },
         "name": "Porcentaje de afiliados con 4 consultas",
         "offsetgroup": "Porcentaje de afiliados con 4 consultas",
         "orientation": "v",
         "showlegend": false,
         "textposition": "auto",
         "type": "bar",
         "x": [
          "especialidad",
          "prestador"
         ],
         "xaxis": "x7",
         "y": [
          0,
          0
         ],
         "yaxis": "y7"
        },
        {
         "alignmentgroup": "True",
         "hovertemplate": "consulta=Porcentaje de afiliados con 4 consultas<br>variable=2019-08-01<br>tipo=%{x}<br>Participación mensual=%{y}<extra></extra>",
         "legendgroup": "Porcentaje de afiliados con 4 consultas",
         "marker": {
          "color": "#ab63fa"
         },
         "name": "Porcentaje de afiliados con 4 consultas",
         "offsetgroup": "Porcentaje de afiliados con 4 consultas",
         "orientation": "v",
         "showlegend": false,
         "textposition": "auto",
         "type": "bar",
         "x": [
          "especialidad",
          "prestador"
         ],
         "xaxis": "x8",
         "y": [
          0,
          0
         ],
         "yaxis": "y8"
        },
        {
         "alignmentgroup": "True",
         "hovertemplate": "consulta=Porcentaje de afiliados con 4 consultas<br>variable=2019-09-01<br>tipo=%{x}<br>Participación mensual=%{y}<extra></extra>",
         "legendgroup": "Porcentaje de afiliados con 4 consultas",
         "marker": {
          "color": "#ab63fa"
         },
         "name": "Porcentaje de afiliados con 4 consultas",
         "offsetgroup": "Porcentaje de afiliados con 4 consultas",
         "orientation": "v",
         "showlegend": false,
         "textposition": "auto",
         "type": "bar",
         "x": [
          "especialidad",
          "prestador"
         ],
         "xaxis": "x9",
         "y": [
          0.01,
          0
         ],
         "yaxis": "y9"
        },
        {
         "alignmentgroup": "True",
         "hovertemplate": "consulta=Porcentaje de afiliados con 4 consultas<br>variable=2019-10-01<br>tipo=%{x}<br>Participación mensual=%{y}<extra></extra>",
         "legendgroup": "Porcentaje de afiliados con 4 consultas",
         "marker": {
          "color": "#ab63fa"
         },
         "name": "Porcentaje de afiliados con 4 consultas",
         "offsetgroup": "Porcentaje de afiliados con 4 consultas",
         "orientation": "v",
         "showlegend": false,
         "textposition": "auto",
         "type": "bar",
         "x": [
          "especialidad",
          "prestador"
         ],
         "xaxis": "x10",
         "y": [
          0.01,
          0
         ],
         "yaxis": "y10"
        },
        {
         "alignmentgroup": "True",
         "hovertemplate": "consulta=Porcentaje de afiliados con 4 consultas<br>variable=2019-11-01<br>tipo=%{x}<br>Participación mensual=%{y}<extra></extra>",
         "legendgroup": "Porcentaje de afiliados con 4 consultas",
         "marker": {
          "color": "#ab63fa"
         },
         "name": "Porcentaje de afiliados con 4 consultas",
         "offsetgroup": "Porcentaje de afiliados con 4 consultas",
         "orientation": "v",
         "showlegend": false,
         "textposition": "auto",
         "type": "bar",
         "x": [
          "especialidad",
          "prestador"
         ],
         "xaxis": "x11",
         "y": [
          0,
          0
         ],
         "yaxis": "y11"
        },
        {
         "alignmentgroup": "True",
         "hovertemplate": "consulta=Porcentaje de afiliados con 4 consultas<br>variable=2019-12-01<br>tipo=%{x}<br>Participación mensual=%{y}<extra></extra>",
         "legendgroup": "Porcentaje de afiliados con 4 consultas",
         "marker": {
          "color": "#ab63fa"
         },
         "name": "Porcentaje de afiliados con 4 consultas",
         "offsetgroup": "Porcentaje de afiliados con 4 consultas",
         "orientation": "v",
         "showlegend": false,
         "textposition": "auto",
         "type": "bar",
         "x": [
          "especialidad",
          "prestador"
         ],
         "xaxis": "x12",
         "y": [
          0,
          0
         ],
         "yaxis": "y12"
        },
        {
         "alignmentgroup": "True",
         "hovertemplate": "consulta=Porcentaje de afiliados con 4 consultas<br>variable=2020-01-01<br>tipo=%{x}<br>Participación mensual=%{y}<extra></extra>",
         "legendgroup": "Porcentaje de afiliados con 4 consultas",
         "marker": {
          "color": "#ab63fa"
         },
         "name": "Porcentaje de afiliados con 4 consultas",
         "offsetgroup": "Porcentaje de afiliados con 4 consultas",
         "orientation": "v",
         "showlegend": false,
         "textposition": "auto",
         "type": "bar",
         "x": [
          "especialidad",
          "prestador"
         ],
         "xaxis": "x13",
         "y": [
          0.02,
          0.08
         ],
         "yaxis": "y13"
        },
        {
         "alignmentgroup": "True",
         "hovertemplate": "consulta=Porcentaje de afiliados con más de 4 consultas<br>variable=2019-01-01<br>tipo=%{x}<br>Participación mensual=%{y}<extra></extra>",
         "legendgroup": "Porcentaje de afiliados con más de 4 consultas",
         "marker": {
          "color": "#FFA15A"
         },
         "name": "Porcentaje de afiliados con más de 4 consultas",
         "offsetgroup": "Porcentaje de afiliados con más de 4 consultas",
         "orientation": "v",
         "showlegend": true,
         "textposition": "auto",
         "type": "bar",
         "x": [
          "especialidad",
          "prestador"
         ],
         "xaxis": "x",
         "y": [
          0,
          0
         ],
         "yaxis": "y"
        },
        {
         "alignmentgroup": "True",
         "hovertemplate": "consulta=Porcentaje de afiliados con más de 4 consultas<br>variable=2019-02-01<br>tipo=%{x}<br>Participación mensual=%{y}<extra></extra>",
         "legendgroup": "Porcentaje de afiliados con más de 4 consultas",
         "marker": {
          "color": "#FFA15A"
         },
         "name": "Porcentaje de afiliados con más de 4 consultas",
         "offsetgroup": "Porcentaje de afiliados con más de 4 consultas",
         "orientation": "v",
         "showlegend": false,
         "textposition": "auto",
         "type": "bar",
         "x": [
          "especialidad",
          "prestador"
         ],
         "xaxis": "x2",
         "y": [
          0,
          0
         ],
         "yaxis": "y2"
        },
        {
         "alignmentgroup": "True",
         "hovertemplate": "consulta=Porcentaje de afiliados con más de 4 consultas<br>variable=2019-03-01<br>tipo=%{x}<br>Participación mensual=%{y}<extra></extra>",
         "legendgroup": "Porcentaje de afiliados con más de 4 consultas",
         "marker": {
          "color": "#FFA15A"
         },
         "name": "Porcentaje de afiliados con más de 4 consultas",
         "offsetgroup": "Porcentaje de afiliados con más de 4 consultas",
         "orientation": "v",
         "showlegend": false,
         "textposition": "auto",
         "type": "bar",
         "x": [
          "especialidad",
          "prestador"
         ],
         "xaxis": "x3",
         "y": [
          0,
          0
         ],
         "yaxis": "y3"
        },
        {
         "alignmentgroup": "True",
         "hovertemplate": "consulta=Porcentaje de afiliados con más de 4 consultas<br>variable=2019-04-01<br>tipo=%{x}<br>Participación mensual=%{y}<extra></extra>",
         "legendgroup": "Porcentaje de afiliados con más de 4 consultas",
         "marker": {
          "color": "#FFA15A"
         },
         "name": "Porcentaje de afiliados con más de 4 consultas",
         "offsetgroup": "Porcentaje de afiliados con más de 4 consultas",
         "orientation": "v",
         "showlegend": false,
         "textposition": "auto",
         "type": "bar",
         "x": [
          "especialidad",
          "prestador"
         ],
         "xaxis": "x4",
         "y": [
          0,
          0
         ],
         "yaxis": "y4"
        },
        {
         "alignmentgroup": "True",
         "hovertemplate": "consulta=Porcentaje de afiliados con más de 4 consultas<br>variable=2019-05-01<br>tipo=%{x}<br>Participación mensual=%{y}<extra></extra>",
         "legendgroup": "Porcentaje de afiliados con más de 4 consultas",
         "marker": {
          "color": "#FFA15A"
         },
         "name": "Porcentaje de afiliados con más de 4 consultas",
         "offsetgroup": "Porcentaje de afiliados con más de 4 consultas",
         "orientation": "v",
         "showlegend": false,
         "textposition": "auto",
         "type": "bar",
         "x": [
          "especialidad",
          "prestador"
         ],
         "xaxis": "x5",
         "y": [
          0,
          0
         ],
         "yaxis": "y5"
        },
        {
         "alignmentgroup": "True",
         "hovertemplate": "consulta=Porcentaje de afiliados con más de 4 consultas<br>variable=2019-06-01<br>tipo=%{x}<br>Participación mensual=%{y}<extra></extra>",
         "legendgroup": "Porcentaje de afiliados con más de 4 consultas",
         "marker": {
          "color": "#FFA15A"
         },
         "name": "Porcentaje de afiliados con más de 4 consultas",
         "offsetgroup": "Porcentaje de afiliados con más de 4 consultas",
         "orientation": "v",
         "showlegend": false,
         "textposition": "auto",
         "type": "bar",
         "x": [
          "especialidad",
          "prestador"
         ],
         "xaxis": "x6",
         "y": [
          0,
          0
         ],
         "yaxis": "y6"
        },
        {
         "alignmentgroup": "True",
         "hovertemplate": "consulta=Porcentaje de afiliados con más de 4 consultas<br>variable=2019-07-01<br>tipo=%{x}<br>Participación mensual=%{y}<extra></extra>",
         "legendgroup": "Porcentaje de afiliados con más de 4 consultas",
         "marker": {
          "color": "#FFA15A"
         },
         "name": "Porcentaje de afiliados con más de 4 consultas",
         "offsetgroup": "Porcentaje de afiliados con más de 4 consultas",
         "orientation": "v",
         "showlegend": false,
         "textposition": "auto",
         "type": "bar",
         "x": [
          "especialidad",
          "prestador"
         ],
         "xaxis": "x7",
         "y": [
          0,
          0
         ],
         "yaxis": "y7"
        },
        {
         "alignmentgroup": "True",
         "hovertemplate": "consulta=Porcentaje de afiliados con más de 4 consultas<br>variable=2019-08-01<br>tipo=%{x}<br>Participación mensual=%{y}<extra></extra>",
         "legendgroup": "Porcentaje de afiliados con más de 4 consultas",
         "marker": {
          "color": "#FFA15A"
         },
         "name": "Porcentaje de afiliados con más de 4 consultas",
         "offsetgroup": "Porcentaje de afiliados con más de 4 consultas",
         "orientation": "v",
         "showlegend": false,
         "textposition": "auto",
         "type": "bar",
         "x": [
          "especialidad",
          "prestador"
         ],
         "xaxis": "x8",
         "y": [
          0,
          0
         ],
         "yaxis": "y8"
        },
        {
         "alignmentgroup": "True",
         "hovertemplate": "consulta=Porcentaje de afiliados con más de 4 consultas<br>variable=2019-09-01<br>tipo=%{x}<br>Participación mensual=%{y}<extra></extra>",
         "legendgroup": "Porcentaje de afiliados con más de 4 consultas",
         "marker": {
          "color": "#FFA15A"
         },
         "name": "Porcentaje de afiliados con más de 4 consultas",
         "offsetgroup": "Porcentaje de afiliados con más de 4 consultas",
         "orientation": "v",
         "showlegend": false,
         "textposition": "auto",
         "type": "bar",
         "x": [
          "especialidad",
          "prestador"
         ],
         "xaxis": "x9",
         "y": [
          0,
          0
         ],
         "yaxis": "y9"
        },
        {
         "alignmentgroup": "True",
         "hovertemplate": "consulta=Porcentaje de afiliados con más de 4 consultas<br>variable=2019-10-01<br>tipo=%{x}<br>Participación mensual=%{y}<extra></extra>",
         "legendgroup": "Porcentaje de afiliados con más de 4 consultas",
         "marker": {
          "color": "#FFA15A"
         },
         "name": "Porcentaje de afiliados con más de 4 consultas",
         "offsetgroup": "Porcentaje de afiliados con más de 4 consultas",
         "orientation": "v",
         "showlegend": false,
         "textposition": "auto",
         "type": "bar",
         "x": [
          "especialidad",
          "prestador"
         ],
         "xaxis": "x10",
         "y": [
          0.01,
          0
         ],
         "yaxis": "y10"
        },
        {
         "alignmentgroup": "True",
         "hovertemplate": "consulta=Porcentaje de afiliados con más de 4 consultas<br>variable=2019-11-01<br>tipo=%{x}<br>Participación mensual=%{y}<extra></extra>",
         "legendgroup": "Porcentaje de afiliados con más de 4 consultas",
         "marker": {
          "color": "#FFA15A"
         },
         "name": "Porcentaje de afiliados con más de 4 consultas",
         "offsetgroup": "Porcentaje de afiliados con más de 4 consultas",
         "orientation": "v",
         "showlegend": false,
         "textposition": "auto",
         "type": "bar",
         "x": [
          "especialidad",
          "prestador"
         ],
         "xaxis": "x11",
         "y": [
          0,
          0
         ],
         "yaxis": "y11"
        },
        {
         "alignmentgroup": "True",
         "hovertemplate": "consulta=Porcentaje de afiliados con más de 4 consultas<br>variable=2019-12-01<br>tipo=%{x}<br>Participación mensual=%{y}<extra></extra>",
         "legendgroup": "Porcentaje de afiliados con más de 4 consultas",
         "marker": {
          "color": "#FFA15A"
         },
         "name": "Porcentaje de afiliados con más de 4 consultas",
         "offsetgroup": "Porcentaje de afiliados con más de 4 consultas",
         "orientation": "v",
         "showlegend": false,
         "textposition": "auto",
         "type": "bar",
         "x": [
          "especialidad",
          "prestador"
         ],
         "xaxis": "x12",
         "y": [
          0,
          0
         ],
         "yaxis": "y12"
        },
        {
         "alignmentgroup": "True",
         "hovertemplate": "consulta=Porcentaje de afiliados con más de 4 consultas<br>variable=2020-01-01<br>tipo=%{x}<br>Participación mensual=%{y}<extra></extra>",
         "legendgroup": "Porcentaje de afiliados con más de 4 consultas",
         "marker": {
          "color": "#FFA15A"
         },
         "name": "Porcentaje de afiliados con más de 4 consultas",
         "offsetgroup": "Porcentaje de afiliados con más de 4 consultas",
         "orientation": "v",
         "showlegend": false,
         "textposition": "auto",
         "type": "bar",
         "x": [
          "especialidad",
          "prestador"
         ],
         "xaxis": "x13",
         "y": [
          0,
          0
         ],
         "yaxis": "y13"
        }
       ],
       "layout": {
        "annotations": [
         {
          "font": {},
          "showarrow": false,
          "text": "variable=2019-01-01",
          "x": 0.029230769230769234,
          "xanchor": "center",
          "xref": "paper",
          "y": 1,
          "yanchor": "bottom",
          "yref": "paper"
         },
         {
          "font": {},
          "showarrow": false,
          "text": "variable=2019-02-01",
          "x": 0.1076923076923077,
          "xanchor": "center",
          "xref": "paper",
          "y": 1,
          "yanchor": "bottom",
          "yref": "paper"
         },
         {
          "font": {},
          "showarrow": false,
          "text": "variable=2019-03-01",
          "x": 0.18615384615384617,
          "xanchor": "center",
          "xref": "paper",
          "y": 1,
          "yanchor": "bottom",
          "yref": "paper"
         },
         {
          "font": {},
          "showarrow": false,
          "text": "variable=2019-04-01",
          "x": 0.26461538461538464,
          "xanchor": "center",
          "xref": "paper",
          "y": 1,
          "yanchor": "bottom",
          "yref": "paper"
         },
         {
          "font": {},
          "showarrow": false,
          "text": "variable=2019-05-01",
          "x": 0.3430769230769231,
          "xanchor": "center",
          "xref": "paper",
          "y": 1,
          "yanchor": "bottom",
          "yref": "paper"
         },
         {
          "font": {},
          "showarrow": false,
          "text": "variable=2019-06-01",
          "x": 0.4215384615384616,
          "xanchor": "center",
          "xref": "paper",
          "y": 1,
          "yanchor": "bottom",
          "yref": "paper"
         },
         {
          "font": {},
          "showarrow": false,
          "text": "variable=2019-07-01",
          "x": 0.5,
          "xanchor": "center",
          "xref": "paper",
          "y": 1,
          "yanchor": "bottom",
          "yref": "paper"
         },
         {
          "font": {},
          "showarrow": false,
          "text": "variable=2019-08-01",
          "x": 0.5784615384615384,
          "xanchor": "center",
          "xref": "paper",
          "y": 1,
          "yanchor": "bottom",
          "yref": "paper"
         },
         {
          "font": {},
          "showarrow": false,
          "text": "variable=2019-09-01",
          "x": 0.6569230769230769,
          "xanchor": "center",
          "xref": "paper",
          "y": 1,
          "yanchor": "bottom",
          "yref": "paper"
         },
         {
          "font": {},
          "showarrow": false,
          "text": "variable=2019-10-01",
          "x": 0.7353846153846153,
          "xanchor": "center",
          "xref": "paper",
          "y": 1,
          "yanchor": "bottom",
          "yref": "paper"
         },
         {
          "font": {},
          "showarrow": false,
          "text": "variable=2019-11-01",
          "x": 0.8138461538461539,
          "xanchor": "center",
          "xref": "paper",
          "y": 1,
          "yanchor": "bottom",
          "yref": "paper"
         },
         {
          "font": {},
          "showarrow": false,
          "text": "variable=2019-12-01",
          "x": 0.8923076923076922,
          "xanchor": "center",
          "xref": "paper",
          "y": 1,
          "yanchor": "bottom",
          "yref": "paper"
         },
         {
          "font": {},
          "showarrow": false,
          "text": "variable=2020-01-01",
          "x": 0.9707692307692308,
          "xanchor": "center",
          "xref": "paper",
          "y": 1,
          "yanchor": "bottom",
          "yref": "paper"
         }
        ],
        "barmode": "stack",
        "legend": {
         "orientation": "h",
         "x": 0.5,
         "xanchor": "center",
         "y": 1.4
        },
        "margin": {
         "t": 60
        },
        "template": {
         "data": {
          "bar": [
           {
            "error_x": {
             "color": "#2a3f5f"
            },
            "error_y": {
             "color": "#2a3f5f"
            },
            "marker": {
             "line": {
              "color": "#E5ECF6",
              "width": 0.5
             }
            },
            "type": "bar"
           }
          ],
          "barpolar": [
           {
            "marker": {
             "line": {
              "color": "#E5ECF6",
              "width": 0.5
             }
            },
            "type": "barpolar"
           }
          ],
          "carpet": [
           {
            "aaxis": {
             "endlinecolor": "#2a3f5f",
             "gridcolor": "white",
             "linecolor": "white",
             "minorgridcolor": "white",
             "startlinecolor": "#2a3f5f"
            },
            "baxis": {
             "endlinecolor": "#2a3f5f",
             "gridcolor": "white",
             "linecolor": "white",
             "minorgridcolor": "white",
             "startlinecolor": "#2a3f5f"
            },
            "type": "carpet"
           }
          ],
          "choropleth": [
           {
            "colorbar": {
             "outlinewidth": 0,
             "ticks": ""
            },
            "type": "choropleth"
           }
          ],
          "contour": [
           {
            "colorbar": {
             "outlinewidth": 0,
             "ticks": ""
            },
            "colorscale": [
             [
              0,
              "#0d0887"
             ],
             [
              0.1111111111111111,
              "#46039f"
             ],
             [
              0.2222222222222222,
              "#7201a8"
             ],
             [
              0.3333333333333333,
              "#9c179e"
             ],
             [
              0.4444444444444444,
              "#bd3786"
             ],
             [
              0.5555555555555556,
              "#d8576b"
             ],
             [
              0.6666666666666666,
              "#ed7953"
             ],
             [
              0.7777777777777778,
              "#fb9f3a"
             ],
             [
              0.8888888888888888,
              "#fdca26"
             ],
             [
              1,
              "#f0f921"
             ]
            ],
            "type": "contour"
           }
          ],
          "contourcarpet": [
           {
            "colorbar": {
             "outlinewidth": 0,
             "ticks": ""
            },
            "type": "contourcarpet"
           }
          ],
          "heatmap": [
           {
            "colorbar": {
             "outlinewidth": 0,
             "ticks": ""
            },
            "colorscale": [
             [
              0,
              "#0d0887"
             ],
             [
              0.1111111111111111,
              "#46039f"
             ],
             [
              0.2222222222222222,
              "#7201a8"
             ],
             [
              0.3333333333333333,
              "#9c179e"
             ],
             [
              0.4444444444444444,
              "#bd3786"
             ],
             [
              0.5555555555555556,
              "#d8576b"
             ],
             [
              0.6666666666666666,
              "#ed7953"
             ],
             [
              0.7777777777777778,
              "#fb9f3a"
             ],
             [
              0.8888888888888888,
              "#fdca26"
             ],
             [
              1,
              "#f0f921"
             ]
            ],
            "type": "heatmap"
           }
          ],
          "heatmapgl": [
           {
            "colorbar": {
             "outlinewidth": 0,
             "ticks": ""
            },
            "colorscale": [
             [
              0,
              "#0d0887"
             ],
             [
              0.1111111111111111,
              "#46039f"
             ],
             [
              0.2222222222222222,
              "#7201a8"
             ],
             [
              0.3333333333333333,
              "#9c179e"
             ],
             [
              0.4444444444444444,
              "#bd3786"
             ],
             [
              0.5555555555555556,
              "#d8576b"
             ],
             [
              0.6666666666666666,
              "#ed7953"
             ],
             [
              0.7777777777777778,
              "#fb9f3a"
             ],
             [
              0.8888888888888888,
              "#fdca26"
             ],
             [
              1,
              "#f0f921"
             ]
            ],
            "type": "heatmapgl"
           }
          ],
          "histogram": [
           {
            "marker": {
             "colorbar": {
              "outlinewidth": 0,
              "ticks": ""
             }
            },
            "type": "histogram"
           }
          ],
          "histogram2d": [
           {
            "colorbar": {
             "outlinewidth": 0,
             "ticks": ""
            },
            "colorscale": [
             [
              0,
              "#0d0887"
             ],
             [
              0.1111111111111111,
              "#46039f"
             ],
             [
              0.2222222222222222,
              "#7201a8"
             ],
             [
              0.3333333333333333,
              "#9c179e"
             ],
             [
              0.4444444444444444,
              "#bd3786"
             ],
             [
              0.5555555555555556,
              "#d8576b"
             ],
             [
              0.6666666666666666,
              "#ed7953"
             ],
             [
              0.7777777777777778,
              "#fb9f3a"
             ],
             [
              0.8888888888888888,
              "#fdca26"
             ],
             [
              1,
              "#f0f921"
             ]
            ],
            "type": "histogram2d"
           }
          ],
          "histogram2dcontour": [
           {
            "colorbar": {
             "outlinewidth": 0,
             "ticks": ""
            },
            "colorscale": [
             [
              0,
              "#0d0887"
             ],
             [
              0.1111111111111111,
              "#46039f"
             ],
             [
              0.2222222222222222,
              "#7201a8"
             ],
             [
              0.3333333333333333,
              "#9c179e"
             ],
             [
              0.4444444444444444,
              "#bd3786"
             ],
             [
              0.5555555555555556,
              "#d8576b"
             ],
             [
              0.6666666666666666,
              "#ed7953"
             ],
             [
              0.7777777777777778,
              "#fb9f3a"
             ],
             [
              0.8888888888888888,
              "#fdca26"
             ],
             [
              1,
              "#f0f921"
             ]
            ],
            "type": "histogram2dcontour"
           }
          ],
          "mesh3d": [
           {
            "colorbar": {
             "outlinewidth": 0,
             "ticks": ""
            },
            "type": "mesh3d"
           }
          ],
          "parcoords": [
           {
            "line": {
             "colorbar": {
              "outlinewidth": 0,
              "ticks": ""
             }
            },
            "type": "parcoords"
           }
          ],
          "pie": [
           {
            "automargin": true,
            "type": "pie"
           }
          ],
          "scatter": [
           {
            "marker": {
             "colorbar": {
              "outlinewidth": 0,
              "ticks": ""
             }
            },
            "type": "scatter"
           }
          ],
          "scatter3d": [
           {
            "line": {
             "colorbar": {
              "outlinewidth": 0,
              "ticks": ""
             }
            },
            "marker": {
             "colorbar": {
              "outlinewidth": 0,
              "ticks": ""
             }
            },
            "type": "scatter3d"
           }
          ],
          "scattercarpet": [
           {
            "marker": {
             "colorbar": {
              "outlinewidth": 0,
              "ticks": ""
             }
            },
            "type": "scattercarpet"
           }
          ],
          "scattergeo": [
           {
            "marker": {
             "colorbar": {
              "outlinewidth": 0,
              "ticks": ""
             }
            },
            "type": "scattergeo"
           }
          ],
          "scattergl": [
           {
            "marker": {
             "colorbar": {
              "outlinewidth": 0,
              "ticks": ""
             }
            },
            "type": "scattergl"
           }
          ],
          "scattermapbox": [
           {
            "marker": {
             "colorbar": {
              "outlinewidth": 0,
              "ticks": ""
             }
            },
            "type": "scattermapbox"
           }
          ],
          "scatterpolar": [
           {
            "marker": {
             "colorbar": {
              "outlinewidth": 0,
              "ticks": ""
             }
            },
            "type": "scatterpolar"
           }
          ],
          "scatterpolargl": [
           {
            "marker": {
             "colorbar": {
              "outlinewidth": 0,
              "ticks": ""
             }
            },
            "type": "scatterpolargl"
           }
          ],
          "scatterternary": [
           {
            "marker": {
             "colorbar": {
              "outlinewidth": 0,
              "ticks": ""
             }
            },
            "type": "scatterternary"
           }
          ],
          "surface": [
           {
            "colorbar": {
             "outlinewidth": 0,
             "ticks": ""
            },
            "colorscale": [
             [
              0,
              "#0d0887"
             ],
             [
              0.1111111111111111,
              "#46039f"
             ],
             [
              0.2222222222222222,
              "#7201a8"
             ],
             [
              0.3333333333333333,
              "#9c179e"
             ],
             [
              0.4444444444444444,
              "#bd3786"
             ],
             [
              0.5555555555555556,
              "#d8576b"
             ],
             [
              0.6666666666666666,
              "#ed7953"
             ],
             [
              0.7777777777777778,
              "#fb9f3a"
             ],
             [
              0.8888888888888888,
              "#fdca26"
             ],
             [
              1,
              "#f0f921"
             ]
            ],
            "type": "surface"
           }
          ],
          "table": [
           {
            "cells": {
             "fill": {
              "color": "#EBF0F8"
             },
             "line": {
              "color": "white"
             }
            },
            "header": {
             "fill": {
              "color": "#C8D4E3"
             },
             "line": {
              "color": "white"
             }
            },
            "type": "table"
           }
          ]
         },
         "layout": {
          "annotationdefaults": {
           "arrowcolor": "#2a3f5f",
           "arrowhead": 0,
           "arrowwidth": 1
          },
          "coloraxis": {
           "colorbar": {
            "outlinewidth": 0,
            "ticks": ""
           }
          },
          "colorscale": {
           "diverging": [
            [
             0,
             "#8e0152"
            ],
            [
             0.1,
             "#c51b7d"
            ],
            [
             0.2,
             "#de77ae"
            ],
            [
             0.3,
             "#f1b6da"
            ],
            [
             0.4,
             "#fde0ef"
            ],
            [
             0.5,
             "#f7f7f7"
            ],
            [
             0.6,
             "#e6f5d0"
            ],
            [
             0.7,
             "#b8e186"
            ],
            [
             0.8,
             "#7fbc41"
            ],
            [
             0.9,
             "#4d9221"
            ],
            [
             1,
             "#276419"
            ]
           ],
           "sequential": [
            [
             0,
             "#0d0887"
            ],
            [
             0.1111111111111111,
             "#46039f"
            ],
            [
             0.2222222222222222,
             "#7201a8"
            ],
            [
             0.3333333333333333,
             "#9c179e"
            ],
            [
             0.4444444444444444,
             "#bd3786"
            ],
            [
             0.5555555555555556,
             "#d8576b"
            ],
            [
             0.6666666666666666,
             "#ed7953"
            ],
            [
             0.7777777777777778,
             "#fb9f3a"
            ],
            [
             0.8888888888888888,
             "#fdca26"
            ],
            [
             1,
             "#f0f921"
            ]
           ],
           "sequentialminus": [
            [
             0,
             "#0d0887"
            ],
            [
             0.1111111111111111,
             "#46039f"
            ],
            [
             0.2222222222222222,
             "#7201a8"
            ],
            [
             0.3333333333333333,
             "#9c179e"
            ],
            [
             0.4444444444444444,
             "#bd3786"
            ],
            [
             0.5555555555555556,
             "#d8576b"
            ],
            [
             0.6666666666666666,
             "#ed7953"
            ],
            [
             0.7777777777777778,
             "#fb9f3a"
            ],
            [
             0.8888888888888888,
             "#fdca26"
            ],
            [
             1,
             "#f0f921"
            ]
           ]
          },
          "colorway": [
           "#636efa",
           "#EF553B",
           "#00cc96",
           "#ab63fa",
           "#FFA15A",
           "#19d3f3",
           "#FF6692",
           "#B6E880",
           "#FF97FF",
           "#FECB52"
          ],
          "font": {
           "color": "#2a3f5f"
          },
          "geo": {
           "bgcolor": "white",
           "lakecolor": "white",
           "landcolor": "#E5ECF6",
           "showlakes": true,
           "showland": true,
           "subunitcolor": "white"
          },
          "hoverlabel": {
           "align": "left"
          },
          "hovermode": "closest",
          "mapbox": {
           "style": "light"
          },
          "paper_bgcolor": "white",
          "plot_bgcolor": "#E5ECF6",
          "polar": {
           "angularaxis": {
            "gridcolor": "white",
            "linecolor": "white",
            "ticks": ""
           },
           "bgcolor": "#E5ECF6",
           "radialaxis": {
            "gridcolor": "white",
            "linecolor": "white",
            "ticks": ""
           }
          },
          "scene": {
           "xaxis": {
            "backgroundcolor": "#E5ECF6",
            "gridcolor": "white",
            "gridwidth": 2,
            "linecolor": "white",
            "showbackground": true,
            "ticks": "",
            "zerolinecolor": "white"
           },
           "yaxis": {
            "backgroundcolor": "#E5ECF6",
            "gridcolor": "white",
            "gridwidth": 2,
            "linecolor": "white",
            "showbackground": true,
            "ticks": "",
            "zerolinecolor": "white"
           },
           "zaxis": {
            "backgroundcolor": "#E5ECF6",
            "gridcolor": "white",
            "gridwidth": 2,
            "linecolor": "white",
            "showbackground": true,
            "ticks": "",
            "zerolinecolor": "white"
           }
          },
          "shapedefaults": {
           "line": {
            "color": "#2a3f5f"
           }
          },
          "ternary": {
           "aaxis": {
            "gridcolor": "white",
            "linecolor": "white",
            "ticks": ""
           },
           "baxis": {
            "gridcolor": "white",
            "linecolor": "white",
            "ticks": ""
           },
           "bgcolor": "#E5ECF6",
           "caxis": {
            "gridcolor": "white",
            "linecolor": "white",
            "ticks": ""
           }
          },
          "title": {
           "x": 0.05
          },
          "xaxis": {
           "automargin": true,
           "gridcolor": "white",
           "linecolor": "white",
           "ticks": "",
           "title": {
            "standoff": 15
           },
           "zerolinecolor": "white",
           "zerolinewidth": 2
          },
          "yaxis": {
           "automargin": true,
           "gridcolor": "white",
           "linecolor": "white",
           "ticks": "",
           "title": {
            "standoff": 15
           },
           "zerolinecolor": "white",
           "zerolinewidth": 2
          }
         }
        },
        "xaxis": {
         "anchor": "y",
         "domain": [
          0,
          0.05846153846153847
         ],
         "title": {
          "text": "tipo"
         }
        },
        "xaxis10": {
         "anchor": "y10",
         "domain": [
          0.7061538461538461,
          0.7646153846153846
         ],
         "matches": "x",
         "title": {
          "text": "tipo"
         }
        },
        "xaxis11": {
         "anchor": "y11",
         "domain": [
          0.7846153846153847,
          0.8430769230769232
         ],
         "matches": "x",
         "title": {
          "text": "tipo"
         }
        },
        "xaxis12": {
         "anchor": "y12",
         "domain": [
          0.8630769230769231,
          0.9215384615384615
         ],
         "matches": "x",
         "title": {
          "text": "tipo"
         }
        },
        "xaxis13": {
         "anchor": "y13",
         "domain": [
          0.9415384615384615,
          1
         ],
         "matches": "x",
         "title": {
          "text": "tipo"
         }
        },
        "xaxis2": {
         "anchor": "y2",
         "domain": [
          0.07846153846153847,
          0.13692307692307693
         ],
         "matches": "x",
         "title": {
          "text": "tipo"
         }
        },
        "xaxis3": {
         "anchor": "y3",
         "domain": [
          0.15692307692307694,
          0.2153846153846154
         ],
         "matches": "x",
         "title": {
          "text": "tipo"
         }
        },
        "xaxis4": {
         "anchor": "y4",
         "domain": [
          0.23538461538461541,
          0.29384615384615387
         ],
         "matches": "x",
         "title": {
          "text": "tipo"
         }
        },
        "xaxis5": {
         "anchor": "y5",
         "domain": [
          0.3138461538461539,
          0.37230769230769234
         ],
         "matches": "x",
         "title": {
          "text": "tipo"
         }
        },
        "xaxis6": {
         "anchor": "y6",
         "domain": [
          0.39230769230769236,
          0.4507692307692308
         ],
         "matches": "x",
         "title": {
          "text": "tipo"
         }
        },
        "xaxis7": {
         "anchor": "y7",
         "domain": [
          0.4707692307692308,
          0.5292307692307693
         ],
         "matches": "x",
         "title": {
          "text": "tipo"
         }
        },
        "xaxis8": {
         "anchor": "y8",
         "domain": [
          0.5492307692307692,
          0.6076923076923076
         ],
         "matches": "x",
         "title": {
          "text": "tipo"
         }
        },
        "xaxis9": {
         "anchor": "y9",
         "domain": [
          0.6276923076923077,
          0.6861538461538461
         ],
         "matches": "x",
         "title": {
          "text": "tipo"
         }
        },
        "yaxis": {
         "anchor": "x",
         "domain": [
          0,
          1
         ],
         "range": [
          0,
          1
         ],
         "tickformat": "%",
         "title": {
          "text": "Participación mensual"
         }
        },
        "yaxis10": {
         "anchor": "x10",
         "domain": [
          0,
          1
         ],
         "matches": "y",
         "range": [
          0,
          1
         ],
         "showticklabels": false,
         "tickformat": "%"
        },
        "yaxis11": {
         "anchor": "x11",
         "domain": [
          0,
          1
         ],
         "matches": "y",
         "range": [
          0,
          1
         ],
         "showticklabels": false,
         "tickformat": "%"
        },
        "yaxis12": {
         "anchor": "x12",
         "domain": [
          0,
          1
         ],
         "matches": "y",
         "range": [
          0,
          1
         ],
         "showticklabels": false,
         "tickformat": "%"
        },
        "yaxis13": {
         "anchor": "x13",
         "domain": [
          0,
          1
         ],
         "matches": "y",
         "range": [
          0,
          1
         ],
         "showticklabels": false,
         "tickformat": "%"
        },
        "yaxis2": {
         "anchor": "x2",
         "domain": [
          0,
          1
         ],
         "matches": "y",
         "range": [
          0,
          1
         ],
         "showticklabels": false,
         "tickformat": "%"
        },
        "yaxis3": {
         "anchor": "x3",
         "domain": [
          0,
          1
         ],
         "matches": "y",
         "range": [
          0,
          1
         ],
         "showticklabels": false,
         "tickformat": "%"
        },
        "yaxis4": {
         "anchor": "x4",
         "domain": [
          0,
          1
         ],
         "matches": "y",
         "range": [
          0,
          1
         ],
         "showticklabels": false,
         "tickformat": "%"
        },
        "yaxis5": {
         "anchor": "x5",
         "domain": [
          0,
          1
         ],
         "matches": "y",
         "range": [
          0,
          1
         ],
         "showticklabels": false,
         "tickformat": "%"
        },
        "yaxis6": {
         "anchor": "x6",
         "domain": [
          0,
          1
         ],
         "matches": "y",
         "range": [
          0,
          1
         ],
         "showticklabels": false,
         "tickformat": "%"
        },
        "yaxis7": {
         "anchor": "x7",
         "domain": [
          0,
          1
         ],
         "matches": "y",
         "range": [
          0,
          1
         ],
         "showticklabels": false,
         "tickformat": "%"
        },
        "yaxis8": {
         "anchor": "x8",
         "domain": [
          0,
          1
         ],
         "matches": "y",
         "range": [
          0,
          1
         ],
         "showticklabels": false,
         "tickformat": "%"
        },
        "yaxis9": {
         "anchor": "x9",
         "domain": [
          0,
          1
         ],
         "matches": "y",
         "range": [
          0,
          1
         ],
         "showticklabels": false,
         "tickformat": "%"
        }
       }
      },
      "text/html": [
       "<div>\n",
       "        \n",
       "        \n",
       "            <div id=\"7e33d963-2caa-417f-ae07-08bc0042ebc0\" class=\"plotly-graph-div\" style=\"height:525px; width:100%;\"></div>\n",
       "            <script type=\"text/javascript\">\n",
       "                require([\"plotly\"], function(Plotly) {\n",
       "                    window.PLOTLYENV=window.PLOTLYENV || {};\n",
       "                    \n",
       "                if (document.getElementById(\"7e33d963-2caa-417f-ae07-08bc0042ebc0\")) {\n",
       "                    Plotly.newPlot(\n",
       "                        '7e33d963-2caa-417f-ae07-08bc0042ebc0',\n",
       "                        [{\"alignmentgroup\": \"True\", \"hovertemplate\": \"consulta=Porcentaje de afiliados con consultas \\u00fanicas<br>variable=2019-01-01<br>tipo=%{x}<br>Participaci\\u00f3n mensual=%{y}<extra></extra>\", \"legendgroup\": \"Porcentaje de afiliados con consultas \\u00fanicas\", \"marker\": {\"color\": \"#636efa\"}, \"name\": \"Porcentaje de afiliados con consultas \\u00fanicas\", \"offsetgroup\": \"Porcentaje de afiliados con consultas \\u00fanicas\", \"orientation\": \"v\", \"showlegend\": true, \"textposition\": \"auto\", \"type\": \"bar\", \"x\": [\"especialidad\", \"prestador\"], \"xaxis\": \"x\", \"y\": [0.74, 0.88], \"yaxis\": \"y\"}, {\"alignmentgroup\": \"True\", \"hovertemplate\": \"consulta=Porcentaje de afiliados con consultas \\u00fanicas<br>variable=2019-02-01<br>tipo=%{x}<br>Participaci\\u00f3n mensual=%{y}<extra></extra>\", \"legendgroup\": \"Porcentaje de afiliados con consultas \\u00fanicas\", \"marker\": {\"color\": \"#636efa\"}, \"name\": \"Porcentaje de afiliados con consultas \\u00fanicas\", \"offsetgroup\": \"Porcentaje de afiliados con consultas \\u00fanicas\", \"orientation\": \"v\", \"showlegend\": false, \"textposition\": \"auto\", \"type\": \"bar\", \"x\": [\"especialidad\", \"prestador\"], \"xaxis\": \"x2\", \"y\": [0.89, 0.88], \"yaxis\": \"y2\"}, {\"alignmentgroup\": \"True\", \"hovertemplate\": \"consulta=Porcentaje de afiliados con consultas \\u00fanicas<br>variable=2019-03-01<br>tipo=%{x}<br>Participaci\\u00f3n mensual=%{y}<extra></extra>\", \"legendgroup\": \"Porcentaje de afiliados con consultas \\u00fanicas\", \"marker\": {\"color\": \"#636efa\"}, \"name\": \"Porcentaje de afiliados con consultas \\u00fanicas\", \"offsetgroup\": \"Porcentaje de afiliados con consultas \\u00fanicas\", \"orientation\": \"v\", \"showlegend\": false, \"textposition\": \"auto\", \"type\": \"bar\", \"x\": [\"especialidad\", \"prestador\"], \"xaxis\": \"x3\", \"y\": [0.0, 0.0], \"yaxis\": \"y3\"}, {\"alignmentgroup\": \"True\", \"hovertemplate\": \"consulta=Porcentaje de afiliados con consultas \\u00fanicas<br>variable=2019-04-01<br>tipo=%{x}<br>Participaci\\u00f3n mensual=%{y}<extra></extra>\", \"legendgroup\": \"Porcentaje de afiliados con consultas \\u00fanicas\", \"marker\": {\"color\": \"#636efa\"}, \"name\": \"Porcentaje de afiliados con consultas \\u00fanicas\", \"offsetgroup\": \"Porcentaje de afiliados con consultas \\u00fanicas\", \"orientation\": \"v\", \"showlegend\": false, \"textposition\": \"auto\", \"type\": \"bar\", \"x\": [\"especialidad\", \"prestador\"], \"xaxis\": \"x4\", \"y\": [0.0, 0.0], \"yaxis\": \"y4\"}, {\"alignmentgroup\": \"True\", \"hovertemplate\": \"consulta=Porcentaje de afiliados con consultas \\u00fanicas<br>variable=2019-05-01<br>tipo=%{x}<br>Participaci\\u00f3n mensual=%{y}<extra></extra>\", \"legendgroup\": \"Porcentaje de afiliados con consultas \\u00fanicas\", \"marker\": {\"color\": \"#636efa\"}, \"name\": \"Porcentaje de afiliados con consultas \\u00fanicas\", \"offsetgroup\": \"Porcentaje de afiliados con consultas \\u00fanicas\", \"orientation\": \"v\", \"showlegend\": false, \"textposition\": \"auto\", \"type\": \"bar\", \"x\": [\"especialidad\", \"prestador\"], \"xaxis\": \"x5\", \"y\": [0.75, 0.6], \"yaxis\": \"y5\"}, {\"alignmentgroup\": \"True\", \"hovertemplate\": \"consulta=Porcentaje de afiliados con consultas \\u00fanicas<br>variable=2019-06-01<br>tipo=%{x}<br>Participaci\\u00f3n mensual=%{y}<extra></extra>\", \"legendgroup\": \"Porcentaje de afiliados con consultas \\u00fanicas\", \"marker\": {\"color\": \"#636efa\"}, \"name\": \"Porcentaje de afiliados con consultas \\u00fanicas\", \"offsetgroup\": \"Porcentaje de afiliados con consultas \\u00fanicas\", \"orientation\": \"v\", \"showlegend\": false, \"textposition\": \"auto\", \"type\": \"bar\", \"x\": [\"especialidad\", \"prestador\"], \"xaxis\": \"x6\", \"y\": [0.0, 0.0], \"yaxis\": \"y6\"}, {\"alignmentgroup\": \"True\", \"hovertemplate\": \"consulta=Porcentaje de afiliados con consultas \\u00fanicas<br>variable=2019-07-01<br>tipo=%{x}<br>Participaci\\u00f3n mensual=%{y}<extra></extra>\", \"legendgroup\": \"Porcentaje de afiliados con consultas \\u00fanicas\", \"marker\": {\"color\": \"#636efa\"}, \"name\": \"Porcentaje de afiliados con consultas \\u00fanicas\", \"offsetgroup\": \"Porcentaje de afiliados con consultas \\u00fanicas\", \"orientation\": \"v\", \"showlegend\": false, \"textposition\": \"auto\", \"type\": \"bar\", \"x\": [\"especialidad\", \"prestador\"], \"xaxis\": \"x7\", \"y\": [0.77, 0.88], \"yaxis\": \"y7\"}, {\"alignmentgroup\": \"True\", \"hovertemplate\": \"consulta=Porcentaje de afiliados con consultas \\u00fanicas<br>variable=2019-08-01<br>tipo=%{x}<br>Participaci\\u00f3n mensual=%{y}<extra></extra>\", \"legendgroup\": \"Porcentaje de afiliados con consultas \\u00fanicas\", \"marker\": {\"color\": \"#636efa\"}, \"name\": \"Porcentaje de afiliados con consultas \\u00fanicas\", \"offsetgroup\": \"Porcentaje de afiliados con consultas \\u00fanicas\", \"orientation\": \"v\", \"showlegend\": false, \"textposition\": \"auto\", \"type\": \"bar\", \"x\": [\"especialidad\", \"prestador\"], \"xaxis\": \"x8\", \"y\": [0.75, 0.8], \"yaxis\": \"y8\"}, {\"alignmentgroup\": \"True\", \"hovertemplate\": \"consulta=Porcentaje de afiliados con consultas \\u00fanicas<br>variable=2019-09-01<br>tipo=%{x}<br>Participaci\\u00f3n mensual=%{y}<extra></extra>\", \"legendgroup\": \"Porcentaje de afiliados con consultas \\u00fanicas\", \"marker\": {\"color\": \"#636efa\"}, \"name\": \"Porcentaje de afiliados con consultas \\u00fanicas\", \"offsetgroup\": \"Porcentaje de afiliados con consultas \\u00fanicas\", \"orientation\": \"v\", \"showlegend\": false, \"textposition\": \"auto\", \"type\": \"bar\", \"x\": [\"especialidad\", \"prestador\"], \"xaxis\": \"x9\", \"y\": [0.73, 0.78], \"yaxis\": \"y9\"}, {\"alignmentgroup\": \"True\", \"hovertemplate\": \"consulta=Porcentaje de afiliados con consultas \\u00fanicas<br>variable=2019-10-01<br>tipo=%{x}<br>Participaci\\u00f3n mensual=%{y}<extra></extra>\", \"legendgroup\": \"Porcentaje de afiliados con consultas \\u00fanicas\", \"marker\": {\"color\": \"#636efa\"}, \"name\": \"Porcentaje de afiliados con consultas \\u00fanicas\", \"offsetgroup\": \"Porcentaje de afiliados con consultas \\u00fanicas\", \"orientation\": \"v\", \"showlegend\": false, \"textposition\": \"auto\", \"type\": \"bar\", \"x\": [\"especialidad\", \"prestador\"], \"xaxis\": \"x10\", \"y\": [0.74, 0.82], \"yaxis\": \"y10\"}, {\"alignmentgroup\": \"True\", \"hovertemplate\": \"consulta=Porcentaje de afiliados con consultas \\u00fanicas<br>variable=2019-11-01<br>tipo=%{x}<br>Participaci\\u00f3n mensual=%{y}<extra></extra>\", \"legendgroup\": \"Porcentaje de afiliados con consultas \\u00fanicas\", \"marker\": {\"color\": \"#636efa\"}, \"name\": \"Porcentaje de afiliados con consultas \\u00fanicas\", \"offsetgroup\": \"Porcentaje de afiliados con consultas \\u00fanicas\", \"orientation\": \"v\", \"showlegend\": false, \"textposition\": \"auto\", \"type\": \"bar\", \"x\": [\"especialidad\", \"prestador\"], \"xaxis\": \"x11\", \"y\": [0.0, 0.0], \"yaxis\": \"y11\"}, {\"alignmentgroup\": \"True\", \"hovertemplate\": \"consulta=Porcentaje de afiliados con consultas \\u00fanicas<br>variable=2019-12-01<br>tipo=%{x}<br>Participaci\\u00f3n mensual=%{y}<extra></extra>\", \"legendgroup\": \"Porcentaje de afiliados con consultas \\u00fanicas\", \"marker\": {\"color\": \"#636efa\"}, \"name\": \"Porcentaje de afiliados con consultas \\u00fanicas\", \"offsetgroup\": \"Porcentaje de afiliados con consultas \\u00fanicas\", \"orientation\": \"v\", \"showlegend\": false, \"textposition\": \"auto\", \"type\": \"bar\", \"x\": [\"especialidad\", \"prestador\"], \"xaxis\": \"x12\", \"y\": [0.0, 0.0], \"yaxis\": \"y12\"}, {\"alignmentgroup\": \"True\", \"hovertemplate\": \"consulta=Porcentaje de afiliados con consultas \\u00fanicas<br>variable=2020-01-01<br>tipo=%{x}<br>Participaci\\u00f3n mensual=%{y}<extra></extra>\", \"legendgroup\": \"Porcentaje de afiliados con consultas \\u00fanicas\", \"marker\": {\"color\": \"#636efa\"}, \"name\": \"Porcentaje de afiliados con consultas \\u00fanicas\", \"offsetgroup\": \"Porcentaje de afiliados con consultas \\u00fanicas\", \"orientation\": \"v\", \"showlegend\": false, \"textposition\": \"auto\", \"type\": \"bar\", \"x\": [\"especialidad\", \"prestador\"], \"xaxis\": \"x13\", \"y\": [0.78, 0.74], \"yaxis\": \"y13\"}, {\"alignmentgroup\": \"True\", \"hovertemplate\": \"consulta=Porcentaje de afiliados con 2 consultas<br>variable=2019-01-01<br>tipo=%{x}<br>Participaci\\u00f3n mensual=%{y}<extra></extra>\", \"legendgroup\": \"Porcentaje de afiliados con 2 consultas\", \"marker\": {\"color\": \"#EF553B\"}, \"name\": \"Porcentaje de afiliados con 2 consultas\", \"offsetgroup\": \"Porcentaje de afiliados con 2 consultas\", \"orientation\": \"v\", \"showlegend\": true, \"textposition\": \"auto\", \"type\": \"bar\", \"x\": [\"especialidad\", \"prestador\"], \"xaxis\": \"x\", \"y\": [0.18, 0.12], \"yaxis\": \"y\"}, {\"alignmentgroup\": \"True\", \"hovertemplate\": \"consulta=Porcentaje de afiliados con 2 consultas<br>variable=2019-02-01<br>tipo=%{x}<br>Participaci\\u00f3n mensual=%{y}<extra></extra>\", \"legendgroup\": \"Porcentaje de afiliados con 2 consultas\", \"marker\": {\"color\": \"#EF553B\"}, \"name\": \"Porcentaje de afiliados con 2 consultas\", \"offsetgroup\": \"Porcentaje de afiliados con 2 consultas\", \"orientation\": \"v\", \"showlegend\": false, \"textposition\": \"auto\", \"type\": \"bar\", \"x\": [\"especialidad\", \"prestador\"], \"xaxis\": \"x2\", \"y\": [0.11, 0.12], \"yaxis\": \"y2\"}, {\"alignmentgroup\": \"True\", \"hovertemplate\": \"consulta=Porcentaje de afiliados con 2 consultas<br>variable=2019-03-01<br>tipo=%{x}<br>Participaci\\u00f3n mensual=%{y}<extra></extra>\", \"legendgroup\": \"Porcentaje de afiliados con 2 consultas\", \"marker\": {\"color\": \"#EF553B\"}, \"name\": \"Porcentaje de afiliados con 2 consultas\", \"offsetgroup\": \"Porcentaje de afiliados con 2 consultas\", \"orientation\": \"v\", \"showlegend\": false, \"textposition\": \"auto\", \"type\": \"bar\", \"x\": [\"especialidad\", \"prestador\"], \"xaxis\": \"x3\", \"y\": [0.0, 0.0], \"yaxis\": \"y3\"}, {\"alignmentgroup\": \"True\", \"hovertemplate\": \"consulta=Porcentaje de afiliados con 2 consultas<br>variable=2019-04-01<br>tipo=%{x}<br>Participaci\\u00f3n mensual=%{y}<extra></extra>\", \"legendgroup\": \"Porcentaje de afiliados con 2 consultas\", \"marker\": {\"color\": \"#EF553B\"}, \"name\": \"Porcentaje de afiliados con 2 consultas\", \"offsetgroup\": \"Porcentaje de afiliados con 2 consultas\", \"orientation\": \"v\", \"showlegend\": false, \"textposition\": \"auto\", \"type\": \"bar\", \"x\": [\"especialidad\", \"prestador\"], \"xaxis\": \"x4\", \"y\": [0.0, 0.0], \"yaxis\": \"y4\"}, {\"alignmentgroup\": \"True\", \"hovertemplate\": \"consulta=Porcentaje de afiliados con 2 consultas<br>variable=2019-05-01<br>tipo=%{x}<br>Participaci\\u00f3n mensual=%{y}<extra></extra>\", \"legendgroup\": \"Porcentaje de afiliados con 2 consultas\", \"marker\": {\"color\": \"#EF553B\"}, \"name\": \"Porcentaje de afiliados con 2 consultas\", \"offsetgroup\": \"Porcentaje de afiliados con 2 consultas\", \"orientation\": \"v\", \"showlegend\": false, \"textposition\": \"auto\", \"type\": \"bar\", \"x\": [\"especialidad\", \"prestador\"], \"xaxis\": \"x5\", \"y\": [0.21, 0.33], \"yaxis\": \"y5\"}, {\"alignmentgroup\": \"True\", \"hovertemplate\": \"consulta=Porcentaje de afiliados con 2 consultas<br>variable=2019-06-01<br>tipo=%{x}<br>Participaci\\u00f3n mensual=%{y}<extra></extra>\", \"legendgroup\": \"Porcentaje de afiliados con 2 consultas\", \"marker\": {\"color\": \"#EF553B\"}, \"name\": \"Porcentaje de afiliados con 2 consultas\", \"offsetgroup\": \"Porcentaje de afiliados con 2 consultas\", \"orientation\": \"v\", \"showlegend\": false, \"textposition\": \"auto\", \"type\": \"bar\", \"x\": [\"especialidad\", \"prestador\"], \"xaxis\": \"x6\", \"y\": [0.0, 0.0], \"yaxis\": \"y6\"}, {\"alignmentgroup\": \"True\", \"hovertemplate\": \"consulta=Porcentaje de afiliados con 2 consultas<br>variable=2019-07-01<br>tipo=%{x}<br>Participaci\\u00f3n mensual=%{y}<extra></extra>\", \"legendgroup\": \"Porcentaje de afiliados con 2 consultas\", \"marker\": {\"color\": \"#EF553B\"}, \"name\": \"Porcentaje de afiliados con 2 consultas\", \"offsetgroup\": \"Porcentaje de afiliados con 2 consultas\", \"orientation\": \"v\", \"showlegend\": false, \"textposition\": \"auto\", \"type\": \"bar\", \"x\": [\"especialidad\", \"prestador\"], \"xaxis\": \"x7\", \"y\": [0.16, 0.05], \"yaxis\": \"y7\"}, {\"alignmentgroup\": \"True\", \"hovertemplate\": \"consulta=Porcentaje de afiliados con 2 consultas<br>variable=2019-08-01<br>tipo=%{x}<br>Participaci\\u00f3n mensual=%{y}<extra></extra>\", \"legendgroup\": \"Porcentaje de afiliados con 2 consultas\", \"marker\": {\"color\": \"#EF553B\"}, \"name\": \"Porcentaje de afiliados con 2 consultas\", \"offsetgroup\": \"Porcentaje de afiliados con 2 consultas\", \"orientation\": \"v\", \"showlegend\": false, \"textposition\": \"auto\", \"type\": \"bar\", \"x\": [\"especialidad\", \"prestador\"], \"xaxis\": \"x8\", \"y\": [0.17, 0.11], \"yaxis\": \"y8\"}, {\"alignmentgroup\": \"True\", \"hovertemplate\": \"consulta=Porcentaje de afiliados con 2 consultas<br>variable=2019-09-01<br>tipo=%{x}<br>Participaci\\u00f3n mensual=%{y}<extra></extra>\", \"legendgroup\": \"Porcentaje de afiliados con 2 consultas\", \"marker\": {\"color\": \"#EF553B\"}, \"name\": \"Porcentaje de afiliados con 2 consultas\", \"offsetgroup\": \"Porcentaje de afiliados con 2 consultas\", \"orientation\": \"v\", \"showlegend\": false, \"textposition\": \"auto\", \"type\": \"bar\", \"x\": [\"especialidad\", \"prestador\"], \"xaxis\": \"x9\", \"y\": [0.23, 0.22], \"yaxis\": \"y9\"}, {\"alignmentgroup\": \"True\", \"hovertemplate\": \"consulta=Porcentaje de afiliados con 2 consultas<br>variable=2019-10-01<br>tipo=%{x}<br>Participaci\\u00f3n mensual=%{y}<extra></extra>\", \"legendgroup\": \"Porcentaje de afiliados con 2 consultas\", \"marker\": {\"color\": \"#EF553B\"}, \"name\": \"Porcentaje de afiliados con 2 consultas\", \"offsetgroup\": \"Porcentaje de afiliados con 2 consultas\", \"orientation\": \"v\", \"showlegend\": false, \"textposition\": \"auto\", \"type\": \"bar\", \"x\": [\"especialidad\", \"prestador\"], \"xaxis\": \"x10\", \"y\": [0.17, 0.13], \"yaxis\": \"y10\"}, {\"alignmentgroup\": \"True\", \"hovertemplate\": \"consulta=Porcentaje de afiliados con 2 consultas<br>variable=2019-11-01<br>tipo=%{x}<br>Participaci\\u00f3n mensual=%{y}<extra></extra>\", \"legendgroup\": \"Porcentaje de afiliados con 2 consultas\", \"marker\": {\"color\": \"#EF553B\"}, \"name\": \"Porcentaje de afiliados con 2 consultas\", \"offsetgroup\": \"Porcentaje de afiliados con 2 consultas\", \"orientation\": \"v\", \"showlegend\": false, \"textposition\": \"auto\", \"type\": \"bar\", \"x\": [\"especialidad\", \"prestador\"], \"xaxis\": \"x11\", \"y\": [0.0, 0.0], \"yaxis\": \"y11\"}, {\"alignmentgroup\": \"True\", \"hovertemplate\": \"consulta=Porcentaje de afiliados con 2 consultas<br>variable=2019-12-01<br>tipo=%{x}<br>Participaci\\u00f3n mensual=%{y}<extra></extra>\", \"legendgroup\": \"Porcentaje de afiliados con 2 consultas\", \"marker\": {\"color\": \"#EF553B\"}, \"name\": \"Porcentaje de afiliados con 2 consultas\", \"offsetgroup\": \"Porcentaje de afiliados con 2 consultas\", \"orientation\": \"v\", \"showlegend\": false, \"textposition\": \"auto\", \"type\": \"bar\", \"x\": [\"especialidad\", \"prestador\"], \"xaxis\": \"x12\", \"y\": [0.0, 0.0], \"yaxis\": \"y12\"}, {\"alignmentgroup\": \"True\", \"hovertemplate\": \"consulta=Porcentaje de afiliados con 2 consultas<br>variable=2020-01-01<br>tipo=%{x}<br>Participaci\\u00f3n mensual=%{y}<extra></extra>\", \"legendgroup\": \"Porcentaje de afiliados con 2 consultas\", \"marker\": {\"color\": \"#EF553B\"}, \"name\": \"Porcentaje de afiliados con 2 consultas\", \"offsetgroup\": \"Porcentaje de afiliados con 2 consultas\", \"orientation\": \"v\", \"showlegend\": false, \"textposition\": \"auto\", \"type\": \"bar\", \"x\": [\"especialidad\", \"prestador\"], \"xaxis\": \"x13\", \"y\": [0.19, 0.12], \"yaxis\": \"y13\"}, {\"alignmentgroup\": \"True\", \"hovertemplate\": \"consulta=Porcentaje de afiliados con 3 consultas<br>variable=2019-01-01<br>tipo=%{x}<br>Participaci\\u00f3n mensual=%{y}<extra></extra>\", \"legendgroup\": \"Porcentaje de afiliados con 3 consultas\", \"marker\": {\"color\": \"#00cc96\"}, \"name\": \"Porcentaje de afiliados con 3 consultas\", \"offsetgroup\": \"Porcentaje de afiliados con 3 consultas\", \"orientation\": \"v\", \"showlegend\": true, \"textposition\": \"auto\", \"type\": \"bar\", \"x\": [\"especialidad\", \"prestador\"], \"xaxis\": \"x\", \"y\": [0.06, 0.0], \"yaxis\": \"y\"}, {\"alignmentgroup\": \"True\", \"hovertemplate\": \"consulta=Porcentaje de afiliados con 3 consultas<br>variable=2019-02-01<br>tipo=%{x}<br>Participaci\\u00f3n mensual=%{y}<extra></extra>\", \"legendgroup\": \"Porcentaje de afiliados con 3 consultas\", \"marker\": {\"color\": \"#00cc96\"}, \"name\": \"Porcentaje de afiliados con 3 consultas\", \"offsetgroup\": \"Porcentaje de afiliados con 3 consultas\", \"orientation\": \"v\", \"showlegend\": false, \"textposition\": \"auto\", \"type\": \"bar\", \"x\": [\"especialidad\", \"prestador\"], \"xaxis\": \"x2\", \"y\": [0.01, 0.0], \"yaxis\": \"y2\"}, {\"alignmentgroup\": \"True\", \"hovertemplate\": \"consulta=Porcentaje de afiliados con 3 consultas<br>variable=2019-03-01<br>tipo=%{x}<br>Participaci\\u00f3n mensual=%{y}<extra></extra>\", \"legendgroup\": \"Porcentaje de afiliados con 3 consultas\", \"marker\": {\"color\": \"#00cc96\"}, \"name\": \"Porcentaje de afiliados con 3 consultas\", \"offsetgroup\": \"Porcentaje de afiliados con 3 consultas\", \"orientation\": \"v\", \"showlegend\": false, \"textposition\": \"auto\", \"type\": \"bar\", \"x\": [\"especialidad\", \"prestador\"], \"xaxis\": \"x3\", \"y\": [0.0, 0.0], \"yaxis\": \"y3\"}, {\"alignmentgroup\": \"True\", \"hovertemplate\": \"consulta=Porcentaje de afiliados con 3 consultas<br>variable=2019-04-01<br>tipo=%{x}<br>Participaci\\u00f3n mensual=%{y}<extra></extra>\", \"legendgroup\": \"Porcentaje de afiliados con 3 consultas\", \"marker\": {\"color\": \"#00cc96\"}, \"name\": \"Porcentaje de afiliados con 3 consultas\", \"offsetgroup\": \"Porcentaje de afiliados con 3 consultas\", \"orientation\": \"v\", \"showlegend\": false, \"textposition\": \"auto\", \"type\": \"bar\", \"x\": [\"especialidad\", \"prestador\"], \"xaxis\": \"x4\", \"y\": [0.0, 0.0], \"yaxis\": \"y4\"}, {\"alignmentgroup\": \"True\", \"hovertemplate\": \"consulta=Porcentaje de afiliados con 3 consultas<br>variable=2019-05-01<br>tipo=%{x}<br>Participaci\\u00f3n mensual=%{y}<extra></extra>\", \"legendgroup\": \"Porcentaje de afiliados con 3 consultas\", \"marker\": {\"color\": \"#00cc96\"}, \"name\": \"Porcentaje de afiliados con 3 consultas\", \"offsetgroup\": \"Porcentaje de afiliados con 3 consultas\", \"orientation\": \"v\", \"showlegend\": false, \"textposition\": \"auto\", \"type\": \"bar\", \"x\": [\"especialidad\", \"prestador\"], \"xaxis\": \"x5\", \"y\": [0.04, 0.07], \"yaxis\": \"y5\"}, {\"alignmentgroup\": \"True\", \"hovertemplate\": \"consulta=Porcentaje de afiliados con 3 consultas<br>variable=2019-06-01<br>tipo=%{x}<br>Participaci\\u00f3n mensual=%{y}<extra></extra>\", \"legendgroup\": \"Porcentaje de afiliados con 3 consultas\", \"marker\": {\"color\": \"#00cc96\"}, \"name\": \"Porcentaje de afiliados con 3 consultas\", \"offsetgroup\": \"Porcentaje de afiliados con 3 consultas\", \"orientation\": \"v\", \"showlegend\": false, \"textposition\": \"auto\", \"type\": \"bar\", \"x\": [\"especialidad\", \"prestador\"], \"xaxis\": \"x6\", \"y\": [0.0, 0.0], \"yaxis\": \"y6\"}, {\"alignmentgroup\": \"True\", \"hovertemplate\": \"consulta=Porcentaje de afiliados con 3 consultas<br>variable=2019-07-01<br>tipo=%{x}<br>Participaci\\u00f3n mensual=%{y}<extra></extra>\", \"legendgroup\": \"Porcentaje de afiliados con 3 consultas\", \"marker\": {\"color\": \"#00cc96\"}, \"name\": \"Porcentaje de afiliados con 3 consultas\", \"offsetgroup\": \"Porcentaje de afiliados con 3 consultas\", \"orientation\": \"v\", \"showlegend\": false, \"textposition\": \"auto\", \"type\": \"bar\", \"x\": [\"especialidad\", \"prestador\"], \"xaxis\": \"x7\", \"y\": [0.06, 0.07], \"yaxis\": \"y7\"}, {\"alignmentgroup\": \"True\", \"hovertemplate\": \"consulta=Porcentaje de afiliados con 3 consultas<br>variable=2019-08-01<br>tipo=%{x}<br>Participaci\\u00f3n mensual=%{y}<extra></extra>\", \"legendgroup\": \"Porcentaje de afiliados con 3 consultas\", \"marker\": {\"color\": \"#00cc96\"}, \"name\": \"Porcentaje de afiliados con 3 consultas\", \"offsetgroup\": \"Porcentaje de afiliados con 3 consultas\", \"orientation\": \"v\", \"showlegend\": false, \"textposition\": \"auto\", \"type\": \"bar\", \"x\": [\"especialidad\", \"prestador\"], \"xaxis\": \"x8\", \"y\": [0.08, 0.09], \"yaxis\": \"y8\"}, {\"alignmentgroup\": \"True\", \"hovertemplate\": \"consulta=Porcentaje de afiliados con 3 consultas<br>variable=2019-09-01<br>tipo=%{x}<br>Participaci\\u00f3n mensual=%{y}<extra></extra>\", \"legendgroup\": \"Porcentaje de afiliados con 3 consultas\", \"marker\": {\"color\": \"#00cc96\"}, \"name\": \"Porcentaje de afiliados con 3 consultas\", \"offsetgroup\": \"Porcentaje de afiliados con 3 consultas\", \"orientation\": \"v\", \"showlegend\": false, \"textposition\": \"auto\", \"type\": \"bar\", \"x\": [\"especialidad\", \"prestador\"], \"xaxis\": \"x9\", \"y\": [0.03, 0.0], \"yaxis\": \"y9\"}, {\"alignmentgroup\": \"True\", \"hovertemplate\": \"consulta=Porcentaje de afiliados con 3 consultas<br>variable=2019-10-01<br>tipo=%{x}<br>Participaci\\u00f3n mensual=%{y}<extra></extra>\", \"legendgroup\": \"Porcentaje de afiliados con 3 consultas\", \"marker\": {\"color\": \"#00cc96\"}, \"name\": \"Porcentaje de afiliados con 3 consultas\", \"offsetgroup\": \"Porcentaje de afiliados con 3 consultas\", \"orientation\": \"v\", \"showlegend\": false, \"textposition\": \"auto\", \"type\": \"bar\", \"x\": [\"especialidad\", \"prestador\"], \"xaxis\": \"x10\", \"y\": [0.06, 0.05], \"yaxis\": \"y10\"}, {\"alignmentgroup\": \"True\", \"hovertemplate\": \"consulta=Porcentaje de afiliados con 3 consultas<br>variable=2019-11-01<br>tipo=%{x}<br>Participaci\\u00f3n mensual=%{y}<extra></extra>\", \"legendgroup\": \"Porcentaje de afiliados con 3 consultas\", \"marker\": {\"color\": \"#00cc96\"}, \"name\": \"Porcentaje de afiliados con 3 consultas\", \"offsetgroup\": \"Porcentaje de afiliados con 3 consultas\", \"orientation\": \"v\", \"showlegend\": false, \"textposition\": \"auto\", \"type\": \"bar\", \"x\": [\"especialidad\", \"prestador\"], \"xaxis\": \"x11\", \"y\": [0.0, 0.0], \"yaxis\": \"y11\"}, {\"alignmentgroup\": \"True\", \"hovertemplate\": \"consulta=Porcentaje de afiliados con 3 consultas<br>variable=2019-12-01<br>tipo=%{x}<br>Participaci\\u00f3n mensual=%{y}<extra></extra>\", \"legendgroup\": \"Porcentaje de afiliados con 3 consultas\", \"marker\": {\"color\": \"#00cc96\"}, \"name\": \"Porcentaje de afiliados con 3 consultas\", \"offsetgroup\": \"Porcentaje de afiliados con 3 consultas\", \"orientation\": \"v\", \"showlegend\": false, \"textposition\": \"auto\", \"type\": \"bar\", \"x\": [\"especialidad\", \"prestador\"], \"xaxis\": \"x12\", \"y\": [0.0, 0.0], \"yaxis\": \"y12\"}, {\"alignmentgroup\": \"True\", \"hovertemplate\": \"consulta=Porcentaje de afiliados con 3 consultas<br>variable=2020-01-01<br>tipo=%{x}<br>Participaci\\u00f3n mensual=%{y}<extra></extra>\", \"legendgroup\": \"Porcentaje de afiliados con 3 consultas\", \"marker\": {\"color\": \"#00cc96\"}, \"name\": \"Porcentaje de afiliados con 3 consultas\", \"offsetgroup\": \"Porcentaje de afiliados con 3 consultas\", \"orientation\": \"v\", \"showlegend\": false, \"textposition\": \"auto\", \"type\": \"bar\", \"x\": [\"especialidad\", \"prestador\"], \"xaxis\": \"x13\", \"y\": [0.02, 0.06], \"yaxis\": \"y13\"}, {\"alignmentgroup\": \"True\", \"hovertemplate\": \"consulta=Porcentaje de afiliados con 4 consultas<br>variable=2019-01-01<br>tipo=%{x}<br>Participaci\\u00f3n mensual=%{y}<extra></extra>\", \"legendgroup\": \"Porcentaje de afiliados con 4 consultas\", \"marker\": {\"color\": \"#ab63fa\"}, \"name\": \"Porcentaje de afiliados con 4 consultas\", \"offsetgroup\": \"Porcentaje de afiliados con 4 consultas\", \"orientation\": \"v\", \"showlegend\": true, \"textposition\": \"auto\", \"type\": \"bar\", \"x\": [\"especialidad\", \"prestador\"], \"xaxis\": \"x\", \"y\": [0.02, 0.0], \"yaxis\": \"y\"}, {\"alignmentgroup\": \"True\", \"hovertemplate\": \"consulta=Porcentaje de afiliados con 4 consultas<br>variable=2019-02-01<br>tipo=%{x}<br>Participaci\\u00f3n mensual=%{y}<extra></extra>\", \"legendgroup\": \"Porcentaje de afiliados con 4 consultas\", \"marker\": {\"color\": \"#ab63fa\"}, \"name\": \"Porcentaje de afiliados con 4 consultas\", \"offsetgroup\": \"Porcentaje de afiliados con 4 consultas\", \"orientation\": \"v\", \"showlegend\": false, \"textposition\": \"auto\", \"type\": \"bar\", \"x\": [\"especialidad\", \"prestador\"], \"xaxis\": \"x2\", \"y\": [0.0, 0.0], \"yaxis\": \"y2\"}, {\"alignmentgroup\": \"True\", \"hovertemplate\": \"consulta=Porcentaje de afiliados con 4 consultas<br>variable=2019-03-01<br>tipo=%{x}<br>Participaci\\u00f3n mensual=%{y}<extra></extra>\", \"legendgroup\": \"Porcentaje de afiliados con 4 consultas\", \"marker\": {\"color\": \"#ab63fa\"}, \"name\": \"Porcentaje de afiliados con 4 consultas\", \"offsetgroup\": \"Porcentaje de afiliados con 4 consultas\", \"orientation\": \"v\", \"showlegend\": false, \"textposition\": \"auto\", \"type\": \"bar\", \"x\": [\"especialidad\", \"prestador\"], \"xaxis\": \"x3\", \"y\": [0.0, 0.0], \"yaxis\": \"y3\"}, {\"alignmentgroup\": \"True\", \"hovertemplate\": \"consulta=Porcentaje de afiliados con 4 consultas<br>variable=2019-04-01<br>tipo=%{x}<br>Participaci\\u00f3n mensual=%{y}<extra></extra>\", \"legendgroup\": \"Porcentaje de afiliados con 4 consultas\", \"marker\": {\"color\": \"#ab63fa\"}, \"name\": \"Porcentaje de afiliados con 4 consultas\", \"offsetgroup\": \"Porcentaje de afiliados con 4 consultas\", \"orientation\": \"v\", \"showlegend\": false, \"textposition\": \"auto\", \"type\": \"bar\", \"x\": [\"especialidad\", \"prestador\"], \"xaxis\": \"x4\", \"y\": [0.0, 0.0], \"yaxis\": \"y4\"}, {\"alignmentgroup\": \"True\", \"hovertemplate\": \"consulta=Porcentaje de afiliados con 4 consultas<br>variable=2019-05-01<br>tipo=%{x}<br>Participaci\\u00f3n mensual=%{y}<extra></extra>\", \"legendgroup\": \"Porcentaje de afiliados con 4 consultas\", \"marker\": {\"color\": \"#ab63fa\"}, \"name\": \"Porcentaje de afiliados con 4 consultas\", \"offsetgroup\": \"Porcentaje de afiliados con 4 consultas\", \"orientation\": \"v\", \"showlegend\": false, \"textposition\": \"auto\", \"type\": \"bar\", \"x\": [\"especialidad\", \"prestador\"], \"xaxis\": \"x5\", \"y\": [0.0, 0.0], \"yaxis\": \"y5\"}, {\"alignmentgroup\": \"True\", \"hovertemplate\": \"consulta=Porcentaje de afiliados con 4 consultas<br>variable=2019-06-01<br>tipo=%{x}<br>Participaci\\u00f3n mensual=%{y}<extra></extra>\", \"legendgroup\": \"Porcentaje de afiliados con 4 consultas\", \"marker\": {\"color\": \"#ab63fa\"}, \"name\": \"Porcentaje de afiliados con 4 consultas\", \"offsetgroup\": \"Porcentaje de afiliados con 4 consultas\", \"orientation\": \"v\", \"showlegend\": false, \"textposition\": \"auto\", \"type\": \"bar\", \"x\": [\"especialidad\", \"prestador\"], \"xaxis\": \"x6\", \"y\": [0.0, 0.0], \"yaxis\": \"y6\"}, {\"alignmentgroup\": \"True\", \"hovertemplate\": \"consulta=Porcentaje de afiliados con 4 consultas<br>variable=2019-07-01<br>tipo=%{x}<br>Participaci\\u00f3n mensual=%{y}<extra></extra>\", \"legendgroup\": \"Porcentaje de afiliados con 4 consultas\", \"marker\": {\"color\": \"#ab63fa\"}, \"name\": \"Porcentaje de afiliados con 4 consultas\", \"offsetgroup\": \"Porcentaje de afiliados con 4 consultas\", \"orientation\": \"v\", \"showlegend\": false, \"textposition\": \"auto\", \"type\": \"bar\", \"x\": [\"especialidad\", \"prestador\"], \"xaxis\": \"x7\", \"y\": [0.0, 0.0], \"yaxis\": \"y7\"}, {\"alignmentgroup\": \"True\", \"hovertemplate\": \"consulta=Porcentaje de afiliados con 4 consultas<br>variable=2019-08-01<br>tipo=%{x}<br>Participaci\\u00f3n mensual=%{y}<extra></extra>\", \"legendgroup\": \"Porcentaje de afiliados con 4 consultas\", \"marker\": {\"color\": \"#ab63fa\"}, \"name\": \"Porcentaje de afiliados con 4 consultas\", \"offsetgroup\": \"Porcentaje de afiliados con 4 consultas\", \"orientation\": \"v\", \"showlegend\": false, \"textposition\": \"auto\", \"type\": \"bar\", \"x\": [\"especialidad\", \"prestador\"], \"xaxis\": \"x8\", \"y\": [0.0, 0.0], \"yaxis\": \"y8\"}, {\"alignmentgroup\": \"True\", \"hovertemplate\": \"consulta=Porcentaje de afiliados con 4 consultas<br>variable=2019-09-01<br>tipo=%{x}<br>Participaci\\u00f3n mensual=%{y}<extra></extra>\", \"legendgroup\": \"Porcentaje de afiliados con 4 consultas\", \"marker\": {\"color\": \"#ab63fa\"}, \"name\": \"Porcentaje de afiliados con 4 consultas\", \"offsetgroup\": \"Porcentaje de afiliados con 4 consultas\", \"orientation\": \"v\", \"showlegend\": false, \"textposition\": \"auto\", \"type\": \"bar\", \"x\": [\"especialidad\", \"prestador\"], \"xaxis\": \"x9\", \"y\": [0.01, 0.0], \"yaxis\": \"y9\"}, {\"alignmentgroup\": \"True\", \"hovertemplate\": \"consulta=Porcentaje de afiliados con 4 consultas<br>variable=2019-10-01<br>tipo=%{x}<br>Participaci\\u00f3n mensual=%{y}<extra></extra>\", \"legendgroup\": \"Porcentaje de afiliados con 4 consultas\", \"marker\": {\"color\": \"#ab63fa\"}, \"name\": \"Porcentaje de afiliados con 4 consultas\", \"offsetgroup\": \"Porcentaje de afiliados con 4 consultas\", \"orientation\": \"v\", \"showlegend\": false, \"textposition\": \"auto\", \"type\": \"bar\", \"x\": [\"especialidad\", \"prestador\"], \"xaxis\": \"x10\", \"y\": [0.01, 0.0], \"yaxis\": \"y10\"}, {\"alignmentgroup\": \"True\", \"hovertemplate\": \"consulta=Porcentaje de afiliados con 4 consultas<br>variable=2019-11-01<br>tipo=%{x}<br>Participaci\\u00f3n mensual=%{y}<extra></extra>\", \"legendgroup\": \"Porcentaje de afiliados con 4 consultas\", \"marker\": {\"color\": \"#ab63fa\"}, \"name\": \"Porcentaje de afiliados con 4 consultas\", \"offsetgroup\": \"Porcentaje de afiliados con 4 consultas\", \"orientation\": \"v\", \"showlegend\": false, \"textposition\": \"auto\", \"type\": \"bar\", \"x\": [\"especialidad\", \"prestador\"], \"xaxis\": \"x11\", \"y\": [0.0, 0.0], \"yaxis\": \"y11\"}, {\"alignmentgroup\": \"True\", \"hovertemplate\": \"consulta=Porcentaje de afiliados con 4 consultas<br>variable=2019-12-01<br>tipo=%{x}<br>Participaci\\u00f3n mensual=%{y}<extra></extra>\", \"legendgroup\": \"Porcentaje de afiliados con 4 consultas\", \"marker\": {\"color\": \"#ab63fa\"}, \"name\": \"Porcentaje de afiliados con 4 consultas\", \"offsetgroup\": \"Porcentaje de afiliados con 4 consultas\", \"orientation\": \"v\", \"showlegend\": false, \"textposition\": \"auto\", \"type\": \"bar\", \"x\": [\"especialidad\", \"prestador\"], \"xaxis\": \"x12\", \"y\": [0.0, 0.0], \"yaxis\": \"y12\"}, {\"alignmentgroup\": \"True\", \"hovertemplate\": \"consulta=Porcentaje de afiliados con 4 consultas<br>variable=2020-01-01<br>tipo=%{x}<br>Participaci\\u00f3n mensual=%{y}<extra></extra>\", \"legendgroup\": \"Porcentaje de afiliados con 4 consultas\", \"marker\": {\"color\": \"#ab63fa\"}, \"name\": \"Porcentaje de afiliados con 4 consultas\", \"offsetgroup\": \"Porcentaje de afiliados con 4 consultas\", \"orientation\": \"v\", \"showlegend\": false, \"textposition\": \"auto\", \"type\": \"bar\", \"x\": [\"especialidad\", \"prestador\"], \"xaxis\": \"x13\", \"y\": [0.02, 0.08], \"yaxis\": \"y13\"}, {\"alignmentgroup\": \"True\", \"hovertemplate\": \"consulta=Porcentaje de afiliados con m\\u00e1s de 4 consultas<br>variable=2019-01-01<br>tipo=%{x}<br>Participaci\\u00f3n mensual=%{y}<extra></extra>\", \"legendgroup\": \"Porcentaje de afiliados con m\\u00e1s de 4 consultas\", \"marker\": {\"color\": \"#FFA15A\"}, \"name\": \"Porcentaje de afiliados con m\\u00e1s de 4 consultas\", \"offsetgroup\": \"Porcentaje de afiliados con m\\u00e1s de 4 consultas\", \"orientation\": \"v\", \"showlegend\": true, \"textposition\": \"auto\", \"type\": \"bar\", \"x\": [\"especialidad\", \"prestador\"], \"xaxis\": \"x\", \"y\": [0.0, 0.0], \"yaxis\": \"y\"}, {\"alignmentgroup\": \"True\", \"hovertemplate\": \"consulta=Porcentaje de afiliados con m\\u00e1s de 4 consultas<br>variable=2019-02-01<br>tipo=%{x}<br>Participaci\\u00f3n mensual=%{y}<extra></extra>\", \"legendgroup\": \"Porcentaje de afiliados con m\\u00e1s de 4 consultas\", \"marker\": {\"color\": \"#FFA15A\"}, \"name\": \"Porcentaje de afiliados con m\\u00e1s de 4 consultas\", \"offsetgroup\": \"Porcentaje de afiliados con m\\u00e1s de 4 consultas\", \"orientation\": \"v\", \"showlegend\": false, \"textposition\": \"auto\", \"type\": \"bar\", \"x\": [\"especialidad\", \"prestador\"], \"xaxis\": \"x2\", \"y\": [0.0, 0.0], \"yaxis\": \"y2\"}, {\"alignmentgroup\": \"True\", \"hovertemplate\": \"consulta=Porcentaje de afiliados con m\\u00e1s de 4 consultas<br>variable=2019-03-01<br>tipo=%{x}<br>Participaci\\u00f3n mensual=%{y}<extra></extra>\", \"legendgroup\": \"Porcentaje de afiliados con m\\u00e1s de 4 consultas\", \"marker\": {\"color\": \"#FFA15A\"}, \"name\": \"Porcentaje de afiliados con m\\u00e1s de 4 consultas\", \"offsetgroup\": \"Porcentaje de afiliados con m\\u00e1s de 4 consultas\", \"orientation\": \"v\", \"showlegend\": false, \"textposition\": \"auto\", \"type\": \"bar\", \"x\": [\"especialidad\", \"prestador\"], \"xaxis\": \"x3\", \"y\": [0.0, 0.0], \"yaxis\": \"y3\"}, {\"alignmentgroup\": \"True\", \"hovertemplate\": \"consulta=Porcentaje de afiliados con m\\u00e1s de 4 consultas<br>variable=2019-04-01<br>tipo=%{x}<br>Participaci\\u00f3n mensual=%{y}<extra></extra>\", \"legendgroup\": \"Porcentaje de afiliados con m\\u00e1s de 4 consultas\", \"marker\": {\"color\": \"#FFA15A\"}, \"name\": \"Porcentaje de afiliados con m\\u00e1s de 4 consultas\", \"offsetgroup\": \"Porcentaje de afiliados con m\\u00e1s de 4 consultas\", \"orientation\": \"v\", \"showlegend\": false, \"textposition\": \"auto\", \"type\": \"bar\", \"x\": [\"especialidad\", \"prestador\"], \"xaxis\": \"x4\", \"y\": [0.0, 0.0], \"yaxis\": \"y4\"}, {\"alignmentgroup\": \"True\", \"hovertemplate\": \"consulta=Porcentaje de afiliados con m\\u00e1s de 4 consultas<br>variable=2019-05-01<br>tipo=%{x}<br>Participaci\\u00f3n mensual=%{y}<extra></extra>\", \"legendgroup\": \"Porcentaje de afiliados con m\\u00e1s de 4 consultas\", \"marker\": {\"color\": \"#FFA15A\"}, \"name\": \"Porcentaje de afiliados con m\\u00e1s de 4 consultas\", \"offsetgroup\": \"Porcentaje de afiliados con m\\u00e1s de 4 consultas\", \"orientation\": \"v\", \"showlegend\": false, \"textposition\": \"auto\", \"type\": \"bar\", \"x\": [\"especialidad\", \"prestador\"], \"xaxis\": \"x5\", \"y\": [0.0, 0.0], \"yaxis\": \"y5\"}, {\"alignmentgroup\": \"True\", \"hovertemplate\": \"consulta=Porcentaje de afiliados con m\\u00e1s de 4 consultas<br>variable=2019-06-01<br>tipo=%{x}<br>Participaci\\u00f3n mensual=%{y}<extra></extra>\", \"legendgroup\": \"Porcentaje de afiliados con m\\u00e1s de 4 consultas\", \"marker\": {\"color\": \"#FFA15A\"}, \"name\": \"Porcentaje de afiliados con m\\u00e1s de 4 consultas\", \"offsetgroup\": \"Porcentaje de afiliados con m\\u00e1s de 4 consultas\", \"orientation\": \"v\", \"showlegend\": false, \"textposition\": \"auto\", \"type\": \"bar\", \"x\": [\"especialidad\", \"prestador\"], \"xaxis\": \"x6\", \"y\": [0.0, 0.0], \"yaxis\": \"y6\"}, {\"alignmentgroup\": \"True\", \"hovertemplate\": \"consulta=Porcentaje de afiliados con m\\u00e1s de 4 consultas<br>variable=2019-07-01<br>tipo=%{x}<br>Participaci\\u00f3n mensual=%{y}<extra></extra>\", \"legendgroup\": \"Porcentaje de afiliados con m\\u00e1s de 4 consultas\", \"marker\": {\"color\": \"#FFA15A\"}, \"name\": \"Porcentaje de afiliados con m\\u00e1s de 4 consultas\", \"offsetgroup\": \"Porcentaje de afiliados con m\\u00e1s de 4 consultas\", \"orientation\": \"v\", \"showlegend\": false, \"textposition\": \"auto\", \"type\": \"bar\", \"x\": [\"especialidad\", \"prestador\"], \"xaxis\": \"x7\", \"y\": [0.0, 0.0], \"yaxis\": \"y7\"}, {\"alignmentgroup\": \"True\", \"hovertemplate\": \"consulta=Porcentaje de afiliados con m\\u00e1s de 4 consultas<br>variable=2019-08-01<br>tipo=%{x}<br>Participaci\\u00f3n mensual=%{y}<extra></extra>\", \"legendgroup\": \"Porcentaje de afiliados con m\\u00e1s de 4 consultas\", \"marker\": {\"color\": \"#FFA15A\"}, \"name\": \"Porcentaje de afiliados con m\\u00e1s de 4 consultas\", \"offsetgroup\": \"Porcentaje de afiliados con m\\u00e1s de 4 consultas\", \"orientation\": \"v\", \"showlegend\": false, \"textposition\": \"auto\", \"type\": \"bar\", \"x\": [\"especialidad\", \"prestador\"], \"xaxis\": \"x8\", \"y\": [0.0, -0.0], \"yaxis\": \"y8\"}, {\"alignmentgroup\": \"True\", \"hovertemplate\": \"consulta=Porcentaje de afiliados con m\\u00e1s de 4 consultas<br>variable=2019-09-01<br>tipo=%{x}<br>Participaci\\u00f3n mensual=%{y}<extra></extra>\", \"legendgroup\": \"Porcentaje de afiliados con m\\u00e1s de 4 consultas\", \"marker\": {\"color\": \"#FFA15A\"}, \"name\": \"Porcentaje de afiliados con m\\u00e1s de 4 consultas\", \"offsetgroup\": \"Porcentaje de afiliados con m\\u00e1s de 4 consultas\", \"orientation\": \"v\", \"showlegend\": false, \"textposition\": \"auto\", \"type\": \"bar\", \"x\": [\"especialidad\", \"prestador\"], \"xaxis\": \"x9\", \"y\": [0.0, 0.0], \"yaxis\": \"y9\"}, {\"alignmentgroup\": \"True\", \"hovertemplate\": \"consulta=Porcentaje de afiliados con m\\u00e1s de 4 consultas<br>variable=2019-10-01<br>tipo=%{x}<br>Participaci\\u00f3n mensual=%{y}<extra></extra>\", \"legendgroup\": \"Porcentaje de afiliados con m\\u00e1s de 4 consultas\", \"marker\": {\"color\": \"#FFA15A\"}, \"name\": \"Porcentaje de afiliados con m\\u00e1s de 4 consultas\", \"offsetgroup\": \"Porcentaje de afiliados con m\\u00e1s de 4 consultas\", \"orientation\": \"v\", \"showlegend\": false, \"textposition\": \"auto\", \"type\": \"bar\", \"x\": [\"especialidad\", \"prestador\"], \"xaxis\": \"x10\", \"y\": [0.01, -0.0], \"yaxis\": \"y10\"}, {\"alignmentgroup\": \"True\", \"hovertemplate\": \"consulta=Porcentaje de afiliados con m\\u00e1s de 4 consultas<br>variable=2019-11-01<br>tipo=%{x}<br>Participaci\\u00f3n mensual=%{y}<extra></extra>\", \"legendgroup\": \"Porcentaje de afiliados con m\\u00e1s de 4 consultas\", \"marker\": {\"color\": \"#FFA15A\"}, \"name\": \"Porcentaje de afiliados con m\\u00e1s de 4 consultas\", \"offsetgroup\": \"Porcentaje de afiliados con m\\u00e1s de 4 consultas\", \"orientation\": \"v\", \"showlegend\": false, \"textposition\": \"auto\", \"type\": \"bar\", \"x\": [\"especialidad\", \"prestador\"], \"xaxis\": \"x11\", \"y\": [0.0, 0.0], \"yaxis\": \"y11\"}, {\"alignmentgroup\": \"True\", \"hovertemplate\": \"consulta=Porcentaje de afiliados con m\\u00e1s de 4 consultas<br>variable=2019-12-01<br>tipo=%{x}<br>Participaci\\u00f3n mensual=%{y}<extra></extra>\", \"legendgroup\": \"Porcentaje de afiliados con m\\u00e1s de 4 consultas\", \"marker\": {\"color\": \"#FFA15A\"}, \"name\": \"Porcentaje de afiliados con m\\u00e1s de 4 consultas\", \"offsetgroup\": \"Porcentaje de afiliados con m\\u00e1s de 4 consultas\", \"orientation\": \"v\", \"showlegend\": false, \"textposition\": \"auto\", \"type\": \"bar\", \"x\": [\"especialidad\", \"prestador\"], \"xaxis\": \"x12\", \"y\": [0.0, 0.0], \"yaxis\": \"y12\"}, {\"alignmentgroup\": \"True\", \"hovertemplate\": \"consulta=Porcentaje de afiliados con m\\u00e1s de 4 consultas<br>variable=2020-01-01<br>tipo=%{x}<br>Participaci\\u00f3n mensual=%{y}<extra></extra>\", \"legendgroup\": \"Porcentaje de afiliados con m\\u00e1s de 4 consultas\", \"marker\": {\"color\": \"#FFA15A\"}, \"name\": \"Porcentaje de afiliados con m\\u00e1s de 4 consultas\", \"offsetgroup\": \"Porcentaje de afiliados con m\\u00e1s de 4 consultas\", \"orientation\": \"v\", \"showlegend\": false, \"textposition\": \"auto\", \"type\": \"bar\", \"x\": [\"especialidad\", \"prestador\"], \"xaxis\": \"x13\", \"y\": [0.0, 0.0], \"yaxis\": \"y13\"}],\n",
       "                        {\"annotations\": [{\"font\": {}, \"showarrow\": false, \"text\": \"variable=2019-01-01\", \"x\": 0.029230769230769234, \"xanchor\": \"center\", \"xref\": \"paper\", \"y\": 1.0, \"yanchor\": \"bottom\", \"yref\": \"paper\"}, {\"font\": {}, \"showarrow\": false, \"text\": \"variable=2019-02-01\", \"x\": 0.1076923076923077, \"xanchor\": \"center\", \"xref\": \"paper\", \"y\": 1.0, \"yanchor\": \"bottom\", \"yref\": \"paper\"}, {\"font\": {}, \"showarrow\": false, \"text\": \"variable=2019-03-01\", \"x\": 0.18615384615384617, \"xanchor\": \"center\", \"xref\": \"paper\", \"y\": 1.0, \"yanchor\": \"bottom\", \"yref\": \"paper\"}, {\"font\": {}, \"showarrow\": false, \"text\": \"variable=2019-04-01\", \"x\": 0.26461538461538464, \"xanchor\": \"center\", \"xref\": \"paper\", \"y\": 1.0, \"yanchor\": \"bottom\", \"yref\": \"paper\"}, {\"font\": {}, \"showarrow\": false, \"text\": \"variable=2019-05-01\", \"x\": 0.3430769230769231, \"xanchor\": \"center\", \"xref\": \"paper\", \"y\": 1.0, \"yanchor\": \"bottom\", \"yref\": \"paper\"}, {\"font\": {}, \"showarrow\": false, \"text\": \"variable=2019-06-01\", \"x\": 0.4215384615384616, \"xanchor\": \"center\", \"xref\": \"paper\", \"y\": 1.0, \"yanchor\": \"bottom\", \"yref\": \"paper\"}, {\"font\": {}, \"showarrow\": false, \"text\": \"variable=2019-07-01\", \"x\": 0.5, \"xanchor\": \"center\", \"xref\": \"paper\", \"y\": 1.0, \"yanchor\": \"bottom\", \"yref\": \"paper\"}, {\"font\": {}, \"showarrow\": false, \"text\": \"variable=2019-08-01\", \"x\": 0.5784615384615384, \"xanchor\": \"center\", \"xref\": \"paper\", \"y\": 1.0, \"yanchor\": \"bottom\", \"yref\": \"paper\"}, {\"font\": {}, \"showarrow\": false, \"text\": \"variable=2019-09-01\", \"x\": 0.6569230769230769, \"xanchor\": \"center\", \"xref\": \"paper\", \"y\": 1.0, \"yanchor\": \"bottom\", \"yref\": \"paper\"}, {\"font\": {}, \"showarrow\": false, \"text\": \"variable=2019-10-01\", \"x\": 0.7353846153846153, \"xanchor\": \"center\", \"xref\": \"paper\", \"y\": 1.0, \"yanchor\": \"bottom\", \"yref\": \"paper\"}, {\"font\": {}, \"showarrow\": false, \"text\": \"variable=2019-11-01\", \"x\": 0.8138461538461539, \"xanchor\": \"center\", \"xref\": \"paper\", \"y\": 1.0, \"yanchor\": \"bottom\", \"yref\": \"paper\"}, {\"font\": {}, \"showarrow\": false, \"text\": \"variable=2019-12-01\", \"x\": 0.8923076923076922, \"xanchor\": \"center\", \"xref\": \"paper\", \"y\": 1.0, \"yanchor\": \"bottom\", \"yref\": \"paper\"}, {\"font\": {}, \"showarrow\": false, \"text\": \"variable=2020-01-01\", \"x\": 0.9707692307692308, \"xanchor\": \"center\", \"xref\": \"paper\", \"y\": 1.0, \"yanchor\": \"bottom\", \"yref\": \"paper\"}], \"barmode\": \"stack\", \"legend\": {\"orientation\": \"h\", \"x\": 0.5, \"xanchor\": \"center\", \"y\": 1.4}, \"margin\": {\"t\": 60}, \"template\": {\"data\": {\"bar\": [{\"error_x\": {\"color\": \"#2a3f5f\"}, \"error_y\": {\"color\": \"#2a3f5f\"}, \"marker\": {\"line\": {\"color\": \"#E5ECF6\", \"width\": 0.5}}, \"type\": \"bar\"}], \"barpolar\": [{\"marker\": {\"line\": {\"color\": \"#E5ECF6\", \"width\": 0.5}}, \"type\": \"barpolar\"}], \"carpet\": [{\"aaxis\": {\"endlinecolor\": \"#2a3f5f\", \"gridcolor\": \"white\", \"linecolor\": \"white\", \"minorgridcolor\": \"white\", \"startlinecolor\": \"#2a3f5f\"}, \"baxis\": {\"endlinecolor\": \"#2a3f5f\", \"gridcolor\": \"white\", \"linecolor\": \"white\", \"minorgridcolor\": \"white\", \"startlinecolor\": \"#2a3f5f\"}, \"type\": \"carpet\"}], \"choropleth\": [{\"colorbar\": {\"outlinewidth\": 0, \"ticks\": \"\"}, \"type\": \"choropleth\"}], \"contour\": [{\"colorbar\": {\"outlinewidth\": 0, \"ticks\": \"\"}, \"colorscale\": [[0.0, \"#0d0887\"], [0.1111111111111111, \"#46039f\"], [0.2222222222222222, \"#7201a8\"], [0.3333333333333333, \"#9c179e\"], [0.4444444444444444, \"#bd3786\"], [0.5555555555555556, \"#d8576b\"], [0.6666666666666666, \"#ed7953\"], [0.7777777777777778, \"#fb9f3a\"], [0.8888888888888888, \"#fdca26\"], [1.0, \"#f0f921\"]], \"type\": \"contour\"}], \"contourcarpet\": [{\"colorbar\": {\"outlinewidth\": 0, \"ticks\": \"\"}, \"type\": \"contourcarpet\"}], \"heatmap\": [{\"colorbar\": {\"outlinewidth\": 0, \"ticks\": \"\"}, \"colorscale\": [[0.0, \"#0d0887\"], [0.1111111111111111, \"#46039f\"], [0.2222222222222222, \"#7201a8\"], [0.3333333333333333, \"#9c179e\"], [0.4444444444444444, \"#bd3786\"], [0.5555555555555556, \"#d8576b\"], [0.6666666666666666, \"#ed7953\"], [0.7777777777777778, \"#fb9f3a\"], [0.8888888888888888, \"#fdca26\"], [1.0, \"#f0f921\"]], \"type\": \"heatmap\"}], \"heatmapgl\": [{\"colorbar\": {\"outlinewidth\": 0, \"ticks\": \"\"}, \"colorscale\": [[0.0, \"#0d0887\"], [0.1111111111111111, \"#46039f\"], [0.2222222222222222, \"#7201a8\"], [0.3333333333333333, \"#9c179e\"], [0.4444444444444444, \"#bd3786\"], [0.5555555555555556, \"#d8576b\"], [0.6666666666666666, \"#ed7953\"], [0.7777777777777778, \"#fb9f3a\"], [0.8888888888888888, \"#fdca26\"], [1.0, \"#f0f921\"]], \"type\": \"heatmapgl\"}], \"histogram\": [{\"marker\": {\"colorbar\": {\"outlinewidth\": 0, \"ticks\": \"\"}}, \"type\": \"histogram\"}], \"histogram2d\": [{\"colorbar\": {\"outlinewidth\": 0, \"ticks\": \"\"}, \"colorscale\": [[0.0, \"#0d0887\"], [0.1111111111111111, \"#46039f\"], [0.2222222222222222, \"#7201a8\"], [0.3333333333333333, \"#9c179e\"], [0.4444444444444444, \"#bd3786\"], [0.5555555555555556, \"#d8576b\"], [0.6666666666666666, \"#ed7953\"], [0.7777777777777778, \"#fb9f3a\"], [0.8888888888888888, \"#fdca26\"], [1.0, \"#f0f921\"]], \"type\": \"histogram2d\"}], \"histogram2dcontour\": [{\"colorbar\": {\"outlinewidth\": 0, \"ticks\": \"\"}, \"colorscale\": [[0.0, \"#0d0887\"], [0.1111111111111111, \"#46039f\"], [0.2222222222222222, \"#7201a8\"], [0.3333333333333333, \"#9c179e\"], [0.4444444444444444, \"#bd3786\"], [0.5555555555555556, \"#d8576b\"], [0.6666666666666666, \"#ed7953\"], [0.7777777777777778, \"#fb9f3a\"], [0.8888888888888888, \"#fdca26\"], [1.0, \"#f0f921\"]], \"type\": \"histogram2dcontour\"}], \"mesh3d\": [{\"colorbar\": {\"outlinewidth\": 0, \"ticks\": \"\"}, \"type\": \"mesh3d\"}], \"parcoords\": [{\"line\": {\"colorbar\": {\"outlinewidth\": 0, \"ticks\": \"\"}}, \"type\": \"parcoords\"}], \"pie\": [{\"automargin\": true, \"type\": \"pie\"}], \"scatter\": [{\"marker\": {\"colorbar\": {\"outlinewidth\": 0, \"ticks\": \"\"}}, \"type\": \"scatter\"}], \"scatter3d\": [{\"line\": {\"colorbar\": {\"outlinewidth\": 0, \"ticks\": \"\"}}, \"marker\": {\"colorbar\": {\"outlinewidth\": 0, \"ticks\": \"\"}}, \"type\": \"scatter3d\"}], \"scattercarpet\": [{\"marker\": {\"colorbar\": {\"outlinewidth\": 0, \"ticks\": \"\"}}, \"type\": \"scattercarpet\"}], \"scattergeo\": [{\"marker\": {\"colorbar\": {\"outlinewidth\": 0, \"ticks\": \"\"}}, \"type\": \"scattergeo\"}], \"scattergl\": [{\"marker\": {\"colorbar\": {\"outlinewidth\": 0, \"ticks\": \"\"}}, \"type\": \"scattergl\"}], \"scattermapbox\": [{\"marker\": {\"colorbar\": {\"outlinewidth\": 0, \"ticks\": \"\"}}, \"type\": \"scattermapbox\"}], \"scatterpolar\": [{\"marker\": {\"colorbar\": {\"outlinewidth\": 0, \"ticks\": \"\"}}, \"type\": \"scatterpolar\"}], \"scatterpolargl\": [{\"marker\": {\"colorbar\": {\"outlinewidth\": 0, \"ticks\": \"\"}}, \"type\": \"scatterpolargl\"}], \"scatterternary\": [{\"marker\": {\"colorbar\": {\"outlinewidth\": 0, \"ticks\": \"\"}}, \"type\": \"scatterternary\"}], \"surface\": [{\"colorbar\": {\"outlinewidth\": 0, \"ticks\": \"\"}, \"colorscale\": [[0.0, \"#0d0887\"], [0.1111111111111111, \"#46039f\"], [0.2222222222222222, \"#7201a8\"], [0.3333333333333333, \"#9c179e\"], [0.4444444444444444, \"#bd3786\"], [0.5555555555555556, \"#d8576b\"], [0.6666666666666666, \"#ed7953\"], [0.7777777777777778, \"#fb9f3a\"], [0.8888888888888888, \"#fdca26\"], [1.0, \"#f0f921\"]], \"type\": \"surface\"}], \"table\": [{\"cells\": {\"fill\": {\"color\": \"#EBF0F8\"}, \"line\": {\"color\": \"white\"}}, \"header\": {\"fill\": {\"color\": \"#C8D4E3\"}, \"line\": {\"color\": \"white\"}}, \"type\": \"table\"}]}, \"layout\": {\"annotationdefaults\": {\"arrowcolor\": \"#2a3f5f\", \"arrowhead\": 0, \"arrowwidth\": 1}, \"coloraxis\": {\"colorbar\": {\"outlinewidth\": 0, \"ticks\": \"\"}}, \"colorscale\": {\"diverging\": [[0, \"#8e0152\"], [0.1, \"#c51b7d\"], [0.2, \"#de77ae\"], [0.3, \"#f1b6da\"], [0.4, \"#fde0ef\"], [0.5, \"#f7f7f7\"], [0.6, \"#e6f5d0\"], [0.7, \"#b8e186\"], [0.8, \"#7fbc41\"], [0.9, \"#4d9221\"], [1, \"#276419\"]], \"sequential\": [[0.0, \"#0d0887\"], [0.1111111111111111, \"#46039f\"], [0.2222222222222222, \"#7201a8\"], [0.3333333333333333, \"#9c179e\"], [0.4444444444444444, \"#bd3786\"], [0.5555555555555556, \"#d8576b\"], [0.6666666666666666, \"#ed7953\"], [0.7777777777777778, \"#fb9f3a\"], [0.8888888888888888, \"#fdca26\"], [1.0, \"#f0f921\"]], \"sequentialminus\": [[0.0, \"#0d0887\"], [0.1111111111111111, \"#46039f\"], [0.2222222222222222, \"#7201a8\"], [0.3333333333333333, \"#9c179e\"], [0.4444444444444444, \"#bd3786\"], [0.5555555555555556, \"#d8576b\"], [0.6666666666666666, \"#ed7953\"], [0.7777777777777778, \"#fb9f3a\"], [0.8888888888888888, \"#fdca26\"], [1.0, \"#f0f921\"]]}, \"colorway\": [\"#636efa\", \"#EF553B\", \"#00cc96\", \"#ab63fa\", \"#FFA15A\", \"#19d3f3\", \"#FF6692\", \"#B6E880\", \"#FF97FF\", \"#FECB52\"], \"font\": {\"color\": \"#2a3f5f\"}, \"geo\": {\"bgcolor\": \"white\", \"lakecolor\": \"white\", \"landcolor\": \"#E5ECF6\", \"showlakes\": true, \"showland\": true, \"subunitcolor\": \"white\"}, \"hoverlabel\": {\"align\": \"left\"}, \"hovermode\": \"closest\", \"mapbox\": {\"style\": \"light\"}, \"paper_bgcolor\": \"white\", \"plot_bgcolor\": \"#E5ECF6\", \"polar\": {\"angularaxis\": {\"gridcolor\": \"white\", \"linecolor\": \"white\", \"ticks\": \"\"}, \"bgcolor\": \"#E5ECF6\", \"radialaxis\": {\"gridcolor\": \"white\", \"linecolor\": \"white\", \"ticks\": \"\"}}, \"scene\": {\"xaxis\": {\"backgroundcolor\": \"#E5ECF6\", \"gridcolor\": \"white\", \"gridwidth\": 2, \"linecolor\": \"white\", \"showbackground\": true, \"ticks\": \"\", \"zerolinecolor\": \"white\"}, \"yaxis\": {\"backgroundcolor\": \"#E5ECF6\", \"gridcolor\": \"white\", \"gridwidth\": 2, \"linecolor\": \"white\", \"showbackground\": true, \"ticks\": \"\", \"zerolinecolor\": \"white\"}, \"zaxis\": {\"backgroundcolor\": \"#E5ECF6\", \"gridcolor\": \"white\", \"gridwidth\": 2, \"linecolor\": \"white\", \"showbackground\": true, \"ticks\": \"\", \"zerolinecolor\": \"white\"}}, \"shapedefaults\": {\"line\": {\"color\": \"#2a3f5f\"}}, \"ternary\": {\"aaxis\": {\"gridcolor\": \"white\", \"linecolor\": \"white\", \"ticks\": \"\"}, \"baxis\": {\"gridcolor\": \"white\", \"linecolor\": \"white\", \"ticks\": \"\"}, \"bgcolor\": \"#E5ECF6\", \"caxis\": {\"gridcolor\": \"white\", \"linecolor\": \"white\", \"ticks\": \"\"}}, \"title\": {\"x\": 0.05}, \"xaxis\": {\"automargin\": true, \"gridcolor\": \"white\", \"linecolor\": \"white\", \"ticks\": \"\", \"title\": {\"standoff\": 15}, \"zerolinecolor\": \"white\", \"zerolinewidth\": 2}, \"yaxis\": {\"automargin\": true, \"gridcolor\": \"white\", \"linecolor\": \"white\", \"ticks\": \"\", \"title\": {\"standoff\": 15}, \"zerolinecolor\": \"white\", \"zerolinewidth\": 2}}}, \"xaxis\": {\"anchor\": \"y\", \"domain\": [0.0, 0.05846153846153847], \"title\": {\"text\": \"tipo\"}}, \"xaxis10\": {\"anchor\": \"y10\", \"domain\": [0.7061538461538461, 0.7646153846153846], \"matches\": \"x\", \"title\": {\"text\": \"tipo\"}}, \"xaxis11\": {\"anchor\": \"y11\", \"domain\": [0.7846153846153847, 0.8430769230769232], \"matches\": \"x\", \"title\": {\"text\": \"tipo\"}}, \"xaxis12\": {\"anchor\": \"y12\", \"domain\": [0.8630769230769231, 0.9215384615384615], \"matches\": \"x\", \"title\": {\"text\": \"tipo\"}}, \"xaxis13\": {\"anchor\": \"y13\", \"domain\": [0.9415384615384615, 1.0], \"matches\": \"x\", \"title\": {\"text\": \"tipo\"}}, \"xaxis2\": {\"anchor\": \"y2\", \"domain\": [0.07846153846153847, 0.13692307692307693], \"matches\": \"x\", \"title\": {\"text\": \"tipo\"}}, \"xaxis3\": {\"anchor\": \"y3\", \"domain\": [0.15692307692307694, 0.2153846153846154], \"matches\": \"x\", \"title\": {\"text\": \"tipo\"}}, \"xaxis4\": {\"anchor\": \"y4\", \"domain\": [0.23538461538461541, 0.29384615384615387], \"matches\": \"x\", \"title\": {\"text\": \"tipo\"}}, \"xaxis5\": {\"anchor\": \"y5\", \"domain\": [0.3138461538461539, 0.37230769230769234], \"matches\": \"x\", \"title\": {\"text\": \"tipo\"}}, \"xaxis6\": {\"anchor\": \"y6\", \"domain\": [0.39230769230769236, 0.4507692307692308], \"matches\": \"x\", \"title\": {\"text\": \"tipo\"}}, \"xaxis7\": {\"anchor\": \"y7\", \"domain\": [0.4707692307692308, 0.5292307692307693], \"matches\": \"x\", \"title\": {\"text\": \"tipo\"}}, \"xaxis8\": {\"anchor\": \"y8\", \"domain\": [0.5492307692307692, 0.6076923076923076], \"matches\": \"x\", \"title\": {\"text\": \"tipo\"}}, \"xaxis9\": {\"anchor\": \"y9\", \"domain\": [0.6276923076923077, 0.6861538461538461], \"matches\": \"x\", \"title\": {\"text\": \"tipo\"}}, \"yaxis\": {\"anchor\": \"x\", \"domain\": [0.0, 1.0], \"range\": [0, 1], \"tickformat\": \"%\", \"title\": {\"text\": \"Participaci\\u00f3n mensual\"}}, \"yaxis10\": {\"anchor\": \"x10\", \"domain\": [0.0, 1.0], \"matches\": \"y\", \"range\": [0, 1], \"showticklabels\": false, \"tickformat\": \"%\"}, \"yaxis11\": {\"anchor\": \"x11\", \"domain\": [0.0, 1.0], \"matches\": \"y\", \"range\": [0, 1], \"showticklabels\": false, \"tickformat\": \"%\"}, \"yaxis12\": {\"anchor\": \"x12\", \"domain\": [0.0, 1.0], \"matches\": \"y\", \"range\": [0, 1], \"showticklabels\": false, \"tickformat\": \"%\"}, \"yaxis13\": {\"anchor\": \"x13\", \"domain\": [0.0, 1.0], \"matches\": \"y\", \"range\": [0, 1], \"showticklabels\": false, \"tickformat\": \"%\"}, \"yaxis2\": {\"anchor\": \"x2\", \"domain\": [0.0, 1.0], \"matches\": \"y\", \"range\": [0, 1], \"showticklabels\": false, \"tickformat\": \"%\"}, \"yaxis3\": {\"anchor\": \"x3\", \"domain\": [0.0, 1.0], \"matches\": \"y\", \"range\": [0, 1], \"showticklabels\": false, \"tickformat\": \"%\"}, \"yaxis4\": {\"anchor\": \"x4\", \"domain\": [0.0, 1.0], \"matches\": \"y\", \"range\": [0, 1], \"showticklabels\": false, \"tickformat\": \"%\"}, \"yaxis5\": {\"anchor\": \"x5\", \"domain\": [0.0, 1.0], \"matches\": \"y\", \"range\": [0, 1], \"showticklabels\": false, \"tickformat\": \"%\"}, \"yaxis6\": {\"anchor\": \"x6\", \"domain\": [0.0, 1.0], \"matches\": \"y\", \"range\": [0, 1], \"showticklabels\": false, \"tickformat\": \"%\"}, \"yaxis7\": {\"anchor\": \"x7\", \"domain\": [0.0, 1.0], \"matches\": \"y\", \"range\": [0, 1], \"showticklabels\": false, \"tickformat\": \"%\"}, \"yaxis8\": {\"anchor\": \"x8\", \"domain\": [0.0, 1.0], \"matches\": \"y\", \"range\": [0, 1], \"showticklabels\": false, \"tickformat\": \"%\"}, \"yaxis9\": {\"anchor\": \"x9\", \"domain\": [0.0, 1.0], \"matches\": \"y\", \"range\": [0, 1], \"showticklabels\": false, \"tickformat\": \"%\"}},\n",
       "                        {\"responsive\": true}\n",
       "                    ).then(function(){\n",
       "                            \n",
       "var gd = document.getElementById('7e33d963-2caa-417f-ae07-08bc0042ebc0');\n",
       "var x = new MutationObserver(function (mutations, observer) {{\n",
       "        var display = window.getComputedStyle(gd).display;\n",
       "        if (!display || display === 'none') {{\n",
       "            console.log([gd, 'removed!']);\n",
       "            Plotly.purge(gd);\n",
       "            observer.disconnect();\n",
       "        }}\n",
       "}});\n",
       "\n",
       "// Listen for the removal of the full notebook cells\n",
       "var notebookContainer = gd.closest('#notebook-container');\n",
       "if (notebookContainer) {{\n",
       "    x.observe(notebookContainer, {childList: true});\n",
       "}}\n",
       "\n",
       "// Listen for the clearing of the current output cell\n",
       "var outputEl = gd.closest('.output');\n",
       "if (outputEl) {{\n",
       "    x.observe(outputEl, {childList: true});\n",
       "}}\n",
       "\n",
       "                        })\n",
       "                };\n",
       "                });\n",
       "            </script>\n",
       "        </div>"
      ]
     },
     "metadata": {},
     "output_type": "display_data"
    }
   ],
   "source": [
    "fig_consultas"
   ]
  },
  {
   "cell_type": "code",
   "execution_count": null,
   "metadata": {},
   "outputs": [],
   "source": [
    "    fig_consultas.layout.xaxis1.title = None\n",
    "    fig_consultas.layout.xaxis2.title = None\n",
    "    fig_consultas.layout.xaxis3.title = None\n",
    "    fig_consultas.layout.xaxis4.title = None\n",
    "    fig_consultas.layout.xaxis5.title = None\n",
    "    fig_consultas.layout.xaxis5.title = None\n",
    "    fig_consultas.layout.xaxis6.title = None\n",
    "    fig_consultas.layout.xaxis7.title = None\n",
    "    fig_consultas.layout.xaxis8.title = None\n",
    "    fig_consultas.layout.xaxis9.title = None\n",
    "    fig_consultas.layout.xaxis10.title = None\n",
    "    fig_consultas.layout.xaxis11.title = None\n",
    "    fig_consultas.layout.xaxis12.title = None\n",
    "    fig_consultas.layout.xaxis13.title = None"
   ]
  },
  {
   "cell_type": "code",
   "execution_count": 189,
   "metadata": {},
   "outputs": [
    {
     "name": "stdout",
     "output_type": "stream",
     "text": [
      "1\n",
      "2\n",
      "3\n",
      "4\n",
      "5\n",
      "6\n",
      "7\n",
      "8\n",
      "9\n",
      "10\n",
      "11\n",
      "12\n",
      "13\n"
     ]
    }
   ],
   "source": [
    "for i in range(1,14):\n",
    "    print(i)"
   ]
  },
  {
   "cell_type": "code",
   "execution_count": 199,
   "metadata": {
    "scrolled": true
   },
   "outputs": [
    {
     "data": {
      "text/plain": [
       "layout.xaxis.Title({\n",
       "    'text': 'tipo'\n",
       "})"
      ]
     },
     "execution_count": 199,
     "metadata": {},
     "output_type": "execute_result"
    }
   ],
   "source": [
    "var_holder = {}\n",
    " \n",
    "for i in range(1,14):\n",
    "    var_holder[\"fig_consultas.layout.xaxis\" + str(i) + \".title.text\"] = None\n",
    "\n",
    "locals().update(var_holder)\n",
    " \n",
    "fig_consultas.layout.xaxis9.title"
   ]
  },
  {
   "cell_type": "code",
   "execution_count": 197,
   "metadata": {},
   "outputs": [
    {
     "data": {
      "text/plain": [
       "layout.xaxis.Title({\n",
       "    'text': 'tipo'\n",
       "})"
      ]
     },
     "execution_count": 197,
     "metadata": {},
     "output_type": "execute_result"
    }
   ],
   "source": [
    "fig_consultas.layout.xaxis9.title"
   ]
  },
  {
   "cell_type": "code",
   "execution_count": 200,
   "metadata": {
    "scrolled": false
   },
   "outputs": [
    {
     "data": {
      "text/plain": [
       "'tipo'"
      ]
     },
     "execution_count": 200,
     "metadata": {},
     "output_type": "execute_result"
    }
   ],
   "source": [
    "fig_consultas.layout.xaxis.title.text"
   ]
  },
  {
   "cell_type": "code",
   "execution_count": 177,
   "metadata": {},
   "outputs": [
    {
     "name": "stdout",
     "output_type": "stream",
     "text": [
      "iterationNumber==0\n"
     ]
    }
   ],
   "source": [
    "var_holder = {}\n",
    " \n",
    "for i in range(10):\n",
    "    var_holder['my_var_' + str(i)] = \"iterationNumber==\"+str(i)\n",
    " \n",
    "locals().update(var_holder)\n",
    " \n",
    "print(my_var_0)"
   ]
  },
  {
   "cell_type": "code",
   "execution_count": 178,
   "metadata": {},
   "outputs": [
    {
     "data": {
      "text/plain": [
       "'iterationNumber==0'"
      ]
     },
     "execution_count": 178,
     "metadata": {},
     "output_type": "execute_result"
    }
   ],
   "source": [
    "my_var_0"
   ]
  },
  {
   "cell_type": "code",
   "execution_count": null,
   "metadata": {},
   "outputs": [],
   "source": [
    "{'data': [],\n",
    "'layout': {}\n",
    "        }\n",
    "    \n"
   ]
  },
  {
   "cell_type": "code",
   "execution_count": 209,
   "metadata": {},
   "outputs": [
    {
     "data": {
      "text/plain": [
       "(Bar({\n",
       "     'alignmentgroup': 'True',\n",
       "     'hovertemplate': ('consulta=Porcentaje de afiliad' ... 'ón mensual=%{y}<extra></extra>'),\n",
       "     'legendgroup': 'Porcentaje de afiliados con consultas únicas',\n",
       "     'marker': {'color': '#636efa'},\n",
       "     'name': 'Porcentaje de afiliados con consultas únicas',\n",
       "     'offsetgroup': 'Porcentaje de afiliados con consultas únicas',\n",
       "     'orientation': 'v',\n",
       "     'showlegend': True,\n",
       "     'textposition': 'auto',\n",
       "     'x': array(['especialidad', 'prestador'], dtype=object),\n",
       "     'xaxis': 'x',\n",
       "     'y': array([0.74, 0.88]),\n",
       "     'yaxis': 'y'\n",
       " }),\n",
       " Bar({\n",
       "     'alignmentgroup': 'True',\n",
       "     'hovertemplate': ('consulta=Porcentaje de afiliad' ... 'ón mensual=%{y}<extra></extra>'),\n",
       "     'legendgroup': 'Porcentaje de afiliados con consultas únicas',\n",
       "     'marker': {'color': '#636efa'},\n",
       "     'name': 'Porcentaje de afiliados con consultas únicas',\n",
       "     'offsetgroup': 'Porcentaje de afiliados con consultas únicas',\n",
       "     'orientation': 'v',\n",
       "     'showlegend': False,\n",
       "     'textposition': 'auto',\n",
       "     'x': array(['especialidad', 'prestador'], dtype=object),\n",
       "     'xaxis': 'x2',\n",
       "     'y': array([0.89, 0.88]),\n",
       "     'yaxis': 'y2'\n",
       " }),\n",
       " Bar({\n",
       "     'alignmentgroup': 'True',\n",
       "     'hovertemplate': ('consulta=Porcentaje de afiliad' ... 'ón mensual=%{y}<extra></extra>'),\n",
       "     'legendgroup': 'Porcentaje de afiliados con consultas únicas',\n",
       "     'marker': {'color': '#636efa'},\n",
       "     'name': 'Porcentaje de afiliados con consultas únicas',\n",
       "     'offsetgroup': 'Porcentaje de afiliados con consultas únicas',\n",
       "     'orientation': 'v',\n",
       "     'showlegend': False,\n",
       "     'textposition': 'auto',\n",
       "     'x': array(['especialidad', 'prestador'], dtype=object),\n",
       "     'xaxis': 'x3',\n",
       "     'y': array([0., 0.]),\n",
       "     'yaxis': 'y3'\n",
       " }),\n",
       " Bar({\n",
       "     'alignmentgroup': 'True',\n",
       "     'hovertemplate': ('consulta=Porcentaje de afiliad' ... 'ón mensual=%{y}<extra></extra>'),\n",
       "     'legendgroup': 'Porcentaje de afiliados con consultas únicas',\n",
       "     'marker': {'color': '#636efa'},\n",
       "     'name': 'Porcentaje de afiliados con consultas únicas',\n",
       "     'offsetgroup': 'Porcentaje de afiliados con consultas únicas',\n",
       "     'orientation': 'v',\n",
       "     'showlegend': False,\n",
       "     'textposition': 'auto',\n",
       "     'x': array(['especialidad', 'prestador'], dtype=object),\n",
       "     'xaxis': 'x4',\n",
       "     'y': array([0., 0.]),\n",
       "     'yaxis': 'y4'\n",
       " }),\n",
       " Bar({\n",
       "     'alignmentgroup': 'True',\n",
       "     'hovertemplate': ('consulta=Porcentaje de afiliad' ... 'ón mensual=%{y}<extra></extra>'),\n",
       "     'legendgroup': 'Porcentaje de afiliados con consultas únicas',\n",
       "     'marker': {'color': '#636efa'},\n",
       "     'name': 'Porcentaje de afiliados con consultas únicas',\n",
       "     'offsetgroup': 'Porcentaje de afiliados con consultas únicas',\n",
       "     'orientation': 'v',\n",
       "     'showlegend': False,\n",
       "     'textposition': 'auto',\n",
       "     'x': array(['especialidad', 'prestador'], dtype=object),\n",
       "     'xaxis': 'x5',\n",
       "     'y': array([0.75, 0.6 ]),\n",
       "     'yaxis': 'y5'\n",
       " }),\n",
       " Bar({\n",
       "     'alignmentgroup': 'True',\n",
       "     'hovertemplate': ('consulta=Porcentaje de afiliad' ... 'ón mensual=%{y}<extra></extra>'),\n",
       "     'legendgroup': 'Porcentaje de afiliados con consultas únicas',\n",
       "     'marker': {'color': '#636efa'},\n",
       "     'name': 'Porcentaje de afiliados con consultas únicas',\n",
       "     'offsetgroup': 'Porcentaje de afiliados con consultas únicas',\n",
       "     'orientation': 'v',\n",
       "     'showlegend': False,\n",
       "     'textposition': 'auto',\n",
       "     'x': array(['especialidad', 'prestador'], dtype=object),\n",
       "     'xaxis': 'x6',\n",
       "     'y': array([0., 0.]),\n",
       "     'yaxis': 'y6'\n",
       " }),\n",
       " Bar({\n",
       "     'alignmentgroup': 'True',\n",
       "     'hovertemplate': ('consulta=Porcentaje de afiliad' ... 'ón mensual=%{y}<extra></extra>'),\n",
       "     'legendgroup': 'Porcentaje de afiliados con consultas únicas',\n",
       "     'marker': {'color': '#636efa'},\n",
       "     'name': 'Porcentaje de afiliados con consultas únicas',\n",
       "     'offsetgroup': 'Porcentaje de afiliados con consultas únicas',\n",
       "     'orientation': 'v',\n",
       "     'showlegend': False,\n",
       "     'textposition': 'auto',\n",
       "     'x': array(['especialidad', 'prestador'], dtype=object),\n",
       "     'xaxis': 'x7',\n",
       "     'y': array([0.77, 0.88]),\n",
       "     'yaxis': 'y7'\n",
       " }),\n",
       " Bar({\n",
       "     'alignmentgroup': 'True',\n",
       "     'hovertemplate': ('consulta=Porcentaje de afiliad' ... 'ón mensual=%{y}<extra></extra>'),\n",
       "     'legendgroup': 'Porcentaje de afiliados con consultas únicas',\n",
       "     'marker': {'color': '#636efa'},\n",
       "     'name': 'Porcentaje de afiliados con consultas únicas',\n",
       "     'offsetgroup': 'Porcentaje de afiliados con consultas únicas',\n",
       "     'orientation': 'v',\n",
       "     'showlegend': False,\n",
       "     'textposition': 'auto',\n",
       "     'x': array(['especialidad', 'prestador'], dtype=object),\n",
       "     'xaxis': 'x8',\n",
       "     'y': array([0.75, 0.8 ]),\n",
       "     'yaxis': 'y8'\n",
       " }),\n",
       " Bar({\n",
       "     'alignmentgroup': 'True',\n",
       "     'hovertemplate': ('consulta=Porcentaje de afiliad' ... 'ón mensual=%{y}<extra></extra>'),\n",
       "     'legendgroup': 'Porcentaje de afiliados con consultas únicas',\n",
       "     'marker': {'color': '#636efa'},\n",
       "     'name': 'Porcentaje de afiliados con consultas únicas',\n",
       "     'offsetgroup': 'Porcentaje de afiliados con consultas únicas',\n",
       "     'orientation': 'v',\n",
       "     'showlegend': False,\n",
       "     'textposition': 'auto',\n",
       "     'x': array(['especialidad', 'prestador'], dtype=object),\n",
       "     'xaxis': 'x9',\n",
       "     'y': array([0.73, 0.78]),\n",
       "     'yaxis': 'y9'\n",
       " }),\n",
       " Bar({\n",
       "     'alignmentgroup': 'True',\n",
       "     'hovertemplate': ('consulta=Porcentaje de afiliad' ... 'ón mensual=%{y}<extra></extra>'),\n",
       "     'legendgroup': 'Porcentaje de afiliados con consultas únicas',\n",
       "     'marker': {'color': '#636efa'},\n",
       "     'name': 'Porcentaje de afiliados con consultas únicas',\n",
       "     'offsetgroup': 'Porcentaje de afiliados con consultas únicas',\n",
       "     'orientation': 'v',\n",
       "     'showlegend': False,\n",
       "     'textposition': 'auto',\n",
       "     'x': array(['especialidad', 'prestador'], dtype=object),\n",
       "     'xaxis': 'x10',\n",
       "     'y': array([0.74, 0.82]),\n",
       "     'yaxis': 'y10'\n",
       " }),\n",
       " Bar({\n",
       "     'alignmentgroup': 'True',\n",
       "     'hovertemplate': ('consulta=Porcentaje de afiliad' ... 'ón mensual=%{y}<extra></extra>'),\n",
       "     'legendgroup': 'Porcentaje de afiliados con consultas únicas',\n",
       "     'marker': {'color': '#636efa'},\n",
       "     'name': 'Porcentaje de afiliados con consultas únicas',\n",
       "     'offsetgroup': 'Porcentaje de afiliados con consultas únicas',\n",
       "     'orientation': 'v',\n",
       "     'showlegend': False,\n",
       "     'textposition': 'auto',\n",
       "     'x': array(['especialidad', 'prestador'], dtype=object),\n",
       "     'xaxis': 'x11',\n",
       "     'y': array([0., 0.]),\n",
       "     'yaxis': 'y11'\n",
       " }),\n",
       " Bar({\n",
       "     'alignmentgroup': 'True',\n",
       "     'hovertemplate': ('consulta=Porcentaje de afiliad' ... 'ón mensual=%{y}<extra></extra>'),\n",
       "     'legendgroup': 'Porcentaje de afiliados con consultas únicas',\n",
       "     'marker': {'color': '#636efa'},\n",
       "     'name': 'Porcentaje de afiliados con consultas únicas',\n",
       "     'offsetgroup': 'Porcentaje de afiliados con consultas únicas',\n",
       "     'orientation': 'v',\n",
       "     'showlegend': False,\n",
       "     'textposition': 'auto',\n",
       "     'x': array(['especialidad', 'prestador'], dtype=object),\n",
       "     'xaxis': 'x12',\n",
       "     'y': array([0., 0.]),\n",
       "     'yaxis': 'y12'\n",
       " }),\n",
       " Bar({\n",
       "     'alignmentgroup': 'True',\n",
       "     'hovertemplate': ('consulta=Porcentaje de afiliad' ... 'ón mensual=%{y}<extra></extra>'),\n",
       "     'legendgroup': 'Porcentaje de afiliados con consultas únicas',\n",
       "     'marker': {'color': '#636efa'},\n",
       "     'name': 'Porcentaje de afiliados con consultas únicas',\n",
       "     'offsetgroup': 'Porcentaje de afiliados con consultas únicas',\n",
       "     'orientation': 'v',\n",
       "     'showlegend': False,\n",
       "     'textposition': 'auto',\n",
       "     'x': array(['especialidad', 'prestador'], dtype=object),\n",
       "     'xaxis': 'x13',\n",
       "     'y': array([0.78, 0.74]),\n",
       "     'yaxis': 'y13'\n",
       " }),\n",
       " Bar({\n",
       "     'alignmentgroup': 'True',\n",
       "     'hovertemplate': ('consulta=Porcentaje de afiliad' ... 'ón mensual=%{y}<extra></extra>'),\n",
       "     'legendgroup': 'Porcentaje de afiliados con 2 consultas',\n",
       "     'marker': {'color': '#EF553B'},\n",
       "     'name': 'Porcentaje de afiliados con 2 consultas',\n",
       "     'offsetgroup': 'Porcentaje de afiliados con 2 consultas',\n",
       "     'orientation': 'v',\n",
       "     'showlegend': True,\n",
       "     'textposition': 'auto',\n",
       "     'x': array(['especialidad', 'prestador'], dtype=object),\n",
       "     'xaxis': 'x',\n",
       "     'y': array([0.18, 0.12]),\n",
       "     'yaxis': 'y'\n",
       " }),\n",
       " Bar({\n",
       "     'alignmentgroup': 'True',\n",
       "     'hovertemplate': ('consulta=Porcentaje de afiliad' ... 'ón mensual=%{y}<extra></extra>'),\n",
       "     'legendgroup': 'Porcentaje de afiliados con 2 consultas',\n",
       "     'marker': {'color': '#EF553B'},\n",
       "     'name': 'Porcentaje de afiliados con 2 consultas',\n",
       "     'offsetgroup': 'Porcentaje de afiliados con 2 consultas',\n",
       "     'orientation': 'v',\n",
       "     'showlegend': False,\n",
       "     'textposition': 'auto',\n",
       "     'x': array(['especialidad', 'prestador'], dtype=object),\n",
       "     'xaxis': 'x2',\n",
       "     'y': array([0.11, 0.12]),\n",
       "     'yaxis': 'y2'\n",
       " }),\n",
       " Bar({\n",
       "     'alignmentgroup': 'True',\n",
       "     'hovertemplate': ('consulta=Porcentaje de afiliad' ... 'ón mensual=%{y}<extra></extra>'),\n",
       "     'legendgroup': 'Porcentaje de afiliados con 2 consultas',\n",
       "     'marker': {'color': '#EF553B'},\n",
       "     'name': 'Porcentaje de afiliados con 2 consultas',\n",
       "     'offsetgroup': 'Porcentaje de afiliados con 2 consultas',\n",
       "     'orientation': 'v',\n",
       "     'showlegend': False,\n",
       "     'textposition': 'auto',\n",
       "     'x': array(['especialidad', 'prestador'], dtype=object),\n",
       "     'xaxis': 'x3',\n",
       "     'y': array([0., 0.]),\n",
       "     'yaxis': 'y3'\n",
       " }),\n",
       " Bar({\n",
       "     'alignmentgroup': 'True',\n",
       "     'hovertemplate': ('consulta=Porcentaje de afiliad' ... 'ón mensual=%{y}<extra></extra>'),\n",
       "     'legendgroup': 'Porcentaje de afiliados con 2 consultas',\n",
       "     'marker': {'color': '#EF553B'},\n",
       "     'name': 'Porcentaje de afiliados con 2 consultas',\n",
       "     'offsetgroup': 'Porcentaje de afiliados con 2 consultas',\n",
       "     'orientation': 'v',\n",
       "     'showlegend': False,\n",
       "     'textposition': 'auto',\n",
       "     'x': array(['especialidad', 'prestador'], dtype=object),\n",
       "     'xaxis': 'x4',\n",
       "     'y': array([0., 0.]),\n",
       "     'yaxis': 'y4'\n",
       " }),\n",
       " Bar({\n",
       "     'alignmentgroup': 'True',\n",
       "     'hovertemplate': ('consulta=Porcentaje de afiliad' ... 'ón mensual=%{y}<extra></extra>'),\n",
       "     'legendgroup': 'Porcentaje de afiliados con 2 consultas',\n",
       "     'marker': {'color': '#EF553B'},\n",
       "     'name': 'Porcentaje de afiliados con 2 consultas',\n",
       "     'offsetgroup': 'Porcentaje de afiliados con 2 consultas',\n",
       "     'orientation': 'v',\n",
       "     'showlegend': False,\n",
       "     'textposition': 'auto',\n",
       "     'x': array(['especialidad', 'prestador'], dtype=object),\n",
       "     'xaxis': 'x5',\n",
       "     'y': array([0.21, 0.33]),\n",
       "     'yaxis': 'y5'\n",
       " }),\n",
       " Bar({\n",
       "     'alignmentgroup': 'True',\n",
       "     'hovertemplate': ('consulta=Porcentaje de afiliad' ... 'ón mensual=%{y}<extra></extra>'),\n",
       "     'legendgroup': 'Porcentaje de afiliados con 2 consultas',\n",
       "     'marker': {'color': '#EF553B'},\n",
       "     'name': 'Porcentaje de afiliados con 2 consultas',\n",
       "     'offsetgroup': 'Porcentaje de afiliados con 2 consultas',\n",
       "     'orientation': 'v',\n",
       "     'showlegend': False,\n",
       "     'textposition': 'auto',\n",
       "     'x': array(['especialidad', 'prestador'], dtype=object),\n",
       "     'xaxis': 'x6',\n",
       "     'y': array([0., 0.]),\n",
       "     'yaxis': 'y6'\n",
       " }),\n",
       " Bar({\n",
       "     'alignmentgroup': 'True',\n",
       "     'hovertemplate': ('consulta=Porcentaje de afiliad' ... 'ón mensual=%{y}<extra></extra>'),\n",
       "     'legendgroup': 'Porcentaje de afiliados con 2 consultas',\n",
       "     'marker': {'color': '#EF553B'},\n",
       "     'name': 'Porcentaje de afiliados con 2 consultas',\n",
       "     'offsetgroup': 'Porcentaje de afiliados con 2 consultas',\n",
       "     'orientation': 'v',\n",
       "     'showlegend': False,\n",
       "     'textposition': 'auto',\n",
       "     'x': array(['especialidad', 'prestador'], dtype=object),\n",
       "     'xaxis': 'x7',\n",
       "     'y': array([0.16, 0.05]),\n",
       "     'yaxis': 'y7'\n",
       " }),\n",
       " Bar({\n",
       "     'alignmentgroup': 'True',\n",
       "     'hovertemplate': ('consulta=Porcentaje de afiliad' ... 'ón mensual=%{y}<extra></extra>'),\n",
       "     'legendgroup': 'Porcentaje de afiliados con 2 consultas',\n",
       "     'marker': {'color': '#EF553B'},\n",
       "     'name': 'Porcentaje de afiliados con 2 consultas',\n",
       "     'offsetgroup': 'Porcentaje de afiliados con 2 consultas',\n",
       "     'orientation': 'v',\n",
       "     'showlegend': False,\n",
       "     'textposition': 'auto',\n",
       "     'x': array(['especialidad', 'prestador'], dtype=object),\n",
       "     'xaxis': 'x8',\n",
       "     'y': array([0.17, 0.11]),\n",
       "     'yaxis': 'y8'\n",
       " }),\n",
       " Bar({\n",
       "     'alignmentgroup': 'True',\n",
       "     'hovertemplate': ('consulta=Porcentaje de afiliad' ... 'ón mensual=%{y}<extra></extra>'),\n",
       "     'legendgroup': 'Porcentaje de afiliados con 2 consultas',\n",
       "     'marker': {'color': '#EF553B'},\n",
       "     'name': 'Porcentaje de afiliados con 2 consultas',\n",
       "     'offsetgroup': 'Porcentaje de afiliados con 2 consultas',\n",
       "     'orientation': 'v',\n",
       "     'showlegend': False,\n",
       "     'textposition': 'auto',\n",
       "     'x': array(['especialidad', 'prestador'], dtype=object),\n",
       "     'xaxis': 'x9',\n",
       "     'y': array([0.23, 0.22]),\n",
       "     'yaxis': 'y9'\n",
       " }),\n",
       " Bar({\n",
       "     'alignmentgroup': 'True',\n",
       "     'hovertemplate': ('consulta=Porcentaje de afiliad' ... 'ón mensual=%{y}<extra></extra>'),\n",
       "     'legendgroup': 'Porcentaje de afiliados con 2 consultas',\n",
       "     'marker': {'color': '#EF553B'},\n",
       "     'name': 'Porcentaje de afiliados con 2 consultas',\n",
       "     'offsetgroup': 'Porcentaje de afiliados con 2 consultas',\n",
       "     'orientation': 'v',\n",
       "     'showlegend': False,\n",
       "     'textposition': 'auto',\n",
       "     'x': array(['especialidad', 'prestador'], dtype=object),\n",
       "     'xaxis': 'x10',\n",
       "     'y': array([0.17, 0.13]),\n",
       "     'yaxis': 'y10'\n",
       " }),\n",
       " Bar({\n",
       "     'alignmentgroup': 'True',\n",
       "     'hovertemplate': ('consulta=Porcentaje de afiliad' ... 'ón mensual=%{y}<extra></extra>'),\n",
       "     'legendgroup': 'Porcentaje de afiliados con 2 consultas',\n",
       "     'marker': {'color': '#EF553B'},\n",
       "     'name': 'Porcentaje de afiliados con 2 consultas',\n",
       "     'offsetgroup': 'Porcentaje de afiliados con 2 consultas',\n",
       "     'orientation': 'v',\n",
       "     'showlegend': False,\n",
       "     'textposition': 'auto',\n",
       "     'x': array(['especialidad', 'prestador'], dtype=object),\n",
       "     'xaxis': 'x11',\n",
       "     'y': array([0., 0.]),\n",
       "     'yaxis': 'y11'\n",
       " }),\n",
       " Bar({\n",
       "     'alignmentgroup': 'True',\n",
       "     'hovertemplate': ('consulta=Porcentaje de afiliad' ... 'ón mensual=%{y}<extra></extra>'),\n",
       "     'legendgroup': 'Porcentaje de afiliados con 2 consultas',\n",
       "     'marker': {'color': '#EF553B'},\n",
       "     'name': 'Porcentaje de afiliados con 2 consultas',\n",
       "     'offsetgroup': 'Porcentaje de afiliados con 2 consultas',\n",
       "     'orientation': 'v',\n",
       "     'showlegend': False,\n",
       "     'textposition': 'auto',\n",
       "     'x': array(['especialidad', 'prestador'], dtype=object),\n",
       "     'xaxis': 'x12',\n",
       "     'y': array([0., 0.]),\n",
       "     'yaxis': 'y12'\n",
       " }),\n",
       " Bar({\n",
       "     'alignmentgroup': 'True',\n",
       "     'hovertemplate': ('consulta=Porcentaje de afiliad' ... 'ón mensual=%{y}<extra></extra>'),\n",
       "     'legendgroup': 'Porcentaje de afiliados con 2 consultas',\n",
       "     'marker': {'color': '#EF553B'},\n",
       "     'name': 'Porcentaje de afiliados con 2 consultas',\n",
       "     'offsetgroup': 'Porcentaje de afiliados con 2 consultas',\n",
       "     'orientation': 'v',\n",
       "     'showlegend': False,\n",
       "     'textposition': 'auto',\n",
       "     'x': array(['especialidad', 'prestador'], dtype=object),\n",
       "     'xaxis': 'x13',\n",
       "     'y': array([0.19, 0.12]),\n",
       "     'yaxis': 'y13'\n",
       " }),\n",
       " Bar({\n",
       "     'alignmentgroup': 'True',\n",
       "     'hovertemplate': ('consulta=Porcentaje de afiliad' ... 'ón mensual=%{y}<extra></extra>'),\n",
       "     'legendgroup': 'Porcentaje de afiliados con 3 consultas',\n",
       "     'marker': {'color': '#00cc96'},\n",
       "     'name': 'Porcentaje de afiliados con 3 consultas',\n",
       "     'offsetgroup': 'Porcentaje de afiliados con 3 consultas',\n",
       "     'orientation': 'v',\n",
       "     'showlegend': True,\n",
       "     'textposition': 'auto',\n",
       "     'x': array(['especialidad', 'prestador'], dtype=object),\n",
       "     'xaxis': 'x',\n",
       "     'y': array([0.06, 0.  ]),\n",
       "     'yaxis': 'y'\n",
       " }),\n",
       " Bar({\n",
       "     'alignmentgroup': 'True',\n",
       "     'hovertemplate': ('consulta=Porcentaje de afiliad' ... 'ón mensual=%{y}<extra></extra>'),\n",
       "     'legendgroup': 'Porcentaje de afiliados con 3 consultas',\n",
       "     'marker': {'color': '#00cc96'},\n",
       "     'name': 'Porcentaje de afiliados con 3 consultas',\n",
       "     'offsetgroup': 'Porcentaje de afiliados con 3 consultas',\n",
       "     'orientation': 'v',\n",
       "     'showlegend': False,\n",
       "     'textposition': 'auto',\n",
       "     'x': array(['especialidad', 'prestador'], dtype=object),\n",
       "     'xaxis': 'x2',\n",
       "     'y': array([0.01, 0.  ]),\n",
       "     'yaxis': 'y2'\n",
       " }),\n",
       " Bar({\n",
       "     'alignmentgroup': 'True',\n",
       "     'hovertemplate': ('consulta=Porcentaje de afiliad' ... 'ón mensual=%{y}<extra></extra>'),\n",
       "     'legendgroup': 'Porcentaje de afiliados con 3 consultas',\n",
       "     'marker': {'color': '#00cc96'},\n",
       "     'name': 'Porcentaje de afiliados con 3 consultas',\n",
       "     'offsetgroup': 'Porcentaje de afiliados con 3 consultas',\n",
       "     'orientation': 'v',\n",
       "     'showlegend': False,\n",
       "     'textposition': 'auto',\n",
       "     'x': array(['especialidad', 'prestador'], dtype=object),\n",
       "     'xaxis': 'x3',\n",
       "     'y': array([0., 0.]),\n",
       "     'yaxis': 'y3'\n",
       " }),\n",
       " Bar({\n",
       "     'alignmentgroup': 'True',\n",
       "     'hovertemplate': ('consulta=Porcentaje de afiliad' ... 'ón mensual=%{y}<extra></extra>'),\n",
       "     'legendgroup': 'Porcentaje de afiliados con 3 consultas',\n",
       "     'marker': {'color': '#00cc96'},\n",
       "     'name': 'Porcentaje de afiliados con 3 consultas',\n",
       "     'offsetgroup': 'Porcentaje de afiliados con 3 consultas',\n",
       "     'orientation': 'v',\n",
       "     'showlegend': False,\n",
       "     'textposition': 'auto',\n",
       "     'x': array(['especialidad', 'prestador'], dtype=object),\n",
       "     'xaxis': 'x4',\n",
       "     'y': array([0., 0.]),\n",
       "     'yaxis': 'y4'\n",
       " }),\n",
       " Bar({\n",
       "     'alignmentgroup': 'True',\n",
       "     'hovertemplate': ('consulta=Porcentaje de afiliad' ... 'ón mensual=%{y}<extra></extra>'),\n",
       "     'legendgroup': 'Porcentaje de afiliados con 3 consultas',\n",
       "     'marker': {'color': '#00cc96'},\n",
       "     'name': 'Porcentaje de afiliados con 3 consultas',\n",
       "     'offsetgroup': 'Porcentaje de afiliados con 3 consultas',\n",
       "     'orientation': 'v',\n",
       "     'showlegend': False,\n",
       "     'textposition': 'auto',\n",
       "     'x': array(['especialidad', 'prestador'], dtype=object),\n",
       "     'xaxis': 'x5',\n",
       "     'y': array([0.04, 0.07]),\n",
       "     'yaxis': 'y5'\n",
       " }),\n",
       " Bar({\n",
       "     'alignmentgroup': 'True',\n",
       "     'hovertemplate': ('consulta=Porcentaje de afiliad' ... 'ón mensual=%{y}<extra></extra>'),\n",
       "     'legendgroup': 'Porcentaje de afiliados con 3 consultas',\n",
       "     'marker': {'color': '#00cc96'},\n",
       "     'name': 'Porcentaje de afiliados con 3 consultas',\n",
       "     'offsetgroup': 'Porcentaje de afiliados con 3 consultas',\n",
       "     'orientation': 'v',\n",
       "     'showlegend': False,\n",
       "     'textposition': 'auto',\n",
       "     'x': array(['especialidad', 'prestador'], dtype=object),\n",
       "     'xaxis': 'x6',\n",
       "     'y': array([0., 0.]),\n",
       "     'yaxis': 'y6'\n",
       " }),\n",
       " Bar({\n",
       "     'alignmentgroup': 'True',\n",
       "     'hovertemplate': ('consulta=Porcentaje de afiliad' ... 'ón mensual=%{y}<extra></extra>'),\n",
       "     'legendgroup': 'Porcentaje de afiliados con 3 consultas',\n",
       "     'marker': {'color': '#00cc96'},\n",
       "     'name': 'Porcentaje de afiliados con 3 consultas',\n",
       "     'offsetgroup': 'Porcentaje de afiliados con 3 consultas',\n",
       "     'orientation': 'v',\n",
       "     'showlegend': False,\n",
       "     'textposition': 'auto',\n",
       "     'x': array(['especialidad', 'prestador'], dtype=object),\n",
       "     'xaxis': 'x7',\n",
       "     'y': array([0.06, 0.07]),\n",
       "     'yaxis': 'y7'\n",
       " }),\n",
       " Bar({\n",
       "     'alignmentgroup': 'True',\n",
       "     'hovertemplate': ('consulta=Porcentaje de afiliad' ... 'ón mensual=%{y}<extra></extra>'),\n",
       "     'legendgroup': 'Porcentaje de afiliados con 3 consultas',\n",
       "     'marker': {'color': '#00cc96'},\n",
       "     'name': 'Porcentaje de afiliados con 3 consultas',\n",
       "     'offsetgroup': 'Porcentaje de afiliados con 3 consultas',\n",
       "     'orientation': 'v',\n",
       "     'showlegend': False,\n",
       "     'textposition': 'auto',\n",
       "     'x': array(['especialidad', 'prestador'], dtype=object),\n",
       "     'xaxis': 'x8',\n",
       "     'y': array([0.08, 0.09]),\n",
       "     'yaxis': 'y8'\n",
       " }),\n",
       " Bar({\n",
       "     'alignmentgroup': 'True',\n",
       "     'hovertemplate': ('consulta=Porcentaje de afiliad' ... 'ón mensual=%{y}<extra></extra>'),\n",
       "     'legendgroup': 'Porcentaje de afiliados con 3 consultas',\n",
       "     'marker': {'color': '#00cc96'},\n",
       "     'name': 'Porcentaje de afiliados con 3 consultas',\n",
       "     'offsetgroup': 'Porcentaje de afiliados con 3 consultas',\n",
       "     'orientation': 'v',\n",
       "     'showlegend': False,\n",
       "     'textposition': 'auto',\n",
       "     'x': array(['especialidad', 'prestador'], dtype=object),\n",
       "     'xaxis': 'x9',\n",
       "     'y': array([0.03, 0.  ]),\n",
       "     'yaxis': 'y9'\n",
       " }),\n",
       " Bar({\n",
       "     'alignmentgroup': 'True',\n",
       "     'hovertemplate': ('consulta=Porcentaje de afiliad' ... 'ón mensual=%{y}<extra></extra>'),\n",
       "     'legendgroup': 'Porcentaje de afiliados con 3 consultas',\n",
       "     'marker': {'color': '#00cc96'},\n",
       "     'name': 'Porcentaje de afiliados con 3 consultas',\n",
       "     'offsetgroup': 'Porcentaje de afiliados con 3 consultas',\n",
       "     'orientation': 'v',\n",
       "     'showlegend': False,\n",
       "     'textposition': 'auto',\n",
       "     'x': array(['especialidad', 'prestador'], dtype=object),\n",
       "     'xaxis': 'x10',\n",
       "     'y': array([0.06, 0.05]),\n",
       "     'yaxis': 'y10'\n",
       " }),\n",
       " Bar({\n",
       "     'alignmentgroup': 'True',\n",
       "     'hovertemplate': ('consulta=Porcentaje de afiliad' ... 'ón mensual=%{y}<extra></extra>'),\n",
       "     'legendgroup': 'Porcentaje de afiliados con 3 consultas',\n",
       "     'marker': {'color': '#00cc96'},\n",
       "     'name': 'Porcentaje de afiliados con 3 consultas',\n",
       "     'offsetgroup': 'Porcentaje de afiliados con 3 consultas',\n",
       "     'orientation': 'v',\n",
       "     'showlegend': False,\n",
       "     'textposition': 'auto',\n",
       "     'x': array(['especialidad', 'prestador'], dtype=object),\n",
       "     'xaxis': 'x11',\n",
       "     'y': array([0., 0.]),\n",
       "     'yaxis': 'y11'\n",
       " }),\n",
       " Bar({\n",
       "     'alignmentgroup': 'True',\n",
       "     'hovertemplate': ('consulta=Porcentaje de afiliad' ... 'ón mensual=%{y}<extra></extra>'),\n",
       "     'legendgroup': 'Porcentaje de afiliados con 3 consultas',\n",
       "     'marker': {'color': '#00cc96'},\n",
       "     'name': 'Porcentaje de afiliados con 3 consultas',\n",
       "     'offsetgroup': 'Porcentaje de afiliados con 3 consultas',\n",
       "     'orientation': 'v',\n",
       "     'showlegend': False,\n",
       "     'textposition': 'auto',\n",
       "     'x': array(['especialidad', 'prestador'], dtype=object),\n",
       "     'xaxis': 'x12',\n",
       "     'y': array([0., 0.]),\n",
       "     'yaxis': 'y12'\n",
       " }),\n",
       " Bar({\n",
       "     'alignmentgroup': 'True',\n",
       "     'hovertemplate': ('consulta=Porcentaje de afiliad' ... 'ón mensual=%{y}<extra></extra>'),\n",
       "     'legendgroup': 'Porcentaje de afiliados con 3 consultas',\n",
       "     'marker': {'color': '#00cc96'},\n",
       "     'name': 'Porcentaje de afiliados con 3 consultas',\n",
       "     'offsetgroup': 'Porcentaje de afiliados con 3 consultas',\n",
       "     'orientation': 'v',\n",
       "     'showlegend': False,\n",
       "     'textposition': 'auto',\n",
       "     'x': array(['especialidad', 'prestador'], dtype=object),\n",
       "     'xaxis': 'x13',\n",
       "     'y': array([0.02, 0.06]),\n",
       "     'yaxis': 'y13'\n",
       " }),\n",
       " Bar({\n",
       "     'alignmentgroup': 'True',\n",
       "     'hovertemplate': ('consulta=Porcentaje de afiliad' ... 'ón mensual=%{y}<extra></extra>'),\n",
       "     'legendgroup': 'Porcentaje de afiliados con 4 consultas',\n",
       "     'marker': {'color': '#ab63fa'},\n",
       "     'name': 'Porcentaje de afiliados con 4 consultas',\n",
       "     'offsetgroup': 'Porcentaje de afiliados con 4 consultas',\n",
       "     'orientation': 'v',\n",
       "     'showlegend': True,\n",
       "     'textposition': 'auto',\n",
       "     'x': array(['especialidad', 'prestador'], dtype=object),\n",
       "     'xaxis': 'x',\n",
       "     'y': array([0.02, 0.  ]),\n",
       "     'yaxis': 'y'\n",
       " }),\n",
       " Bar({\n",
       "     'alignmentgroup': 'True',\n",
       "     'hovertemplate': ('consulta=Porcentaje de afiliad' ... 'ón mensual=%{y}<extra></extra>'),\n",
       "     'legendgroup': 'Porcentaje de afiliados con 4 consultas',\n",
       "     'marker': {'color': '#ab63fa'},\n",
       "     'name': 'Porcentaje de afiliados con 4 consultas',\n",
       "     'offsetgroup': 'Porcentaje de afiliados con 4 consultas',\n",
       "     'orientation': 'v',\n",
       "     'showlegend': False,\n",
       "     'textposition': 'auto',\n",
       "     'x': array(['especialidad', 'prestador'], dtype=object),\n",
       "     'xaxis': 'x2',\n",
       "     'y': array([0., 0.]),\n",
       "     'yaxis': 'y2'\n",
       " }),\n",
       " Bar({\n",
       "     'alignmentgroup': 'True',\n",
       "     'hovertemplate': ('consulta=Porcentaje de afiliad' ... 'ón mensual=%{y}<extra></extra>'),\n",
       "     'legendgroup': 'Porcentaje de afiliados con 4 consultas',\n",
       "     'marker': {'color': '#ab63fa'},\n",
       "     'name': 'Porcentaje de afiliados con 4 consultas',\n",
       "     'offsetgroup': 'Porcentaje de afiliados con 4 consultas',\n",
       "     'orientation': 'v',\n",
       "     'showlegend': False,\n",
       "     'textposition': 'auto',\n",
       "     'x': array(['especialidad', 'prestador'], dtype=object),\n",
       "     'xaxis': 'x3',\n",
       "     'y': array([0., 0.]),\n",
       "     'yaxis': 'y3'\n",
       " }),\n",
       " Bar({\n",
       "     'alignmentgroup': 'True',\n",
       "     'hovertemplate': ('consulta=Porcentaje de afiliad' ... 'ón mensual=%{y}<extra></extra>'),\n",
       "     'legendgroup': 'Porcentaje de afiliados con 4 consultas',\n",
       "     'marker': {'color': '#ab63fa'},\n",
       "     'name': 'Porcentaje de afiliados con 4 consultas',\n",
       "     'offsetgroup': 'Porcentaje de afiliados con 4 consultas',\n",
       "     'orientation': 'v',\n",
       "     'showlegend': False,\n",
       "     'textposition': 'auto',\n",
       "     'x': array(['especialidad', 'prestador'], dtype=object),\n",
       "     'xaxis': 'x4',\n",
       "     'y': array([0., 0.]),\n",
       "     'yaxis': 'y4'\n",
       " }),\n",
       " Bar({\n",
       "     'alignmentgroup': 'True',\n",
       "     'hovertemplate': ('consulta=Porcentaje de afiliad' ... 'ón mensual=%{y}<extra></extra>'),\n",
       "     'legendgroup': 'Porcentaje de afiliados con 4 consultas',\n",
       "     'marker': {'color': '#ab63fa'},\n",
       "     'name': 'Porcentaje de afiliados con 4 consultas',\n",
       "     'offsetgroup': 'Porcentaje de afiliados con 4 consultas',\n",
       "     'orientation': 'v',\n",
       "     'showlegend': False,\n",
       "     'textposition': 'auto',\n",
       "     'x': array(['especialidad', 'prestador'], dtype=object),\n",
       "     'xaxis': 'x5',\n",
       "     'y': array([0., 0.]),\n",
       "     'yaxis': 'y5'\n",
       " }),\n",
       " Bar({\n",
       "     'alignmentgroup': 'True',\n",
       "     'hovertemplate': ('consulta=Porcentaje de afiliad' ... 'ón mensual=%{y}<extra></extra>'),\n",
       "     'legendgroup': 'Porcentaje de afiliados con 4 consultas',\n",
       "     'marker': {'color': '#ab63fa'},\n",
       "     'name': 'Porcentaje de afiliados con 4 consultas',\n",
       "     'offsetgroup': 'Porcentaje de afiliados con 4 consultas',\n",
       "     'orientation': 'v',\n",
       "     'showlegend': False,\n",
       "     'textposition': 'auto',\n",
       "     'x': array(['especialidad', 'prestador'], dtype=object),\n",
       "     'xaxis': 'x6',\n",
       "     'y': array([0., 0.]),\n",
       "     'yaxis': 'y6'\n",
       " }),\n",
       " Bar({\n",
       "     'alignmentgroup': 'True',\n",
       "     'hovertemplate': ('consulta=Porcentaje de afiliad' ... 'ón mensual=%{y}<extra></extra>'),\n",
       "     'legendgroup': 'Porcentaje de afiliados con 4 consultas',\n",
       "     'marker': {'color': '#ab63fa'},\n",
       "     'name': 'Porcentaje de afiliados con 4 consultas',\n",
       "     'offsetgroup': 'Porcentaje de afiliados con 4 consultas',\n",
       "     'orientation': 'v',\n",
       "     'showlegend': False,\n",
       "     'textposition': 'auto',\n",
       "     'x': array(['especialidad', 'prestador'], dtype=object),\n",
       "     'xaxis': 'x7',\n",
       "     'y': array([0., 0.]),\n",
       "     'yaxis': 'y7'\n",
       " }),\n",
       " Bar({\n",
       "     'alignmentgroup': 'True',\n",
       "     'hovertemplate': ('consulta=Porcentaje de afiliad' ... 'ón mensual=%{y}<extra></extra>'),\n",
       "     'legendgroup': 'Porcentaje de afiliados con 4 consultas',\n",
       "     'marker': {'color': '#ab63fa'},\n",
       "     'name': 'Porcentaje de afiliados con 4 consultas',\n",
       "     'offsetgroup': 'Porcentaje de afiliados con 4 consultas',\n",
       "     'orientation': 'v',\n",
       "     'showlegend': False,\n",
       "     'textposition': 'auto',\n",
       "     'x': array(['especialidad', 'prestador'], dtype=object),\n",
       "     'xaxis': 'x8',\n",
       "     'y': array([0., 0.]),\n",
       "     'yaxis': 'y8'\n",
       " }),\n",
       " Bar({\n",
       "     'alignmentgroup': 'True',\n",
       "     'hovertemplate': ('consulta=Porcentaje de afiliad' ... 'ón mensual=%{y}<extra></extra>'),\n",
       "     'legendgroup': 'Porcentaje de afiliados con 4 consultas',\n",
       "     'marker': {'color': '#ab63fa'},\n",
       "     'name': 'Porcentaje de afiliados con 4 consultas',\n",
       "     'offsetgroup': 'Porcentaje de afiliados con 4 consultas',\n",
       "     'orientation': 'v',\n",
       "     'showlegend': False,\n",
       "     'textposition': 'auto',\n",
       "     'x': array(['especialidad', 'prestador'], dtype=object),\n",
       "     'xaxis': 'x9',\n",
       "     'y': array([0.01, 0.  ]),\n",
       "     'yaxis': 'y9'\n",
       " }),\n",
       " Bar({\n",
       "     'alignmentgroup': 'True',\n",
       "     'hovertemplate': ('consulta=Porcentaje de afiliad' ... 'ón mensual=%{y}<extra></extra>'),\n",
       "     'legendgroup': 'Porcentaje de afiliados con 4 consultas',\n",
       "     'marker': {'color': '#ab63fa'},\n",
       "     'name': 'Porcentaje de afiliados con 4 consultas',\n",
       "     'offsetgroup': 'Porcentaje de afiliados con 4 consultas',\n",
       "     'orientation': 'v',\n",
       "     'showlegend': False,\n",
       "     'textposition': 'auto',\n",
       "     'x': array(['especialidad', 'prestador'], dtype=object),\n",
       "     'xaxis': 'x10',\n",
       "     'y': array([0.01, 0.  ]),\n",
       "     'yaxis': 'y10'\n",
       " }),\n",
       " Bar({\n",
       "     'alignmentgroup': 'True',\n",
       "     'hovertemplate': ('consulta=Porcentaje de afiliad' ... 'ón mensual=%{y}<extra></extra>'),\n",
       "     'legendgroup': 'Porcentaje de afiliados con 4 consultas',\n",
       "     'marker': {'color': '#ab63fa'},\n",
       "     'name': 'Porcentaje de afiliados con 4 consultas',\n",
       "     'offsetgroup': 'Porcentaje de afiliados con 4 consultas',\n",
       "     'orientation': 'v',\n",
       "     'showlegend': False,\n",
       "     'textposition': 'auto',\n",
       "     'x': array(['especialidad', 'prestador'], dtype=object),\n",
       "     'xaxis': 'x11',\n",
       "     'y': array([0., 0.]),\n",
       "     'yaxis': 'y11'\n",
       " }),\n",
       " Bar({\n",
       "     'alignmentgroup': 'True',\n",
       "     'hovertemplate': ('consulta=Porcentaje de afiliad' ... 'ón mensual=%{y}<extra></extra>'),\n",
       "     'legendgroup': 'Porcentaje de afiliados con 4 consultas',\n",
       "     'marker': {'color': '#ab63fa'},\n",
       "     'name': 'Porcentaje de afiliados con 4 consultas',\n",
       "     'offsetgroup': 'Porcentaje de afiliados con 4 consultas',\n",
       "     'orientation': 'v',\n",
       "     'showlegend': False,\n",
       "     'textposition': 'auto',\n",
       "     'x': array(['especialidad', 'prestador'], dtype=object),\n",
       "     'xaxis': 'x12',\n",
       "     'y': array([0., 0.]),\n",
       "     'yaxis': 'y12'\n",
       " }),\n",
       " Bar({\n",
       "     'alignmentgroup': 'True',\n",
       "     'hovertemplate': ('consulta=Porcentaje de afiliad' ... 'ón mensual=%{y}<extra></extra>'),\n",
       "     'legendgroup': 'Porcentaje de afiliados con 4 consultas',\n",
       "     'marker': {'color': '#ab63fa'},\n",
       "     'name': 'Porcentaje de afiliados con 4 consultas',\n",
       "     'offsetgroup': 'Porcentaje de afiliados con 4 consultas',\n",
       "     'orientation': 'v',\n",
       "     'showlegend': False,\n",
       "     'textposition': 'auto',\n",
       "     'x': array(['especialidad', 'prestador'], dtype=object),\n",
       "     'xaxis': 'x13',\n",
       "     'y': array([0.02, 0.08]),\n",
       "     'yaxis': 'y13'\n",
       " }),\n",
       " Bar({\n",
       "     'alignmentgroup': 'True',\n",
       "     'hovertemplate': ('consulta=Porcentaje de afiliad' ... 'ón mensual=%{y}<extra></extra>'),\n",
       "     'legendgroup': 'Porcentaje de afiliados con más de 4 consultas',\n",
       "     'marker': {'color': '#FFA15A'},\n",
       "     'name': 'Porcentaje de afiliados con más de 4 consultas',\n",
       "     'offsetgroup': 'Porcentaje de afiliados con más de 4 consultas',\n",
       "     'orientation': 'v',\n",
       "     'showlegend': True,\n",
       "     'textposition': 'auto',\n",
       "     'x': array(['especialidad', 'prestador'], dtype=object),\n",
       "     'xaxis': 'x',\n",
       "     'y': array([0., 0.]),\n",
       "     'yaxis': 'y'\n",
       " }),\n",
       " Bar({\n",
       "     'alignmentgroup': 'True',\n",
       "     'hovertemplate': ('consulta=Porcentaje de afiliad' ... 'ón mensual=%{y}<extra></extra>'),\n",
       "     'legendgroup': 'Porcentaje de afiliados con más de 4 consultas',\n",
       "     'marker': {'color': '#FFA15A'},\n",
       "     'name': 'Porcentaje de afiliados con más de 4 consultas',\n",
       "     'offsetgroup': 'Porcentaje de afiliados con más de 4 consultas',\n",
       "     'orientation': 'v',\n",
       "     'showlegend': False,\n",
       "     'textposition': 'auto',\n",
       "     'x': array(['especialidad', 'prestador'], dtype=object),\n",
       "     'xaxis': 'x2',\n",
       "     'y': array([0., 0.]),\n",
       "     'yaxis': 'y2'\n",
       " }),\n",
       " Bar({\n",
       "     'alignmentgroup': 'True',\n",
       "     'hovertemplate': ('consulta=Porcentaje de afiliad' ... 'ón mensual=%{y}<extra></extra>'),\n",
       "     'legendgroup': 'Porcentaje de afiliados con más de 4 consultas',\n",
       "     'marker': {'color': '#FFA15A'},\n",
       "     'name': 'Porcentaje de afiliados con más de 4 consultas',\n",
       "     'offsetgroup': 'Porcentaje de afiliados con más de 4 consultas',\n",
       "     'orientation': 'v',\n",
       "     'showlegend': False,\n",
       "     'textposition': 'auto',\n",
       "     'x': array(['especialidad', 'prestador'], dtype=object),\n",
       "     'xaxis': 'x3',\n",
       "     'y': array([0., 0.]),\n",
       "     'yaxis': 'y3'\n",
       " }),\n",
       " Bar({\n",
       "     'alignmentgroup': 'True',\n",
       "     'hovertemplate': ('consulta=Porcentaje de afiliad' ... 'ón mensual=%{y}<extra></extra>'),\n",
       "     'legendgroup': 'Porcentaje de afiliados con más de 4 consultas',\n",
       "     'marker': {'color': '#FFA15A'},\n",
       "     'name': 'Porcentaje de afiliados con más de 4 consultas',\n",
       "     'offsetgroup': 'Porcentaje de afiliados con más de 4 consultas',\n",
       "     'orientation': 'v',\n",
       "     'showlegend': False,\n",
       "     'textposition': 'auto',\n",
       "     'x': array(['especialidad', 'prestador'], dtype=object),\n",
       "     'xaxis': 'x4',\n",
       "     'y': array([0., 0.]),\n",
       "     'yaxis': 'y4'\n",
       " }),\n",
       " Bar({\n",
       "     'alignmentgroup': 'True',\n",
       "     'hovertemplate': ('consulta=Porcentaje de afiliad' ... 'ón mensual=%{y}<extra></extra>'),\n",
       "     'legendgroup': 'Porcentaje de afiliados con más de 4 consultas',\n",
       "     'marker': {'color': '#FFA15A'},\n",
       "     'name': 'Porcentaje de afiliados con más de 4 consultas',\n",
       "     'offsetgroup': 'Porcentaje de afiliados con más de 4 consultas',\n",
       "     'orientation': 'v',\n",
       "     'showlegend': False,\n",
       "     'textposition': 'auto',\n",
       "     'x': array(['especialidad', 'prestador'], dtype=object),\n",
       "     'xaxis': 'x5',\n",
       "     'y': array([0., 0.]),\n",
       "     'yaxis': 'y5'\n",
       " }),\n",
       " Bar({\n",
       "     'alignmentgroup': 'True',\n",
       "     'hovertemplate': ('consulta=Porcentaje de afiliad' ... 'ón mensual=%{y}<extra></extra>'),\n",
       "     'legendgroup': 'Porcentaje de afiliados con más de 4 consultas',\n",
       "     'marker': {'color': '#FFA15A'},\n",
       "     'name': 'Porcentaje de afiliados con más de 4 consultas',\n",
       "     'offsetgroup': 'Porcentaje de afiliados con más de 4 consultas',\n",
       "     'orientation': 'v',\n",
       "     'showlegend': False,\n",
       "     'textposition': 'auto',\n",
       "     'x': array(['especialidad', 'prestador'], dtype=object),\n",
       "     'xaxis': 'x6',\n",
       "     'y': array([0., 0.]),\n",
       "     'yaxis': 'y6'\n",
       " }),\n",
       " Bar({\n",
       "     'alignmentgroup': 'True',\n",
       "     'hovertemplate': ('consulta=Porcentaje de afiliad' ... 'ón mensual=%{y}<extra></extra>'),\n",
       "     'legendgroup': 'Porcentaje de afiliados con más de 4 consultas',\n",
       "     'marker': {'color': '#FFA15A'},\n",
       "     'name': 'Porcentaje de afiliados con más de 4 consultas',\n",
       "     'offsetgroup': 'Porcentaje de afiliados con más de 4 consultas',\n",
       "     'orientation': 'v',\n",
       "     'showlegend': False,\n",
       "     'textposition': 'auto',\n",
       "     'x': array(['especialidad', 'prestador'], dtype=object),\n",
       "     'xaxis': 'x7',\n",
       "     'y': array([0., 0.]),\n",
       "     'yaxis': 'y7'\n",
       " }),\n",
       " Bar({\n",
       "     'alignmentgroup': 'True',\n",
       "     'hovertemplate': ('consulta=Porcentaje de afiliad' ... 'ón mensual=%{y}<extra></extra>'),\n",
       "     'legendgroup': 'Porcentaje de afiliados con más de 4 consultas',\n",
       "     'marker': {'color': '#FFA15A'},\n",
       "     'name': 'Porcentaje de afiliados con más de 4 consultas',\n",
       "     'offsetgroup': 'Porcentaje de afiliados con más de 4 consultas',\n",
       "     'orientation': 'v',\n",
       "     'showlegend': False,\n",
       "     'textposition': 'auto',\n",
       "     'x': array(['especialidad', 'prestador'], dtype=object),\n",
       "     'xaxis': 'x8',\n",
       "     'y': array([ 0., -0.]),\n",
       "     'yaxis': 'y8'\n",
       " }),\n",
       " Bar({\n",
       "     'alignmentgroup': 'True',\n",
       "     'hovertemplate': ('consulta=Porcentaje de afiliad' ... 'ón mensual=%{y}<extra></extra>'),\n",
       "     'legendgroup': 'Porcentaje de afiliados con más de 4 consultas',\n",
       "     'marker': {'color': '#FFA15A'},\n",
       "     'name': 'Porcentaje de afiliados con más de 4 consultas',\n",
       "     'offsetgroup': 'Porcentaje de afiliados con más de 4 consultas',\n",
       "     'orientation': 'v',\n",
       "     'showlegend': False,\n",
       "     'textposition': 'auto',\n",
       "     'x': array(['especialidad', 'prestador'], dtype=object),\n",
       "     'xaxis': 'x9',\n",
       "     'y': array([0., 0.]),\n",
       "     'yaxis': 'y9'\n",
       " }),\n",
       " Bar({\n",
       "     'alignmentgroup': 'True',\n",
       "     'hovertemplate': ('consulta=Porcentaje de afiliad' ... 'ón mensual=%{y}<extra></extra>'),\n",
       "     'legendgroup': 'Porcentaje de afiliados con más de 4 consultas',\n",
       "     'marker': {'color': '#FFA15A'},\n",
       "     'name': 'Porcentaje de afiliados con más de 4 consultas',\n",
       "     'offsetgroup': 'Porcentaje de afiliados con más de 4 consultas',\n",
       "     'orientation': 'v',\n",
       "     'showlegend': False,\n",
       "     'textposition': 'auto',\n",
       "     'x': array(['especialidad', 'prestador'], dtype=object),\n",
       "     'xaxis': 'x10',\n",
       "     'y': array([ 0.01, -0.  ]),\n",
       "     'yaxis': 'y10'\n",
       " }),\n",
       " Bar({\n",
       "     'alignmentgroup': 'True',\n",
       "     'hovertemplate': ('consulta=Porcentaje de afiliad' ... 'ón mensual=%{y}<extra></extra>'),\n",
       "     'legendgroup': 'Porcentaje de afiliados con más de 4 consultas',\n",
       "     'marker': {'color': '#FFA15A'},\n",
       "     'name': 'Porcentaje de afiliados con más de 4 consultas',\n",
       "     'offsetgroup': 'Porcentaje de afiliados con más de 4 consultas',\n",
       "     'orientation': 'v',\n",
       "     'showlegend': False,\n",
       "     'textposition': 'auto',\n",
       "     'x': array(['especialidad', 'prestador'], dtype=object),\n",
       "     'xaxis': 'x11',\n",
       "     'y': array([0., 0.]),\n",
       "     'yaxis': 'y11'\n",
       " }),\n",
       " Bar({\n",
       "     'alignmentgroup': 'True',\n",
       "     'hovertemplate': ('consulta=Porcentaje de afiliad' ... 'ón mensual=%{y}<extra></extra>'),\n",
       "     'legendgroup': 'Porcentaje de afiliados con más de 4 consultas',\n",
       "     'marker': {'color': '#FFA15A'},\n",
       "     'name': 'Porcentaje de afiliados con más de 4 consultas',\n",
       "     'offsetgroup': 'Porcentaje de afiliados con más de 4 consultas',\n",
       "     'orientation': 'v',\n",
       "     'showlegend': False,\n",
       "     'textposition': 'auto',\n",
       "     'x': array(['especialidad', 'prestador'], dtype=object),\n",
       "     'xaxis': 'x12',\n",
       "     'y': array([0., 0.]),\n",
       "     'yaxis': 'y12'\n",
       " }),\n",
       " Bar({\n",
       "     'alignmentgroup': 'True',\n",
       "     'hovertemplate': ('consulta=Porcentaje de afiliad' ... 'ón mensual=%{y}<extra></extra>'),\n",
       "     'legendgroup': 'Porcentaje de afiliados con más de 4 consultas',\n",
       "     'marker': {'color': '#FFA15A'},\n",
       "     'name': 'Porcentaje de afiliados con más de 4 consultas',\n",
       "     'offsetgroup': 'Porcentaje de afiliados con más de 4 consultas',\n",
       "     'orientation': 'v',\n",
       "     'showlegend': False,\n",
       "     'textposition': 'auto',\n",
       "     'x': array(['especialidad', 'prestador'], dtype=object),\n",
       "     'xaxis': 'x13',\n",
       "     'y': array([0., 0.]),\n",
       "     'yaxis': 'y13'\n",
       " }))"
      ]
     },
     "execution_count": 209,
     "metadata": {},
     "output_type": "execute_result"
    }
   ],
   "source": [
    "fig_consultas.data"
   ]
  },
  {
   "cell_type": "code",
   "execution_count": 212,
   "metadata": {},
   "outputs": [],
   "source": [
    "final.to_csv(\"final_consultas.csv\")"
   ]
  },
  {
   "cell_type": "code",
   "execution_count": 213,
   "metadata": {},
   "outputs": [
    {
     "data": {
      "text/html": [
       "<div>\n",
       "<style scoped>\n",
       "    .dataframe tbody tr th:only-of-type {\n",
       "        vertical-align: middle;\n",
       "    }\n",
       "\n",
       "    .dataframe tbody tr th {\n",
       "        vertical-align: top;\n",
       "    }\n",
       "\n",
       "    .dataframe thead th {\n",
       "        text-align: right;\n",
       "    }\n",
       "</style>\n",
       "<table border=\"1\" class=\"dataframe\">\n",
       "  <thead>\n",
       "    <tr style=\"text-align: right;\">\n",
       "      <th></th>\n",
       "      <th>consulta</th>\n",
       "      <th>variable</th>\n",
       "      <th>Participación mensual</th>\n",
       "      <th>tipo</th>\n",
       "    </tr>\n",
       "  </thead>\n",
       "  <tbody>\n",
       "    <tr>\n",
       "      <th>0</th>\n",
       "      <td>Porcentaje de afiliados con consultas únicas</td>\n",
       "      <td>2019-01-01</td>\n",
       "      <td>0.74</td>\n",
       "      <td>especialidad</td>\n",
       "    </tr>\n",
       "    <tr>\n",
       "      <th>1</th>\n",
       "      <td>Porcentaje de afiliados con 2 consultas</td>\n",
       "      <td>2019-01-01</td>\n",
       "      <td>0.18</td>\n",
       "      <td>especialidad</td>\n",
       "    </tr>\n",
       "    <tr>\n",
       "      <th>2</th>\n",
       "      <td>Porcentaje de afiliados con 3 consultas</td>\n",
       "      <td>2019-01-01</td>\n",
       "      <td>0.06</td>\n",
       "      <td>especialidad</td>\n",
       "    </tr>\n",
       "    <tr>\n",
       "      <th>3</th>\n",
       "      <td>Porcentaje de afiliados con 4 consultas</td>\n",
       "      <td>2019-01-01</td>\n",
       "      <td>0.02</td>\n",
       "      <td>especialidad</td>\n",
       "    </tr>\n",
       "    <tr>\n",
       "      <th>4</th>\n",
       "      <td>Porcentaje de afiliados con más de 4 consultas</td>\n",
       "      <td>2019-01-01</td>\n",
       "      <td>0.00</td>\n",
       "      <td>especialidad</td>\n",
       "    </tr>\n",
       "    <tr>\n",
       "      <th>...</th>\n",
       "      <td>...</td>\n",
       "      <td>...</td>\n",
       "      <td>...</td>\n",
       "      <td>...</td>\n",
       "    </tr>\n",
       "    <tr>\n",
       "      <th>60</th>\n",
       "      <td>Porcentaje de afiliados con consultas únicas</td>\n",
       "      <td>2020-01-01</td>\n",
       "      <td>0.74</td>\n",
       "      <td>prestador</td>\n",
       "    </tr>\n",
       "    <tr>\n",
       "      <th>61</th>\n",
       "      <td>Porcentaje de afiliados con 2 consultas</td>\n",
       "      <td>2020-01-01</td>\n",
       "      <td>0.12</td>\n",
       "      <td>prestador</td>\n",
       "    </tr>\n",
       "    <tr>\n",
       "      <th>62</th>\n",
       "      <td>Porcentaje de afiliados con 3 consultas</td>\n",
       "      <td>2020-01-01</td>\n",
       "      <td>0.06</td>\n",
       "      <td>prestador</td>\n",
       "    </tr>\n",
       "    <tr>\n",
       "      <th>63</th>\n",
       "      <td>Porcentaje de afiliados con 4 consultas</td>\n",
       "      <td>2020-01-01</td>\n",
       "      <td>0.08</td>\n",
       "      <td>prestador</td>\n",
       "    </tr>\n",
       "    <tr>\n",
       "      <th>64</th>\n",
       "      <td>Porcentaje de afiliados con más de 4 consultas</td>\n",
       "      <td>2020-01-01</td>\n",
       "      <td>0.00</td>\n",
       "      <td>prestador</td>\n",
       "    </tr>\n",
       "  </tbody>\n",
       "</table>\n",
       "<p>130 rows × 4 columns</p>\n",
       "</div>"
      ],
      "text/plain": [
       "                                          consulta    variable  \\\n",
       "0     Porcentaje de afiliados con consultas únicas  2019-01-01   \n",
       "1          Porcentaje de afiliados con 2 consultas  2019-01-01   \n",
       "2          Porcentaje de afiliados con 3 consultas  2019-01-01   \n",
       "3          Porcentaje de afiliados con 4 consultas  2019-01-01   \n",
       "4   Porcentaje de afiliados con más de 4 consultas  2019-01-01   \n",
       "..                                             ...         ...   \n",
       "60    Porcentaje de afiliados con consultas únicas  2020-01-01   \n",
       "61         Porcentaje de afiliados con 2 consultas  2020-01-01   \n",
       "62         Porcentaje de afiliados con 3 consultas  2020-01-01   \n",
       "63         Porcentaje de afiliados con 4 consultas  2020-01-01   \n",
       "64  Porcentaje de afiliados con más de 4 consultas  2020-01-01   \n",
       "\n",
       "    Participación mensual          tipo  \n",
       "0                    0.74  especialidad  \n",
       "1                    0.18  especialidad  \n",
       "2                    0.06  especialidad  \n",
       "3                    0.02  especialidad  \n",
       "4                    0.00  especialidad  \n",
       "..                    ...           ...  \n",
       "60                   0.74     prestador  \n",
       "61                   0.12     prestador  \n",
       "62                   0.06     prestador  \n",
       "63                   0.08     prestador  \n",
       "64                   0.00     prestador  \n",
       "\n",
       "[130 rows x 4 columns]"
      ]
     },
     "execution_count": 213,
     "metadata": {},
     "output_type": "execute_result"
    }
   ],
   "source": [
    "pd.read_csv(\"final_consultas.csv\", index_col=0)"
   ]
  },
  {
   "cell_type": "code",
   "execution_count": null,
   "metadata": {},
   "outputs": [],
   "source": []
  }
 ],
 "metadata": {
  "kernelspec": {
   "display_name": "Python 3",
   "language": "python",
   "name": "python3"
  },
  "language_info": {
   "codemirror_mode": {
    "name": "ipython",
    "version": 3
   },
   "file_extension": ".py",
   "mimetype": "text/x-python",
   "name": "python",
   "nbconvert_exporter": "python",
   "pygments_lexer": "ipython3",
   "version": "3.7.6"
  }
 },
 "nbformat": 4,
 "nbformat_minor": 4
}
