{
 "cells": [
  {
   "cell_type": "code",
   "execution_count": null,
   "metadata": {},
   "outputs": [],
   "source": [
    "menor = str(datetime.datetime.today() - datetime.timedelta(days=90))[:7]\n",
    "\n",
    "mayor = str(datetime.datetime.today() - datetime.timedelta(days=70))[:7]"
   ]
  },
  {
   "cell_type": "code",
   "execution_count": 18,
   "metadata": {},
   "outputs": [
    {
     "data": {
      "text/plain": [
       "'2020-03'"
      ]
     },
     "execution_count": 18,
     "metadata": {},
     "output_type": "execute_result"
    }
   ],
   "source": [
    "mayor"
   ]
  },
  {
   "cell_type": "code",
   "execution_count": 20,
   "metadata": {},
   "outputs": [
    {
     "data": {
      "text/plain": [
       "datetime.datetime(2020, 5, 15, 0, 0)"
      ]
     },
     "execution_count": 20,
     "metadata": {},
     "output_type": "execute_result"
    }
   ],
   "source": []
  },
  {
   "cell_type": "code",
   "execution_count": 32,
   "metadata": {},
   "outputs": [],
   "source": [
    "menor = str(datetime.datetime.strptime(\"15-05-2020\", \"%d-%m-%Y\") - datetime.timedelta(days=70))[:7]"
   ]
  },
  {
   "cell_type": "code",
   "execution_count": 33,
   "metadata": {},
   "outputs": [
    {
     "data": {
      "text/plain": [
       "'2020-02'"
      ]
     },
     "execution_count": 33,
     "metadata": {},
     "output_type": "execute_result"
    }
   ],
   "source": [
    "mayor"
   ]
  },
  {
   "cell_type": "code",
   "execution_count": 34,
   "metadata": {},
   "outputs": [
    {
     "data": {
      "text/plain": [
       "'2020-03'"
      ]
     },
     "execution_count": 34,
     "metadata": {},
     "output_type": "execute_result"
    }
   ],
   "source": [
    "menor"
   ]
  },
  {
   "cell_type": "code",
   "execution_count": 1,
   "metadata": {},
   "outputs": [],
   "source": [
    "from dbconn import querydb, querydbtopandas \n",
    "import numpy as np\n",
    "import pandas as pd\n",
    "import datetime\n",
    "import os"
   ]
  },
  {
   "cell_type": "code",
   "execution_count": 2,
   "metadata": {},
   "outputs": [],
   "source": [
    "prestadores_modelo = pd.read_excel(\"prestadores_modelo.xlsx\",usecols= [\"id_pre_prestador\"])[\"id_pre_prestador\"].tolist()\n",
    "modelos = str(prestadores_modelo).strip(\"[\").strip(\"]\")"
   ]
  },
  {
   "cell_type": "code",
   "execution_count": 3,
   "metadata": {},
   "outputs": [],
   "source": [
    "prestaciones_excluidas = pd.read_excel(\"prestaciones_excluidas.xlsx\",usecols = [\"prestac_pres_prestacion\"], dtype=str )[\"prestac_pres_prestacion\"].tolist()\n",
    "prestaciones_excluidas = str(prestaciones_excluidas).strip(\"[\").strip(\"]\")"
   ]
  },
  {
   "cell_type": "code",
   "execution_count": 4,
   "metadata": {},
   "outputs": [],
   "source": [
    "provincias_zonas = pd.read_csv(\"provincias_zonas.csv\")"
   ]
  },
  {
   "cell_type": "code",
   "execution_count": 5,
   "metadata": {},
   "outputs": [
    {
     "data": {
      "text/plain": [
       "array([  1,   2,   3,   4,   5, 100])"
      ]
     },
     "execution_count": 5,
     "metadata": {},
     "output_type": "execute_result"
    }
   ],
   "source": [
    "provincias_zonas.codigo_zona.unique()"
   ]
  },
  {
   "cell_type": "code",
   "execution_count": 6,
   "metadata": {},
   "outputs": [
    {
     "data": {
      "text/plain": [
       "Index(['codigo_zona', 'zona', 'provincia', 'codigo_provincia '], dtype='object')"
      ]
     },
     "execution_count": 6,
     "metadata": {},
     "output_type": "execute_result"
    }
   ],
   "source": [
    "provincias_zonas.columns"
   ]
  },
  {
   "cell_type": "code",
   "execution_count": 7,
   "metadata": {},
   "outputs": [
    {
     "data": {
      "text/plain": [
       "array([ 1,  3,  4,  5,  6,  7,  8,  9, 10, 11, 12, 13, 14, 15, 17, 18, 19,\n",
       "       20, 21, 22, 23, 24, 25,  2, 51, 52, 53, 54, 55, 56, 57, 58, 59, 60,\n",
       "       61, 62, 63, 64, 65, 66, 68])"
      ]
     },
     "execution_count": 7,
     "metadata": {},
     "output_type": "execute_result"
    }
   ],
   "source": [
    "provincias_zonas[\"codigo_provincia \"].unique()"
   ]
  },
  {
   "cell_type": "code",
   "execution_count": 8,
   "metadata": {},
   "outputs": [],
   "source": [
    "# clasificacion incorrecta del nomenclador\n",
    "# no oncluyen cientro prestadores\n",
    "zona = \"2,3,4,5\"\n",
    "provincia = \"1,2\""
   ]
  },
  {
   "cell_type": "code",
   "execution_count": 9,
   "metadata": {},
   "outputs": [],
   "source": [
    "mayor= \"2020-03\"\n",
    "menor = \"2019-02\""
   ]
  },
  {
   "cell_type": "code",
   "execution_count": 10,
   "metadata": {},
   "outputs": [],
   "source": [
    "data = querydbtopandas(f\"\"\"select a11.id_pres_prestacion,\n",
    "       a16.prestac_pres_prestacion,\n",
    "       a11.id_pre_prestador,\n",
    "       a13.desc_pre_nombre,\n",
    "       a11.id_afi_afiliado ,  \n",
    "       Q.deno,\n",
    "       a11.id_tie_dia_consumo,   \n",
    "       FLOOR(DATEDIFF(year, a14.naci_fecha, a11.id_tie_dia_consumo)) edad_afiliado \n",
    "\n",
    "from        DBA.ft_ordenes        a11\n",
    "       join        DBA.d_pre_prestador        a13\n",
    "         on        (a11.id_pre_prestador = a13.id_pre_prestador)\n",
    "       join        DBA.afi_afiliados        a14\n",
    "         on        (a11.id_afi_afiliado = a14.id_afiliado)\n",
    "       join        DBA.d_pres_prestacion        a16\n",
    "         on        (a11.id_pres_prestacion = a16.id_pres_prestacion)     \n",
    "       join       DBA.d_prof_convertir_especialidad a19  \n",
    "        on         (a13.id_pre_especialidad  = a19.id_prof_especialidad)\n",
    "       LEFT JOIN dba.prestad_costo_centros E\n",
    "        ON a11.id_pre_prestador = E.prestad and E.baja_fecha is null and e.prepaga = ( select min(PCC1.prepaga) from dba.prestad_costo_centros PCC1 where PCC1.prestad =  e.prestad )   \n",
    "       LEFT JOIN dba.costo_centros Q\n",
    "        ON E.centro = Q.centro\n",
    "where        (a13.id_pre_tipo in ('E', 'P')            \n",
    "and a11.id_nom_nomenclador in (5)            \n",
    "and cast(id_tie_dia_consumo as date) >= date(\"{menor}\") and cast(id_tie_dia_consumo as date) < date(\"{mayor}\")\n",
    "and a13.id_afi_zona in ({zona})\n",
    "and a13.id_afi_provincia in ({provincia})\n",
    "\n",
    "and RTRIM(a16.prestac_pres_prestacion) not in ({prestaciones_excluidas}))\n",
    "group by a11.id_pres_prestacion,\n",
    "       a16.prestac_pres_prestacion,\n",
    "       a11.id_pre_prestador,\n",
    "       a13.desc_pre_nombre,\n",
    "       Q.deno,\n",
    "       a11.id_afi_afiliado,\n",
    "       a11.id_tie_dia_consumo,\n",
    "       edad_afiliado\"\"\")"
   ]
  },
  {
   "cell_type": "code",
   "execution_count": 11,
   "metadata": {},
   "outputs": [],
   "source": [
    "data.id_tie_dia_consumo = data.id_tie_dia_consumo.astype(str).str[:7]"
   ]
  },
  {
   "cell_type": "code",
   "execution_count": 12,
   "metadata": {},
   "outputs": [
    {
     "data": {
      "text/plain": [
       "13"
      ]
     },
     "execution_count": 12,
     "metadata": {},
     "output_type": "execute_result"
    }
   ],
   "source": [
    "data.id_tie_dia_consumo.nunique()"
   ]
  },
  {
   "cell_type": "code",
   "execution_count": 13,
   "metadata": {},
   "outputs": [],
   "source": [
    "for i in data.id_tie_dia_consumo.unique():\n",
    "    df = data[data[\"id_tie_dia_consumo\"] == i]\n",
    "        \n",
    "    #filtro con topes minimos para prestadores\n",
    "    #total_consultas_prestador = df[\"id_pre_prestador\"].value_counts()\n",
    "    #mas_de_30_consultas = total_consultas_prestador[total_consultas_prestador >= 30].index\n",
    "    #df = df[df[\"id_pre_prestador\"].isin(mas_de_30_consultas)]\n",
    "    \n",
    "    reconsultas = df.groupby([\"id_pre_prestador\", \"desc_pre_nombre\", \"deno\", \"id_afi_afiliado\"])[\"id_afi_afiliado\"].count().rename(\"CANTIDADORDENES0\").reset_index()\n",
    "    reconsultas[\"uno\"] = 1\n",
    "\n",
    "    pivot_1 = pd.pivot_table(reconsultas, values='uno', index=['id_pre_prestador', \"desc_pre_nombre\", \"deno\"],\n",
    "                 columns=['CANTIDADORDENES0'], aggfunc=np.sum).fillna(0)\n",
    "\n",
    "    pivot_1[\"Más de 4 - Q afiliados\"] = pivot_1[pivot_1.columns.tolist()[4:]].sum(axis=1)\n",
    "\n",
    "    edad_promedio_afiliados = pd.DataFrame(df.groupby([\"id_pre_prestador\",  \"desc_pre_nombre\", \"deno\"])[\"edad_afiliado\"].mean())\n",
    "    total_consultas_prestador = reconsultas.groupby([\"id_pre_prestador\",  \"desc_pre_nombre\", \"deno\"])[\"CANTIDADORDENES0\"].sum()\n",
    "    pivot = pd.concat([total_consultas_prestador,edad_promedio_afiliados, pivot_1],axis=1)\n",
    "    pivot.reset_index(inplace=True)\n",
    "    if 1 not in pivot.columns:\n",
    "        pivot[1] = 0\n",
    "    if 2 not in pivot.columns:\n",
    "        pivot[2] = 0\n",
    "    if 3 not in pivot.columns:\n",
    "        pivot[3] = 0\n",
    "    if 4 not in pivot.columns:\n",
    "        pivot[4] = 0\n",
    "\n",
    "    pivot[\"Consultas - participación %\"] =  (pivot[1]/pivot[\"CANTIDADORDENES0\"])*100\n",
    "    pivot[\"2 consultas - participación %\"] =  ((pivot[2]*2)/pivot[\"CANTIDADORDENES0\"])*100\n",
    "    pivot[\"3 consultas - participación %\"] =  ((pivot[3]*3)/pivot[\"CANTIDADORDENES0\"])*100\n",
    "\n",
    "    pivot[\"4 consultas - participación %\"] =  ((pivot[4]*4)/pivot[\"CANTIDADORDENES0\"])*100\n",
    "\n",
    "    pivot[\"Participación %\"] = 100 - pivot[\"Consultas - participación %\"]\n",
    "    pivot[\"Más de 4 - participación %\"] = pivot[\"Participación %\"] - (pivot[\"2 consultas - participación %\"]+pivot[\"3 consultas - participación %\"]+pivot[\"4 consultas - participación %\"])\n",
    "    pivot[\"Total de reconsultas\"] = pivot[2] + pivot[3] + pivot[4] + pivot[\"Más de 4 - Q afiliados\"]\n",
    "    pivot.rename(columns= {1: \"Consultas - Q afiliados\", 2: \"2 consultas - Q afiliados\", 3: \"3 consultas - Q afiliados\", 4: \"4 consultas - Q afiliados\", \"desc_pre_nombre\": \"Razon social\",\n",
    "    \"deno\": \"Especialidad\",\"id_pre_prestador\": \"Prestador\", \"edad_afiliado\": \"Promedio edad de afiliados\", \"CANTIDADORDENES0\": \"Total Consultas\" },inplace=True)    \n",
    "    pivot = pivot.sort_values(\"Participación %\", ascending=False).round(2)\n",
    "    pivot = pivot.reset_index(drop=True)\n",
    "    pivot = pivot[['Prestador', 'Razon social', 'Especialidad', 'Total Consultas',\n",
    "           'Promedio edad de afiliados', 'Consultas - Q afiliados','Consultas - participación %',\n",
    "           '2 consultas - Q afiliados', '2 consultas - participación %',\n",
    "           '3 consultas - Q afiliados', '3 consultas - participación %',\n",
    "           '4 consultas - Q afiliados',  '4 consultas - participación %',\n",
    "           'Más de 4 - Q afiliados',  'Más de 4 - participación %',\n",
    "           'Total de reconsultas','Participación %']]\n",
    "    \n",
    "    pivot.to_parquet(f'datos_consultas/{i}.gzip',compression='gzip') "
   ]
  },
  {
   "cell_type": "code",
   "execution_count": 53,
   "metadata": {},
   "outputs": [
    {
     "data": {
      "text/html": [
       "<div>\n",
       "<style scoped>\n",
       "    .dataframe tbody tr th:only-of-type {\n",
       "        vertical-align: middle;\n",
       "    }\n",
       "\n",
       "    .dataframe tbody tr th {\n",
       "        vertical-align: top;\n",
       "    }\n",
       "\n",
       "    .dataframe thead th {\n",
       "        text-align: right;\n",
       "    }\n",
       "</style>\n",
       "<table border=\"1\" class=\"dataframe\">\n",
       "  <thead>\n",
       "    <tr style=\"text-align: right;\">\n",
       "      <th></th>\n",
       "      <th>Prestador</th>\n",
       "      <th>Razon social</th>\n",
       "      <th>Especialidad</th>\n",
       "      <th>Total Consultas</th>\n",
       "      <th>Promedio edad de afiliados</th>\n",
       "      <th>Consultas - Q afiliados</th>\n",
       "      <th>Consultas - participación %</th>\n",
       "      <th>2 consultas - Q afiliados</th>\n",
       "      <th>2 consultas - participación %</th>\n",
       "      <th>3 consultas - Q afiliados</th>\n",
       "      <th>3 consultas - participación %</th>\n",
       "      <th>4 consultas - Q afiliados</th>\n",
       "      <th>4 consultas - participación %</th>\n",
       "      <th>Más de 4 - Q afiliados</th>\n",
       "      <th>Más de 4 - participación %</th>\n",
       "      <th>Total de reconsultas</th>\n",
       "      <th>Participación %</th>\n",
       "    </tr>\n",
       "  </thead>\n",
       "  <tbody>\n",
       "    <tr>\n",
       "      <th>0</th>\n",
       "      <td>172627</td>\n",
       "      <td>Ferro,Francisco E.</td>\n",
       "      <td>Gastroenterología Pediátrica</td>\n",
       "      <td>34</td>\n",
       "      <td>48.53</td>\n",
       "      <td>0.0</td>\n",
       "      <td>0.00</td>\n",
       "      <td>11.0</td>\n",
       "      <td>64.71</td>\n",
       "      <td>0.0</td>\n",
       "      <td>0.00</td>\n",
       "      <td>3.0</td>\n",
       "      <td>35.29</td>\n",
       "      <td>0.0</td>\n",
       "      <td>0.00</td>\n",
       "      <td>14.0</td>\n",
       "      <td>100.00</td>\n",
       "    </tr>\n",
       "    <tr>\n",
       "      <th>1</th>\n",
       "      <td>117056</td>\n",
       "      <td>Abeszyc,Daniel A.</td>\n",
       "      <td>Ginecología</td>\n",
       "      <td>54</td>\n",
       "      <td>51.94</td>\n",
       "      <td>1.0</td>\n",
       "      <td>1.85</td>\n",
       "      <td>25.0</td>\n",
       "      <td>92.59</td>\n",
       "      <td>1.0</td>\n",
       "      <td>5.56</td>\n",
       "      <td>0.0</td>\n",
       "      <td>0.00</td>\n",
       "      <td>0.0</td>\n",
       "      <td>0.00</td>\n",
       "      <td>26.0</td>\n",
       "      <td>98.15</td>\n",
       "    </tr>\n",
       "    <tr>\n",
       "      <th>2</th>\n",
       "      <td>56951</td>\n",
       "      <td>Koll,Norma E.</td>\n",
       "      <td>Dermatología</td>\n",
       "      <td>82</td>\n",
       "      <td>39.02</td>\n",
       "      <td>6.0</td>\n",
       "      <td>7.32</td>\n",
       "      <td>31.0</td>\n",
       "      <td>75.61</td>\n",
       "      <td>0.0</td>\n",
       "      <td>0.00</td>\n",
       "      <td>2.0</td>\n",
       "      <td>9.76</td>\n",
       "      <td>1.0</td>\n",
       "      <td>7.32</td>\n",
       "      <td>34.0</td>\n",
       "      <td>92.68</td>\n",
       "    </tr>\n",
       "    <tr>\n",
       "      <th>3</th>\n",
       "      <td>165835</td>\n",
       "      <td>Guarrera,Gladys L.</td>\n",
       "      <td>Pediatría</td>\n",
       "      <td>65</td>\n",
       "      <td>40.14</td>\n",
       "      <td>8.0</td>\n",
       "      <td>12.31</td>\n",
       "      <td>9.0</td>\n",
       "      <td>27.69</td>\n",
       "      <td>5.0</td>\n",
       "      <td>23.08</td>\n",
       "      <td>6.0</td>\n",
       "      <td>36.92</td>\n",
       "      <td>0.0</td>\n",
       "      <td>-0.00</td>\n",
       "      <td>20.0</td>\n",
       "      <td>87.69</td>\n",
       "    </tr>\n",
       "    <tr>\n",
       "      <th>4</th>\n",
       "      <td>136032</td>\n",
       "      <td>Bilbao Curutchet,Pablo</td>\n",
       "      <td>Pediatría</td>\n",
       "      <td>88</td>\n",
       "      <td>8.45</td>\n",
       "      <td>14.0</td>\n",
       "      <td>15.91</td>\n",
       "      <td>18.0</td>\n",
       "      <td>40.91</td>\n",
       "      <td>10.0</td>\n",
       "      <td>34.09</td>\n",
       "      <td>2.0</td>\n",
       "      <td>9.09</td>\n",
       "      <td>0.0</td>\n",
       "      <td>0.00</td>\n",
       "      <td>30.0</td>\n",
       "      <td>84.09</td>\n",
       "    </tr>\n",
       "    <tr>\n",
       "      <th>...</th>\n",
       "      <td>...</td>\n",
       "      <td>...</td>\n",
       "      <td>...</td>\n",
       "      <td>...</td>\n",
       "      <td>...</td>\n",
       "      <td>...</td>\n",
       "      <td>...</td>\n",
       "      <td>...</td>\n",
       "      <td>...</td>\n",
       "      <td>...</td>\n",
       "      <td>...</td>\n",
       "      <td>...</td>\n",
       "      <td>...</td>\n",
       "      <td>...</td>\n",
       "      <td>...</td>\n",
       "      <td>...</td>\n",
       "      <td>...</td>\n",
       "    </tr>\n",
       "    <tr>\n",
       "      <th>1452</th>\n",
       "      <td>70177</td>\n",
       "      <td>Martínez,Jorge A.</td>\n",
       "      <td>Cardiología</td>\n",
       "      <td>215</td>\n",
       "      <td>43.76</td>\n",
       "      <td>215.0</td>\n",
       "      <td>100.00</td>\n",
       "      <td>0.0</td>\n",
       "      <td>0.00</td>\n",
       "      <td>0.0</td>\n",
       "      <td>0.00</td>\n",
       "      <td>0.0</td>\n",
       "      <td>0.00</td>\n",
       "      <td>0.0</td>\n",
       "      <td>0.00</td>\n",
       "      <td>0.0</td>\n",
       "      <td>0.00</td>\n",
       "    </tr>\n",
       "    <tr>\n",
       "      <th>1453</th>\n",
       "      <td>210809</td>\n",
       "      <td>Bermejo,Irene G.</td>\n",
       "      <td>Dermatología</td>\n",
       "      <td>54</td>\n",
       "      <td>34.02</td>\n",
       "      <td>54.0</td>\n",
       "      <td>100.00</td>\n",
       "      <td>0.0</td>\n",
       "      <td>0.00</td>\n",
       "      <td>0.0</td>\n",
       "      <td>0.00</td>\n",
       "      <td>0.0</td>\n",
       "      <td>0.00</td>\n",
       "      <td>0.0</td>\n",
       "      <td>0.00</td>\n",
       "      <td>0.0</td>\n",
       "      <td>0.00</td>\n",
       "    </tr>\n",
       "    <tr>\n",
       "      <th>1454</th>\n",
       "      <td>24344</td>\n",
       "      <td>Manzitti,Julio</td>\n",
       "      <td>Oftalmología</td>\n",
       "      <td>41</td>\n",
       "      <td>16.37</td>\n",
       "      <td>41.0</td>\n",
       "      <td>100.00</td>\n",
       "      <td>0.0</td>\n",
       "      <td>0.00</td>\n",
       "      <td>0.0</td>\n",
       "      <td>0.00</td>\n",
       "      <td>0.0</td>\n",
       "      <td>0.00</td>\n",
       "      <td>0.0</td>\n",
       "      <td>0.00</td>\n",
       "      <td>0.0</td>\n",
       "      <td>0.00</td>\n",
       "    </tr>\n",
       "    <tr>\n",
       "      <th>1455</th>\n",
       "      <td>141087</td>\n",
       "      <td>Sánchez Voci,Christian P.</td>\n",
       "      <td>Cardiología Pediátrica</td>\n",
       "      <td>68</td>\n",
       "      <td>9.06</td>\n",
       "      <td>68.0</td>\n",
       "      <td>100.00</td>\n",
       "      <td>0.0</td>\n",
       "      <td>0.00</td>\n",
       "      <td>0.0</td>\n",
       "      <td>0.00</td>\n",
       "      <td>0.0</td>\n",
       "      <td>0.00</td>\n",
       "      <td>0.0</td>\n",
       "      <td>0.00</td>\n",
       "      <td>0.0</td>\n",
       "      <td>0.00</td>\n",
       "    </tr>\n",
       "    <tr>\n",
       "      <th>1456</th>\n",
       "      <td>68007</td>\n",
       "      <td>Diehl,Julio J.</td>\n",
       "      <td>Gastroenterología</td>\n",
       "      <td>51</td>\n",
       "      <td>47.63</td>\n",
       "      <td>51.0</td>\n",
       "      <td>100.00</td>\n",
       "      <td>0.0</td>\n",
       "      <td>0.00</td>\n",
       "      <td>0.0</td>\n",
       "      <td>0.00</td>\n",
       "      <td>0.0</td>\n",
       "      <td>0.00</td>\n",
       "      <td>0.0</td>\n",
       "      <td>0.00</td>\n",
       "      <td>0.0</td>\n",
       "      <td>0.00</td>\n",
       "    </tr>\n",
       "  </tbody>\n",
       "</table>\n",
       "<p>1457 rows × 17 columns</p>\n",
       "</div>"
      ],
      "text/plain": [
       "      Prestador               Razon social                  Especialidad  \\\n",
       "0        172627         Ferro,Francisco E.  Gastroenterología Pediátrica   \n",
       "1        117056          Abeszyc,Daniel A.                   Ginecología   \n",
       "2         56951              Koll,Norma E.                  Dermatología   \n",
       "3        165835         Guarrera,Gladys L.                     Pediatría   \n",
       "4        136032     Bilbao Curutchet,Pablo                     Pediatría   \n",
       "...         ...                        ...                           ...   \n",
       "1452      70177          Martínez,Jorge A.                   Cardiología   \n",
       "1453     210809           Bermejo,Irene G.                  Dermatología   \n",
       "1454      24344             Manzitti,Julio                  Oftalmología   \n",
       "1455     141087  Sánchez Voci,Christian P.        Cardiología Pediátrica   \n",
       "1456      68007             Diehl,Julio J.             Gastroenterología   \n",
       "\n",
       "      Total Consultas  Promedio edad de afiliados  Consultas - Q afiliados  \\\n",
       "0                  34                       48.53                      0.0   \n",
       "1                  54                       51.94                      1.0   \n",
       "2                  82                       39.02                      6.0   \n",
       "3                  65                       40.14                      8.0   \n",
       "4                  88                        8.45                     14.0   \n",
       "...               ...                         ...                      ...   \n",
       "1452              215                       43.76                    215.0   \n",
       "1453               54                       34.02                     54.0   \n",
       "1454               41                       16.37                     41.0   \n",
       "1455               68                        9.06                     68.0   \n",
       "1456               51                       47.63                     51.0   \n",
       "\n",
       "      Consultas - participación %  2 consultas - Q afiliados  \\\n",
       "0                            0.00                       11.0   \n",
       "1                            1.85                       25.0   \n",
       "2                            7.32                       31.0   \n",
       "3                           12.31                        9.0   \n",
       "4                           15.91                       18.0   \n",
       "...                           ...                        ...   \n",
       "1452                       100.00                        0.0   \n",
       "1453                       100.00                        0.0   \n",
       "1454                       100.00                        0.0   \n",
       "1455                       100.00                        0.0   \n",
       "1456                       100.00                        0.0   \n",
       "\n",
       "      2 consultas - participación %  3 consultas - Q afiliados  \\\n",
       "0                             64.71                        0.0   \n",
       "1                             92.59                        1.0   \n",
       "2                             75.61                        0.0   \n",
       "3                             27.69                        5.0   \n",
       "4                             40.91                       10.0   \n",
       "...                             ...                        ...   \n",
       "1452                           0.00                        0.0   \n",
       "1453                           0.00                        0.0   \n",
       "1454                           0.00                        0.0   \n",
       "1455                           0.00                        0.0   \n",
       "1456                           0.00                        0.0   \n",
       "\n",
       "      3 consultas - participación %  4 consultas - Q afiliados  \\\n",
       "0                              0.00                        3.0   \n",
       "1                              5.56                        0.0   \n",
       "2                              0.00                        2.0   \n",
       "3                             23.08                        6.0   \n",
       "4                             34.09                        2.0   \n",
       "...                             ...                        ...   \n",
       "1452                           0.00                        0.0   \n",
       "1453                           0.00                        0.0   \n",
       "1454                           0.00                        0.0   \n",
       "1455                           0.00                        0.0   \n",
       "1456                           0.00                        0.0   \n",
       "\n",
       "      4 consultas - participación %  Más de 4 - Q afiliados  \\\n",
       "0                             35.29                     0.0   \n",
       "1                              0.00                     0.0   \n",
       "2                              9.76                     1.0   \n",
       "3                             36.92                     0.0   \n",
       "4                              9.09                     0.0   \n",
       "...                             ...                     ...   \n",
       "1452                           0.00                     0.0   \n",
       "1453                           0.00                     0.0   \n",
       "1454                           0.00                     0.0   \n",
       "1455                           0.00                     0.0   \n",
       "1456                           0.00                     0.0   \n",
       "\n",
       "      Más de 4 - participación %  Total de reconsultas  Participación %  \n",
       "0                           0.00                  14.0           100.00  \n",
       "1                           0.00                  26.0            98.15  \n",
       "2                           7.32                  34.0            92.68  \n",
       "3                          -0.00                  20.0            87.69  \n",
       "4                           0.00                  30.0            84.09  \n",
       "...                          ...                   ...              ...  \n",
       "1452                        0.00                   0.0             0.00  \n",
       "1453                        0.00                   0.0             0.00  \n",
       "1454                        0.00                   0.0             0.00  \n",
       "1455                        0.00                   0.0             0.00  \n",
       "1456                        0.00                   0.0             0.00  \n",
       "\n",
       "[1457 rows x 17 columns]"
      ]
     },
     "execution_count": 53,
     "metadata": {},
     "output_type": "execute_result"
    }
   ],
   "source": [
    "pivot"
   ]
  },
  {
   "cell_type": "code",
   "execution_count": 3,
   "metadata": {},
   "outputs": [],
   "source": [
    "fechas = [i for i in os.listdir('datos_consultas/') if len(i) == 12]\n",
    "completo = pd.DataFrame()\n",
    "for i in fechas:\n",
    "    completo = pd.concat([completo, pd.read_parquet(f'datos_consultas/{i}')])"
   ]
  },
  {
   "cell_type": "code",
   "execution_count": 4,
   "metadata": {},
   "outputs": [
    {
     "data": {
      "text/plain": [
       "2108"
      ]
     },
     "execution_count": 4,
     "metadata": {},
     "output_type": "execute_result"
    }
   ],
   "source": [
    "\n",
    "completo.Prestador.nunique()"
   ]
  },
  {
   "cell_type": "code",
   "execution_count": 7,
   "metadata": {},
   "outputs": [],
   "source": [
    "pd.Series(completo.Prestador.unique()).to_csv(\"prestadores_unicos_consultas.csv\")"
   ]
  },
  {
   "cell_type": "code",
   "execution_count": null,
   "metadata": {},
   "outputs": [],
   "source": []
  }
 ],
 "metadata": {
  "kernelspec": {
   "display_name": "Python 3",
   "language": "python",
   "name": "python3"
  },
  "language_info": {
   "codemirror_mode": {
    "name": "ipython",
    "version": 3
   },
   "file_extension": ".py",
   "mimetype": "text/x-python",
   "name": "python",
   "nbconvert_exporter": "python",
   "pygments_lexer": "ipython3",
   "version": "3.7.6"
  }
 },
 "nbformat": 4,
 "nbformat_minor": 4
}
