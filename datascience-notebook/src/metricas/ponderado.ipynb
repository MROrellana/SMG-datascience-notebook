{
 "cells": [
  {
   "cell_type": "code",
   "execution_count": 183,
   "metadata": {},
   "outputs": [],
   "source": [
    "import numpy as np\n",
    "import pandas as pd\n",
    "pd.set_option('mode.chained_assignment', None)\n",
    "import datetime\n",
    "import os"
   ]
  },
  {
   "cell_type": "code",
   "execution_count": 184,
   "metadata": {},
   "outputs": [],
   "source": [
    "from dbconn import querydb, querydbtopandas"
   ]
  },
  {
   "cell_type": "code",
   "execution_count": 185,
   "metadata": {},
   "outputs": [],
   "source": [
    "prestadores = querydbtopandas(\"\"\"select id_pre_prestador,  desc_pre_nombre, Q.deno  \n",
    "                    from dba.d_pre_prestador a12\n",
    "                    LEFT JOIN dba.prestad_costo_centros E\n",
    "                    ON a12.id_pre_prestador = E.prestad and E.baja_fecha is null and e.prepaga = ( select min(PCC1.prepaga) from dba.prestad_costo_centros PCC1 where PCC1.prestad =  e.prestad )   \n",
    "                    LEFT JOIN dba.costo_centros Q\n",
    "                    ON E.centro = Q.centro\"\"\")"
   ]
  },
  {
   "cell_type": "code",
   "execution_count": 186,
   "metadata": {},
   "outputs": [
    {
     "data": {
      "text/plain": [
       "314479"
      ]
     },
     "execution_count": 186,
     "metadata": {},
     "output_type": "execute_result"
    }
   ],
   "source": [
    "len(prestadores)"
   ]
  },
  {
   "cell_type": "code",
   "execution_count": 187,
   "metadata": {},
   "outputs": [
    {
     "data": {
      "text/plain": [
       "96307"
      ]
     },
     "execution_count": 187,
     "metadata": {},
     "output_type": "execute_result"
    }
   ],
   "source": [
    "# 96 mil no tienen especialidad\n",
    "len(prestadores[prestadores[\"deno\"].isna()])"
   ]
  },
  {
   "cell_type": "code",
   "execution_count": 188,
   "metadata": {},
   "outputs": [],
   "source": [
    "prestadores = prestadores[prestadores[\"deno\"].notna()]"
   ]
  },
  {
   "cell_type": "code",
   "execution_count": 189,
   "metadata": {},
   "outputs": [
    {
     "data": {
      "text/plain": [
       "123"
      ]
     },
     "execution_count": 189,
     "metadata": {},
     "output_type": "execute_result"
    }
   ],
   "source": [
    "prestadores.deno.nunique()"
   ]
  },
  {
   "cell_type": "code",
   "execution_count": 190,
   "metadata": {},
   "outputs": [],
   "source": [
    "def calculo_scores (fecha, prestadores_):\n",
    "    tabla_scores = pd.DataFrame(columns = [\"prestador\", \"score\", \"mes\"])\n",
    "\n",
    "    calificaciones = pd.read_parquet(f'datos_calificaciones/{fecha}', columns = [\"Prestador\", \"Promedio total\"]) \n",
    "    calificaciones[\"Promedio total\"] = 1 - (calificaciones[\"Promedio total\"] * 0.2)\n",
    "\n",
    "    cirugias = pd.read_parquet(f'datos_cirugias/{fecha}',columns = [\"Prestador\", \"% en Propias\"]) \n",
    "    cirugias[\"% no Propias\"] = 1 - cirugias[\"% en Propias\"]\n",
    "    cirugias.drop(\"% en Propias\",axis=1, inplace=True)\n",
    "\n",
    "    consultas = pd.read_parquet(f'datos_consultas/{fecha}',columns = [\"Prestador\", \"Participación %\"]) \n",
    "    consultas[\"Participación %\"] = consultas[\"Participación %\"]/ 100\n",
    "\n",
    "    desconocimiento = pd.read_parquet(f'datos_desconocimiento/{fecha}',columns = [\"Prestador\",\"Q afiliados\"]) \n",
    "\n",
    "    farmacia = pd.read_parquet(f'datos_farmacia/{fecha}', columns = [\"N° Prestador\",\"desvios de la media de su sp\"])\n",
    "    farmacia.rename(columns={\"N° Prestador\": \"Prestador\"},inplace=True)\n",
    "\n",
    "    imagenes =  pd.DataFrame(pd.read_parquet(f'datos_imagenes/{fecha}', columns = [\"N° Prescriptor\", \"Normalidad\"]))\n",
    "    imagenes.rename(columns={\"N° Prescriptor\": \"Prestador\"},inplace=True)\n",
    "\n",
    "    quejas = pd.DataFrame(pd.read_parquet(f'datos_quejas/{fecha}', columns = [\"Prestador\", \"Total de quejas prestador\"]))\n",
    "\n",
    "    metricas = [calificaciones, cirugias, consultas, farmacia, imagenes, desconocimiento, quejas]\n",
    "    ponderacion = pd.DataFrame(index = [\"calificaciones\", \"cirugias\", \"consultas\", \"farmacia\", \"imagenes\", \"desconocimiento\", \"quejas\"],\n",
    "             data = [2,5,5,3,3,4,3], columns = [\"ponderacion\"])\n",
    "\n",
    "    dict_metricas = {\"calificaciones\": calificaciones,\n",
    "                        \"cirugias\": cirugias ,\n",
    "                        \"consultas\":consultas ,\n",
    "                        \"farmacia\":farmacia ,\n",
    "                        \"imagenes\": imagenes ,\n",
    "                        \"desconocimiento\": desconocimiento ,\n",
    "                        \"quejas\": quejas}\n",
    "\n",
    "    for prestador in prestadores_: \n",
    "        mask = []\n",
    "        for metrica in metricas: \n",
    "            mask.append(prestador in metrica.Prestador.values)\n",
    "        tabla_prestador = ponderacion[mask]\n",
    "        values = []\n",
    "        for metrica in tabla_prestador.index:\n",
    "            values.append(dict_metricas[metrica][dict_metricas[metrica][\"Prestador\"] == prestador].values[0][1])\n",
    "        tabla_prestador[\"scores\"] = values\n",
    "\n",
    "        #para desconocimiento\n",
    "        if \"desconocimiento\" in tabla_prestador.index:\n",
    "            if tabla_prestador.loc[\"desconocimiento\", \"scores\"]  <= 2:\n",
    "                tabla_prestador.loc[\"desconocimiento\", \"scores\"] = 0\n",
    "            elif (tabla_prestador.loc[\"desconocimiento\", \"scores\"] > 2) & (tabla_prestador.loc[\"desconocimiento\", \"scores\"] <= 6) :\n",
    "                tabla_prestador.loc[\"desconocimiento\", \"scores\"] = 0.5\n",
    "            elif tabla_prestador.loc[\"desconocimiento\", \"scores\"]  > 6:\n",
    "                tabla_prestador.loc[\"desconocimiento\", \"scores\"] = 1\n",
    "\n",
    "        #para farmacia\n",
    "        if \"farmacia\" in tabla_prestador.index:\n",
    "            if tabla_prestador.loc[\"farmacia\", \"scores\"]  <= 1:\n",
    "                tabla_prestador.loc[\"farmacia\", \"scores\"]= 0\n",
    "            elif (tabla_prestador.loc[\"farmacia\", \"scores\"] > 1) & (tabla_prestador.loc[\"farmacia\", \"scores\"] <= 2) :\n",
    "                tabla_prestador.loc[\"farmacia\", \"scores\"]= 0.5\n",
    "            elif tabla_prestador.loc[\"farmacia\", \"scores\"]  > 2:\n",
    "                tabla_prestador.loc[\"farmacia\", \"scores\"]= 1\n",
    "\n",
    "        # para quejas\n",
    "        if \"quejas\" in tabla_prestador.index:\n",
    "            if tabla_prestador.loc[\"quejas\", \"scores\"] <= 1:\n",
    "                tabla_prestador.loc[\"quejas\", \"scores\"]= 0\n",
    "            elif tabla_prestador.loc[\"quejas\", \"scores\"]  == 2:\n",
    "                tabla_prestador.loc[\"quejas\", \"scores\"]= 0.5\n",
    "            elif tabla_prestador.loc[\"quejas\", \"scores\"]  > 2:\n",
    "                tabla_prestador.loc[\"quejas\", \"scores\"] = 1\n",
    "\n",
    "        if len(tabla_prestador) == 0:\n",
    "            score = np.nan \n",
    "        else:\n",
    "\n",
    "            if \"desconocimiento\" not in tabla_prestador.index:\n",
    "                tabla_prestador = tabla_prestador.append(pd.DataFrame({\"ponderacion\": [4], \"scores\":[0]}, index = [\"desconocimiento\"]))\n",
    "            if \"quejas\" not in tabla_prestador.index:\n",
    "                tabla_prestador = tabla_prestador.append(pd.DataFrame({\"ponderacion\": [3],\"scores\":[0]}, index = [\"quejas\"]))\n",
    "\n",
    "            tabla_prestador[\"score_pond\"] = (tabla_prestador[\"ponderacion\"] * 100) /tabla_prestador.ponderacion.sum()\n",
    "\n",
    "            tabla_prestador[\"score_prestador\"]  =  tabla_prestador[\"scores\"] * tabla_prestador[\"score_pond\"]\n",
    "            score = tabla_prestador[\"score_pond\"].sum() - tabla_prestador[\"score_prestador\"].sum() \n",
    "\n",
    "        tabla_scores = tabla_scores.append({\"prestador\": prestador, \"score\": score, \"mes\": fecha[:7]}, ignore_index= True)  \n",
    "    return tabla_scores"
   ]
  },
  {
   "cell_type": "code",
   "execution_count": 191,
   "metadata": {},
   "outputs": [],
   "source": [
    "prestadores_ = prestadores.id_pre_prestador.tolist()\n",
    "fecha = '2019-10.gzip'"
   ]
  },
  {
   "cell_type": "code",
   "execution_count": 193,
   "metadata": {},
   "outputs": [],
   "source": [
    "scores = calculo_scores(fecha, prestadores_)"
   ]
  },
  {
   "cell_type": "code",
   "execution_count": 197,
   "metadata": {},
   "outputs": [],
   "source": [
    "scores = scores.dropna()"
   ]
  },
  {
   "cell_type": "code",
   "execution_count": 199,
   "metadata": {},
   "outputs": [],
   "source": [
    "scores.to_parquet(\"scores/2019-10.gzip\", compression = \"gzip\")"
   ]
  },
  {
   "cell_type": "code",
   "execution_count": 9,
   "metadata": {},
   "outputs": [],
   "source": [
    "fechas = [i for i in os.listdir('datos_consultas/') if len(i) == 12]\n",
    "fechas.sort()"
   ]
  },
  {
   "cell_type": "code",
   "execution_count": 14,
   "metadata": {},
   "outputs": [],
   "source": [
    "#me quedo solo con ciertos meses que son en los que interseccionan las metricas, que se caclulan con 3 meses de atraso y las que no \n",
    "fechas = fechas[2:]"
   ]
  },
  {
   "cell_type": "code",
   "execution_count": 119,
   "metadata": {},
   "outputs": [],
   "source": [
    "for fecha in fechas[:-1]:\n",
    "    scores = calculo_scores(fecha, prestadores.id_pre_prestador.tolist()[:100])\n",
    "    scores = scores.dropna()\n",
    "    #scores.to_parquet(f'scores/{fecha}',compression='gzip')  "
   ]
  },
  {
   "cell_type": "code",
   "execution_count": 16,
   "metadata": {},
   "outputs": [
    {
     "ename": "NameError",
     "evalue": "name 'scores' is not defined",
     "output_type": "error",
     "traceback": [
      "\u001b[0;31m---------------------------------------------------------------------------\u001b[0m",
      "\u001b[0;31mNameError\u001b[0m                                 Traceback (most recent call last)",
      "\u001b[0;32m<ipython-input-16-80a5a95e0288>\u001b[0m in \u001b[0;36m<module>\u001b[0;34m\u001b[0m\n\u001b[1;32m      1\u001b[0m \u001b[0;32mimport\u001b[0m \u001b[0mseaborn\u001b[0m \u001b[0;32mas\u001b[0m \u001b[0msns\u001b[0m\u001b[0;34m\u001b[0m\u001b[0;34m\u001b[0m\u001b[0m\n\u001b[0;32m----> 2\u001b[0;31m \u001b[0msns\u001b[0m\u001b[0;34m.\u001b[0m\u001b[0mheatmap\u001b[0m\u001b[0;34m(\u001b[0m\u001b[0mscores\u001b[0m\u001b[0;34m.\u001b[0m\u001b[0misna\u001b[0m\u001b[0;34m(\u001b[0m\u001b[0;34m)\u001b[0m\u001b[0;34m)\u001b[0m\u001b[0;34m\u001b[0m\u001b[0;34m\u001b[0m\u001b[0m\n\u001b[0m",
      "\u001b[0;31mNameError\u001b[0m: name 'scores' is not defined"
     ]
    }
   ],
   "source": [
    "import seaborn as sns\n",
    "sns.heatmap(scores.isna())"
   ]
  },
  {
   "cell_type": "code",
   "execution_count": 20,
   "metadata": {},
   "outputs": [
    {
     "data": {
      "text/plain": [
       "prestador         0\n",
       "score        160327\n",
       "mes               0\n",
       "dtype: int64"
      ]
     },
     "execution_count": 20,
     "metadata": {},
     "output_type": "execute_result"
    }
   ],
   "source": [
    "scores.isna().sum()"
   ]
  },
  {
   "cell_type": "code",
   "execution_count": 22,
   "metadata": {},
   "outputs": [
    {
     "data": {
      "text/plain": [
       "218137"
      ]
     },
     "execution_count": 22,
     "metadata": {},
     "output_type": "execute_result"
    }
   ],
   "source": [
    "len(prestadores.id_pre_prestador.tolist())"
   ]
  },
  {
   "cell_type": "code",
   "execution_count": null,
   "metadata": {},
   "outputs": [],
   "source": []
  },
  {
   "cell_type": "code",
   "execution_count": null,
   "metadata": {},
   "outputs": [],
   "source": []
  }
 ],
 "metadata": {
  "kernelspec": {
   "display_name": "Python 3",
   "language": "python",
   "name": "python3"
  },
  "language_info": {
   "codemirror_mode": {
    "name": "ipython",
    "version": 3
   },
   "file_extension": ".py",
   "mimetype": "text/x-python",
   "name": "python",
   "nbconvert_exporter": "python",
   "pygments_lexer": "ipython3",
   "version": "3.7.6"
  }
 },
 "nbformat": 4,
 "nbformat_minor": 4
}
