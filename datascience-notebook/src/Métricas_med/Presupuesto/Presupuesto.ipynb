{
 "cells": [
  {
   "cell_type": "code",
   "execution_count": 7,
   "metadata": {},
   "outputs": [],
   "source": [
    "from dbconn_base2 import querydb, querydbtopandas \n",
    "import pandas as pd "
   ]
  },
  {
   "cell_type": "code",
   "execution_count": 8,
   "metadata": {},
   "outputs": [],
   "source": [
    "#con esto veo el mes 11\n",
    "menor = \"2019-07-01\"\n",
    "mayor = \"2019-12-30\""
   ]
  },
  {
   "cell_type": "code",
   "execution_count": 46,
   "metadata": {},
   "outputs": [],
   "source": [
    "df = querydbtopandas(f\"\"\"SELECT DISTINCT\n",
    "    pln.deno_prov AS provincia,\n",
    "    cpe.prestad prestador,\n",
    "    pre.ape_razon AS prestador_nombre, \n",
    "    afilmed.dbo.afn_ape_nom_afilmed_de_presmed (cpe.contra, cpe.inte , null, 'S') afiliado,\n",
    "    afilmed.dbo.afn_contra_afilmed_de_presmed(cpe.contra) + afilmed.dbo.afn_inte_de_presmed(cpe.inte) contra,\n",
    "    cpe.ambu_inter,\n",
    "    cpe.prestac ,\n",
    "    prestac.nombre prestacion_nombre,\n",
    "    prestac.sinonimo prestacion_sinonimo,\n",
    "    prestac.complejidad complejidad,\n",
    "    cpe.cantidad ,\n",
    "    con.deno AS concepto,\n",
    "    valor_referencia, \n",
    "    valor_presupuestado, \n",
    "    valor_excepcion, \n",
    "    valor_liqui,\n",
    "    mon.descri AS moneda ,\n",
    "    cpe.fecha_vig,\n",
    "    CONVERT(CHAR(10), cpe.fecha_vig, 3) ||' - '||CONVERT(CHAR(10), cpe.fecha_fin_vig, 3) AS vigencia_desde_hasta,\n",
    "    cpe.obser , \n",
    "    cpe.conve_excep    \n",
    "    \n",
    "      FROM conve_prestaciones_exc cpe\n",
    "      INNER JOIN prestad_lugares pl ON cpe.prestad = pl.prestad \n",
    "       AND cpe.lugar = pl.lugar \n",
    "       AND cpe.baja_fecha is null\n",
    "      INNER JOIN prestad_lugares_norm pln ON cpe.prestad = pln.prestad \n",
    "       AND cpe.lugar = pln.lugar  \n",
    "      INNER JOIN zgeo_zona_localidad zzl ON zzl.loca = pln.cod_loca\n",
    "      INNER JOIN prestadores pre ON cpe.prestad = pre.prestad\n",
    "      LEFT  JOIN conve_valores_exc cve ON cpe.conve_excep = cve.conve_excep\n",
    "       AND cve.baja_fecha is null \n",
    "      LEFT JOIN conceptos con ON cve.concep = con.concep\n",
    "      LEFT JOIN moneda mon ON cve.moneda = mon.moneda\n",
    "      LEFT JOIN motivos_exc mot ON mot.id_motivo = cve.id_motivo \n",
    "      \n",
    "      LEFT JOIN v_nom_prestacion_version_vig prestac ON cpe.prestac = prestac.codigoAsignado\n",
    "      \n",
    "      WHERE (cpe.fecha_vig >= (\"{menor}\") AND cpe.fecha_vig <= (\"{mayor}\"))\"\"\")"
   ]
  },
  {
   "cell_type": "code",
   "execution_count": 47,
   "metadata": {},
   "outputs": [
    {
     "data": {
      "text/plain": [
       "2161"
      ]
     },
     "execution_count": 47,
     "metadata": {},
     "output_type": "execute_result"
    }
   ],
   "source": [
    "len(df)  #2161 "
   ]
  },
  {
   "cell_type": "code",
   "execution_count": 24,
   "metadata": {},
   "outputs": [],
   "source": [
    "q_excepciones = df.groupby([\"prestador\", \"prestador_nombre\"])[\"cantidad\"].sum()"
   ]
  },
  {
   "cell_type": "code",
   "execution_count": 25,
   "metadata": {},
   "outputs": [],
   "source": [
    "q_afiliados =  df.groupby([\"prestador\", \"prestador_nombre\"])[\"afiliado\"].nunique()"
   ]
  },
  {
   "cell_type": "code",
   "execution_count": 26,
   "metadata": {},
   "outputs": [],
   "source": [
    "valor_presupuestado =  df.groupby([\"prestador\", \"prestador_nombre\"])[\"valor_presupuestado\"].sum()"
   ]
  },
  {
   "cell_type": "code",
   "execution_count": 27,
   "metadata": {},
   "outputs": [],
   "source": [
    "valor_excepcion =  df.groupby([\"prestador\", \"prestador_nombre\"])[\"valor_excepcion\"].sum()"
   ]
  },
  {
   "cell_type": "code",
   "execution_count": 28,
   "metadata": {},
   "outputs": [],
   "source": [
    "valor_liqui =  df.groupby([\"prestador\", \"prestador_nombre\"])[\"valor_liqui\"].sum()"
   ]
  },
  {
   "cell_type": "code",
   "execution_count": 29,
   "metadata": {},
   "outputs": [],
   "source": [
    "final = pd.concat([q_excepciones,q_afiliados,valor_presupuestado,valor_excepcion,valor_liqui],axis=1).reset_index()"
   ]
  },
  {
   "cell_type": "code",
   "execution_count": 30,
   "metadata": {},
   "outputs": [],
   "source": [
    "final = final.sort_values(by= \"cantidad\",ascending= False)"
   ]
  },
  {
   "cell_type": "code",
   "execution_count": 31,
   "metadata": {},
   "outputs": [],
   "source": [
    "final.reset_index(drop=True, inplace=True)"
   ]
  },
  {
   "cell_type": "code",
   "execution_count": null,
   "metadata": {},
   "outputs": [],
   "source": []
  },
  {
   "cell_type": "code",
   "execution_count": 37,
   "metadata": {},
   "outputs": [
    {
     "data": {
      "text/plain": [
       "prestador              True\n",
       "prestador_nombre       True\n",
       "cantidad               True\n",
       "afiliado               True\n",
       "valor_presupuestado    True\n",
       "valor_excepcion        True\n",
       "valor_liqui            True\n",
       "dtype: bool"
      ]
     },
     "execution_count": 37,
     "metadata": {},
     "output_type": "execute_result"
    }
   ],
   "source": [
    "(pd.read_csv(\"correcto.csv\", index_col=0).round(2) == final.round(2)).all()"
   ]
  },
  {
   "cell_type": "code",
   "execution_count": null,
   "metadata": {},
   "outputs": [],
   "source": []
  }
 ],
 "metadata": {
  "kernelspec": {
   "display_name": "Python 3",
   "language": "python",
   "name": "python3"
  },
  "language_info": {
   "codemirror_mode": {
    "name": "ipython",
    "version": 3
   },
   "file_extension": ".py",
   "mimetype": "text/x-python",
   "name": "python",
   "nbconvert_exporter": "python",
   "pygments_lexer": "ipython3",
   "version": "3.7.6"
  }
 },
 "nbformat": 4,
 "nbformat_minor": 4
}
